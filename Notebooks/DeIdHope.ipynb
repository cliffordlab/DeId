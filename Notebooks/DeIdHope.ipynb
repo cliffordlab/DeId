{
 "cells": [
  {
   "cell_type": "markdown",
   "metadata": {},
   "source": [
    "# modified the following files before using this notebook: train.py neuroner.py evaluate.py"
   ]
  },
  {
   "cell_type": "code",
   "execution_count": 1061,
   "metadata": {},
   "outputs": [],
   "source": [
    "import numpy as np\n",
    "import matplotlib.pyplot as plt\n",
    "import random"
   ]
  },
  {
   "cell_type": "code",
   "execution_count": 1640,
   "metadata": {},
   "outputs": [
    {
     "data": {
      "text/plain": [
       "((263,), (263,))"
      ]
     },
     "execution_count": 1640,
     "metadata": {},
     "output_type": "execute_result"
    }
   ],
   "source": [
    "OxA=np.load(\"NeuroNER-master/src/SalmanTest/Mr1mainSalmanUnary_scorestest.npy\")#Emomy3mainSalmanUnary_scorestest.npy\")\n",
    "#OxB=np.load(\"NeuroNER-master/src/SalmanTest/myx10mainSalmanPredtest.npy\")\n",
    "OxC=np.load(\"NeuroNER-master/src/SalmanTest/Mr1mainSalmanCCCtest.npy\")#Emomy3mainSalmanCCCtest.npy\")\n",
    "#Oxti=np.load(\"NeuroNER-master/src/SalmanTest/myx10ti.npy\")\n",
    "#Oxchi=np.load(\"NeuroNER-master/src/SalmanTest/myx10chi.npy\")\n",
    "#Oxtl=np.load(\"NeuroNER-master/src/SalmanTest/myx10tl.npy\")\n",
    "#Oxlvi=np.load(\"NeuroNER-master/src/SalmanTest/myx10lvi.npy\")\n",
    "\n",
    "OxC.shape,aOxA.shape#,Oxti.shape,Oxchi.shape,Oxtl.shape,Oxlvi.shape\n"
   ]
  },
  {
   "cell_type": "code",
   "execution_count": 507,
   "metadata": {},
   "outputs": [
    {
     "data": {
      "text/plain": [
       "((81511,), (81511,), (81511,), (81511,), (81511,), (81511,))"
      ]
     },
     "execution_count": 507,
     "metadata": {},
     "output_type": "execute_result"
    }
   ],
   "source": [
    "OA=np.load(\"NeuroNER-master/src/SalmanTest/1line_manyMax/myx1mainSalmanUnary_scorestest.npy\")\n",
    "#OB=np.load(\"NeuroNER-master/src/SalmanTest/1line_manyMax/myx1mainSalmanPredtest.npy\")\n",
    "OC=np.load(\"NeuroNER-master/src/SalmanTest/1line_manyMax/myx1mainSalmanCCCtest.npy\")\n",
    "#Oti=np.load(\"NeuroNER-master/src/SalmanTest/1line_manyMax/myx1ti.npy\")\n",
    "#Ochi=np.load(\"NeuroNER-master/src/SalmanTest/1line_manyMax/myx1chi.npy\")\n",
    "#Otl=np.load(\"NeuroNER-master/src/SalmanTest/1line_manyMax/myx1tl.npy\")\n",
    "#Olvi=np.load(\"NeuroNER-master/src/SalmanTest/1line_manyMax/myx1lvi.npy\")\n",
    "\n",
    "OC.shape,OA.shape#,Oti.shape,Ochi.shape,Otl.shape,Olvi.shape"
   ]
  },
  {
   "cell_type": "code",
   "execution_count": 2,
   "metadata": {},
   "outputs": [],
   "source": [
    "OA3=np.load(\"NeuroNER-master/src/SalmanTest/1line_manyMax/myx3mainSalmanUnary_scorestest.npy\")\n",
    "#OB3=np.load(\"NeuroNER-master/src/SalmanTest/1line_manyMax/myx3mainSalmanPredtest.npy\")\n",
    "OC3=np.load(\"NeuroNER-master/src/SalmanTest/1line_manyMax/myx3mainSalmanCCCtest.npy\")"
   ]
  },
  {
   "cell_type": "code",
   "execution_count": 571,
   "metadata": {},
   "outputs": [],
   "source": [
    "#Oxti=Oxchi=Oxtl=Oxlvi=OxB=OB=Oti=Ochi=Otl=Olvi=OB3=0"
   ]
  },
  {
   "cell_type": "code",
   "execution_count": 577,
   "metadata": {},
   "outputs": [],
   "source": [
    "OA4=np.load(\"NeuroNER-master/src/SalmanTest/1line_manyMax/myx4mainSalmanUnary_scorestest.npy\")\n",
    "OC4=np.load(\"NeuroNER-master/src/SalmanTest/1line_manyMax/myx4mainSalmanCCCtest.npy\")"
   ]
  },
  {
   "cell_type": "code",
   "execution_count": 618,
   "metadata": {},
   "outputs": [],
   "source": [
    "OA5=np.load(\"NeuroNER-master/src/SalmanTest/1line_manyMax/myx5mainSalmanUnary_scorestest.npy\")\n",
    "OC5=np.load(\"NeuroNER-master/src/SalmanTest/1line_manyMax/myx5mainSalmanCCCtest.npy\")"
   ]
  },
  {
   "cell_type": "code",
   "execution_count": 29,
   "metadata": {},
   "outputs": [],
   "source": [
    "OA6=np.load(\"NeuroNER-master/src/SalmanTest/1line_manyMax/myx6mainSalmanUnary_scorestest.npy\")\n",
    "OC6=np.load(\"NeuroNER-master/src/SalmanTest/1line_manyMax/myx6mainSalmanCCCtest.npy\")"
   ]
  },
  {
   "cell_type": "code",
   "execution_count": 18,
   "metadata": {},
   "outputs": [],
   "source": [
    "OA7=np.load(\"NeuroNER-master/src/SalmanTest/1line_manyMax/myx7mainSalmanUnary_scorestest.npy\")\n",
    "OC7=np.load(\"NeuroNER-master/src/SalmanTest/1line_manyMax/myx7mainSalmanCCCtest.npy\")"
   ]
  },
  {
   "cell_type": "code",
   "execution_count": null,
   "metadata": {},
   "outputs": [],
   "source": []
  },
  {
   "cell_type": "code",
   "execution_count": null,
   "metadata": {},
   "outputs": [],
   "source": []
  },
  {
   "cell_type": "code",
   "execution_count": 271,
   "metadata": {},
   "outputs": [
    {
     "name": "stdout",
     "output_type": "stream",
     "text": [
      "37\n"
     ]
    }
   ],
   "source": [
    "for i in range(len(TEMP)):\n",
    "    if(len(TEMP[i]))==9:\n",
    "        print(i)"
   ]
  },
  {
   "cell_type": "code",
   "execution_count": 272,
   "metadata": {},
   "outputs": [
    {
     "data": {
      "text/plain": [
       "[69, 85, 69, 69, 69, 69, 69, 69, 69]"
      ]
     },
     "execution_count": 272,
     "metadata": {},
     "output_type": "execute_result"
    }
   ],
   "source": [
    "TEMP[37]"
   ]
  },
  {
   "cell_type": "code",
   "execution_count": 333,
   "metadata": {},
   "outputs": [],
   "source": [
    "xwOA=np.load(\"NeuroNER-master/src/SalmanTest/1line_manyMax/xmainSalmanUnary_scorestest.npy\")\n",
    "xwOC=np.load(\"NeuroNER-master/src/SalmanTest/1line_manyMax/xmainSalmanCCCtest.npy\")"
   ]
  },
  {
   "cell_type": "code",
   "execution_count": 270,
   "metadata": {},
   "outputs": [
    {
     "data": {
      "text/plain": [
       "9"
      ]
     },
     "execution_count": 270,
     "metadata": {},
     "output_type": "execute_result"
    }
   ],
   "source": [
    "len(InTxtOC[0])"
   ]
  },
  {
   "cell_type": "code",
   "execution_count": 5,
   "metadata": {},
   "outputs": [],
   "source": [
    "xmask = np.ones(len(OxA), dtype=bool)\n",
    "for i in range(len(OxB)):\n",
    "    if OxB[i].shape[0]==1:\n",
    "        #print(i)\n",
    "        xmask[[i]]=False"
   ]
  },
  {
   "cell_type": "code",
   "execution_count": 34,
   "metadata": {},
   "outputs": [],
   "source": [
    "mask = np.ones(len(OA), dtype=bool)\n",
    "for i in range(len(OB)):\n",
    "    if OB[i].shape[0]==1:\n",
    "        #print(i)\n",
    "        mask[[i]]=False"
   ]
  },
  {
   "cell_type": "code",
   "execution_count": 7,
   "metadata": {},
   "outputs": [],
   "source": [
    "xmask[[63707]]=False"
   ]
  },
  {
   "cell_type": "code",
   "execution_count": 39,
   "metadata": {},
   "outputs": [],
   "source": [
    "mask[[761,41376,58695]]=False"
   ]
  },
  {
   "cell_type": "code",
   "execution_count": 4,
   "metadata": {},
   "outputs": [],
   "source": [
    "for i in range(len(OxA)):\n",
    "    if OxB[i].shape[0]==18 or OxB[i].shape[0]==17:\n",
    "        xmask[[i]]=False"
   ]
  },
  {
   "cell_type": "code",
   "execution_count": 31,
   "metadata": {},
   "outputs": [],
   "source": [
    "xmask = np.ones(len(OxA), dtype=bool)\n",
    "for i in range(len(OxB)):\n",
    "    if OxB[i].shape[0]==1 or OxB[i].shape[0]==5:\n",
    "        #print(i)\n",
    "        xmask[[i]]=False"
   ]
  },
  {
   "cell_type": "code",
   "execution_count": 9,
   "metadata": {},
   "outputs": [],
   "source": [
    "xmask = np.ones(len(OxA), dtype=bool)\n",
    "for i in range(len(OxB)):\n",
    "    if OxB[i].shape[0]==4:\n",
    "        xmask[[i]]=False"
   ]
  },
  {
   "cell_type": "code",
   "execution_count": 6,
   "metadata": {},
   "outputs": [],
   "source": [
    "xmask = np.ones(len(OxA), dtype=bool)\n",
    "for i in range(len(OxA)):\n",
    "    if OxA[i].shape[0]<=3:\n",
    "        xmask[[i]]=False"
   ]
  },
  {
   "cell_type": "code",
   "execution_count": 7,
   "metadata": {},
   "outputs": [],
   "source": [
    "xA=OxA[xmask]\n",
    "xB=OxB[xmask]\n",
    "xC=OxC[xmask]\n",
    "xti=Oxti[xmask]\n",
    "xchi=Oxchi[xmask]\n",
    "xtl=Oxtl[xmask]\n",
    "xlvi=Oxlvi[xmask]\n",
    "\n",
    "#A=OA[mask]\n",
    "#B=OB[mask]\n",
    "#C=OC[mask]\n",
    "#ti=Oti[mask]\n",
    "#chi=Ochi[mask]\n",
    "#tl=Otl[mask]\n",
    "#lvi=Olvi[mask]"
   ]
  },
  {
   "cell_type": "code",
   "execution_count": 40,
   "metadata": {},
   "outputs": [],
   "source": [
    "\n",
    "A=OA[mask]\n",
    "B=OB[mask]\n",
    "C=OC[mask]\n",
    "ti=Oti[mask]\n",
    "chi=Ochi[mask]\n",
    "tl=Otl[mask]\n",
    "lvi=Olvi[mask]"
   ]
  },
  {
   "cell_type": "code",
   "execution_count": 8,
   "metadata": {},
   "outputs": [
    {
     "data": {
      "text/plain": [
       "((81497,), (81497,), (81497,), (81497,), (81497,), (81497,))"
      ]
     },
     "execution_count": 8,
     "metadata": {},
     "output_type": "execute_result"
    }
   ],
   "source": [
    "xC.shape,xA.shape,xti.shape,xchi.shape,xtl.shape,xlvi.shape"
   ]
  },
  {
   "cell_type": "code",
   "execution_count": 41,
   "metadata": {},
   "outputs": [
    {
     "data": {
      "text/plain": [
       "((81497,), (81497,), (81497,), (81497,), (81497,), (81497,))"
      ]
     },
     "execution_count": 41,
     "metadata": {},
     "output_type": "execute_result"
    }
   ],
   "source": [
    "C.shape,A.shape,ti.shape,chi.shape,tl.shape,lvi.shape"
   ]
  },
  {
   "cell_type": "code",
   "execution_count": 8,
   "metadata": {},
   "outputs": [],
   "source": [
    "def Probab(A):\n",
    "    return(((np.sum(np.exp(A),axis=1))/1e6).astype(int))\n",
    "\n",
    "def AProbab(A):\n",
    "    return((np.max(np.exp(A),axis=1)/1e6).astype(int))"
   ]
  },
  {
   "cell_type": "code",
   "execution_count": 11,
   "metadata": {},
   "outputs": [],
   "source": [
    "xT=[]\n",
    "xAT=[]\n",
    "for i in range(len(xA)):\n",
    "    xT.append(Probab(xA[i])[1])\n",
    "    xAT.append(AProbab(xA[i])[1])\n",
    "    \n",
    "T=[]\n",
    "AT=[]\n",
    "for i in range(len(A)):\n",
    "    T.append(Probab(A[i])[1])\n",
    "    AT.append(AProbab(A[i])[1])\n",
    "    \n",
    "xT=np.array(xT)\n",
    "xAT=np.array(xAT)\n",
    "\n",
    "T=np.array(T)\n",
    "AT=np.array(AT)"
   ]
  },
  {
   "cell_type": "code",
   "execution_count": 8,
   "metadata": {},
   "outputs": [],
   "source": [
    "xT=[]\n",
    "xAT=[]\n",
    "for i in range(len(xA)):\n",
    "    xT.append(Probab(xA[i])[3])\n",
    "    xAT.append(AProbab(xA[i])[3])\n",
    "    \n",
    "xT=np.array(xT)\n",
    "xAT=np.array(xAT)"
   ]
  },
  {
   "cell_type": "code",
   "execution_count": 68,
   "metadata": {},
   "outputs": [],
   "source": [
    "xT=[]\n",
    "xAT=[]\n",
    "for i in range(len(xA)):\n",
    "    if xA[i].shape[0]>12:\n",
    "        xT.append(Probab(xA[i])[18])\n",
    "        xAT.append(AProbab(xA[i])[18])\n",
    "#        if xC[i][18]!=85:\n",
    "#            print(i)\n",
    "    else:\n",
    "        xT.append(Probab(xA[i])[0])\n",
    "        xAT.append(AProbab(xA[i])[0])\n",
    "#        if xC[i][1]!=85:\n",
    "#            print(\"Short i = %s\"%i)\n",
    "\n",
    "xT=np.array(xT)\n",
    "xAT=np.array(xAT)"
   ]
  },
  {
   "cell_type": "code",
   "execution_count": 42,
   "metadata": {},
   "outputs": [],
   "source": [
    "xT=[]\n",
    "xAT=[]\n",
    "for i in range(len(xA)):\n",
    "    if xA[i].shape[0]>12:\n",
    "        xT.append(Probab(xA[i])[5])\n",
    "        xAT.append(AProbab(xA[i])[5])\n",
    "#        if xC[i][18]!=85:\n",
    "#            print(i)\n",
    "    else:\n",
    "        xT.append(Probab(xA[i])[0])\n",
    "        xAT.append(AProbab(xA[i])[0])\n",
    "#        if xC[i][1]!=85:\n",
    "#            print(\"Short i = %s\"%i)\n",
    "\n",
    "xT=np.array(xT)\n",
    "xAT=np.array(xAT)"
   ]
  },
  {
   "cell_type": "code",
   "execution_count": 13,
   "metadata": {},
   "outputs": [],
   "source": [
    "xT=[]\n",
    "xAT=[]\n",
    "for i in range(len(xA)):\n",
    "    if xA[i].shape[0]>=22:\n",
    "        xT.append(Probab(xA[i])[4])\n",
    "        xAT.append(AProbab(xA[i])[4])\n",
    "#        if xC[i][18]!=85:\n",
    "#            print(i)\n",
    "    else:\n",
    "        xT.append(Probab(xA[i])[0])\n",
    "        xAT.append(AProbab(xA[i])[0])\n",
    "#        if xC[i][1]!=85:\n",
    "#            print(\"Short i = %s\"%i)\n",
    "\n",
    "xT=np.array(xT)\n",
    "xAT=np.array(xAT)"
   ]
  },
  {
   "cell_type": "code",
   "execution_count": 57,
   "metadata": {},
   "outputs": [],
   "source": [
    "T=[]\n",
    "AT=[]\n",
    "for i in range(len(A)):\n",
    "    T.append(Probab(A[i])[3])\n",
    "    AT.append(AProbab(A[i])[3])\n",
    "    \n",
    "T=np.array(T)\n",
    "AT=np.array(AT)"
   ]
  },
  {
   "cell_type": "code",
   "execution_count": 22,
   "metadata": {},
   "outputs": [],
   "source": [
    "T=[]\n",
    "AT=[]\n",
    "for i in range(len(xA)):\n",
    "    if xA[i].shape[0]>9:\n",
    "        T.append(Probab(xA[i])[3])\n",
    "        AT.append(AProbab(xA[i])[3])\n",
    "    elif xA[i].shape[0]==8:\n",
    "        T.append(Probab(xA[i])[1])\n",
    "        AT.append(AProbab(xA[i])[1])\n",
    "    elif xA[i].shape[0]==7:\n",
    "        T.append(Probab(xA[i])[0])\n",
    "        AT.append(AProbab(xA[i])[0])\n",
    "        \n",
    "T=np.array(T)\n",
    "AT=np.array(AT)"
   ]
  },
  {
   "cell_type": "code",
   "execution_count": 8,
   "metadata": {
    "scrolled": true
   },
   "outputs": [
    {
     "name": "stdout",
     "output_type": "stream",
     "text": [
      "*32354*\n",
      "[69, 69, 69, 69]\n",
      "*32355*\n",
      "[69, 69, 69, 69, 69, 69, 69, 69, 69, 69, 69, 69, 69, 69, 69, 69, 69, 69, 69, 69, 69]\n",
      "*72608*\n",
      "[69, 69, 69, 69]\n",
      "*72609*\n",
      "[69, 69, 69, 69, 69, 69, 69, 69, 69, 69, 69, 69, 69, 69, 69, 69, 69, 69, 69, 69, 69]\n",
      "*74181*\n",
      "[69, 69, 69, 69]\n",
      "*74182*\n",
      "[69, 69, 69, 69, 69, 69, 69, 69, 69, 69, 69, 69, 69, 69, 69, 69, 69, 69, 69, 69, 69]\n",
      "*79811*\n",
      "[69, 69, 69, 69]\n",
      "*79812*\n",
      "[69, 69, 69, 69, 69, 69, 69, 69, 69, 69, 69, 69, 69, 69, 69, 69, 69, 69, 69, 69, 69]\n",
      "*80442*\n",
      "[69, 69, 69, 69]\n",
      "*80443*\n",
      "[69, 69, 69, 69, 69, 69, 69, 69, 69, 69, 69, 69, 69, 69, 69, 69, 69, 69, 69, 69, 69, 69]\n"
     ]
    }
   ],
   "source": [
    "for i in range(len(xA)):\n",
    "    if xA[i].shape[0]<=22:\n",
    "        #print(Probab(xA[i]))\n",
    "        print(\"*%s*\"%i)\n",
    "        print(xC[i])"
   ]
  },
  {
   "cell_type": "code",
   "execution_count": 5,
   "metadata": {},
   "outputs": [
    {
     "name": "stdout",
     "output_type": "stream",
     "text": [
      "*761*\n",
      "[69, 74]\n",
      "*2335*\n",
      "[69, 74, 69]\n",
      "*2777*\n",
      "[69, 74]\n",
      "*13240*\n",
      "[69, 74, 69]\n",
      "*20533*\n",
      "[69, 74, 69]\n",
      "*20559*\n",
      "[69, 74]\n",
      "*21776*\n",
      "[69, 74]\n",
      "*41382*\n",
      "[69, 74]\n",
      "*47626*\n",
      "[69, 74, 69]\n",
      "*48877*\n",
      "[69, 74, 69]\n",
      "*52909*\n",
      "[69, 74, 69]\n",
      "*53607*\n",
      "[69, 74]\n",
      "*53652*\n",
      "[69, 74]\n",
      "*58604*\n",
      "[69, 74]\n",
      "*58707*\n",
      "[69, 74]\n",
      "*67062*\n",
      "[69, 74]\n",
      "*72540*\n",
      "[69, 74, 69]\n",
      "*74114*\n",
      "[69, 74]\n"
     ]
    }
   ],
   "source": [
    "for i in range(len(OxA)):\n",
    "    if OxA[i].shape[0]<=3:\n",
    "        #print(Probab(xA[i]))\n",
    "        print(\"*%s*\"%i)\n",
    "        print(OxC[i])"
   ]
  },
  {
   "cell_type": "code",
   "execution_count": 38,
   "metadata": {},
   "outputs": [
    {
     "name": "stdout",
     "output_type": "stream",
     "text": [
      "*761*\n",
      "[69, 69]\n",
      "*41376*\n",
      "[69, 69]\n",
      "*58695*\n",
      "[69, 69]\n"
     ]
    }
   ],
   "source": [
    "for i in range(len(A)):\n",
    "    if A[i].shape[0]<=12:\n",
    "        #print(Probab(xA[i]))\n",
    "        print(\"*%s*\"%i)\n",
    "        print(C[i])"
   ]
  },
  {
   "cell_type": "code",
   "execution_count": 56,
   "metadata": {},
   "outputs": [
    {
     "data": {
      "text/plain": [
       "(array([  2,   0,   4,  62,  34, 145, 189, 122, 428,  22]),\n",
       " [69, 69, 69, 85, 69, 69, 69, 69, 69, 69])"
      ]
     },
     "execution_count": 56,
     "metadata": {},
     "output_type": "execute_result"
    }
   ],
   "source": [
    "Probab(A[54081]),C[54081]"
   ]
  },
  {
   "cell_type": "code",
   "execution_count": 12,
   "metadata": {},
   "outputs": [
    {
     "data": {
      "text/plain": [
       "(array([   91, 11302,    17,    37,    98,   522,   142,   112,   139,\n",
       "          163,   182,  1049,  6196,    47,    11,    12]),\n",
       " array([   50, 13904,    35,    10,     7,     6,    17,    15,     6,\n",
       "           14]))"
      ]
     },
     "execution_count": 12,
     "metadata": {},
     "output_type": "execute_result"
    }
   ],
   "source": [
    "i=54081\n",
    "Probab(xA[i]),Probab(A[i])"
   ]
  },
  {
   "cell_type": "code",
   "execution_count": 73,
   "metadata": {},
   "outputs": [
    {
     "data": {
      "text/plain": [
       "(array([   89, 11034,   134,    58,    51,    43,    29,    89,    79,\n",
       "           25,    82,    91,    27]),\n",
       " array([   50, 13904,    35,    10,     7,     6,    17,    15,     6,\n",
       "           14]))"
      ]
     },
     "execution_count": 73,
     "metadata": {},
     "output_type": "execute_result"
    }
   ],
   "source": [
    "i=54081\n",
    "Probab(xA[i]),Probab(A[i])"
   ]
  },
  {
   "cell_type": "code",
   "execution_count": 51,
   "metadata": {
    "scrolled": true
   },
   "outputs": [
    {
     "name": "stdout",
     "output_type": "stream",
     "text": [
      "(10, 93)\n",
      "**15**\n",
      "(10, 93)\n",
      "**60**\n",
      "(17, 93)\n",
      "**67**\n",
      "(11, 93)\n",
      "**68**\n",
      "(10, 93)\n",
      "**114**\n",
      "(10, 93)\n",
      "**136**\n",
      "(10, 93)\n",
      "**339**\n",
      "(17, 93)\n",
      "**762**\n",
      "(11, 93)\n",
      "**763**\n",
      "(10, 93)\n",
      "**830**\n",
      "(10, 93)\n",
      "**906**\n",
      "(10, 93)\n",
      "**985**\n",
      "(10, 93)\n",
      "**1072**\n",
      "(10, 93)\n",
      "**1136**\n",
      "(17, 93)\n",
      "**1151**\n",
      "(11, 93)\n",
      "**1152**\n",
      "(10, 93)\n",
      "**1249**\n",
      "(10, 93)\n",
      "**1354**\n",
      "(10, 93)\n",
      "**1436**\n",
      "(10, 93)\n",
      "**1454**\n",
      "(10, 93)\n",
      "**1481**\n",
      "(10, 93)\n",
      "**1485**\n",
      "(10, 93)\n",
      "**1734**\n",
      "(10, 93)\n",
      "**2041**\n",
      "(29, 93)\n",
      "**2117**\n",
      "(10, 93)\n",
      "**2337**\n",
      "(10, 93)\n",
      "**2536**\n",
      "(10, 93)\n",
      "**2682**\n",
      "(17, 93)\n",
      "**2778**\n",
      "(11, 93)\n",
      "**2779**\n",
      "(10, 93)\n",
      "**2989**\n",
      "(10, 93)\n",
      "**3145**\n",
      "(10, 93)\n",
      "**3380**\n",
      "(10, 93)\n",
      "**3444**\n",
      "(10, 93)\n",
      "**3995**\n",
      "(10, 93)\n",
      "**4100**\n",
      "(10, 93)\n",
      "**4968**\n",
      "(10, 93)\n",
      "**5123**\n",
      "(10, 93)\n",
      "**5481**\n",
      "(10, 93)\n",
      "**5899**\n",
      "(10, 93)\n",
      "**6696**\n",
      "(10, 93)\n",
      "**6882**\n",
      "(10, 93)\n",
      "**7046**\n",
      "(10, 93)\n",
      "**7188**\n",
      "(10, 93)\n",
      "**7309**\n",
      "(10, 93)\n",
      "**7610**\n",
      "(10, 93)\n",
      "**7780**\n",
      "(10, 93)\n",
      "**7932**\n",
      "(10, 93)\n",
      "**8096**\n",
      "(10, 93)\n",
      "**9222**\n",
      "(10, 93)\n",
      "**9438**\n",
      "(10, 93)\n",
      "**9488**\n",
      "(10, 93)\n",
      "**10216**\n",
      "(10, 93)\n",
      "**11147**\n",
      "(10, 93)\n",
      "**11233**\n",
      "(10, 93)\n",
      "**12013**\n",
      "(10, 93)\n",
      "**13241**\n",
      "(10, 93)\n",
      "**13601**\n",
      "(10, 93)\n",
      "**13759**\n",
      "(10, 93)\n",
      "**14066**\n",
      "(10, 93)\n",
      "**15789**\n",
      "(17, 93)\n",
      "**17008**\n",
      "(11, 93)\n",
      "**17009**\n",
      "(10, 93)\n",
      "**17327**\n",
      "(10, 93)\n",
      "**17966**\n",
      "(10, 93)\n",
      "**18385**\n",
      "(10, 93)\n",
      "**18824**\n",
      "(10, 93)\n",
      "**18851**\n",
      "(10, 93)\n",
      "**19144**\n",
      "(10, 93)\n",
      "**19157**\n",
      "(17, 93)\n",
      "**19234**\n",
      "(11, 93)\n",
      "**19235**\n",
      "(10, 93)\n",
      "**19237**\n",
      "(10, 93)\n",
      "**19612**\n",
      "(10, 93)\n",
      "**19764**\n",
      "(10, 93)\n",
      "**19926**\n",
      "(10, 93)\n",
      "**20227**\n",
      "(10, 93)\n",
      "**20286**\n",
      "(10, 93)\n",
      "**20338**\n",
      "(10, 93)\n",
      "**20535**\n",
      "(10, 93)\n",
      "**20560**\n",
      "(10, 93)\n",
      "**20589**\n",
      "(10, 93)\n",
      "**20786**\n",
      "(10, 93)\n",
      "**20872**\n",
      "(10, 93)\n",
      "**20902**\n",
      "(10, 93)\n",
      "**21064**\n",
      "(10, 93)\n",
      "**21112**\n",
      "(10, 93)\n",
      "**21404**\n",
      "(10, 93)\n",
      "**21708**\n",
      "(17, 93)\n",
      "**21767**\n",
      "(11, 93)\n",
      "**21768**\n",
      "(17, 93)\n",
      "**21777**\n",
      "(11, 93)\n",
      "**21778**\n",
      "(10, 93)\n",
      "**21932**\n",
      "(10, 93)\n",
      "**22015**\n",
      "(10, 93)\n",
      "**22058**\n",
      "(10, 93)\n",
      "**22485**\n",
      "(10, 93)\n",
      "**23760**\n",
      "(10, 93)\n",
      "**26426**\n",
      "(10, 93)\n",
      "**26635**\n",
      "(29, 93)\n",
      "**27908**\n",
      "(10, 93)\n",
      "**29334**\n",
      "(10, 93)\n",
      "**29524**\n",
      "(10, 93)\n",
      "**29805**\n",
      "(10, 93)\n",
      "**29909**\n",
      "(10, 93)\n",
      "**30074**\n",
      "(10, 93)\n",
      "**30203**\n",
      "(10, 93)\n",
      "**30209**\n",
      "(10, 93)\n",
      "**30729**\n",
      "(10, 93)\n",
      "**31006**\n",
      "(10, 93)\n",
      "**31581**\n",
      "(10, 93)\n",
      "**32074**\n",
      "(10, 93)\n",
      "**32151**\n",
      "(10, 93)\n",
      "**32189**\n",
      "(10, 93)\n",
      "**32333**\n",
      "(10, 93)\n",
      "**32359**\n",
      "(10, 93)\n",
      "**32362**\n",
      "(10, 93)\n",
      "**32616**\n",
      "(10, 93)\n",
      "**32694**\n",
      "(10, 93)\n",
      "**33430**\n",
      "(10, 93)\n",
      "**33616**\n",
      "(10, 93)\n",
      "**33623**\n",
      "(10, 93)\n",
      "**33964**\n",
      "(10, 93)\n",
      "**34102**\n",
      "(10, 93)\n",
      "**34167**\n",
      "(10, 93)\n",
      "**34212**\n",
      "(10, 93)\n",
      "**34277**\n",
      "(10, 93)\n",
      "**34534**\n",
      "(10, 93)\n",
      "**34658**\n",
      "(17, 93)\n",
      "**34684**\n",
      "(11, 93)\n",
      "**34685**\n",
      "(10, 93)\n",
      "**35397**\n",
      "(10, 93)\n",
      "**35501**\n",
      "(10, 93)\n",
      "**36821**\n",
      "(10, 93)\n",
      "**37672**\n",
      "(10, 93)\n",
      "**40074**\n",
      "(10, 93)\n",
      "**40476**\n",
      "(17, 93)\n",
      "**40572**\n",
      "(11, 93)\n",
      "**40573**\n",
      "(10, 93)\n",
      "**40655**\n",
      "(10, 93)\n",
      "**40845**\n",
      "(10, 93)\n",
      "**41136**\n",
      "(17, 93)\n",
      "**41385**\n",
      "(11, 93)\n",
      "**41386**\n",
      "(10, 93)\n",
      "**41506**\n",
      "(10, 93)\n",
      "**41865**\n",
      "(10, 93)\n",
      "**42243**\n",
      "(10, 93)\n",
      "**43112**\n",
      "(10, 93)\n",
      "**43401**\n",
      "(10, 93)\n",
      "**43644**\n",
      "(10, 93)\n",
      "**44204**\n",
      "(10, 93)\n",
      "**44392**\n",
      "(10, 93)\n",
      "**44414**\n",
      "(10, 93)\n",
      "**45068**\n",
      "(10, 93)\n",
      "**45133**\n",
      "(10, 93)\n",
      "**45302**\n",
      "(10, 93)\n",
      "**45418**\n",
      "(10, 93)\n",
      "**45697**\n",
      "(10, 93)\n",
      "**45773**\n",
      "(10, 93)\n",
      "**45800**\n",
      "(10, 93)\n",
      "**46374**\n",
      "(10, 93)\n",
      "**46377**\n",
      "(10, 93)\n",
      "**46587**\n",
      "(10, 93)\n",
      "**47313**\n",
      "(10, 93)\n",
      "**47432**\n",
      "(10, 93)\n",
      "**47526**\n",
      "(10, 93)\n",
      "**47583**\n",
      "(10, 93)\n",
      "**47629**\n",
      "(10, 93)\n",
      "**47640**\n",
      "(10, 93)\n",
      "**47663**\n",
      "(10, 93)\n",
      "**47735**\n",
      "(10, 93)\n",
      "**47932**\n",
      "(10, 93)\n",
      "**48100**\n",
      "(10, 93)\n",
      "**48859**\n",
      "(10, 93)\n",
      "**48879**\n",
      "(10, 93)\n",
      "**49056**\n",
      "(10, 93)\n",
      "**49657**\n",
      "(10, 93)\n",
      "**50794**\n",
      "(10, 93)\n",
      "**51731**\n",
      "(10, 93)\n",
      "**52282**\n",
      "(17, 93)\n",
      "**52432**\n",
      "(11, 93)\n",
      "**52433**\n",
      "(17, 93)\n",
      "**52701**\n",
      "(11, 93)\n",
      "**52702**\n",
      "(10, 93)\n",
      "**52912**\n",
      "(10, 93)\n",
      "**53360**\n",
      "(10, 93)\n",
      "**53582**\n",
      "(17, 93)\n",
      "**53609**\n",
      "(11, 93)\n",
      "**53610**\n",
      "(10, 93)\n",
      "**53654**\n",
      "(10, 93)\n",
      "**53717**\n",
      "(10, 93)\n",
      "**53744**\n",
      "(10, 93)\n",
      "**53886**\n",
      "(10, 93)\n",
      "**53940**\n",
      "(10, 93)\n",
      "**53976**\n",
      "(10, 93)\n",
      "**54188**\n",
      "(10, 93)\n",
      "**54215**\n",
      "(10, 93)\n",
      "**54322**\n",
      "(10, 93)\n",
      "**54534**\n",
      "(10, 93)\n",
      "**54631**\n",
      "(10, 93)\n",
      "**54822**\n",
      "(10, 93)\n",
      "**55091**\n",
      "(10, 93)\n",
      "**55111**\n",
      "(10, 93)\n",
      "**55592**\n",
      "(10, 93)\n",
      "**55878**\n",
      "(10, 93)\n",
      "**56164**\n",
      "(10, 93)\n",
      "**56505**\n",
      "(10, 93)\n",
      "**56685**\n",
      "(17, 93)\n",
      "**56688**\n",
      "(11, 93)\n",
      "**56689**\n",
      "(10, 93)\n",
      "**56763**\n",
      "(10, 93)\n",
      "**56784**\n",
      "(17, 93)\n",
      "**56906**\n",
      "(11, 93)\n",
      "**56907**\n",
      "(10, 93)\n",
      "**56958**\n",
      "(10, 93)\n",
      "**57025**\n",
      "(10, 93)\n",
      "**57523**\n",
      "(10, 93)\n",
      "**57773**\n",
      "(10, 93)\n",
      "**57902**\n",
      "(10, 93)\n",
      "**58196**\n",
      "(10, 93)\n",
      "**58607**\n",
      "(10, 93)\n",
      "**58709**\n",
      "(10, 93)\n",
      "**59928**\n",
      "(10, 93)\n",
      "**60520**\n",
      "(10, 93)\n",
      "**61120**\n",
      "(10, 93)\n",
      "**61132**\n",
      "(10, 93)\n",
      "**62279**\n",
      "(10, 93)\n",
      "**63051**\n",
      "(10, 93)\n",
      "**63080**\n",
      "(10, 93)\n",
      "**63757**\n",
      "(10, 93)\n",
      "**63890**\n",
      "(10, 93)\n",
      "**63905**\n",
      "(10, 93)\n",
      "**64224**\n",
      "(10, 93)\n",
      "**64415**\n",
      "(10, 93)\n",
      "**64552**\n",
      "(10, 93)\n",
      "**64557**\n",
      "(10, 93)\n",
      "**64619**\n",
      "(10, 93)\n",
      "**65006**\n",
      "(10, 93)\n",
      "**66119**\n",
      "(10, 93)\n",
      "**66620**\n",
      "(10, 93)\n",
      "**66705**\n",
      "(10, 93)\n",
      "**67056**\n",
      "(17, 93)\n",
      "**67063**\n",
      "(11, 93)\n",
      "**67064**\n",
      "(10, 93)\n",
      "**67206**\n",
      "(17, 93)\n",
      "**67425**\n",
      "(11, 93)\n",
      "**67426**\n",
      "(10, 93)\n",
      "**68074**\n",
      "(10, 93)\n",
      "**68110**\n",
      "(10, 93)\n",
      "**68170**\n",
      "(10, 93)\n",
      "**68224**\n",
      "(10, 93)\n",
      "**68616**\n",
      "(10, 93)\n",
      "**68886**\n",
      "(10, 93)\n",
      "**69332**\n",
      "(10, 93)\n",
      "**69551**\n",
      "(17, 93)\n",
      "**69856**\n",
      "(11, 93)\n",
      "**69857**\n",
      "(10, 93)\n",
      "**70601**\n",
      "(10, 93)\n",
      "**70930**\n",
      "(17, 93)\n",
      "**71276**\n",
      "(11, 93)\n",
      "**71277**\n",
      "(10, 93)\n",
      "**71304**\n",
      "(10, 93)\n",
      "**71560**\n",
      "(17, 93)\n",
      "**71754**\n",
      "(11, 93)\n",
      "**71755**\n",
      "(10, 93)\n",
      "**71786**\n",
      "(10, 93)\n",
      "**71790**\n",
      "(10, 93)\n",
      "**71854**\n",
      "(10, 93)\n",
      "**72038**\n",
      "(10, 93)\n",
      "**72062**\n",
      "(10, 93)\n",
      "**72114**\n",
      "(10, 93)\n",
      "**72223**\n",
      "(10, 93)\n",
      "**72351**\n",
      "(10, 93)\n",
      "**72545**\n",
      "(10, 93)\n",
      "**72628**\n",
      "(10, 93)\n",
      "**72679**\n",
      "(10, 93)\n",
      "**73179**\n",
      "(10, 93)\n",
      "**73491**\n",
      "(10, 93)\n",
      "**73658**\n",
      "(10, 93)\n",
      "**73696**\n",
      "(10, 93)\n",
      "**73867**\n",
      "(10, 93)\n",
      "**73872**\n",
      "(10, 93)\n",
      "**74118**\n",
      "(10, 93)\n",
      "**74152**\n",
      "(17, 93)\n",
      "**74297**\n",
      "(11, 93)\n",
      "**74298**\n",
      "(10, 93)\n",
      "**74528**\n",
      "(10, 93)\n",
      "**74599**\n",
      "(10, 93)\n",
      "**74640**\n",
      "(10, 93)\n",
      "**74646**\n",
      "(10, 93)\n",
      "**75018**\n",
      "(10, 93)\n",
      "**75845**\n",
      "(10, 93)\n",
      "**75875**\n",
      "(10, 93)\n",
      "**77262**\n",
      "(10, 93)\n",
      "**77279**\n",
      "(10, 93)\n",
      "**77528**\n",
      "(10, 93)\n",
      "**77565**\n",
      "(10, 93)\n",
      "**77590**\n",
      "(10, 93)\n",
      "**77699**\n",
      "(17, 93)\n",
      "**77754**\n",
      "(11, 93)\n",
      "**77755**\n",
      "(10, 93)\n",
      "**77834**\n",
      "(17, 93)\n",
      "**77884**\n",
      "(11, 93)\n",
      "**77885**\n",
      "(17, 93)\n",
      "**78127**\n",
      "(11, 93)\n",
      "**78128**\n",
      "(10, 93)\n",
      "**78222**\n",
      "(17, 93)\n",
      "**78238**\n",
      "(11, 93)\n",
      "**78239**\n",
      "(10, 93)\n",
      "**78267**\n",
      "(17, 93)\n",
      "**78290**\n",
      "(11, 93)\n",
      "**78291**\n",
      "(10, 93)\n",
      "**78301**\n",
      "(10, 93)\n",
      "**78321**\n",
      "(17, 93)\n",
      "**78373**\n",
      "(11, 93)\n",
      "**78374**\n",
      "(10, 93)\n",
      "**78799**\n",
      "(10, 93)\n",
      "**79134**\n",
      "(10, 93)\n",
      "**79180**\n",
      "(10, 93)\n",
      "**79371**\n",
      "(10, 93)\n",
      "**79432**\n",
      "(10, 93)\n",
      "**79668**\n",
      "(17, 93)\n",
      "**79726**\n",
      "(11, 93)\n",
      "**79727**\n",
      "(17, 93)\n",
      "**79787**\n",
      "(11, 93)\n",
      "**79788**\n",
      "(10, 93)\n",
      "**79821**\n",
      "(10, 93)\n",
      "**80254**\n",
      "(17, 93)\n",
      "**80427**\n",
      "(11, 93)\n",
      "**80428**\n",
      "(11, 93)\n",
      "**80469**\n"
     ]
    }
   ],
   "source": [
    "for i in range(len(xB)):\n",
    "    #if xA[i].shape[0]!=28:\n",
    "    if xA[i].shape[0]!=28 and xA[i].shape!=17:\n",
    "    #    print(Probab(xA[i]))\n",
    "        print(xA[i].shape)\n",
    "        print(\"**%s**\"%i)\n",
    "    #    print(Probab(xA[i]))\n",
    "    #    print(i)\n",
    "    #if A[i].shape[0]!=10:\n",
    "    #    print(Probab(A[i]))\n",
    "    #    print(\"and R **\")\n",
    "    #    print(i)"
   ]
  },
  {
   "cell_type": "code",
   "execution_count": 39,
   "metadata": {},
   "outputs": [
    {
     "data": {
      "text/plain": [
       "(array([  121, 52986,    15,    42,   202,    93,   202,    10,     1,\n",
       "            1,    19]), [69, 85, 69, 69, 69, 69, 69, 69, 69, 69, 69])"
      ]
     },
     "execution_count": 39,
     "metadata": {},
     "output_type": "execute_result"
    }
   ],
   "source": [
    "Probab(xA[1152]),xC[1152]"
   ]
  },
  {
   "cell_type": "code",
   "execution_count": 442,
   "metadata": {},
   "outputs": [
    {
     "name": "stdout",
     "output_type": "stream",
     "text": [
      "for i = 0\n",
      " [   50 13904    35    10     7     6    17    15     6    14] \n",
      " [   50 13904    35    10     7     6    17    15     6    14] \n",
      " [  97 4917   37   13   12   10   25   21   11   19] \n",
      " [ 55 475  43  13  12  10  24  22  12  22]\n",
      "for i = 1\n",
      " [ 10   5  18  25  26  69  78  24 131 562  62] \n",
      " [ 10   5  18  25  26  69  78  24 131 562  62] \n",
      " [ 10   5  18  25  26  69  78  24 131 562  62] \n",
      " [ 10   5  18  25  26  69  78  24 131 562  62]\n",
      "for i = 2\n",
      " [ 5  5 18 33 24  0  2  5] \n",
      " [ 5  5 18 33 24  0  2  5] \n",
      " [ 5  5 18 33 24  0  2  5] \n",
      " [ 5  5 18 33 24  0  2  5]\n",
      "for i = 3\n",
      " [93  5 11  3 18 66 18  0  6  3 19] \n",
      " [93  5 11  3 18 66 18  0  6  3 19] \n",
      " [93  5 11  3 18 66 18  0  6  3 19] \n",
      " [93  5 11  3 18 66 18  0  6  3 19]\n",
      "for i = 4\n",
      " [12  6] \n",
      " [12  6] \n",
      " [12  6] \n",
      " [12  6]\n",
      "for i = 5\n",
      " [26 28] \n",
      " [26 28] \n",
      " [26 28] \n",
      " [26 28]\n",
      "for i = 6\n",
      " [   47 20835     2     0     7    22   325     9    49] \n",
      " [   47 20835     2     0     7    22   325     9    49] \n",
      " [   80 18058     3     3    20    41   468    14    57] \n",
      " [  54 1961    3    1   14   33  384    9   77]\n",
      "for i = 7\n",
      " [36 26 39  8  3  6] \n",
      " [36 26 39  8  3  6] \n",
      " [36 26 39  8  3  6] \n",
      " [36 26 39  8  3  6]\n",
      "for i = 8\n",
      " [  8  10  12  40  45  47 132  21  12  25   8   3  14] \n",
      " [  8  10  12  40  45  47 132  21  12  25   8   3  14] \n",
      " [  8  10  12  40  45  47 132  21  12  25   8   3  14] \n",
      " [  8  10  12  40  45  47 132  21  12  25   8   3  14]\n"
     ]
    }
   ],
   "source": [
    "for i in range(9):\n",
    "    print(\"for i = %s\"%i)\n",
    "    print(\"\",Probab(A[31+i]),\"\\n\",Probab(A[50+i]),\"\\n\",Probab(A[60+i]),\"\\n\",Probab(A[70+i]))"
   ]
  },
  {
   "cell_type": "code",
   "execution_count": 21,
   "metadata": {},
   "outputs": [
    {
     "data": {
      "text/plain": [
       "array([   47, 20835,     2,     0,     7,    22,   325,     9,    49])"
      ]
     },
     "execution_count": 21,
     "metadata": {},
     "output_type": "execute_result"
    }
   ],
   "source": [
    "# xw!\n",
    "Probab(A[0])"
   ]
  },
  {
   "cell_type": "code",
   "execution_count": 157,
   "metadata": {},
   "outputs": [
    {
     "data": {
      "text/plain": [
       "((81497,), (81497,), (81497,))"
      ]
     },
     "execution_count": 157,
     "metadata": {},
     "output_type": "execute_result"
    }
   ],
   "source": [
    "T.shape,AT.shape,A.shape"
   ]
  },
  {
   "cell_type": "code",
   "execution_count": 130,
   "metadata": {},
   "outputs": [
    {
     "data": {
      "text/plain": [
       "26790"
      ]
     },
     "execution_count": 130,
     "metadata": {},
     "output_type": "execute_result"
    }
   ],
   "source": [
    "np.argmax(T)"
   ]
  },
  {
   "cell_type": "code",
   "execution_count": 158,
   "metadata": {},
   "outputs": [
    {
     "data": {
      "text/plain": [
       "(13904, array([   47, 20835,     2,     0,     7,    22,   325,     9,    49]))"
      ]
     },
     "execution_count": 158,
     "metadata": {},
     "output_type": "execute_result"
    }
   ],
   "source": [
    "T[54081],Probab(xA[54081])"
   ]
  },
  {
   "cell_type": "code",
   "execution_count": 17,
   "metadata": {},
   "outputs": [],
   "source": [
    "#T1=T[:]\n",
    "#T2=xT[:]\n",
    "#T3=xT[:]\n",
    "#T4=xT[:]\n",
    "###T5=xT[:]\n",
    "#T6=xT[:]\n",
    "#T7=xT[:]\n",
    "#T8=xT[:]\n",
    "T9=xT[:]"
   ]
  },
  {
   "cell_type": "code",
   "execution_count": 43,
   "metadata": {},
   "outputs": [
    {
     "data": {
      "text/plain": [
       "(81497,)"
      ]
     },
     "execution_count": 43,
     "metadata": {},
     "output_type": "execute_result"
    }
   ],
   "source": []
  },
  {
   "cell_type": "code",
   "execution_count": null,
   "metadata": {},
   "outputs": [],
   "source": []
  },
  {
   "cell_type": "code",
   "execution_count": 166,
   "metadata": {},
   "outputs": [
    {
     "data": {
      "text/plain": [
       "(13904, 20835, 11034, 2569, 0)"
      ]
     },
     "execution_count": 166,
     "metadata": {},
     "output_type": "execute_result"
    }
   ],
   "source": [
    "i=54081\n",
    "T1[i],T2[i],T3[i],T4[i],T5[i]"
   ]
  },
  {
   "cell_type": "code",
   "execution_count": 93,
   "metadata": {},
   "outputs": [
    {
     "data": {
      "text/plain": [
       "(133,)"
      ]
     },
     "execution_count": 93,
     "metadata": {},
     "output_type": "execute_result"
    }
   ],
   "source": [
    "(T[((xT*T1*T2*T3)>(2*np.std(xT*T1*T2*T3)))]).shape"
   ]
  },
  {
   "cell_type": "code",
   "execution_count": 135,
   "metadata": {},
   "outputs": [
    {
     "data": {
      "text/plain": [
       "(6152.176520179609, 16968.004405924017, 3608.873818328717, 1967.4379756002293)"
      ]
     },
     "execution_count": 135,
     "metadata": {},
     "output_type": "execute_result"
    }
   ],
   "source": [
    "2*np.std(T1)+np.median(T1),2*np.std(T2)+np.median(T2),2*np.std(T3)+np.median(T3),2*np.std(xT)+np.median(xT)"
   ]
  },
  {
   "cell_type": "code",
   "execution_count": null,
   "metadata": {},
   "outputs": [],
   "source": []
  },
  {
   "cell_type": "code",
   "execution_count": 98,
   "metadata": {},
   "outputs": [
    {
     "data": {
      "text/plain": [
       "1856.4379756002293"
      ]
     },
     "execution_count": 98,
     "metadata": {},
     "output_type": "execute_result"
    }
   ],
   "source": [
    "2*np.std(xT)"
   ]
  },
  {
   "cell_type": "code",
   "execution_count": 80,
   "metadata": {},
   "outputs": [
    {
     "data": {
      "text/plain": [
       "(13904, 20835, 11034)"
      ]
     },
     "execution_count": 80,
     "metadata": {},
     "output_type": "execute_result"
    }
   ],
   "source": [
    "i=54081\n",
    "T1[i],T2[i],T3[i]"
   ]
  },
  {
   "cell_type": "code",
   "execution_count": 31,
   "metadata": {},
   "outputs": [
    {
     "data": {
      "text/plain": [
       "26795"
      ]
     },
     "execution_count": 31,
     "metadata": {},
     "output_type": "execute_result"
    }
   ],
   "source": [
    "III[26786]"
   ]
  },
  {
   "cell_type": "code",
   "execution_count": 37,
   "metadata": {},
   "outputs": [
    {
     "data": {
      "text/plain": [
       "array([    32, 177275,      7,      4,     28,     57,    639,     16,\n",
       "           79])"
      ]
     },
     "execution_count": 37,
     "metadata": {},
     "output_type": "execute_result"
    }
   ],
   "source": [
    "Probab(A[26795])"
   ]
  },
  {
   "cell_type": "code",
   "execution_count": 39,
   "metadata": {},
   "outputs": [
    {
     "data": {
      "text/plain": [
       "array([1.        , 1.00245133, 1.        , 1.        , 1.        ,\n",
       "       1.        , 1.        , 1.        , 1.        , 1.        ])"
      ]
     },
     "execution_count": 39,
     "metadata": {},
     "output_type": "execute_result"
    }
   ],
   "source": [
    "Probab(A[54093])/AProbab(A[54093])"
   ]
  },
  {
   "cell_type": "code",
   "execution_count": 126,
   "metadata": {},
   "outputs": [
    {
     "data": {
      "text/plain": [
       "array([ 47, 264,   2,   3,  18,  37, 466,  24,  67])"
      ]
     },
     "execution_count": 126,
     "metadata": {},
     "output_type": "execute_result"
    }
   ],
   "source": [
    "Probab(A[1135])"
   ]
  },
  {
   "cell_type": "code",
   "execution_count": 482,
   "metadata": {},
   "outputs": [
    {
     "data": {
      "text/plain": [
       "array([-2.3770297 , -1.4257993 ,  2.767678  ,  0.6800885 , -4.6892443 ,\n",
       "       -1.0772115 ,  4.12061   ,  0.5538651 , -2.7409868 ,  0.35609525,\n",
       "        6.6187944 , -4.3972163 ,  1.8933979 , -2.0612764 ,  1.4503386 ,\n",
       "       16.08855   , -0.9957908 , -0.58111334,  2.4139967 , -0.39191824,\n",
       "        2.1021152 , -0.15630683, -0.04931939, -6.2282505 , -0.304523  ,\n",
       "        4.084511  ,  2.164906  , -7.941073  , -0.7659363 , 10.643398  ,\n",
       "       -1.1665118 , -3.405044  , -0.57039297,  1.7403742 , -6.4963384 ,\n",
       "        1.0953407 , -2.449568  ,  0.5649946 , 17.125422  , -2.6862025 ,\n",
       "       -5.9376206 ,  3.7455814 ,  2.494077  , -0.48257175,  0.374649  ,\n",
       "       -0.9335724 , -2.9717877 , -0.41730553,  4.5144167 , -0.9871951 ,\n",
       "       -3.4145684 , -0.4241401 ,  3.4146276 , -1.9538372 , -0.6036397 ,\n",
       "        0.22855818,  4.461696  , -6.7413    , -1.3649187 , -8.191675  ,\n",
       "       -0.7338102 ,  5.764525  , -0.2919553 , -3.2548256 , -0.7444572 ,\n",
       "       -0.28997272, -1.8925518 , -0.6381477 , -0.4314    , -0.819983  ,\n",
       "       -9.974281  , -1.7857852 ,  1.8588588 ,  0.98841345, -9.639499  ,\n",
       "       -3.9336016 ,  7.0301824 ,  0.14189819, -0.3800617 , -0.08497879,\n",
       "        3.244662  , -2.6516225 , -1.4038494 ,  3.5592442 ,  0.9376622 ,\n",
       "       22.957115  , -0.43355018, -3.7218668 , -1.6095711 ,  0.47164646,\n",
       "       -0.8706733 ,  0.40344995, -7.4337273 ], dtype=float32)"
      ]
     },
     "execution_count": 482,
     "metadata": {},
     "output_type": "execute_result"
    }
   ],
   "source": [
    "A[5][1]"
   ]
  },
  {
   "cell_type": "code",
   "execution_count": 445,
   "metadata": {},
   "outputs": [
    {
     "data": {
      "text/plain": [
       "array([   47, 20835,     2,     0,     7,    22,   325,     9,    49])"
      ]
     },
     "execution_count": 445,
     "metadata": {},
     "output_type": "execute_result"
    }
   ],
   "source": [
    "Probab(A[82])"
   ]
  },
  {
   "cell_type": "code",
   "execution_count": 446,
   "metadata": {},
   "outputs": [
    {
     "data": {
      "text/plain": [
       "array([  57, 9372,   35,   11,    7,    7,   20,   17,    8,   16])"
      ]
     },
     "execution_count": 446,
     "metadata": {},
     "output_type": "execute_result"
    }
   ],
   "source": [
    "Probab(A[85])"
   ]
  },
  {
   "cell_type": "code",
   "execution_count": 449,
   "metadata": {},
   "outputs": [
    {
     "name": "stdout",
     "output_type": "stream",
     "text": [
      "0\n",
      "[   47 20835     2     0     7    22   325     9    49]\n",
      "1\n",
      "[  57 9372   35   11    7    7   20   17    8   16]\n",
      "2\n",
      "[   53 15331     2     1     9    26   342    10    54]\n",
      "3\n",
      "[  62 1510   65   23   13   13   32   30   17   25]\n",
      "4\n",
      "[  54 6736    3    4   23   53  601   23   97]\n",
      "5\n",
      "[55 17 51 32 11  9 26 26 17 19]\n",
      "6\n",
      "[ 54  57   2   5  27  52 591  33  73]\n"
     ]
    }
   ],
   "source": [
    "for i in range(7):\n",
    "    print(i)\n",
    "    print(Probab(A[82+3*i]))"
   ]
  },
  {
   "cell_type": "code",
   "execution_count": 434,
   "metadata": {},
   "outputs": [
    {
     "data": {
      "text/plain": [
       "array([ 54,  57,   2,   5,  27,  52, 591,  33,  73])"
      ]
     },
     "execution_count": 434,
     "metadata": {},
     "output_type": "execute_result"
    }
   ],
   "source": [
    "Probab(A[100])"
   ]
  },
  {
   "cell_type": "code",
   "execution_count": 305,
   "metadata": {},
   "outputs": [
    {
     "name": "stdout",
     "output_type": "stream",
     "text": [
      "for i = 0\n",
      "[26.672867, 26.672867, 26.672867, 26.672867]\n",
      "for i = 1\n",
      "[28.028426, 28.028426, 28.028426, 28.028426]\n",
      "for i = 2\n"
     ]
    },
    {
     "ename": "IndexError",
     "evalue": "index 2 is out of bounds for axis 0 with size 2",
     "output_type": "error",
     "traceback": [
      "\u001b[0;31m---------------------------------------------------------------------------\u001b[0m",
      "\u001b[0;31mIndexError\u001b[0m                                Traceback (most recent call last)",
      "\u001b[0;32m<ipython-input-305-05c275eaf70d>\u001b[0m in \u001b[0;36m<module>\u001b[0;34m()\u001b[0m\n\u001b[1;32m      2\u001b[0m \u001b[0;32mfor\u001b[0m \u001b[0mi\u001b[0m \u001b[0;32min\u001b[0m \u001b[0mrange\u001b[0m\u001b[0;34m(\u001b[0m\u001b[0;36m9\u001b[0m\u001b[0;34m)\u001b[0m\u001b[0;34m:\u001b[0m\u001b[0;34m\u001b[0m\u001b[0;34m\u001b[0m\u001b[0m\n\u001b[1;32m      3\u001b[0m     \u001b[0mprint\u001b[0m\u001b[0;34m(\u001b[0m\u001b[0;34m\"for i = %s\"\u001b[0m\u001b[0;34m%\u001b[0m\u001b[0mi\u001b[0m\u001b[0;34m)\u001b[0m\u001b[0;34m\u001b[0m\u001b[0;34m\u001b[0m\u001b[0m\n\u001b[0;32m----> 4\u001b[0;31m     \u001b[0mprint\u001b[0m\u001b[0;34m(\u001b[0m\u001b[0;34m[\u001b[0m\u001b[0mProbab\u001b[0m\u001b[0;34m(\u001b[0m\u001b[0mA\u001b[0m\u001b[0;34m[\u001b[0m\u001b[0;36m31\u001b[0m\u001b[0;34m+\u001b[0m\u001b[0mt\u001b[0m\u001b[0;34m]\u001b[0m\u001b[0;34m[\u001b[0m\u001b[0mi\u001b[0m\u001b[0;34m]\u001b[0m\u001b[0;34m)\u001b[0m\u001b[0;34m,\u001b[0m\u001b[0mProbab\u001b[0m\u001b[0;34m(\u001b[0m\u001b[0mA\u001b[0m\u001b[0;34m[\u001b[0m\u001b[0;36m50\u001b[0m\u001b[0;34m+\u001b[0m\u001b[0mt\u001b[0m\u001b[0;34m]\u001b[0m\u001b[0;34m[\u001b[0m\u001b[0mi\u001b[0m\u001b[0;34m]\u001b[0m\u001b[0;34m)\u001b[0m\u001b[0;34m,\u001b[0m\u001b[0mProbab\u001b[0m\u001b[0;34m(\u001b[0m\u001b[0mA\u001b[0m\u001b[0;34m[\u001b[0m\u001b[0;36m60\u001b[0m\u001b[0;34m+\u001b[0m\u001b[0mt\u001b[0m\u001b[0;34m]\u001b[0m\u001b[0;34m[\u001b[0m\u001b[0mi\u001b[0m\u001b[0;34m]\u001b[0m\u001b[0;34m)\u001b[0m\u001b[0;34m,\u001b[0m\u001b[0mProbab\u001b[0m\u001b[0;34m(\u001b[0m\u001b[0mA\u001b[0m\u001b[0;34m[\u001b[0m\u001b[0;36m70\u001b[0m\u001b[0;34m+\u001b[0m\u001b[0mt\u001b[0m\u001b[0;34m]\u001b[0m\u001b[0;34m[\u001b[0m\u001b[0mi\u001b[0m\u001b[0;34m]\u001b[0m\u001b[0;34m)\u001b[0m\u001b[0;34m]\u001b[0m\u001b[0;34m)\u001b[0m\u001b[0;34m\u001b[0m\u001b[0;34m\u001b[0m\u001b[0m\n\u001b[0m",
      "\u001b[0;31mIndexError\u001b[0m: index 2 is out of bounds for axis 0 with size 2"
     ]
    }
   ],
   "source": [
    "t=5\n",
    "for i in range(9):\n",
    "    print(\"for i = %s\"%i)\n",
    "    print([Probab(A[31+t][i]),Probab(A[50+t][i]),Probab(A[60+t][i]),Probab(A[70+t][i])])"
   ]
  },
  {
   "cell_type": "code",
   "execution_count": 330,
   "metadata": {},
   "outputs": [
    {
     "data": {
      "text/plain": [
       "(array([26672866., 28028430.], dtype=float32), (2, 93))"
      ]
     },
     "execution_count": 330,
     "metadata": {},
     "output_type": "execute_result"
    }
   ],
   "source": [
    "np.sum(np.exp(A[31+t]),axis=1),np.exp(A[31+t]).shape\n",
    "#Probab(A[50+t][i]),Probab(A[60+t][i]),Probab(A[70+t][i])"
   ]
  },
  {
   "cell_type": "code",
   "execution_count": 329,
   "metadata": {},
   "outputs": [],
   "source": [
    "np.sum?"
   ]
  },
  {
   "cell_type": "code",
   "execution_count": 269,
   "metadata": {},
   "outputs": [
    {
     "data": {
      "text/plain": [
       "97059964.91895749"
      ]
     },
     "execution_count": 269,
     "metadata": {},
     "output_type": "execute_result"
    }
   ],
   "source": [
    "sum(np.exp(A[60][0]))"
   ]
  },
  {
   "cell_type": "code",
   "execution_count": 270,
   "metadata": {},
   "outputs": [
    {
     "data": {
      "text/plain": [
       "55709817.19359488"
      ]
     },
     "execution_count": 270,
     "metadata": {},
     "output_type": "execute_result"
    }
   ],
   "source": [
    "sum(np.exp(A[70][0]))"
   ]
  },
  {
   "cell_type": "code",
   "execution_count": 4,
   "metadata": {},
   "outputs": [],
   "source": [
    "AOrig=np.load(\"NeuroNER-master/src/SalmanTest/Original396_01/mainSalmanUnary_scorestest.npy\")"
   ]
  },
  {
   "cell_type": "code",
   "execution_count": 26,
   "metadata": {
    "scrolled": false
   },
   "outputs": [
    {
     "data": {
      "text/plain": [
       "((4,), (26, 95))"
      ]
     },
     "execution_count": 26,
     "metadata": {},
     "output_type": "execute_result"
    }
   ],
   "source": [
    "A.shape,AOrig[0].shape"
   ]
  },
  {
   "cell_type": "code",
   "execution_count": 6,
   "metadata": {},
   "outputs": [
    {
     "data": {
      "text/plain": [
       "array([69, 69, 69, 74, 69, 50, 69, 50, 83, 69, 27, 69, 69, 69, 69, 69, 69,\n",
       "       69, 69, 69, 69, 69, 69, 69])"
      ]
     },
     "execution_count": 6,
     "metadata": {},
     "output_type": "execute_result"
    }
   ],
   "source": [
    "np.argmax(A[1],axis=1)"
   ]
  },
  {
   "cell_type": "code",
   "execution_count": 151,
   "metadata": {},
   "outputs": [
    {
     "data": {
      "text/plain": [
       "True"
      ]
     },
     "execution_count": 151,
     "metadata": {},
     "output_type": "execute_result"
    }
   ],
   "source": [
    "(np.argmax(A[0],axis=1)==np.argmax(A[1],axis=1)).all()"
   ]
  },
  {
   "cell_type": "code",
   "execution_count": 30,
   "metadata": {},
   "outputs": [
    {
     "data": {
      "text/plain": [
       "((16, 93), (8, 93))"
      ]
     },
     "execution_count": 30,
     "metadata": {},
     "output_type": "execute_result"
    }
   ],
   "source": [
    "A[2].shape,A[3].shape"
   ]
  },
  {
   "cell_type": "code",
   "execution_count": 156,
   "metadata": {},
   "outputs": [
    {
     "data": {
      "text/plain": [
       "array([93, 69, 69, 69, 74, 69, 50, 69, 50, 34, 69, 27, 69, 20, 69, 69, 69,\n",
       "       94])"
      ]
     },
     "execution_count": 156,
     "metadata": {},
     "output_type": "execute_result"
    }
   ],
   "source": [
    "np.argmax(A[2],axis=1)"
   ]
  },
  {
   "cell_type": "code",
   "execution_count": 157,
   "metadata": {},
   "outputs": [
    {
     "data": {
      "text/plain": [
       "array([93, 69, 69, 69, 69, 69, 69, 69, 69, 94])"
      ]
     },
     "execution_count": 157,
     "metadata": {},
     "output_type": "execute_result"
    }
   ],
   "source": [
    "np.argmax(A[3],axis=1)"
   ]
  },
  {
   "cell_type": "markdown",
   "metadata": {},
   "source": [
    "# B and C can be similar or different depending on the crf"
   ]
  },
  {
   "cell_type": "code",
   "execution_count": 13,
   "metadata": {},
   "outputs": [],
   "source": [
    "AA=np.load(\"NeuroNER-master/src/SalmanTest/SalmanUnary_scores17477valid.npy\")\n",
    "BB=np.load(\"NeuroNER-master/src/SalmanTest/SalmanPred17477valid.npy\")"
   ]
  },
  {
   "cell_type": "code",
   "execution_count": 483,
   "metadata": {},
   "outputs": [],
   "source": [
    "i=10\n",
    "#with open(\"/home/salman/NeuroNER-master/data/Speedi/TEST_last_names_unambig.txt\") as f:\n",
    "with open(\"/home/salman/NeuroNER-master/data/Speedi/last_names_unambig.txt\") as f:\n",
    "    for line in f:\n",
    "        with open(\"/home/salman/NeuroNER-master/data/Speedi/test/w%s.txt\"%i,\"w\") as wf:\n",
    "            #wf.write(\"This is line %d\\r\\n\\n\\n\" % (i))\n",
    "            wf.write(\"\\n\\n\\n\")\n",
    "            wf.write(\"Assessment and plan: \\n\\n\")\n",
    "            wf.write(\"1.\\t\")\n",
    "            wf.write(\"Hypertension.  Mrs. %s blood pressure is currently not well controlled.\\n\"%line[:-1].capitalize())\n",
    "            wf.write(\"2.\\t\")\n",
    "            wf.write(\"Neurologic.  Mrs. %s is stable status post her stroke.\\n\"%line[:-1].capitalize())\n",
    "        i=i+1"
   ]
  },
  {
   "cell_type": "code",
   "execution_count": 492,
   "metadata": {},
   "outputs": [],
   "source": [
    "i=1\n",
    "#with open(\"/home/salman/NeuroNER-master/data/Speedi/TEST_last_names_unambig.txt\") as f:\n",
    "with open(\"/home/salman/NeuroNER-master/data/Speedi/last_names_unambig.txt\") as f:\n",
    "    for line in f:\n",
    "        with open(\"/home/salman/NeuroNER-master/data/Speedi/test/w%s.txt\"%(i+100000),\"w\") as wf:\n",
    "            wf.write(\"Mrs. %s blood pressure is currently not well controlled.\\n\"%line[:-1].capitalize())\n",
    "        i=i+1"
   ]
  },
  {
   "cell_type": "code",
   "execution_count": 453,
   "metadata": {},
   "outputs": [],
   "source": [
    "i=1\n",
    "#with open(\"/home/salman/NeuroNER-master/data/Speedi/TEST_last_names_unambig.txt\") as f:\n",
    "with open(\"/home/salman/NeuroNER-master/data/Speedi/last_names_unambig.txt\") as f:\n",
    "    for line in f:\n",
    "        with open(\"/home/salman/NeuroNER-master/data/Speedi/test/xw%s.txt\"%(i+100000),\"w\") as wf:\n",
    "            wf.write(\"Mrs. %s is stable status post her stroke.\\n\"%line[:-1].capitalize())\n",
    "        i=i+1"
   ]
  },
  {
   "cell_type": "code",
   "execution_count": 21,
   "metadata": {},
   "outputs": [],
   "source": [
    "i=1\n",
    "#with open(\"/home/salman/NeuroNER-master/data/Speedi/TEST_last_names_unambig.txt\") as f:\n",
    "with open(\"/home/salman/NeuroNER-master/data/Speedi/last_names_unambig.txt\") as f:\n",
    "    for line in f:\n",
    "        with open(\"/home/salman/NeuroNER-master/data/Speedi/test/x3w%s.txt\"%(i+100000),\"w\") as wf:\n",
    "            wf.write(\"Mrs. %s blood pressure was not well controlled on atenolol and hydrochlorothiazide.\\n\"%line[:-1].capitalize())\n",
    "        i=i+1"
   ]
  },
  {
   "cell_type": "code",
   "execution_count": 570,
   "metadata": {},
   "outputs": [],
   "source": [
    "i=1\n",
    "#with open(\"/home/salman/NeuroNER-master/data/Speedi/TEST_last_names_unambig.txt\") as f:\n",
    "with open(\"/home/salman/NeuroNER-master/data/Speedi/last_names_unambig.txt\") as f:\n",
    "    for line in f:\n",
    "        with open(\"/home/salman/NeuroNER-master/data/Speedi/test/x4w%s.txt\"%(i+100000),\"w\") as wf:\n",
    "            wf.write(\"Mrs. %s had a cholesterol in 2001 of 210\\n\"%line[:-1].capitalize())\n",
    "        i=i+1"
   ]
  },
  {
   "cell_type": "code",
   "execution_count": 588,
   "metadata": {},
   "outputs": [],
   "source": [
    "i=1\n",
    "#with open(\"/home/salman/NeuroNER-master/data/Speedi/TEST_last_names_unambig.txt\") as f:\n",
    "with open(\"/home/salman/NeuroNER-master/data/Speedi/last_names_unambig.txt\") as f:\n",
    "    for line in f:\n",
    "        with open(\"/home/salman/NeuroNER-master/data/Speedi/test/x5w%s.txt\"%(i+100000),\"w\") as wf:\n",
    "            wf.write(\"In 2001 Mrs. %s presented with ataxia and dizziness.\\n\"%line[:-1].capitalize())\n",
    "        i=i+1"
   ]
  },
  {
   "cell_type": "code",
   "execution_count": 4,
   "metadata": {},
   "outputs": [],
   "source": [
    "i=1\n",
    "#with open(\"/home/salman/NeuroNER-master/data/Speedi/TEST_last_names_unambig.txt\") as f:\n",
    "with open(\"/home/salman/NeuroNER-master/data/Speedi/last_names_unambig.txt\") as f:\n",
    "    for line in f:\n",
    "        with open(\"/home/salman/NeuroNER-master/data/Speedi/test/x6w%s.txt\"%(i+100000),\"w\") as wf:\n",
    "            wf.write(\"Mrs. %s has had borderline glucose intolerance as well as an elevated alkaline/phosphatase.\\n\"%line[:-1].capitalize())\n",
    "        i=i+1"
   ]
  },
  {
   "cell_type": "code",
   "execution_count": 38,
   "metadata": {},
   "outputs": [],
   "source": [
    "i=1\n",
    "#with open(\"/home/salman/NeuroNER-master/data/Speedi/TEST_last_names_unambig.txt\") as f:\n",
    "with open(\"/home/salman/NeuroNER-master/data/Speedi/last_names_unambig.txt\") as f:\n",
    "    for line in f:\n",
    "        with open(\"/home/salman/NeuroNER-master/data/Speedi/test/x7w%s.txt\"%(i+100000),\"w\") as wf:\n",
    "            wf.write(\"I will also check a random glucose level today as diabetes does run in the family and Mrs. %s has had borderline elevated sugars in the past.\\n\"%line[:-1].capitalize())\n",
    "        i=i+1"
   ]
  },
  {
   "cell_type": "code",
   "execution_count": 81,
   "metadata": {},
   "outputs": [],
   "source": [
    "i=1\n",
    "#with open(\"/home/salman/NeuroNER-master/data/Speedi/TEST_last_names_unambig.txt\") as f:\n",
    "with open(\"/home/salman/NeuroNER-master/data/Speedi/last_names_unambig.txt\") as f:\n",
    "    for line in f:\n",
    "        with open(\"/home/salman/NeuroNER-master/data/Speedi/test/x8w%s.txt\"%(i+100000),\"w\") as wf:\n",
    "            wf.write(\"I have also started Mrs. %s on a multivitamin with minerals as well as 800 IU a day of vitamin E at the recommendation of Dr. Jones\\n\"%line[:-1].capitalize())\n",
    "        i=i+1"
   ]
  },
  {
   "cell_type": "code",
   "execution_count": 2,
   "metadata": {},
   "outputs": [],
   "source": [
    "i=1\n",
    "#with open(\"/home/salman/NeuroNER-master/data/Speedi/TEST_last_names_unambig.txt\") as f:\n",
    "with open(\"/home/salman/NeuroNER-master/data/Speedi/last_names_unambig.txt\") as f:\n",
    "    for line in f:\n",
    "        with open(\"/home/salman/NeuroNER-master/data/Speedi/test/x9w%s.txt\"%(i+100000),\"w\") as wf:\n",
    "            wf.write(\"I will see Mrs. %s in approximately six to eight weeks to reassess her blood pressure and her response to the addition of lisinopril.\\n\"%line[:-1].capitalize())\n",
    "        i=i+1"
   ]
  },
  {
   "cell_type": "code",
   "execution_count": 79,
   "metadata": {},
   "outputs": [],
   "source": [
    "i=1\n",
    "#with open(\"/home/salman/NeuroNER-master/data/Speedi/TEST_last_names_unambig.txt\") as f:\n",
    "with open(\"/home/salman/NeuroNER-master/data/Speedi/last_names_unambig.txt\") as f:\n",
    "    for line in f:\n",
    "        with open(\"/home/salman/NeuroNER-master/data/Speedi/test/x10w%s.txt\"%(i+100000),\"w\") as wf:\n",
    "            wf.write(\"In 2010 Mrs. %s presented with ataxia and dizziness.\\n\"%line[:-1].capitalize())\n",
    "        i=i+1"
   ]
  },
  {
   "cell_type": "code",
   "execution_count": null,
   "metadata": {},
   "outputs": [],
   "source": []
  },
  {
   "cell_type": "code",
   "execution_count": null,
   "metadata": {},
   "outputs": [],
   "source": []
  },
  {
   "cell_type": "code",
   "execution_count": 157,
   "metadata": {},
   "outputs": [],
   "source": [
    "i=1\n",
    "#with open(\"/home/salman/NeuroNER-master/data/Speedi/TEST_last_names_unambig.txt\") as f:\n",
    "with open(\"/home/salman/NeuroNER-master/data/Speedi/last_names_unambig.txt\") as f:\n",
    "    for line in f:\n",
    "        with open(\"/home/salman/NeuroNER-master/data/Speedi/test/x20w%s.txt\"%(i+100000),\"w\") as wf:\n",
    "            wf.write(\"Emily %s is the patient\\n\"%line[:-1].capitalize())\n",
    "        i=i+1"
   ]
  },
  {
   "cell_type": "code",
   "execution_count": 180,
   "metadata": {},
   "outputs": [],
   "source": [
    "i=1\n",
    "#with open(\"/home/salman/NeuroNER-master/data/Speedi/TEST_last_names_unambig.txt\") as f:\n",
    "with open(\"/home/salman/NeuroNER-master/data/Speedi/last_names_unambig.txt\") as f:\n",
    "    for line in f:\n",
    "        with open(\"/home/salman/NeuroNER-master/data/Speedi/test/x21w%s.txt\"%(i+100000),\"w\") as wf:\n",
    "            wf.write(\"Yamilex %s is the patient\\n\"%line[:-1].capitalize())\n",
    "        i=i+1"
   ]
  },
  {
   "cell_type": "code",
   "execution_count": null,
   "metadata": {},
   "outputs": [],
   "source": []
  },
  {
   "cell_type": "code",
   "execution_count": 14,
   "metadata": {},
   "outputs": [],
   "source": [
    "i=1\n",
    "#with open(\"/home/salman/NeuroNER-master/data/Speedi/TEST_last_names_unambig.txt\") as f:\n",
    "with open(\"/home/salman/NeuroNER-master/data/Speedi/last_names_unambig.txt\") as f:\n",
    "    for line in f:\n",
    "        with open(\"/home/salman/NeuroNER-master/data/Speedi/test/Mr1%s.txt\"%(i+100000),\"w\") as wf:\n",
    "            wf.write(\"Mr. %s is thinking about it , but hasn't yet called for an OR date.\\n\"%line[:-1].capitalize())\n",
    "        i=i+1"
   ]
  },
  {
   "cell_type": "code",
   "execution_count": null,
   "metadata": {},
   "outputs": [],
   "source": []
  },
  {
   "cell_type": "code",
   "execution_count": null,
   "metadata": {},
   "outputs": [],
   "source": []
  },
  {
   "cell_type": "code",
   "execution_count": 185,
   "metadata": {},
   "outputs": [
    {
     "data": {
      "text/plain": [
       "(49,)"
      ]
     },
     "execution_count": 185,
     "metadata": {},
     "output_type": "execute_result"
    }
   ],
   "source": [
    "ALAKIPALAKI.shape"
   ]
  },
  {
   "cell_type": "code",
   "execution_count": 205,
   "metadata": {},
   "outputs": [],
   "source": [
    "ALAKIPALAKI=np.load(\"/home/salman/NeuroNER-master/src/SalmanTest/x5ti.npy\")\n",
    "ALAKIAA=np.load(\"/home/salman/NeuroNER-master/src/SalmanTest/x5mainSalmanUnary_scorestest.npy\")\n",
    "ALAKICC=np.load(\"/home/salman/NeuroNER-master/src/SalmanTest/x5mainSalmanCCCtest.npy\")\n"
   ]
  },
  {
   "cell_type": "code",
   "execution_count": 237,
   "metadata": {},
   "outputs": [
    {
     "name": "stdout",
     "output_type": "stream",
     "text": [
      "[ 7  1  4  9 10 17 19 17  2  6  6  4  0  1 26  4  4 22  2]\n",
      "[85, 69, 69, 70, 69, 69, 69, 69, 69, 69, 69, 69, 69, 69, 69, 69, 69, 74, 69]\n",
      "*3\n",
      "[  4  11   2  26 101 229 241 157 424  33]\n",
      "[69, 74, 69, 85, 69, 69, 69, 69, 69, 69]\n",
      "*4\n",
      "[   89 11034   134    58    51    43    29    89    79    25    82    91\n",
      "    27]\n",
      "[69, 85, 69, 69, 69, 69, 69, 69, 69, 69, 69, 69, 69]\n",
      "*7\n",
      "[   91 11302    17    37    98   522   142   112   139   163   182  1049\n",
      "  6196    47    11    12]\n",
      "[69, 85, 69, 69, 69, 69, 69, 69, 69, 69, 69, 69, 69, 69, 69, 69]\n",
      "*12\n",
      "[ 2  1  8 11  4  3]\n",
      "[85, 69, 69, 69, 69, 69]\n",
      "*14\n",
      "[   50 13904    35    10     7     6    17    15     6    14]\n",
      "[69, 85, 69, 69, 69, 69, 69, 69, 69, 69]\n",
      "*31\n",
      "[   47 20835     2     0     7    22   325     9    49]\n",
      "[69, 85, 69, 69, 69, 69, 69, 69, 69]\n",
      "*37\n",
      "[  80 3531    5   15    2   18  426    6    0    4]\n",
      "[69, 85, 69, 69, 69, 69, 74, 69, 69, 69]\n",
      "*41\n",
      "[   15    17    25   112    38    19   354    46   196    43   288    38\n",
      "    66     9     1     1    21    52 29783    18    24    27    23    82\n",
      "     6     0     0    13]\n",
      "[69, 69, 69, 69, 69, 69, 69, 69, 69, 69, 69, 69, 69, 69, 69, 69, 69, 69, 85, 69, 69, 69, 69, 69, 69, 69, 69, 69]\n",
      "*43\n",
      "[ 23  11  13   9  53 612  11   3   0   5   0   3   2   7   0  22   3   1\n",
      "   1  21   1  25   3   1  15  98  12  20]\n",
      "[69, 69, 69, 69, 69, 85, 69, 69, 69, 69, 69, 69, 69, 69, 69, 69, 69, 69, 69, 69, 69, 69, 69, 69, 69, 69, 76, 69]\n",
      "*44\n",
      "[ 14  11  35  91 921  10   1   4   8   0   1   8   5  22 204 269  30 167\n",
      " 178 145  22  13  20   8  27]\n",
      "[69, 69, 69, 69, 85, 69, 69, 69, 69, 69, 69, 69, 69, 69, 69, 69, 69, 69, 69, 69, 69, 69, 69, 69, 69]\n",
      "*45\n"
     ]
    }
   ],
   "source": [
    "i=0\n",
    "for tem in ALAKIAA:\n",
    "    if (85 in ALAKICC[i]):\n",
    "        print(Probab(ALAKIAA[i]))\n",
    "        print(ALAKICC[i])\n",
    "        print(\"*%s\"%i)\n",
    "    i=i+1"
   ]
  },
  {
   "cell_type": "code",
   "execution_count": 16,
   "metadata": {},
   "outputs": [
    {
     "data": {
      "text/plain": [
       "array([ 14,  11,  35,  91, 921,  10,   1,   4,   8,   0,   1,   8,   5,\n",
       "        22, 204, 269,  30, 167, 178, 145,  22,  13,  20,   8,  27])"
      ]
     },
     "execution_count": 16,
     "metadata": {},
     "output_type": "execute_result"
    }
   ],
   "source": [
    "Probab(xA[54081])"
   ]
  },
  {
   "cell_type": "code",
   "execution_count": 234,
   "metadata": {},
   "outputs": [
    {
     "data": {
      "text/plain": [
       "0"
      ]
     },
     "execution_count": 234,
     "metadata": {},
     "output_type": "execute_result"
    }
   ],
   "source": [
    "i"
   ]
  },
  {
   "cell_type": "code",
   "execution_count": 201,
   "metadata": {},
   "outputs": [
    {
     "data": {
      "text/plain": [
       "array([  2,   0,   4,  62,  34, 145, 189, 122, 428,  22])"
      ]
     },
     "execution_count": 201,
     "metadata": {},
     "output_type": "execute_result"
    }
   ],
   "source": [
    "Probab(ALAKIAA[0])"
   ]
  },
  {
   "cell_type": "code",
   "execution_count": 202,
   "metadata": {},
   "outputs": [
    {
     "data": {
      "text/plain": [
       "array([  4,  11,   2,  26, 101, 229, 241, 157, 424,  33])"
      ]
     },
     "execution_count": 202,
     "metadata": {},
     "output_type": "execute_result"
    }
   ],
   "source": [
    "Probab(ALAKIAA[1])"
   ]
  },
  {
   "cell_type": "code",
   "execution_count": 196,
   "metadata": {},
   "outputs": [
    {
     "data": {
      "text/plain": [
       "array([  4,  11,   2,  26, 101, 229, 241, 157, 424,  33])"
      ]
     },
     "execution_count": 196,
     "metadata": {},
     "output_type": "execute_result"
    }
   ],
   "source": [
    "Probab(ALAKIAA[4])"
   ]
  },
  {
   "cell_type": "code",
   "execution_count": 199,
   "metadata": {},
   "outputs": [
    {
     "data": {
      "text/plain": [
       "[116, 18, 16, 11, 56, 19, 35, 5, 32, 1]"
      ]
     },
     "execution_count": 199,
     "metadata": {},
     "output_type": "execute_result"
    }
   ],
   "source": [
    "ALAKIPALAKI[4]"
   ]
  },
  {
   "cell_type": "code",
   "execution_count": 187,
   "metadata": {},
   "outputs": [
    {
     "data": {
      "text/plain": [
       "array([[ 8,  9,  7,  6,  2,  1,  4,  5,  3, 10]])"
      ]
     },
     "execution_count": 187,
     "metadata": {},
     "output_type": "execute_result"
    }
   ],
   "source": [
    "ALAKIPALAKI"
   ]
  },
  {
   "cell_type": "code",
   "execution_count": 184,
   "metadata": {
    "scrolled": true
   },
   "outputs": [
    {
     "data": {
      "text/plain": [
       "array([list([223, 185, 11, 51, 5, 273, 5, 32, 248, 11, 49, 4, 235, 278, 0, 277, 252, 11, 78, 79, 78, 79, 240, 228, 253, 265, 255, 218, 4, 244, 242, 229, 249, 4, 213]),\n",
       "       list([0, 80, 49, 4, 48, 225, 11, 10, 4, 0, 219, 280, 11, 275, 5, 264, 5, 271, 77, 32, 4, 51, 224, 46, 53, 11]),\n",
       "       list([216, 24, 27, 156, 53, 21, 77, 268, 4, 51, 1]),\n",
       "       list([0, 24, 7, 261, 5, 138, 85, 86, 18, 152, 123, 20, 40, 42, 7, 28, 13, 33, 1]),\n",
       "       list([236, 33, 16, 10, 125, 12, 73, 3, 68, 1]),\n",
       "       list([15, 2, 64, 8, 45, 7, 60, 36, 54, 3, 7, 60, 126, 157, 194, 74, 181, 28, 1]),\n",
       "       list([15, 2, 64, 8, 72, 160, 25, 39, 38, 3, 2, 55, 21, 31, 1]),\n",
       "       list([16, 10, 30, 23, 2, 43, 20, 69, 21, 31, 3, 162, 1]),\n",
       "       list([215, 2, 210, 1]),\n",
       "       list([214, 41, 115, 12, 118, 73, 3, 68, 127, 178, 8, 133, 9, 6, 30, 23, 1]),\n",
       "       list([230, 139, 4, 41, 2, 137, 146, 135, 25, 39, 38, 1]),\n",
       "       list([15, 47, 14, 27, 245, 190, 91, 95, 158, 87, 148, 45, 201, 188, 149, 1]),\n",
       "       list([16, 10, 22, 14, 71, 63, 155, 26, 20, 26, 27, 67, 209, 276, 128, 1]),\n",
       "       list([15, 14, 14, 7, 164, 258, 9, 262, 279, 100, 13, 33, 1]),\n",
       "       list([0, 24, 168, 179, 20, 1]), list([15, 22, 44, 131, 189, 1]),\n",
       "       list([15, 22, 14, 27, 211, 103, 167, 134, 8, 17, 202, 3, 89, 17, 109, 150, 12, 6, 184, 12, 62, 175, 1]),\n",
       "       list([15, 22, 14, 44, 192, 132, 4, 108, 9, 196, 4, 208, 13, 6, 197, 136, 198, 165, 1]),\n",
       "       list([234, 11, 81, 270, 207, 12, 266, 0, 1, 46, 6, 163, 9, 36, 74, 54, 3]),\n",
       "       list([31, 82, 0, 1, 227, 29, 11, 254, 23, 2, 0, 1]),\n",
       "       list([239, 121, 2, 259, 3, 116, 1]), list([76, 0, 29, 2, 93, 1]),\n",
       "       list([233, 2, 102, 34, 0, 1]),\n",
       "       list([217, 35, 52, 83, 0, 34, 0, 3, 99, 35, 44, 36, 0, 1]),\n",
       "       list([250, 2, 191, 8, 204, 1]),\n",
       "       list([251, 174, 57, 27, 220, 169, 1]),\n",
       "       list([257, 29, 2, 200, 3, 66, 35, 34, 177, 1]),\n",
       "       list([231, 29, 57, 117, 8, 72, 52, 83, 13, 17, 92, 66, 3, 25, 17, 153, 199, 12, 0, 96, 1]),\n",
       "       list([243, 5, 140, 5, 172, 2, 61, 4, 221, 2, 61, 4, 3, 170, 2, 56, 12, 7, 143, 203, 1]),\n",
       "       list([256, 3, 58, 11, 272, 1]), list([238, 1]),\n",
       "       list([16, 10, 30, 23, 24, 186, 43, 20, 69, 1]),\n",
       "       list([15, 22, 94, 14, 159, 65, 37, 46, 6, 161, 1]),\n",
       "       list([18, 19, 105, 6, 21, 263, 147, 1]),\n",
       "       list([9, 212, 13, 75, 8, 6, 106, 82, 9, 31, 1]), list([52, 1]),\n",
       "       list([232, 1]), list([16, 10, 24, 56, 40, 42, 6, 28, 1]),\n",
       "       list([15, 19, 187, 21, 81, 1]),\n",
       "       list([18, 19, 43, 58, 206, 171, 141, 84, 37, 25, 98, 38, 1]),\n",
       "       list([267, 1, 226, 195, 154, 1]),\n",
       "       list([16, 10, 14, 7, 70, 13, 33, 9, 269, 1]),\n",
       "       list([18, 19, 101, 7, 65, 37, 70, 59, 166, 39, 41, 142, 62, 112, 124, 40, 42, 6, 28, 1]),\n",
       "       list([18, 19, 47, 193, 7, 122, 63, 59, 97, 26, 182, 180, 113, 13, 17, 173, 3, 16, 10, 22, 14, 71, 67, 104, 13, 17, 130, 1]),\n",
       "       list([18, 45, 47, 55, 16, 10, 21, 7, 144, 12, 145, 26, 20, 26, 260, 237, 7, 183, 9, 90, 246, 25, 17, 119, 9, 247, 0, 1]),\n",
       "       list([18, 19, 111, 16, 10, 13, 205, 107, 8, 176, 88, 8, 120, 6, 30, 23, 3, 6, 114, 8, 17, 75, 9, 151, 1]),\n",
       "       list([76, 129, 2, 110, 12, 222, 0, 4, 48, 80, 49, 4, 48]),\n",
       "       list([241, 11]),\n",
       "       list([0, 0, 5, 32, 5, 50, 0, 5, 274, 5, 50, 0, 5, 32, 5, 50])],\n",
       "      dtype=object)"
      ]
     },
     "execution_count": 184,
     "metadata": {},
     "output_type": "execute_result"
    }
   ],
   "source": [
    "ALAKIPALAKI"
   ]
  },
  {
   "cell_type": "code",
   "execution_count": 15,
   "metadata": {},
   "outputs": [
    {
     "data": {
      "text/plain": [
       "array([3472,  511,  464, ...,   85,   10,  189])"
      ]
     },
     "execution_count": 15,
     "metadata": {},
     "output_type": "execute_result"
    }
   ],
   "source": [
    "T6"
   ]
  },
  {
   "cell_type": "code",
   "execution_count": null,
   "metadata": {},
   "outputs": [],
   "source": []
  },
  {
   "cell_type": "code",
   "execution_count": 26,
   "metadata": {},
   "outputs": [],
   "source": [
    "np.save(\"/home/salman/NeuroNER-master/src/SalmanTest/TVals/T10\",T)"
   ]
  },
  {
   "cell_type": "code",
   "execution_count": 242,
   "metadata": {},
   "outputs": [],
   "source": [
    "np.save(\"/home/salman/NeuroNER-master/src/SalmanTest/TVals/T1\",T1)\n",
    "np.save(\"/home/salman/NeuroNER-master/src/SalmanTest/TVals/T2\",T2)\n",
    "np.save(\"/home/salman/NeuroNER-master/src/SalmanTest/TVals/T3\",T3)\n",
    "np.save(\"/home/salman/NeuroNER-master/src/SalmanTest/TVals/T4\",T4)\n",
    "np.save(\"/home/salman/NeuroNER-master/src/SalmanTest/TVals/T5\",T5)\n",
    "np.save(\"/home/salman/NeuroNER-master/src/SalmanTest/TVals/T6\",T6)\n",
    "np.save(\"/home/salman/NeuroNER-master/src/SalmanTest/TVals/T7\",T7)\n",
    "np.save(\"/home/salman/NeuroNER-master/src/SalmanTest/TVals/T8\",T8)\n",
    "np.save(\"/home/salman/NeuroNER-master/src/SalmanTest/TVals/T9\",T9)"
   ]
  },
  {
   "cell_type": "code",
   "execution_count": null,
   "metadata": {},
   "outputs": [],
   "source": []
  },
  {
   "cell_type": "code",
   "execution_count": null,
   "metadata": {},
   "outputs": [],
   "source": []
  },
  {
   "cell_type": "code",
   "execution_count": null,
   "metadata": {},
   "outputs": [],
   "source": [
    "T1=np.load(\"/home/salman/NeuroNER-master/src/SalmanTest/TVals/T1.npy\")"
   ]
  },
  {
   "cell_type": "code",
   "execution_count": 27,
   "metadata": {},
   "outputs": [],
   "source": [
    "T1=np.load(\"/home/salman/NeuroNER-master/src/SalmanTest/TVals/T1.npy\")\n",
    "T2=np.load(\"/home/salman/NeuroNER-master/src/SalmanTest/TVals/T2.npy\")\n",
    "T3=np.load(\"/home/salman/NeuroNER-master/src/SalmanTest/TVals/T3.npy\")\n",
    "T4=np.load(\"/home/salman/NeuroNER-master/src/SalmanTest/TVals/T4.npy\")\n",
    "T5=np.load(\"/home/salman/NeuroNER-master/src/SalmanTest/TVals/T5.npy\")\n",
    "T6=np.load(\"/home/salman/NeuroNER-master/src/SalmanTest/TVals/T6.npy\")\n",
    "T7=np.load(\"/home/salman/NeuroNER-master/src/SalmanTest/TVals/T7.npy\")\n",
    "T8=np.load(\"/home/salman/NeuroNER-master/src/SalmanTest/TVals/T8.npy\")\n",
    "T9=np.load(\"/home/salman/NeuroNER-master/src/SalmanTest/TVals/T9.npy\")\n",
    "T10=np.load(\"/home/salman/NeuroNER-master/src/SalmanTest/TVals/T10.npy\")\n"
   ]
  },
  {
   "cell_type": "code",
   "execution_count": 20,
   "metadata": {},
   "outputs": [],
   "source": [
    "ms9=T9>2*np.std(T9)+np.median(T9)"
   ]
  },
  {
   "cell_type": "code",
   "execution_count": 43,
   "metadata": {},
   "outputs": [],
   "source": [
    "ms1=T1>2*np.std(T1)+np.median(T1)\n",
    "ms2=T2>2*np.std(T2)+np.median(T2)\n",
    "ms3=T3>2*np.std(T3)+np.median(T3)\n",
    "ms4=T4>2*np.std(T4)+np.median(T4)\n",
    "ms5=T5>2*np.std(T5)+np.median(T5)\n",
    "ms6=T6>2*np.std(T6)+np.median(T6)\n",
    "ms7=T7>2*np.std(T7)+np.median(T7)\n",
    "ms8=T8>2*np.std(T8)+np.median(T8)\n",
    "ms9=T9>2*np.std(T9)+np.median(T9)\n",
    "ms10=T10>2*np.std(T10)+np.median(T10)\n"
   ]
  },
  {
   "cell_type": "code",
   "execution_count": 115,
   "metadata": {},
   "outputs": [],
   "source": [
    "def Filt(T,a=2):\n",
    "    return([T>(a*np.std(T))+np.median(T)])"
   ]
  },
  {
   "cell_type": "code",
   "execution_count": 79,
   "metadata": {},
   "outputs": [
    {
     "data": {
      "text/plain": [
       "(1217,)"
      ]
     },
     "execution_count": 79,
     "metadata": {},
     "output_type": "execute_result"
    }
   ],
   "source": [
    "T1[ms1*ms2*ms3*ms4*ms6*ms7].shape"
   ]
  },
  {
   "cell_type": "code",
   "execution_count": 49,
   "metadata": {},
   "outputs": [
    {
     "data": {
      "text/plain": [
       "(1017,)"
      ]
     },
     "execution_count": 49,
     "metadata": {},
     "output_type": "execute_result"
    }
   ],
   "source": [
    "T1[ms1*ms2*ms3*ms4*ms6*ms7*ms8].shape"
   ]
  },
  {
   "cell_type": "code",
   "execution_count": 50,
   "metadata": {},
   "outputs": [
    {
     "data": {
      "text/plain": [
       "True"
      ]
     },
     "execution_count": 50,
     "metadata": {},
     "output_type": "execute_result"
    }
   ],
   "source": [
    "(ms1*ms2*ms3*ms4*ms6*ms7*ms8)[54081]"
   ]
  },
  {
   "cell_type": "code",
   "execution_count": 94,
   "metadata": {},
   "outputs": [
    {
     "data": {
      "text/plain": [
       "2138"
      ]
     },
     "execution_count": 94,
     "metadata": {},
     "output_type": "execute_result"
    }
   ],
   "source": [
    "T1[T1>3*np.std(T1)+np.median(T1)].shape[0]"
   ]
  },
  {
   "cell_type": "code",
   "execution_count": 53,
   "metadata": {},
   "outputs": [
    {
     "data": {
      "text/plain": [
       "(13904, 20835, 11034, 2569, 11302, 29783, 698)"
      ]
     },
     "execution_count": 53,
     "metadata": {},
     "output_type": "execute_result"
    }
   ],
   "source": [
    "i=54081\n",
    "T1[i],T2[i],T3[i],T4[i],T6[i],T7[i],T8[i]"
   ]
  },
  {
   "cell_type": "code",
   "execution_count": 93,
   "metadata": {},
   "outputs": [
    {
     "data": {
      "text/plain": [
       "True"
      ]
     },
     "execution_count": 93,
     "metadata": {},
     "output_type": "execute_result"
    }
   ],
   "source": [
    "Filt(T8,2)[0][i]"
   ]
  },
  {
   "cell_type": "code",
   "execution_count": 64,
   "metadata": {},
   "outputs": [
    {
     "data": {
      "text/plain": [
       "(4691,)"
      ]
     },
     "execution_count": 64,
     "metadata": {},
     "output_type": "execute_result"
    }
   ],
   "source": [
    "T1[T1>2*np.std(T1)+np.median(T1)].shape"
   ]
  },
  {
   "cell_type": "code",
   "execution_count": 97,
   "metadata": {},
   "outputs": [
    {
     "data": {
      "text/plain": [
       "(4691,)"
      ]
     },
     "execution_count": 97,
     "metadata": {},
     "output_type": "execute_result"
    }
   ],
   "source": [
    "T1[tuple(Filt(T1))].shape"
   ]
  },
  {
   "cell_type": "code",
   "execution_count": 121,
   "metadata": {},
   "outputs": [
    {
     "data": {
      "text/plain": [
       "(3516,)"
      ]
     },
     "execution_count": 121,
     "metadata": {},
     "output_type": "execute_result"
    }
   ],
   "source": [
    "T1[(tuple(Filt(T1))[0]*tuple(Filt(T2))[0])].shape"
   ]
  },
  {
   "cell_type": "code",
   "execution_count": 143,
   "metadata": {},
   "outputs": [
    {
     "data": {
      "text/plain": [
       "(2631,)"
      ]
     },
     "execution_count": 143,
     "metadata": {},
     "output_type": "execute_result"
    }
   ],
   "source": [
    "T1[(tuple(Filt(T1))[0]*tuple(Filt(T2))[0]*tuple(Filt(T3))[0])].shape"
   ]
  },
  {
   "cell_type": "code",
   "execution_count": 136,
   "metadata": {},
   "outputs": [
    {
     "data": {
      "text/plain": [
       "(1774,)"
      ]
     },
     "execution_count": 136,
     "metadata": {},
     "output_type": "execute_result"
    }
   ],
   "source": [
    "T1[(tuple(Filt(T1))[0]*tuple(Filt(T2))[0]*tuple(Filt(T3))[0]*tuple(Filt(T4))[0])].shape"
   ]
  },
  {
   "cell_type": "code",
   "execution_count": 144,
   "metadata": {},
   "outputs": [
    {
     "data": {
      "text/plain": [
       "(1576,)"
      ]
     },
     "execution_count": 144,
     "metadata": {},
     "output_type": "execute_result"
    }
   ],
   "source": [
    "T1[(tuple(Filt(T1))[0]*tuple(Filt(T2))[0]*tuple(Filt(T3))[0]*tuple(Filt(T4))[0]*\\\n",
    "    tuple(Filt(T6))[0])].shape"
   ]
  },
  {
   "cell_type": "code",
   "execution_count": 126,
   "metadata": {},
   "outputs": [
    {
     "data": {
      "text/plain": [
       "(1217,)"
      ]
     },
     "execution_count": 126,
     "metadata": {},
     "output_type": "execute_result"
    }
   ],
   "source": [
    "T1[(tuple(Filt(T1))[0]*tuple(Filt(T2))[0]*tuple(Filt(T3))[0]*tuple(Filt(T4))[0]*\\\n",
    "    tuple(Filt(T6))[0]*tuple(Filt(T7))[0])].shape"
   ]
  },
  {
   "cell_type": "code",
   "execution_count": 127,
   "metadata": {},
   "outputs": [
    {
     "data": {
      "text/plain": [
       "(1017,)"
      ]
     },
     "execution_count": 127,
     "metadata": {},
     "output_type": "execute_result"
    }
   ],
   "source": [
    "T1[(tuple(Filt(T1))[0]*tuple(Filt(T2))[0]*tuple(Filt(T3))[0]*tuple(Filt(T4))[0]*\\\n",
    "    tuple(Filt(T6))[0]*tuple(Filt(T7))[0]*tuple(Filt(T8))[0])].shape"
   ]
  },
  {
   "cell_type": "code",
   "execution_count": 111,
   "metadata": {},
   "outputs": [
    {
     "data": {
      "text/plain": [
       "[<matplotlib.lines.Line2D at 0x7f6b3a313cc0>]"
      ]
     },
     "execution_count": 111,
     "metadata": {},
     "output_type": "execute_result"
    },
    {
     "data": {
      "image/png": "[encoded data removed]",
      "text/plain": [
       "<Figure size 432x288 with 1 Axes>"
      ]
     },
     "metadata": {},
     "output_type": "display_data"
    }
   ],
   "source": [
    "plt.plot([923,1017,1217,1576,1774,2631,3516,4691],\"-*\")\n",
    "plt.plot(900*np.exp(np.arange(8)*0.23))"
   ]
  },
  {
   "cell_type": "code",
   "execution_count": 18,
   "metadata": {},
   "outputs": [
    {
     "data": {
      "text/plain": [
       "[<matplotlib.lines.Line2D at 0x7fdb2688c8d0>]"
      ]
     },
     "execution_count": 18,
     "metadata": {},
     "output_type": "execute_result"
    },
    {
     "data": {
      "image/png": "[encoded data removed]",
      "text/plain": [
       "<Figure size 432x288 with 1 Axes>"
      ]
     },
     "metadata": {},
     "output_type": "display_data"
    }
   ],
   "source": [
    "plt.plot(np.array([923,1017,1217,1576,1774,2631,3516,4691])/81497.0,\"-*\")\n",
    "plt.plot(np.array([29,29,32,37,50])/81497.0,\"-*\")\n",
    "\n",
    "#plt.plot(0.01*np.exp(np.arange(8)*0.23))"
   ]
  },
  {
   "cell_type": "code",
   "execution_count": 19,
   "metadata": {},
   "outputs": [
    {
     "data": {
      "text/plain": [
       "[<matplotlib.lines.Line2D at 0x7fdb2679f7f0>]"
      ]
     },
     "execution_count": 19,
     "metadata": {},
     "output_type": "execute_result"
    },
    {
     "data": {
      "image/png": "[encoded data removed]",
      "text/plain": [
       "<Figure size 432x288 with 1 Axes>"
      ]
     },
     "metadata": {},
     "output_type": "display_data"
    }
   ],
   "source": [
    "plt.plot(np.array([29,29,32,37,50])/81497.0,\"-*\")"
   ]
  },
  {
   "cell_type": "code",
   "execution_count": 134,
   "metadata": {},
   "outputs": [],
   "source": [
    "#plt.plot([1017,1217,1576,1774,2631,3516,4691,81497],\"-*\")"
   ]
  },
  {
   "cell_type": "code",
   "execution_count": 151,
   "metadata": {},
   "outputs": [
    {
     "data": {
      "text/plain": [
       "array([False, False, False, ..., False, False, False])"
      ]
     },
     "execution_count": 151,
     "metadata": {},
     "output_type": "execute_result"
    }
   ],
   "source": [
    "ms1*ms2"
   ]
  },
  {
   "cell_type": "code",
   "execution_count": 158,
   "metadata": {},
   "outputs": [
    {
     "data": {
      "text/plain": [
       "True"
      ]
     },
     "execution_count": 158,
     "metadata": {},
     "output_type": "execute_result"
    }
   ],
   "source": [
    "(np.argwhere(ms1*ms2*ms3*ms4*ms6*ms7*ms8)==54081).any()"
   ]
  },
  {
   "cell_type": "code",
   "execution_count": 168,
   "metadata": {
    "scrolled": false
   },
   "outputs": [
    {
     "data": {
      "text/plain": [
       "array([[519],\n",
       "       [624],\n",
       "       [695],\n",
       "       [698],\n",
       "       [716],\n",
       "       [749],\n",
       "       [750],\n",
       "       [808],\n",
       "       [830],\n",
       "       [956]])"
      ]
     },
     "execution_count": 168,
     "metadata": {},
     "output_type": "execute_result"
    }
   ],
   "source": [
    "np.argwhere(ms1*ms2*ms3*ms4*ms6*ms7*ms8)[10:20]"
   ]
  },
  {
   "cell_type": "code",
   "execution_count": 59,
   "metadata": {},
   "outputs": [
    {
     "data": {
      "text/plain": [
       "(62, 0.0, 42.65229465326725, 85.3045893065345)"
      ]
     },
     "execution_count": 59,
     "metadata": {},
     "output_type": "execute_result"
    }
   ],
   "source": [
    "T[54081],np.median(T),np.std(T),2*np.std(T)+np.median(T)"
   ]
  },
  {
   "cell_type": "code",
   "execution_count": 78,
   "metadata": {
    "scrolled": true
   },
   "outputs": [
    {
     "name": "stdout",
     "output_type": "stream",
     "text": [
      "1\n",
      "[  4  11   2  26 101 229 241 157 424  33]\n",
      "[69, 74, 69, 85, 69, 69, 69, 69, 69, 69]\n",
      "2\n",
      "[  2   0   4  62  34 145 189 122 428  22]\n",
      "[69, 69, 69, 85, 69, 69, 69, 69, 69, 69]\n",
      "3\n",
      "[  2   0   3  66  42 151 176 119 436  23]\n",
      "[69, 74, 69, 85, 69, 69, 69, 69, 69, 69]\n",
      "4\n",
      "[  4   1   2  40  46 156 171 115 408  24]\n",
      "[69, 74, 69, 85, 69, 69, 69, 69, 69, 69]\n",
      "5\n",
      "[  3  41   3  30  63 185 217 136 483  28]\n",
      "[69, 74, 69, 85, 69, 69, 69, 69, 69, 69]\n",
      "6\n",
      "[  3 316   3  39  86 218 233 150 460  30]\n",
      "[69, 74, 69, 85, 69, 69, 69, 69, 69, 69]\n",
      "7\n",
      "[  3   8   3  26  62 181 221 134 501  28]\n",
      "[69, 74, 69, 85, 69, 69, 69, 69, 69, 69]\n",
      "8\n",
      "[  3  85   3  28 102 220 297 149 503  30]\n",
      "[69, 74, 69, 85, 69, 69, 69, 69, 69, 69]\n",
      "9\n",
      "[  3 784   3  27 101 225 250 156 503  31]\n",
      "[69, 74, 69, 85, 69, 69, 69, 69, 69, 69]\n",
      "10\n",
      "[  4  52   2  20  81 192 234 133 469  28]\n",
      "[69, 74, 69, 85, 69, 69, 69, 69, 69, 69]\n",
      "11\n",
      "[  4 150   4  31  92 212 241 149 485  30]\n",
      "[69, 74, 69, 85, 69, 69, 69, 69, 69, 69]\n",
      "12\n",
      "[  4  15   2   1 169 238 249 174 480  31]\n",
      "[69, 74, 69, 85, 69, 69, 69, 69, 69, 69]\n",
      "13\n",
      "[  2   0   4   5  75 175 228 153 504  23]\n",
      "[69, 69, 69, 85, 69, 69, 69, 69, 69, 69]\n",
      "14\n",
      "[  3   0   3   5  94 182 220 152 524  23]\n",
      "[69, 74, 69, 85, 69, 69, 69, 69, 69, 69]\n",
      "15\n",
      "[  6   1   2   2  87 165 191 135 459  24]\n",
      "[69, 74, 69, 85, 69, 69, 69, 69, 69, 69]\n",
      "16\n",
      "[  4  42   3   2 120 192 239 161 548  28]\n",
      "[69, 74, 69, 85, 69, 69, 69, 69, 69, 69]\n",
      "17\n",
      "[  3 335   3   2 156 204 239 168 507  29]\n",
      "[69, 74, 69, 85, 69, 69, 69, 69, 69, 69]\n",
      "18\n",
      "[  4   9   4   2 114 191 245 161 576  28]\n",
      "[69, 74, 69, 85, 69, 69, 69, 69, 69, 69]\n",
      "19\n",
      "[  4  90   3   2 183 233 359 176 618  29]\n",
      "[69, 74, 69, 85, 69, 69, 69, 69, 69, 69]\n",
      "20\n",
      "[  4 797   3   1 195 230 273 181 578  30]\n",
      "[69, 74, 69, 85, 69, 69, 69, 69, 69, 69]\n",
      "21\n",
      "[  5  59   2   1 131 183 256 146 531  26]\n",
      "[69, 74, 69, 85, 69, 69, 69, 69, 69, 69]\n",
      "22\n",
      "[2]\n",
      "[69]\n"
     ]
    }
   ],
   "source": [
    "for i in range(len(OxA)):\n",
    "    print(i+1)\n",
    "    print(Probab(OxA[i]))\n",
    "    print(OxC[i])"
   ]
  },
  {
   "cell_type": "code",
   "execution_count": 74,
   "metadata": {},
   "outputs": [
    {
     "data": {
      "text/plain": [
       "array([list([69, 74, 69, 85, 69, 69, 69, 69, 69, 69]),\n",
       "       list([69, 69, 69, 85, 69, 69, 69, 69, 69, 69]),\n",
       "       list([69, 74, 69, 85, 69, 69, 69, 69, 69, 69]),\n",
       "       list([69, 74, 69, 85, 69, 69, 69, 69, 69, 69]),\n",
       "       list([69, 74, 69, 85, 69, 69, 69, 69, 69, 69]),\n",
       "       list([69, 74, 69, 85, 69, 69, 69, 69, 69, 69]),\n",
       "       list([69, 74, 69, 85, 69, 69, 69, 69, 69, 69]),\n",
       "       list([69, 74, 69, 85, 69, 69, 69, 69, 69, 69]),\n",
       "       list([69, 74, 69, 85, 69, 69, 69, 69, 69, 69]),\n",
       "       list([69, 74, 69, 85, 69, 69, 69, 69, 69, 69]),\n",
       "       list([69, 74, 69, 85, 69, 69, 69, 69, 69, 69]),\n",
       "       list([69, 74, 69, 85, 69, 69, 69, 69, 69, 69]),\n",
       "       list([69, 69, 69, 85, 69, 69, 69, 69, 69, 69]),\n",
       "       list([69, 74, 69, 85, 69, 69, 69, 69, 69, 69]),\n",
       "       list([69, 74, 69, 85, 69, 69, 69, 69, 69, 69]),\n",
       "       list([69, 74, 69, 85, 69, 69, 69, 69, 69, 69]),\n",
       "       list([69, 74, 69, 85, 69, 69, 69, 69, 69, 69]),\n",
       "       list([69, 74, 69, 85, 69, 69, 69, 69, 69, 69]),\n",
       "       list([69, 74, 69, 85, 69, 69, 69, 69, 69, 69]),\n",
       "       list([69, 74, 69, 85, 69, 69, 69, 69, 69, 69]),\n",
       "       list([69, 74, 69, 85, 69, 69, 69, 69, 69, 69]), list([69])],\n",
       "      dtype=object)"
      ]
     },
     "execution_count": 74,
     "metadata": {},
     "output_type": "execute_result"
    }
   ],
   "source": [
    "OxC"
   ]
  },
  {
   "cell_type": "code",
   "execution_count": 24,
   "metadata": {},
   "outputs": [
    {
     "data": {
      "text/plain": [
       "66"
      ]
     },
     "execution_count": 24,
     "metadata": {},
     "output_type": "execute_result"
    }
   ],
   "source": [
    "T[54081]"
   ]
  },
  {
   "cell_type": "code",
   "execution_count": 25,
   "metadata": {},
   "outputs": [
    {
     "data": {
      "text/plain": [
       "(43.54590065746503, 0.0)"
      ]
     },
     "execution_count": 25,
     "metadata": {},
     "output_type": "execute_result"
    }
   ],
   "source": [
    "np.std(T),np.median(T)"
   ]
  },
  {
   "cell_type": "code",
   "execution_count": 32,
   "metadata": {},
   "outputs": [
    {
     "data": {
      "text/plain": [
       "63"
      ]
     },
     "execution_count": 32,
     "metadata": {},
     "output_type": "execute_result"
    }
   ],
   "source": [
    "AT[54081]"
   ]
  },
  {
   "cell_type": "code",
   "execution_count": 40,
   "metadata": {},
   "outputs": [
    {
     "data": {
      "text/plain": [
       "(3598,)"
      ]
     },
     "execution_count": 40,
     "metadata": {},
     "output_type": "execute_result"
    }
   ],
   "source": [
    "AT[AT>np.std(AT)].shape"
   ]
  },
  {
   "cell_type": "code",
   "execution_count": 41,
   "metadata": {},
   "outputs": [
    {
     "data": {
      "text/plain": [
       "41.26852600040409"
      ]
     },
     "execution_count": 41,
     "metadata": {},
     "output_type": "execute_result"
    }
   ],
   "source": [
    "np.std(AT)"
   ]
  },
  {
   "cell_type": "code",
   "execution_count": 47,
   "metadata": {},
   "outputs": [
    {
     "data": {
      "text/plain": [
       "(1017,)"
      ]
     },
     "execution_count": 47,
     "metadata": {},
     "output_type": "execute_result"
    }
   ],
   "source": [
    "T2[ms1*ms2*ms3*ms4*ms6*ms7*ms8].shape"
   ]
  },
  {
   "cell_type": "code",
   "execution_count": 48,
   "metadata": {},
   "outputs": [
    {
     "data": {
      "text/plain": [
       "(923,)"
      ]
     },
     "execution_count": 48,
     "metadata": {},
     "output_type": "execute_result"
    }
   ],
   "source": [
    "T2[ms1*ms2*ms3*ms4*ms6*ms7*ms8*ms9].shape"
   ]
  },
  {
   "cell_type": "code",
   "execution_count": 49,
   "metadata": {},
   "outputs": [
    {
     "data": {
      "text/plain": [
       "(740,)"
      ]
     },
     "execution_count": 49,
     "metadata": {},
     "output_type": "execute_result"
    }
   ],
   "source": [
    "T2[ms1*ms2*ms3*ms4*ms6*ms7*ms8*ms9*AT>np.std(AT)].shape"
   ]
  },
  {
   "cell_type": "code",
   "execution_count": 55,
   "metadata": {},
   "outputs": [
    {
     "data": {
      "text/plain": [
       "True"
      ]
     },
     "execution_count": 55,
     "metadata": {},
     "output_type": "execute_result"
    }
   ],
   "source": [
    "[ms1*ms2*ms3*ms4*ms6*ms7*ms8*ms9*AT>np.std(AT)][0][54081]"
   ]
  },
  {
   "cell_type": "code",
   "execution_count": 61,
   "metadata": {},
   "outputs": [
    {
     "data": {
      "text/plain": [
       "((1758,), (1758,), (1540,))"
      ]
     },
     "execution_count": 61,
     "metadata": {},
     "output_type": "execute_result"
    }
   ],
   "source": [
    "T1[ms10*AT>np.std(AT)].shape,T1[ms10].shape,T1[AT>2*np.std(AT)].shape"
   ]
  },
  {
   "cell_type": "code",
   "execution_count": 63,
   "metadata": {},
   "outputs": [
    {
     "data": {
      "text/plain": [
       "array([  2,   0,   3,  66,  42, 151, 176, 119, 436,  23])"
      ]
     },
     "execution_count": 63,
     "metadata": {},
     "output_type": "execute_result"
    }
   ],
   "source": [
    "Probab(xA[54081])"
   ]
  },
  {
   "cell_type": "code",
   "execution_count": 78,
   "metadata": {},
   "outputs": [
    {
     "data": {
      "text/plain": [
       "(3593,)"
      ]
     },
     "execution_count": 78,
     "metadata": {},
     "output_type": "execute_result"
    }
   ],
   "source": [
    "T[(T>np.std(T)+np.median(T))*(AT>np.std(AT)+np.median(AT))].shape"
   ]
  },
  {
   "cell_type": "code",
   "execution_count": 119,
   "metadata": {},
   "outputs": [
    {
     "data": {
      "text/plain": [
       "array([[ 31],\n",
       "       [283],\n",
       "       [286],\n",
       "       [289],\n",
       "       [311]])"
      ]
     },
     "execution_count": 119,
     "metadata": {},
     "output_type": "execute_result"
    }
   ],
   "source": [
    "np.argwhere(ms1*ms2*ms3*ms4*ms6*ms7*ms8*ms9)[0:5]"
   ]
  },
  {
   "cell_type": "code",
   "execution_count": 129,
   "metadata": {},
   "outputs": [],
   "source": [
    "i=1\n",
    "#with open(\"/home/salman/NeuroNER-master/data/Speedi/TEST_last_names_unambig.txt\") as f:\n",
    "with open(\"/home/salman/NeuroNER-master/data/Speedi/last_names_unambig.txt\") as f:\n",
    "    with open(\"/home/salman/NeuroNER-master/data/Speedi/test/NAMES.txt\",\"w\") as wf:\n",
    "        for line in f:\n",
    "            if (ms1*ms2*ms3*ms4*ms6*ms7*ms8*ms9)[i-1]:\n",
    "                wf.write(\"%s \\n\"%line[:-1].capitalize())\n",
    "            i=i+1"
   ]
  },
  {
   "cell_type": "code",
   "execution_count": 128,
   "metadata": {},
   "outputs": [
    {
     "data": {
      "text/plain": [
       "False"
      ]
     },
     "execution_count": 128,
     "metadata": {},
     "output_type": "execute_result"
    }
   ],
   "source": [
    "(ms1*ms2*ms3*ms4*ms6*ms7*ms8*ms9)[4]"
   ]
  },
  {
   "cell_type": "code",
   "execution_count": 133,
   "metadata": {},
   "outputs": [
    {
     "name": "stdout",
     "output_type": "stream",
     "text": [
      "*1*\n",
      "[76]\n",
      "*4*\n",
      "[76]\n",
      "*5*\n",
      "[76]\n",
      "*9*\n",
      "[76]\n",
      "*24*\n",
      "[69]\n",
      "*28*\n",
      "[76]\n",
      "*33*\n",
      "[69]\n",
      "*36*\n",
      "[76]\n",
      "*40*\n",
      "[76]\n",
      "*44*\n",
      "[76]\n",
      "*45*\n",
      "[85]\n",
      "*49*\n",
      "[69]\n",
      "*50*\n",
      "[76]\n",
      "*54*\n",
      "[76]\n",
      "*60*\n",
      "[76]\n",
      "*61*\n",
      "[69]\n",
      "*66*\n",
      "[76]\n",
      "*70*\n",
      "[76]\n",
      "*73*\n",
      "[76]\n",
      "*74*\n",
      "[76]\n",
      "*80*\n",
      "[76]\n",
      "*81*\n",
      "[76]\n",
      "*84*\n",
      "[69]\n",
      "*86*\n",
      "[76]\n",
      "*87*\n",
      "[76]\n",
      "*89*\n",
      "[38]\n",
      "*90*\n",
      "[76]\n",
      "*95*\n",
      "[69]\n",
      "*99*\n",
      "[69]\n",
      "*100*\n",
      "[69]\n",
      "*101*\n",
      "[76]\n",
      "*102*\n",
      "[69]\n",
      "*103*\n",
      "[76]\n",
      "*104*\n",
      "[76]\n",
      "*110*\n",
      "[76]\n",
      "*113*\n",
      "[85]\n",
      "*116*\n",
      "[76]\n",
      "*121*\n",
      "[76]\n",
      "*131*\n",
      "[76]\n",
      "*132*\n",
      "[76]\n",
      "*133*\n",
      "[76]\n",
      "*135*\n",
      "[76]\n",
      "*149*\n",
      "[69]\n",
      "*153*\n",
      "[76]\n",
      "*154*\n",
      "[76]\n",
      "*156*\n",
      "[76]\n",
      "*160*\n",
      "[76]\n",
      "*162*\n",
      "[76]\n",
      "*164*\n",
      "[69]\n",
      "*166*\n",
      "[69]\n",
      "*170*\n",
      "[76]\n",
      "*173*\n",
      "[76]\n",
      "*174*\n",
      "[69]\n",
      "*175*\n",
      "[76]\n",
      "*183*\n",
      "[69]\n",
      "*184*\n",
      "[69]\n",
      "*187*\n",
      "[76]\n",
      "*191*\n",
      "[69]\n",
      "*196*\n",
      "[69]\n",
      "*199*\n",
      "[76]\n",
      "*207*\n",
      "[76]\n",
      "*208*\n",
      "[76]\n",
      "*211*\n",
      "[69]\n",
      "*214*\n",
      "[69]\n",
      "*221*\n",
      "[69]\n",
      "*223*\n",
      "[76]\n",
      "*225*\n",
      "[76]\n",
      "*226*\n",
      "[69]\n",
      "*234*\n",
      "[69]\n",
      "*235*\n",
      "[76]\n",
      "*236*\n",
      "[76]\n",
      "*245*\n",
      "[69]\n",
      "*251*\n",
      "[69]\n",
      "*258*\n",
      "[76]\n",
      "*259*\n",
      "[76]\n",
      "*262*\n",
      "[69]\n",
      "*265*\n",
      "[76]\n",
      "*272*\n",
      "[76]\n",
      "*274*\n",
      "[76]\n",
      "*278*\n",
      "[76]\n",
      "*279*\n",
      "[69]\n",
      "*284*\n",
      "[76]\n",
      "*288*\n",
      "[76]\n",
      "*289*\n",
      "[76]\n",
      "*290*\n",
      "[76]\n",
      "*293*\n",
      "[76]\n",
      "*294*\n",
      "[76]\n",
      "*295*\n",
      "[76]\n",
      "*296*\n",
      "[76]\n",
      "*297*\n",
      "[76]\n",
      "*310*\n",
      "[76]\n",
      "*312*\n",
      "[69]\n",
      "*313*\n",
      "[76]\n",
      "*315*\n",
      "[76]\n",
      "*317*\n",
      "[76]\n",
      "*318*\n",
      "[76]\n",
      "*319*\n",
      "[76]\n",
      "*2656*\n",
      "[76]\n",
      "*2657*\n",
      "[69]\n",
      "*4419*\n",
      "[76]\n",
      "*4420*\n",
      "[69]\n",
      "*80548*\n",
      "[76]\n",
      "*80549*\n",
      "[69]\n"
     ]
    }
   ],
   "source": [
    "for i in range(len(OxA)):\n",
    "    if OxA[i].shape[0]==1:\n",
    "        #print(Probab(xA[i]))\n",
    "        print(\"*%s*\"%i)\n",
    "        print(OxC[i])"
   ]
  },
  {
   "cell_type": "code",
   "execution_count": 136,
   "metadata": {},
   "outputs": [
    {
     "data": {
      "text/plain": [
       "[15, 38, 69, 69, 69]"
      ]
     },
     "execution_count": 136,
     "metadata": {},
     "output_type": "execute_result"
    }
   ],
   "source": [
    "OxC[54081]"
   ]
  },
  {
   "cell_type": "code",
   "execution_count": null,
   "metadata": {},
   "outputs": [],
   "source": [
    "Probab(Ox)"
   ]
  },
  {
   "cell_type": "code",
   "execution_count": 138,
   "metadata": {},
   "outputs": [
    {
     "data": {
      "text/plain": [
       "array([list([15, 38, 69, 69, 69]), list([15, 38, 69, 69, 69]),\n",
       "       list([15, 38, 69, 69, 69]), ..., list([15, 38, 69, 69, 69]),\n",
       "       list([15, 38, 69, 69, 69]), list([15, 38, 69, 69, 69])],\n",
       "      dtype=object)"
      ]
     },
     "execution_count": 138,
     "metadata": {},
     "output_type": "execute_result"
    }
   ],
   "source": [
    "OxC"
   ]
  },
  {
   "cell_type": "code",
   "execution_count": 156,
   "metadata": {},
   "outputs": [
    {
     "name": "stdout",
     "output_type": "stream",
     "text": [
      "[83  6 29 69 69 38 69 15 69 38 80 69 69 83 69 59 69 59  4 50 50 27 69 69\n",
      " 69 69]\n"
     ]
    }
   ],
   "source": [
    "for i in OxB:\n",
    "    if(i==38).any():\n",
    "        print(i)"
   ]
  },
  {
   "cell_type": "code",
   "execution_count": 155,
   "metadata": {},
   "outputs": [
    {
     "data": {
      "text/plain": [
       "array([83,  6, 29, 69, 69, 38, 69, 15, 69, 38, 80, 69, 69, 83, 69, 59, 69,\n",
       "       59,  4, 50, 50, 27, 69, 69, 69, 69])"
      ]
     },
     "execution_count": 155,
     "metadata": {},
     "output_type": "execute_result"
    }
   ],
   "source": [
    "OxB[1]"
   ]
  },
  {
   "cell_type": "markdown",
   "metadata": {},
   "source": [
    "OrderedDict([('B-AGE', 0), ('B-BIOID', 1), ('B-CITY', 2), ('B-COUNTRY', 3), ('B-DATE', 4), ('B-DEVICE', 5), ('B-DOCTOR', 6), ('B-EMAIL', 7), ('B-FAX', 8), ('B-HEALTHPLAN', 9), ('B-HOSPITAL', 10), ('B-IDNUM', 11), ('B-LOCATION_OTHER', 12), ('B-MEDICALRECORD', 13), ('B-ORGANIZATION', 14), ('B-PATIENT', 15), ('B-PHONE', 16), ('B-PROFESSION', 17), ('B-STATE', 18), ('B-STREET', 19), ('B-URL', 20), ('B-USERNAME', 21), ('B-ZIP', 22), ('E-AGE', 23), ('E-BIOID', 24), ('E-CITY', 25), ('E-COUNTRY', 26), ('E-DATE', 27), ('E-DEVICE', 28), ('E-DOCTOR', 29), ('E-EMAIL', 30), ('E-FAX', 31), ('E-HEALTHPLAN', 32), ('E-HOSPITAL', 33), ('E-IDNUM', 34), ('E-LOCATION_OTHER', 35), ('E-MEDICALRECORD', 36), ('E-ORGANIZATION', 37), ('E-PATIENT', 38), ('E-PHONE', 39), ('E-PROFESSION', 40), ('E-STATE', 41), ('E-STREET', 42), ('E-URL', 43), ('E-USERNAME', 44), ('E-ZIP', 45), ('I-AGE', 46), ('I-BIOID', 47), ('I-CITY', 48), ('I-COUNTRY', 49), ('I-DATE', 50), ('I-DEVICE', 51), ('I-DOCTOR', 52), ('I-EMAIL', 53), ('I-FAX', 54), ('I-HEALTHPLAN', 55), ('I-HOSPITAL', 56), ('I-IDNUM', 57), ('I-LOCATION_OTHER', 58), ('I-MEDICALRECORD', 59), ('I-ORGANIZATION', 60), ('I-PATIENT', 61), ('I-PHONE', 62), ('I-PROFESSION', 63), ('I-STATE', 64), ('I-STREET', 65), ('I-URL', 66), ('I-USERNAME', 67), ('I-ZIP', 68), ('O', 69), ('S-AGE', 70), ('S-BIOID', 71), ('S-CITY', 72), ('S-COUNTRY', 73), ('S-DATE', 74), ('S-DEVICE', 75), ('S-DOCTOR', 76), ('S-EMAIL', 77), ('S-FAX', 78), ('S-HEALTHPLAN', 79), ('S-HOSPITAL', 80), ('S-IDNUM', 81), ('S-LOCATION_OTHER', 82), ('S-MEDICALRECORD', 83), ('S-ORGANIZATION', 84), ('S-PATIENT', 85), ('S-PHONE', 86), ('S-PROFESSION', 87), ('S-STATE', 88), ('S-STREET', 89), ('S-URL', 90), ('S-USERNAME', 91), ('S-ZIP', 92)])\n"
   ]
  },
  {
   "cell_type": "code",
   "execution_count": 164,
   "metadata": {},
   "outputs": [
    {
     "data": {
      "text/plain": [
       "array([list([15, 38, 69, 69, 69]), list([15, 38, 69, 69, 69]),\n",
       "       list([15, 38, 69, 69, 69]), ..., list([15, 38, 69, 69, 69]),\n",
       "       list([15, 38, 69, 69, 69]), list([15, 38, 69, 69, 69])],\n",
       "      dtype=object)"
      ]
     },
     "execution_count": 164,
     "metadata": {},
     "output_type": "execute_result"
    }
   ],
   "source": [
    "OxC"
   ]
  },
  {
   "cell_type": "code",
   "execution_count": 167,
   "metadata": {},
   "outputs": [],
   "source": [
    "T=[]\n",
    "AT=[]\n",
    "for i in range(len(OxA)):\n",
    "    T.append(Probab(OxA[i])[1])\n",
    "    AT.append(AProbab(OxA[i])[1])\n",
    "    \n",
    "T=np.array(T)\n",
    "AT=np.array(AT)"
   ]
  },
  {
   "cell_type": "code",
   "execution_count": 170,
   "metadata": {},
   "outputs": [
    {
     "data": {
      "text/plain": [
       "55"
      ]
     },
     "execution_count": 170,
     "metadata": {},
     "output_type": "execute_result"
    }
   ],
   "source": [
    "T[54084]"
   ]
  },
  {
   "cell_type": "code",
   "execution_count": 171,
   "metadata": {},
   "outputs": [
    {
     "data": {
      "text/plain": [
       "array([97,  2,  1, ...,  0,  0,  0])"
      ]
     },
     "execution_count": 171,
     "metadata": {},
     "output_type": "execute_result"
    }
   ],
   "source": [
    "T"
   ]
  },
  {
   "cell_type": "code",
   "execution_count": 172,
   "metadata": {},
   "outputs": [],
   "source": [
    "ms20=T>2*np.std(T)+np.median(T)\n"
   ]
  },
  {
   "cell_type": "code",
   "execution_count": 175,
   "metadata": {},
   "outputs": [
    {
     "data": {
      "text/plain": [
       "(3133,)"
      ]
     },
     "execution_count": 175,
     "metadata": {},
     "output_type": "execute_result"
    }
   ],
   "source": [
    "T[ms20].shape"
   ]
  },
  {
   "cell_type": "code",
   "execution_count": 233,
   "metadata": {},
   "outputs": [
    {
     "data": {
      "text/plain": [
       "False"
      ]
     },
     "execution_count": 233,
     "metadata": {},
     "output_type": "execute_result"
    }
   ],
   "source": [
    "ms20[54081]"
   ]
  },
  {
   "cell_type": "code",
   "execution_count": 177,
   "metadata": {},
   "outputs": [
    {
     "data": {
      "text/plain": [
       "242.62040732182294"
      ]
     },
     "execution_count": 177,
     "metadata": {},
     "output_type": "execute_result"
    }
   ],
   "source": [
    "2*np.std(T)+np.median(T)"
   ]
  },
  {
   "cell_type": "code",
   "execution_count": 178,
   "metadata": {},
   "outputs": [
    {
     "data": {
      "text/plain": [
       "120.81020366091147"
      ]
     },
     "execution_count": 178,
     "metadata": {},
     "output_type": "execute_result"
    }
   ],
   "source": [
    "np.std(T)"
   ]
  },
  {
   "cell_type": "code",
   "execution_count": 235,
   "metadata": {},
   "outputs": [
    {
     "data": {
      "text/plain": [
       "array([ 0,  2,  4, 30,  0])"
      ]
     },
     "execution_count": 235,
     "metadata": {},
     "output_type": "execute_result"
    }
   ],
   "source": [
    "Probab(OxA[54081])"
   ]
  },
  {
   "cell_type": "code",
   "execution_count": 186,
   "metadata": {},
   "outputs": [
    {
     "name": "stdout",
     "output_type": "stream",
     "text": [
      "1351\n",
      "1352\n",
      "2115\n",
      "2335\n",
      "2336\n",
      "20531\n",
      "20532\n",
      "22745\n",
      "22746\n",
      "27904\n",
      "32358\n",
      "32359\n",
      "47623\n",
      "47624\n",
      "51726\n",
      "51727\n",
      "52428\n",
      "52429\n",
      "52907\n",
      "52908\n",
      "54529\n",
      "54530\n",
      "58703\n",
      "58704\n",
      "72535\n",
      "72536\n",
      "72619\n",
      "72620\n",
      "74110\n",
      "74111\n",
      "80238\n",
      "80239\n",
      "80453\n"
     ]
    }
   ],
   "source": [
    "for i in range(len(OxA)):\n",
    "    if OxA[i].shape[0]!=5:\n",
    "        print(i)"
   ]
  },
  {
   "cell_type": "markdown",
   "metadata": {},
   "source": [
    "# fix the loaded files"
   ]
  },
  {
   "cell_type": "code",
   "execution_count": 508,
   "metadata": {},
   "outputs": [],
   "source": [
    "mask=np.ones(len(OA), dtype=bool)\n",
    "for i in range(len(OA)):\n",
    "    if OA[i].shape[0]==1 or OA[i].shape[0]==6:\n",
    "        mask[[i]]=False"
   ]
  },
  {
   "cell_type": "code",
   "execution_count": 509,
   "metadata": {},
   "outputs": [],
   "source": [
    "OA=OA[mask]\n",
    "OB=OB[mask]\n",
    "OC=OC[mask]\n"
   ]
  },
  {
   "cell_type": "code",
   "execution_count": 510,
   "metadata": {},
   "outputs": [
    {
     "data": {
      "text/plain": [
       "[69, 85, 69, 69, 69, 69, 69, 69, 69]"
      ]
     },
     "execution_count": 510,
     "metadata": {},
     "output_type": "execute_result"
    }
   ],
   "source": [
    "OC[63707]"
   ]
  },
  {
   "cell_type": "code",
   "execution_count": 511,
   "metadata": {},
   "outputs": [
    {
     "data": {
      "text/plain": [
       "(81497,)"
      ]
     },
     "execution_count": 511,
     "metadata": {},
     "output_type": "execute_result"
    }
   ],
   "source": [
    "OA.shape"
   ]
  },
  {
   "cell_type": "code",
   "execution_count": 496,
   "metadata": {},
   "outputs": [],
   "source": [
    "mask=np.ones(len(OxA), dtype=bool)\n",
    "for i in range(len(OxA)):\n",
    "    if OxA[i].shape[0]==1 or OxA[i].shape[0]==6:\n",
    "        mask[[i]]=False"
   ]
  },
  {
   "cell_type": "code",
   "execution_count": 27,
   "metadata": {},
   "outputs": [
    {
     "ename": "IndexError",
     "evalue": "boolean index did not match indexed array along dimension 0; dimension is 81497 but corresponding boolean dimension is 81515",
     "output_type": "error",
     "traceback": [
      "\u001b[0;31m---------------------------------------------------------------------------\u001b[0m",
      "\u001b[0;31mIndexError\u001b[0m                                Traceback (most recent call last)",
      "\u001b[0;32m<ipython-input-27-b0eea8d02f29>\u001b[0m in \u001b[0;36m<module>\u001b[0;34m()\u001b[0m\n\u001b[0;32m----> 1\u001b[0;31m \u001b[0mOxA\u001b[0m\u001b[0;34m[\u001b[0m\u001b[0mmask\u001b[0m\u001b[0;34m]\u001b[0m\u001b[0;34m.\u001b[0m\u001b[0mshape\u001b[0m\u001b[0;34m\u001b[0m\u001b[0;34m\u001b[0m\u001b[0m\n\u001b[0m",
      "\u001b[0;31mIndexError\u001b[0m: boolean index did not match indexed array along dimension 0; dimension is 81497 but corresponding boolean dimension is 81515"
     ]
    }
   ],
   "source": [
    "OxA[mask].shape"
   ]
  },
  {
   "cell_type": "code",
   "execution_count": 35,
   "metadata": {},
   "outputs": [],
   "source": [
    "OxA=OxA[mask]\n",
    "OxB=OxB[mask]\n",
    "OxC=OxC[mask]"
   ]
  },
  {
   "cell_type": "code",
   "execution_count": 7,
   "metadata": {},
   "outputs": [
    {
     "data": {
      "text/plain": [
       "'\\nmask=np.ones(len(OxA), dtype=bool)\\nfor i in range(len(OxA)):\\n    if OxA[i].shape[0]==1 or OxA[i].shape[0]==6:\\n        mask[[i]]=False\\n'"
      ]
     },
     "execution_count": 7,
     "metadata": {},
     "output_type": "execute_result"
    }
   ],
   "source": [
    "mask=np.ones(len(OA3), dtype=bool)\n",
    "for i in range(len(OA3)):\n",
    "    if OA3[i].shape[0]==1 or OA3[i].shape[0]==6:\n",
    "        mask[[i]]=False\n",
    "        \n",
    "        \n",
    "\"\"\"\n",
    "mask=np.ones(len(OxA), dtype=bool)\n",
    "for i in range(len(OxA)):\n",
    "    if OxA[i].shape[0]==1 or OxA[i].shape[0]==6:\n",
    "        mask[[i]]=False\n",
    "\"\"\""
   ]
  },
  {
   "cell_type": "code",
   "execution_count": 8,
   "metadata": {},
   "outputs": [],
   "source": [
    "OA3=OA3[mask]\n",
    "#OB3=OB3[mask]\n",
    "OC3=OC3[mask]"
   ]
  },
  {
   "cell_type": "code",
   "execution_count": 9,
   "metadata": {},
   "outputs": [
    {
     "data": {
      "text/plain": [
       "(81497,)"
      ]
     },
     "execution_count": 9,
     "metadata": {},
     "output_type": "execute_result"
    }
   ],
   "source": [
    "OA3.shape"
   ]
  },
  {
   "cell_type": "code",
   "execution_count": 578,
   "metadata": {},
   "outputs": [],
   "source": [
    "mask=np.ones(len(OA4), dtype=bool)\n",
    "for i in range(len(OA4)):\n",
    "    if OA4[i].shape[0]==1 or OA4[i].shape[0]==6:\n",
    "        mask[[i]]=False"
   ]
  },
  {
   "cell_type": "code",
   "execution_count": 579,
   "metadata": {},
   "outputs": [],
   "source": [
    "OA4=OA4[mask]\n",
    "OC4=OC4[mask]"
   ]
  },
  {
   "cell_type": "code",
   "execution_count": 580,
   "metadata": {},
   "outputs": [
    {
     "data": {
      "text/plain": [
       "(81497,)"
      ]
     },
     "execution_count": 580,
     "metadata": {},
     "output_type": "execute_result"
    }
   ],
   "source": [
    "OC4.shape"
   ]
  },
  {
   "cell_type": "code",
   "execution_count": 619,
   "metadata": {},
   "outputs": [],
   "source": [
    "mask=np.ones(len(OA5), dtype=bool)\n",
    "for i in range(len(OA5)):\n",
    "    if OA5[i].shape[0]==1 or OA5[i].shape[0]==3:\n",
    "        mask[[i]]=False"
   ]
  },
  {
   "cell_type": "code",
   "execution_count": 620,
   "metadata": {},
   "outputs": [],
   "source": [
    "OA5=OA5[mask]\n",
    "OC5=OC5[mask]"
   ]
  },
  {
   "cell_type": "code",
   "execution_count": 621,
   "metadata": {},
   "outputs": [
    {
     "data": {
      "text/plain": [
       "(81497,)"
      ]
     },
     "execution_count": 621,
     "metadata": {},
     "output_type": "execute_result"
    }
   ],
   "source": [
    "OC5.shape"
   ]
  },
  {
   "cell_type": "code",
   "execution_count": 30,
   "metadata": {},
   "outputs": [],
   "source": [
    "mask=np.ones(len(OA6), dtype=bool)\n",
    "for i in range(len(OA6)):\n",
    "    if OA6[i].shape[0]==1 or OA6[i].shape[0]==3:\n",
    "        mask[[i]]=False"
   ]
  },
  {
   "cell_type": "code",
   "execution_count": 31,
   "metadata": {},
   "outputs": [],
   "source": [
    "OA6=OA6[mask]\n",
    "OC6=OC6[mask]"
   ]
  },
  {
   "cell_type": "code",
   "execution_count": 32,
   "metadata": {},
   "outputs": [
    {
     "data": {
      "text/plain": [
       "(81497,)"
      ]
     },
     "execution_count": 32,
     "metadata": {},
     "output_type": "execute_result"
    }
   ],
   "source": [
    "OC6.shape"
   ]
  },
  {
   "cell_type": "code",
   "execution_count": 20,
   "metadata": {},
   "outputs": [],
   "source": [
    "mask=np.ones(len(OA7), dtype=bool)\n",
    "for i in range(len(OA7)):\n",
    "    if OA7[i].shape[0]==1 or OA7[i].shape[0]==17 or OA7[i].shape[0]==18:\n",
    "        mask[[i]]=False"
   ]
  },
  {
   "cell_type": "code",
   "execution_count": 21,
   "metadata": {},
   "outputs": [],
   "source": [
    "OA7=OA7[mask]\n",
    "OC7=OC7[mask]"
   ]
  },
  {
   "cell_type": "code",
   "execution_count": 22,
   "metadata": {},
   "outputs": [
    {
     "data": {
      "text/plain": [
       "(81497,)"
      ]
     },
     "execution_count": 22,
     "metadata": {},
     "output_type": "execute_result"
    }
   ],
   "source": [
    "OC7.shape"
   ]
  },
  {
   "cell_type": "code",
   "execution_count": null,
   "metadata": {},
   "outputs": [],
   "source": []
  },
  {
   "cell_type": "code",
   "execution_count": null,
   "metadata": {},
   "outputs": [],
   "source": []
  },
  {
   "cell_type": "code",
   "execution_count": null,
   "metadata": {},
   "outputs": [],
   "source": []
  },
  {
   "cell_type": "code",
   "execution_count": null,
   "metadata": {},
   "outputs": [],
   "source": []
  },
  {
   "cell_type": "code",
   "execution_count": null,
   "metadata": {},
   "outputs": [],
   "source": []
  },
  {
   "cell_type": "code",
   "execution_count": 34,
   "metadata": {},
   "outputs": [
    {
     "data": {
      "text/plain": [
       "[85, 69, 69, 69, 69, 69, 69, 69, 69, 69]"
      ]
     },
     "execution_count": 34,
     "metadata": {},
     "output_type": "execute_result"
    }
   ],
   "source": [
    "OC7[62]"
   ]
  },
  {
   "cell_type": "code",
   "execution_count": 499,
   "metadata": {},
   "outputs": [],
   "source": [
    "OT=[]\n",
    "OAT=[]\n",
    "for i in range(len(OxA)):\n",
    "    OT.append(Probab(OxA[i])[1])\n",
    "    OAT.append(AProbab(OxA[i])[1])\n",
    "    \n",
    "OT=np.array(OT)\n",
    "OAT=np.array(OAT)"
   ]
  },
  {
   "cell_type": "code",
   "execution_count": null,
   "metadata": {},
   "outputs": [],
   "source": []
  },
  {
   "cell_type": "code",
   "execution_count": 234,
   "metadata": {},
   "outputs": [
    {
     "data": {
      "text/plain": [
       "2"
      ]
     },
     "execution_count": 234,
     "metadata": {},
     "output_type": "execute_result"
    }
   ],
   "source": [
    "OT[54081]"
   ]
  },
  {
   "cell_type": "code",
   "execution_count": 201,
   "metadata": {},
   "outputs": [
    {
     "data": {
      "text/plain": [
       "7.742423286585209"
      ]
     },
     "execution_count": 201,
     "metadata": {},
     "output_type": "execute_result"
    }
   ],
   "source": [
    "2*np.std(OT)+np.median(OT)"
   ]
  },
  {
   "cell_type": "code",
   "execution_count": 202,
   "metadata": {},
   "outputs": [
    {
     "data": {
      "text/plain": [
       "3.8712116432926047"
      ]
     },
     "execution_count": 202,
     "metadata": {},
     "output_type": "execute_result"
    }
   ],
   "source": [
    "np.std(OT)"
   ]
  },
  {
   "cell_type": "code",
   "execution_count": 205,
   "metadata": {},
   "outputs": [
    {
     "data": {
      "text/plain": [
       "array([list([15, 38, 69, 69, 69]), list([6, 29, 69, 69, 69]),\n",
       "       list([6, 29, 69, 69, 69]), ..., list([69, 69, 69, 69, 69]),\n",
       "       list([69, 69, 69, 69, 69]), list([69, 69, 69, 69, 69])],\n",
       "      dtype=object)"
      ]
     },
     "execution_count": 205,
     "metadata": {},
     "output_type": "execute_result"
    }
   ],
   "source": [
    "OxC"
   ]
  },
  {
   "cell_type": "code",
   "execution_count": 207,
   "metadata": {},
   "outputs": [],
   "source": [
    "patient=[]\n",
    "doctor=[]\n",
    "labelothers=[]\n",
    "nolabel=[]\n",
    "for i in range(len(OxA)):\n",
    "    if OxC[i][1]==38:\n",
    "        patient.append(i)\n",
    "    elif OxC[i][1]==29:\n",
    "        doctor.append(i)\n",
    "    elif OxC[i][1]!=69:\n",
    "        labelothers.append(i)\n",
    "    else:\n",
    "        nolabel.append(i)"
   ]
  },
  {
   "cell_type": "code",
   "execution_count": 210,
   "metadata": {},
   "outputs": [
    {
     "data": {
      "text/plain": [
       "(10239, 57038, 91, 14129)"
      ]
     },
     "execution_count": 210,
     "metadata": {},
     "output_type": "execute_result"
    }
   ],
   "source": [
    "len(patient),len(doctor),len(labelothers),len(nolabel)"
   ]
  },
  {
   "cell_type": "code",
   "execution_count": 236,
   "metadata": {},
   "outputs": [
    {
     "data": {
      "text/plain": [
       "[6, 29, 69, 69, 69]"
      ]
     },
     "execution_count": 236,
     "metadata": {},
     "output_type": "execute_result"
    }
   ],
   "source": [
    "OxC[54081]"
   ]
  },
  {
   "cell_type": "code",
   "execution_count": 212,
   "metadata": {},
   "outputs": [
    {
     "data": {
      "text/plain": [
       "81497"
      ]
     },
     "execution_count": 212,
     "metadata": {},
     "output_type": "execute_result"
    }
   ],
   "source": [
    "len(patient)+len(doctor)+len(labelothers)+len(nolabel)"
   ]
  },
  {
   "cell_type": "code",
   "execution_count": 215,
   "metadata": {},
   "outputs": [],
   "source": [
    "patient=[]\n",
    "doctor=[]\n",
    "labelothers=[]\n",
    "nolabel=[]\n",
    "for i in range(len(OA)):\n",
    "    if OC[i][1]==38:\n",
    "        patient.append(i)\n",
    "    elif OC[i][1]==29:\n",
    "        doctor.append(i)\n",
    "    elif OC[i][1]!=69:\n",
    "        labelothers.append(i)\n",
    "    else:\n",
    "        nolabel.append(i)"
   ]
  },
  {
   "cell_type": "code",
   "execution_count": 216,
   "metadata": {},
   "outputs": [
    {
     "data": {
      "text/plain": [
       "(78917, 2568, 1, 11)"
      ]
     },
     "execution_count": 216,
     "metadata": {},
     "output_type": "execute_result"
    }
   ],
   "source": [
    "len(patient),len(doctor),len(labelothers),len(nolabel)"
   ]
  },
  {
   "cell_type": "code",
   "execution_count": 218,
   "metadata": {},
   "outputs": [
    {
     "data": {
      "text/plain": [
       "array([list([6, 29, 69, 69, 69]), list([6, 29, 69, 69, 69]),\n",
       "       list([6, 29, 69, 69, 69]), ..., list([6, 29, 69, 69, 69]),\n",
       "       list([6, 29, 69, 69, 69]), list([6, 29, 69, 69, 69])], dtype=object)"
      ]
     },
     "execution_count": 218,
     "metadata": {},
     "output_type": "execute_result"
    }
   ],
   "source": [
    "OC[doctor]"
   ]
  },
  {
   "cell_type": "code",
   "execution_count": 228,
   "metadata": {},
   "outputs": [],
   "source": [
    "TTT=[]\n",
    "for i in OA[doctor]:\n",
    "    TTT.append(Probab(i)[1])\n",
    "    \n",
    "TTT=np.array(TTT)"
   ]
  },
  {
   "cell_type": "code",
   "execution_count": 230,
   "metadata": {},
   "outputs": [
    {
     "data": {
      "text/plain": [
       "36.14565515842057"
      ]
     },
     "execution_count": 230,
     "metadata": {},
     "output_type": "execute_result"
    }
   ],
   "source": [
    "np.std(TTT)"
   ]
  },
  {
   "cell_type": "code",
   "execution_count": 232,
   "metadata": {},
   "outputs": [
    {
     "data": {
      "text/plain": [
       "array([  2, 171,   6,  19,   0])"
      ]
     },
     "execution_count": 232,
     "metadata": {},
     "output_type": "execute_result"
    }
   ],
   "source": [
    "Probab(OA[54081])"
   ]
  },
  {
   "cell_type": "code",
   "execution_count": 237,
   "metadata": {},
   "outputs": [
    {
     "data": {
      "text/plain": [
       "[15, 38, 69, 69, 69]"
      ]
     },
     "execution_count": 237,
     "metadata": {},
     "output_type": "execute_result"
    }
   ],
   "source": [
    "OC[54081]"
   ]
  },
  {
   "cell_type": "code",
   "execution_count": 238,
   "metadata": {},
   "outputs": [
    {
     "data": {
      "text/plain": [
       "171"
      ]
     },
     "execution_count": 238,
     "metadata": {},
     "output_type": "execute_result"
    }
   ],
   "source": [
    "T[54081]"
   ]
  },
  {
   "cell_type": "code",
   "execution_count": 338,
   "metadata": {},
   "outputs": [],
   "source": [
    "xwmask=np.ones(len(xwOA), dtype=bool)\n",
    "\n",
    "for i in range(len(xwOA)):\n",
    "    if np.shape(xwOC[i])[0]==1 or np.shape(xwOC[i])[0]==6:\n",
    "        xwmask[[i]]=False\n",
    "        \n",
    "xwOA=xwOA[xwmask]\n",
    "xwOC=xwOC[xwmask]"
   ]
  },
  {
   "cell_type": "code",
   "execution_count": 339,
   "metadata": {},
   "outputs": [
    {
     "data": {
      "text/plain": [
       "(81497,)"
      ]
     },
     "execution_count": 339,
     "metadata": {},
     "output_type": "execute_result"
    }
   ],
   "source": [
    "xwOC.shape"
   ]
  },
  {
   "cell_type": "code",
   "execution_count": 340,
   "metadata": {},
   "outputs": [
    {
     "data": {
      "text/plain": [
       "array([   47, 20835,     2,     0,     7,    22,   325,     9,    49])"
      ]
     },
     "execution_count": 340,
     "metadata": {},
     "output_type": "execute_result"
    }
   ],
   "source": [
    "Probab(xwOA[54081])"
   ]
  },
  {
   "cell_type": "code",
   "execution_count": 306,
   "metadata": {},
   "outputs": [
    {
     "data": {
      "text/plain": [
       "array([   47, 20835,     2,     0,     7,    22,   325,     9,    49])"
      ]
     },
     "execution_count": 306,
     "metadata": {},
     "output_type": "execute_result"
    }
   ],
   "source": [
    "Probab(TEMPA[37])"
   ]
  },
  {
   "cell_type": "code",
   "execution_count": 406,
   "metadata": {},
   "outputs": [
    {
     "data": {
      "text/plain": [
       "(array([ 23,   4,   1,   6,  23, 380,  27,  70]),\n",
       " array([ 6, 57, 13, 74,  1]),\n",
       " 18.0)"
      ]
     },
     "execution_count": 406,
     "metadata": {},
     "output_type": "execute_result"
    }
   ],
   "source": [
    "Probab(xwOA[73675]),Probab(OA[73675]),SubtractionProbability[73675]"
   ]
  },
  {
   "cell_type": "code",
   "execution_count": 415,
   "metadata": {},
   "outputs": [
    {
     "data": {
      "text/plain": [
       "array([20733.652  ,    37.44112], dtype=float32)"
      ]
     },
     "execution_count": 415,
     "metadata": {},
     "output_type": "execute_result"
    }
   ],
   "source": [
    "np.exp([xwOA[54081][1][85],OA[73675][1][38]])/1e6"
   ]
  },
  {
   "cell_type": "code",
   "execution_count": 451,
   "metadata": {
    "scrolled": true
   },
   "outputs": [
    {
     "name": "stdout",
     "output_type": "stream",
     "text": [
      "[   33 23251     1     0     2     3    28    21   146]\n",
      "[69 85 69 69 69 69 69 69 69]\n",
      "**\n",
      "[   40 19504     0     0     1     3    32    15   128]\n",
      "[69 85 69 69 69 69 69 69 69]\n",
      "**\n",
      "[   37 15039     1     0     1     2    27    14   131]\n",
      "[69 85 69 69 69 69 69 69 69]\n",
      "**\n",
      "[   46 12819     1     0     1     2    26    13   122]\n",
      "[69 85 69 69 69 69 69 69 69]\n",
      "**\n",
      "[  41 9671    0    0    0  112]\n",
      "[69 85 69 69 69 69]\n",
      "**\n",
      "[  49 8205    0    0    0  104]\n",
      "[69 85 69 69 69 69]\n",
      "**\n",
      "[  43 6083    0    0   89]\n",
      "[69 85 69 69 69]\n",
      "**\n",
      "[  49 5277    0    0   75]\n",
      "[69 85 69 69 69]\n",
      "**\n",
      "[  17 9520    0    0    0    0    1    0    0    0    0    0    0    4\n",
      "    0    0   48]\n",
      "[69 85 69 69 69 69 69 69 69 69 69 69 69 69 69 69 69]\n",
      "**\n",
      "[   16 10692     0     0     0     0     1     0     0     0     0     0\n",
      "     0     4     0     1    52]\n",
      "[69 85 69 69 69 69 69 69 69 69 69 69 69 69 69 69 69]\n",
      "**\n",
      "[  31 5394    0    0    0    0   25]\n",
      "[69 85 69 69 69 69 69]\n",
      "**\n",
      "[  28 5796    0    0    0    0   27]\n",
      "[69 85 69 69 69 69 69]\n",
      "**\n",
      "[  29 1932    0    0   20]\n",
      "[69 85 69 69 69]\n",
      "**\n",
      "[  25 2289    0    0   24]\n",
      "[69 85 69 69 69]\n",
      "**\n",
      "[  53 5259    0    0   23]\n",
      "[69 85 69 69 69]\n",
      "**\n",
      "[  48 6032    0    0   27]\n",
      "[69 85 69 69 69]\n",
      "**\n",
      "[  13 2220    0    0   27]\n",
      "[69 85 69 69 69]\n",
      "**\n",
      "[  14 1439    0    0   33]\n",
      "[69 85 69 69 69]\n",
      "**\n"
     ]
    }
   ],
   "source": [
    "for i in range(len(OxA)):\n",
    "    print(AProbab(OxA[i]))\n",
    "    print(np.argmax(OxA[i],axis=1))\n",
    "    print(\"**\")"
   ]
  },
  {
   "cell_type": "code",
   "execution_count": 449,
   "metadata": {
    "scrolled": true
   },
   "outputs": [
    {
     "name": "stdout",
     "output_type": "stream",
     "text": [
      "[   47 20733     2     0     7    22   325     9    49]\n",
      "[69 85 69 69 69 69 69 69 69]\n",
      "**\n",
      "[   19 19683     2     0     9    29    92    20    83]\n",
      "[69 85 69 69 69 69 69 69 69]\n",
      "**\n",
      "[   59 25284     4    11    15    45   128    37    92]\n",
      "[69 85 69 69 69 69 69 69 69]\n",
      "**\n",
      "[   28 21292     3     8    16    60   160    58   104]\n",
      "[69 85 69 69 69 69 69 69 69]\n",
      "**\n",
      "[   48 21460     2     2     4    21]\n",
      "[69 85 69 69 69 69]\n",
      "**\n",
      "[   17 19890     2     2     7    25]\n",
      "[69 85 69 69 69 69]\n",
      "**\n",
      "[   44 18920     1     0     3]\n",
      "[69 85 69 69 69]\n",
      "**\n",
      "[   13 16417     1     0     3]\n",
      "[69 85 69 69 69]\n",
      "**\n",
      "[  13 3517    3   12   25   11   10    9    5   10   13   18    9   53\n",
      "   16   44   21]\n",
      "[69 85 69 69 69 69 69 69 69 69 69 69 69 69 69 69 69]\n",
      "**\n",
      "[  41 6041    3   16   29   12   13   11    6   11   13   17    9   53\n",
      "   17   28   21]\n",
      "[69 85 69 69 69 69 69 69 69 69 69 69 69 69 69 69 69]\n",
      "**\n",
      "[  16 5756    4   14   48   26   12]\n",
      "[69 85 69 69 69 69 69]\n",
      "**\n",
      "[  56 9500    4   18   53   30   14]\n",
      "[69 85 69 69 69 69 69]\n",
      "**\n",
      "[  18 5736    4    3   10]\n",
      "[69 85 69 69 69]\n",
      "**\n",
      "[   57 10564     5     6    11]\n",
      "[69 85 69 69 69]\n",
      "**\n",
      "[   22 22691     2     1     4]\n",
      "[69 85 69 69 69]\n",
      "**\n",
      "[   55 26896     2     2     4]\n",
      "[69 85 69 69 69]\n",
      "**\n",
      "[  23 9195    2    4    8]\n",
      "[69 85 69 69 69]\n",
      "**\n",
      "[  75 7741    3    6    9]\n",
      "[69 85 69 69 69]\n",
      "**\n"
     ]
    }
   ],
   "source": [
    "for i in range(len(OxA)):\n",
    "    print(AProbab(OxA[i]))\n",
    "    print(np.argmax(OxA[i],axis=1))\n",
    "    print(\"**\")"
   ]
  },
  {
   "cell_type": "code",
   "execution_count": 522,
   "metadata": {},
   "outputs": [],
   "source": [
    "T=[]\n",
    "AT=[]\n",
    "for i in range(len(OA)):\n",
    "    T.append(Probab(OA[i])[1])\n",
    "    AT.append(AProbab(OA[i])[1])\n",
    "    \n",
    "T=np.array(T)\n",
    "AT=np.array(AT)"
   ]
  },
  {
   "cell_type": "code",
   "execution_count": 526,
   "metadata": {},
   "outputs": [
    {
     "name": "stdout",
     "output_type": "stream",
     "text": [
      "[69  4 69 85 69 69 69 69 69 69]\n",
      "23251 1390.100666436922 267.0 (3061,)\n",
      "66255 40879\n",
      "(129,)\n"
     ]
    }
   ],
   "source": [
    "print(np.argmax(xA[i],axis=1))\n",
    "print(AT[54081],np.std(AT),np.median(AT),AT[AT>2*np.std(AT)+np.median(AT)].shape)\n",
    "print(np.argmax(AT),AT[np.argmax(AT)])\n",
    "print(AT[AT>10*np.std(AT)+np.median(AT)].shape)"
   ]
  },
  {
   "cell_type": "code",
   "execution_count": 542,
   "metadata": {},
   "outputs": [
    {
     "data": {
      "text/plain": [
       "array([21720, 77754, 53191,  2529, 72266,  8981, 53790, 62718, 81254,\n",
       "       40220, 50201, 41077, 23284, 76003,  2517, 76454, 35339, 72753,\n",
       "       43602,  3260, 55268, 41427, 23471, 54081, 10530, 43660, 46630,\n",
       "       23085, 27128, 17183, 68539, 77598, 34212,  2024, 78279,  9222,\n",
       "       37700, 16116, 56140, 60402, 27937, 49545, 18264, 62285,  6192,\n",
       "         927,   171, 73106, 47742, 66255])"
      ]
     },
     "execution_count": 542,
     "metadata": {},
     "output_type": "execute_result"
    }
   ],
   "source": [
    "np.argsort(AT)[-50:]"
   ]
  },
  {
   "cell_type": "code",
   "execution_count": 525,
   "metadata": {},
   "outputs": [],
   "source": [
    "OT=[]\n",
    "OAT=[]\n",
    "for i in range(len(OxA)):\n",
    "    OT.append(Probab(OxA[i])[1])\n",
    "    OAT.append(AProbab(OxA[i])[1])\n",
    "    \n",
    "OT=np.array(OT)\n",
    "OAT=np.array(OAT)"
   ]
  },
  {
   "cell_type": "code",
   "execution_count": 536,
   "metadata": {},
   "outputs": [
    {
     "name": "stdout",
     "output_type": "stream",
     "text": [
      "[69 85 69 69 69 69 69 69 69 69]\n",
      "4414 189.68822294773227 23.0 (2648,)\n",
      "37700 7373\n",
      "(24,)\n"
     ]
    }
   ],
   "source": [
    "print(np.argmax(OxA[i],axis=1))\n",
    "print(OAT[54081],np.std(OAT),np.median(OAT),OAT[OAT>2*np.std(OAT)+np.median(OAT)].shape)\n",
    "print(np.argmax(OAT),OAT[np.argmax(OAT)])\n",
    "print(OAT[OAT>20*np.std(OAT)+np.median(OAT)].shape)"
   ]
  },
  {
   "cell_type": "code",
   "execution_count": 543,
   "metadata": {},
   "outputs": [
    {
     "data": {
      "text/plain": [
       "array([43438, 61672,  1995, 46630, 77598, 72264, 52246, 72266,  2714,\n",
       "       43602, 16116, 45667, 44553, 54229, 75018, 21720, 43660, 53790,\n",
       "       72753, 27937, 10530, 17183, 22644, 76454, 27128, 60402, 47742,\n",
       "       62285, 68539, 41077, 34212, 35339, 56140, 18699, 49545, 41427,\n",
       "        6192,  1592, 18264, 66255, 55268, 23085, 54081,  2024,  9222,\n",
       "         171, 73106, 78279,   927, 37700])"
      ]
     },
     "execution_count": 543,
     "metadata": {},
     "output_type": "execute_result"
    }
   ],
   "source": [
    "np.argsort(OAT)[-50:]"
   ]
  },
  {
   "cell_type": "code",
   "execution_count": 552,
   "metadata": {},
   "outputs": [
    {
     "data": {
      "text/plain": [
       "37"
      ]
     },
     "execution_count": 552,
     "metadata": {},
     "output_type": "execute_result"
    }
   ],
   "source": [
    "len(newlist)"
   ]
  },
  {
   "cell_type": "code",
   "execution_count": 10,
   "metadata": {},
   "outputs": [],
   "source": [
    "OT3=[]\n",
    "OAT3=[]\n",
    "for i in range(len(OA3)):\n",
    "    OT3.append(Probab(OA3[i])[1])\n",
    "    OAT3.append(AProbab(OA3[i])[1])\n",
    "    \n",
    "OT3=np.array(OT3)\n",
    "OAT3=np.array(OAT3)"
   ]
  },
  {
   "cell_type": "code",
   "execution_count": 11,
   "metadata": {},
   "outputs": [
    {
     "name": "stdout",
     "output_type": "stream",
     "text": [
      "[69 85 69 69 69 69 69 69 69 69 69 69 69]\n",
      "3917 171.4444430241069 28.0 (2892,)\n",
      "37700 6649\n",
      "(18,)\n"
     ]
    }
   ],
   "source": [
    "print(np.argmax(OA3[i],axis=1))\n",
    "print(OAT3[54081],np.std(OAT3),np.median(OAT3),OAT3[OAT3>2*np.std(OAT3)+np.median(OAT3)].shape)\n",
    "print(np.argmax(OAT3),OAT3[np.argmax(OAT3)])\n",
    "print(OAT3[OAT3>20*np.std(OAT3)+np.median(OAT3)].shape)"
   ]
  },
  {
   "cell_type": "code",
   "execution_count": 565,
   "metadata": {},
   "outputs": [
    {
     "data": {
      "text/plain": [
       "array([46630, 43660, 33898, 43602, 60736,  1995, 10530, 54229, 22905,\n",
       "       56140, 60402,  1261, 72264, 43993, 22644, 74548, 62285,  2714,\n",
       "       47742, 15209, 27937, 52246, 18264, 49545, 38317, 34212, 76454,\n",
       "       68539, 35339, 75018, 17183,  9222,  2024,  6192, 23085, 18699,\n",
       "         171, 66255, 55268, 45667, 27128, 73106, 41077, 54081, 21720,\n",
       "       41427,  1592, 78279,   927, 37700])"
      ]
     },
     "execution_count": 565,
     "metadata": {},
     "output_type": "execute_result"
    }
   ],
   "source": [
    "np.argsort(OAT3)[-50:]"
   ]
  },
  {
   "cell_type": "code",
   "execution_count": 567,
   "metadata": {},
   "outputs": [],
   "source": [
    "temnewlist=[]\n",
    "for i in range(50):\n",
    "    if (newlist==np.argsort(OAT3)[-50:][i]).any():\n",
    "        #print(np.argsort(AT)[-50:][i])\n",
    "        temnewlist.append(np.argsort(OAT3)[-50:][i])"
   ]
  },
  {
   "cell_type": "code",
   "execution_count": 569,
   "metadata": {},
   "outputs": [
    {
     "data": {
      "text/plain": [
       "32"
      ]
     },
     "execution_count": 569,
     "metadata": {},
     "output_type": "execute_result"
    }
   ],
   "source": [
    "len(temnewlist)"
   ]
  },
  {
   "cell_type": "code",
   "execution_count": null,
   "metadata": {},
   "outputs": [],
   "source": [
    "newlist=temnewlist[:]"
   ]
  },
  {
   "cell_type": "code",
   "execution_count": 582,
   "metadata": {},
   "outputs": [],
   "source": [
    "OT4=[]\n",
    "OAT4=[]\n",
    "for i in range(len(OA4)):\n",
    "    OT4.append(Probab(OA4[i])[1])\n",
    "    OAT4.append(AProbab(OA4[i])[1])\n",
    "    \n",
    "OT4=np.array(OT4)\n",
    "OAT4=np.array(OAT4)"
   ]
  },
  {
   "cell_type": "code",
   "execution_count": 583,
   "metadata": {},
   "outputs": [
    {
     "name": "stdout",
     "output_type": "stream",
     "text": [
      "[69 85 69 69 69 69  4 69 69]\n",
      "8302 366.18884525645564 52.0 (2678,)\n",
      "66255 10825\n",
      "(25,)\n"
     ]
    }
   ],
   "source": [
    "print(np.argmax(OA4[i],axis=1))\n",
    "print(OAT4[54081],np.std(OAT4),np.median(OAT4),OAT4[OAT4>2*np.std(OAT4)+np.median(OAT4)].shape)\n",
    "print(np.argmax(OAT4),OAT4[np.argmax(OAT4)])\n",
    "print(OAT4[OAT4>20*np.std(OAT4)+np.median(OAT4)].shape)"
   ]
  },
  {
   "cell_type": "code",
   "execution_count": 584,
   "metadata": {},
   "outputs": [
    {
     "data": {
      "text/plain": [
       "array([  447, 43602, 68573, 76003, 44873, 43438, 34212, 21720, 16116,\n",
       "        3260,  1592, 77754, 75018, 81254, 61672, 41427, 23085, 43660,\n",
       "       72753,  2517, 38163, 17183, 23284, 53790, 27128, 35339,  2024,\n",
       "       56140, 47742, 77598, 44553, 41077, 78279, 27937, 68539, 60402,\n",
       "       72266, 49545, 18264, 54081,  6192, 10530, 61078, 73106, 62285,\n",
       "         171, 37700,   927,  9222, 66255])"
      ]
     },
     "execution_count": 584,
     "metadata": {},
     "output_type": "execute_result"
    }
   ],
   "source": [
    "np.argsort(OAT4)[-50:]"
   ]
  },
  {
   "cell_type": "code",
   "execution_count": 585,
   "metadata": {},
   "outputs": [],
   "source": [
    "temnewlist=[]\n",
    "for i in range(50):\n",
    "    if (newlist==np.argsort(OAT4)[-50:][i]).any():\n",
    "        #print(np.argsort(AT)[-50:][i])\n",
    "        temnewlist.append(np.argsort(OAT4)[-50:][i])"
   ]
  },
  {
   "cell_type": "code",
   "execution_count": 587,
   "metadata": {},
   "outputs": [
    {
     "data": {
      "text/plain": [
       "34"
      ]
     },
     "execution_count": 587,
     "metadata": {},
     "output_type": "execute_result"
    }
   ],
   "source": [
    "len(temnewlist)"
   ]
  },
  {
   "cell_type": "code",
   "execution_count": null,
   "metadata": {},
   "outputs": [],
   "source": [
    "newlist=temnewlist[:]"
   ]
  },
  {
   "cell_type": "code",
   "execution_count": 622,
   "metadata": {},
   "outputs": [],
   "source": [
    "OT5=[]\n",
    "OAT5=[]\n",
    "for i in range(len(OA5)):\n",
    "    OT5.append(Probab(OA5[i])[3])\n",
    "    OAT5.append(AProbab(OA5[i])[3])\n",
    "    \n",
    "OT5=np.array(OT5)\n",
    "OAT5=np.array(OAT5)"
   ]
  },
  {
   "cell_type": "code",
   "execution_count": 625,
   "metadata": {},
   "outputs": [
    {
     "name": "stdout",
     "output_type": "stream",
     "text": [
      "[69 27 69 85 69 69 69 69 69 69]\n",
      "395 37.22617128988013 0.0 (2161,)\n",
      "47742 2019\n",
      "(22,)\n"
     ]
    }
   ],
   "source": [
    "print(np.argmax(OA5[i],axis=1))\n",
    "print(OAT5[54081],np.std(OAT5),np.median(OAT5),OAT5[OAT5>2*np.std(OAT5)+np.median(OAT5)].shape)\n",
    "print(np.argmax(OAT5),OAT5[np.argmax(OAT5)])\n",
    "print(OAT5[OAT5>20*np.std(OAT5)+np.median(OAT5)].shape)"
   ]
  },
  {
   "cell_type": "code",
   "execution_count": 626,
   "metadata": {},
   "outputs": [
    {
     "data": {
      "text/plain": [
       "array([74250, 43660, 70423,  9222, 54577, 52246,  8243, 28357, 68539,\n",
       "        6192, 72264, 11111, 35512, 34388, 23471, 16116, 35611, 16286,\n",
       "       60601, 20426, 61279, 18264,  5313, 28374, 37700,  2714, 14461,\n",
       "       78279, 17183, 20605, 43993, 40862, 41294,   927, 56140, 51014,\n",
       "       23085, 32756, 77598, 62285, 74435, 77754, 49545, 27937,   171,\n",
       "       35567, 18699, 73106, 66255, 47742])"
      ]
     },
     "execution_count": 626,
     "metadata": {},
     "output_type": "execute_result"
    }
   ],
   "source": [
    "np.argsort(OAT5)[-50:]"
   ]
  },
  {
   "cell_type": "code",
   "execution_count": 33,
   "metadata": {},
   "outputs": [],
   "source": [
    "OT6=[]\n",
    "OAT6=[]\n",
    "for i in range(len(OA6)):\n",
    "    OT6.append(Probab(OA6[i])[1])\n",
    "    OAT6.append(AProbab(OA6[i])[1])\n",
    "    \n",
    "OT6=np.array(OT6)\n",
    "OAT6=np.array(OAT6)"
   ]
  },
  {
   "cell_type": "code",
   "execution_count": 34,
   "metadata": {},
   "outputs": [
    {
     "name": "stdout",
     "output_type": "stream",
     "text": [
      "[69 85 69 69 69 69 69 69 69 69 69 69 69 69 69 69]\n",
      "21257 1019.468377974062 247.0 (3217,)\n",
      "927 28439\n",
      "(8,)\n"
     ]
    }
   ],
   "source": [
    "print(np.argmax(OA6[i],axis=1))\n",
    "print(OAT6[54081],np.std(OAT6),np.median(OAT6),OAT6[OAT6>2*np.std(OAT6)+np.median(OAT6)].shape)\n",
    "print(np.argmax(OAT6),OAT6[np.argmax(OAT6)])\n",
    "print(OAT6[OAT6>20*np.std(OAT6)+np.median(OAT6)].shape)"
   ]
  },
  {
   "cell_type": "code",
   "execution_count": 35,
   "metadata": {},
   "outputs": [
    {
     "data": {
      "text/plain": [
       "array([ 3260, 50201,  8981, 32900, 45651, 18699, 12142, 16116, 43660,\n",
       "       53790, 14461, 33898, 18264, 43993, 38317, 72264, 56140, 23471,\n",
       "       43602, 76454, 41077, 10530, 21720, 23085, 75018, 49545, 46630,\n",
       "       55268, 60402,  2024, 23284, 41427,  1592, 68539, 35339, 27937,\n",
       "       17183, 62285, 78279, 34212,  9222, 27128, 47742, 54081,   171,\n",
       "        6192, 37700, 66255, 73106,   927])"
      ]
     },
     "execution_count": 35,
     "metadata": {},
     "output_type": "execute_result"
    }
   ],
   "source": [
    "np.argsort(OAT6)[-50:]"
   ]
  },
  {
   "cell_type": "code",
   "execution_count": 66,
   "metadata": {},
   "outputs": [],
   "source": [
    "OT7=[]\n",
    "OAT7=[]\n",
    "for i in range(len(OA7)):\n",
    "    if len(OC7[i])==10 or len(OC7[i])==11:\n",
    "        OT7.append(Probab(OA7[i])[0])\n",
    "        OAT7.append(AProbab(OA7[i])[0])\n",
    "    else:\n",
    "        OT7.append(Probab(OA7[i])[18])\n",
    "        OAT7.append(AProbab(OA7[i])[18])\n",
    "    \n",
    "OT7=np.array(OT7)\n",
    "OAT7=np.array(OAT7)"
   ]
  },
  {
   "cell_type": "code",
   "execution_count": 24,
   "metadata": {},
   "outputs": [
    {
     "name": "stdout",
     "output_type": "stream",
     "text": [
      "[69 69 69 69 69 69 69 69 69 69 69 69 69 69 69 69 69 69 85 69 69 69 69 69\n",
      " 69 69 69 69]\n",
      "5819 582.0720301155993 157.0 (4432,)\n",
      "66255 12225\n",
      "(91,)\n"
     ]
    }
   ],
   "source": [
    "print(np.argmax(OA7[i],axis=1))\n",
    "print(OAT7[54081],np.std(OAT7),np.median(OAT7),OAT7[OAT7>2*np.std(OAT7)+np.median(OAT7)].shape)\n",
    "print(np.argmax(OAT7),OAT7[np.argmax(OAT7)])\n",
    "print(OAT7[OAT7>9*np.std(OAT7)+np.median(OAT7)].shape)"
   ]
  },
  {
   "cell_type": "code",
   "execution_count": 25,
   "metadata": {},
   "outputs": [
    {
     "data": {
      "text/plain": [
       "array([10530, 50201, 68357, 18264, 34212, 38594,  2329, 76095, 18699,\n",
       "       17037, 26768, 64370, 24824, 11111, 77372, 41169, 16116, 45308,\n",
       "         830, 76003,  4054, 22222, 73137, 41294, 17183,  2713, 46071,\n",
       "       22905, 19282,   927, 53191,  2024, 62950,   447, 35567,   171,\n",
       "       77754, 20224, 49545, 34388, 72264, 68539, 47742, 22522, 73106,\n",
       "       78279, 27937, 71759,  8981, 66255])"
      ]
     },
     "execution_count": 25,
     "metadata": {},
     "output_type": "execute_result"
    }
   ],
   "source": [
    "np.argsort(OAT7)[-50:]"
   ]
  },
  {
   "cell_type": "code",
   "execution_count": null,
   "metadata": {},
   "outputs": [],
   "source": []
  },
  {
   "cell_type": "code",
   "execution_count": null,
   "metadata": {},
   "outputs": [],
   "source": []
  },
  {
   "cell_type": "code",
   "execution_count": null,
   "metadata": {},
   "outputs": [],
   "source": []
  },
  {
   "cell_type": "code",
   "execution_count": null,
   "metadata": {},
   "outputs": [],
   "source": []
  },
  {
   "cell_type": "code",
   "execution_count": null,
   "metadata": {},
   "outputs": [],
   "source": []
  },
  {
   "cell_type": "code",
   "execution_count": 67,
   "metadata": {},
   "outputs": [],
   "source": [
    "HighOAT1=np.array([21720, 77754, 53191,  2529, 72266,  8981, 53790, 62718, 81254,\\\n",
    "       40220, 50201, 41077, 23284, 76003,  2517, 76454, 35339, 72753,\\\n",
    "       43602,  3260, 55268, 41427, 23471, 54081, 10530, 43660, 46630,\\\n",
    "       23085, 27128, 17183, 68539, 77598, 34212,  2024, 78279,  9222,\\\n",
    "       37700, 16116, 56140, 60402, 27937, 49545, 18264, 62285,  6192,\\\n",
    "         927,   171, 73106, 47742, 66255])\n",
    "HighOAT2=np.array([43438, 61672,  1995, 46630, 77598, 72264, 52246, 72266,  2714,\\\n",
    "       43602, 16116, 45667, 44553, 54229, 75018, 21720, 43660, 53790,\\\n",
    "       72753, 27937, 10530, 17183, 22644, 76454, 27128, 60402, 47742,\\\n",
    "       62285, 68539, 41077, 34212, 35339, 56140, 18699, 49545, 41427,\\\n",
    "        6192,  1592, 18264, 66255, 55268, 23085, 54081,  2024,  9222,\\\n",
    "         171, 73106, 78279,   927, 37700])\n",
    "HighOAT3=np.array([46630, 43660, 33898, 43602, 60736,  1995, 10530, 54229, 22905,\\\n",
    "       56140, 60402,  1261, 72264, 43993, 22644, 74548, 62285,  2714,\\\n",
    "       47742, 15209, 27937, 52246, 18264, 49545, 38317, 34212, 76454,\\\n",
    "       68539, 35339, 75018, 17183,  9222,  2024,  6192, 23085, 18699,\\\n",
    "         171, 66255, 55268, 45667, 27128, 73106, 41077, 54081, 21720,\\\n",
    "       41427,  1592, 78279,   927, 37700])\n",
    "HighOAT4=np.array([  447, 43602, 68573, 76003, 44873, 43438, 34212, 21720, 16116,\\\n",
    "        3260,  1592, 77754, 75018, 81254, 61672, 41427, 23085, 43660,\\\n",
    "       72753,  2517, 38163, 17183, 23284, 53790, 27128, 35339,  2024,\\\n",
    "       56140, 47742, 77598, 44553, 41077, 78279, 27937, 68539, 60402,\\\n",
    "       72266, 49545, 18264, 54081,  6192, 10530, 61078, 73106, 62285,\\\n",
    "         171, 37700,   927,  9222, 66255])\n",
    "HighOAT5=np.array([74250, 43660, 70423,  9222, 54577, 52246,  8243, 28357, 68539,\\\n",
    "        6192, 72264, 11111, 35512, 34388, 23471, 16116, 35611, 16286,\\\n",
    "       60601, 20426, 61279, 18264,  5313, 28374, 37700,  2714, 14461,\\\n",
    "       78279, 17183, 20605, 43993, 40862, 41294,   927, 56140, 51014,\\\n",
    "       23085, 32756, 77598, 62285, 74435, 77754, 49545, 27937,   171,\\\n",
    "       35567, 18699, 73106, 66255, 47742])\n",
    "HighOAT6=np.array([ 3260, 50201,  8981, 32900, 45651, 18699, 12142, 16116, 43660,\\\n",
    "       53790, 14461, 33898, 18264, 43993, 38317, 72264, 56140, 23471,\\\n",
    "       43602, 76454, 41077, 10530, 21720, 23085, 75018, 49545, 46630,\\\n",
    "       55268, 60402,  2024, 23284, 41427,  1592, 68539, 35339, 27937,\\\n",
    "       17183, 62285, 78279, 34212,  9222, 27128, 47742, 54081,   171,\\\n",
    "        6192, 37700, 66255, 73106,   927])"
   ]
  },
  {
   "cell_type": "code",
   "execution_count": 76,
   "metadata": {},
   "outputs": [
    {
     "data": {
      "text/plain": [
       "29"
      ]
     },
     "execution_count": 76,
     "metadata": {},
     "output_type": "execute_result"
    }
   ],
   "source": [
    "len(set(HighOAT1).intersection(set(HighOAT2)).intersection(set(HighOAT3)).\\\n",
    "    intersection(set(HighOAT4)).intersection(set(HighOAT6)))"
   ]
  },
  {
   "cell_type": "code",
   "execution_count": 85,
   "metadata": {},
   "outputs": [
    {
     "data": {
      "text/plain": [
       "29"
      ]
     },
     "execution_count": 85,
     "metadata": {},
     "output_type": "execute_result"
    }
   ],
   "source": [
    "len(set(HighOAT1).intersection(set(HighOAT2)).intersection(set(HighOAT3)).\\\n",
    "    intersection(set(HighOAT4)))"
   ]
  },
  {
   "cell_type": "code",
   "execution_count": 81,
   "metadata": {},
   "outputs": [
    {
     "data": {
      "text/plain": [
       "32"
      ]
     },
     "execution_count": 81,
     "metadata": {},
     "output_type": "execute_result"
    }
   ],
   "source": [
    "len(set(HighOAT1).intersection(set(HighOAT2)).intersection(set(HighOAT3)))"
   ]
  },
  {
   "cell_type": "code",
   "execution_count": 82,
   "metadata": {},
   "outputs": [
    {
     "data": {
      "text/plain": [
       "37"
      ]
     },
     "execution_count": 82,
     "metadata": {},
     "output_type": "execute_result"
    }
   ],
   "source": [
    "len(set(HighOAT1).intersection(set(HighOAT2)))"
   ]
  },
  {
   "cell_type": "code",
   "execution_count": null,
   "metadata": {},
   "outputs": [],
   "source": []
  },
  {
   "cell_type": "code",
   "execution_count": 83,
   "metadata": {},
   "outputs": [
    {
     "data": {
      "text/plain": [
       "(29, 29, 32, 37, 50)"
      ]
     },
     "execution_count": 83,
     "metadata": {},
     "output_type": "execute_result"
    }
   ],
   "source": [
    "29,29,32,37,50"
   ]
  },
  {
   "cell_type": "code",
   "execution_count": 551,
   "metadata": {},
   "outputs": [],
   "source": [
    "newlist=[]\n",
    "for i in range(50):\n",
    "    if (np.argsort(OAT)[-50:]==np.argsort(AT)[-50:][i]).any():\n",
    "        #print(np.argsort(AT)[-50:][i])\n",
    "        newlist.append(np.argsort(AT)[-50:][i])"
   ]
  },
  {
   "cell_type": "code",
   "execution_count": 553,
   "metadata": {},
   "outputs": [
    {
     "data": {
      "text/plain": [
       "[21720,\n",
       " 72266,\n",
       " 53790,\n",
       " 41077,\n",
       " 76454,\n",
       " 35339,\n",
       " 72753,\n",
       " 43602,\n",
       " 55268,\n",
       " 41427,\n",
       " 54081,\n",
       " 10530,\n",
       " 43660,\n",
       " 46630,\n",
       " 23085,\n",
       " 27128,\n",
       " 17183,\n",
       " 68539,\n",
       " 77598,\n",
       " 34212,\n",
       " 2024,\n",
       " 78279,\n",
       " 9222,\n",
       " 37700,\n",
       " 16116,\n",
       " 56140,\n",
       " 60402,\n",
       " 27937,\n",
       " 49545,\n",
       " 18264,\n",
       " 62285,\n",
       " 6192,\n",
       " 927,\n",
       " 171,\n",
       " 73106,\n",
       " 47742,\n",
       " 66255]"
      ]
     },
     "execution_count": 553,
     "metadata": {},
     "output_type": "execute_result"
    }
   ],
   "source": [
    "newlist"
   ]
  },
  {
   "cell_type": "code",
   "execution_count": 549,
   "metadata": {},
   "outputs": [],
   "source": [
    "newlist.sort()"
   ]
  },
  {
   "cell_type": "code",
   "execution_count": 550,
   "metadata": {},
   "outputs": [
    {
     "data": {
      "text/plain": [
       "[171,\n",
       " 927,\n",
       " 2024,\n",
       " 6192,\n",
       " 9222,\n",
       " 10530,\n",
       " 16116,\n",
       " 17183,\n",
       " 18264,\n",
       " 21720,\n",
       " 23085,\n",
       " 27128,\n",
       " 27937,\n",
       " 34212,\n",
       " 35339,\n",
       " 37700,\n",
       " 41077,\n",
       " 41427,\n",
       " 43602,\n",
       " 43660,\n",
       " 46630,\n",
       " 47742,\n",
       " 49545,\n",
       " 53790,\n",
       " 54081,\n",
       " 55268,\n",
       " 56140,\n",
       " 60402,\n",
       " 62285,\n",
       " 66255,\n",
       " 68539,\n",
       " 72266,\n",
       " 72753,\n",
       " 73106,\n",
       " 76454,\n",
       " 77598,\n",
       " 78279]"
      ]
     },
     "execution_count": 550,
     "metadata": {},
     "output_type": "execute_result"
    }
   ],
   "source": [
    "newlist"
   ]
  },
  {
   "cell_type": "code",
   "execution_count": 11,
   "metadata": {},
   "outputs": [
    {
     "data": {
      "text/plain": [
       "array([[69, 85, 69, 69, 69, 69, 69, 69, 69, 69, 69, 69, 69, 69, 69, 69,\n",
       "        69],\n",
       "       [69, 85, 69, 69, 69, 69, 69, 69, 69, 69, 69, 69, 69, 69, 69, 69,\n",
       "        69],\n",
       "       [69, 85, 69, 69, 69, 69, 69, 69, 69, 69, 69, 69, 69, 69, 69, 69,\n",
       "        69],\n",
       "       [69, 85, 69, 69, 69, 69, 69, 69, 69, 69, 69, 69, 69, 69, 69, 69,\n",
       "        69]], dtype=int32)"
      ]
     },
     "execution_count": 11,
     "metadata": {},
     "output_type": "execute_result"
    }
   ],
   "source": [
    "OxC"
   ]
  },
  {
   "cell_type": "code",
   "execution_count": 13,
   "metadata": {},
   "outputs": [
    {
     "name": "stdout",
     "output_type": "stream",
     "text": [
      "[  17 9524    0    0    0    0    1    0    0    0    0    0    0    4\n",
      "    0    0   48]\n",
      "[   16 10696     0     0     0     0     1     0     0     0     0     0\n",
      "     0     4     0     1    52]\n",
      "[   24 29214     1     0     0     0     1     0     0     0     0     0\n",
      "     0     4     0     1    51]\n",
      "[   25 24880     1     0     0     0     1     0     0     0     0     0\n",
      "     0     3     0     0    46]\n"
     ]
    }
   ],
   "source": [
    "for i in range(len(OxA)):\n",
    "    print(Probab(OxA[i]))"
   ]
  },
  {
   "cell_type": "code",
   "execution_count": null,
   "metadata": {},
   "outputs": [],
   "source": []
  },
  {
   "cell_type": "code",
   "execution_count": 36,
   "metadata": {},
   "outputs": [],
   "source": [
    "OT3=[]\n",
    "OAT3=[]\n",
    "for i in range(len(OxA)):\n",
    "    OT3.append(Probab(OxA[i])[1])\n",
    "    OAT3.append(AProbab(OxA[i])[1])\n",
    "    \n",
    "OT3=np.array(OT3)\n",
    "OAT3=np.array(OAT3)"
   ]
  },
  {
   "cell_type": "code",
   "execution_count": 37,
   "metadata": {},
   "outputs": [
    {
     "ename": "NameError",
     "evalue": "name 'OA3' is not defined",
     "output_type": "error",
     "traceback": [
      "\u001b[0;31m---------------------------------------------------------------------------\u001b[0m",
      "\u001b[0;31mNameError\u001b[0m                                 Traceback (most recent call last)",
      "\u001b[0;32m<ipython-input-37-ce2488328ab2>\u001b[0m in \u001b[0;36m<module>\u001b[0;34m()\u001b[0m\n\u001b[0;32m----> 1\u001b[0;31m \u001b[0mprint\u001b[0m\u001b[0;34m(\u001b[0m\u001b[0mnp\u001b[0m\u001b[0;34m.\u001b[0m\u001b[0margmax\u001b[0m\u001b[0;34m(\u001b[0m\u001b[0mOA3\u001b[0m\u001b[0;34m[\u001b[0m\u001b[0mi\u001b[0m\u001b[0;34m]\u001b[0m\u001b[0;34m,\u001b[0m\u001b[0maxis\u001b[0m\u001b[0;34m=\u001b[0m\u001b[0;36m1\u001b[0m\u001b[0;34m)\u001b[0m\u001b[0;34m)\u001b[0m\u001b[0;34m\u001b[0m\u001b[0;34m\u001b[0m\u001b[0m\n\u001b[0m\u001b[1;32m      2\u001b[0m \u001b[0mprint\u001b[0m\u001b[0;34m(\u001b[0m\u001b[0mOAT3\u001b[0m\u001b[0;34m[\u001b[0m\u001b[0;36m54081\u001b[0m\u001b[0;34m]\u001b[0m\u001b[0;34m,\u001b[0m\u001b[0mnp\u001b[0m\u001b[0;34m.\u001b[0m\u001b[0mstd\u001b[0m\u001b[0;34m(\u001b[0m\u001b[0mOAT3\u001b[0m\u001b[0;34m)\u001b[0m\u001b[0;34m,\u001b[0m\u001b[0mnp\u001b[0m\u001b[0;34m.\u001b[0m\u001b[0mmedian\u001b[0m\u001b[0;34m(\u001b[0m\u001b[0mOAT3\u001b[0m\u001b[0;34m)\u001b[0m\u001b[0;34m,\u001b[0m\u001b[0mOAT3\u001b[0m\u001b[0;34m[\u001b[0m\u001b[0mOAT3\u001b[0m\u001b[0;34m>\u001b[0m\u001b[0;36m2\u001b[0m\u001b[0;34m*\u001b[0m\u001b[0mnp\u001b[0m\u001b[0;34m.\u001b[0m\u001b[0mstd\u001b[0m\u001b[0;34m(\u001b[0m\u001b[0mOAT3\u001b[0m\u001b[0;34m)\u001b[0m\u001b[0;34m+\u001b[0m\u001b[0mnp\u001b[0m\u001b[0;34m.\u001b[0m\u001b[0mmedian\u001b[0m\u001b[0;34m(\u001b[0m\u001b[0mOAT3\u001b[0m\u001b[0;34m)\u001b[0m\u001b[0;34m]\u001b[0m\u001b[0;34m.\u001b[0m\u001b[0mshape\u001b[0m\u001b[0;34m)\u001b[0m\u001b[0;34m\u001b[0m\u001b[0;34m\u001b[0m\u001b[0m\n\u001b[1;32m      3\u001b[0m \u001b[0mprint\u001b[0m\u001b[0;34m(\u001b[0m\u001b[0mnp\u001b[0m\u001b[0;34m.\u001b[0m\u001b[0margmax\u001b[0m\u001b[0;34m(\u001b[0m\u001b[0mOAT3\u001b[0m\u001b[0;34m)\u001b[0m\u001b[0;34m,\u001b[0m\u001b[0mOAT3\u001b[0m\u001b[0;34m[\u001b[0m\u001b[0mnp\u001b[0m\u001b[0;34m.\u001b[0m\u001b[0margmax\u001b[0m\u001b[0;34m(\u001b[0m\u001b[0mOAT3\u001b[0m\u001b[0;34m)\u001b[0m\u001b[0;34m]\u001b[0m\u001b[0;34m)\u001b[0m\u001b[0;34m\u001b[0m\u001b[0;34m\u001b[0m\u001b[0m\n\u001b[1;32m      4\u001b[0m \u001b[0mprint\u001b[0m\u001b[0;34m(\u001b[0m\u001b[0mOAT3\u001b[0m\u001b[0;34m[\u001b[0m\u001b[0mOAT3\u001b[0m\u001b[0;34m>\u001b[0m\u001b[0;36m20\u001b[0m\u001b[0;34m*\u001b[0m\u001b[0mnp\u001b[0m\u001b[0;34m.\u001b[0m\u001b[0mstd\u001b[0m\u001b[0;34m(\u001b[0m\u001b[0mOAT3\u001b[0m\u001b[0;34m)\u001b[0m\u001b[0;34m+\u001b[0m\u001b[0mnp\u001b[0m\u001b[0;34m.\u001b[0m\u001b[0mmedian\u001b[0m\u001b[0;34m(\u001b[0m\u001b[0mOAT3\u001b[0m\u001b[0;34m)\u001b[0m\u001b[0;34m]\u001b[0m\u001b[0;34m.\u001b[0m\u001b[0mshape\u001b[0m\u001b[0;34m)\u001b[0m\u001b[0;34m\u001b[0m\u001b[0;34m\u001b[0m\u001b[0m\n",
      "\u001b[0;31mNameError\u001b[0m: name 'OA3' is not defined"
     ]
    }
   ],
   "source": [
    "print(np.argmax(OA3[i],axis=1))\n",
    "print(OAT3[54081],np.std(OAT3),np.median(OAT3),OAT3[OAT3>2*np.std(OAT3)+np.median(OAT3)].shape)\n",
    "print(np.argmax(OAT3),OAT3[np.argmax(OAT3)])\n",
    "print(OAT3[OAT3>20*np.std(OAT3)+np.median(OAT3)].shape)"
   ]
  },
  {
   "cell_type": "code",
   "execution_count": 8,
   "metadata": {},
   "outputs": [],
   "source": [
    "mask=np.ones(len(OxA), dtype=bool)\n",
    "for i in range(len(OxA)):\n",
    "    if OxA[i].shape[0]==1 or OxA[i].shape[0]==3:\n",
    "        mask[[i]]=False"
   ]
  },
  {
   "cell_type": "code",
   "execution_count": 9,
   "metadata": {},
   "outputs": [
    {
     "name": "stderr",
     "output_type": "stream",
     "text": [
      "/usr/lib/python3.6/site-packages/ipykernel_launcher.py:1: FutureWarning: Using a non-tuple sequence for multidimensional indexing is deprecated; use `arr[tuple(seq)]` instead of `arr[seq]`. In the future this will be interpreted as an array index, `arr[np.array(seq)]`, which will result either in an error or a different result.\n",
      "  \"\"\"Entry point for launching an IPython kernel.\n",
      "/usr/lib/python3.6/site-packages/ipykernel_launcher.py:2: FutureWarning: Using a non-tuple sequence for multidimensional indexing is deprecated; use `arr[tuple(seq)]` instead of `arr[seq]`. In the future this will be interpreted as an array index, `arr[np.array(seq)]`, which will result either in an error or a different result.\n",
      "  \n"
     ]
    },
    {
     "data": {
      "text/plain": [
       "(81497,)"
      ]
     },
     "execution_count": 9,
     "metadata": {},
     "output_type": "execute_result"
    }
   ],
   "source": [
    "OxA6=OxA[[mask]]\n",
    "OxC6=OxC[[mask]]\n",
    "OxA6.shape"
   ]
  },
  {
   "cell_type": "code",
   "execution_count": 3,
   "metadata": {},
   "outputs": [],
   "source": [
    "mask=np.ones(len(OxA), dtype=bool)\n",
    "for i in range(len(OxA)):\n",
    "    if OxA[i].shape[0]==1 or OxA[i].shape[0]==17 or OxA[i].shape[0]==18:\n",
    "        mask[[i]]=False"
   ]
  },
  {
   "cell_type": "code",
   "execution_count": 4,
   "metadata": {},
   "outputs": [],
   "source": [
    "OxA=OxA[mask]\n",
    "OxC=OxC[mask]"
   ]
  },
  {
   "cell_type": "code",
   "execution_count": 5,
   "metadata": {
    "scrolled": true
   },
   "outputs": [
    {
     "data": {
      "text/plain": [
       "(81497,)"
      ]
     },
     "execution_count": 5,
     "metadata": {},
     "output_type": "execute_result"
    }
   ],
   "source": [
    "OxA.shape"
   ]
  },
  {
   "cell_type": "code",
   "execution_count": 64,
   "metadata": {},
   "outputs": [],
   "source": [
    "OT7=[]\n",
    "OAT7=[]\n",
    "for i in range(len(OxA)):\n",
    "    OT7.append(Probab(OxA[i])[1])\n",
    "    OAT7.append(AProbab(OxA[i])[1])\n",
    "    \n",
    "OT7=np.array(OT7)\n",
    "OAT7=np.array(OAT7)"
   ]
  },
  {
   "cell_type": "code",
   "execution_count": null,
   "metadata": {},
   "outputs": [],
   "source": []
  },
  {
   "cell_type": "code",
   "execution_count": 38,
   "metadata": {},
   "outputs": [
    {
     "data": {
      "text/plain": [
       "array([61812, 73106,  1872, 73755, 27665, 39730, 37101, 51998, 49608,\n",
       "        2196,  1119, 10530, 38317, 37405, 54420, 20929, 43563, 58588,\n",
       "        2603, 20348, 43113, 59359, 26785, 73410, 29714, 72266, 77754,\n",
       "       40862, 43452, 26379, 51702, 45316, 54081, 27937, 58434, 29762,\n",
       "         610, 23284, 61352, 41077, 65725,   927, 72753, 61672,  3205,\n",
       "       41809, 53790, 21720, 43438, 27128])"
      ]
     },
     "execution_count": 38,
     "metadata": {},
     "output_type": "execute_result"
    }
   ],
   "source": [
    "np.argsort(OAT3)[-50:]"
   ]
  },
  {
   "cell_type": "code",
   "execution_count": 32,
   "metadata": {},
   "outputs": [
    {
     "data": {
      "text/plain": [
       "array([43991, 65974, 38317, 43993, 20224, 62285, 44862, 56140, 62950,\n",
       "       22182, 35339, 53790, 27937, 72264, 54229, 23085, 66255,  1995,\n",
       "       18264, 17183, 47742, 68539, 74548, 34212, 41427, 49545, 22905,\n",
       "       44553,  1592,  9222,  6192, 52246, 76454,  1261, 54081,  2024,\n",
       "       75018, 27128,   171, 55268, 45667, 41077, 22644, 21720,  2714,\n",
       "       18699, 73106, 78279,   927, 37700])"
      ]
     },
     "execution_count": 32,
     "metadata": {},
     "output_type": "execute_result"
    }
   ],
   "source": [
    "np.argsort(OAT3)[-50:]"
   ]
  },
  {
   "cell_type": "code",
   "execution_count": 15,
   "metadata": {},
   "outputs": [
    {
     "data": {
      "text/plain": [
       "array([46630, 43660, 33898, 43602, 60736,  1995, 10530, 54229, 22905,\n",
       "       56140, 60402,  1261, 72264, 43993, 22644, 74548, 62285,  2714,\n",
       "       47742, 15209, 27937, 52246, 18264, 49545, 38317, 34212, 76454,\n",
       "       68539, 35339, 75018, 17183,  9222,  2024,  6192, 23085, 18699,\n",
       "         171, 66255, 55268, 45667, 27128, 73106, 41077, 54081, 21720,\n",
       "       41427,  1592, 78279,   927, 37700])"
      ]
     },
     "execution_count": 15,
     "metadata": {},
     "output_type": "execute_result"
    }
   ],
   "source": [
    "np.argsort(OAT3)[-50:]"
   ]
  },
  {
   "cell_type": "code",
   "execution_count": null,
   "metadata": {},
   "outputs": [],
   "source": []
  },
  {
   "cell_type": "code",
   "execution_count": 37,
   "metadata": {},
   "outputs": [
    {
     "data": {
      "text/plain": [
       "array([[7]])"
      ]
     },
     "execution_count": 37,
     "metadata": {},
     "output_type": "execute_result"
    }
   ],
   "source": [
    "# This is for ../trained_models/i2b2_2014_glove_spacy_bioes spacy \n",
    "81497-np.argwhere(np.argsort(OAT6)==54081)"
   ]
  },
  {
   "cell_type": "code",
   "execution_count": 27,
   "metadata": {},
   "outputs": [
    {
     "data": {
      "text/plain": [
       "array([[10]])"
      ]
     },
     "execution_count": 27,
     "metadata": {},
     "output_type": "execute_result"
    }
   ],
   "source": [
    "# This is for ../trained_models/CheckTrimedi2mytrain spacy \n",
    "81497-np.argwhere(np.argsort(OAT6)==54081)"
   ]
  },
  {
   "cell_type": "code",
   "execution_count": null,
   "metadata": {},
   "outputs": [],
   "source": []
  },
  {
   "cell_type": "code",
   "execution_count": 10,
   "metadata": {},
   "outputs": [
    {
     "data": {
      "text/plain": [
       "array([[80430]])"
      ]
     },
     "execution_count": 10,
     "metadata": {},
     "output_type": "execute_result"
    }
   ],
   "source": [
    "# This is for ../trained_models/CheckTrimedi2mytrain spacy \n",
    "81497-np.argwhere(np.argsort(OAT7)==54081)"
   ]
  },
  {
   "cell_type": "code",
   "execution_count": 30,
   "metadata": {},
   "outputs": [
    {
     "data": {
      "text/plain": [
       "array([[80430]])"
      ]
     },
     "execution_count": 30,
     "metadata": {},
     "output_type": "execute_result"
    }
   ],
   "source": [
    "81497-np.argwhere(np.argsort(OAT7)==54081)"
   ]
  },
  {
   "cell_type": "code",
   "execution_count": 27,
   "metadata": {},
   "outputs": [
    {
     "data": {
      "text/plain": [
       "array([[64]])"
      ]
     },
     "execution_count": 27,
     "metadata": {},
     "output_type": "execute_result"
    }
   ],
   "source": [
    "81497-np.argwhere(np.argsort(OAT7)==54081)"
   ]
  },
  {
   "cell_type": "code",
   "execution_count": 63,
   "metadata": {},
   "outputs": [
    {
     "name": "stdout",
     "output_type": "stream",
     "text": [
      "0 12.154668709081045 0.0 (29,)\n"
     ]
    }
   ],
   "source": [
    "print(OAT7[54081],np.std(OAT7),np.median(OAT7),OAT7[OAT7>2*np.std(OAT7)+np.median(OAT7)].shape)\n"
   ]
  },
  {
   "cell_type": "code",
   "execution_count": 67,
   "metadata": {},
   "outputs": [
    {
     "name": "stdout",
     "output_type": "stream",
     "text": [
      "5819 582.0720301155993 157.0 (4432,)\n"
     ]
    }
   ],
   "source": [
    "print(OAT7[54081],np.std(OAT7),np.median(OAT7),OAT7[OAT7>2*np.std(OAT7)+np.median(OAT7)].shape)"
   ]
  },
  {
   "cell_type": "code",
   "execution_count": null,
   "metadata": {},
   "outputs": [],
   "source": []
  },
  {
   "cell_type": "code",
   "execution_count": 18,
   "metadata": {},
   "outputs": [],
   "source": [
    "\n",
    "def FileWithWords(fname,word,CapSensitive=True):\n",
    "#fname = input(\"/home/salman/NeuroNER-master/data/i2b2_2014_deid/train/\")\n",
    "#word=input(\"Enter word to be searched:\")\n",
    "    k = 0\n",
    "    if not CapSensitive:\n",
    "        word = word.lower()\n",
    "        with open(fname, 'r') as f:\n",
    "            for line in f:\n",
    "                words = line.split().lower()\n",
    "                for i in words:\n",
    "                    if(i==word):\n",
    "                        k=k+1\n",
    "    else:\n",
    "        with open(fname, 'r') as f:\n",
    "            for line in f:\n",
    "                words = line.split()\n",
    "                for i in words:\n",
    "                    if(i==word):\n",
    "                        k=k+1\n",
    "    return(k)"
   ]
  },
  {
   "cell_type": "code",
   "execution_count": 19,
   "metadata": {},
   "outputs": [],
   "source": [
    "from os import walk"
   ]
  },
  {
   "cell_type": "code",
   "execution_count": 20,
   "metadata": {},
   "outputs": [],
   "source": [
    "DirectoryPath=\"/home/salman/NeuroNER-master/data/i2b2_2014_deid/train/\"\n",
    "\n",
    "(_, _, filenames) = next(walk(\"%s\"%DirectoryPath))"
   ]
  },
  {
   "cell_type": "code",
   "execution_count": 21,
   "metadata": {},
   "outputs": [
    {
     "name": "stdout",
     "output_type": "stream",
     "text": [
      "file 241-01.ann has 6 PATIENT\n",
      "file 250-01.ann has 10 PATIENT\n",
      "file 256-05.ann has 6 PATIENT\n",
      "file 270-04.ann has 6 PATIENT\n",
      "file 282-01.ann has 9 PATIENT\n",
      "file 285-04.ann has 8 PATIENT\n",
      "file 292-05.ann has 8 PATIENT\n",
      "file 293-04.ann has 8 PATIENT\n",
      "file 329-04.ann has 7 PATIENT\n",
      "file 350-02.ann has 6 PATIENT\n",
      "file 356-03.ann has 7 PATIENT\n",
      "file 356-04.ann has 17 PATIENT\n",
      "file 358-02.ann has 10 PATIENT\n",
      "file 358-03.ann has 25 PATIENT\n",
      "file 360-02.ann has 8 PATIENT\n",
      "file 391-01.ann has 12 PATIENT\n",
      "file 391-02.ann has 11 PATIENT\n",
      "file 395-05.ann has 8 PATIENT\n",
      "file 399-04.ann has 11 PATIENT\n"
     ]
    }
   ],
   "source": [
    "for i in filenames:\n",
    "    k = FileWithWords(\"%s%s\"%(DirectoryPath,i),word=\"PATIENT\")\n",
    "    if k>5:\n",
    "        print(\"file %s has %s PATIENT\"%(i,k))"
   ]
  },
  {
   "cell_type": "code",
   "execution_count": 22,
   "metadata": {},
   "outputs": [],
   "source": [
    "PATIENT=[]\n",
    "for i in filenames:\n",
    "    k = FileWithWords(\"%s%s\"%(DirectoryPath,i),word=\"PATIENT\")\n",
    "    if k!=0:\n",
    "        PATIENT.append([k,i])"
   ]
  },
  {
   "cell_type": "code",
   "execution_count": null,
   "metadata": {},
   "outputs": [],
   "source": []
  },
  {
   "cell_type": "code",
   "execution_count": 23,
   "metadata": {},
   "outputs": [],
   "source": [
    "sorPATIENT = sorted(PATIENT, key=lambda x: float(x[0]), reverse=True)"
   ]
  },
  {
   "cell_type": "code",
   "execution_count": 24,
   "metadata": {},
   "outputs": [
    {
     "data": {
      "text/plain": [
       "[[25, '358-03.ann'],\n",
       " [17, '356-04.ann'],\n",
       " [12, '391-01.ann'],\n",
       " [11, '391-02.ann'],\n",
       " [11, '399-04.ann'],\n",
       " [10, '250-01.ann'],\n",
       " [10, '358-02.ann'],\n",
       " [9, '282-01.ann'],\n",
       " [8, '285-04.ann'],\n",
       " [8, '292-05.ann'],\n",
       " [8, '293-04.ann'],\n",
       " [8, '360-02.ann'],\n",
       " [8, '395-05.ann'],\n",
       " [7, '329-04.ann'],\n",
       " [7, '356-03.ann'],\n",
       " [6, '241-01.ann'],\n",
       " [6, '256-05.ann'],\n",
       " [6, '270-04.ann'],\n",
       " [6, '350-02.ann'],\n",
       " [5, '228-04.ann'],\n",
       " [5, '241-04.ann'],\n",
       " [5, '248-01.ann'],\n",
       " [5, '248-02.ann'],\n",
       " [5, '252-01.ann'],\n",
       " [5, '282-02.ann'],\n",
       " [5, '288-03.ann'],\n",
       " [5, '292-04.ann'],\n",
       " [5, '301-01.ann'],\n",
       " [5, '303-02.ann'],\n",
       " [5, '333-03.ann'],\n",
       " [5, '335-01.ann'],\n",
       " [5, '337-02.ann'],\n",
       " [4, '222-05.ann'],\n",
       " [4, '223-01.ann'],\n",
       " [4, '226-02.ann'],\n",
       " [4, '228-05.ann'],\n",
       " [4, '241-02.ann'],\n",
       " [4, '248-04.ann'],\n",
       " [4, '250-02.ann'],\n",
       " [4, '276-04.ann'],\n",
       " [4, '282-03.ann'],\n",
       " [4, '285-01.ann'],\n",
       " [4, '288-02.ann'],\n",
       " [4, '295-03.ann'],\n",
       " [4, '297-04.ann'],\n",
       " [4, '300-03.ann'],\n",
       " [4, '308-01.ann'],\n",
       " [4, '322-04.ann'],\n",
       " [4, '350-04.ann'],\n",
       " [4, '353-04.ann'],\n",
       " [4, '361-04.ann'],\n",
       " [4, '365-03.ann'],\n",
       " [3, '221-03.ann'],\n",
       " [3, '222-04.ann'],\n",
       " [3, '226-04.ann'],\n",
       " [3, '228-02.ann'],\n",
       " [3, '242-03.ann'],\n",
       " [3, '247-01.ann'],\n",
       " [3, '247-02.ann'],\n",
       " [3, '247-03.ann'],\n",
       " [3, '247-04.ann'],\n",
       " [3, '248-03.ann'],\n",
       " [3, '249-01.ann'],\n",
       " [3, '250-03.ann'],\n",
       " [3, '252-03.ann'],\n",
       " [3, '252-05.ann'],\n",
       " [3, '256-02.ann'],\n",
       " [3, '256-04.ann'],\n",
       " [3, '257-04.ann'],\n",
       " [3, '273-04.ann'],\n",
       " [3, '274-03.ann'],\n",
       " [3, '277-01.ann'],\n",
       " [3, '278-03.ann'],\n",
       " [3, '280-03.ann'],\n",
       " [3, '280-04.ann'],\n",
       " [3, '282-04.ann'],\n",
       " [3, '283-02.ann'],\n",
       " [3, '284-01.ann'],\n",
       " [3, '286-03.ann'],\n",
       " [3, '287-03.ann'],\n",
       " [3, '288-04.ann'],\n",
       " [3, '290-01.ann'],\n",
       " [3, '290-02.ann'],\n",
       " [3, '294-01.ann'],\n",
       " [3, '294-03.ann'],\n",
       " [3, '297-01.ann'],\n",
       " [3, '297-02.ann'],\n",
       " [3, '299-04.ann'],\n",
       " [3, '304-03.ann'],\n",
       " [3, '309-05.ann'],\n",
       " [3, '320-04.ann'],\n",
       " [3, '328-02.ann'],\n",
       " [3, '329-02.ann'],\n",
       " [3, '331-05.ann'],\n",
       " [3, '332-05.ann'],\n",
       " [3, '334-02.ann'],\n",
       " [3, '334-04.ann'],\n",
       " [3, '335-03.ann'],\n",
       " [3, '339-04.ann'],\n",
       " [3, '352-03.ann'],\n",
       " [3, '352-04.ann'],\n",
       " [3, '354-03.ann'],\n",
       " [3, '360-03.ann'],\n",
       " [3, '364-01.ann'],\n",
       " [3, '364-04.ann'],\n",
       " [3, '366-03.ann'],\n",
       " [3, '369-04.ann'],\n",
       " [3, '392-04.ann'],\n",
       " [3, '395-04.ann'],\n",
       " [3, '396-04.ann'],\n",
       " [3, '400-05.ann'],\n",
       " [2, '225-02.ann'],\n",
       " [2, '226-01.ann'],\n",
       " [2, '226-03.ann'],\n",
       " [2, '227-03.ann'],\n",
       " [2, '228-01.ann'],\n",
       " [2, '229-01.ann'],\n",
       " [2, '240-03.ann'],\n",
       " [2, '243-04.ann'],\n",
       " [2, '249-04.ann'],\n",
       " [2, '250-04.ann'],\n",
       " [2, '251-03.ann'],\n",
       " [2, '251-04.ann'],\n",
       " [2, '253-02.ann'],\n",
       " [2, '254-02.ann'],\n",
       " [2, '256-03.ann'],\n",
       " [2, '257-03.ann'],\n",
       " [2, '258-04.ann'],\n",
       " [2, '272-02.ann'],\n",
       " [2, '273-01.ann'],\n",
       " [2, '273-02.ann'],\n",
       " [2, '273-05.ann'],\n",
       " [2, '275-04.ann'],\n",
       " [2, '276-02.ann'],\n",
       " [2, '279-01.ann'],\n",
       " [2, '280-02.ann'],\n",
       " [2, '281-02.ann'],\n",
       " [2, '285-02.ann'],\n",
       " [2, '285-03.ann'],\n",
       " [2, '286-01.ann'],\n",
       " [2, '287-02.ann'],\n",
       " [2, '289-01.ann'],\n",
       " [2, '289-02.ann'],\n",
       " [2, '290-03.ann'],\n",
       " [2, '291-04.ann'],\n",
       " [2, '292-01.ann'],\n",
       " [2, '292-03.ann'],\n",
       " [2, '294-04.ann'],\n",
       " [2, '296-03.ann'],\n",
       " [2, '296-05.ann'],\n",
       " [2, '297-03.ann'],\n",
       " [2, '300-04.ann'],\n",
       " [2, '300-05.ann'],\n",
       " [2, '301-04.ann'],\n",
       " [2, '303-03.ann'],\n",
       " [2, '303-04.ann'],\n",
       " [2, '305-01.ann'],\n",
       " [2, '305-02.ann'],\n",
       " [2, '305-04.ann'],\n",
       " [2, '306-01.ann'],\n",
       " [2, '306-02.ann'],\n",
       " [2, '307-03.ann'],\n",
       " [2, '308-02.ann'],\n",
       " [2, '308-04.ann'],\n",
       " [2, '309-03.ann'],\n",
       " [2, '309-04.ann'],\n",
       " [2, '322-05.ann'],\n",
       " [2, '323-04.ann'],\n",
       " [2, '328-01.ann'],\n",
       " [2, '328-04.ann'],\n",
       " [2, '330-04.ann'],\n",
       " [2, '333-04.ann'],\n",
       " [2, '334-03.ann'],\n",
       " [2, '335-02.ann'],\n",
       " [2, '335-04.ann'],\n",
       " [2, '350-01.ann'],\n",
       " [2, '354-04.ann'],\n",
       " [2, '357-05.ann'],\n",
       " [2, '358-01.ann'],\n",
       " [2, '362-04.ann'],\n",
       " [2, '364-03.ann'],\n",
       " [2, '366-02.ann'],\n",
       " [2, '366-04.ann'],\n",
       " [2, '369-02.ann'],\n",
       " [2, '392-03.ann'],\n",
       " [2, '393-05.ann'],\n",
       " [2, '394-03.ann'],\n",
       " [2, '395-03.ann'],\n",
       " [2, '398-02.ann'],\n",
       " [2, '399-02.ann'],\n",
       " [1, '221-01.ann'],\n",
       " [1, '221-02.ann'],\n",
       " [1, '222-01.ann'],\n",
       " [1, '222-03.ann'],\n",
       " [1, '224-01.ann'],\n",
       " [1, '224-02.ann'],\n",
       " [1, '224-03.ann'],\n",
       " [1, '224-04.ann'],\n",
       " [1, '227-01.ann'],\n",
       " [1, '229-02.ann'],\n",
       " [1, '229-03.ann'],\n",
       " [1, '240-01.ann'],\n",
       " [1, '240-04.ann'],\n",
       " [1, '241-03.ann'],\n",
       " [1, '242-02.ann'],\n",
       " [1, '242-04.ann'],\n",
       " [1, '242-05.ann'],\n",
       " [1, '243-01.ann'],\n",
       " [1, '243-03.ann'],\n",
       " [1, '244-01.ann'],\n",
       " [1, '244-02.ann'],\n",
       " [1, '246-01.ann'],\n",
       " [1, '246-02.ann'],\n",
       " [1, '246-03.ann'],\n",
       " [1, '246-04.ann'],\n",
       " [1, '252-02.ann'],\n",
       " [1, '252-04.ann'],\n",
       " [1, '253-01.ann'],\n",
       " [1, '254-01.ann'],\n",
       " [1, '254-03.ann'],\n",
       " [1, '254-04.ann'],\n",
       " [1, '254-05.ann'],\n",
       " [1, '256-01.ann'],\n",
       " [1, '257-01.ann'],\n",
       " [1, '257-02.ann'],\n",
       " [1, '258-03.ann'],\n",
       " [1, '258-05.ann'],\n",
       " [1, '259-02.ann'],\n",
       " [1, '259-03.ann'],\n",
       " [1, '259-04.ann'],\n",
       " [1, '270-01.ann'],\n",
       " [1, '270-02.ann'],\n",
       " [1, '270-03.ann'],\n",
       " [1, '271-01.ann'],\n",
       " [1, '271-03.ann'],\n",
       " [1, '272-01.ann'],\n",
       " [1, '272-03.ann'],\n",
       " [1, '272-04.ann'],\n",
       " [1, '273-03.ann'],\n",
       " [1, '274-01.ann'],\n",
       " [1, '274-02.ann'],\n",
       " [1, '274-04.ann'],\n",
       " [1, '275-01.ann'],\n",
       " [1, '275-02.ann'],\n",
       " [1, '276-01.ann'],\n",
       " [1, '276-03.ann'],\n",
       " [1, '277-02.ann'],\n",
       " [1, '277-03.ann'],\n",
       " [1, '277-04.ann'],\n",
       " [1, '277-05.ann'],\n",
       " [1, '278-02.ann'],\n",
       " [1, '278-04.ann'],\n",
       " [1, '279-03.ann'],\n",
       " [1, '280-01.ann'],\n",
       " [1, '281-01.ann'],\n",
       " [1, '281-03.ann'],\n",
       " [1, '283-01.ann'],\n",
       " [1, '283-03.ann'],\n",
       " [1, '283-04.ann'],\n",
       " [1, '284-02.ann'],\n",
       " [1, '285-05.ann'],\n",
       " [1, '286-02.ann'],\n",
       " [1, '286-04.ann'],\n",
       " [1, '288-01.ann'],\n",
       " [1, '288-05.ann'],\n",
       " [1, '291-02.ann'],\n",
       " [1, '291-03.ann'],\n",
       " [1, '291-05.ann'],\n",
       " [1, '292-02.ann'],\n",
       " [1, '293-01.ann'],\n",
       " [1, '293-02.ann'],\n",
       " [1, '294-02.ann'],\n",
       " [1, '295-01.ann'],\n",
       " [1, '295-02.ann'],\n",
       " [1, '295-04.ann'],\n",
       " [1, '295-05.ann'],\n",
       " [1, '296-02.ann'],\n",
       " [1, '296-04.ann'],\n",
       " [1, '297-05.ann'],\n",
       " [1, '298-01.ann'],\n",
       " [1, '298-02.ann'],\n",
       " [1, '299-01.ann'],\n",
       " [1, '301-03.ann'],\n",
       " [1, '301-05.ann'],\n",
       " [1, '302-01.ann'],\n",
       " [1, '302-02.ann'],\n",
       " [1, '302-03.ann'],\n",
       " [1, '302-04.ann'],\n",
       " [1, '304-01.ann'],\n",
       " [1, '304-05.ann'],\n",
       " [1, '306-04.ann'],\n",
       " [1, '307-01.ann'],\n",
       " [1, '307-02.ann'],\n",
       " [1, '307-04.ann'],\n",
       " [1, '307-05.ann'],\n",
       " [1, '308-03.ann'],\n",
       " [1, '309-01.ann'],\n",
       " [1, '309-02.ann'],\n",
       " [1, '320-01.ann'],\n",
       " [1, '320-03.ann'],\n",
       " [1, '321-01.ann'],\n",
       " [1, '321-03.ann'],\n",
       " [1, '321-04.ann'],\n",
       " [1, '322-02.ann'],\n",
       " [1, '322-03.ann'],\n",
       " [1, '323-01.ann'],\n",
       " [1, '323-03.ann'],\n",
       " [1, '323-05.ann'],\n",
       " [1, '324-01.ann'],\n",
       " [1, '324-02.ann'],\n",
       " [1, '324-03.ann'],\n",
       " [1, '324-04.ann'],\n",
       " [1, '324-05.ann'],\n",
       " [1, '325-02.ann'],\n",
       " [1, '325-03.ann'],\n",
       " [1, '325-04.ann'],\n",
       " [1, '325-05.ann'],\n",
       " [1, '326-01.ann'],\n",
       " [1, '326-02.ann'],\n",
       " [1, '326-03.ann'],\n",
       " [1, '326-05.ann'],\n",
       " [1, '327-01.ann'],\n",
       " [1, '327-02.ann'],\n",
       " [1, '327-03.ann'],\n",
       " [1, '327-04.ann'],\n",
       " [1, '328-03.ann'],\n",
       " [1, '329-01.ann'],\n",
       " [1, '329-03.ann'],\n",
       " [1, '330-01.ann'],\n",
       " [1, '330-03.ann'],\n",
       " [1, '331-01.ann'],\n",
       " [1, '331-02.ann'],\n",
       " [1, '331-03.ann'],\n",
       " [1, '332-03.ann'],\n",
       " [1, '333-01.ann'],\n",
       " [1, '333-02.ann'],\n",
       " [1, '334-01.ann'],\n",
       " [1, '335-03.txt'],\n",
       " [1, '336-01.ann'],\n",
       " [1, '336-02.ann'],\n",
       " [1, '336-04.ann'],\n",
       " [1, '337-01.ann'],\n",
       " [1, '337-03.ann'],\n",
       " [1, '337-04.ann'],\n",
       " [1, '337-05.ann'],\n",
       " [1, '338-01.ann'],\n",
       " [1, '338-02.ann'],\n",
       " [1, '338-03.ann'],\n",
       " [1, '338-04.ann'],\n",
       " [1, '338-05.ann'],\n",
       " [1, '339-03.ann'],\n",
       " [1, '350-03.ann'],\n",
       " [1, '351-01.ann'],\n",
       " [1, '351-02.ann'],\n",
       " [1, '351-03.ann'],\n",
       " [1, '351-04.ann'],\n",
       " [1, '352-01.ann'],\n",
       " [1, '352-02.ann'],\n",
       " [1, '353-01.ann'],\n",
       " [1, '354-01.ann'],\n",
       " [1, '355-01.ann'],\n",
       " [1, '355-02.ann'],\n",
       " [1, '355-03.ann'],\n",
       " [1, '355-04.ann'],\n",
       " [1, '356-01.ann'],\n",
       " [1, '356-02.ann'],\n",
       " [1, '357-01.ann'],\n",
       " [1, '357-02.ann'],\n",
       " [1, '357-04.ann'],\n",
       " [1, '358-04.ann'],\n",
       " [1, '360-01.ann'],\n",
       " [1, '360-04.ann'],\n",
       " [1, '361-02.ann'],\n",
       " [1, '362-01.ann'],\n",
       " [1, '362-02.ann'],\n",
       " [1, '362-03.ann'],\n",
       " [1, '363-01.ann'],\n",
       " [1, '363-02.ann'],\n",
       " [1, '363-03.ann'],\n",
       " [1, '363-04.ann'],\n",
       " [1, '364-02.ann'],\n",
       " [1, '365-01.ann'],\n",
       " [1, '365-02.ann'],\n",
       " [1, '365-05.ann'],\n",
       " [1, '366-01.ann'],\n",
       " [1, '367-02.ann'],\n",
       " [1, '368-01.ann'],\n",
       " [1, '368-03.ann'],\n",
       " [1, '369-01.ann'],\n",
       " [1, '369-03.ann'],\n",
       " [1, '391-03.ann'],\n",
       " [1, '391-04.ann'],\n",
       " [1, '393-01.ann'],\n",
       " [1, '393-04.ann'],\n",
       " [1, '394-01.ann'],\n",
       " [1, '394-04.ann'],\n",
       " [1, '395-01.ann'],\n",
       " [1, '395-02.ann'],\n",
       " [1, '396-01.ann'],\n",
       " [1, '397-02.ann'],\n",
       " [1, '397-03.ann'],\n",
       " [1, '397-04.ann'],\n",
       " [1, '398-01.ann'],\n",
       " [1, '398-03.ann'],\n",
       " [1, '398-04.ann'],\n",
       " [1, '399-01.ann'],\n",
       " [1, '400-02.txt'],\n",
       " [1, '400-02.ann']]"
      ]
     },
     "execution_count": 24,
     "metadata": {},
     "output_type": "execute_result"
    }
   ],
   "source": [
    "sorPATIENT"
   ]
  },
  {
   "cell_type": "code",
   "execution_count": 80,
   "metadata": {},
   "outputs": [],
   "source": [
    "Flag=True\n",
    "for fname in sorPATIENT[0][1:]:\n",
    "    with open(\"%s%s\"%(DirectoryPath,fname), 'r') as f:\n",
    "        for line in f:\n",
    "            words = line.split()\n",
    "            for i in words:\n",
    "                if (i==\"PATIENT\"):\n",
    "                    if Flag:\n",
    "                        OriFirName=words[4]\n",
    "                        OriLasName=words[5]\n",
    "                        Flag=False\n"
   ]
  },
  {
   "cell_type": "code",
   "execution_count": 93,
   "metadata": {},
   "outputs": [],
   "source": [
    "with open(\"%s%stxt\"%(DirectoryPath,sorPATIENT[0][1][:-3]), 'r') as file :\n",
    "    filedata = file.read()\n",
    "i=1\n",
    "with open(\"/home/salman/NeuroNER-master/data/Speedi/TEST_last_names_unambig.txt\") as f:\n",
    "#with open(\"/home/salman/NeuroNER-master/data/Speedi/last_names_unambig.txt\") as f:\n",
    "    for line in f:\n",
    "        #filedataTem = filedata.replace(\"%s\"%OriFirName, \"%s\"%line[:-1].capitalize())\n",
    "        filedataTem = filedata.replace(\"%s\"%OriFirName, \"%s\"%line[:-1].capitalize())\n",
    "        #filedataTem = filedataTem.replace(\"%s\"%OriLasName, \"%s\"%line[:-1].capitalize())\n",
    "        filedataTem = filedataTem.replace(\"%s\"%OriLasName, \"%s\"%line[:-1].capitalize())\n",
    "        with open(\"/home/salman/NeuroNER-master/data/Speedi/test/ranked%s.txt\"%(i+100000),\"w\") as wf:\n",
    "            wf.write(filedataTem)\n",
    "        i=i+1"
   ]
  },
  {
   "cell_type": "code",
   "execution_count": 88,
   "metadata": {},
   "outputs": [
    {
     "data": {
      "text/plain": [
       "'358-03.ann'"
      ]
     },
     "execution_count": 88,
     "metadata": {},
     "output_type": "execute_result"
    }
   ],
   "source": [
    "sorPATIENT[0][1]#[:-3]"
   ]
  },
  {
   "cell_type": "code",
   "execution_count": 90,
   "metadata": {},
   "outputs": [
    {
     "name": "stdout",
     "output_type": "stream",
     "text": [
      "358-03.ann and 358-03.txt\n"
     ]
    }
   ],
   "source": [
    "print(\"%s and %stxt\"%(sorPATIENT[0][1],sorPATIENT[0][1][:-3]))"
   ]
  },
  {
   "cell_type": "code",
   "execution_count": 27,
   "metadata": {},
   "outputs": [],
   "source": [
    "PathToSpacy = \"/home/salman/NeuroNER-master/data/i2b2_2014_deid/\"\n",
    "with open(\"%strain_spacy.txt\"%(PathToSpacy), 'r') as file :\n",
    "    filedata = file.read().split('\\n\\n')"
   ]
  },
  {
   "cell_type": "code",
   "execution_count": 28,
   "metadata": {},
   "outputs": [
    {
     "data": {
      "text/plain": [
       "37115"
      ]
     },
     "execution_count": 28,
     "metadata": {},
     "output_type": "execute_result"
    }
   ],
   "source": [
    "len(filedata)"
   ]
  },
  {
   "cell_type": "code",
   "execution_count": 527,
   "metadata": {},
   "outputs": [
    {
     "ename": "IndexError",
     "evalue": "list index out of range",
     "output_type": "error",
     "traceback": [
      "\u001b[0;31m---------------------------------------------------------------------------\u001b[0m",
      "\u001b[0;31mIndexError\u001b[0m                                Traceback (most recent call last)",
      "\u001b[0;32m<ipython-input-527-204da92ee061>\u001b[0m in \u001b[0;36m<module>\u001b[0;34m()\u001b[0m\n\u001b[1;32m      4\u001b[0m     \u001b[0;32mtry\u001b[0m\u001b[0;34m:\u001b[0m\u001b[0;34m\u001b[0m\u001b[0;34m\u001b[0m\u001b[0m\n\u001b[0;32m----> 5\u001b[0;31m         \u001b[0;32mif\u001b[0m \u001b[0mfiledata\u001b[0m\u001b[0;34m[\u001b[0m\u001b[0mi\u001b[0m\u001b[0;34m]\u001b[0m\u001b[0;34m.\u001b[0m\u001b[0msplit\u001b[0m\u001b[0;34m(\u001b[0m\u001b[0;34m'\\n'\u001b[0m\u001b[0;34m)\u001b[0m\u001b[0;34m[\u001b[0m\u001b[0;34m-\u001b[0m\u001b[0;36m1\u001b[0m\u001b[0;34m]\u001b[0m\u001b[0;34m[\u001b[0m\u001b[0;34m-\u001b[0m\u001b[0;36m7\u001b[0m\u001b[0;34m:\u001b[0m\u001b[0;34m]\u001b[0m\u001b[0;34m==\u001b[0m\u001b[0;34m\"PATIENT\"\u001b[0m \u001b[0;32mand\u001b[0m \u001b[0mfiledata\u001b[0m\u001b[0;34m[\u001b[0m\u001b[0mi\u001b[0m\u001b[0;34m+\u001b[0m\u001b[0;36m1\u001b[0m\u001b[0;34m]\u001b[0m\u001b[0;34m.\u001b[0m\u001b[0msplit\u001b[0m\u001b[0;34m(\u001b[0m\u001b[0;34m'\\n'\u001b[0m\u001b[0;34m)\u001b[0m\u001b[0;34m[\u001b[0m\u001b[0;36m0\u001b[0m\u001b[0;34m]\u001b[0m\u001b[0;34m[\u001b[0m\u001b[0;34m-\u001b[0m\u001b[0;36m7\u001b[0m\u001b[0;34m:\u001b[0m\u001b[0;34m]\u001b[0m\u001b[0;34m==\u001b[0m\u001b[0;34m\"PATIENT\"\u001b[0m\u001b[0;34m:\u001b[0m\u001b[0;34m\u001b[0m\u001b[0;34m\u001b[0m\u001b[0m\n\u001b[0m\u001b[1;32m      6\u001b[0m             \u001b[0mNewfiledata\u001b[0m\u001b[0;34m.\u001b[0m\u001b[0mappend\u001b[0m\u001b[0;34m(\u001b[0m\u001b[0mfiledata\u001b[0m\u001b[0;34m[\u001b[0m\u001b[0mi\u001b[0m\u001b[0;34m]\u001b[0m\u001b[0;34m+\u001b[0m\u001b[0;34m'\\n'\u001b[0m\u001b[0;34m+\u001b[0m\u001b[0mfiledata\u001b[0m\u001b[0;34m[\u001b[0m\u001b[0mi\u001b[0m\u001b[0;34m+\u001b[0m\u001b[0;36m1\u001b[0m\u001b[0;34m]\u001b[0m\u001b[0;34m)\u001b[0m\u001b[0;34m\u001b[0m\u001b[0;34m\u001b[0m\u001b[0m\n",
      "\u001b[0;31mIndexError\u001b[0m: list index out of range",
      "\nDuring handling of the above exception, another exception occurred:\n",
      "\u001b[0;31mIndexError\u001b[0m                                Traceback (most recent call last)",
      "\u001b[0;32m<ipython-input-527-204da92ee061>\u001b[0m in \u001b[0;36m<module>\u001b[0;34m()\u001b[0m\n\u001b[1;32m     10\u001b[0m             \u001b[0mi\u001b[0m\u001b[0;34m=\u001b[0m\u001b[0mi\u001b[0m\u001b[0;34m+\u001b[0m\u001b[0;36m1\u001b[0m\u001b[0;34m\u001b[0m\u001b[0;34m\u001b[0m\u001b[0m\n\u001b[1;32m     11\u001b[0m     \u001b[0;32mexcept\u001b[0m \u001b[0mIndexError\u001b[0m\u001b[0;34m:\u001b[0m\u001b[0;34m\u001b[0m\u001b[0;34m\u001b[0m\u001b[0m\n\u001b[0;32m---> 12\u001b[0;31m         \u001b[0mNewfiledata\u001b[0m\u001b[0;34m.\u001b[0m\u001b[0mappend\u001b[0m\u001b[0;34m(\u001b[0m\u001b[0mfiledata\u001b[0m\u001b[0;34m[\u001b[0m\u001b[0mi\u001b[0m\u001b[0;34m]\u001b[0m\u001b[0;34m)\u001b[0m\u001b[0;34m\u001b[0m\u001b[0;34m\u001b[0m\u001b[0m\n\u001b[0m\u001b[1;32m     13\u001b[0m         \u001b[0mi\u001b[0m\u001b[0;34m=\u001b[0m\u001b[0mi\u001b[0m\u001b[0;34m+\u001b[0m\u001b[0;36m1\u001b[0m\u001b[0;34m\u001b[0m\u001b[0;34m\u001b[0m\u001b[0m\n",
      "\u001b[0;31mIndexError\u001b[0m: list index out of range"
     ]
    }
   ],
   "source": [
    "Newfiledata=[]\n",
    "i=0\n",
    "while i <= (len(filedata)):\n",
    "    try:\n",
    "        if filedata[i].split('\\n')[-1][-7:]==\"PATIENT\" and filedata[i+1].split('\\n')[0][-7:]==\"PATIENT\":\n",
    "            Newfiledata.append(filedata[i]+'\\n'+filedata[i+1])\n",
    "            i=i+2\n",
    "        else:\n",
    "            Newfiledata.append(filedata[i])\n",
    "            i=i+1\n",
    "    except IndexError:\n",
    "        Newfiledata.append(filedata[i])\n",
    "        i=i+1"
   ]
  },
  {
   "cell_type": "code",
   "execution_count": 540,
   "metadata": {},
   "outputs": [],
   "source": [
    "filedata=Newfiledata"
   ]
  },
  {
   "cell_type": "code",
   "execution_count": 529,
   "metadata": {},
   "outputs": [
    {
     "data": {
      "text/plain": [
       "37105"
      ]
     },
     "execution_count": 529,
     "metadata": {},
     "output_type": "execute_result"
    }
   ],
   "source": [
    "len(Newfiledata)"
   ]
  },
  {
   "cell_type": "code",
   "execution_count": 516,
   "metadata": {},
   "outputs": [
    {
     "data": {
      "text/plain": [
       "['Chemistry 248-04 7460 7469 O',\n",
       " 'Chemistry 248-04 7470 7479 O',\n",
       " 'Detail 248-04 7480 7486 O',\n",
       " 'for 248-04 7487 7490 O',\n",
       " 'NIELSON 248-04 7491 7498 B-PATIENT',\n",
       " ', 248-04 7498 7499 I-PATIENT',\n",
       " 'DANNY 248-04 7500 7505 B-PATIENT',\n",
       " 'W 248-04 7506 7507 I-PATIENT',\n",
       " 'MAH 248-04 7512 7515 B-HOSPITAL',\n",
       " 'YC 248-04 7517 7519 O',\n",
       " 'LAB 248-04 7520 7523 O']"
      ]
     },
     "execution_count": 516,
     "metadata": {},
     "output_type": "execute_result"
    }
   ],
   "source": [
    "(filedata[5544]+'\\n'+filedata[5545]).split('\\n')"
   ]
  },
  {
   "cell_type": "code",
   "execution_count": 29,
   "metadata": {},
   "outputs": [],
   "source": [
    "Num5List=[]\n",
    "for i,Par in enumerate(filedata):\n",
    "    PAT=1\n",
    "    SPar=Par.split('\\n')\n",
    "    for j,__ in enumerate(SPar):\n",
    "        if SPar[j][-7:]==\"PATIENT\":\n",
    "            if SPar[j-1][-7:]==\"PATIENT\" and j!=0:\n",
    "                PAT=PAT+1\n",
    "            if(PAT==5):\n",
    "                if [i,j+2,SPar[j].split(' ')[1]] not in Num5List:\n",
    "                    Num5List.append([i,j,SPar[j].split(' ')[1]])\n",
    "        else:\n",
    "            PAT=1"
   ]
  },
  {
   "cell_type": "code",
   "execution_count": 30,
   "metadata": {},
   "outputs": [],
   "source": [
    "Num4List=[]\n",
    "for i,Par in enumerate(filedata):\n",
    "    PAT=1\n",
    "    SPar=Par.split('\\n')\n",
    "    for j,__ in enumerate(SPar):\n",
    "        if SPar[j][-7:]==\"PATIENT\":\n",
    "            if SPar[j-1][-7:]==\"PATIENT\" and j!=0:\n",
    "                PAT=PAT+1\n",
    "            if(PAT==4):\n",
    "                if [i,j+2,SPar[j].split(' ')[1]] not in Num5List:\n",
    "                    Num4List.append([i,j,SPar[j].split(' ')[1]])\n",
    "        else:\n",
    "            PAT=1"
   ]
  },
  {
   "cell_type": "code",
   "execution_count": 31,
   "metadata": {
    "scrolled": true
   },
   "outputs": [],
   "source": [
    "Num3List=[]\n",
    "for i,Par in enumerate(filedata):\n",
    "    PAT=1\n",
    "    SPar=Par.split('\\n')\n",
    "    for j,__ in enumerate(SPar):\n",
    "        if SPar[j][-7:]==\"PATIENT\":\n",
    "            if SPar[j-1][-7:]==\"PATIENT\" and j!=0:\n",
    "                PAT=PAT+1\n",
    "            if(PAT==3):\n",
    "                if [i,j+2,SPar[j].split(' ')[1]] not in Num5List:\n",
    "                    if [i,j+1,SPar[j].split(' ')[1]] not in Num4List:\n",
    "                        Num3List.append([i,j,SPar[j].split(' ')[1]])\n",
    "        else:\n",
    "            PAT=1"
   ]
  },
  {
   "cell_type": "code",
   "execution_count": 32,
   "metadata": {},
   "outputs": [],
   "source": [
    "Num2List=[]\n",
    "for i,Par in enumerate(filedata):\n",
    "    #PAT=1\n",
    "    SPar=Par.split('\\n')\n",
    "    for j,__ in enumerate(SPar):\n",
    "        if SPar[j][-7:]==\"PATIENT\" and j!=0:\n",
    "            if SPar[j-1][-7:]==\"PATIENT\":\n",
    "                if ([i,j+3,SPar[j].split(' ')[1]] not in Num5List)  \\\n",
    "                and ([i,j+2,SPar[j].split(' ')[1]] not in Num5List) \\\n",
    "                and ([i,j+1,SPar[j].split(' ')[1]] not in Num5List) \\\n",
    "                and ([i,j,SPar[j].split(' ')[1]] not in Num5List):\n",
    "                    if ([i,j+2,SPar[j].split(' ')[1]] not in Num4List)  \\\n",
    "                    and ([i,j+1,SPar[j].split(' ')[1]] not in Num4List) \\\n",
    "                    and ([i,j,SPar[j].split(' ')[1]] not in Num4List):\n",
    "                        if ([i,j+1,SPar[j].split(' ')[1]] not in Num3List) \\\n",
    "                        and ([i,j,SPar[j].split(' ')[1]] not in Num3List):\n",
    "                            Num2List.append([i,j,SPar[j].split(' ')[1]])"
   ]
  },
  {
   "cell_type": "code",
   "execution_count": 33,
   "metadata": {},
   "outputs": [],
   "source": [
    "Num1List=[]\n",
    "for i,Par in enumerate(filedata):\n",
    "    SPar=Par.split('\\n')\n",
    "    for j,__ in enumerate(SPar):\n",
    "        if SPar[j][-7:]==\"PATIENT\":\n",
    "            try:\n",
    "                if j!=0:\n",
    "                    if SPar[j+1][-7:]!=\"PATIENT\" and SPar[j-1][-7:]!=\"PATIENT\":\n",
    "                        Num1List.append([i,j,SPar[j].split(' ')[1]])\n",
    "                else:\n",
    "                    if SPar[j+1][-7:]!=\"PATIENT\":\n",
    "                        Num1List.append([i,j,SPar[j].split(' ')[1]])\n",
    "            except IndexError:\n",
    "                if j!=0 and SPar[j-1][-7:]!=\"PATIENT\":\n",
    "                    Num1List.append([i,j,SPar[j].split(' ')[1]])"
   ]
  },
  {
   "cell_type": "code",
   "execution_count": 460,
   "metadata": {
    "scrolled": true
   },
   "outputs": [
    {
     "data": {
      "text/plain": [
       "[[350, 3, '221-01'],\n",
       " [702, 15, '222-01'],\n",
       " [777, 15, '222-03'],\n",
       " [5510, 8, '248-04'],\n",
       " [8028, 13, '257-04'],\n",
       " [8976, 3, '271-03'],\n",
       " [9688, 11, '274-01'],\n",
       " [9784, 5, '274-03'],\n",
       " [9815, 3, '274-03'],\n",
       " [9830, 7, '274-04'],\n",
       " [14938, 3, '291-03'],\n",
       " [15985, 6, '294-03'],\n",
       " [16395, 9, '295-04'],\n",
       " [16947, 12, '297-04'],\n",
       " [16967, 12, '297-04'],\n",
       " [17001, 15, '297-05'],\n",
       " [17272, 16, '299-01'],\n",
       " [17957, 14, '300-04'],\n",
       " [21567, 5, '322-04'],\n",
       " [22392, 15, '324-01'],\n",
       " [22423, 7, '324-02'],\n",
       " [22453, 15, '324-03'],\n",
       " [22908, 7, '325-03'],\n",
       " [23303, 16, '326-02'],\n",
       " [26086, 13, '333-03'],\n",
       " [27195, 3, '336-04'],\n",
       " [28207, 15, '339-04'],\n",
       " [28228, 9, '339-04'],\n",
       " [30205, 23, '356-03'],\n",
       " [30210, 7, '356-03'],\n",
       " [30213, 11, '356-03'],\n",
       " [30216, 17, '356-03'],\n",
       " [30221, 7, '356-03'],\n",
       " [30232, 8, '356-03'],\n",
       " [35299, 15, '395-01'],\n",
       " [35356, 12, '395-02'],\n",
       " [35607, 3, '395-05'],\n",
       " [36746, 6, '399-04']]"
      ]
     },
     "execution_count": 460,
     "metadata": {},
     "output_type": "execute_result"
    }
   ],
   "source": [
    "Num4List"
   ]
  },
  {
   "cell_type": "code",
   "execution_count": 461,
   "metadata": {},
   "outputs": [
    {
     "data": {
      "text/plain": [
       "[[899, 11, '223-01'],\n",
       " [912, 7, '223-01'],\n",
       " [1995, 31, '226-02'],\n",
       " [2000, 79, '226-02'],\n",
       " [2082, 10, '226-03'],\n",
       " [2319, 10, '227-01'],\n",
       " [2690, 31, '228-02'],\n",
       " [2708, 2, '228-02'],\n",
       " [2740, 34, '228-04'],\n",
       " [2759, 4, '228-04'],\n",
       " [2777, 18, '228-05'],\n",
       " [2819, 4, '228-05'],\n",
       " [2847, 2, '228-05'],\n",
       " [3301, 8, '241-01'],\n",
       " [3328, 22, '241-01'],\n",
       " [3372, 2, '241-02'],\n",
       " [3389, 14, '241-03'],\n",
       " [3494, 14, '242-02'],\n",
       " [3550, 10, '242-03'],\n",
       " [3583, 5, '242-04'],\n",
       " [3776, 2, '243-01'],\n",
       " [3832, 16, '243-03'],\n",
       " [3865, 10, '243-04'],\n",
       " [3905, 2, '244-01'],\n",
       " [4048, 9, '244-02'],\n",
       " [4452, 15, '246-01'],\n",
       " [4471, 8, '246-02'],\n",
       " [4536, 9, '246-03'],\n",
       " [4636, 2, '246-04'],\n",
       " [4818, 4, '247-01'],\n",
       " [4979, 12, '247-03'],\n",
       " [5110, 13, '247-04'],\n",
       " [5600, 5, '249-01'],\n",
       " [5844, 2, '250-01'],\n",
       " [5879, 2, '250-01'],\n",
       " [5920, 19, '250-03'],\n",
       " [5952, 18, '250-04'],\n",
       " [6128, 8, '251-03'],\n",
       " [6534, 14, '252-02'],\n",
       " [6582, 18, '252-03'],\n",
       " [6716, 10, '252-05'],\n",
       " [6802, 9, '253-02'],\n",
       " [6896, 11, '254-01'],\n",
       " [6963, 14, '254-02'],\n",
       " [7192, 2, '254-05'],\n",
       " [7475, 2, '256-01'],\n",
       " [7508, 28, '256-02'],\n",
       " [8268, 17, '258-03'],\n",
       " [8327, 17, '258-05'],\n",
       " [8465, 2, '259-04'],\n",
       " [8497, 16, '270-01'],\n",
       " [8557, 2, '270-02'],\n",
       " [8790, 10, '271-01'],\n",
       " [9103, 12, '272-02'],\n",
       " [9217, 2, '272-04'],\n",
       " [9393, 25, '273-01'],\n",
       " [9513, 23, '273-03'],\n",
       " [9546, 26, '273-04'],\n",
       " [9748, 4, '274-02'],\n",
       " [9913, 14, '275-02'],\n",
       " [10149, 10, '276-02'],\n",
       " [10239, 10, '276-04'],\n",
       " [10670, 9, '278-02'],\n",
       " [11058, 12, '279-01'],\n",
       " [11189, 4, '279-03'],\n",
       " [11519, 10, '280-02'],\n",
       " [11554, 10, '280-03'],\n",
       " [11587, 15, '280-04'],\n",
       " [11891, 19, '281-03'],\n",
       " [12189, 14, '283-01'],\n",
       " [12252, 10, '283-02'],\n",
       " [12275, 2, '283-03'],\n",
       " [12765, 4, '285-02'],\n",
       " [13030, 12, '286-01'],\n",
       " [13078, 8, '286-01'],\n",
       " [13085, 15, '286-02'],\n",
       " [13202, 4, '286-04'],\n",
       " [13529, 14, '288-01'],\n",
       " [13567, 18, '288-02'],\n",
       " [13613, 15, '288-02'],\n",
       " [13637, 18, '288-03'],\n",
       " [13672, 10, '288-03'],\n",
       " [13690, 6, '288-04'],\n",
       " [13713, 4, '288-04'],\n",
       " [13822, 23, '289-02'],\n",
       " [14180, 10, '290-01'],\n",
       " [14280, 19, '290-03'],\n",
       " [14999, 13, '291-04'],\n",
       " [15076, 2, '291-05'],\n",
       " [15396, 10, '292-04'],\n",
       " [15469, 2, '292-05'],\n",
       " [15529, 14, '293-01'],\n",
       " [15658, 5, '293-04'],\n",
       " [16300, 5, '295-02'],\n",
       " [16353, 2, '295-03'],\n",
       " [16449, 14, '295-05'],\n",
       " [16541, 17, '296-02'],\n",
       " [16599, 27, '296-04'],\n",
       " [16670, 4, '296-05'],\n",
       " [16675, 10, '296-05'],\n",
       " [16787, 4, '297-01'],\n",
       " [16820, 4, '297-01'],\n",
       " [16839, 4, '297-02'],\n",
       " [16866, 4, '297-02'],\n",
       " [16892, 20, '297-03'],\n",
       " [17698, 3, '300-03'],\n",
       " [17852, 5, '300-04'],\n",
       " [18008, 4, '300-05'],\n",
       " [18222, 2, '301-03'],\n",
       " [18460, 2, '301-05'],\n",
       " [18551, 17, '302-01'],\n",
       " [18610, 17, '302-02'],\n",
       " [18685, 17, '302-03'],\n",
       " [18710, 17, '302-04'],\n",
       " [18771, 29, '303-02'],\n",
       " [19006, 2, '303-04'],\n",
       " [19098, 4, '304-01'],\n",
       " [19705, 10, '305-01'],\n",
       " [19805, 15, '305-04'],\n",
       " [19874, 2, '306-01'],\n",
       " [20082, 4, '306-04'],\n",
       " [20316, 4, '307-05'],\n",
       " [20491, 2, '308-04'],\n",
       " [20560, 12, '309-01'],\n",
       " [20584, 12, '309-02'],\n",
       " [20623, 12, '309-03'],\n",
       " [20683, 2, '309-04'],\n",
       " [20720, 2, '309-05'],\n",
       " [21015, 10, '321-01'],\n",
       " [21090, 10, '321-03'],\n",
       " [21159, 5, '321-04'],\n",
       " [21939, 4, '322-05'],\n",
       " [22034, 15, '323-01'],\n",
       " [22179, 14, '323-03'],\n",
       " [22313, 13, '323-05'],\n",
       " [22805, 10, '325-02'],\n",
       " [23024, 2, '325-04'],\n",
       " [23242, 10, '326-01'],\n",
       " [23513, 5, '327-01'],\n",
       " [23759, 2, '328-01'],\n",
       " [23841, 2, '328-02'],\n",
       " [24111, 2, '328-04'],\n",
       " [24245, 4, '329-01'],\n",
       " [24349, 5, '329-02'],\n",
       " [24671, 10, '330-01'],\n",
       " [24802, 10, '330-03'],\n",
       " [24836, 10, '330-04'],\n",
       " [25357, 2, '332-05'],\n",
       " [25497, 5, '333-01'],\n",
       " [25659, 5, '333-02'],\n",
       " [26260, 15, '334-01'],\n",
       " [26349, 9, '334-03'],\n",
       " [26418, 2, '334-04'],\n",
       " [26476, 11, '334-04'],\n",
       " [26870, 12, '335-04'],\n",
       " [27018, 8, '336-02'],\n",
       " [27342, 10, '337-02'],\n",
       " [27520, 4, '337-04'],\n",
       " [27612, 5, '337-05'],\n",
       " [27689, 5, '338-01'],\n",
       " [27719, 2, '338-02'],\n",
       " [27753, 13, '338-03'],\n",
       " [27891, 13, '338-05'],\n",
       " [28179, 2, '339-04'],\n",
       " [28261, 12, '350-01'],\n",
       " [28334, 11, '350-01'],\n",
       " [28602, 4, '351-01'],\n",
       " [28650, 4, '351-02'],\n",
       " [28857, 14, '352-01'],\n",
       " [29546, 2, '354-03'],\n",
       " [29609, 10, '354-04'],\n",
       " [29660, 10, '355-01'],\n",
       " [29790, 10, '355-02'],\n",
       " [29952, 6, '355-04'],\n",
       " [30027, 4, '356-01'],\n",
       " [30069, 14, '356-02'],\n",
       " [30142, 2, '356-03'],\n",
       " [30413, 14, '357-01'],\n",
       " [30578, 2, '357-04'],\n",
       " [30734, 4, '358-01'],\n",
       " [31239, 18, '360-02'],\n",
       " [31274, 10, '360-02'],\n",
       " [31285, 22, '360-03'],\n",
       " [31317, 12, '360-04'],\n",
       " [31609, 12, '361-04'],\n",
       " [31817, 14, '362-01'],\n",
       " [31877, 14, '362-02'],\n",
       " [31978, 17, '362-04'],\n",
       " [32304, 2, '364-01'],\n",
       " [32349, 2, '364-01'],\n",
       " [32370, 2, '364-01'],\n",
       " [32427, 2, '364-02'],\n",
       " [32693, 14, '365-01'],\n",
       " [32729, 2, '365-02'],\n",
       " [32759, 10, '365-03'],\n",
       " [32871, 2, '365-05'],\n",
       " [32963, 14, '366-01'],\n",
       " [33041, 10, '366-03'],\n",
       " [33066, 7, '366-04'],\n",
       " [33435, 4, '368-01'],\n",
       " [33747, 13, '369-02'],\n",
       " [33818, 17, '369-04'],\n",
       " [33862, 9, '391-01'],\n",
       " [34010, 5, '391-04'],\n",
       " [34217, 3, '392-03'],\n",
       " [34279, 2, '392-04'],\n",
       " [34349, 5, '392-04'],\n",
       " [34397, 2, '393-01'],\n",
       " [35470, 2, '395-04'],\n",
       " [35608, 12, '395-05'],\n",
       " [35714, 3, '395-05'],\n",
       " [35912, 8, '396-04'],\n",
       " [36186, 2, '397-03'],\n",
       " [36216, 2, '397-04'],\n",
       " [36384, 4, '398-03'],\n",
       " [36478, 14, '398-04'],\n",
       " [36849, 5, '400-02']]"
      ]
     },
     "execution_count": 461,
     "metadata": {},
     "output_type": "execute_result"
    }
   ],
   "source": [
    "Num3List"
   ]
  },
  {
   "cell_type": "code",
   "execution_count": 462,
   "metadata": {},
   "outputs": [
    {
     "data": {
      "text/plain": [
       "[[820, 1, '222-04'],\n",
       " [820, 19, '222-04'],\n",
       " [833, 8, '222-04'],\n",
       " [854, 13, '222-05'],\n",
       " [855, 3, '222-05'],\n",
       " [878, 3, '222-05'],\n",
       " [886, 2, '222-05'],\n",
       " [899, 33, '223-01'],\n",
       " [1124, 16, '224-01'],\n",
       " [1584, 1, '225-02'],\n",
       " [1809, 3, '226-01'],\n",
       " [1919, 3, '226-02'],\n",
       " [2138, 3, '226-04'],\n",
       " [2475, 6, '227-03'],\n",
       " [2477, 6, '227-03'],\n",
       " [2668, 1, '228-01'],\n",
       " [2692, 14, '228-02'],\n",
       " [2909, 8, '229-02'],\n",
       " [2987, 8, '229-03'],\n",
       " [3287, 8, '241-01'],\n",
       " [3342, 27, '241-02'],\n",
       " [3415, 27, '241-04'],\n",
       " [3435, 9, '241-04'],\n",
       " [3550, 22, '242-03'],\n",
       " [3731, 10, '242-05'],\n",
       " [4867, 8, '247-01'],\n",
       " [4955, 9, '247-02'],\n",
       " [5142, 25, '248-01'],\n",
       " [5237, 2, '248-01'],\n",
       " [5260, 21, '248-02'],\n",
       " [5388, 3, '248-03'],\n",
       " [5421, 8, '248-04'],\n",
       " [5544, 5, '248-04'],\n",
       " [5545, 1, '248-04'],\n",
       " [5825, 10, '250-01'],\n",
       " [5827, 19, '250-01'],\n",
       " [5890, 7, '250-02'],\n",
       " [5892, 8, '250-02'],\n",
       " [5914, 1, '250-02'],\n",
       " [5924, 11, '250-03'],\n",
       " [6401, 3, '251-04'],\n",
       " [6482, 11, '252-01'],\n",
       " [6505, 4, '252-01'],\n",
       " [6642, 10, '252-04'],\n",
       " [6771, 3, '253-01'],\n",
       " [6994, 10, '254-03'],\n",
       " [7039, 7, '254-04'],\n",
       " [7615, 2, '256-03'],\n",
       " [7681, 2, '256-03'],\n",
       " [7703, 6, '256-04'],\n",
       " [7734, 15, '256-05'],\n",
       " [7770, 7, '257-01'],\n",
       " [8010, 7, '257-03'],\n",
       " [8285, 10, '258-04'],\n",
       " [8410, 4, '259-02'],\n",
       " [8636, 10, '270-03'],\n",
       " [9070, 9, '272-01'],\n",
       " [9171, 9, '272-03'],\n",
       " [9462, 25, '273-02'],\n",
       " [9629, 25, '273-05'],\n",
       " [9897, 15, '275-01'],\n",
       " [10111, 10, '276-01'],\n",
       " [10151, 20, '276-02'],\n",
       " [10175, 7, '276-03'],\n",
       " [10332, 10, '277-02'],\n",
       " [10902, 4, '278-04'],\n",
       " [11433, 10, '280-01'],\n",
       " [11546, 5, '280-02'],\n",
       " [11557, 4, '280-03'],\n",
       " [11576, 1, '280-03'],\n",
       " [11748, 13, '281-02'],\n",
       " [12032, 9, '282-01'],\n",
       " [12034, 7, '282-01'],\n",
       " [12045, 3, '282-01'],\n",
       " [12073, 1, '282-01'],\n",
       " [12086, 29, '282-02'],\n",
       " [12087, 7, '282-02'],\n",
       " [12104, 3, '282-02'],\n",
       " [12119, 6, '282-03'],\n",
       " [12122, 7, '282-03'],\n",
       " [12142, 4, '282-03'],\n",
       " [12144, 16, '282-03'],\n",
       " [12156, 1, '282-04'],\n",
       " [12159, 7, '282-04'],\n",
       " [12252, 19, '283-02'],\n",
       " [12355, 5, '283-04'],\n",
       " [12703, 1, '285-01'],\n",
       " [12705, 9, '285-01'],\n",
       " [12725, 9, '285-01'],\n",
       " [12754, 15, '285-01'],\n",
       " [12890, 10, '285-03'],\n",
       " [12974, 10, '285-05'],\n",
       " [13127, 3, '286-03'],\n",
       " [13178, 1, '286-03'],\n",
       " [13679, 8, '288-03'],\n",
       " [13691, 12, '288-04'],\n",
       " [13749, 18, '288-05'],\n",
       " [14224, 24, '290-02'],\n",
       " [14664, 1, '291-02'],\n",
       " [15238, 7, '292-01'],\n",
       " [15293, 10, '292-02'],\n",
       " [15339, 32, '292-03'],\n",
       " [15400, 7, '292-04'],\n",
       " [15585, 3, '293-02'],\n",
       " [15663, 9, '293-04'],\n",
       " [15818, 5, '294-01'],\n",
       " [16033, 5, '294-03'],\n",
       " [16134, 5, '294-04'],\n",
       " [16218, 4, '295-01'],\n",
       " [16356, 18, '295-03'],\n",
       " [16791, 2, '297-01'],\n",
       " [16841, 11, '297-02'],\n",
       " [17043, 9, '298-01'],\n",
       " [17086, 9, '298-02'],\n",
       " [17465, 3, '299-04'],\n",
       " [17466, 1, '299-04'],\n",
       " [18004, 34, '300-05'],\n",
       " [18102, 2, '301-01'],\n",
       " [18332, 3, '301-04'],\n",
       " [19479, 1, '304-05'],\n",
       " [19738, 8, '305-02'],\n",
       " [19955, 21, '306-02'],\n",
       " [19972, 6, '306-02'],\n",
       " [20125, 10, '307-01'],\n",
       " [20184, 10, '307-02'],\n",
       " [20223, 10, '307-03'],\n",
       " [20276, 10, '307-04'],\n",
       " [20439, 4, '308-03'],\n",
       " [20623, 22, '309-03'],\n",
       " [20783, 7, '320-01'],\n",
       " [21396, 7, '322-02'],\n",
       " [21446, 3, '322-03'],\n",
       " [21572, 3, '322-04'],\n",
       " [21650, 17, '322-04'],\n",
       " [22244, 10, '323-04'],\n",
       " [22499, 10, '324-04'],\n",
       " [22557, 1, '324-05'],\n",
       " [23320, 1, '326-03'],\n",
       " [23321, 1, '326-03'],\n",
       " [23762, 10, '328-01'],\n",
       " [23842, 23, '328-02'],\n",
       " [23985, 4, '328-03'],\n",
       " [24546, 1, '329-04'],\n",
       " [24547, 24, '329-04'],\n",
       " [24548, 15, '329-04'],\n",
       " [24668, 62, '329-04'],\n",
       " [24839, 3, '330-04'],\n",
       " [24970, 7, '331-03'],\n",
       " [25271, 38, '332-03'],\n",
       " [25357, 25, '332-05'],\n",
       " [25900, 53, '333-03'],\n",
       " [26140, 8, '333-04'],\n",
       " [26307, 33, '334-02'],\n",
       " [26309, 12, '334-02'],\n",
       " [26510, 14, '335-01'],\n",
       " [26608, 7, '335-02'],\n",
       " [26609, 3, '335-02'],\n",
       " [26711, 1, '335-03'],\n",
       " [26717, 13, '335-03'],\n",
       " [26967, 10, '336-01'],\n",
       " [27299, 6, '337-01'],\n",
       " [27348, 7, '337-02'],\n",
       " [27349, 1, '337-02'],\n",
       " [27409, 4, '337-02'],\n",
       " [27437, 3, '337-02'],\n",
       " [27464, 10, '337-03'],\n",
       " [27843, 10, '338-04'],\n",
       " [28072, 15, '339-03'],\n",
       " [28394, 7, '350-02'],\n",
       " [28396, 1, '350-02'],\n",
       " [28473, 10, '350-03'],\n",
       " [28531, 7, '350-04'],\n",
       " [28533, 1, '350-04'],\n",
       " [28753, 10, '351-03'],\n",
       " [28825, 10, '351-04'],\n",
       " [28931, 10, '352-02'],\n",
       " [29212, 17, '353-01'],\n",
       " [29367, 16, '353-04'],\n",
       " [29402, 10, '354-01'],\n",
       " [29853, 1, '355-03'],\n",
       " [30267, 1, '356-04'],\n",
       " [30268, 16, '356-04'],\n",
       " [30469, 7, '357-02'],\n",
       " [30732, 1, '357-05'],\n",
       " [30776, 14, '358-02'],\n",
       " [30851, 14, '358-03'],\n",
       " [31217, 1, '360-01'],\n",
       " [31241, 6, '360-02'],\n",
       " [31246, 2, '360-02'],\n",
       " [31248, 2, '360-02'],\n",
       " [31266, 2, '360-02'],\n",
       " [31491, 10, '361-02'],\n",
       " [31942, 1, '362-03'],\n",
       " [32035, 10, '363-01'],\n",
       " [32249, 10, '363-04'],\n",
       " [32575, 10, '364-03'],\n",
       " [32633, 12, '364-04'],\n",
       " [32761, 14, '365-03'],\n",
       " [33004, 7, '366-02'],\n",
       " [33212, 4, '367-02'],\n",
       " [33551, 3, '368-03'],\n",
       " [34245, 12, '392-03'],\n",
       " [34246, 1, '392-03'],\n",
       " [34551, 14, '393-04'],\n",
       " [34736, 1, '393-05'],\n",
       " [34752, 1, '393-05'],\n",
       " [35007, 29, '394-03'],\n",
       " [35145, 3, '394-04'],\n",
       " [35399, 1, '395-03'],\n",
       " [35443, 1, '395-03'],\n",
       " [35603, 4, '395-04'],\n",
       " [35717, 10, '396-01'],\n",
       " [36024, 1, '396-04'],\n",
       " [36121, 12, '397-02'],\n",
       " [36525, 4, '399-01'],\n",
       " [37020, 13, '400-05']]"
      ]
     },
     "execution_count": 462,
     "metadata": {},
     "output_type": "execute_result"
    }
   ],
   "source": [
    "Num2List"
   ]
  },
  {
   "cell_type": "code",
   "execution_count": 472,
   "metadata": {},
   "outputs": [
    {
     "data": {
      "text/plain": [
       "[[518, 25, '221-02'],\n",
       " [569, 0, '221-03'],\n",
       " [601, 0, '221-03'],\n",
       " [603, 10, '221-03'],\n",
       " [900, 5, '223-01'],\n",
       " [1212, 1, '224-02'],\n",
       " [1298, 1, '224-03'],\n",
       " [1388, 1, '224-04'],\n",
       " [1585, 1, '225-02'],\n",
       " [1862, 19, '226-01'],\n",
       " [1977, 16, '226-02'],\n",
       " [2085, 5, '226-03'],\n",
       " [2140, 0, '226-04'],\n",
       " [2184, 16, '226-04'],\n",
       " [2670, 13, '228-01'],\n",
       " [2741, 12, '228-04'],\n",
       " [2742, 5, '228-04'],\n",
       " [2760, 6, '228-04'],\n",
       " [2779, 8, '228-05'],\n",
       " [2865, 2, '229-01'],\n",
       " [2897, 26, '229-01'],\n",
       " [3048, 18, '240-01'],\n",
       " [3132, 1, '240-03'],\n",
       " [3196, 1, '240-03'],\n",
       " [3217, 1, '240-04'],\n",
       " [3289, 1, '241-01'],\n",
       " [3292, 0, '241-01'],\n",
       " [3323, 3, '241-01'],\n",
       " [3344, 1, '241-02'],\n",
       " [3372, 20, '241-02'],\n",
       " [3416, 1, '241-04'],\n",
       " [3437, 3, '241-04'],\n",
       " [3439, 8, '241-04'],\n",
       " [3551, 2, '242-03'],\n",
       " [3869, 8, '243-04'],\n",
       " [4868, 3, '247-01'],\n",
       " [4958, 7, '247-02'],\n",
       " [4973, 9, '247-02'],\n",
       " [4982, 1, '247-03'],\n",
       " [5001, 8, '247-03'],\n",
       " [5112, 16, '247-04'],\n",
       " [5121, 2, '247-04'],\n",
       " [5142, 39, '248-01'],\n",
       " [5144, 1, '248-01'],\n",
       " [5255, 6, '248-01'],\n",
       " [5261, 1, '248-02'],\n",
       " [5262, 3, '248-02'],\n",
       " [5275, 1, '248-02'],\n",
       " [5372, 1, '248-02'],\n",
       " [5389, 1, '248-03'],\n",
       " [5399, 1, '248-03'],\n",
       " [5451, 16, '248-04'],\n",
       " [5626, 7, '249-01'],\n",
       " [5628, 3, '249-01'],\n",
       " [5758, 1, '249-04'],\n",
       " [5798, 2, '249-04'],\n",
       " [5829, 1, '250-01'],\n",
       " [5836, 1, '250-01'],\n",
       " [5843, 1, '250-01'],\n",
       " [5853, 5, '250-01'],\n",
       " [5869, 3, '250-01'],\n",
       " [5881, 8, '250-01'],\n",
       " [5911, 3, '250-02'],\n",
       " [5943, 4, '250-03'],\n",
       " [5953, 1, '250-04'],\n",
       " [6133, 5, '251-03'],\n",
       " [6423, 1, '251-04'],\n",
       " [6483, 1, '252-01'],\n",
       " [6487, 8, '252-01'],\n",
       " [6515, 1, '252-01'],\n",
       " [6586, 1, '252-03'],\n",
       " [6623, 1, '252-03'],\n",
       " [6719, 1, '252-05'],\n",
       " [6754, 1, '252-05'],\n",
       " [6804, 4, '253-02'],\n",
       " [6966, 1, '254-02'],\n",
       " [7510, 6, '256-02'],\n",
       " [7514, 5, '256-02'],\n",
       " [7704, 2, '256-04'],\n",
       " [7726, 5, '256-04'],\n",
       " [7734, 32, '256-05'],\n",
       " [7735, 0, '256-05'],\n",
       " [7743, 0, '256-05'],\n",
       " [7759, 0, '256-05'],\n",
       " [7761, 5, '256-05'],\n",
       " [7872, 1, '257-02'],\n",
       " [8011, 10, '257-03'],\n",
       " [8029, 1, '257-04'],\n",
       " [8067, 1, '257-04'],\n",
       " [8285, 27, '258-04'],\n",
       " [8444, 0, '259-03'],\n",
       " [8680, 36, '270-04'],\n",
       " [8681, 1, '270-04'],\n",
       " [8681, 9, '270-04'],\n",
       " [8682, 1, '270-04'],\n",
       " [8685, 1, '270-04'],\n",
       " [8686, 8, '270-04'],\n",
       " [9104, 7, '272-02'],\n",
       " [9425, 0, '273-01'],\n",
       " [9463, 0, '273-02'],\n",
       " [9490, 0, '273-02'],\n",
       " [9582, 0, '273-04'],\n",
       " [9583, 0, '273-04'],\n",
       " [9630, 0, '273-05'],\n",
       " [9656, 3, '273-05'],\n",
       " [9785, 1, '274-03'],\n",
       " [10018, 1, '275-04'],\n",
       " [10075, 12, '275-04'],\n",
       " [10242, 6, '276-04'],\n",
       " [10244, 14, '276-04'],\n",
       " [10276, 3, '276-04'],\n",
       " [10291, 1, '277-01'],\n",
       " [10296, 1, '277-01'],\n",
       " [10322, 1, '277-01'],\n",
       " [10359, 8, '277-03'],\n",
       " [10446, 5, '277-04'],\n",
       " [10529, 5, '277-05'],\n",
       " [10797, 1, '278-03'],\n",
       " [10801, 14, '278-03'],\n",
       " [10814, 1, '278-03'],\n",
       " [11063, 1, '279-01'],\n",
       " [11590, 1, '280-04'],\n",
       " [11656, 1, '280-04'],\n",
       " [11685, 0, '281-01'],\n",
       " [11778, 31, '281-02'],\n",
       " [12035, 1, '282-01'],\n",
       " [12041, 6, '282-01'],\n",
       " [12064, 3, '282-01'],\n",
       " [12065, 7, '282-01'],\n",
       " [12067, 1, '282-01'],\n",
       " [12089, 25, '282-02'],\n",
       " [12107, 4, '282-02'],\n",
       " [12177, 1, '282-04'],\n",
       " [12270, 3, '283-02'],\n",
       " [12446, 6, '284-01'],\n",
       " [12447, 10, '284-01'],\n",
       " [12448, 0, '284-01'],\n",
       " [12486, 58, '284-02'],\n",
       " [12768, 1, '285-02'],\n",
       " [12891, 1, '285-03'],\n",
       " [12941, 1, '285-04'],\n",
       " [12947, 1, '285-04'],\n",
       " [12948, 5, '285-04'],\n",
       " [12949, 0, '285-04'],\n",
       " [12960, 9, '285-04'],\n",
       " [12963, 1, '285-04'],\n",
       " [12968, 5, '285-04'],\n",
       " [12971, 1, '285-04'],\n",
       " [13147, 5, '286-03'],\n",
       " [13337, 6, '287-02'],\n",
       " [13436, 3, '287-02'],\n",
       " [13451, 6, '287-03'],\n",
       " [13514, 3, '287-03'],\n",
       " [13523, 6, '287-03'],\n",
       " [13569, 1, '288-02'],\n",
       " [13612, 6, '288-02'],\n",
       " [13639, 9, '288-03'],\n",
       " [13668, 6, '288-03'],\n",
       " [13764, 4, '289-01'],\n",
       " [13803, 2, '289-01'],\n",
       " [13823, 10, '289-02'],\n",
       " [14185, 1, '290-01'],\n",
       " [14215, 1, '290-01'],\n",
       " [14225, 1, '290-02'],\n",
       " [14229, 14, '290-02'],\n",
       " [14293, 3, '290-03'],\n",
       " [15001, 3, '291-04'],\n",
       " [15287, 7, '292-01'],\n",
       " [15390, 7, '292-03'],\n",
       " [15430, 0, '292-04'],\n",
       " [15449, 0, '292-04'],\n",
       " [15460, 4, '292-04'],\n",
       " [15472, 6, '292-05'],\n",
       " [15473, 4, '292-05'],\n",
       " [15476, 8, '292-05'],\n",
       " [15481, 0, '292-05'],\n",
       " [15496, 3, '292-05'],\n",
       " [15514, 0, '292-05'],\n",
       " [15524, 14, '292-05'],\n",
       " [15666, 9, '293-04'],\n",
       " [15670, 3, '293-04'],\n",
       " [15685, 4, '293-04'],\n",
       " [15686, 12, '293-04'],\n",
       " [15692, 5, '293-04'],\n",
       " [15695, 1, '293-04'],\n",
       " [15749, 6, '294-01'],\n",
       " [15817, 2, '294-01'],\n",
       " [15898, 1, '294-02'],\n",
       " [16032, 2, '294-03'],\n",
       " [16133, 2, '294-04'],\n",
       " [16359, 1, '295-03'],\n",
       " [16385, 1, '295-03'],\n",
       " [16594, 4, '296-03'],\n",
       " [16595, 8, '296-03'],\n",
       " [16893, 3, '297-03'],\n",
       " [16948, 17, '297-04'],\n",
       " [16979, 7, '297-04'],\n",
       " [17468, 1, '299-04'],\n",
       " [17702, 1, '300-03'],\n",
       " [17703, 1, '300-03'],\n",
       " [17829, 1, '300-03'],\n",
       " [18104, 4, '301-01'],\n",
       " [18157, 4, '301-01'],\n",
       " [18160, 0, '301-01'],\n",
       " [18165, 0, '301-01'],\n",
       " [18337, 1, '301-04'],\n",
       " [18772, 11, '303-02'],\n",
       " [18775, 6, '303-02'],\n",
       " [18802, 6, '303-02'],\n",
       " [18808, 4, '303-02'],\n",
       " [18818, 0, '303-03'],\n",
       " [18818, 2, '303-03'],\n",
       " [19007, 35, '303-04'],\n",
       " [19314, 1, '304-03'],\n",
       " [19316, 1, '304-03'],\n",
       " [19398, 1, '304-03'],\n",
       " [19708, 1, '305-01'],\n",
       " [19739, 12, '305-02'],\n",
       " [19808, 0, '305-04'],\n",
       " [19878, 4, '306-01'],\n",
       " [20228, 4, '307-03'],\n",
       " [20360, 0, '308-01'],\n",
       " [20360, 3, '308-01'],\n",
       " [20367, 8, '308-01'],\n",
       " [20385, 6, '308-01'],\n",
       " [20421, 13, '308-02'],\n",
       " [20434, 1, '308-02'],\n",
       " [20516, 1, '308-04'],\n",
       " [20687, 0, '309-04'],\n",
       " [20724, 2, '309-05'],\n",
       " [20729, 7, '309-05'],\n",
       " [20921, 1, '320-03'],\n",
       " [20972, 1, '320-04'],\n",
       " [21006, 4, '320-04'],\n",
       " [21008, 1, '320-04'],\n",
       " [21447, 0, '322-03'],\n",
       " [21582, 4, '322-04'],\n",
       " [21943, 1, '322-05'],\n",
       " [22248, 1, '323-04'],\n",
       " [23222, 3, '325-05'],\n",
       " [23433, 8, '326-05'],\n",
       " [23582, 2, '327-02'],\n",
       " [23632, 2, '327-03'],\n",
       " [23707, 19, '327-04'],\n",
       " [23842, 48, '328-02'],\n",
       " [24116, 1, '328-04'],\n",
       " [24353, 8, '329-02'],\n",
       " [24353, 24, '329-02'],\n",
       " [24529, 6, '329-03'],\n",
       " [24547, 32, '329-04'],\n",
       " [24576, 1, '329-04'],\n",
       " [24647, 4, '329-04'],\n",
       " [24878, 1, '331-01'],\n",
       " [24929, 1, '331-02'],\n",
       " [25124, 1, '331-05'],\n",
       " [25133, 1, '331-05'],\n",
       " [25201, 0, '331-05'],\n",
       " [25361, 4, '332-05'],\n",
       " [25908, 1, '333-03'],\n",
       " [26078, 1, '333-03'],\n",
       " [26084, 2, '333-03'],\n",
       " [26143, 14, '333-04'],\n",
       " [26310, 1, '334-02'],\n",
       " [26352, 1, '334-03'],\n",
       " [26422, 3, '334-04'],\n",
       " [26512, 16, '335-01'],\n",
       " [26516, 1, '335-01'],\n",
       " [26589, 3, '335-01'],\n",
       " [26598, 22, '335-01'],\n",
       " [26771, 3, '335-03'],\n",
       " [26870, 21, '335-04'],\n",
       " [28401, 1, '350-02'],\n",
       " [28407, 1, '350-02'],\n",
       " [28460, 1, '350-02'],\n",
       " [28461, 1, '350-02'],\n",
       " [28539, 1, '350-04'],\n",
       " [28595, 1, '350-04'],\n",
       " [28989, 3, '352-03'],\n",
       " [29030, 1, '352-03'],\n",
       " [29050, 1, '352-03'],\n",
       " [29074, 14, '352-04'],\n",
       " [29098, 4, '352-04'],\n",
       " [29110, 4, '352-04'],\n",
       " [29368, 1, '353-04'],\n",
       " [29388, 3, '353-04'],\n",
       " [29393, 11, '353-04'],\n",
       " [29548, 1, '354-03'],\n",
       " [29555, 5, '354-03'],\n",
       " [29610, 10, '354-04'],\n",
       " [30270, 14, '356-04'],\n",
       " [30276, 8, '356-04'],\n",
       " [30278, 1, '356-04'],\n",
       " [30279, 1, '356-04'],\n",
       " [30280, 1, '356-04'],\n",
       " [30335, 1, '356-04'],\n",
       " [30338, 1, '356-04'],\n",
       " [30342, 1, '356-04'],\n",
       " [30350, 1, '356-04'],\n",
       " [30382, 1, '356-04'],\n",
       " [30383, 1, '356-04'],\n",
       " [30386, 2, '356-04'],\n",
       " [30388, 1, '356-04'],\n",
       " [30391, 3, '356-04'],\n",
       " [30392, 1, '356-04'],\n",
       " [30651, 12, '357-05'],\n",
       " [30738, 4, '358-01'],\n",
       " [30781, 0, '358-02'],\n",
       " [30794, 0, '358-02'],\n",
       " [30795, 11, '358-02'],\n",
       " [30803, 0, '358-02'],\n",
       " [30809, 11, '358-02'],\n",
       " [30829, 10, '358-02'],\n",
       " [30830, 178, '358-02'],\n",
       " [30831, 25, '358-02'],\n",
       " [30833, 18, '358-02'],\n",
       " [30864, 0, '358-03'],\n",
       " [30871, 0, '358-03'],\n",
       " [30874, 11, '358-03'],\n",
       " [30882, 11, '358-03'],\n",
       " [30915, 9, '358-03'],\n",
       " [30917, 1, '358-03'],\n",
       " [30921, 0, '358-03'],\n",
       " [30923, 1, '358-03'],\n",
       " [30924, 3, '358-03'],\n",
       " [30933, 0, '358-03'],\n",
       " [30938, 10, '358-03'],\n",
       " [30946, 7, '358-03'],\n",
       " [30946, 19, '358-03'],\n",
       " [30948, 8, '358-03'],\n",
       " [30952, 10, '358-03'],\n",
       " [30954, 0, '358-03'],\n",
       " [30957, 1, '358-03'],\n",
       " [30971, 10, '358-03'],\n",
       " [30975, 0, '358-03'],\n",
       " [30984, 0, '358-03'],\n",
       " [30986, 0, '358-03'],\n",
       " [30989, 0, '358-03'],\n",
       " [31001, 8, '358-03'],\n",
       " [31003, 2, '358-03'],\n",
       " [31007, 6, '358-04'],\n",
       " [31240, 7, '360-02'],\n",
       " [31251, 1, '360-02'],\n",
       " [31286, 1, '360-03'],\n",
       " [31301, 1, '360-03'],\n",
       " [31614, 1, '361-04'],\n",
       " [31615, 1, '361-04'],\n",
       " [31712, 1, '361-04'],\n",
       " [31981, 1, '362-04'],\n",
       " [32079, 11, '363-02'],\n",
       " [32174, 0, '363-03'],\n",
       " [32348, 6, '364-01'],\n",
       " [32369, 10, '364-01'],\n",
       " [32629, 9, '364-03'],\n",
       " [32634, 29, '364-04'],\n",
       " [32679, 86, '364-04'],\n",
       " [32765, 1, '365-03'],\n",
       " [32803, 1, '365-03'],\n",
       " [33027, 1, '366-02'],\n",
       " [33041, 19, '366-03'],\n",
       " [33058, 1, '366-03'],\n",
       " [33069, 0, '366-04'],\n",
       " [33702, 8, '369-01'],\n",
       " [33749, 4, '369-02'],\n",
       " [33782, 8, '369-03'],\n",
       " [33821, 1, '369-04'],\n",
       " [33853, 10, '369-04'],\n",
       " [33864, 0, '391-01'],\n",
       " [33865, 3, '391-01'],\n",
       " [33868, 1, '391-01'],\n",
       " [33873, 1, '391-01'],\n",
       " [33875, 0, '391-01'],\n",
       " [33892, 1, '391-01'],\n",
       " [33898, 1, '391-01'],\n",
       " [33902, 1, '391-01'],\n",
       " [33904, 18, '391-01'],\n",
       " [33905, 5, '391-01'],\n",
       " [33906, 4, '391-01'],\n",
       " [33911, 7, '391-02'],\n",
       " [33914, 1, '391-02'],\n",
       " [33920, 8, '391-02'],\n",
       " [33924, 3, '391-02'],\n",
       " [33929, 2, '391-02'],\n",
       " [33932, 1, '391-02'],\n",
       " [33936, 3, '391-02'],\n",
       " [33967, 3, '391-02'],\n",
       " [33983, 1, '391-02'],\n",
       " [33986, 12, '391-02'],\n",
       " [33990, 8, '391-02'],\n",
       " [33991, 26, '391-03'],\n",
       " [34305, 6, '392-04'],\n",
       " [34949, 8, '394-01'],\n",
       " [35106, 0, '394-03'],\n",
       " [35479, 1, '395-04'],\n",
       " [35610, 1, '395-05'],\n",
       " [35652, 1, '395-05'],\n",
       " [35668, 10, '395-05'],\n",
       " [35707, 6, '395-05'],\n",
       " [35712, 1, '395-05'],\n",
       " [35926, 3, '396-04'],\n",
       " [35927, 0, '396-04'],\n",
       " [36304, 1, '398-01'],\n",
       " [36329, 6, '398-02'],\n",
       " [36330, 1, '398-02'],\n",
       " [36624, 11, '399-02'],\n",
       " [36629, 1, '399-02'],\n",
       " [36749, 1, '399-04'],\n",
       " [36751, 0, '399-04'],\n",
       " [36765, 3, '399-04'],\n",
       " [36786, 7, '399-04'],\n",
       " [36793, 2, '399-04'],\n",
       " [36806, 0, '399-04'],\n",
       " [36807, 12, '399-04'],\n",
       " [36811, 3, '399-04'],\n",
       " [36823, 3, '399-04'],\n",
       " [36826, 4, '399-04'],\n",
       " [37020, 43, '400-05'],\n",
       " [37080, 4, '400-05']]"
      ]
     },
     "execution_count": 472,
     "metadata": {},
     "output_type": "execute_result"
    }
   ],
   "source": [
    "Num1List"
   ]
  },
  {
   "cell_type": "code",
   "execution_count": 34,
   "metadata": {},
   "outputs": [],
   "source": [
    "def GetInList(search,NumNList):\n",
    "    for sublist in NumNList:\n",
    "        if sublist[2] == search:\n",
    "            return(sublist)"
   ]
  },
  {
   "cell_type": "code",
   "execution_count": 35,
   "metadata": {},
   "outputs": [],
   "source": [
    "def GetName5(i):\n",
    "    temp=filedata[i[0]].split('\\n')[i[1]-4].split(' ')\n",
    "    if(int(temp[3])-int(temp[2]) > 1):\n",
    "        if filedata[i[0]].split('\\n')[i[1]-3].split(' ')[0]==\",\":\n",
    "            Surename=temp[0]\n",
    "        else:\n",
    "            print(\"The Second one is not , but is %s\"%(filedata[i[0]].split('\\n')[i[1]-3].split(' ')[0]))\n",
    "    else:\n",
    "        print(\"The first entry is a single character!\")\n",
    "    temp=filedata[i[0]].split('\\n')[i[1]-2].split(' ')\n",
    "    templ=filedata[i[0]].split('\\n')[i[1]].split(' ')\n",
    "    if((int(temp[3])-int(temp[2])) < (int(templ[3])-int(templ[2])) or temp[0]==\"Jr\"):\n",
    "        givenname=templ[0]\n",
    "    elif templ[0]==\"Jr\":\n",
    "        givenname=temp[0]\n",
    "    else:\n",
    "        print(\"The third and 5th ones are fishy\")\n",
    "    return(givenname,Surename)"
   ]
  },
  {
   "cell_type": "code",
   "execution_count": 36,
   "metadata": {},
   "outputs": [],
   "source": [
    "def GetName4(i):\n",
    "    temp=filedata[i[0]].split('\\n')[i[1]-3].split(' ')\n",
    "    if(int(temp[3])-int(temp[2]) > 1):\n",
    "        if filedata[i[0]].split('\\n')[i[1]-2].split(' ')[0]==\",\":\n",
    "            Surename=temp[0]\n",
    "        else:\n",
    "            print(\"The Second one is not , but is %s\"%(filedata[i[0]].split('\\n')[i[1]-2].split(' ')[0]))\n",
    "    else:\n",
    "        print(\"The first entry is a single character!\")\n",
    "    temp=filedata[i[0]].split('\\n')[i[1]-1].split(' ')\n",
    "    templ=filedata[i[0]].split('\\n')[i[1]].split(' ')\n",
    "    if((int(temp[3])-int(temp[2])) < (int(templ[3])-int(templ[2])) or temp[0]==\"Jr\"):\n",
    "        givenname=templ[0]\n",
    "    elif templ[0]==\"Jr\" or ( int(temp[3]) - int(temp[2]) != 1):\n",
    "        givenname=temp[0]\n",
    "    else:\n",
    "        print(\"The third and 4th ones are fishy for i = %s\"%i)\n",
    "    return(givenname,Surename)"
   ]
  },
  {
   "cell_type": "code",
   "execution_count": 37,
   "metadata": {},
   "outputs": [],
   "source": [
    "def GetName3(i):\n",
    "    temp=filedata[i[0]].split('\\n')[i[1]-2].split(' ')\n",
    "    tempm=filedata[i[0]].split('\\n')[i[1]-1].split(' ')\n",
    "    templ=filedata[i[0]].split('\\n')[i[1]].split(' ')\n",
    "    if(int(temp[3])-int(temp[2]) > 1):\n",
    "        if tempm[0]==\",\":\n",
    "            Surename=temp[0]\n",
    "            givenname=templ[0]\n",
    "        elif(int(tempm[3]) - int(tempm[2]) == 1 or tempm[0]==\"Jr\"):\n",
    "            Surename=templ[0]\n",
    "            givenname=temp[0]\n",
    "        else:\n",
    "            print(\"The Second one is not \\\",\\\" or Jr or single character, but is %s\"%(tempm[0]))\n",
    "    else:\n",
    "        print(\"The first entry is a single character!\")\n",
    "    return(givenname,Surename)"
   ]
  },
  {
   "cell_type": "code",
   "execution_count": 38,
   "metadata": {},
   "outputs": [],
   "source": [
    "def GetName2(i):\n",
    "    givenname=filedata[i[0]].split('\\n')[i[1]-1].split(' ')[0]\n",
    "    Surename=filedata[i[0]].split('\\n')[i[1]].split(' ')[0]\n",
    "    return(givenname,Surename)"
   ]
  },
  {
   "cell_type": "code",
   "execution_count": 39,
   "metadata": {},
   "outputs": [],
   "source": [
    "NameDic={}\n",
    "for i in Num5List:\n",
    "    try:\n",
    "        NameDic[i[2][:3]]\n",
    "    except KeyError:\n",
    "        tmpDic={i[2][:3]:[GetName5(i)]}\n",
    "        NameDic.update(tmpDic)\n",
    "for i in Num4List:\n",
    "    try:\n",
    "        NameDic[i[2][:3]]\n",
    "    except KeyError:\n",
    "        tmpDic={i[2][:3]:[GetName4(i)]}\n",
    "        NameDic.update(tmpDic)\n",
    "for i in Num3List:\n",
    "    try:\n",
    "        NameDic[i[2][:3]]\n",
    "    except KeyError:\n",
    "        tmpDic={i[2][:3]:[GetName3(i)]}\n",
    "        NameDic.update(tmpDic)\n",
    "for i in Num2List:\n",
    "    try:\n",
    "        NameDic[i[2][:3]]\n",
    "    except KeyError:\n",
    "        tmpDic={i[2][:3]:[GetName2(i)]}\n",
    "        NameDic.update(tmpDic)"
   ]
  },
  {
   "cell_type": "code",
   "execution_count": null,
   "metadata": {},
   "outputs": [],
   "source": [
    "NameDic={}\n",
    "for i in Num5List:\n",
    "    try:\n",
    "        NameDic[i[2][:3]]\n",
    "    except KeyError:\n",
    "        tmpDic={i[2][:3]:[GetName5(i)]}\n",
    "        NameDic.update(tmpDic)\n",
    "for i in Num4List:\n",
    "    try:\n",
    "        NameDic[i[2][:3]]\n",
    "    except KeyError:\n",
    "        tmpDic={i[2][:3]:[GetName4(i)]}\n",
    "        NameDic.update(tmpDic)\n",
    "for i in Num3List:\n",
    "    try:\n",
    "        NameDic[i[2][:3]]\n",
    "    except KeyError:\n",
    "        tmpDic={i[2][:3]:[GetName3(i)]}\n",
    "        NameDic.update(tmpDic)\n",
    "for i in Num2List:\n",
    "    try:\n",
    "        NameDic[i[2][:3]]\n",
    "    except KeyError:\n",
    "        tmpDic={i[2][:3]:[GetName2(i)]}\n",
    "        NameDic.update(tmpDic)"
   ]
  },
  {
   "cell_type": "code",
   "execution_count": 206,
   "metadata": {},
   "outputs": [
    {
     "name": "stdout",
     "output_type": "stream",
     "text": [
      "The first entry is a single character!\n"
     ]
    },
    {
     "ename": "UnboundLocalError",
     "evalue": "local variable 'givenname' referenced before assignment",
     "output_type": "error",
     "traceback": [
      "\u001b[0;31m---------------------------------------------------------------------------\u001b[0m",
      "\u001b[0;31mUnboundLocalError\u001b[0m                         Traceback (most recent call last)",
      "\u001b[0;32m<ipython-input-206-fb0c71c53f28>\u001b[0m in \u001b[0;36m<module>\u001b[0;34m()\u001b[0m\n\u001b[1;32m     10\u001b[0m     \u001b[0msurelist\u001b[0m\u001b[0;34m.\u001b[0m\u001b[0mappend\u001b[0m\u001b[0;34m(\u001b[0m\u001b[0mstemp\u001b[0m\u001b[0;34m)\u001b[0m\u001b[0;34m\u001b[0m\u001b[0;34m\u001b[0m\u001b[0m\n\u001b[1;32m     11\u001b[0m \u001b[0;32mfor\u001b[0m \u001b[0mi\u001b[0m \u001b[0;32min\u001b[0m \u001b[0mNum3List\u001b[0m\u001b[0;34m:\u001b[0m\u001b[0;34m\u001b[0m\u001b[0;34m\u001b[0m\u001b[0m\n\u001b[0;32m---> 12\u001b[0;31m     \u001b[0mgtemp\u001b[0m\u001b[0;34m,\u001b[0m\u001b[0mstemp\u001b[0m\u001b[0;34m=\u001b[0m\u001b[0mGetName3\u001b[0m\u001b[0;34m(\u001b[0m\u001b[0mi\u001b[0m\u001b[0;34m)\u001b[0m\u001b[0;34m\u001b[0m\u001b[0;34m\u001b[0m\u001b[0m\n\u001b[0m\u001b[1;32m     13\u001b[0m     \u001b[0mgivenlist\u001b[0m\u001b[0;34m.\u001b[0m\u001b[0mappend\u001b[0m\u001b[0;34m(\u001b[0m\u001b[0mgtemp\u001b[0m\u001b[0;34m)\u001b[0m\u001b[0;34m\u001b[0m\u001b[0;34m\u001b[0m\u001b[0m\n\u001b[1;32m     14\u001b[0m     \u001b[0msurelist\u001b[0m\u001b[0;34m.\u001b[0m\u001b[0mappend\u001b[0m\u001b[0;34m(\u001b[0m\u001b[0mstemp\u001b[0m\u001b[0;34m)\u001b[0m\u001b[0;34m\u001b[0m\u001b[0;34m\u001b[0m\u001b[0m\n",
      "\u001b[0;32m<ipython-input-37-b17572c915d7>\u001b[0m in \u001b[0;36mGetName3\u001b[0;34m(i)\u001b[0m\n\u001b[1;32m     14\u001b[0m     \u001b[0;32melse\u001b[0m\u001b[0;34m:\u001b[0m\u001b[0;34m\u001b[0m\u001b[0;34m\u001b[0m\u001b[0m\n\u001b[1;32m     15\u001b[0m         \u001b[0mprint\u001b[0m\u001b[0;34m(\u001b[0m\u001b[0;34m\"The first entry is a single character!\"\u001b[0m\u001b[0;34m)\u001b[0m\u001b[0;34m\u001b[0m\u001b[0;34m\u001b[0m\u001b[0m\n\u001b[0;32m---> 16\u001b[0;31m     \u001b[0;32mreturn\u001b[0m\u001b[0;34m(\u001b[0m\u001b[0mgivenname\u001b[0m\u001b[0;34m,\u001b[0m\u001b[0mSurename\u001b[0m\u001b[0;34m)\u001b[0m\u001b[0;34m\u001b[0m\u001b[0;34m\u001b[0m\u001b[0m\n\u001b[0m",
      "\u001b[0;31mUnboundLocalError\u001b[0m: local variable 'givenname' referenced before assignment"
     ]
    }
   ],
   "source": [
    "givenlist=[]\n",
    "surelist=[]\n",
    "for i in Num5List:\n",
    "    gtemp,stemp=GetName5(i)\n",
    "    givenlist.append(gtemp)\n",
    "    surelist.append(stemp)\n",
    "for i in Num4List:\n",
    "    gtemp,stemp=GetName4(i)\n",
    "    givenlist.append(gtemp)\n",
    "    surelist.append(stemp)\n",
    "for i in Num3List:\n",
    "    gtemp,stemp=GetName3(i)\n",
    "    givenlist.append(gtemp)\n",
    "    surelist.append(stemp)\n",
    "for i in Num2List:\n",
    "    gtemp,stemp=GetName2(i)\n",
    "    givenlist.append(gtemp)\n",
    "    surelist.append(stemp)"
   ]
  },
  {
   "cell_type": "code",
   "execution_count": 263,
   "metadata": {},
   "outputs": [
    {
     "name": "stdout",
     "output_type": "stream",
     "text": [
      "The Second one is not , but is :\n"
     ]
    },
    {
     "ename": "UnboundLocalError",
     "evalue": "local variable 'Surename' referenced before assignment",
     "output_type": "error",
     "traceback": [
      "\u001b[0;31m---------------------------------------------------------------------------\u001b[0m",
      "\u001b[0;31mUnboundLocalError\u001b[0m                         Traceback (most recent call last)",
      "\u001b[0;32m<ipython-input-263-e0b8879aaa7d>\u001b[0m in \u001b[0;36m<module>\u001b[0;34m()\u001b[0m\n\u001b[1;32m      2\u001b[0m \u001b[0msurelist\u001b[0m\u001b[0;34m=\u001b[0m\u001b[0;34m[\u001b[0m\u001b[0;34m]\u001b[0m\u001b[0;34m\u001b[0m\u001b[0;34m\u001b[0m\u001b[0m\n\u001b[1;32m      3\u001b[0m \u001b[0;32mfor\u001b[0m \u001b[0mi\u001b[0m \u001b[0;32min\u001b[0m \u001b[0mNewNum5List\u001b[0m\u001b[0;34m:\u001b[0m\u001b[0;34m\u001b[0m\u001b[0;34m\u001b[0m\u001b[0m\n\u001b[0;32m----> 4\u001b[0;31m     \u001b[0mgtemp\u001b[0m\u001b[0;34m,\u001b[0m\u001b[0mstemp\u001b[0m\u001b[0;34m=\u001b[0m\u001b[0mGetName5\u001b[0m\u001b[0;34m(\u001b[0m\u001b[0mi\u001b[0m\u001b[0;34m)\u001b[0m\u001b[0;34m\u001b[0m\u001b[0;34m\u001b[0m\u001b[0m\n\u001b[0m\u001b[1;32m      5\u001b[0m     \u001b[0mgivenlist\u001b[0m\u001b[0;34m.\u001b[0m\u001b[0mappend\u001b[0m\u001b[0;34m(\u001b[0m\u001b[0mgtemp\u001b[0m\u001b[0;34m)\u001b[0m\u001b[0;34m\u001b[0m\u001b[0;34m\u001b[0m\u001b[0m\n\u001b[1;32m      6\u001b[0m     \u001b[0msurelist\u001b[0m\u001b[0;34m.\u001b[0m\u001b[0mappend\u001b[0m\u001b[0;34m(\u001b[0m\u001b[0mstemp\u001b[0m\u001b[0;34m)\u001b[0m\u001b[0;34m\u001b[0m\u001b[0;34m\u001b[0m\u001b[0m\n",
      "\u001b[0;32m<ipython-input-35-50c14fe32dd9>\u001b[0m in \u001b[0;36mGetName5\u001b[0;34m(i)\u001b[0m\n\u001b[1;32m     16\u001b[0m     \u001b[0;32melse\u001b[0m\u001b[0;34m:\u001b[0m\u001b[0;34m\u001b[0m\u001b[0;34m\u001b[0m\u001b[0m\n\u001b[1;32m     17\u001b[0m         \u001b[0mprint\u001b[0m\u001b[0;34m(\u001b[0m\u001b[0;34m\"The third and 5th ones are fishy\"\u001b[0m\u001b[0;34m)\u001b[0m\u001b[0;34m\u001b[0m\u001b[0;34m\u001b[0m\u001b[0m\n\u001b[0;32m---> 18\u001b[0;31m     \u001b[0;32mreturn\u001b[0m\u001b[0;34m(\u001b[0m\u001b[0mgivenname\u001b[0m\u001b[0;34m,\u001b[0m\u001b[0mSurename\u001b[0m\u001b[0;34m)\u001b[0m\u001b[0;34m\u001b[0m\u001b[0;34m\u001b[0m\u001b[0m\n\u001b[0m",
      "\u001b[0;31mUnboundLocalError\u001b[0m: local variable 'Surename' referenced before assignment"
     ]
    }
   ],
   "source": [
    "givenlist=[]\n",
    "surelist=[]\n",
    "for i in NewNum5List:\n",
    "    gtemp,stemp=GetName5(i)\n",
    "    givenlist.append(gtemp)\n",
    "    surelist.append(stemp)\n",
    "for i in NewNum4List:\n",
    "    gtemp,stemp=GetName4(i)\n",
    "    givenlist.append(gtemp)\n",
    "    surelist.append(stemp)\n",
    "for i in NewNum3List:\n",
    "    gtemp,stemp=GetName3(i)\n",
    "    givenlist.append(gtemp)\n",
    "    surelist.append(stemp)\n",
    "for i in NewNum2List:\n",
    "    gtemp,stemp=GetName2(i)\n",
    "    givenlist.append(gtemp)\n",
    "    surelist.append(stemp)"
   ]
  },
  {
   "cell_type": "code",
   "execution_count": 265,
   "metadata": {},
   "outputs": [
    {
     "data": {
      "text/plain": [
       "([[9784, 2, '274-03'], [9815, 0, '274-03']],\n",
       " [[9784, 6, '274-03'], [9815, 4, '274-03']])"
      ]
     },
     "execution_count": 265,
     "metadata": {},
     "output_type": "execute_result"
    }
   ],
   "source": [
    "NewNum5List,Num5List"
   ]
  },
  {
   "cell_type": "code",
   "execution_count": 212,
   "metadata": {},
   "outputs": [
    {
     "data": {
      "text/plain": [
       "['Ickes 274-03 2043 2048 B-PATIENT',\n",
       " ', 274-03 2048 2049 I-PATIENT',\n",
       " 'Jr. 274-03 2050 2053 I-PATIENT',\n",
       " ', 274-03 2053 2054 I-PATIENT',\n",
       " 'William 274-03 2055 2062 I-PATIENT',\n",
       " '81071628 274-03 2065 2073 B-MEDICALRECORD',\n",
       " '02/02/79 274-03 2076 2084 B-DATE']"
      ]
     },
     "execution_count": 212,
     "metadata": {},
     "output_type": "execute_result"
    }
   ],
   "source": [
    "filedata[9815].split('\\n')"
   ]
  },
  {
   "cell_type": "code",
   "execution_count": 40,
   "metadata": {},
   "outputs": [
    {
     "data": {
      "text/plain": [
       "{'274': [('William', 'Ickes')],\n",
       " '221': [('Eugene', 'Younger')],\n",
       " '222': [('BRADY', 'DUVALL')],\n",
       " '248': [('DANNY', 'NIELSON')],\n",
       " '257': [('VERNA', 'CANTU')],\n",
       " '271': [('Andrew', 'Jorgenson')],\n",
       " '291': [('Frank', 'Keating')],\n",
       " '294': [('AARON', 'SHEPHERD')],\n",
       " '295': [('Nathan', 'Vieira')],\n",
       " '297': [('Kadeem', 'Vicente')],\n",
       " '299': [('XOCHILT', 'VUONG')],\n",
       " '300': [('CADE', 'WOOD')],\n",
       " '322': [('Frank', 'Vaughn')],\n",
       " '324': [('XAVIER', 'RUTLEDGE')],\n",
       " '325': [('LORI', 'IVORY')],\n",
       " '326': [('OLIVIA', 'IORIO')],\n",
       " '333': [('Veda', 'Edgar')],\n",
       " '336': [('Patricia', 'Ray')],\n",
       " '339': [('VANESSA', 'ASHER')],\n",
       " '356': [('NATHAN', 'ISHIDA')],\n",
       " '395': [('TANYA', 'DO')],\n",
       " '399': [('NATHAN', 'RICO')],\n",
       " '223': [('Imogene', 'Adler')],\n",
       " '226': [('Ellen', 'Law')],\n",
       " '227': [('WILLIAM', 'LE')],\n",
       " '228': [('Wonda', 'Benitez')],\n",
       " '241': [('Christine', 'Olivier')],\n",
       " '242': [('ROBERT', 'LOUIS')],\n",
       " '243': [('Mattison', 'Osborne')],\n",
       " '244': [('Xue', 'Francisco')],\n",
       " '246': [('AUSTIN', 'YEO')],\n",
       " '247': [('Michael', 'Isenberg')],\n",
       " '249': [('LARRY', 'LILLY')],\n",
       " '250': [('Urania', 'Yerger')],\n",
       " '251': [('Ulyses', 'Vollmer')],\n",
       " '252': [('KATHY', 'JOSHI')],\n",
       " '253': [('Andrew', 'Conner')],\n",
       " '254': [('FRANKIE', 'NOONAN')],\n",
       " '256': [('Michelle', 'Klein')],\n",
       " '258': [('XAVIER', 'SCHWARTZ')],\n",
       " '259': [('Michael', 'Yee')],\n",
       " '270': [('VINCENT', 'WHITAKER')],\n",
       " '272': [('Uriah', 'Oliver')],\n",
       " '273': [('Wendy', 'Xuan')],\n",
       " '275': [('Catherine', 'Kong')],\n",
       " '276': [('ALEC', 'GIPSON')],\n",
       " '278': [('Stephen', 'Jasso')],\n",
       " '279': [('Ora', 'Hendrickson')],\n",
       " '280': [('IRENE', 'ZASTROW')],\n",
       " '281': [('Haden', 'DOTY')],\n",
       " '283': [('DENNIS', 'HOLCOMB')],\n",
       " '285': [('MICHAEL', 'OGRADY')],\n",
       " '286': [('Perla', 'Esposito')],\n",
       " '288': [('TERRI', 'BIRD')],\n",
       " '289': [('Donny', 'Quijano')],\n",
       " '290': [('ULYSSES', 'EHLERS')],\n",
       " '292': [('NICK', 'HALL')],\n",
       " '293': [('CORA', 'QUINLEY')],\n",
       " '296': [('Nancy', 'Xayarath')],\n",
       " '301': [('Bobbie', 'Albert')],\n",
       " '302': [('Yajaira', 'Rhodes')],\n",
       " '303': [('Anastasha', 'LINDSAY')],\n",
       " '304': [('Jacob', 'Goins')],\n",
       " '305': [('NEIL', 'ROBISON')],\n",
       " '306': [('Peggy', 'Travis')],\n",
       " '307': [('AMELIA', 'KIMBROUGH')],\n",
       " '308': [('Percy', 'Carrillo')],\n",
       " '309': [('Gabriel', 'Wilson')],\n",
       " '321': [('CAITLIN', 'JOINER')],\n",
       " '323': [('Brooklyn', 'Xian')],\n",
       " '327': [('PABLO', 'HOOPER')],\n",
       " '328': [('Rebecca', 'Carlson')],\n",
       " '329': [('YASSEEN', 'JACKS')],\n",
       " '330': [('ANTHONY', 'VIGIL')],\n",
       " '332': [('Alaina', 'Rojas')],\n",
       " '334': [('Oliver', 'Jain')],\n",
       " '335': [('DALILA', 'HAYNES')],\n",
       " '337': [('BETTY', 'GILLIS')],\n",
       " '338': [('Matias', 'Holden')],\n",
       " '350': [('Ruth', 'Doss')],\n",
       " '351': [('OLIVIA', 'GLENN')],\n",
       " '352': [('MARY', 'RILEY')],\n",
       " '354': [('Brook', 'Fay')],\n",
       " '355': [('WADE', 'DALEY')],\n",
       " '357': [('RAMONA', 'MASSEY')],\n",
       " '358': [('NORA', 'GREENWOOD')],\n",
       " '360': [('Xian', 'Geiger')],\n",
       " '361': [('Corey', 'Jay')],\n",
       " '362': [('SUSIE', 'DIETZ')],\n",
       " '364': [('Walter', 'Uribe')],\n",
       " '365': [('KARSTEN', 'RIVERS')],\n",
       " '366': [('LAUREN', 'FERRARA')],\n",
       " '368': [('Sandra', 'Espinal')],\n",
       " '369': [('OWEN', 'QIN')],\n",
       " '391': [('Yamilex', 'Ordonez')],\n",
       " '392': [('Helen', 'Adair')],\n",
       " '393': [('Nicole', 'Frantz')],\n",
       " '396': [('JEAN', 'AARON')],\n",
       " '397': [('JOEL', 'GOLDBERG')],\n",
       " '398': [('Archie', 'Bryan')],\n",
       " '400': [('Pamela', 'Ostrander')],\n",
       " '224': [('Otto', 'Qazi')],\n",
       " '225': [('Christopher', 'Powell')],\n",
       " '229': [('Nicholas', 'Cortez')],\n",
       " '277': [(',', 'Quindarrius^01/06/79^MEDINA')],\n",
       " '282': [('Peter', 'Joshi')],\n",
       " '298': [('FREDERICK', 'JEFFERSON')],\n",
       " '320': [('Louise', 'Iles')],\n",
       " '331': [(',', 'CHARLES^8/13/2079^SORENSEN')],\n",
       " '353': [('Larry', 'Lockwood')],\n",
       " '363': [(',', 'Nancy^09/20/92^NOE')],\n",
       " '367': [('Louise', 'Urquhart')],\n",
       " '394': [('Franchesca', 'Justice')]}"
      ]
     },
     "execution_count": 40,
     "metadata": {},
     "output_type": "execute_result"
    }
   ],
   "source": [
    "NameDic"
   ]
  },
  {
   "cell_type": "code",
   "execution_count": 41,
   "metadata": {},
   "outputs": [
    {
     "data": {
      "text/plain": [
       "417"
      ]
     },
     "execution_count": 41,
     "metadata": {},
     "output_type": "execute_result"
    }
   ],
   "source": [
    "len(Num1List)"
   ]
  },
  {
   "cell_type": "code",
   "execution_count": 42,
   "metadata": {},
   "outputs": [],
   "source": [
    "NameDic[\"277\"]=['QUINDARRIUS','ERVIN']\n",
    "NameDic[\"331\"]=['CHARLES','SPARKS']\n",
    "NameDic[\"363\"]=['Nancy','Bennett']"
   ]
  },
  {
   "cell_type": "code",
   "execution_count": 43,
   "metadata": {},
   "outputs": [
    {
     "data": {
      "text/plain": [
       "881"
      ]
     },
     "execution_count": 43,
     "metadata": {},
     "output_type": "execute_result"
    }
   ],
   "source": [
    "numberofPATIENTapprearances = [item[0] for item in sorPATIENT]\n",
    "sum(numberofPATIENTapprearances)"
   ]
  },
  {
   "cell_type": "code",
   "execution_count": 44,
   "metadata": {},
   "outputs": [
    {
     "data": {
      "text/plain": [
       "890"
      ]
     },
     "execution_count": 44,
     "metadata": {},
     "output_type": "execute_result"
    }
   ],
   "source": [
    "a=[]\n",
    "[a.append(filedata[i[0]]) for i in Num1List]\n",
    "[a.append(filedata[i[0]]) for i in Num2List]\n",
    "[a.append(filedata[i[0]]) for i in Num3List]\n",
    "[a.append(filedata[i[0]]) for i in Num4List]\n",
    "[a.append(filedata[i[0]]) for i in Num5List]\n",
    "len(a)"
   ]
  },
  {
   "cell_type": "code",
   "execution_count": 47,
   "metadata": {},
   "outputs": [
    {
     "data": {
      "text/plain": [
       "113"
      ]
     },
     "execution_count": 47,
     "metadata": {},
     "output_type": "execute_result"
    }
   ],
   "source": [
    "len(NameDic)"
   ]
  },
  {
   "cell_type": "code",
   "execution_count": 46,
   "metadata": {},
   "outputs": [
    {
     "name": "stdout",
     "output_type": "stream",
     "text": [
      "894\n"
     ]
    }
   ],
   "source": [
    "n=0\n",
    "for i in sorPATIENT:\n",
    "    for j in Num1List:\n",
    "        if j[2]==i[1][:-4]:\n",
    "            n=n+1\n",
    "    for j in Num2List:\n",
    "        if j[2]==i[1][:-4]:\n",
    "            n=n+1\n",
    "    for j in Num3List:\n",
    "        if j[2]==i[1][:-4]:\n",
    "            n=n+1\n",
    "    for j in Num4List:\n",
    "        if j[2]==i[1][:-4]:\n",
    "            n=n+1\n",
    "    for j in Num5List:\n",
    "        if j[2]==i[1][:-4]:\n",
    "            n=n+1\n",
    "print(n)"
   ]
  },
  {
   "cell_type": "code",
   "execution_count": 650,
   "metadata": {},
   "outputs": [
    {
     "data": {
      "text/plain": [
       "[[25, '358-03.ann'],\n",
       " [17, '356-04.ann'],\n",
       " [12, '391-01.ann'],\n",
       " [11, '391-02.ann'],\n",
       " [11, '399-04.ann'],\n",
       " [10, '250-01.ann'],\n",
       " [10, '358-02.ann'],\n",
       " [9, '282-01.ann'],\n",
       " [8, '285-04.ann'],\n",
       " [8, '292-05.ann'],\n",
       " [8, '293-04.ann'],\n",
       " [8, '360-02.ann'],\n",
       " [8, '395-05.ann'],\n",
       " [7, '329-04.ann'],\n",
       " [7, '356-03.ann'],\n",
       " [6, '241-01.ann'],\n",
       " [6, '256-05.ann'],\n",
       " [6, '270-04.ann'],\n",
       " [6, '350-02.ann'],\n",
       " [5, '228-04.ann'],\n",
       " [5, '241-04.ann'],\n",
       " [5, '248-01.ann'],\n",
       " [5, '248-02.ann'],\n",
       " [5, '252-01.ann'],\n",
       " [5, '282-02.ann'],\n",
       " [5, '288-03.ann'],\n",
       " [5, '292-04.ann'],\n",
       " [5, '301-01.ann'],\n",
       " [5, '303-02.ann'],\n",
       " [5, '333-03.ann'],\n",
       " [5, '335-01.ann'],\n",
       " [5, '337-02.ann'],\n",
       " [4, '222-05.ann'],\n",
       " [4, '223-01.ann'],\n",
       " [4, '226-02.ann'],\n",
       " [4, '228-05.ann'],\n",
       " [4, '241-02.ann'],\n",
       " [4, '248-04.ann'],\n",
       " [4, '250-02.ann'],\n",
       " [4, '276-04.ann'],\n",
       " [4, '282-03.ann'],\n",
       " [4, '285-01.ann'],\n",
       " [4, '288-02.ann'],\n",
       " [4, '295-03.ann'],\n",
       " [4, '297-04.ann'],\n",
       " [4, '300-03.ann'],\n",
       " [4, '308-01.ann'],\n",
       " [4, '322-04.ann'],\n",
       " [4, '350-04.ann'],\n",
       " [4, '353-04.ann'],\n",
       " [4, '361-04.ann'],\n",
       " [4, '365-03.ann'],\n",
       " [3, '221-03.ann'],\n",
       " [3, '222-04.ann'],\n",
       " [3, '226-04.ann'],\n",
       " [3, '228-02.ann'],\n",
       " [3, '242-03.ann'],\n",
       " [3, '247-01.ann'],\n",
       " [3, '247-02.ann'],\n",
       " [3, '247-03.ann'],\n",
       " [3, '247-04.ann'],\n",
       " [3, '248-03.ann'],\n",
       " [3, '249-01.ann'],\n",
       " [3, '250-03.ann'],\n",
       " [3, '252-03.ann'],\n",
       " [3, '252-05.ann'],\n",
       " [3, '256-02.ann'],\n",
       " [3, '256-04.ann'],\n",
       " [3, '257-04.ann'],\n",
       " [3, '273-04.ann'],\n",
       " [3, '274-03.ann'],\n",
       " [3, '277-01.ann'],\n",
       " [3, '278-03.ann'],\n",
       " [3, '280-03.ann'],\n",
       " [3, '280-04.ann'],\n",
       " [3, '282-04.ann'],\n",
       " [3, '283-02.ann'],\n",
       " [3, '284-01.ann'],\n",
       " [3, '286-03.ann'],\n",
       " [3, '287-03.ann'],\n",
       " [3, '288-04.ann'],\n",
       " [3, '290-01.ann'],\n",
       " [3, '290-02.ann'],\n",
       " [3, '294-01.ann'],\n",
       " [3, '294-03.ann'],\n",
       " [3, '297-01.ann'],\n",
       " [3, '297-02.ann'],\n",
       " [3, '299-04.ann'],\n",
       " [3, '304-03.ann'],\n",
       " [3, '309-05.ann'],\n",
       " [3, '320-04.ann'],\n",
       " [3, '328-02.ann'],\n",
       " [3, '329-02.ann'],\n",
       " [3, '331-05.ann'],\n",
       " [3, '332-05.ann'],\n",
       " [3, '334-02.ann'],\n",
       " [3, '334-04.ann'],\n",
       " [3, '335-03.ann'],\n",
       " [3, '339-04.ann'],\n",
       " [3, '352-03.ann'],\n",
       " [3, '352-04.ann'],\n",
       " [3, '354-03.ann'],\n",
       " [3, '360-03.ann'],\n",
       " [3, '364-01.ann'],\n",
       " [3, '364-04.ann'],\n",
       " [3, '366-03.ann'],\n",
       " [3, '369-04.ann'],\n",
       " [3, '392-04.ann'],\n",
       " [3, '395-04.ann'],\n",
       " [3, '396-04.ann'],\n",
       " [3, '400-05.ann'],\n",
       " [2, '225-02.ann'],\n",
       " [2, '226-01.ann'],\n",
       " [2, '226-03.ann'],\n",
       " [2, '227-03.ann'],\n",
       " [2, '228-01.ann'],\n",
       " [2, '229-01.ann'],\n",
       " [2, '240-03.ann'],\n",
       " [2, '243-04.ann'],\n",
       " [2, '249-04.ann'],\n",
       " [2, '250-04.ann'],\n",
       " [2, '251-03.ann'],\n",
       " [2, '251-04.ann'],\n",
       " [2, '253-02.ann'],\n",
       " [2, '254-02.ann'],\n",
       " [2, '256-03.ann'],\n",
       " [2, '257-03.ann'],\n",
       " [2, '258-04.ann'],\n",
       " [2, '272-02.ann'],\n",
       " [2, '273-01.ann'],\n",
       " [2, '273-02.ann'],\n",
       " [2, '273-05.ann'],\n",
       " [2, '275-04.ann'],\n",
       " [2, '276-02.ann'],\n",
       " [2, '279-01.ann'],\n",
       " [2, '280-02.ann'],\n",
       " [2, '281-02.ann'],\n",
       " [2, '285-02.ann'],\n",
       " [2, '285-03.ann'],\n",
       " [2, '286-01.ann'],\n",
       " [2, '287-02.ann'],\n",
       " [2, '289-01.ann'],\n",
       " [2, '289-02.ann'],\n",
       " [2, '290-03.ann'],\n",
       " [2, '291-04.ann'],\n",
       " [2, '292-01.ann'],\n",
       " [2, '292-03.ann'],\n",
       " [2, '294-04.ann'],\n",
       " [2, '296-03.ann'],\n",
       " [2, '296-05.ann'],\n",
       " [2, '297-03.ann'],\n",
       " [2, '300-04.ann'],\n",
       " [2, '300-05.ann'],\n",
       " [2, '301-04.ann'],\n",
       " [2, '303-03.ann'],\n",
       " [2, '303-04.ann'],\n",
       " [2, '305-01.ann'],\n",
       " [2, '305-02.ann'],\n",
       " [2, '305-04.ann'],\n",
       " [2, '306-01.ann'],\n",
       " [2, '306-02.ann'],\n",
       " [2, '307-03.ann'],\n",
       " [2, '308-02.ann'],\n",
       " [2, '308-04.ann'],\n",
       " [2, '309-03.ann'],\n",
       " [2, '309-04.ann'],\n",
       " [2, '322-05.ann'],\n",
       " [2, '323-04.ann'],\n",
       " [2, '328-01.ann'],\n",
       " [2, '328-04.ann'],\n",
       " [2, '330-04.ann'],\n",
       " [2, '333-04.ann'],\n",
       " [2, '334-03.ann'],\n",
       " [2, '335-02.ann'],\n",
       " [2, '335-04.ann'],\n",
       " [2, '350-01.ann'],\n",
       " [2, '354-04.ann'],\n",
       " [2, '357-05.ann'],\n",
       " [2, '358-01.ann'],\n",
       " [2, '362-04.ann'],\n",
       " [2, '364-03.ann'],\n",
       " [2, '366-02.ann'],\n",
       " [2, '366-04.ann'],\n",
       " [2, '369-02.ann'],\n",
       " [2, '392-03.ann'],\n",
       " [2, '393-05.ann'],\n",
       " [2, '394-03.ann'],\n",
       " [2, '395-03.ann'],\n",
       " [2, '398-02.ann'],\n",
       " [2, '399-02.ann'],\n",
       " [1, '221-01.ann'],\n",
       " [1, '221-02.ann'],\n",
       " [1, '222-01.ann'],\n",
       " [1, '222-03.ann'],\n",
       " [1, '224-01.ann'],\n",
       " [1, '224-02.ann'],\n",
       " [1, '224-03.ann'],\n",
       " [1, '224-04.ann'],\n",
       " [1, '227-01.ann'],\n",
       " [1, '229-02.ann'],\n",
       " [1, '229-03.ann'],\n",
       " [1, '240-01.ann'],\n",
       " [1, '240-04.ann'],\n",
       " [1, '241-03.ann'],\n",
       " [1, '242-02.ann'],\n",
       " [1, '242-04.ann'],\n",
       " [1, '242-05.ann'],\n",
       " [1, '243-01.ann'],\n",
       " [1, '243-03.ann'],\n",
       " [1, '244-01.ann'],\n",
       " [1, '244-02.ann'],\n",
       " [1, '246-01.ann'],\n",
       " [1, '246-02.ann'],\n",
       " [1, '246-03.ann'],\n",
       " [1, '246-04.ann'],\n",
       " [1, '252-02.ann'],\n",
       " [1, '252-04.ann'],\n",
       " [1, '253-01.ann'],\n",
       " [1, '254-01.ann'],\n",
       " [1, '254-03.ann'],\n",
       " [1, '254-04.ann'],\n",
       " [1, '254-05.ann'],\n",
       " [1, '256-01.ann'],\n",
       " [1, '257-01.ann'],\n",
       " [1, '257-02.ann'],\n",
       " [1, '258-03.ann'],\n",
       " [1, '258-05.ann'],\n",
       " [1, '259-02.ann'],\n",
       " [1, '259-03.ann'],\n",
       " [1, '259-04.ann'],\n",
       " [1, '270-01.ann'],\n",
       " [1, '270-02.ann'],\n",
       " [1, '270-03.ann'],\n",
       " [1, '271-01.ann'],\n",
       " [1, '271-03.ann'],\n",
       " [1, '272-01.ann'],\n",
       " [1, '272-03.ann'],\n",
       " [1, '272-04.ann'],\n",
       " [1, '273-03.ann'],\n",
       " [1, '274-01.ann'],\n",
       " [1, '274-02.ann'],\n",
       " [1, '274-04.ann'],\n",
       " [1, '275-01.ann'],\n",
       " [1, '275-02.ann'],\n",
       " [1, '276-01.ann'],\n",
       " [1, '276-03.ann'],\n",
       " [1, '277-02.ann'],\n",
       " [1, '277-03.ann'],\n",
       " [1, '277-04.ann'],\n",
       " [1, '277-05.ann'],\n",
       " [1, '278-02.ann'],\n",
       " [1, '278-04.ann'],\n",
       " [1, '279-03.ann'],\n",
       " [1, '280-01.ann'],\n",
       " [1, '281-01.ann'],\n",
       " [1, '281-03.ann'],\n",
       " [1, '283-01.ann'],\n",
       " [1, '283-03.ann'],\n",
       " [1, '283-04.ann'],\n",
       " [1, '284-02.ann'],\n",
       " [1, '285-05.ann'],\n",
       " [1, '286-02.ann'],\n",
       " [1, '286-04.ann'],\n",
       " [1, '288-01.ann'],\n",
       " [1, '288-05.ann'],\n",
       " [1, '291-02.ann'],\n",
       " [1, '291-03.ann'],\n",
       " [1, '291-05.ann'],\n",
       " [1, '292-02.ann'],\n",
       " [1, '293-01.ann'],\n",
       " [1, '293-02.ann'],\n",
       " [1, '294-02.ann'],\n",
       " [1, '295-01.ann'],\n",
       " [1, '295-02.ann'],\n",
       " [1, '295-04.ann'],\n",
       " [1, '295-05.ann'],\n",
       " [1, '296-02.ann'],\n",
       " [1, '296-04.ann'],\n",
       " [1, '297-05.ann'],\n",
       " [1, '298-01.ann'],\n",
       " [1, '298-02.ann'],\n",
       " [1, '299-01.ann'],\n",
       " [1, '301-03.ann'],\n",
       " [1, '301-05.ann'],\n",
       " [1, '302-01.ann'],\n",
       " [1, '302-02.ann'],\n",
       " [1, '302-03.ann'],\n",
       " [1, '302-04.ann'],\n",
       " [1, '304-01.ann'],\n",
       " [1, '304-05.ann'],\n",
       " [1, '306-04.ann'],\n",
       " [1, '307-01.ann'],\n",
       " [1, '307-02.ann'],\n",
       " [1, '307-04.ann'],\n",
       " [1, '307-05.ann'],\n",
       " [1, '308-03.ann'],\n",
       " [1, '309-01.ann'],\n",
       " [1, '309-02.ann'],\n",
       " [1, '320-01.ann'],\n",
       " [1, '320-03.ann'],\n",
       " [1, '321-01.ann'],\n",
       " [1, '321-03.ann'],\n",
       " [1, '321-04.ann'],\n",
       " [1, '322-02.ann'],\n",
       " [1, '322-03.ann'],\n",
       " [1, '323-01.ann'],\n",
       " [1, '323-03.ann'],\n",
       " [1, '323-05.ann'],\n",
       " [1, '324-01.ann'],\n",
       " [1, '324-02.ann'],\n",
       " [1, '324-03.ann'],\n",
       " [1, '324-04.ann'],\n",
       " [1, '324-05.ann'],\n",
       " [1, '325-02.ann'],\n",
       " [1, '325-03.ann'],\n",
       " [1, '325-04.ann'],\n",
       " [1, '325-05.ann'],\n",
       " [1, '326-01.ann'],\n",
       " [1, '326-02.ann'],\n",
       " [1, '326-03.ann'],\n",
       " [1, '326-05.ann'],\n",
       " [1, '327-01.ann'],\n",
       " [1, '327-02.ann'],\n",
       " [1, '327-03.ann'],\n",
       " [1, '327-04.ann'],\n",
       " [1, '328-03.ann'],\n",
       " [1, '329-01.ann'],\n",
       " [1, '329-03.ann'],\n",
       " [1, '330-01.ann'],\n",
       " [1, '330-03.ann'],\n",
       " [1, '331-01.ann'],\n",
       " [1, '331-02.ann'],\n",
       " [1, '331-03.ann'],\n",
       " [1, '332-03.ann'],\n",
       " [1, '333-01.ann'],\n",
       " [1, '333-02.ann'],\n",
       " [1, '334-01.ann'],\n",
       " [1, '335-03.txt'],\n",
       " [1, '336-01.ann'],\n",
       " [1, '336-02.ann'],\n",
       " [1, '336-04.ann'],\n",
       " [1, '337-01.ann'],\n",
       " [1, '337-03.ann'],\n",
       " [1, '337-04.ann'],\n",
       " [1, '337-05.ann'],\n",
       " [1, '338-01.ann'],\n",
       " [1, '338-02.ann'],\n",
       " [1, '338-03.ann'],\n",
       " [1, '338-04.ann'],\n",
       " [1, '338-05.ann'],\n",
       " [1, '339-03.ann'],\n",
       " [1, '350-03.ann'],\n",
       " [1, '351-01.ann'],\n",
       " [1, '351-02.ann'],\n",
       " [1, '351-03.ann'],\n",
       " [1, '351-04.ann'],\n",
       " [1, '352-01.ann'],\n",
       " [1, '352-02.ann'],\n",
       " [1, '353-01.ann'],\n",
       " [1, '354-01.ann'],\n",
       " [1, '355-01.ann'],\n",
       " [1, '355-02.ann'],\n",
       " [1, '355-03.ann'],\n",
       " [1, '355-04.ann'],\n",
       " [1, '356-01.ann'],\n",
       " [1, '356-02.ann'],\n",
       " [1, '357-01.ann'],\n",
       " [1, '357-02.ann'],\n",
       " [1, '357-04.ann'],\n",
       " [1, '358-04.ann'],\n",
       " [1, '360-01.ann'],\n",
       " [1, '360-04.ann'],\n",
       " [1, '361-02.ann'],\n",
       " [1, '362-01.ann'],\n",
       " [1, '362-02.ann'],\n",
       " [1, '362-03.ann'],\n",
       " [1, '363-01.ann'],\n",
       " [1, '363-02.ann'],\n",
       " [1, '363-03.ann'],\n",
       " [1, '363-04.ann'],\n",
       " [1, '364-02.ann'],\n",
       " [1, '365-01.ann'],\n",
       " [1, '365-02.ann'],\n",
       " [1, '365-05.ann'],\n",
       " [1, '366-01.ann'],\n",
       " [1, '367-02.ann'],\n",
       " [1, '368-01.ann'],\n",
       " [1, '368-03.ann'],\n",
       " [1, '369-01.ann'],\n",
       " [1, '369-03.ann'],\n",
       " [1, '391-03.ann'],\n",
       " [1, '391-04.ann'],\n",
       " [1, '393-01.ann'],\n",
       " [1, '393-04.ann'],\n",
       " [1, '394-01.ann'],\n",
       " [1, '394-04.ann'],\n",
       " [1, '395-01.ann'],\n",
       " [1, '395-02.ann'],\n",
       " [1, '396-01.ann'],\n",
       " [1, '397-02.ann'],\n",
       " [1, '397-03.ann'],\n",
       " [1, '397-04.ann'],\n",
       " [1, '398-01.ann'],\n",
       " [1, '398-03.ann'],\n",
       " [1, '398-04.ann'],\n",
       " [1, '399-01.ann'],\n",
       " [1, '400-02.txt'],\n",
       " [1, '400-02.ann']]"
      ]
     },
     "execution_count": 650,
     "metadata": {},
     "output_type": "execute_result"
    }
   ],
   "source": [
    "sorPATIENT"
   ]
  },
  {
   "cell_type": "code",
   "execution_count": 651,
   "metadata": {},
   "outputs": [
    {
     "data": {
      "text/plain": [
       "[[518, 25, '221-02'],\n",
       " [569, 0, '221-03'],\n",
       " [601, 0, '221-03'],\n",
       " [603, 10, '221-03'],\n",
       " [900, 5, '223-01'],\n",
       " [1212, 1, '224-02'],\n",
       " [1298, 1, '224-03'],\n",
       " [1388, 1, '224-04'],\n",
       " [1585, 1, '225-02'],\n",
       " [1862, 19, '226-01'],\n",
       " [1977, 16, '226-02'],\n",
       " [2085, 5, '226-03'],\n",
       " [2140, 0, '226-04'],\n",
       " [2184, 16, '226-04'],\n",
       " [2670, 13, '228-01'],\n",
       " [2741, 12, '228-04'],\n",
       " [2742, 5, '228-04'],\n",
       " [2760, 6, '228-04'],\n",
       " [2779, 8, '228-05'],\n",
       " [2865, 2, '229-01'],\n",
       " [2897, 26, '229-01'],\n",
       " [3048, 18, '240-01'],\n",
       " [3132, 1, '240-03'],\n",
       " [3196, 1, '240-03'],\n",
       " [3217, 1, '240-04'],\n",
       " [3289, 1, '241-01'],\n",
       " [3292, 0, '241-01'],\n",
       " [3323, 3, '241-01'],\n",
       " [3344, 1, '241-02'],\n",
       " [3372, 20, '241-02'],\n",
       " [3416, 1, '241-04'],\n",
       " [3437, 3, '241-04'],\n",
       " [3439, 8, '241-04'],\n",
       " [3551, 2, '242-03'],\n",
       " [3869, 8, '243-04'],\n",
       " [4868, 3, '247-01'],\n",
       " [4958, 7, '247-02'],\n",
       " [4973, 9, '247-02'],\n",
       " [4982, 1, '247-03'],\n",
       " [5001, 8, '247-03'],\n",
       " [5112, 16, '247-04'],\n",
       " [5121, 2, '247-04'],\n",
       " [5142, 39, '248-01'],\n",
       " [5144, 1, '248-01'],\n",
       " [5255, 6, '248-01'],\n",
       " [5261, 1, '248-02'],\n",
       " [5262, 3, '248-02'],\n",
       " [5275, 1, '248-02'],\n",
       " [5372, 1, '248-02'],\n",
       " [5389, 1, '248-03'],\n",
       " [5399, 1, '248-03'],\n",
       " [5451, 16, '248-04'],\n",
       " [5626, 7, '249-01'],\n",
       " [5628, 3, '249-01'],\n",
       " [5758, 1, '249-04'],\n",
       " [5798, 2, '249-04'],\n",
       " [5829, 1, '250-01'],\n",
       " [5836, 1, '250-01'],\n",
       " [5843, 1, '250-01'],\n",
       " [5853, 5, '250-01'],\n",
       " [5869, 3, '250-01'],\n",
       " [5881, 8, '250-01'],\n",
       " [5911, 3, '250-02'],\n",
       " [5943, 4, '250-03'],\n",
       " [5953, 1, '250-04'],\n",
       " [6133, 5, '251-03'],\n",
       " [6423, 1, '251-04'],\n",
       " [6483, 1, '252-01'],\n",
       " [6487, 8, '252-01'],\n",
       " [6515, 1, '252-01'],\n",
       " [6586, 1, '252-03'],\n",
       " [6623, 1, '252-03'],\n",
       " [6719, 1, '252-05'],\n",
       " [6754, 1, '252-05'],\n",
       " [6804, 4, '253-02'],\n",
       " [6966, 1, '254-02'],\n",
       " [7510, 6, '256-02'],\n",
       " [7514, 5, '256-02'],\n",
       " [7704, 2, '256-04'],\n",
       " [7726, 5, '256-04'],\n",
       " [7734, 32, '256-05'],\n",
       " [7735, 0, '256-05'],\n",
       " [7743, 0, '256-05'],\n",
       " [7759, 0, '256-05'],\n",
       " [7761, 5, '256-05'],\n",
       " [7872, 1, '257-02'],\n",
       " [8011, 10, '257-03'],\n",
       " [8029, 1, '257-04'],\n",
       " [8067, 1, '257-04'],\n",
       " [8285, 27, '258-04'],\n",
       " [8444, 0, '259-03'],\n",
       " [8680, 36, '270-04'],\n",
       " [8681, 1, '270-04'],\n",
       " [8681, 9, '270-04'],\n",
       " [8682, 1, '270-04'],\n",
       " [8685, 1, '270-04'],\n",
       " [8686, 8, '270-04'],\n",
       " [9104, 7, '272-02'],\n",
       " [9425, 0, '273-01'],\n",
       " [9463, 0, '273-02'],\n",
       " [9490, 0, '273-02'],\n",
       " [9582, 0, '273-04'],\n",
       " [9583, 0, '273-04'],\n",
       " [9630, 0, '273-05'],\n",
       " [9656, 3, '273-05'],\n",
       " [9785, 1, '274-03'],\n",
       " [10018, 1, '275-04'],\n",
       " [10075, 12, '275-04'],\n",
       " [10242, 6, '276-04'],\n",
       " [10244, 14, '276-04'],\n",
       " [10276, 3, '276-04'],\n",
       " [10291, 1, '277-01'],\n",
       " [10296, 1, '277-01'],\n",
       " [10322, 1, '277-01'],\n",
       " [10359, 8, '277-03'],\n",
       " [10446, 5, '277-04'],\n",
       " [10529, 5, '277-05'],\n",
       " [10797, 1, '278-03'],\n",
       " [10801, 14, '278-03'],\n",
       " [10814, 1, '278-03'],\n",
       " [11063, 1, '279-01'],\n",
       " [11590, 1, '280-04'],\n",
       " [11656, 1, '280-04'],\n",
       " [11685, 0, '281-01'],\n",
       " [11778, 31, '281-02'],\n",
       " [12035, 1, '282-01'],\n",
       " [12041, 6, '282-01'],\n",
       " [12064, 3, '282-01'],\n",
       " [12065, 7, '282-01'],\n",
       " [12067, 1, '282-01'],\n",
       " [12089, 25, '282-02'],\n",
       " [12107, 4, '282-02'],\n",
       " [12177, 1, '282-04'],\n",
       " [12270, 3, '283-02'],\n",
       " [12446, 6, '284-01'],\n",
       " [12447, 10, '284-01'],\n",
       " [12448, 0, '284-01'],\n",
       " [12486, 58, '284-02'],\n",
       " [12768, 1, '285-02'],\n",
       " [12891, 1, '285-03'],\n",
       " [12941, 1, '285-04'],\n",
       " [12947, 1, '285-04'],\n",
       " [12948, 5, '285-04'],\n",
       " [12949, 0, '285-04'],\n",
       " [12960, 9, '285-04'],\n",
       " [12963, 1, '285-04'],\n",
       " [12968, 5, '285-04'],\n",
       " [12971, 1, '285-04'],\n",
       " [13147, 5, '286-03'],\n",
       " [13337, 6, '287-02'],\n",
       " [13436, 3, '287-02'],\n",
       " [13451, 6, '287-03'],\n",
       " [13514, 3, '287-03'],\n",
       " [13523, 6, '287-03'],\n",
       " [13569, 1, '288-02'],\n",
       " [13612, 6, '288-02'],\n",
       " [13639, 9, '288-03'],\n",
       " [13668, 6, '288-03'],\n",
       " [13764, 4, '289-01'],\n",
       " [13803, 2, '289-01'],\n",
       " [13823, 10, '289-02'],\n",
       " [14185, 1, '290-01'],\n",
       " [14215, 1, '290-01'],\n",
       " [14225, 1, '290-02'],\n",
       " [14229, 14, '290-02'],\n",
       " [14293, 3, '290-03'],\n",
       " [15001, 3, '291-04'],\n",
       " [15287, 7, '292-01'],\n",
       " [15390, 7, '292-03'],\n",
       " [15430, 0, '292-04'],\n",
       " [15449, 0, '292-04'],\n",
       " [15460, 4, '292-04'],\n",
       " [15472, 6, '292-05'],\n",
       " [15473, 4, '292-05'],\n",
       " [15476, 8, '292-05'],\n",
       " [15481, 0, '292-05'],\n",
       " [15496, 3, '292-05'],\n",
       " [15514, 0, '292-05'],\n",
       " [15524, 14, '292-05'],\n",
       " [15666, 9, '293-04'],\n",
       " [15670, 3, '293-04'],\n",
       " [15685, 4, '293-04'],\n",
       " [15686, 12, '293-04'],\n",
       " [15692, 5, '293-04'],\n",
       " [15695, 1, '293-04'],\n",
       " [15749, 6, '294-01'],\n",
       " [15817, 2, '294-01'],\n",
       " [15898, 1, '294-02'],\n",
       " [16032, 2, '294-03'],\n",
       " [16133, 2, '294-04'],\n",
       " [16359, 1, '295-03'],\n",
       " [16385, 1, '295-03'],\n",
       " [16594, 4, '296-03'],\n",
       " [16595, 8, '296-03'],\n",
       " [16893, 3, '297-03'],\n",
       " [16948, 17, '297-04'],\n",
       " [16979, 7, '297-04'],\n",
       " [17468, 1, '299-04'],\n",
       " [17702, 1, '300-03'],\n",
       " [17703, 1, '300-03'],\n",
       " [17829, 1, '300-03'],\n",
       " [18104, 4, '301-01'],\n",
       " [18157, 4, '301-01'],\n",
       " [18160, 0, '301-01'],\n",
       " [18165, 0, '301-01'],\n",
       " [18337, 1, '301-04'],\n",
       " [18772, 11, '303-02'],\n",
       " [18775, 6, '303-02'],\n",
       " [18802, 6, '303-02'],\n",
       " [18808, 4, '303-02'],\n",
       " [18818, 0, '303-03'],\n",
       " [18818, 2, '303-03'],\n",
       " [19007, 35, '303-04'],\n",
       " [19314, 1, '304-03'],\n",
       " [19316, 1, '304-03'],\n",
       " [19398, 1, '304-03'],\n",
       " [19708, 1, '305-01'],\n",
       " [19739, 12, '305-02'],\n",
       " [19808, 0, '305-04'],\n",
       " [19878, 4, '306-01'],\n",
       " [20228, 4, '307-03'],\n",
       " [20360, 0, '308-01'],\n",
       " [20360, 3, '308-01'],\n",
       " [20367, 8, '308-01'],\n",
       " [20385, 6, '308-01'],\n",
       " [20421, 13, '308-02'],\n",
       " [20434, 1, '308-02'],\n",
       " [20516, 1, '308-04'],\n",
       " [20687, 0, '309-04'],\n",
       " [20724, 2, '309-05'],\n",
       " [20729, 7, '309-05'],\n",
       " [20921, 1, '320-03'],\n",
       " [20972, 1, '320-04'],\n",
       " [21006, 4, '320-04'],\n",
       " [21008, 1, '320-04'],\n",
       " [21447, 0, '322-03'],\n",
       " [21582, 4, '322-04'],\n",
       " [21943, 1, '322-05'],\n",
       " [22248, 1, '323-04'],\n",
       " [23222, 3, '325-05'],\n",
       " [23433, 8, '326-05'],\n",
       " [23582, 2, '327-02'],\n",
       " [23632, 2, '327-03'],\n",
       " [23707, 19, '327-04'],\n",
       " [23842, 48, '328-02'],\n",
       " [24116, 1, '328-04'],\n",
       " [24353, 8, '329-02'],\n",
       " [24353, 24, '329-02'],\n",
       " [24529, 6, '329-03'],\n",
       " [24547, 32, '329-04'],\n",
       " [24576, 1, '329-04'],\n",
       " [24647, 4, '329-04'],\n",
       " [24878, 1, '331-01'],\n",
       " [24929, 1, '331-02'],\n",
       " [25124, 1, '331-05'],\n",
       " [25133, 1, '331-05'],\n",
       " [25201, 0, '331-05'],\n",
       " [25361, 4, '332-05'],\n",
       " [25908, 1, '333-03'],\n",
       " [26078, 1, '333-03'],\n",
       " [26084, 2, '333-03'],\n",
       " [26143, 14, '333-04'],\n",
       " [26310, 1, '334-02'],\n",
       " [26352, 1, '334-03'],\n",
       " [26422, 3, '334-04'],\n",
       " [26512, 16, '335-01'],\n",
       " [26516, 1, '335-01'],\n",
       " [26589, 3, '335-01'],\n",
       " [26598, 22, '335-01'],\n",
       " [26771, 3, '335-03'],\n",
       " [26870, 21, '335-04'],\n",
       " [28401, 1, '350-02'],\n",
       " [28407, 1, '350-02'],\n",
       " [28460, 1, '350-02'],\n",
       " [28461, 1, '350-02'],\n",
       " [28539, 1, '350-04'],\n",
       " [28595, 1, '350-04'],\n",
       " [28989, 3, '352-03'],\n",
       " [29030, 1, '352-03'],\n",
       " [29050, 1, '352-03'],\n",
       " [29074, 14, '352-04'],\n",
       " [29098, 4, '352-04'],\n",
       " [29110, 4, '352-04'],\n",
       " [29368, 1, '353-04'],\n",
       " [29388, 3, '353-04'],\n",
       " [29393, 11, '353-04'],\n",
       " [29548, 1, '354-03'],\n",
       " [29555, 5, '354-03'],\n",
       " [29610, 10, '354-04'],\n",
       " [30270, 14, '356-04'],\n",
       " [30276, 8, '356-04'],\n",
       " [30278, 1, '356-04'],\n",
       " [30279, 1, '356-04'],\n",
       " [30280, 1, '356-04'],\n",
       " [30335, 1, '356-04'],\n",
       " [30338, 1, '356-04'],\n",
       " [30342, 1, '356-04'],\n",
       " [30350, 1, '356-04'],\n",
       " [30382, 1, '356-04'],\n",
       " [30383, 1, '356-04'],\n",
       " [30386, 2, '356-04'],\n",
       " [30388, 1, '356-04'],\n",
       " [30391, 3, '356-04'],\n",
       " [30392, 1, '356-04'],\n",
       " [30651, 12, '357-05'],\n",
       " [30738, 4, '358-01'],\n",
       " [30781, 0, '358-02'],\n",
       " [30794, 0, '358-02'],\n",
       " [30795, 11, '358-02'],\n",
       " [30803, 0, '358-02'],\n",
       " [30809, 11, '358-02'],\n",
       " [30829, 10, '358-02'],\n",
       " [30830, 178, '358-02'],\n",
       " [30831, 25, '358-02'],\n",
       " [30833, 18, '358-02'],\n",
       " [30864, 0, '358-03'],\n",
       " [30871, 0, '358-03'],\n",
       " [30874, 11, '358-03'],\n",
       " [30882, 11, '358-03'],\n",
       " [30915, 9, '358-03'],\n",
       " [30917, 1, '358-03'],\n",
       " [30921, 0, '358-03'],\n",
       " [30923, 1, '358-03'],\n",
       " [30924, 3, '358-03'],\n",
       " [30933, 0, '358-03'],\n",
       " [30938, 10, '358-03'],\n",
       " [30946, 7, '358-03'],\n",
       " [30946, 19, '358-03'],\n",
       " [30948, 8, '358-03'],\n",
       " [30952, 10, '358-03'],\n",
       " [30954, 0, '358-03'],\n",
       " [30957, 1, '358-03'],\n",
       " [30971, 10, '358-03'],\n",
       " [30975, 0, '358-03'],\n",
       " [30984, 0, '358-03'],\n",
       " [30986, 0, '358-03'],\n",
       " [30989, 0, '358-03'],\n",
       " [31001, 8, '358-03'],\n",
       " [31003, 2, '358-03'],\n",
       " [31007, 6, '358-04'],\n",
       " [31240, 7, '360-02'],\n",
       " [31251, 1, '360-02'],\n",
       " [31286, 1, '360-03'],\n",
       " [31301, 1, '360-03'],\n",
       " [31614, 1, '361-04'],\n",
       " [31615, 1, '361-04'],\n",
       " [31712, 1, '361-04'],\n",
       " [31981, 1, '362-04'],\n",
       " [32079, 11, '363-02'],\n",
       " [32174, 0, '363-03'],\n",
       " [32348, 6, '364-01'],\n",
       " [32369, 10, '364-01'],\n",
       " [32629, 9, '364-03'],\n",
       " [32634, 29, '364-04'],\n",
       " [32679, 86, '364-04'],\n",
       " [32765, 1, '365-03'],\n",
       " [32803, 1, '365-03'],\n",
       " [33027, 1, '366-02'],\n",
       " [33041, 19, '366-03'],\n",
       " [33058, 1, '366-03'],\n",
       " [33069, 0, '366-04'],\n",
       " [33702, 8, '369-01'],\n",
       " [33749, 4, '369-02'],\n",
       " [33782, 8, '369-03'],\n",
       " [33821, 1, '369-04'],\n",
       " [33853, 10, '369-04'],\n",
       " [33864, 0, '391-01'],\n",
       " [33865, 3, '391-01'],\n",
       " [33868, 1, '391-01'],\n",
       " [33873, 1, '391-01'],\n",
       " [33875, 0, '391-01'],\n",
       " [33892, 1, '391-01'],\n",
       " [33898, 1, '391-01'],\n",
       " [33902, 1, '391-01'],\n",
       " [33904, 18, '391-01'],\n",
       " [33905, 5, '391-01'],\n",
       " [33906, 4, '391-01'],\n",
       " [33911, 7, '391-02'],\n",
       " [33914, 1, '391-02'],\n",
       " [33920, 8, '391-02'],\n",
       " [33924, 3, '391-02'],\n",
       " [33929, 2, '391-02'],\n",
       " [33932, 1, '391-02'],\n",
       " [33936, 3, '391-02'],\n",
       " [33967, 3, '391-02'],\n",
       " [33983, 1, '391-02'],\n",
       " [33986, 12, '391-02'],\n",
       " [33990, 8, '391-02'],\n",
       " [33991, 26, '391-03'],\n",
       " [34305, 6, '392-04'],\n",
       " [34949, 8, '394-01'],\n",
       " [35106, 0, '394-03'],\n",
       " [35479, 1, '395-04'],\n",
       " [35610, 1, '395-05'],\n",
       " [35652, 1, '395-05'],\n",
       " [35668, 10, '395-05'],\n",
       " [35707, 6, '395-05'],\n",
       " [35712, 1, '395-05'],\n",
       " [35926, 3, '396-04'],\n",
       " [35927, 0, '396-04'],\n",
       " [36304, 1, '398-01'],\n",
       " [36329, 6, '398-02'],\n",
       " [36330, 1, '398-02'],\n",
       " [36624, 11, '399-02'],\n",
       " [36629, 1, '399-02'],\n",
       " [36749, 1, '399-04'],\n",
       " [36751, 0, '399-04'],\n",
       " [36765, 3, '399-04'],\n",
       " [36786, 7, '399-04'],\n",
       " [36793, 2, '399-04'],\n",
       " [36806, 0, '399-04'],\n",
       " [36807, 12, '399-04'],\n",
       " [36811, 3, '399-04'],\n",
       " [36823, 3, '399-04'],\n",
       " [36826, 4, '399-04'],\n",
       " [37020, 43, '400-05'],\n",
       " [37080, 4, '400-05']]"
      ]
     },
     "execution_count": 651,
     "metadata": {},
     "output_type": "execute_result"
    }
   ],
   "source": [
    "Num1List"
   ]
  },
  {
   "cell_type": "code",
   "execution_count": 80,
   "metadata": {},
   "outputs": [],
   "source": [
    "#for i in filedata:\n",
    "#    if i.split('\\n')"
   ]
  },
  {
   "cell_type": "code",
   "execution_count": 131,
   "metadata": {},
   "outputs": [
    {
     "data": {
      "text/plain": [
       "'Saw'"
      ]
     },
     "execution_count": 131,
     "metadata": {},
     "output_type": "execute_result"
    }
   ],
   "source": [
    "filedata[3].split('\\n')[0].split()[0]#[-7:]"
   ]
  },
  {
   "cell_type": "code",
   "execution_count": 132,
   "metadata": {},
   "outputs": [],
   "source": [
    "count=0\n",
    "Original=[]\n",
    "PatientList=[]\n",
    "for i in filedata:\n",
    "    PATIENTflag=0\n",
    "    for j in i.split('\\n'):\n",
    "        if j[-7:]=='PATIENT':\n",
    "            #WRITESHIT\n",
    "            PATIENTflag=1\n",
    "            count=count+1\n",
    "            PatientList.append(j.split()[0])\n",
    "        else:\n",
    "            TESTSHIT=1\n",
    "            #WRITESHIT\n",
    "    if PATIENTflag:\n",
    "        Original.append(i)\n"
   ]
  },
  {
   "cell_type": "code",
   "execution_count": 134,
   "metadata": {},
   "outputs": [
    {
     "data": {
      "text/plain": [
       "1655"
      ]
     },
     "execution_count": 134,
     "metadata": {},
     "output_type": "execute_result"
    }
   ],
   "source": [
    "len(PatientList)"
   ]
  },
  {
   "cell_type": "code",
   "execution_count": 123,
   "metadata": {},
   "outputs": [
    {
     "data": {
      "text/plain": [
       "37115"
      ]
     },
     "execution_count": 123,
     "metadata": {},
     "output_type": "execute_result"
    }
   ],
   "source": [
    "len(filedata)"
   ]
  },
  {
   "cell_type": "code",
   "execution_count": 124,
   "metadata": {},
   "outputs": [
    {
     "data": {
      "text/plain": [
       "869"
      ]
     },
     "execution_count": 124,
     "metadata": {},
     "output_type": "execute_result"
    }
   ],
   "source": [
    "len(Original)"
   ]
  },
  {
   "cell_type": "code",
   "execution_count": 125,
   "metadata": {},
   "outputs": [
    {
     "data": {
      "text/plain": [
       "1655"
      ]
     },
     "execution_count": 125,
     "metadata": {},
     "output_type": "execute_result"
    }
   ],
   "source": [
    "count"
   ]
  },
  {
   "cell_type": "code",
   "execution_count": 139,
   "metadata": {},
   "outputs": [
    {
     "data": {
      "text/plain": [
       "['Younger',\n",
       " ',',\n",
       " 'T',\n",
       " 'Eugene',\n",
       " 'Ted',\n",
       " 'Ted',\n",
       " 'Ted',\n",
       " 'Ted',\n",
       " 'DUVALL',\n",
       " ',',\n",
       " 'BRADY',\n",
       " 'C',\n",
       " 'DUVALL',\n",
       " ',',\n",
       " 'BRADY',\n",
       " 'C',\n",
       " 'BRADY',\n",
       " 'DUVALL',\n",
       " 'Brady',\n",
       " 'Duvall',\n",
       " 'BRADY',\n",
       " 'DUVALL',\n",
       " 'Brady',\n",
       " 'Duvall',\n",
       " 'Brady',\n",
       " 'Duvall',\n",
       " 'Brady',\n",
       " 'Duvall',\n",
       " 'Brady',\n",
       " 'Duvall',\n",
       " 'Adler',\n",
       " ',',\n",
       " 'Imogene',\n",
       " 'Imogene',\n",
       " 'Adler',\n",
       " 'Adler',\n",
       " 'Adler',\n",
       " ',',\n",
       " 'Imogene',\n",
       " 'Otto',\n",
       " 'Qazi',\n",
       " 'Qazi',\n",
       " 'Qazi',\n",
       " 'Qazi',\n",
       " 'Christopher',\n",
       " 'Powell',\n",
       " 'Powell',\n",
       " 'Ellen',\n",
       " 'Law',\n",
       " 'Friedman',\n",
       " 'Ellen',\n",
       " 'Law',\n",
       " 'Friedman',\n",
       " 'Law',\n",
       " ',',\n",
       " 'Ellen',\n",
       " 'LAW',\n",
       " ',',\n",
       " 'ELLENMRN',\n",
       " 'LAW',\n",
       " ',',\n",
       " 'ELLEN',\n",
       " 'Law',\n",
       " 'Ellen',\n",
       " 'Law',\n",
       " 'Ellen',\n",
       " 'Friedman',\n",
       " 'LE',\n",
       " ',',\n",
       " 'WILLIAM',\n",
       " 'William',\n",
       " 'Le',\n",
       " 'William',\n",
       " 'Le',\n",
       " 'Wonda',\n",
       " 'Benitez',\n",
       " 'Benitez',\n",
       " 'Benitez',\n",
       " ',',\n",
       " 'Wonda',\n",
       " 'Wonda',\n",
       " 'Benitez',\n",
       " 'Benitez',\n",
       " ',',\n",
       " 'Wonda',\n",
       " 'BENITEZ',\n",
       " ',',\n",
       " 'Wonda',\n",
       " 'Benitez',\n",
       " 'Benitez',\n",
       " 'BENITEZ',\n",
       " ',',\n",
       " 'Wonda',\n",
       " 'Benitez',\n",
       " 'Benitez',\n",
       " ',',\n",
       " 'Wonda',\n",
       " 'Benitez',\n",
       " 'Benitez',\n",
       " ',',\n",
       " 'Wonda',\n",
       " 'Benitez',\n",
       " ',',\n",
       " 'Wonda',\n",
       " 'Cortez',\n",
       " 'Cortez',\n",
       " 'Nicholas',\n",
       " 'Cortez',\n",
       " 'Nicholas',\n",
       " 'Cortez',\n",
       " 'Oneill',\n",
       " 'Innis',\n",
       " 'Innis',\n",
       " 'Innis',\n",
       " 'Christine',\n",
       " 'Olivier',\n",
       " 'Olivier',\n",
       " 'Olivier',\n",
       " 'Olivier',\n",
       " ',',\n",
       " 'Christine',\n",
       " 'Olivier',\n",
       " 'Olivier',\n",
       " ',',\n",
       " 'Christine',\n",
       " 'Christine',\n",
       " 'Olivier',\n",
       " 'Olivier',\n",
       " 'Olivier',\n",
       " ',',\n",
       " 'Christine',\n",
       " 'Olivier',\n",
       " 'OLIVIER',\n",
       " ',',\n",
       " 'CHRISTINE',\n",
       " 'Christine',\n",
       " 'Olivier',\n",
       " 'Olivier',\n",
       " 'Christine',\n",
       " 'Olivier',\n",
       " 'Olivier',\n",
       " 'Olivier',\n",
       " 'LOUIS',\n",
       " ',',\n",
       " 'ROBERT',\n",
       " 'LOUIS',\n",
       " ',',\n",
       " 'ROBERT',\n",
       " 'ROBERT',\n",
       " 'LOUIS',\n",
       " 'Louis',\n",
       " 'LOUIS',\n",
       " ',',\n",
       " 'ROBERT',\n",
       " ',',\n",
       " 'Robert^11/12/74^HANEY',\n",
       " 'Osborne',\n",
       " ',',\n",
       " 'Mattison',\n",
       " 'OSBORNE',\n",
       " ',',\n",
       " 'MATTISON',\n",
       " 'OSBORNE',\n",
       " ',',\n",
       " 'MATTISON',\n",
       " 'Osborne',\n",
       " 'Francisco',\n",
       " ',',\n",
       " 'Xue',\n",
       " 'French',\n",
       " ',',\n",
       " 'Xue',\n",
       " 'YEO',\n",
       " ',',\n",
       " 'AUSTIN',\n",
       " 'YEO',\n",
       " ',',\n",
       " 'AUSTIN',\n",
       " 'Yeo',\n",
       " ',',\n",
       " 'Austin',\n",
       " 'Yeo',\n",
       " ',',\n",
       " 'Austin',\n",
       " 'Isenberg',\n",
       " ',',\n",
       " 'Michael',\n",
       " 'Michael',\n",
       " 'Isenberg',\n",
       " 'Gregory',\n",
       " 'Michael',\n",
       " 'Isenberg',\n",
       " 'Isenberg',\n",
       " 'Isenberg',\n",
       " 'Isenberg',\n",
       " ',',\n",
       " 'Michael',\n",
       " 'Isenberg',\n",
       " 'Isenberg',\n",
       " 'ISENBERG',\n",
       " ',',\n",
       " 'MICHAEL',\n",
       " 'Isenberg',\n",
       " 'Isenberg',\n",
       " 'Danny',\n",
       " 'Nielson',\n",
       " 'Nielson',\n",
       " 'Nielson',\n",
       " 'Danny',\n",
       " 'Nielson',\n",
       " 'Nielson',\n",
       " 'Danny',\n",
       " 'Nielson',\n",
       " 'Nielson',\n",
       " 'Nielson',\n",
       " 'Nielson',\n",
       " 'Nielson',\n",
       " 'Danny',\n",
       " 'Nielson',\n",
       " 'Nielson',\n",
       " 'Nielson',\n",
       " 'Danny',\n",
       " 'Nielson',\n",
       " 'Nielson',\n",
       " 'NIELSON',\n",
       " ',',\n",
       " 'DANNY',\n",
       " 'W',\n",
       " 'NIELSON',\n",
       " ',',\n",
       " 'DANNY',\n",
       " 'W',\n",
       " 'LILLY',\n",
       " ',',\n",
       " 'LARRY',\n",
       " 'Larry',\n",
       " 'Larry',\n",
       " 'Lilly',\n",
       " 'Lilly',\n",
       " 'Urania',\n",
       " 'Yerger',\n",
       " 'Urania',\n",
       " 'Yerger',\n",
       " 'Yerger',\n",
       " 'Yerger',\n",
       " 'Yerger',\n",
       " 'Yerger',\n",
       " ',',\n",
       " 'Urania',\n",
       " 'Yerger',\n",
       " 'Yerger',\n",
       " 'Yerger',\n",
       " ',',\n",
       " 'Urania',\n",
       " 'Yerger',\n",
       " 'Urania',\n",
       " 'Yerger',\n",
       " 'Urania',\n",
       " 'Yerger',\n",
       " 'Yerger',\n",
       " 'Urania',\n",
       " 'Yerger',\n",
       " 'YERGER',\n",
       " ',',\n",
       " 'URANIA',\n",
       " 'Urania',\n",
       " 'Yerger',\n",
       " 'Yerger',\n",
       " 'Yerger',\n",
       " ',',\n",
       " 'Urania',\n",
       " 'Yerger',\n",
       " 'Vollmer',\n",
       " ',',\n",
       " 'Ulyses',\n",
       " 'Vollmer',\n",
       " 'Ulyses',\n",
       " 'Vollmer',\n",
       " 'Vollmer',\n",
       " 'Kathy',\n",
       " 'Joshi',\n",
       " 'Joshi',\n",
       " 'Joshi',\n",
       " 'Kathy',\n",
       " 'Joshi',\n",
       " 'Joshi',\n",
       " 'JOSHI',\n",
       " ',',\n",
       " 'KATHY',\n",
       " 'JOSHI',\n",
       " ',',\n",
       " 'KATHY',\n",
       " 'Joshi',\n",
       " 'Joshy',\n",
       " ',',\n",
       " 'Kathy^07/20/71^KATZ',\n",
       " 'JOSHI',\n",
       " ',',\n",
       " 'KATHY',\n",
       " 'Joshi',\n",
       " 'Joshi',\n",
       " 'Andrew',\n",
       " 'Conner',\n",
       " 'Conner',\n",
       " ',',\n",
       " 'Andrew',\n",
       " 'Andy',\n",
       " 'NOONAN',\n",
       " ',',\n",
       " 'FRANKIE',\n",
       " 'NOONAN',\n",
       " ',',\n",
       " 'FRANCE',\n",
       " 'Noonan',\n",
       " ',',\n",
       " 'France^10/01/82^ELROD',\n",
       " ',',\n",
       " 'FRANCE^07/25/85^ELROD',\n",
       " 'NOONAN',\n",
       " ',',\n",
       " 'WENDY',\n",
       " 'Klein',\n",
       " ',',\n",
       " 'Michelle',\n",
       " 'KLEIN',\n",
       " ',',\n",
       " 'Michelle',\n",
       " 'Klein',\n",
       " 'Klein',\n",
       " 'Nathaniel',\n",
       " 'Klein',\n",
       " 'Nathaniel',\n",
       " 'Klein',\n",
       " 'Michelle',\n",
       " 'Klein',\n",
       " 'Michelle',\n",
       " 'Michelle',\n",
       " 'Michelle',\n",
       " 'Klein',\n",
       " 'Nathaniel',\n",
       " 'Michelle',\n",
       " 'Michelle',\n",
       " 'Michelle',\n",
       " 'Michelle',\n",
       " 'Verna',\n",
       " 'Cantu',\n",
       " 'Cantu',\n",
       " 'Verna',\n",
       " 'Cantu',\n",
       " 'Verna',\n",
       " 'CANTU',\n",
       " ',',\n",
       " 'VERNA',\n",
       " 'L',\n",
       " 'Cantu',\n",
       " 'Cantu',\n",
       " 'SCHWARTZ',\n",
       " ',',\n",
       " 'XAVIER',\n",
       " ',',\n",
       " 'Xavier^04/15/69^NOLAN',\n",
       " 'Schwartz',\n",
       " 'SCHWARTZ',\n",
       " ',',\n",
       " 'XAVIER',\n",
       " 'Michael',\n",
       " 'Yee',\n",
       " 'Yin',\n",
       " 'Yee',\n",
       " ',',\n",
       " 'Michael',\n",
       " 'WHITAKER',\n",
       " ',',\n",
       " 'VINCENT',\n",
       " 'Whitaker',\n",
       " ',',\n",
       " 'Vincent',\n",
       " ',',\n",
       " 'VINCENT^08/11/97^TRAN',\n",
       " 'Nguyen',\n",
       " 'Whitaker',\n",
       " 'Whitaker',\n",
       " 'Whitaker',\n",
       " 'Whitaker',\n",
       " 'Whitaker',\n",
       " 'Jorgenson',\n",
       " ',',\n",
       " 'Andrew',\n",
       " 'Jorgenson',\n",
       " ',',\n",
       " 'Andrew',\n",
       " 'C.',\n",
       " 'Uriah',\n",
       " 'Oliver',\n",
       " 'Oliver',\n",
       " ',',\n",
       " 'Uriah',\n",
       " 'Oliver',\n",
       " 'Uriah',\n",
       " 'Oliver',\n",
       " 'Oreilly',\n",
       " ',',\n",
       " 'Uriah',\n",
       " 'Xuan',\n",
       " ',',\n",
       " 'Wendy',\n",
       " 'Jake',\n",
       " 'Xuan',\n",
       " ',',\n",
       " 'Wendy',\n",
       " 'Jack',\n",
       " 'Xuan',\n",
       " ',',\n",
       " 'Wendy',\n",
       " 'Xuan',\n",
       " ',',\n",
       " 'Wendy',\n",
       " 'Wendee',\n",
       " 'Jake',\n",
       " 'Xuan',\n",
       " ',',\n",
       " 'Wendy',\n",
       " 'Ivory',\n",
       " 'ICKES',\n",
       " ',',\n",
       " 'WILLIAM',\n",
       " 'JR',\n",
       " 'Ickes',\n",
       " ',',\n",
       " 'William',\n",
       " 'Ickes',\n",
       " ',',\n",
       " 'Jr.',\n",
       " ',',\n",
       " 'William',\n",
       " 'Ickes',\n",
       " 'Ickes',\n",
       " ',',\n",
       " 'Jr.',\n",
       " ',',\n",
       " 'William',\n",
       " 'ICKES',\n",
       " ',',\n",
       " 'WILLIAM',\n",
       " 'JR',\n",
       " 'Catherine',\n",
       " 'Kong',\n",
       " 'Kong',\n",
       " ',',\n",
       " 'Catherine',\n",
       " 'Kong',\n",
       " 'Kong',\n",
       " ',',\n",
       " 'ALEC^07/25/60^YERGER',\n",
       " 'GIPSON',\n",
       " ',',\n",
       " 'ALEC',\n",
       " 'Alec',\n",
       " 'Gipson',\n",
       " ',',\n",
       " 'ALEXANDER^01/31/61^VELASQUEZ',\n",
       " 'GIPSON',\n",
       " ',',\n",
       " 'ALEXANDER',\n",
       " 'Gipson',\n",
       " 'Gipson',\n",
       " 'Gipson',\n",
       " 'Ervin',\n",
       " 'Ervin',\n",
       " 'Ervin',\n",
       " ',',\n",
       " 'Quindarrius^01/06/79^MEDINA',\n",
       " 'Quindarrius',\n",
       " 'Quin',\n",
       " 'Quindarrius',\n",
       " 'Jasso',\n",
       " ',',\n",
       " 'Stephen',\n",
       " 'Jacobs',\n",
       " 'Jacobs',\n",
       " 'Jacobs',\n",
       " 'Stephen',\n",
       " 'Jasso',\n",
       " 'Hendrickson',\n",
       " ',',\n",
       " 'Ora',\n",
       " 'Hendrickson',\n",
       " 'Hendrickson',\n",
       " ',',\n",
       " 'Ora',\n",
       " ',',\n",
       " 'IRENE^11/01/85^CONNER',\n",
       " 'ZASTROW',\n",
       " ',',\n",
       " 'IRENE',\n",
       " 'Irene',\n",
       " 'Zastrow',\n",
       " 'ZASTROW',\n",
       " ',',\n",
       " 'IRENE',\n",
       " 'Irene',\n",
       " 'Zastrow',\n",
       " 'Irene',\n",
       " 'Zastrow',\n",
       " 'ZASTROW',\n",
       " ',',\n",
       " 'IRENE',\n",
       " 'Zastrow',\n",
       " 'Zastrow',\n",
       " 'Doty',\n",
       " 'Haden',\n",
       " 'Doty',\n",
       " 'Haas',\n",
       " 'DOTY',\n",
       " ',',\n",
       " 'Haden',\n",
       " 'Peter',\n",
       " 'Joshi',\n",
       " 'Peter',\n",
       " 'Joshi',\n",
       " 'Joshi',\n",
       " 'Joshi',\n",
       " 'Peter',\n",
       " 'Joshi',\n",
       " 'Joshi',\n",
       " 'Joshi',\n",
       " 'Joshi',\n",
       " 'Peter',\n",
       " 'Joshi',\n",
       " 'Peter',\n",
       " 'Joshi',\n",
       " 'Peter',\n",
       " 'Joshi',\n",
       " 'Joshi',\n",
       " 'Peter',\n",
       " 'Joshi',\n",
       " 'Joshi',\n",
       " 'Peter',\n",
       " 'Joshi',\n",
       " 'Peter',\n",
       " 'Joshi',\n",
       " 'Patrick',\n",
       " 'Joshi',\n",
       " 'Peter',\n",
       " 'Joshi',\n",
       " 'JOSHI',\n",
       " ',',\n",
       " 'PETER',\n",
       " 'Peter',\n",
       " 'Joshi',\n",
       " 'Joshi',\n",
       " 'HOLCOMB',\n",
       " ',',\n",
       " 'DENNIS',\n",
       " 'HOLCOMB',\n",
       " ',',\n",
       " 'DENNIS',\n",
       " 'Dennis',\n",
       " 'Holcomb',\n",
       " 'Dennis',\n",
       " 'HOLCOMB',\n",
       " ',',\n",
       " 'DENNIS',\n",
       " 'Dennis',\n",
       " 'Holcomb',\n",
       " 'castro',\n",
       " 'alaniz',\n",
       " 'castro',\n",
       " 'Carpenter',\n",
       " 'Michael',\n",
       " 'Ogrady',\n",
       " 'Michael',\n",
       " 'Ogrady',\n",
       " 'Michael',\n",
       " 'Ogrady',\n",
       " 'Michael',\n",
       " 'Ogrady',\n",
       " 'OGRADY',\n",
       " ',',\n",
       " 'MICHAEL',\n",
       " 'Ogrady',\n",
       " ',',\n",
       " 'MICHAEL^12/29/96^AVILA',\n",
       " 'Ogrady',\n",
       " 'Ogrady',\n",
       " 'Ogrady',\n",
       " 'Eunice',\n",
       " 'Eunice',\n",
       " 'Urbach',\n",
       " 'Ogrady',\n",
       " 'Ogrady',\n",
       " 'Ogrady',\n",
       " ',',\n",
       " 'MICHAEL^03/16/98^OCASIO',\n",
       " 'Esposito',\n",
       " ',',\n",
       " 'Perla',\n",
       " 'Esposito',\n",
       " ',',\n",
       " 'Perla',\n",
       " 'ESPOSITO',\n",
       " ',',\n",
       " 'PERLA',\n",
       " 'Perla',\n",
       " 'Esposito',\n",
       " 'Rhodes',\n",
       " 'Perla',\n",
       " 'Esposito',\n",
       " 'Esposito',\n",
       " ',',\n",
       " 'Perla',\n",
       " 'Xuereb',\n",
       " 'Xian',\n",
       " 'Xuereb',\n",
       " 'Xian',\n",
       " 'Xuereb',\n",
       " 'BIRD',\n",
       " ',',\n",
       " 'TERRI',\n",
       " 'Bird',\n",
       " ',',\n",
       " 'Terri',\n",
       " 'Bird',\n",
       " 'Bird',\n",
       " 'Bird',\n",
       " ',',\n",
       " 'Terri',\n",
       " 'BIRD',\n",
       " ',',\n",
       " 'TERRI',\n",
       " 'Bird',\n",
       " 'Bird',\n",
       " 'BIRD',\n",
       " ',',\n",
       " 'TERRI',\n",
       " 'Steven',\n",
       " 'Bird',\n",
       " 'Bird',\n",
       " ',',\n",
       " 'Terri',\n",
       " 'Terri',\n",
       " 'Bird',\n",
       " 'Bird',\n",
       " ',',\n",
       " 'Terri',\n",
       " 'Terri',\n",
       " 'Bird',\n",
       " 'Quijano',\n",
       " 'Quijanno',\n",
       " 'Quijano',\n",
       " ',',\n",
       " 'Donny',\n",
       " 'Quijano',\n",
       " 'EHLERS',\n",
       " ',',\n",
       " 'ULYSSES',\n",
       " 'Ehlers',\n",
       " 'Ehlers',\n",
       " 'Ulysses',\n",
       " 'Ehlers',\n",
       " 'Ehlers',\n",
       " 'Ehlers',\n",
       " 'Ehlers',\n",
       " ',',\n",
       " 'Ulysses',\n",
       " 'Ehlers',\n",
       " 'Frank',\n",
       " 'Keatering',\n",
       " 'Keating',\n",
       " ',',\n",
       " 'Frank',\n",
       " 'D',\n",
       " 'KEATING',\n",
       " ',',\n",
       " 'FRANK',\n",
       " 'Keating',\n",
       " 'Keating',\n",
       " ',',\n",
       " 'Frank',\n",
       " 'Nick',\n",
       " 'Hall',\n",
       " 'Hall',\n",
       " ',',\n",
       " 'NICK^01/31/95^PENN',\n",
       " 'Nick',\n",
       " 'Hall',\n",
       " 'Hall',\n",
       " 'HALL',\n",
       " ',',\n",
       " 'NICK',\n",
       " 'Nick',\n",
       " 'Hall',\n",
       " 'Nick',\n",
       " 'Nick',\n",
       " 'Nick',\n",
       " 'HALL',\n",
       " ',',\n",
       " 'NICK',\n",
       " 'Nick',\n",
       " 'Nick',\n",
       " 'Nick',\n",
       " 'Nick',\n",
       " 'Nick',\n",
       " 'Nick',\n",
       " 'Nick',\n",
       " 'QUINLEY',\n",
       " ',',\n",
       " 'CORA',\n",
       " 'Cora',\n",
       " 'Quinley',\n",
       " 'QUINLEY',\n",
       " ',',\n",
       " 'CORA',\n",
       " 'Cora',\n",
       " 'Quinley',\n",
       " 'Quinley',\n",
       " 'Quinley',\n",
       " 'Quinley',\n",
       " 'Quinley',\n",
       " 'Quinley',\n",
       " 'Quinley',\n",
       " 'Shepherd',\n",
       " 'Ernestine',\n",
       " 'Teresa',\n",
       " 'Berry',\n",
       " 'Shepherd',\n",
       " 'SHEPHERD',\n",
       " ',',\n",
       " 'AARON',\n",
       " 'W',\n",
       " 'Ernestine',\n",
       " 'Teresa',\n",
       " 'Berry',\n",
       " 'Ernestine',\n",
       " 'Teresa',\n",
       " 'Berry',\n",
       " 'Nathan',\n",
       " 'Vieira',\n",
       " 'Vieira',\n",
       " ',',\n",
       " 'Nathan',\n",
       " 'Vieira',\n",
       " ',',\n",
       " 'Nathan',\n",
       " 'Nathan',\n",
       " 'Vieira',\n",
       " 'Vieira',\n",
       " 'Vieira',\n",
       " 'Vieira',\n",
       " ',',\n",
       " 'Nathan',\n",
       " 'B.',\n",
       " 'Vieira',\n",
       " ',',\n",
       " 'Nathan',\n",
       " 'Xayarath',\n",
       " ',',\n",
       " 'Nancy',\n",
       " 'Xayarath',\n",
       " 'Xayarath',\n",
       " 'Xayarath',\n",
       " ',',\n",
       " 'Nancy',\n",
       " 'Xayarath',\n",
       " ',',\n",
       " 'Nancy',\n",
       " 'XAYARATH',\n",
       " ',',\n",
       " 'KEEGAN',\n",
       " 'Vicente',\n",
       " ',',\n",
       " 'Kadeem',\n",
       " 'Kadeem',\n",
       " 'Vicente',\n",
       " 'Vicente',\n",
       " ',',\n",
       " 'Kadeem',\n",
       " 'Vicente',\n",
       " ',',\n",
       " 'Kadeem',\n",
       " 'Kadeem',\n",
       " 'Vicente',\n",
       " 'Vicente',\n",
       " ',',\n",
       " 'Kadeem',\n",
       " 'Vicente',\n",
       " ',',\n",
       " 'Kadeem',\n",
       " 'Vicente',\n",
       " 'Vicente',\n",
       " ',',\n",
       " 'Kadeem',\n",
       " 'F.',\n",
       " 'Vicente',\n",
       " 'Vicente',\n",
       " ',',\n",
       " 'Kadeem',\n",
       " 'F.',\n",
       " 'Vicente',\n",
       " 'VICENTE',\n",
       " ',',\n",
       " 'KADEEM',\n",
       " 'FRANCIS',\n",
       " 'FREDERICK',\n",
       " 'JEFFERSON',\n",
       " 'FREDERICK',\n",
       " 'JEFFERSON',\n",
       " 'VUONG',\n",
       " ',',\n",
       " 'XOCHILT',\n",
       " 'R',\n",
       " 'Xochilt',\n",
       " 'Vuong',\n",
       " 'Xochilt',\n",
       " 'Vuong',\n",
       " 'Vuong',\n",
       " 'Wood',\n",
       " ',',\n",
       " 'Cade',\n",
       " 'Wood',\n",
       " 'Wood',\n",
       " 'Wood',\n",
       " 'Wood',\n",
       " ',',\n",
       " 'Cade',\n",
       " 'WOOD',\n",
       " ',',\n",
       " 'CADE',\n",
       " 'H',\n",
       " 'CADE',\n",
       " 'WOOD',\n",
       " 'WOOD',\n",
       " ',',\n",
       " 'CADE',\n",
       " 'Bobbie',\n",
       " 'Albert',\n",
       " 'Albert',\n",
       " 'Albert',\n",
       " 'Bobbie',\n",
       " 'Bobbie',\n",
       " 'Albert',\n",
       " ',',\n",
       " 'Bobbie',\n",
       " 'Bobbie',\n",
       " 'Albert',\n",
       " 'Albert',\n",
       " 'Albert',\n",
       " ',',\n",
       " 'Bobbie',\n",
       " 'Rhodes',\n",
       " ',',\n",
       " 'Yajaira',\n",
       " 'Rhodes',\n",
       " ',',\n",
       " 'Yajaira',\n",
       " 'Rhodes',\n",
       " ',',\n",
       " 'Yajaira',\n",
       " 'RHODES',\n",
       " ',',\n",
       " 'YAJAIRA',\n",
       " 'LINDSAY',\n",
       " ',',\n",
       " 'Anastasha',\n",
       " 'Lindsay',\n",
       " 'Lindsay',\n",
       " 'Lindsay',\n",
       " 'Lindsay',\n",
       " 'Lindsay',\n",
       " 'Anastasha',\n",
       " 'Lindsay',\n",
       " ',',\n",
       " 'Anastasha',\n",
       " 'Lindsay',\n",
       " 'Goins',\n",
       " ',',\n",
       " 'Jacob',\n",
       " 'Goins',\n",
       " 'Goins',\n",
       " 'Goins',\n",
       " 'Jacob',\n",
       " 'Goins',\n",
       " 'ROBISON',\n",
       " ',',\n",
       " 'NEIL',\n",
       " 'Robison',\n",
       " 'Neil',\n",
       " 'Robison',\n",
       " 'Robison',\n",
       " 'ROBISON',\n",
       " ',',\n",
       " 'NEIL',\n",
       " 'Neil',\n",
       " 'Travis',\n",
       " ',',\n",
       " 'Peggy',\n",
       " 'Peggy',\n",
       " 'Amelia',\n",
       " 'Travis',\n",
       " 'Amelia',\n",
       " 'Travis',\n",
       " 'TRAVIS',\n",
       " ',',\n",
       " 'PEGGY',\n",
       " ',',\n",
       " 'Amelia^01/10/59^KRIEGER',\n",
       " ',',\n",
       " 'AMELIA^04/08/59^PHILLIPS',\n",
       " ',',\n",
       " 'AMELIA^05/29/59^STEELE',\n",
       " 'Kimbrough',\n",
       " ',',\n",
       " 'AMELIA^08/09/59^STEELE',\n",
       " 'KIMBROUGH',\n",
       " ',',\n",
       " 'AMELIA',\n",
       " 'Mills',\n",
       " 'Urquiza',\n",
       " 'Mills',\n",
       " 'Mills',\n",
       " 'Urquiza',\n",
       " 'Urquiza',\n",
       " 'Percy',\n",
       " 'Carrillo',\n",
       " 'Carrillo',\n",
       " ',',\n",
       " 'Percy',\n",
       " 'Urquiza',\n",
       " 'Wilson',\n",
       " ',',\n",
       " 'Gabriel',\n",
       " 'Wilson',\n",
       " ',',\n",
       " 'Gabriel',\n",
       " 'Wilson',\n",
       " ',',\n",
       " 'Gabriel',\n",
       " 'Gabriel',\n",
       " 'Wilson',\n",
       " 'Wilson',\n",
       " ',',\n",
       " 'Gabriel',\n",
       " 'Griggs',\n",
       " 'WILSON',\n",
       " ',',\n",
       " 'GABRIEL',\n",
       " 'Gibbs',\n",
       " 'Gibbs',\n",
       " 'Louise',\n",
       " 'Iles',\n",
       " 'Iles',\n",
       " 'Iles',\n",
       " 'Iles',\n",
       " 'Iles',\n",
       " 'JOINER',\n",
       " ',',\n",
       " 'CAITLIN',\n",
       " 'JOINER',\n",
       " ',',\n",
       " 'CAITLIN',\n",
       " 'Joiner',\n",
       " ',',\n",
       " 'Caitlin',\n",
       " ',',\n",
       " 'FRANK^08/30/76^JABLONSKI',\n",
       " 'VAUGHN',\n",
       " ',',\n",
       " 'FRANK',\n",
       " 'Vaughn',\n",
       " ',',\n",
       " 'Frank',\n",
       " 'R.',\n",
       " 'Haley',\n",
       " 'Vaughn',\n",
       " 'Vaughn',\n",
       " 'Haley',\n",
       " 'Vaughn',\n",
       " 'Vaughn',\n",
       " ',',\n",
       " 'Frank',\n",
       " 'Vaughn',\n",
       " 'Xian',\n",
       " ',',\n",
       " 'Brooklyn',\n",
       " 'Xian',\n",
       " ',',\n",
       " 'Brooklyn',\n",
       " ',',\n",
       " 'BROOKLYN^12/19/65^QUAGLIA',\n",
       " 'Xian',\n",
       " 'XIAN',\n",
       " ',',\n",
       " 'BROOKLYN',\n",
       " 'RUTLEDGE',\n",
       " ',',\n",
       " 'XAVIER',\n",
       " 'W.',\n",
       " 'RUTLEDGE',\n",
       " ',',\n",
       " 'XAVIER',\n",
       " ...]"
      ]
     },
     "execution_count": 139,
     "metadata": {},
     "output_type": "execute_result"
    }
   ],
   "source": [
    "PatientList"
   ]
  },
  {
   "cell_type": "code",
   "execution_count": 145,
   "metadata": {},
   "outputs": [
    {
     "data": {
      "text/plain": [
       "470"
      ]
     },
     "execution_count": 145,
     "metadata": {},
     "output_type": "execute_result"
    }
   ],
   "source": [
    "UniqPatientList = list(set(PatientList))\n",
    "len(UniqPatientList)"
   ]
  },
  {
   "cell_type": "code",
   "execution_count": 149,
   "metadata": {},
   "outputs": [],
   "source": [
    "SplitUniqPatientList = [i.split('^') for i in UniqPatientList]"
   ]
  },
  {
   "cell_type": "code",
   "execution_count": 160,
   "metadata": {},
   "outputs": [
    {
     "name": "stdout",
     "output_type": "stream",
     "text": [
      "['AMELIA', '08/09/59', 'STEELE']\n",
      "['AMELIA', '05/29/59', 'STEELE']\n",
      "['France', '10/01/82', 'ELROD']\n",
      "['IRENE', '11/01/85', 'CONNER']\n",
      "['Xavier', '04/15/69', 'NOLAN']\n",
      "['NANCY', '11/02/97', 'OAKLEY']\n",
      "['ALEXANDER', '01/31/61', 'VELASQUEZ']\n",
      "['AMELIA', '04/08/59', 'PHILLIPS']\n",
      "['PATRICIA', '02/04/78', 'DUNN']\n",
      "['BROOK', '9/18/2094', 'XAYSANA']\n",
      "['Quindarrius', '01/06/79', 'MEDINA']\n",
      "['MARY', '10/22/2069', 'VOLLMER']\n",
      "['JEAN', '08/04/77', 'VALENTIN']\n",
      "['MICHAEL', '12/29/96', 'AVILA']\n",
      "['Xavier', '10/24/70', 'OCASIO']\n",
      "['VINCENT', '08/11/97', 'TRAN']\n",
      "['FRANK', '08/30/76', 'JABLONSKI']\n",
      "['Amelia', '01/10/59', 'KRIEGER']\n",
      "['OLIVIA', '04/15/80', 'URIBE']\n",
      "['Robert', '11/12/74', 'HANEY']\n",
      "['NICK', '01/31/95', 'PENN']\n",
      "['CHARLES', '8/13/2079', 'SORENSEN']\n",
      "['RUATH', '09/25/90', 'GILMORE']\n",
      "['Kathy', '07/20/71', 'KATZ']\n",
      "['Olivia', '01/14/80', 'WOODRUFF']\n",
      "['Nancy', '09/20/92', 'NOE']\n",
      "['Ramona', '07/03/75', 'KEELER']\n",
      "['BROOKLYN', '12/19/65', 'QUAGLIA']\n",
      "['MICHAEL', '03/16/98', 'OCASIO']\n",
      "['BETTY', '08/31/85', 'GUEVARA']\n",
      "['ALEC', '07/25/60', 'YERGER']\n",
      "['FRANCE', '07/25/85', 'ELROD']\n",
      "['COREY', '01/29/65', 'TOMLIN']\n",
      "['MATIAS', '04/24/95', 'XIE']\n"
     ]
    }
   ],
   "source": [
    "for i in SplitUniqPatientList:\n",
    "    if len(i) != 1:\n",
    "        print(i)"
   ]
  },
  {
   "cell_type": "code",
   "execution_count": 165,
   "metadata": {},
   "outputs": [
    {
     "name": "stdout",
     "output_type": "stream",
     "text": [
      "THIS IS *** Olivier\n",
      "V.\n",
      "THIS IS *** LINDSAY\n",
      "THIS IS *** OLIVIER\n",
      "THIS IS *** Catherine\n",
      "THIS IS *** Quijano\n",
      "D\n",
      "THIS IS *** HALL\n",
      "THIS IS *** Massey\n",
      "THIS IS *** Espinal\n",
      "THIS IS *** MATTISON\n",
      "haha AMELIA^08/09/59^STEELE\n",
      "THIS IS *** Robison\n",
      "haha AMELIA^05/29/59^STEELE\n",
      "THIS IS *** Michelle\n",
      "THIS IS *** Stephen\n",
      "THIS IS *** XOCHILT\n",
      "THIS IS *** Ishidas\n",
      "THIS IS *** Vanessa\n",
      "THIS IS *** Iorio\n",
      "THIS IS *** VANESSA\n",
      "THIS IS *** VIGIL\n",
      "W\n",
      "THIS IS *** Eugene\n",
      "THIS IS *** Ted\n",
      "THIS IS *** DANNY\n",
      "haha France^10/01/82^ELROD\n",
      "haha IRENE^11/01/85^CONNER\n",
      "THIS IS *** Dalley\n",
      "THIS IS *** Carpenter\n",
      "THIS IS *** Terri\n",
      "THIS IS *** Dietz\n",
      "THIS IS *** OLIVIA\n",
      "THIS IS *** Kurtis\n",
      "THIS IS *** Rivers\n",
      "THIS IS *** Xuereb\n",
      "THIS IS *** BRADY\n",
      "THIS IS *** Oreilly\n",
      "THIS IS *** KEEGAN\n",
      "THIS IS *** Daley\n",
      "THIS IS *** FAY\n",
      "THIS IS *** Vieira\n",
      "THIS IS *** Quindarrius\n",
      "THIS IS *** Cortez\n",
      "THIS IS *** BETTY\n",
      "THIS IS *** ROBERT\n",
      "THIS IS *** Adler\n",
      "THIS IS *** Vollmer\n",
      "THIS IS *** DALILA\n",
      "Do\n",
      "THIS IS *** FRANKIE\n",
      "THIS IS *** DENNIS\n",
      "C\n",
      "THIS IS *** Klein\n",
      "THIS IS *** Powell\n",
      "THIS IS *** Rico\n",
      "THIS IS *** Danny\n",
      "THIS IS *** LILLY\n",
      "THIS IS *** ISHIDA\n",
      "THIS IS *** WOOD\n",
      "L\n",
      "THIS IS *** Pamela\n",
      "THIS IS *** Sandra\n",
      "THIS IS *** ursula\n",
      "THIS IS *** Kadeem\n",
      "THIS IS *** Amelia\n",
      "THIS IS *** WHITAKER\n",
      "THIS IS *** Christopher\n",
      "THIS IS *** Qazi\n",
      "THIS IS *** Yin\n",
      "THIS IS *** Louis\n",
      "THIS IS *** FRANK\n",
      "THIS IS *** ALAINA\n",
      "R.\n",
      "THIS IS *** PATRICIA\n",
      "THIS IS *** GABRIEL\n",
      "haha Xavier^04/15/69^NOLAN\n",
      "THIS IS *** RICO\n",
      "THIS IS *** Benitez\n",
      "THIS IS *** Xiang\n",
      "THIS IS *** SUSIE\n",
      "THIS IS *** XIAN\n",
      "THIS IS *** nora\n",
      "THIS IS *** Uriah\n",
      "THIS IS *** IRENE\n",
      "THIS IS *** Vigil\n",
      "THIS IS *** Griggs\n",
      "THIS IS *** Verna\n",
      "THIS IS *** OLIVER\n",
      "THIS IS *** VUONG\n",
      "THIS IS *** Carrillo\n",
      "THIS IS *** Christine\n",
      "haha NANCY^11/02/97^OAKLEY\n",
      "THIS IS *** ALEC\n",
      "THIS IS *** Theresa\n",
      "THIS IS *** WENDY\n",
      "THIS IS *** Vicente\n",
      "JR\n",
      "V\n",
      "THIS IS *** XAVIER\n",
      "THIS IS *** Rebecca\n",
      "THIS IS *** RILEY\n",
      "THIS IS *** Lindsay\n",
      "THIS IS *** Urquiza\n",
      "THIS IS *** MATIAS\n",
      "THIS IS *** Nielson\n",
      "THIS IS *** FRANCIS\n",
      "THIS IS *** OWEN\n",
      "haha ALEXANDER^01/31/61^VELASQUEZ\n",
      "THIS IS *** Cora\n",
      "THIS IS *** William\n",
      "THIS IS *** VERNA\n",
      "THIS IS *** BIRD\n",
      "THIS IS *** DOSS\n",
      "THIS IS *** Edgar\n",
      "THIS IS *** Ferrara\n",
      "THIS IS *** HOLDEN\n",
      "THIS IS *** Brooklyn\n",
      "THIS IS *** ULYSSES\n",
      "THIS IS *** IORIO\n",
      "THIS IS *** XAYARATH\n",
      "THIS IS *** Ervin\n",
      "THIS IS *** YASSEEN\n",
      "THIS IS *** Rojas\n",
      "THIS IS *** Mills\n",
      "THIS IS *** ORDONEZ\n",
      "THIS IS *** Wendee\n",
      "THIS IS *** Cade\n",
      "THIS IS *** Isenberg\n",
      "THIS IS *** TRAVIS\n",
      "THIS IS *** Susie\n",
      "THIS IS *** Andy\n",
      "THIS IS *** GILLIS\n",
      "THIS IS *** Xue\n",
      "THIS IS *** OSBORNE\n",
      "THIS IS *** Michael\n",
      "THIS IS *** Travis\n",
      "THIS IS *** Joshi\n",
      "THIS IS *** EHLERS\n",
      "THIS IS *** Peggy\n",
      "THIS IS *** Ulysses\n",
      "THIS IS *** Gillis\n",
      "THIS IS *** Olivia\n",
      "THIS IS *** Brady\n",
      "THIS IS *** Ellen\n",
      "THIS IS *** Xander\n",
      "THIS IS *** Ishida&#8217;s\n",
      "O\n",
      "THIS IS *** Oneill\n",
      "F\n",
      "THIS IS *** Nick\n",
      "THIS IS *** Yerger\n",
      "THIS IS *** Doss\n",
      "THIS IS *** Inez\n",
      "THIS IS *** Zacharias\n",
      "THIS IS *** Golden\n",
      "F.\n",
      "THIS IS *** Greenwood\n",
      "THIS IS *** Urania\n",
      "haha AMELIA^04/08/59^PHILLIPS\n",
      "THIS IS *** Ambrose\n",
      "haha PATRICIA^02/04/78^DUNN\n",
      "THIS IS *** Ulyses\n",
      "THIS IS *** Keating\n",
      "THIS IS *** Ortega\n",
      "THIS IS *** CADE\n",
      "THIS IS *** Doty\n",
      "THIS IS *** XANDER\n",
      "haha BROOK^9/18/2094^XAYSANA\n",
      "W.\n",
      "THIS IS *** Geiger\n",
      "THIS IS *** Mattison\n",
      "THIS IS *** Kimbrough\n",
      "THIS IS *** Tejeda\n",
      "THIS IS *** Iles\n",
      "THIS IS *** Noonan\n",
      "THIS IS *** Jack\n",
      "haha Quindarrius^01/06/79^MEDINA\n",
      "THIS IS *** Vuong\n",
      "THIS IS *** Wade\n",
      "THIS IS *** WALTER\n",
      "THIS IS *** DOTY\n",
      "THIS IS *** JOSHI\n",
      "haha MARY^10/22/2069^VOLLMER\n",
      "THIS IS *** Otto\n",
      "THIS IS *** Goins\n",
      "THIS IS *** Nathan\n",
      "THIS IS *** ISENBERG\n",
      "THIS IS *** LAW\n",
      "THIS IS *** Jacks\n",
      "THIS IS *** Keatering\n",
      "THIS IS *** Kathy\n",
      "THIS IS *** Matias\n",
      "THIS IS *** KARSTEN\n",
      "THIS IS *** NORA\n",
      "THIS IS *** DALEY\n",
      "THIS IS *** AUSTIN\n",
      "THIS IS *** Friedman\n",
      "THIS IS *** RIVERS\n",
      "THIS IS *** Nancy\n",
      "THIS IS *** Justice\n",
      "THIS IS *** Frantz\n",
      ",\n",
      "THIS IS *** Yasseen\n",
      "THIS IS *** RHODES\n",
      "THIS IS *** HAYNES\n",
      "THIS IS *** Asher\n",
      "THIS IS *** KLEIN\n",
      "THIS IS *** Yajaira\n",
      "C.\n",
      "haha JEAN^08/04/77^VALENTIN\n",
      "THIS IS *** Eunice\n",
      "THIS IS *** WILLIAM\n",
      "THIS IS *** Esposito\n",
      "DO\n",
      "THIS IS *** Duvall\n",
      "THIS IS *** Caitlin\n",
      "THIS IS *** Berry\n",
      "haha MICHAEL^12/29/96^AVILA\n",
      "THIS IS *** Corey\n",
      "haha Xavier^10/24/70^OCASIO\n",
      "THIS IS *** Quinley\n",
      "THIS IS *** Alice\n",
      "THIS IS *** Archie\n",
      "THIS IS *** Kong\n",
      "J\n",
      "THIS IS *** Yeo\n",
      "LE\n",
      "THIS IS *** HOLCOMB\n",
      "THIS IS *** LOUIS\n",
      "THIS IS *** Jorgenson\n",
      "THIS IS *** Zastrow\n",
      "THIS IS *** Irene\n",
      "THIS IS *** KADEEM\n",
      "THIS IS *** CHRISTINE\n",
      "haha VINCENT^08/11/97^TRAN\n",
      "haha FRANK^08/30/76^JABLONSKI\n",
      "THIS IS *** SHEPHERD\n",
      "THIS IS *** Franchesca\n",
      "THIS IS *** RUTLEDGE\n",
      "THIS IS *** WADE\n",
      "THIS IS *** YAMILEX\n",
      "THIS IS *** Nicole\n",
      "THIS IS *** Urquhart\n",
      "THIS IS *** GIPSON\n",
      "THIS IS *** Innis\n",
      "THIS IS *** Qiu\n",
      "THIS IS *** Gibbs\n",
      "THIS IS *** CORA\n",
      "THIS IS *** Xayarath\n",
      "THIS IS *** Fay\n",
      "THIS IS *** TERRI\n",
      "THIS IS *** Nguyen\n",
      "THIS IS *** KATHY\n",
      "THIS IS *** Veda\n",
      "THIS IS *** French\n",
      "THIS IS *** Vaughn\n",
      "THIS IS *** Gipson\n",
      "THIS IS *** Xian\n",
      "THIS IS *** Xavier\n",
      "THIS IS *** QIN\n",
      "THIS IS *** Nathaniel\n",
      "R\n",
      "haha Amelia^01/10/59^KRIEGER\n",
      "haha OLIVIA^04/15/80^URIBE\n",
      "H\n",
      "THIS IS *** Claire\n",
      "THIS IS *** LAUREN\n",
      "THIS IS *** KEATING\n",
      "THIS IS *** RUTH\n",
      "THIS IS *** YERGER\n",
      "THIS IS *** FREDERICK\n",
      "THIS IS *** Holcomb\n",
      "B.\n",
      "THIS IS *** GLENN\n",
      "THIS IS *** GOLDBERG\n",
      "THIS IS *** AARON\n",
      "THIS IS *** KIMBROUGH\n",
      "THIS IS *** Wendy\n",
      "THIS IS *** Ruth\n",
      "THIS IS *** Joiner\n",
      "THIS IS *** Nora\n",
      "THIS IS *** JACKS\n",
      "haha Robert^11/12/74^HANEY\n",
      "THIS IS *** IVORY\n",
      "THIS IS *** DIETZ\n",
      "THIS IS *** VICENTE\n",
      "'s\n",
      "THIS IS *** PEGGY\n",
      "THIS IS *** AMELIA\n",
      "THIS IS *** Schwartz\n",
      "THIS IS *** Gabriel\n",
      "THIS IS *** DUVALL\n",
      "Le\n",
      "THIS IS *** Urbach\n",
      "THIS IS *** Lilly\n",
      "haha NICK^01/31/95^PENN\n",
      "THIS IS *** PABLO\n",
      "haha CHARLES^8/13/2079^SORENSEN\n",
      "THIS IS *** Quijanno\n",
      "THIS IS *** RAMONA\n",
      "THIS IS *** Law\n",
      "THIS IS *** ANTHONY\n",
      "THIS IS *** Holden\n",
      "THIS IS *** Wilson\n",
      "THIS IS *** Jasso\n",
      "THIS IS *** TANYA\n",
      "THIS IS *** Ray\n",
      "THIS IS *** Yamilex\n",
      "THIS IS *** Carleson\n",
      "haha RUATH^09/25/90^GILMORE\n",
      "THIS IS *** Haden\n",
      "THIS IS *** Jr.\n",
      "THIS IS *** Frank\n",
      "THIS IS *** LARRY\n",
      "THIS IS *** NOONAN\n",
      "THIS IS *** Xochilt\n",
      "THIS IS *** Beltran\n",
      "THIS IS *** Lauren\n",
      "haha Kathy^07/20/71^KATZ\n",
      "THIS IS *** Ordonez\n",
      "THIS IS *** ALEXANDER\n",
      "THIS IS *** Neil\n",
      "THIS IS *** Ramona\n",
      "THIS IS *** Peter\n",
      "THIS IS *** JOEL\n",
      "THIS IS *** URANIA\n",
      "THIS IS *** Kraft\n",
      "THIS IS *** ROBISON\n",
      "THIS IS *** Goldberg\n",
      "THIS IS *** castro\n",
      "THIS IS *** Vincent\n",
      "THIS IS *** ZASTROW\n",
      "THIS IS *** Tanya\n",
      "THIS IS *** ELLEN\n",
      "haha Olivia^01/14/80^WOODRUFF\n",
      "THIS IS *** Walter\n",
      "THIS IS *** GREENWOOD\n",
      "haha Nancy^09/20/92^NOE\n",
      "THIS IS *** Ogrady\n",
      "THIS IS *** Louise\n",
      "THIS IS *** Brendon\n",
      "THIS IS *** ASHER\n",
      "THIS IS *** JEAN\n",
      "THIS IS *** Haley\n",
      "THIS IS *** Karsten\n",
      "THIS IS *** Quevedo\n",
      "THIS IS *** URIBE\n",
      "THIS IS *** Haas\n",
      "THIS IS *** LORI\n",
      "THIS IS *** Uribe\n",
      "THIS IS *** Imogene\n",
      "THIS IS *** PERLA\n",
      "T\n",
      "THIS IS *** ELLENMRN\n",
      "THIS IS *** HOOPER\n",
      "THIS IS *** SCHWARTZ\n",
      "THIS IS *** Teresa\n",
      "THIS IS *** Bobbie\n",
      "THIS IS *** MICHAEL\n",
      "THIS IS *** Andrew\n",
      "THIS IS *** Xuan\n",
      "THIS IS *** Ishida\n",
      "THIS IS *** Larry\n",
      "THIS IS *** Austin\n",
      "THIS IS *** Lockwood\n",
      "THIS IS *** Nicholas\n",
      "THIS IS *** Jacobs\n",
      "THIS IS *** OGRADY\n",
      "THIS IS *** FERRARA\n",
      "THIS IS *** Quin\n",
      "THIS IS *** BROOKLYN\n",
      "THIS IS *** Ehlers\n",
      "THIS IS *** Yee\n",
      "THIS IS *** Joshy\n",
      "THIS IS *** JOINER\n",
      "THIS IS *** RAY\n",
      "THIS IS *** alaniz\n",
      "THIS IS *** Francisco\n",
      "THIS IS *** Brook\n",
      "THIS IS *** Patrick\n",
      "THIS IS *** Jacob\n",
      "THIS IS *** Jain\n",
      "THIS IS *** Joel\n",
      "THIS IS *** BENITEZ\n",
      "THIS IS *** Helen\n",
      "THIS IS *** VAUGHN\n",
      "THIS IS *** Ostrander\n",
      "THIS IS *** Ruath\n",
      "THIS IS *** Ivory\n",
      "THIS IS *** Lori\n",
      "THIS IS *** Villatoro\n",
      "THIS IS *** CAITLIN\n",
      "THIS IS *** MARY\n",
      "THIS IS *** ADAIR\n",
      "THIS IS *** Owen\n",
      "THIS IS *** Anastasha\n",
      "THIS IS *** CANTU\n",
      "THIS IS *** Wonda\n",
      "haha Ramona^07/03/75^KEELER\n",
      "THIS IS *** YEO\n",
      "THIS IS *** Anthony\n",
      "haha BROOKLYN^12/19/65^QUAGLIA\n",
      "THIS IS *** Bird\n",
      "THIS IS *** NIELSON\n",
      "THIS IS *** GEIGER\n",
      "THIS IS *** Sparks\n",
      "THIS IS *** BROOK\n",
      "THIS IS *** Jay\n",
      "THIS IS *** Younger\n",
      "THIS IS *** ESPOSITO\n",
      "THIS IS *** Betty\n",
      "THIS IS *** VINCENT\n",
      "THIS IS *** QUINLEY\n",
      "THIS IS *** Conner\n",
      "THIS IS *** HELEN\n",
      "THIS IS *** ROJAS\n",
      "THIS IS *** JAIN\n",
      "THIS IS *** Patricia\n",
      "THIS IS *** ICKES\n",
      "THIS IS *** Victoria\n",
      "THIS IS *** Wood\n",
      "haha MICHAEL^03/16/98^OCASIO\n",
      "THIS IS *** PETER\n",
      "THIS IS *** Dalila\n",
      "THIS IS *** Ernestine\n",
      "THIS IS *** Bryan\n",
      "THIS IS *** Alaina\n",
      "THIS IS *** Alec\n",
      "THIS IS *** Steven\n",
      "THIS IS *** Rutledge\n",
      "THIS IS *** Dennis\n",
      "THIS IS *** Ickes\n",
      "THIS IS *** NEIL\n",
      "THIS IS *** Carlson\n",
      "THIS IS *** NATHAN\n",
      "THIS IS *** Hooper\n",
      "haha BETTY^08/31/85^GUEVARA\n",
      "THIS IS *** FRANCE\n",
      "haha ALEC^07/25/60^YERGER\n",
      "THIS IS *** Donny\n",
      "haha FRANCE^07/25/85^ELROD\n",
      "THIS IS *** Riley\n",
      "haha COREY^01/29/65^TOMLIN\n",
      "THIS IS *** Osborne\n",
      "THIS IS *** JEFFERSON\n",
      "THIS IS *** Hall\n",
      "THIS IS *** MASSEY\n",
      "THIS IS *** Percy\n",
      "THIS IS *** Perla\n",
      "THIS IS *** Albert\n",
      "THIS IS *** Whitaker\n",
      "THIS IS *** Cantu\n",
      "THIS IS *** Hendrickson\n",
      "THIS IS *** Qin\n",
      "THIS IS *** Ursula\n",
      "THIS IS *** Rhodes\n",
      "THIS IS *** Oliver\n",
      "haha MATIAS^04/24/95^XIE\n",
      "THIS IS *** Adair\n",
      "THIS IS *** Gregory\n",
      "THIS IS *** YAJAIRA\n",
      "THIS IS *** Shepherd\n",
      "THIS IS *** Haynes\n",
      "THIS IS *** Ora\n",
      "THIS IS *** Grace\n",
      "THIS IS *** Jake\n",
      "THIS IS *** WILSON\n",
      "THIS IS *** Trudy\n",
      "THIS IS *** NICK\n"
     ]
    }
   ],
   "source": [
    "for i in UniqPatientList:\n",
    "    if len(i)<=2:\n",
    "        print(i)\n",
    "    elif (len(i.split('^'))!=1):\n",
    "        print(\"haha %s\"%i)\n",
    "    else:\n",
    "        print(\"THIS IS *** %s\"%i)"
   ]
  },
  {
   "cell_type": "code",
   "execution_count": 170,
   "metadata": {},
   "outputs": [],
   "source": [
    "NotSplitedPatientList=[]\n",
    "for i in UniqPatientList:\n",
    "    if len(i.split('^'))!=1:\n",
    "        NotSplitedPatientList.append(i)\n",
    "#NotSplitedPatientList"
   ]
  },
  {
   "cell_type": "code",
   "execution_count": 200,
   "metadata": {},
   "outputs": [],
   "source": [
    "with open(\"/home/salman/NeuroNER-master/data/Speedi/last_names_unambig.txt\") as f:\n",
    "    FamiliList=f.read().split()\n",
    "with open(\"/home/salman/NeuroNER-master/data/Speedi/family_names.txt\") as f:\n",
    "    FullFamiliList=f.read().split()"
   ]
  },
  {
   "cell_type": "code",
   "execution_count": 202,
   "metadata": {},
   "outputs": [
    {
     "name": "stdout",
     "output_type": "stream",
     "text": [
      "LINDSAY\n",
      "HALL\n",
      "VIGIL\n",
      "Carpenter\n",
      "Rivers\n",
      "BRADY\n",
      "ROBERT\n",
      "Adler\n",
      "Do\n",
      "DENNIS\n",
      "WOOD\n",
      "WHITAKER\n",
      "Yin\n",
      "Louis\n",
      "FRANK\n",
      "PATRICIA\n",
      "nora\n",
      "Vigil\n",
      "Christine\n",
      "RILEY\n",
      "Lindsay\n",
      "FRANCIS\n",
      "Cora\n",
      "William\n",
      "BIRD\n",
      "DOSS\n",
      "Ferrara\n",
      "Brooklyn\n",
      "Mills\n",
      "TRAVIS\n",
      "GILLIS\n",
      "Michael\n",
      "Travis\n",
      "EHLERS\n",
      "Gillis\n",
      "Brady\n",
      "Ellen\n",
      "Nick\n",
      "Doss\n",
      "Golden\n",
      "Iles\n",
      "Jack\n",
      "Wade\n",
      "WALTER\n",
      "Otto\n",
      "LAW\n",
      "Jacks\n",
      "NORA\n",
      "AUSTIN\n",
      "Friedman\n",
      "RIVERS\n",
      "Nancy\n",
      "Justice\n",
      "RHODES\n",
      "WILLIAM\n",
      "DO\n",
      "Berry\n",
      "Alice\n",
      "LE\n",
      "LOUIS\n",
      "CHRISTINE\n",
      "SHEPHERD\n",
      "WADE\n",
      "Gibbs\n",
      "CORA\n",
      "French\n",
      "RUTH\n",
      "FREDERICK\n",
      "GLENN\n",
      "GOLDBERG\n",
      "Ruth\n",
      "Joiner\n",
      "Nora\n",
      "JACKS\n",
      "IVORY\n",
      "Schwartz\n",
      "Le\n",
      "Urbach\n",
      "Law\n",
      "ANTHONY\n",
      "Wilson\n",
      "Ray\n",
      "Frank\n",
      "LARRY\n",
      "ALEXANDER\n",
      "Kraft\n",
      "Goldberg\n",
      "Vincent\n",
      "ELLEN\n",
      "Walter\n",
      "JEAN\n",
      "Haley\n",
      "Haas\n",
      "PERLA\n",
      "SCHWARTZ\n",
      "MICHAEL\n",
      "Andrew\n",
      "Larry\n",
      "Austin\n",
      "Jacobs\n",
      "FERRARA\n",
      "Quin\n",
      "BROOKLYN\n",
      "Ehlers\n",
      "JOINER\n",
      "RAY\n",
      "Francisco\n",
      "Brook\n",
      "Patrick\n",
      "Jacob\n",
      "Jain\n",
      "Ivory\n",
      "MARY\n",
      "Anthony\n",
      "Bird\n",
      "Sparks\n",
      "BROOK\n",
      "Jay\n",
      "Younger\n",
      "VINCENT\n",
      "Conner\n",
      "JAIN\n",
      "Patricia\n",
      "Victoria\n",
      "Wood\n",
      "Steven\n",
      "Dennis\n",
      "FRANCE\n",
      "Riley\n",
      "JEFFERSON\n",
      "Hall\n",
      "Percy\n",
      "Perla\n",
      "Albert\n",
      "Whitaker\n",
      "Rhodes\n",
      "Shepherd\n",
      "Ora\n",
      "Grace\n",
      "WILSON\n",
      "NICK\n"
     ]
    }
   ],
   "source": [
    "for i in UniqPatientList:\n",
    "    if ((len(i)>2 or i in ['DO','Do','LE','Le']) and (i not in NotSplitedPatientList) and (i not in ['Jr.','JR.'])):\n",
    "        if ((i.upper() not in FamiliList) and (i.upper() in FullFamiliList)):\n",
    "            print(i)"
   ]
  },
  {
   "cell_type": "code",
   "execution_count": 203,
   "metadata": {},
   "outputs": [
    {
     "name": "stdout",
     "output_type": "stream",
     "text": [
      "XOCHILT\n",
      "Ishidas\n",
      "Vanessa\n",
      "VANESSA\n",
      "Ted\n",
      "Xuereb\n",
      "Quindarrius\n",
      "DALILA\n",
      "Pamela\n",
      "ursula\n",
      "Kadeem\n",
      "Amelia\n",
      "ALAINA\n",
      "SUSIE\n",
      "XIAN\n",
      "Uriah\n",
      "ALEC\n",
      "Rebecca\n",
      "ULYSSES\n",
      "XAYARATH\n",
      "YASSEEN\n",
      "Wendee\n",
      "Susie\n",
      "Peggy\n",
      "Ulysses\n",
      "Ishida&#8217;s\n",
      "Inez\n",
      "Urania\n",
      "Ulyses\n",
      "Keatering\n",
      "Kathy\n",
      "Yasseen\n",
      "Yajaira\n",
      "Caitlin\n",
      "KADEEM\n",
      "Franchesca\n",
      "YAMILEX\n",
      "Xayarath\n",
      "KATHY\n",
      "Veda\n",
      "Xian\n",
      "PEGGY\n",
      "AMELIA\n",
      "Quijanno\n",
      "RAMONA\n",
      "TANYA\n",
      "Yamilex\n",
      "Carleson\n",
      "Xochilt\n",
      "Ramona\n",
      "URANIA\n",
      "Tanya\n",
      "Imogene\n",
      "ELLENMRN\n",
      "Bobbie\n",
      "Xuan\n",
      "Joshy\n",
      "Ruath\n",
      "CAITLIN\n",
      "Anastasha\n",
      "Wonda\n",
      "Dalila\n",
      "Ernestine\n",
      "Alaina\n",
      "Alec\n",
      "Donny\n",
      "Ursula\n",
      "YAJAIRA\n",
      "Jake\n",
      "Trudy\n"
     ]
    }
   ],
   "source": [
    "for i in UniqPatientList:\n",
    "    if ((len(i)>2 or i in ['DO','Do','LE','Le']) and (i not in NotSplitedPatientList) and (i not in ['Jr.','JR.'])):\n",
    "        if (i.upper() not in FullFamiliList):\n",
    "            print(i)"
   ]
  },
  {
   "cell_type": "code",
   "execution_count": 205,
   "metadata": {},
   "outputs": [
    {
     "name": "stdout",
     "output_type": "stream",
     "text": [
      "Olivier\n",
      "OLIVIER\n",
      "Catherine\n",
      "Quijano\n",
      "Massey\n",
      "Espinal\n",
      "MATTISON\n",
      "Robison\n",
      "Michelle\n",
      "Stephen\n",
      "Iorio\n",
      "Eugene\n",
      "DANNY\n",
      "Dalley\n",
      "Terri\n",
      "Dietz\n",
      "OLIVIA\n",
      "Kurtis\n",
      "Oreilly\n",
      "KEEGAN\n",
      "Daley\n",
      "FAY\n",
      "Vieira\n",
      "Cortez\n",
      "BETTY\n",
      "Vollmer\n",
      "FRANKIE\n",
      "Klein\n",
      "Powell\n",
      "Rico\n",
      "Danny\n",
      "LILLY\n",
      "ISHIDA\n",
      "Sandra\n",
      "Christopher\n",
      "Qazi\n",
      "GABRIEL\n",
      "RICO\n",
      "Benitez\n",
      "Xiang\n",
      "IRENE\n",
      "Griggs\n",
      "Verna\n",
      "OLIVER\n",
      "VUONG\n",
      "Carrillo\n",
      "Theresa\n",
      "WENDY\n",
      "Vicente\n",
      "XAVIER\n",
      "Urquiza\n",
      "MATIAS\n",
      "Nielson\n",
      "OWEN\n",
      "VERNA\n",
      "Edgar\n",
      "HOLDEN\n",
      "IORIO\n",
      "Ervin\n",
      "Rojas\n",
      "ORDONEZ\n",
      "Cade\n",
      "Isenberg\n",
      "Andy\n",
      "Xue\n",
      "OSBORNE\n",
      "Joshi\n",
      "Olivia\n",
      "Xander\n",
      "Oneill\n",
      "Yerger\n",
      "Zacharias\n",
      "Greenwood\n",
      "Ambrose\n",
      "Keating\n",
      "Ortega\n",
      "CADE\n",
      "Doty\n",
      "XANDER\n",
      "Geiger\n",
      "Mattison\n",
      "Kimbrough\n",
      "Tejeda\n",
      "Noonan\n",
      "Vuong\n",
      "DOTY\n",
      "JOSHI\n",
      "Goins\n",
      "Nathan\n",
      "ISENBERG\n",
      "Matias\n",
      "KARSTEN\n",
      "DALEY\n",
      "Frantz\n",
      "HAYNES\n",
      "Asher\n",
      "KLEIN\n",
      "Eunice\n",
      "Esposito\n",
      "Duvall\n",
      "Corey\n",
      "Quinley\n",
      "Archie\n",
      "Kong\n",
      "Yeo\n",
      "HOLCOMB\n",
      "Jorgenson\n",
      "Zastrow\n",
      "Irene\n",
      "RUTLEDGE\n",
      "Nicole\n",
      "Urquhart\n",
      "GIPSON\n",
      "Innis\n",
      "Qiu\n",
      "Fay\n",
      "TERRI\n",
      "Nguyen\n",
      "Vaughn\n",
      "Gipson\n",
      "Xavier\n",
      "QIN\n",
      "Nathaniel\n",
      "Claire\n",
      "LAUREN\n",
      "KEATING\n",
      "YERGER\n",
      "Holcomb\n",
      "AARON\n",
      "KIMBROUGH\n",
      "Wendy\n",
      "DIETZ\n",
      "VICENTE\n",
      "Gabriel\n",
      "DUVALL\n",
      "Lilly\n",
      "PABLO\n",
      "Holden\n",
      "Jasso\n",
      "Haden\n",
      "NOONAN\n",
      "Beltran\n",
      "Lauren\n",
      "Ordonez\n",
      "Neil\n",
      "Peter\n",
      "JOEL\n",
      "ROBISON\n",
      "castro\n",
      "ZASTROW\n",
      "GREENWOOD\n",
      "Ogrady\n",
      "Louise\n",
      "Brendon\n",
      "ASHER\n",
      "Karsten\n",
      "Quevedo\n",
      "URIBE\n",
      "LORI\n",
      "Uribe\n",
      "HOOPER\n",
      "Teresa\n",
      "Ishida\n",
      "Lockwood\n",
      "Nicholas\n",
      "OGRADY\n",
      "Yee\n",
      "alaniz\n",
      "Joel\n",
      "BENITEZ\n",
      "Helen\n",
      "VAUGHN\n",
      "Ostrander\n",
      "Lori\n",
      "Villatoro\n",
      "ADAIR\n",
      "Owen\n",
      "CANTU\n",
      "YEO\n",
      "NIELSON\n",
      "GEIGER\n",
      "ESPOSITO\n",
      "Betty\n",
      "QUINLEY\n",
      "HELEN\n",
      "ROJAS\n",
      "ICKES\n",
      "PETER\n",
      "Bryan\n",
      "Rutledge\n",
      "Ickes\n",
      "NEIL\n",
      "Carlson\n",
      "NATHAN\n",
      "Hooper\n",
      "Osborne\n",
      "MASSEY\n",
      "Cantu\n",
      "Hendrickson\n",
      "Qin\n",
      "Oliver\n",
      "Adair\n",
      "Gregory\n",
      "Haynes\n"
     ]
    }
   ],
   "source": [
    "for i in UniqPatientList:\n",
    "    if ((len(i)>2 or i in ['DO','Do','LE','Le']) and (i not in NotSplitedPatientList) and (i not in ['Jr.','JR.'])):\n",
    "        if (i.upper() in FamiliList):\n",
    "            print(i)"
   ]
  },
  {
   "cell_type": "code",
   "execution_count": null,
   "metadata": {},
   "outputs": [],
   "source": [
    "Ishida&#8217;s"
   ]
  },
  {
   "cell_type": "code",
   "execution_count": 186,
   "metadata": {},
   "outputs": [
    {
     "data": {
      "text/plain": [
       "'OLIVIER'"
      ]
     },
     "execution_count": 186,
     "metadata": {},
     "output_type": "execute_result"
    }
   ],
   "source": [
    "i.upper()"
   ]
  },
  {
   "cell_type": "code",
   "execution_count": 197,
   "metadata": {},
   "outputs": [
    {
     "name": "stdout",
     "output_type": "stream",
     "text": [
      "2161 227-01 16 20 B-DATE\n",
      "- 227-01 20 21 I-DATE\n",
      "08 227-01 21 23 I-DATE\n",
      "- 227-01 23 24 I-DATE\n",
      "09 227-01 24 26 I-DATE\n",
      "Patient 227-01 28 35 O\n",
      "Name 227-01 36 40 O\n",
      ": 227-01 40 41 O\n",
      "LE 227-01 42 44 B-PATIENT\n",
      ", 227-01 44 45 I-PATIENT\n",
      "WILLIAM 227-01 46 53 I-PATIENT\n",
      "; 227-01 53 54 O\n",
      "MRN 227-01 56 59 O\n",
      ": 227-01 59 60 O\n",
      "0540099 227-01 61 68 B-MEDICALRECORD\n",
      "2 227-03 126 127 B-MEDICALRECORD\n",
      "- 227-03 127 128 I-MEDICALRECORD\n",
      "359 227-03 128 131 I-MEDICALRECORD\n",
      "RE 227-03 135 137 O\n",
      ": 227-03 137 138 O\n",
      "William 227-03 140 147 B-PATIENT\n",
      "Le 227-03 148 150 I-PATIENT\n",
      "MRN 227-03 152 155 O\n",
      ": 227-03 155 156 O\n",
      "054 227-03 158 161 B-MEDICALRECORD\n",
      "- 227-03 161 162 I-MEDICALRECORD\n",
      "00 227-03 162 164 I-MEDICALRECORD\n",
      "- 227-03 164 165 I-MEDICALRECORD\n",
      "99 227-03 165 167 I-MEDICALRECORD\n",
      "Dear 227-03 209 213 O\n",
      "Dr 227-03 214 216 O\n",
      "Chavez 227-03 217 223 B-DOCTOR\n",
      ", 227-03 223 224 O\n",
      "Mr. 227-03 228 231 O\n",
      "William 227-03 232 239 B-PATIENT\n",
      "Le 227-03 240 242 I-PATIENT\n",
      "return 227-03 243 249 O\n",
      "for 227-03 250 253 O\n",
      "follow 227-03 254 260 O\n",
      "- 227-03 260 261 O\n",
      "up 227-03 261 263 O\n",
      "in 227-03 264 266 O\n",
      "the 227-03 267 270 O\n",
      "Neurology 227-03 271 280 O\n",
      "clinic 227-03 281 287 O\n",
      "today 227-03 288 293 O\n",
      ". 227-03 293 294 O\n",
      "Record 395-01 3 9 O\n",
      "date 395-01 10 14 O\n",
      ": 395-01 14 15 O\n",
      "2104 395-01 16 20 B-DATE\n",
      "- 395-01 20 21 I-DATE\n",
      "11 395-01 21 23 I-DATE\n",
      "- 395-01 23 24 I-DATE\n",
      "10 395-01 24 26 I-DATE\n",
      "SLHC 395-01 49 53 B-HOSPITAL\n",
      "EMERGENCY 395-01 54 63 O\n",
      "DEPT 395-01 64 68 O\n",
      "VISIT 395-01 69 74 O\n",
      "DO 395-01 79 81 B-PATIENT\n",
      ", 395-01 81 82 I-PATIENT\n",
      "TANYA 395-01 82 87 I-PATIENT\n",
      "V 395-01 88 89 I-PATIENT\n",
      "639 395-01 92 95 B-MEDICALRECORD\n",
      "- 395-01 95 96 I-MEDICALRECORD\n",
      "25 395-01 96 98 I-MEDICALRECORD\n",
      "- 395-01 98 99 I-MEDICALRECORD\n",
      "21 395-01 99 101 I-MEDICALRECORD\n",
      "- 395-01 101 102 I-MEDICALRECORD\n",
      "7 395-01 102 103 I-MEDICALRECORD\n",
      "VISIT 395-01 123 128 O\n",
      "DATE 395-01 129 133 O\n",
      ": 395-01 133 134 O\n",
      "11/10/04 395-01 135 143 B-DATE\n",
      "2106 395-02 16 20 B-DATE\n",
      "- 395-02 20 21 I-DATE\n",
      "05 395-02 21 23 I-DATE\n",
      "- 395-02 23 24 I-DATE\n",
      "02 395-02 24 26 I-DATE\n",
      "SLHC 395-02 49 53 B-HOSPITAL\n",
      "EMERGENCY 395-02 54 63 O\n",
      "DEPT 395-02 64 68 O\n",
      "VISIT 395-02 69 74 O\n",
      "DO 395-02 79 81 B-PATIENT\n",
      ", 395-02 81 82 I-PATIENT\n",
      "TANYA 395-02 82 87 I-PATIENT\n",
      "V 395-02 88 89 I-PATIENT\n",
      "639 395-02 92 95 B-MEDICALRECORD\n",
      "- 395-02 95 96 I-MEDICALRECORD\n",
      "25 395-02 96 98 I-MEDICALRECORD\n",
      "- 395-02 98 99 I-MEDICALRECORD\n",
      "21 395-02 99 101 I-MEDICALRECORD\n",
      "- 395-02 101 102 I-MEDICALRECORD\n",
      "7 395-02 102 103 I-MEDICALRECORD\n",
      "VISIT 395-02 123 128 O\n",
      "DATE 395-02 129 133 O\n",
      ": 395-02 133 134 O\n",
      "05/02/06 395-02 135 143 B-DATE\n",
      "Tanya 395-03 123 128 B-PATIENT\n",
      "Do 395-03 129 131 I-PATIENT\n",
      "MRN 395-03 132 135 O\n",
      ": 395-03 135 136 O\n",
      "Tanya 395-03 2070 2075 B-PATIENT\n",
      "Do 395-03 2076 2078 I-PATIENT\n",
      "MRN 395-03 2079 2082 O\n",
      ": 395-03 2082 2083 O\n",
      "Do 395-04 68 70 B-PATIENT\n",
      ", 395-04 70 71 I-PATIENT\n",
      "Tanya 395-04 72 77 I-PATIENT\n",
      "MRN 395-04 78 81 O\n",
      ": 395-04 81 82 O\n",
      "Ms. 395-04 736 739 O\n",
      "Do 395-04 740 742 B-PATIENT\n",
      "has 395-04 743 746 O\n",
      "had 395-04 747 750 O\n",
      "two 395-04 751 754 O\n",
      "prior 395-04 755 760 O\n",
      "hospitalizations 395-04 761 777 O\n",
      "for 395-04 778 781 O\n",
      "cellulitis 395-04 782 792 O\n",
      "/ 395-04 792 793 O\n",
      "osteomyelitis 395-04 793 806 O\n",
      ". 395-04 806 807 O\n",
      "DO 395-05 42 44 B-PATIENT\n",
      ", 395-05 44 45 I-PATIENT\n",
      "TANYA 395-05 46 51 I-PATIENT\n",
      "V. 395-05 52 54 I-PATIENT\n",
      "; 395-05 54 55 O\n",
      "MRN 395-05 57 60 O\n",
      ": 395-05 60 61 O\n",
      "6051778 395-05 62 69 B-MEDICALRECORD\n",
      "Dictated 395-05 70 78 O\n",
      "on 395-05 79 81 O\n",
      ": 395-05 81 82 O\n",
      "09/08/2109 395-05 83 93 B-DATE\n",
      "by 395-05 94 96 O\n",
      "TIBOR 395-05 97 102 B-DOCTOR\n",
      "OQUINN 395-05 103 109 I-DOCTOR\n",
      ", 395-05 109 110 O\n",
      "M.D. 395-05 111 115 O\n",
      "Ms. 395-05 120 123 O\n",
      "Tanya 395-05 124 129 B-PATIENT\n",
      "V. 395-05 130 132 I-PATIENT\n",
      "Do 395-05 133 135 I-PATIENT\n",
      "is 395-05 136 138 O\n",
      "an 395-05 139 141 O\n",
      "81-year 395-05 142 149 B-AGE\n",
      "- 395-05 149 150 O\n",
      "old 395-05 150 153 O\n",
      "right 395-05 154 159 O\n",
      "- 395-05 159 160 O\n",
      "handed 395-05 160 166 O\n",
      "white 395-05 167 172 O\n",
      "woman 395-05 173 178 O\n",
      "with 395-05 179 183 O\n",
      "seropositive 395-05 184 196 O\n",
      ", 395-05 196 197 O\n",
      "nodular 395-05 198 205 O\n",
      ", 395-05 205 206 O\n",
      "erosive 395-05 207 214 O\n",
      "rheumatoid 395-05 215 225 O\n",
      "arthritis 395-05 226 235 O\n",
      "that 395-05 236 240 O\n",
      "was 395-05 241 244 O\n",
      "diagnosed 395-05 245 254 O\n",
      "in 395-05 255 257 O\n",
      "2060 395-05 258 262 B-DATE\n",
      ", 395-05 262 263 O\n",
      "type 395-05 264 268 O\n",
      "II 395-05 269 271 O\n",
      "noninsulin 395-05 272 282 O\n",
      "- 395-05 282 283 O\n",
      "dependent 395-05 283 292 O\n",
      "diabetes 395-05 293 301 O\n",
      "mellitus 395-05 302 310 O\n",
      ", 395-05 310 311 O\n",
      "vascular 395-05 312 320 O\n",
      "insufficiency 395-05 321 334 O\n",
      "in 395-05 335 337 O\n",
      "her 395-05 338 341 O\n",
      "legs 395-05 342 346 O\n",
      ", 395-05 346 347 O\n",
      "peripheral 395-05 348 358 O\n",
      "neuropathy 395-05 359 369 O\n",
      ", 395-05 369 370 O\n",
      "hearing 395-05 371 378 O\n",
      "loss 395-05 379 383 O\n",
      "in 395-05 384 386 O\n",
      "her 395-05 387 390 O\n",
      "left 395-05 391 395 O\n",
      "ear 395-05 396 399 O\n",
      ", 395-05 399 400 O\n",
      "right 395-05 401 406 O\n",
      "total 395-05 407 412 O\n",
      "hip 395-05 413 416 O\n",
      "arthroplasty 395-05 417 429 O\n",
      "surgery 395-05 430 437 O\n",
      "in 395-05 438 440 O\n",
      "2070 395-05 441 445 B-DATE\n",
      ", 395-05 445 446 O\n",
      "right 395-05 447 452 O\n",
      "total 395-05 453 458 O\n",
      "knee 395-05 459 463 O\n",
      "arthroplasty 395-05 464 476 O\n",
      "surgery 395-05 477 484 O\n",
      "in 395-05 485 487 O\n",
      "2081 395-05 488 492 B-DATE\n",
      ", 395-05 492 493 O\n",
      "left 395-05 494 498 O\n",
      "total 395-05 499 504 O\n",
      "knee 395-05 505 509 O\n",
      "arthroplasty 395-05 510 522 O\n",
      "surgery 395-05 523 530 O\n",
      "in 395-05 531 533 O\n",
      "2082 395-05 534 538 B-DATE\n",
      ", 395-05 538 539 O\n",
      "a 395-05 540 541 O\n",
      "lumbar 395-05 542 548 O\n",
      "fusion 395-05 549 555 O\n",
      "performed 395-05 556 565 O\n",
      "in 395-05 566 568 O\n",
      "2098 395-05 569 573 B-DATE\n",
      "and 395-05 574 577 O\n",
      "again 395-05 578 583 O\n",
      "in 395-05 584 586 O\n",
      "2099 395-05 587 591 B-DATE\n",
      ", 395-05 591 592 O\n",
      "a 395-05 593 594 O\n",
      "sigmoid 395-05 595 602 O\n",
      "colonic 395-05 603 610 O\n",
      "resection 395-05 611 620 O\n",
      "in 395-05 621 623 O\n",
      "2103 395-05 624 628 B-DATE\n",
      ", 395-05 628 629 O\n",
      "cellulitis 395-05 630 640 O\n",
      "and 395-05 641 644 O\n",
      "osteomyelitis 395-05 645 658 O\n",
      "involving 395-05 659 668 O\n",
      "her 395-05 669 672 O\n",
      "right 395-05 673 678 O\n",
      "foot 395-05 679 683 O\n",
      "in 395-05 684 686 O\n",
      "October 395-05 687 694 B-DATE\n",
      "2104 395-05 695 699 I-DATE\n",
      ", 395-05 699 700 O\n",
      "a 395-05 701 702 O\n",
      "cataract 395-05 703 711 O\n",
      "extracted 395-05 712 721 O\n",
      "from 395-05 722 726 O\n",
      "her 395-05 727 730 O\n",
      "right 395-05 731 736 O\n",
      "eye 395-05 737 740 O\n",
      "in 395-05 741 743 O\n",
      "2102 395-05 744 748 B-DATE\n",
      ", 395-05 748 749 O\n",
      "a 395-05 750 751 O\n",
      "cataract 395-05 752 760 O\n",
      "extracted 395-05 761 770 O\n",
      "from 395-05 771 775 O\n",
      "her 395-05 776 779 O\n",
      "left 395-05 780 784 O\n",
      "eye 395-05 785 788 O\n",
      "in 395-05 789 791 O\n",
      "2103 395-05 792 796 B-DATE\n",
      ", 395-05 796 797 O\n",
      "a 395-05 798 799 O\n",
      "transient 395-05 800 809 O\n",
      "ischemic 395-05 810 818 O\n",
      "attack 395-05 819 825 O\n",
      "in 395-05 826 828 O\n",
      "June 395-05 829 833 B-DATE\n",
      "2106 395-05 834 838 I-DATE\n",
      ", 395-05 838 839 O\n",
      "and 395-05 840 843 O\n",
      "cellulitis 395-05 844 854 O\n",
      "involving 395-05 855 864 O\n",
      "her 395-05 865 868 O\n",
      "legs 395-05 869 873 O\n",
      "in 395-05 874 876 O\n",
      "2107 395-05 877 881 B-DATE\n",
      ". 395-05 881 882 O\n",
      "Ms. 395-05 968 971 O\n",
      "Do 395-05 972 974 B-PATIENT\n",
      "has 395-05 975 978 O\n",
      "continued 395-05 979 988 O\n",
      "to 395-05 989 991 O\n",
      "take 395-05 992 996 O\n",
      "prednisone 395-05 997 1007 O\n",
      "5 395-05 1008 1009 O\n",
      "mg 395-05 1010 1012 O\n",
      "by 395-05 1013 1015 O\n",
      "mouth 395-05 1016 1021 O\n",
      "twice 395-05 1022 1027 O\n",
      "daily 395-05 1028 1033 O\n",
      ", 395-05 1033 1034 O\n",
      "Ms. 395-05 4242 4245 O\n",
      "Do 395-05 4246 4248 B-PATIENT\n",
      "was 395-05 4249 4252 O\n",
      "a 395-05 4253 4254 O\n",
      "very 395-05 4255 4259 O\n",
      "pleasant 395-05 4260 4268 O\n",
      ", 395-05 4268 4269 O\n",
      "cushingoid 395-05 4270 4280 O\n",
      "- 395-05 4280 4281 O\n",
      "appearing 395-05 4281 4290 O\n",
      "white 395-05 4291 4296 O\n",
      "woman 395-05 4297 4302 O\n",
      "in 395-05 4303 4305 O\n",
      "some 395-05 4306 4310 O\n",
      "distress 395-05 4311 4319 O\n",
      "due 395-05 4320 4323 O\n",
      "to 395-05 4324 4326 O\n",
      "pain 395-05 4327 4331 O\n",
      ". 395-05 4331 4332 O\n",
      "I 395-05 5824 5825 O\n",
      "reviewed 395-05 5826 5834 O\n",
      "the 395-05 5835 5838 O\n",
      "laboratory 395-05 5839 5849 O\n",
      "data 395-05 5850 5854 O\n",
      "in 395-05 5855 5857 O\n",
      "the 395-05 5858 5861 O\n",
      "LMR 395-05 5862 5865 O\n",
      "with 395-05 5866 5870 O\n",
      "Ms. 395-05 5871 5874 O\n",
      "Do 395-05 5875 5877 B-PATIENT\n",
      ". 395-05 5877 5878 O\n",
      "I 395-05 7229 7230 O\n",
      "discussed 395-05 7231 7240 O\n",
      "my 395-05 7241 7243 O\n",
      "impressions 395-05 7244 7255 O\n",
      "with 395-05 7256 7260 O\n",
      "Ms. 395-05 7261 7264 O\n",
      "Do 395-05 7265 7267 B-PATIENT\n",
      ". 395-05 7267 7268 O\n",
      "Ms. 395-05 7700 7703 O\n",
      "Do 395-05 7704 7706 B-PATIENT\n",
      "will 395-05 7707 7711 O\n",
      "return 395-05 7712 7718 O\n",
      "to 395-05 7719 7721 O\n",
      "see 395-05 7722 7725 O\n",
      "me 395-05 7726 7728 O\n",
      "on 395-05 7729 7731 O\n",
      "December 395-05 7732 7740 B-DATE\n",
      "11 395-05 7741 7743 I-DATE\n",
      ", 395-05 7743 7744 I-DATE\n",
      "2109 395-05 7745 7749 I-DATE\n",
      ", 395-05 7749 7750 O\n",
      "at 395-05 7751 7753 O\n",
      "9:40 395-05 7754 7758 O\n",
      "a.m. 395-05 7759 7763 O\n",
      ", 395-05 7763 7764 O\n",
      "so 395-05 7765 7767 O\n",
      "that 395-05 7768 7772 O\n",
      "I 395-05 7773 7774 O\n",
      "may 395-05 7775 7778 O\n",
      "assess 395-05 7779 7785 O\n",
      "her 395-05 7786 7789 O\n",
      "response 395-05 7790 7798 O\n",
      "to 395-05 7799 7801 O\n",
      "continued 395-05 7802 7811 O\n",
      "treatment 395-05 7812 7821 O\n",
      "and 395-05 7822 7825 O\n",
      "make 395-05 7826 7830 O\n",
      "any 395-05 7831 7834 O\n",
      "necessary 395-05 7835 7844 O\n",
      "changes 395-05 7845 7852 O\n",
      "in 395-05 7853 7855 O\n",
      "therapy 395-05 7856 7863 O\n",
      ". 395-05 7863 7864 O\n",
      "Ms. 395-05 8018 8021 O\n",
      "Tanya 395-05 8022 8027 B-PATIENT\n",
      "V. 395-05 8028 8030 I-PATIENT\n",
      "Do 395-05 8031 8033 I-PATIENT\n",
      "74 395-05 8035 8037 B-STREET\n",
      "Weymouth 395-05 8038 8046 I-STREET\n",
      "Dr 395-05 8047 8049 I-STREET\n",
      "Chongging 395-05 8051 8060 B-CITY\n",
      ", 395-05 8060 8061 O\n",
      "MO 395-05 8062 8064 B-STATE\n",
      "82179 395-05 8066 8071 B-ZIP\n",
      "DD:09/08/2109 395-05 8075 8088 B-DATE\n",
      "DT:09/08/2109 395-05 8090 8103 B-DATE\n"
     ]
    }
   ],
   "source": [
    "for i in Original:\n",
    "    for j in i.split('\\n'):\n",
    "        if j.split()[0] in ['Do','DO','LE','Le']:\n",
    "            print(i)"
   ]
  },
  {
   "cell_type": "code",
   "execution_count": 195,
   "metadata": {},
   "outputs": [
    {
     "data": {
      "text/plain": [
       "'- 222-03 23 24 I-DATE'"
      ]
     },
     "execution_count": 195,
     "metadata": {},
     "output_type": "execute_result"
    }
   ],
   "source": [
    "Original[6].split('\\n')[6]"
   ]
  },
  {
   "cell_type": "code",
   "execution_count": null,
   "metadata": {},
   "outputs": [],
   "source": [
    "Num5List=[]\n",
    "for i,Par in enumerate(filedata):\n",
    "    PAT=1\n",
    "    SPar=Par.split('\\n')\n",
    "    for j,__ in enumerate(SPar):\n",
    "        if SPar[j][-7:]==\"PATIENT\":\n",
    "            if SPar[j-1][-7:]==\"PATIENT\" and j!=0:\n",
    "                PAT=PAT+1\n",
    "            if(PAT==5):\n",
    "                if [i,j+2,SPar[j].split(' ')[1]] not in Num5List:\n",
    "                    Num5List.append([i,j,SPar[j].split(' ')[1]])\n",
    "        else:\n",
    "            PAT=1"
   ]
  },
  {
   "cell_type": "code",
   "execution_count": 266,
   "metadata": {},
   "outputs": [],
   "source": [
    "NewNum5List=[]\n",
    "NewNum4List=[]\n",
    "NewNum3List=[]\n",
    "NewNum2List=[]\n",
    "NewNum1List=[]\n",
    "for i, Par in enumerate(filedata):\n",
    "    PAT=1\n",
    "    SPar=Par.split('\\n')\n",
    "    for j,__ in enumerate(SPar):\n",
    "        if (SPar[j][-7:]==\"PATIENT\" and (j==0 or SPar[j-1][-7:]!=\"PATIENT\")):\n",
    "            if len(SPar)>j+4:\n",
    "                if (SPar[j+1][-7:]==\"PATIENT\" and SPar[j+2][-7:]==\"PATIENT\" and \\\n",
    "                SPar[j+3][-7:]==\"PATIENT\" and SPar[j+4][-7:]==\"PATIENT\"):\n",
    "                    NewNum5List.append([i,j,SPar[j].split(' ')[1]])\n",
    "                elif (SPar[j+1][-7:]==\"PATIENT\" and SPar[j+2][-7:]==\"PATIENT\" and \\\n",
    "                SPar[j+3][-7:]==\"PATIENT\"):\n",
    "                    NewNum4List.append([i,j,SPar[j].split(' ')[1]])\n",
    "                elif (SPar[j+1][-7:]==\"PATIENT\" and SPar[j+2][-7:]==\"PATIENT\"):\n",
    "                    NewNum3List.append([i,j,SPar[j].split(' ')[1]])\n",
    "                elif (SPar[j+1][-7:]==\"PATIENT\"):\n",
    "                    NewNum2List.append([i,j,SPar[j].split(' ')[1]])\n",
    "                else:\n",
    "                    NewNum1List.append([i,j,SPar[j].split(' ')[1]])\n",
    "            elif len(SPar)>j+3:\n",
    "                if (SPar[j+1][-7:]==\"PATIENT\" and SPar[j+2][-7:]==\"PATIENT\" and \\\n",
    "                SPar[j+3][-7:]==\"PATIENT\"):\n",
    "                    NewNum4List.append([i,j,SPar[j].split(' ')[1]])\n",
    "                elif (SPar[j+1][-7:]==\"PATIENT\" and SPar[j+2][-7:]==\"PATIENT\"):\n",
    "                    NewNum3List.append([i,j,SPar[j].split(' ')[1]])\n",
    "                elif (SPar[j+1][-7:]==\"PATIENT\"):\n",
    "                    NewNum2List.append([i,j,SPar[j].split(' ')[1]])\n",
    "                else:\n",
    "                    NewNum1List.append([i,j,SPar[j].split(' ')[1]])\n",
    "            elif len(SPar)>j+2:\n",
    "                if (SPar[j+1][-7:]==\"PATIENT\" and SPar[j+2][-7:]==\"PATIENT\"):\n",
    "                    NewNum3List.append([i,j,SPar[j].split(' ')[1]])\n",
    "                elif (SPar[j+1][-7:]==\"PATIENT\"):\n",
    "                    NewNum2List.append([i,j,SPar[j].split(' ')[1]])\n",
    "                else:\n",
    "                    NewNum1List.append([i,j,SPar[j].split(' ')[1]])\n",
    "            elif len(SPar)>j+1:\n",
    "                if (SPar[j+1][-7:]==\"PATIENT\"):\n",
    "                    NewNum2List.append([i,j,SPar[j].split(' ')[1]])\n",
    "                else:\n",
    "                    NewNum1List.append([i,j,SPar[j].split(' ')[1]])\n",
    "            else:\n",
    "                try:\n",
    "                    NewNum1List.append([i,j,SPar[j].split(' ')[1]])\n",
    "                except IndexError:\n",
    "                    NewNum1List.append([i,j,SPar[j].split(' ')])"
   ]
  },
  {
   "cell_type": "code",
   "execution_count": 541,
   "metadata": {},
   "outputs": [],
   "source": [
    "NewNum5List=[]\n",
    "NewNum4List=[]\n",
    "NewNum3List=[]\n",
    "NewNum2List=[]\n",
    "NewNum1List=[]\n",
    "NewNumMList=[]\n",
    "for i, Par in enumerate(filedata):\n",
    "    PAT=1\n",
    "    SPar=Par.split('\\n')\n",
    "    for j,__ in enumerate(SPar):\n",
    "        if (SPar[j][-7:]==\"PATIENT\" and (j==0 or SPar[j-1][-7:]!=\"PATIENT\")):\n",
    "            if len(SPar)>j+4:\n",
    "                if (SPar[j+1][-7:]==\"PATIENT\" and SPar[j+2][-7:]==\"PATIENT\" and \\\n",
    "                SPar[j+3][-7:]==\"PATIENT\" and SPar[j+4][-7:]==\"PATIENT\"):\n",
    "                    NewNum5List.append([i,j,SPar[j].split(' ')[1]])\n",
    "                elif (SPar[j+1][-7:]==\"PATIENT\" and SPar[j+2][-7:]==\"PATIENT\" and \\\n",
    "                SPar[j+3][-7:]==\"PATIENT\"):\n",
    "                    NewNum4List.append([i,j,SPar[j].split(' ')[1]])\n",
    "                elif (SPar[j+1][-7:]==\"PATIENT\" and SPar[j+2][-7:]==\"PATIENT\"):\n",
    "                    NewNum3List.append([i,j,SPar[j].split(' ')[1]])\n",
    "                elif (SPar[j+1][-7:]==\"PATIENT\"):\n",
    "                    NewNum2List.append([i,j,SPar[j].split(' ')[1]])\n",
    "                else:\n",
    "                    NewNum1List.append([i,j,SPar[j].split(' ')[1]])\n",
    "            elif len(SPar)>j+3:\n",
    "                if (SPar[j+1][-7:]==\"PATIENT\" and SPar[j+2][-7:]==\"PATIENT\" and \\\n",
    "                SPar[j+3][-7:]==\"PATIENT\"):\n",
    "                    NewNum4List.append([i,j,SPar[j].split(' ')[1]])\n",
    "                elif (SPar[j+1][-7:]==\"PATIENT\" and SPar[j+2][-7:]==\"PATIENT\"):\n",
    "                    NewNum3List.append([i,j,SPar[j].split(' ')[1]])\n",
    "                elif (SPar[j+1][-7:]==\"PATIENT\"):\n",
    "                    NewNum2List.append([i,j,SPar[j].split(' ')[1]])\n",
    "                else:\n",
    "                    NewNum1List.append([i,j,SPar[j].split(' ')[1]])\n",
    "            elif len(SPar)>j+2:\n",
    "                if (SPar[j+1][-7:]==\"PATIENT\" and SPar[j+2][-7:]==\"PATIENT\"):\n",
    "                    NewNum3List.append([i,j,SPar[j].split(' ')[1]])\n",
    "                elif (SPar[j+1][-7:]==\"PATIENT\"):\n",
    "                    NewNum2List.append([i,j,SPar[j].split(' ')[1]])\n",
    "                else:\n",
    "                    NewNum1List.append([i,j,SPar[j].split(' ')[1]])\n",
    "            elif len(SPar)>j+1:\n",
    "                if filedata[i+1].split('\\n')[0][-7:]==\"PATIENT\" and SPar[j+1][-7:]==\"PATIENT\":\n",
    "                    NewNumMList.append([i,i+1,j,SPar[j].split(' ')[1]])\n",
    "                elif (SPar[j+1][-7:]==\"PATIENT\"):\n",
    "                    NewNum2List.append([i,j,SPar[j].split(' ')[1]])\n",
    "                else:\n",
    "                    NewNum1List.append([i,j,SPar[j].split(' ')[1]])\n",
    "            else:\n",
    "                try:\n",
    "                    if filedata[i+1].split('\\n')[0][-7:]==\"PATIENT\":\n",
    "                        NewNumMList.append([i,i+1,j,SPar[j].split(' ')[1]])\n",
    "                    else:\n",
    "                        NewNum1List.append([i,j,SPar[j].split(' ')[1]])\n",
    "                except IndexError:\n",
    "                    if filedata[i+1].split('\\n')[0][-7:]==\"PATIENT\":\n",
    "                        NewNumMList.append([i,i+1,j,SPar[j].split(' ')[1]])\n",
    "                    else:\n",
    "                        NewNum1List.append([i,j,SPar[j].split(' ')])"
   ]
  },
  {
   "cell_type": "code",
   "execution_count": 272,
   "metadata": {},
   "outputs": [],
   "source": [
    "def GetName5(i):\n",
    "    temp=filedata[i[0]].split('\\n')[i[1]].split(' ')\n",
    "    if(int(temp[3])-int(temp[2]) > 1):\n",
    "        if filedata[i[0]].split('\\n')[i[1]+1].split(' ')[0]==\",\":\n",
    "            Surename=temp[0]\n",
    "        else:\n",
    "            print(\"The Second one is not , but is %s\"%(filedata[i[0]].split('\\n')[i[1]+1].split(' ')[0]))\n",
    "    else:\n",
    "        print(\"The first entry is a single character!\")\n",
    "    temp=filedata[i[0]].split('\\n')[i[1]+2].split(' ')\n",
    "    templ=filedata[i[0]].split('\\n')[i[1]+4].split(' ')\n",
    "    if((int(temp[3])-int(temp[2])) < (int(templ[3])-int(templ[2])) or temp[0]==\"Jr\"):\n",
    "        givenname=templ[0]\n",
    "    elif templ[0]==\"Jr\":\n",
    "        givenname=temp[0]\n",
    "    else:\n",
    "        print(\"The third and 5th ones are fishy\")\n",
    "    return(givenname,Surename)"
   ]
  },
  {
   "cell_type": "code",
   "execution_count": 273,
   "metadata": {},
   "outputs": [],
   "source": [
    "def GetName4(i):\n",
    "    temp=filedata[i[0]].split('\\n')[i[1]].split(' ')\n",
    "    if(int(temp[3])-int(temp[2]) > 1):\n",
    "        if filedata[i[0]].split('\\n')[i[1]+1].split(' ')[0]==\",\":\n",
    "            Surename=temp[0]\n",
    "        else:\n",
    "            print(\"The Second one is not , but is %s\"%(filedata[i[0]].split('\\n')[i[1]+1].split(' ')[0]))\n",
    "    else:\n",
    "        print(\"The first entry is a single character!\")\n",
    "    temp=filedata[i[0]].split('\\n')[i[1]+2].split(' ')\n",
    "    templ=filedata[i[0]].split('\\n')[i[1]+3].split(' ')\n",
    "    if((int(temp[3])-int(temp[2])) < (int(templ[3])-int(templ[2])) or temp[0]==\"Jr\"):\n",
    "        givenname=templ[0]\n",
    "    elif templ[0]==\"Jr\" or ( int(temp[3]) - int(temp[2]) != 1):\n",
    "        givenname=temp[0]\n",
    "    else:\n",
    "        print(\"The third and 4th ones are fishy for i = %s\"%i)\n",
    "    return(givenname,Surename)"
   ]
  },
  {
   "cell_type": "code",
   "execution_count": 313,
   "metadata": {},
   "outputs": [],
   "source": [
    "def GetName3(i):\n",
    "    temp=filedata[i[0]].split('\\n')[i[1]].split(' ')\n",
    "    tempm=filedata[i[0]].split('\\n')[i[1]+1].split(' ')\n",
    "    templ=filedata[i[0]].split('\\n')[i[1]+2].split(' ')\n",
    "    if(int(temp[3])-int(temp[2]) > 1):\n",
    "        if tempm[0]==\",\":\n",
    "            Surename=temp[0]\n",
    "            givenname=templ[0]\n",
    "        elif((int(tempm[3]) - int(tempm[2]) == 1) or (tempm[0] in ['Jr','JR','Jr.','JR.'])\\\n",
    "        or tempm[0][-1]==\".\"):\n",
    "            Surename=templ[0]\n",
    "            givenname=temp[0]\n",
    "        else:\n",
    "            print(\"The Second one is not \\\",\\\" or Jr or single character, but is %s\"%(tempm[0]))\n",
    "    elif temp[0]==\",\":\n",
    "        if ((int(tempm[3]) - int(tempm[2]) != 1) and (tempm[0] not in ['Jr','JR','Jr.','JR.'])):\n",
    "            givenname=tempm[0]\n",
    "        if ((int(templ[3]) - int(templ[2]) != 1) and (templ[0] not in ['Jr','JR','Jr.','JR.'])):\n",
    "            Surename=templ[0]\n",
    "        else:\n",
    "            Surename=''\n",
    "    else:\n",
    "        print(\"The first entry is a single character!\")\n",
    "    return(givenname,Surename)"
   ]
  },
  {
   "cell_type": "code",
   "execution_count": 592,
   "metadata": {},
   "outputs": [],
   "source": [
    "def GetName2(i):\n",
    "    temp=filedata[i[0]].split('\\n')[i[1]].split(' ')[0]\n",
    "    templ=filedata[i[0]].split('\\n')[i[1]+1].split(' ')[0]\n",
    "    if templ=='\\'s':\n",
    "        Surename=temp\n",
    "        givenname='*'\n",
    "    else:\n",
    "        givenname=temp\n",
    "        Surename=templ\n",
    "    return(givenname,Surename)"
   ]
  },
  {
   "cell_type": "code",
   "execution_count": 285,
   "metadata": {},
   "outputs": [
    {
     "data": {
      "text/plain": [
       "([[899, 9, '223-01'], [912, 5, '223-01'], [1995, 29, '226-02']],\n",
       " [[899, 11, '223-01'], [912, 7, '223-01'], [1995, 31, '226-02']])"
      ]
     },
     "execution_count": 285,
     "metadata": {},
     "output_type": "execute_result"
    }
   ],
   "source": [
    "NewNum3List[:3],Num3List[:3]"
   ]
  },
  {
   "cell_type": "code",
   "execution_count": 726,
   "metadata": {},
   "outputs": [],
   "source": [
    "givenlist=[]\n",
    "surelist=[]\n",
    "DocList=[]\n",
    "FileList=[]\n",
    "for i in NewNum5List:\n",
    "    gtemp,stemp=GetName5(i)\n",
    "    givenlist.append(gtemp)\n",
    "    surelist.append(stemp)\n",
    "    DocList.append(i[2][:-3])\n",
    "    FileList.append(i[2])\n",
    "for i in NewNum4List:\n",
    "    gtemp,stemp=GetName4(i)\n",
    "    givenlist.append(gtemp)\n",
    "    surelist.append(stemp)\n",
    "    DocList.append(i[2][:-3])\n",
    "    FileList.append(i[2])\n",
    "for i in NewNum3List:\n",
    "    gtemp,stemp=GetName3(i)\n",
    "    givenlist.append(gtemp)\n",
    "    surelist.append(stemp)\n",
    "    DocList.append(i[2][:-3])\n",
    "    FileList.append(i[2])\n",
    "for i in NewNum2List:\n",
    "    gtemp,stemp=GetName2(i)\n",
    "    givenlist.append(gtemp)\n",
    "    surelist.append(stemp)\n",
    "    DocList.append(i[2][:-3])\n",
    "    FileList.append(i[2])"
   ]
  },
  {
   "cell_type": "code",
   "execution_count": 738,
   "metadata": {},
   "outputs": [],
   "source": [
    "for i in NewNum2List:\n",
    "    if i[2] not in set([FileList[i] for i in SortInFileList]):\n",
    "        print(i[2])"
   ]
  },
  {
   "cell_type": "code",
   "execution_count": 739,
   "metadata": {},
   "outputs": [],
   "source": [
    "N1DocList = []\n",
    "N1FileList = []\n",
    "for i in NewNum1List:\n",
    "    N1DocList.append(i[2][:-3])\n",
    "    N1FileList.append(i[2])"
   ]
  },
  {
   "cell_type": "code",
   "execution_count": 694,
   "metadata": {},
   "outputs": [
    {
     "data": {
      "text/plain": [
       "[9812, 0, '274-03']"
      ]
     },
     "execution_count": 694,
     "metadata": {},
     "output_type": "execute_result"
    }
   ],
   "source": [
    "NewNum5List[1]"
   ]
  },
  {
   "cell_type": "code",
   "execution_count": 740,
   "metadata": {
    "scrolled": true
   },
   "outputs": [],
   "source": [
    "SortInFileList = np.argsort(FileList)\n",
    "N1SortInFileList = np.argsort(N1FileList)"
   ]
  },
  {
   "cell_type": "code",
   "execution_count": 729,
   "metadata": {},
   "outputs": [
    {
     "data": {
      "text/plain": [
       "469"
      ]
     },
     "execution_count": 729,
     "metadata": {},
     "output_type": "execute_result"
    }
   ],
   "source": [
    "len(FileList)"
   ]
  },
  {
   "cell_type": "code",
   "execution_count": 700,
   "metadata": {},
   "outputs": [
    {
     "data": {
      "text/plain": [
       "(2, 41, 219, 207, 410)"
      ]
     },
     "execution_count": 700,
     "metadata": {},
     "output_type": "execute_result"
    }
   ],
   "source": [
    "len(NewNum5List),len(NewNum4List),len(NewNum3List),len(NewNum2List),len(NewNum1List)"
   ]
  },
  {
   "cell_type": "code",
   "execution_count": null,
   "metadata": {},
   "outputs": [],
   "source": []
  },
  {
   "cell_type": "code",
   "execution_count": null,
   "metadata": {},
   "outputs": [],
   "source": []
  },
  {
   "cell_type": "code",
   "execution_count": null,
   "metadata": {},
   "outputs": [],
   "source": []
  },
  {
   "cell_type": "code",
   "execution_count": 701,
   "metadata": {},
   "outputs": [],
   "source": [
    "NewNumMList=NewNum5List+NewNum4List+NewNum3List+NewNum2List+NewNum1List"
   ]
  },
  {
   "cell_type": "code",
   "execution_count": 586,
   "metadata": {},
   "outputs": [
    {
     "data": {
      "text/plain": [
       "[[15681, 4, '293-04'],\n",
       " [15682, 12, '293-04'],\n",
       " [15688, 5, '293-04'],\n",
       " [15691, 1, '293-04']]"
      ]
     },
     "execution_count": 586,
     "metadata": {},
     "output_type": "execute_result"
    }
   ],
   "source": [
    "NewNum1List[179:183]"
   ]
  },
  {
   "cell_type": "code",
   "execution_count": 585,
   "metadata": {},
   "outputs": [
    {
     "data": {
      "text/plain": [
       "['Mr. 360-02 1990 1993 O',\n",
       " 'Geiger 360-02 1994 2000 B-PATIENT',\n",
       " \"'s 360-02 2000 2002 I-PATIENT\",\n",
       " 'blood 360-02 2003 2008 O',\n",
       " 'pressure 360-02 2009 2017 O',\n",
       " 'continues 360-02 2018 2027 O',\n",
       " 'to 360-02 2028 2030 O',\n",
       " 'be 360-02 2031 2033 O',\n",
       " 'elevated 360-02 2034 2042 O',\n",
       " 'despite 360-02 2049 2056 O',\n",
       " 'his 360-02 2057 2060 O',\n",
       " 'current 360-02 2061 2068 O',\n",
       " 'regimen 360-02 2069 2076 O',\n",
       " 'of 360-02 2077 2079 O',\n",
       " 'HCTZ 360-02 2080 2084 O',\n",
       " 'and 360-02 2085 2088 O',\n",
       " 'lisinopril 360-02 2089 2099 O',\n",
       " 'and 360-02 2100 2103 O',\n",
       " 'atenolol 360-02 2104 2112 O',\n",
       " '. 360-02 2112 2113 O']"
      ]
     },
     "execution_count": 585,
     "metadata": {},
     "output_type": "execute_result"
    }
   ],
   "source": [
    "filedata[NewNum2List[182][0]].split('\\n')"
   ]
  },
  {
   "cell_type": "code",
   "execution_count": 574,
   "metadata": {},
   "outputs": [
    {
     "data": {
      "text/plain": [
       "['I 360-02 378 379 O',\n",
       " 'have 360-02 380 384 O',\n",
       " 'been 360-02 385 389 O',\n",
       " 'readjusting 360-02 391 402 O',\n",
       " 'Mr. 360-02 403 406 O',\n",
       " 'Geiger 360-02 407 413 B-PATIENT',\n",
       " \"'s 360-02 413 415 I-PATIENT\",\n",
       " 'blood 360-02 416 421 O',\n",
       " 'pressure 360-02 422 430 O',\n",
       " 'regimen 360-02 431 438 O',\n",
       " 'since 360-02 439 444 O',\n",
       " 'he 360-02 445 447 O',\n",
       " 'left 360-02 448 452 O',\n",
       " 'Hale 360-02 453 457 B-HOSPITAL',\n",
       " 'Memorial 360-02 458 466 I-HOSPITAL',\n",
       " 'Hospital 360-02 467 475 I-HOSPITAL',\n",
       " 'for 360-02 476 479 O',\n",
       " 'an 360-02 480 482 O',\n",
       " 'episode 360-02 483 490 O',\n",
       " 'of 360-02 491 493 O',\n",
       " 'gastroenteritis 360-02 494 509 O',\n",
       " 'and 360-02 510 513 O',\n",
       " 'hypovolemia 360-02 514 525 O',\n",
       " 'several 360-02 527 534 O',\n",
       " 'months 360-02 535 541 O',\n",
       " 'ago 360-02 542 545 O',\n",
       " '. 360-02 545 546 O']"
      ]
     },
     "execution_count": 574,
     "metadata": {},
     "output_type": "execute_result"
    }
   ],
   "source": [
    "filedata[31235].split('\\n')"
   ]
  },
  {
   "cell_type": "code",
   "execution_count": null,
   "metadata": {},
   "outputs": [],
   "source": []
  },
  {
   "cell_type": "code",
   "execution_count": 546,
   "metadata": {},
   "outputs": [
    {
     "name": "stdout",
     "output_type": "stream",
     "text": [
      "24 Robert^11/12/74^HANEY\n",
      "41 Kathy^07/20/71^KATZ\n",
      "43 France^10/01/82^ELROD\n",
      "44 FRANCE^07/25/85^ELROD\n",
      "51 Xavier^04/15/69^NOLAN\n",
      "53 VINCENT^08/11/97^TRAN\n",
      "57 ALEC^07/25/60^YERGER\n",
      "59 ALEXANDER^01/31/61^VELASQUEZ\n",
      "60 Quindarrius^01/06/79^MEDINA\n",
      "62 IRENE^11/01/85^CONNER\n",
      "85 MICHAEL^12/29/96^AVILA\n",
      "86 MICHAEL^03/16/98^OCASIO\n",
      "95 NICK^01/31/95^PENN\n",
      "118 Amelia^01/10/59^KRIEGER\n",
      "119 AMELIA^04/08/59^PHILLIPS\n",
      "120 AMELIA^05/29/59^STEELE\n",
      "121 AMELIA^08/09/59^STEELE\n",
      "125 FRANK^08/30/76^JABLONSKI\n",
      "128 BROOKLYN^12/19/65^QUAGLIA\n",
      "129 Xavier^10/24/70^OCASIO\n",
      "139 CHARLES^8/13/2079^SORENSEN\n",
      "151 PATRICIA^02/04/78^DUNN\n",
      "157 BETTY^08/31/85^GUEVARA\n",
      "158 MATIAS^04/24/95^XIE\n",
      "162 RUATH^09/25/90^GILMORE\n",
      "165 Olivia^01/14/80^WOODRUFF\n",
      "166 OLIVIA^04/15/80^URIBE\n",
      "167 MARY^10/22/2069^VOLLMER\n",
      "170 BROOK^9/18/2094^XAYSANA\n",
      "174 Ramona^07/03/75^KEELER\n",
      "183 COREY^01/29/65^TOMLIN\n",
      "185 Nancy^09/20/92^NOE\n",
      "186 NANCY^11/02/97^OAKLEY\n",
      "201 JEAN^08/04/77^VALENTIN\n"
     ]
    }
   ],
   "source": [
    "for i,gn in enumerate(givenlist):#givenlist[30:]\n",
    "    if gn==',':\n",
    "        print(i,surelist[i])"
   ]
  },
  {
   "cell_type": "code",
   "execution_count": 594,
   "metadata": {},
   "outputs": [
    {
     "name": "stdout",
     "output_type": "stream",
     "text": [
      "William ** Ickes\n",
      "William ** Ickes\n",
      "Eugene ** Younger\n",
      "BRADY ** DUVALL\n",
      "BRADY ** DUVALL\n",
      "DANNY ** NIELSON\n",
      "DANNY ** NIELSON\n",
      "VERNA ** CANTU\n",
      "Andrew ** Jorgenson\n",
      "WILLIAM ** ICKES\n",
      "WILLIAM ** ICKES\n",
      "Frank ** Keating\n",
      "AARON ** SHEPHERD\n",
      "Nathan ** Vieira\n",
      "Kadeem ** Vicente\n",
      "Kadeem ** Vicente\n",
      "FRANCIS ** VICENTE\n",
      "XOCHILT ** VUONG\n",
      "CADE ** WOOD\n",
      "Frank ** Vaughn\n",
      "XAVIER ** RUTLEDGE\n",
      "XAVIER ** RUTLEDGE\n",
      "XAVIER ** RUTLEDGE\n",
      "LORI ** IVORY\n",
      "OLIVIA ** IORIO\n",
      "OLIVIA ** IORIO\n",
      "Veda ** Edgar\n",
      "Patricia ** Ray\n",
      "VANESSA ** ASHER\n",
      "VANESSA ** ASHER\n",
      "NATHAN ** ISHIDA\n",
      "NATHAN ** ISHIDA\n",
      "NATHAN ** ISHIDA\n",
      "NATHAN ** ISHIDA\n",
      "NATHAN ** ISHIDA\n",
      "NATHAN ** ISHIDA\n",
      "WALTER ** URIBE\n",
      "WALTER ** URIBE\n",
      "HELEN ** ADAIR\n",
      "TANYA ** DO\n",
      "TANYA ** DO\n",
      "TANYA ** DO\n",
      "NATHAN ** RICO\n",
      "Imogene ** Adler\n",
      "Imogene ** Adler\n",
      "Ellen ** Law\n",
      "ELLENMRN ** LAW\n",
      "ELLEN ** LAW\n",
      "WILLIAM ** LE\n",
      "Wonda ** Benitez\n",
      "Wonda ** Benitez\n",
      "Wonda ** BENITEZ\n",
      "Wonda ** BENITEZ\n",
      "Wonda ** Benitez\n",
      "Wonda ** Benitez\n",
      "Wonda ** Benitez\n",
      "Christine ** Olivier\n",
      "Christine ** Olivier\n",
      "Christine ** Olivier\n",
      "CHRISTINE ** OLIVIER\n",
      "ROBERT ** LOUIS\n",
      "ROBERT ** LOUIS\n",
      "ROBERT ** LOUIS\n",
      "Mattison ** Osborne\n",
      "MATTISON ** OSBORNE\n",
      "MATTISON ** OSBORNE\n",
      "Xue ** Francisco\n",
      "Xue ** French\n",
      "AUSTIN ** YEO\n",
      "AUSTIN ** YEO\n",
      "Austin ** Yeo\n",
      "Austin ** Yeo\n",
      "Michael ** Isenberg\n",
      "Michael ** Isenberg\n",
      "MICHAEL ** ISENBERG\n",
      "LARRY ** LILLY\n",
      "Urania ** Yerger\n",
      "Urania ** Yerger\n",
      "URANIA ** YERGER\n",
      "Urania ** Yerger\n",
      "Ulyses ** Vollmer\n",
      "KATHY ** JOSHI\n",
      "KATHY ** JOSHI\n",
      "KATHY ** JOSHI\n",
      "Andrew ** Conner\n",
      "FRANKIE ** NOONAN\n",
      "FRANCE ** NOONAN\n",
      "WENDY ** NOONAN\n",
      "Michelle ** Klein\n",
      "Michelle ** KLEIN\n",
      "XAVIER ** SCHWARTZ\n",
      "XAVIER ** SCHWARTZ\n",
      "Michael ** Yee\n",
      "VINCENT ** WHITAKER\n",
      "Vincent ** Whitaker\n",
      "Andrew ** Jorgenson\n",
      "Uriah ** Oliver\n",
      "Uriah ** Oreilly\n",
      "Wendy ** Xuan\n",
      "Wendy ** Xuan\n",
      "Wendy ** Xuan\n",
      "Wendy ** Xuan\n",
      "Wendy ** Xuan\n",
      "William ** Ickes\n",
      "Catherine ** Kong\n",
      "ALEC ** GIPSON\n",
      "ALEXANDER ** GIPSON\n",
      "Stephen ** Jasso\n",
      "Ora ** Hendrickson\n",
      "Ora ** Hendrickson\n",
      "IRENE ** ZASTROW\n",
      "IRENE ** ZASTROW\n",
      "IRENE ** ZASTROW\n",
      "Haden ** DOTY\n",
      "PETER ** JOSHI\n",
      "DENNIS ** HOLCOMB\n",
      "DENNIS ** HOLCOMB\n",
      "DENNIS ** HOLCOMB\n",
      "MICHAEL ** OGRADY\n",
      "Perla ** Esposito\n",
      "Perla ** Esposito\n",
      "PERLA ** ESPOSITO\n",
      "Perla ** Esposito\n",
      "TERRI ** BIRD\n",
      "Terri ** Bird\n",
      "Terri ** Bird\n",
      "TERRI ** BIRD\n",
      "TERRI ** BIRD\n",
      "Terri ** Bird\n",
      "Terri ** Bird\n",
      "Donny ** Quijano\n",
      "ULYSSES ** EHLERS\n",
      "Ulysses ** Ehlers\n",
      "FRANK ** KEATING\n",
      "Frank ** Keating\n",
      "NICK ** HALL\n",
      "NICK ** HALL\n",
      "CORA ** QUINLEY\n",
      "CORA ** QUINLEY\n",
      "Nathan ** Vieira\n",
      "Nathan ** Vieira\n",
      "Nathan ** Vieira\n",
      "Nancy ** Xayarath\n",
      "Nancy ** Xayarath\n",
      "Nancy ** Xayarath\n",
      "KEEGAN ** XAYARATH\n",
      "Kadeem ** Vicente\n",
      "Kadeem ** Vicente\n",
      "Kadeem ** Vicente\n",
      "Kadeem ** Vicente\n",
      "Kadeem ** Vicente\n",
      "Cade ** Wood\n",
      "Cade ** Wood\n",
      "CADE ** WOOD\n",
      "Bobbie ** Albert\n",
      "Bobbie ** Albert\n",
      "Yajaira ** Rhodes\n",
      "Yajaira ** Rhodes\n",
      "Yajaira ** Rhodes\n",
      "YAJAIRA ** RHODES\n",
      "Anastasha ** LINDSAY\n",
      "Anastasha ** Lindsay\n",
      "Jacob ** Goins\n",
      "NEIL ** ROBISON\n",
      "NEIL ** ROBISON\n",
      "Peggy ** Travis\n",
      "PEGGY ** TRAVIS\n",
      "AMELIA ** KIMBROUGH\n",
      "Percy ** Carrillo\n",
      "Gabriel ** Wilson\n",
      "Gabriel ** Wilson\n",
      "Gabriel ** Wilson\n",
      "Gabriel ** Wilson\n",
      "GABRIEL ** WILSON\n",
      "CAITLIN ** JOINER\n",
      "CAITLIN ** JOINER\n",
      "Caitlin ** Joiner\n",
      "FRANK ** VAUGHN\n",
      "Frank ** Vaughn\n",
      "Brooklyn ** Xian\n",
      "Brooklyn ** Xian\n",
      "BROOKLYN ** XIAN\n",
      "LORI ** IVORY\n",
      "Lori ** Ivory\n",
      "Olivia ** IORIO\n",
      "PABLO ** HOOPER\n",
      "Rebecca ** Carlson\n",
      "Rebecca ** Carleson\n",
      "Rebecca ** Carlson\n",
      "YASSEEN ** JACKS\n",
      "Yasseen ** JACKS\n",
      "ANTHONY ** VIGIL\n",
      "ANTHONY ** VIGIL\n",
      "ANTHONY ** VIGIL\n",
      "Alaina ** Rojas\n",
      "Veda ** Edgar\n",
      "Veda ** Edgar\n",
      "Oliver ** Jain\n",
      "Oliver ** Jain\n",
      "Oliver ** Jain\n",
      "OLIVER ** JAIN\n",
      "DALILA ** HAYNES\n",
      "PATRICIA ** RAY\n",
      "BETTY ** GILLIS\n",
      "Betty ** Gillis\n",
      "Betty ** Gillis\n",
      "Matias ** Holden\n",
      "Matias ** Golden\n",
      "MATIAS ** HOLDEN\n",
      "MATIAS ** HOLDEN\n",
      "Vanessa ** Asher\n",
      "Ruth ** Doss\n",
      "RUTH ** DOSS\n",
      "OLIVIA ** GLENN\n",
      "OLIVIA ** GLENN\n",
      "MARY ** RILEY\n",
      "Brook ** Fay\n",
      "BROOK ** FAY\n",
      "WADE ** DALEY\n",
      "WADE ** DALEY\n",
      "Wade ** Dalley\n",
      "NATHAN ** ISHIDA\n",
      "Nathan ** Ishida\n",
      "Nathan ** Ishida\n",
      "RAMONA ** MASSEY\n",
      "Ramona ** Massey\n",
      "NORA ** GREENWOOD\n",
      "Xian ** Geiger\n",
      "Xian ** Geiger\n",
      "Xander ** Geiger\n",
      "XANDER ** GEIGER\n",
      "Corey ** Jay\n",
      "SUSIE ** DIETZ\n",
      "SUSIE ** DIETZ\n",
      "SUSIE ** DIETZ\n",
      "Walter ** Uribe\n",
      "Walter ** Uribe\n",
      "KARSTEN ** RIVERS\n",
      "Karsten ** Rivers\n",
      "KARSTEN ** RIVERS\n",
      "Karsten ** Rivers\n",
      "LAUREN ** FERRARA\n",
      "LAUREN ** FERRARA\n",
      "LAUREN ** FERRARA\n",
      "Sandra ** Espinal\n",
      "OWEN ** QIN\n",
      "OWEN ** QIN\n",
      "Yamilex ** Ordonez\n",
      "YAMILEX ** ORDONEZ\n",
      "Helen ** Adair\n",
      "Helen ** Adair\n",
      "HELEN ** ADAIR\n",
      "Nicole ** Frantz\n",
      "Tanya ** Do\n",
      "Tanya ** Do\n",
      "Tanya ** Do\n",
      "JEAN ** AARON\n",
      "JOEL ** GOLDBERG\n",
      "Joel ** Goldberg\n",
      "Archie ** Bryan\n",
      "Archie ** Bryan\n",
      "Pamela ** Ostrander\n",
      "BRADY ** DUVALL\n",
      "Brady ** Duvall\n",
      "BRADY ** DUVALL\n",
      "Brady ** Duvall\n",
      "Brady ** Duvall\n",
      "Brady ** Duvall\n",
      "Brady ** Duvall\n",
      "Imogene ** Adler\n",
      "Otto ** Qazi\n",
      "Christopher ** Powell\n",
      "Ellen ** Law\n",
      "Ellen ** Law\n",
      "Ellen ** Law\n",
      "William ** Le\n",
      "William ** Le\n",
      "Wonda ** Benitez\n",
      "Wonda ** Benitez\n",
      "Nicholas ** Cortez\n",
      "Nicholas ** Cortez\n",
      "Christine ** Olivier\n",
      "Christine ** Olivier\n",
      "Christine ** Olivier\n",
      "Christine ** Olivier\n",
      "ROBERT ** LOUIS\n",
      ", ** Robert^11/12/74^HANEY\n",
      "Michael ** Isenberg\n",
      "Michael ** Isenberg\n",
      "Danny ** Nielson\n",
      "Danny ** Nielson\n",
      "Danny ** Nielson\n",
      "Danny ** Nielson\n",
      "Danny ** Nielson\n",
      "Urania ** Yerger\n",
      "Urania ** Yerger\n",
      "Urania ** Yerger\n",
      "Urania ** Yerger\n",
      "Urania ** Yerger\n",
      "Urania ** Yerger\n",
      "Ulyses ** Vollmer\n",
      "Kathy ** Joshi\n",
      "Kathy ** Joshi\n",
      ", ** Kathy^07/20/71^KATZ\n",
      "Andrew ** Conner\n",
      ", ** France^10/01/82^ELROD\n",
      ", ** FRANCE^07/25/85^ELROD\n",
      "Nathaniel ** Klein\n",
      "Nathaniel ** Klein\n",
      "Michelle ** Klein\n",
      "Michelle ** Klein\n",
      "Verna ** Cantu\n",
      "Verna ** Cantu\n",
      ", ** Xavier^04/15/69^NOLAN\n",
      "Michael ** Yee\n",
      ", ** VINCENT^08/11/97^TRAN\n",
      "Uriah ** Oliver\n",
      "Uriah ** Oliver\n",
      "Catherine ** Kong\n",
      ", ** ALEC^07/25/60^YERGER\n",
      "Alec ** Gipson\n",
      ", ** ALEXANDER^01/31/61^VELASQUEZ\n",
      ", ** Quindarrius^01/06/79^MEDINA\n",
      "Stephen ** Jasso\n",
      ", ** IRENE^11/01/85^CONNER\n",
      "Irene ** Zastrow\n",
      "Irene ** Zastrow\n",
      "Irene ** Zastrow\n",
      "Haden ** Doty\n",
      "Peter ** Joshi\n",
      "Peter ** Joshi\n",
      "Peter ** Joshi\n",
      "Peter ** Joshi\n",
      "Peter ** Joshi\n",
      "Peter ** Joshi\n",
      "Peter ** Joshi\n",
      "Peter ** Joshi\n",
      "Peter ** Joshi\n",
      "Patrick ** Joshi\n",
      "Peter ** Joshi\n",
      "Peter ** Joshi\n",
      "Dennis ** Holcomb\n",
      "Dennis ** Holcomb\n",
      "Michael ** Ogrady\n",
      "Michael ** Ogrady\n",
      "Michael ** Ogrady\n",
      "Michael ** Ogrady\n",
      ", ** MICHAEL^12/29/96^AVILA\n",
      ", ** MICHAEL^03/16/98^OCASIO\n",
      "Perla ** Esposito\n",
      "Perla ** Esposito\n",
      "Steven ** Bird\n",
      "Terri ** Bird\n",
      "Terri ** Bird\n",
      "Ulysses ** Ehlers\n",
      "Frank ** Keatering\n",
      "Nick ** Hall\n",
      ", ** NICK^01/31/95^PENN\n",
      "Nick ** Hall\n",
      "Nick ** Hall\n",
      "Cora ** Quinley\n",
      "Cora ** Quinley\n",
      "Teresa ** Berry\n",
      "Teresa ** Berry\n",
      "Teresa ** Berry\n",
      "Nathan ** Vieira\n",
      "Nathan ** Vieira\n",
      "Kadeem ** Vicente\n",
      "Kadeem ** Vicente\n",
      "FREDERICK ** JEFFERSON\n",
      "FREDERICK ** JEFFERSON\n",
      "Xochilt ** Vuong\n",
      "Xochilt ** Vuong\n",
      "CADE ** WOOD\n",
      "Bobbie ** Albert\n",
      "Bobbie ** Albert\n",
      "Jacob ** Goins\n",
      "Neil ** Robison\n",
      "Amelia ** Travis\n",
      "Amelia ** Travis\n",
      ", ** Amelia^01/10/59^KRIEGER\n",
      ", ** AMELIA^04/08/59^PHILLIPS\n",
      ", ** AMELIA^05/29/59^STEELE\n",
      ", ** AMELIA^08/09/59^STEELE\n",
      "Percy ** Carrillo\n",
      "Gabriel ** Wilson\n",
      "Louise ** Iles\n",
      ", ** FRANK^08/30/76^JABLONSKI\n",
      "Haley ** Vaughn\n",
      "Haley ** Vaughn\n",
      ", ** BROOKLYN^12/19/65^QUAGLIA\n",
      ", ** Xavier^10/24/70^OCASIO\n",
      "Xavier ** Rutledge\n",
      "Kurtis ** Carlson\n",
      "Kurtis ** Carlson\n",
      "Rebecca ** Carlson\n",
      "Yasseen ** Jacks\n",
      "Ursula ** Jacks\n",
      "Ursula ** Jacks\n",
      "Ursula ** Jacks\n",
      "Anthony ** Vigil\n",
      ", ** CHARLES^8/13/2079^SORENSEN\n",
      "ALAINA ** ROJAS\n",
      "Claire ** Ortega\n",
      "Veda ** Edgar\n",
      "Veda ** Edgar\n",
      "Oliver ** Jain\n",
      "Oliver ** Jain\n",
      "Dalila ** Haynes\n",
      "Dalila ** Haynes\n",
      "Dalila ** Haynes\n",
      "Dalila ** Haynes\n",
      "Inez ** Haynes\n",
      ", ** PATRICIA^02/04/78^DUNN\n",
      "Betty ** Gillis\n",
      "Betty ** Gillis\n",
      "Betty ** Gillis\n",
      "Betty ** Gillis\n",
      "Betty ** Gillis\n",
      ", ** BETTY^08/31/85^GUEVARA\n",
      ", ** MATIAS^04/24/95^XIE\n",
      "Vanessa ** Asher\n",
      "Ruath ** Doss\n",
      "Ruath ** Doss\n",
      ", ** RUATH^09/25/90^GILMORE\n",
      "Ruath ** Doss\n",
      "Ruath ** Doss\n",
      ", ** Olivia^01/14/80^WOODRUFF\n",
      ", ** OLIVIA^04/15/80^URIBE\n",
      ", ** MARY^10/22/2069^VOLLMER\n",
      "Larry ** Lockwood\n",
      "Larry ** Lockwood\n",
      ", ** BROOK^9/18/2094^XAYSANA\n",
      "Wade ** Daley\n",
      "Nathan ** Ishida\n",
      "Alice ** Zacharias\n",
      ", ** Ramona^07/03/75^KEELER\n",
      "Grace ** Qiu\n",
      "Nora ** Greenwood\n",
      "Nora ** Greenwood\n",
      "Xander ** Geiger\n",
      "* ** Geiger\n",
      "* ** Geiger\n",
      "* ** Geiger\n",
      "* ** Geiger\n",
      ", ** COREY^01/29/65^TOMLIN\n",
      "Susie ** DIETZ\n",
      ", ** Nancy^09/20/92^NOE\n",
      ", ** NANCY^11/02/97^OAKLEY\n",
      "Walter ** Uribe\n",
      "Walter ** Uribe\n",
      "Karsten ** Rivers\n",
      "Lauren ** Ferrara\n",
      "Louise ** Urquhart\n",
      "Sandra ** Espinal\n",
      "Nicole ** Frantz\n",
      "Nicole ** Frantz\n",
      "Nicole ** Frantz\n",
      "Franchesca ** Justice\n",
      "Victoria ** Justice\n",
      "Tanya ** Do\n",
      "Tanya ** Do\n",
      "Theresa ** Kraft\n",
      ", ** JEAN^08/04/77^VALENTIN\n",
      "Brendon ** Ambrose\n",
      "Brendon ** Ambrose\n",
      "Joel ** Goldberg\n",
      "Nathan ** Rico\n",
      "Pamela ** Ostrander\n"
     ]
    }
   ],
   "source": [
    "for i in range(len(surelist)):\n",
    "    print(givenlist[i],\"**\",surelist[i])#,\"    *for i = %s *\"%i)"
   ]
  },
  {
   "cell_type": "code",
   "execution_count": 489,
   "metadata": {},
   "outputs": [
    {
     "data": {
      "text/plain": [
       "['DANNY 248-04 7500 7505 B-PATIENT',\n",
       " 'W 248-04 7506 7507 I-PATIENT',\n",
       " 'MAH 248-04 7512 7515 B-HOSPITAL',\n",
       " 'YC 248-04 7517 7519 O',\n",
       " 'LAB 248-04 7520 7523 O']"
      ]
     },
     "execution_count": 489,
     "metadata": {},
     "output_type": "execute_result"
    }
   ],
   "source": [
    "filedata[5545].split('\\n')"
   ]
  },
  {
   "cell_type": "code",
   "execution_count": 596,
   "metadata": {},
   "outputs": [
    {
     "name": "stdout",
     "output_type": "stream",
     "text": [
      "441\n",
      "442\n",
      "443\n",
      "444\n"
     ]
    }
   ],
   "source": [
    "NotSpaceSplit=[]\n",
    "\n",
    "for i,gv in enumerate(givenlist):\n",
    "    if gv==',':\n",
    "        NotSpaceSplit.append([i,gv,surelist[i]])\n",
    "    elif gv=='*':\n",
    "        print(i)"
   ]
  },
  {
   "cell_type": "code",
   "execution_count": 612,
   "metadata": {
    "scrolled": true
   },
   "outputs": [
    {
     "name": "stdout",
     "output_type": "stream",
     "text": [
      "[3731, 9, '242-05'] [286, ',', 'Robert^11/12/74^HANEY']\n",
      "ROBERT LOUIS\n",
      "[6641, 9, '252-04'] [303, ',', 'Kathy^07/20/71^KATZ']\n",
      "Kathy Joshi\n",
      "[6993, 9, '254-03'] [305, ',', 'France^10/01/82^ELROD']\n",
      "Andrew Conner\n",
      "[7038, 6, '254-04'] [306, ',', 'FRANCE^07/25/85^ELROD']\n",
      ", France^10/01/82^ELROD\n",
      "[8284, 9, '258-04'] [313, ',', 'Xavier^04/15/69^NOLAN']\n",
      "Verna Cantu\n",
      "[8635, 9, '270-03'] [315, ',', 'VINCENT^08/11/97^TRAN']\n",
      "Michael Yee\n",
      "[10108, 9, '276-01'] [319, ',', 'ALEC^07/25/60^YERGER']\n",
      "Catherine Kong\n",
      "[10172, 6, '276-03'] [321, ',', 'ALEXANDER^01/31/61^VELASQUEZ']\n",
      "Alec Gipson\n",
      "[10329, 9, '277-02'] [322, ',', 'Quindarrius^01/06/79^MEDINA']\n",
      ", ALEXANDER^01/31/61^VELASQUEZ\n",
      "[11430, 9, '280-01'] [324, ',', 'IRENE^11/01/85^CONNER']\n",
      "Stephen Jasso\n",
      "[12886, 9, '285-03'] [347, ',', 'MICHAEL^12/29/96^AVILA']\n",
      "Michael Ogrady\n",
      "[12970, 9, '285-05'] [348, ',', 'MICHAEL^03/16/98^OCASIO']\n",
      ", MICHAEL^12/29/96^AVILA\n",
      "[15289, 9, '292-02'] [357, ',', 'NICK^01/31/95^PENN']\n",
      "Nick Hall\n",
      "[20121, 9, '307-01'] [380, ',', 'Amelia^01/10/59^KRIEGER']\n",
      "Amelia Travis\n",
      "[20180, 9, '307-02'] [381, ',', 'AMELIA^04/08/59^PHILLIPS']\n",
      ", Amelia^01/10/59^KRIEGER\n",
      "[20219, 9, '307-03'] [382, ',', 'AMELIA^05/29/59^STEELE']\n",
      ", AMELIA^04/08/59^PHILLIPS\n",
      "[20272, 9, '307-04'] [383, ',', 'AMELIA^08/09/59^STEELE']\n",
      ", AMELIA^05/29/59^STEELE\n",
      "[21392, 6, '322-02'] [387, ',', 'FRANK^08/30/76^JABLONSKI']\n",
      "Louise Iles\n",
      "[22239, 9, '323-04'] [390, ',', 'BROOKLYN^12/19/65^QUAGLIA']\n",
      "Haley Vaughn\n",
      "[22494, 9, '324-04'] [391, ',', 'Xavier^10/24/70^OCASIO']\n",
      ", BROOKLYN^12/19/65^QUAGLIA\n",
      "[24964, 6, '331-03'] [401, ',', 'CHARLES^8/13/2079^SORENSEN']\n",
      "Anthony Vigil\n",
      "[26961, 9, '336-01'] [413, ',', 'PATRICIA^02/04/78^DUNN']\n",
      "Inez Haynes\n",
      "[27458, 9, '337-03'] [419, ',', 'BETTY^08/31/85^GUEVARA']\n",
      "Betty Gillis\n",
      "[27837, 9, '338-04'] [420, ',', 'MATIAS^04/24/95^XIE']\n",
      ", BETTY^08/31/85^GUEVARA\n",
      "[28467, 9, '350-03'] [424, ',', 'RUATH^09/25/90^GILMORE']\n",
      "Ruath Doss\n",
      "[28747, 9, '351-03'] [427, ',', 'Olivia^01/14/80^WOODRUFF']\n",
      "Ruath Doss\n",
      "[28819, 9, '351-04'] [428, ',', 'OLIVIA^04/15/80^URIBE']\n",
      ", Olivia^01/14/80^WOODRUFF\n",
      "[28925, 9, '352-02'] [429, ',', 'MARY^10/22/2069^VOLLMER']\n",
      ", OLIVIA^04/15/80^URIBE\n",
      "[29396, 9, '354-01'] [432, ',', 'BROOK^9/18/2094^XAYSANA']\n",
      "Larry Lockwood\n",
      "[30463, 6, '357-02'] [436, ',', 'Ramona^07/03/75^KEELER']\n",
      "Alice Zacharias\n",
      "[31485, 9, '361-02'] [445, ',', 'COREY^01/29/65^TOMLIN']\n",
      "* Geiger\n",
      "[32029, 9, '363-01'] [447, ',', 'Nancy^09/20/92^NOE']\n",
      "Susie DIETZ\n",
      "[32243, 9, '363-04'] [448, ',', 'NANCY^11/02/97^OAKLEY']\n",
      ", Nancy^09/20/92^NOE\n",
      "[35708, 9, '396-01'] [463, ',', 'JEAN^08/04/77^VALENTIN']\n",
      "Theresa Kraft\n"
     ]
    }
   ],
   "source": [
    "for i in NotSpaceSplit:\n",
    "    print(NewNumMList[i[0]],i)\n",
    "    print(givenlist[i[0]-1],surelist[i[0]-1])"
   ]
  },
  {
   "cell_type": "code",
   "execution_count": 621,
   "metadata": {},
   "outputs": [
    {
     "data": {
      "text/plain": [
       "'270'"
      ]
     },
     "execution_count": 621,
     "metadata": {},
     "output_type": "execute_result"
    }
   ],
   "source": [
    "NewNumMList[315][2][:-3]"
   ]
  },
  {
   "cell_type": "code",
   "execution_count": 632,
   "metadata": {},
   "outputs": [
    {
     "name": "stdout",
     "output_type": "stream",
     "text": [
      "Oliver\n",
      "Xian\n",
      "Xian\n",
      "XIAN\n",
      "AARON\n",
      "Oliver\n",
      "Oliver\n"
     ]
    }
   ],
   "source": [
    "for i in surelist:\n",
    "    if i.lower() in [x.lower() for x in givenlist]:\n",
    "        print(i)"
   ]
  },
  {
   "cell_type": "code",
   "execution_count": 643,
   "metadata": {
    "scrolled": true
   },
   "outputs": [
    {
     "name": "stdout",
     "output_type": "stream",
     "text": [
      "[518, 25, '221-02'] Ted\n",
      "[569, 0, '221-03'] Ted\n",
      "[601, 0, '221-03'] Ted\n",
      "[603, 10, '221-03'] Ted\n",
      "[1862, 19, '226-01'] Friedman\n",
      "[1977, 16, '226-02'] Friedman\n",
      "[2184, 16, '226-04'] Friedman\n",
      "[3048, 18, '240-01'] Oneill\n",
      "[3132, 1, '240-03'] Innis\n",
      "[3196, 1, '240-03'] Innis\n",
      "[3217, 1, '240-04'] Innis\n",
      "[4868, 3, '247-01'] Gregory\n",
      "[6622, 1, '252-03'] Joshy\n",
      "[6803, 4, '253-02'] Andy\n",
      "[8443, 0, '259-03'] Yin\n",
      "[8679, 36, '270-04'] Nguyen\n",
      "[9424, 0, '273-01'] Jake\n",
      "[9488, 0, '273-02'] Jack\n",
      "[9580, 0, '273-04'] Wendee\n",
      "[9581, 0, '273-04'] Jake\n",
      "[10288, 1, '277-01'] Ervin\n",
      "[10293, 1, '277-01'] Ervin\n",
      "[10319, 1, '277-01'] Ervin\n",
      "[10356, 8, '277-03'] Quindarrius\n",
      "[10443, 5, '277-04'] Quin\n",
      "[10526, 5, '277-05'] Quindarrius\n",
      "[10794, 1, '278-03'] Jacobs\n",
      "[10798, 14, '278-03'] Jacobs\n",
      "[10811, 1, '278-03'] Jacobs\n",
      "[11775, 31, '281-02'] Haas\n",
      "[12442, 6, '284-01'] castro\n",
      "[12443, 10, '284-01'] alaniz\n",
      "[12444, 0, '284-01'] castro\n",
      "[12482, 58, '284-02'] Carpenter\n",
      "[12944, 5, '285-04'] Eunice\n",
      "[12945, 0, '285-04'] Eunice\n",
      "[12956, 9, '285-04'] Urbach\n",
      "[13333, 6, '287-02'] Xuereb\n",
      "[13447, 6, '287-03'] Xuereb\n",
      "[13519, 6, '287-03'] Xuereb\n",
      "[13799, 2, '289-01'] Quijanno\n",
      "[15813, 2, '294-01'] Ernestine\n",
      "[16028, 2, '294-03'] Ernestine\n",
      "[16129, 2, '294-04'] Ernestine\n",
      "[20356, 0, '308-01'] Mills\n",
      "[20356, 3, '308-01'] Urquiza\n",
      "[20363, 8, '308-01'] Mills\n",
      "[20381, 6, '308-01'] Mills\n",
      "[20417, 13, '308-02'] Urquiza\n",
      "[20430, 1, '308-02'] Urquiza\n",
      "[20512, 1, '308-04'] Urquiza\n",
      "[20683, 0, '309-04'] Griggs\n",
      "[20720, 2, '309-05'] Gibbs\n",
      "[20725, 7, '309-05'] Gibbs\n",
      "[24872, 1, '331-01'] Sparks\n",
      "[24923, 1, '331-02'] Sparks\n",
      "[25118, 1, '331-05'] Sparks\n",
      "[25127, 1, '331-05'] Sparks\n",
      "[25195, 0, '331-05'] Sparks\n",
      "[26072, 1, '333-03'] Xiang\n",
      "[26078, 2, '333-03'] Xiang\n",
      "[26765, 3, '335-03'] Beltran\n",
      "[30329, 1, '356-04'] Ishida&#8217;s\n",
      "[30332, 1, '356-04'] Ishidas\n",
      "[30336, 1, '356-04'] Ishidas\n",
      "[30344, 1, '356-04'] Ishidas\n",
      "[30386, 1, '356-04'] Ishida&#8217;s\n",
      "[33845, 10, '369-04'] Quevedo\n",
      "[34296, 6, '392-04'] Trudy\n",
      "[34940, 8, '394-01'] Villatoro\n",
      "[36776, 7, '399-04'] Tejeda\n"
     ]
    }
   ],
   "source": [
    "for i in NewNum1List:\n",
    "    if filedata[i[0]].split('\\n')[i[1]].split()[0].lower() not in [x.lower() for x in givenlist]:\n",
    "        if filedata[i[0]].split('\\n')[i[1]].split()[0].lower() not in [x.lower() for x in surelist]:\n",
    "            print(i,filedata[i[0]].split('\\n')[i[1]].split()[0])"
   ]
  },
  {
   "cell_type": "code",
   "execution_count": 654,
   "metadata": {},
   "outputs": [
    {
     "name": "stdout",
     "output_type": "stream",
     "text": [
      "End of 5\n",
      "End of 4\n",
      "[9102, 10, '272-02']\n",
      "[22029, 13, '323-01']\n",
      "[22174, 12, '323-03']\n",
      "[22308, 11, '323-05']\n",
      "[35903, 6, '396-04']\n",
      "End of 3\n",
      "[26301, 32, '334-02']\n",
      "[26303, 11, '334-02']\n",
      "End of 2\n",
      "[9103, 7, '272-02']\n",
      "[13432, 3, '287-02']\n",
      "[13510, 3, '287-03']\n",
      "[22243, 1, '323-04']\n"
     ]
    }
   ],
   "source": [
    "for i in NewNum5List:\n",
    "    if filedata[i[0]].split('\\n')[i[1]].split()[0].lower() in ['oliver', 'xian', 'aaron']:\n",
    "        print(i)\n",
    "print(\"End of 5\")\n",
    "for i in NewNum4List:\n",
    "    if filedata[i[0]].split('\\n')[i[1]].split()[0].lower() in ['oliver', 'xian', 'aaron']:\n",
    "        print(i)\n",
    "print(\"End of 4\")\n",
    "for i in NewNum3List:\n",
    "    if filedata[i[0]].split('\\n')[i[1]].split()[0].lower() in ['oliver', 'xian', 'aaron']:\n",
    "        print(i)\n",
    "print(\"End of 3\")\n",
    "for i in NewNum2List:\n",
    "    if filedata[i[0]].split('\\n')[i[1]].split()[0].lower() in ['oliver', 'xian', 'aaron']:\n",
    "        print(i)\n",
    "print(\"End of 2\")\n",
    "for i in NewNum1List:\n",
    "    if filedata[i[0]].split('\\n')[i[1]].split()[0].lower() in ['oliver', 'xian', 'aaron']:\n",
    "        print(i)"
   ]
  },
  {
   "cell_type": "code",
   "execution_count": 668,
   "metadata": {},
   "outputs": [
    {
     "data": {
      "text/plain": [
       "['In 287-03 3375 3377 O',\n",
       " 'summary 287-03 3378 3385 O',\n",
       " ', 287-03 3385 3386 O',\n",
       " 'Xian 287-03 3387 3391 B-PATIENT',\n",
       " 'is 287-03 3392 3394 O',\n",
       " 'a 287-03 3395 3396 O',\n",
       " '59-year 287-03 3397 3404 B-AGE',\n",
       " '- 287-03 3404 3405 O',\n",
       " 'old 287-03 3405 3408 O',\n",
       " 'female 287-03 3409 3415 O',\n",
       " 's 287-03 3416 3417 O',\n",
       " '/ 287-03 3417 3418 O',\n",
       " 'p 287-03 3418 3419 O',\n",
       " 'myocardial 287-03 3420 3430 O',\n",
       " 'infarction 287-03 3431 3441 O',\n",
       " ', 287-03 3441 3442 O',\n",
       " 'likely 287-03 3443 3449 O',\n",
       " 'the 287-03 3450 3453 O',\n",
       " 'result 287-03 3454 3460 O',\n",
       " 'of 287-03 3461 3463 O',\n",
       " 'paradoxical 287-03 3464 3475 O',\n",
       " 'emboli 287-03 3476 3482 O',\n",
       " 'via 287-03 3483 3486 O',\n",
       " 'a 287-03 3487 3488 O',\n",
       " 'large 287-03 3489 3494 O',\n",
       " 'PFO 287-03 3495 3498 O',\n",
       " ', 287-03 3498 3499 O',\n",
       " 'and 287-03 3500 3503 O',\n",
       " 's 287-03 3504 3505 O',\n",
       " '/ 287-03 3505 3506 O',\n",
       " 'p 287-03 3506 3507 O',\n",
       " 'closure 287-03 3508 3515 O',\n",
       " 'of 287-03 3516 3518 O',\n",
       " 'her 287-03 3519 3522 O',\n",
       " 'PFO 287-03 3523 3526 O',\n",
       " 'on 287-03 3527 3529 O',\n",
       " '12/05/63 287-03 3530 3538 B-DATE',\n",
       " 'using 287-03 3539 3544 O',\n",
       " 'a 287-03 3545 3546 O',\n",
       " '25 287-03 3547 3549 O',\n",
       " 'mm 287-03 3550 3552 O',\n",
       " 'Cribriform 287-03 3553 3563 O',\n",
       " 'Amplatzer 287-03 3564 3573 O',\n",
       " 'device 287-03 3574 3580 O',\n",
       " '. 287-03 3580 3581 O']"
      ]
     },
     "execution_count": 668,
     "metadata": {},
     "output_type": "execute_result"
    }
   ],
   "source": [
    "filedata[13510].split('\\n')"
   ]
  },
  {
   "cell_type": "code",
   "execution_count": 636,
   "metadata": {},
   "outputs": [
    {
     "data": {
      "text/plain": [
       "[[518, 25, '221-02'],\n",
       " [569, 0, '221-03'],\n",
       " [601, 0, '221-03'],\n",
       " [603, 10, '221-03'],\n",
       " [900, 5, '223-01'],\n",
       " [1212, 1, '224-02'],\n",
       " [1298, 1, '224-03'],\n",
       " [1388, 1, '224-04'],\n",
       " [1585, 1, '225-02'],\n",
       " [1862, 19, '226-01'],\n",
       " [1977, 16, '226-02'],\n",
       " [2085, 5, '226-03'],\n",
       " [2140, 0, '226-04'],\n",
       " [2184, 16, '226-04'],\n",
       " [2670, 13, '228-01'],\n",
       " [2741, 12, '228-04'],\n",
       " [2742, 5, '228-04'],\n",
       " [2760, 6, '228-04'],\n",
       " [2779, 8, '228-05'],\n",
       " [2865, 2, '229-01'],\n",
       " [2897, 26, '229-01'],\n",
       " [3048, 18, '240-01'],\n",
       " [3132, 1, '240-03'],\n",
       " [3196, 1, '240-03'],\n",
       " [3217, 1, '240-04'],\n",
       " [3289, 1, '241-01'],\n",
       " [3292, 0, '241-01'],\n",
       " [3323, 3, '241-01'],\n",
       " [3344, 1, '241-02'],\n",
       " [3372, 20, '241-02'],\n",
       " [3416, 1, '241-04'],\n",
       " [3437, 3, '241-04'],\n",
       " [3439, 8, '241-04'],\n",
       " [3551, 2, '242-03'],\n",
       " [3869, 8, '243-04'],\n",
       " [4868, 3, '247-01'],\n",
       " [4958, 7, '247-02'],\n",
       " [4973, 9, '247-02'],\n",
       " [4982, 1, '247-03'],\n",
       " [5001, 8, '247-03'],\n",
       " [5112, 16, '247-04'],\n",
       " [5121, 2, '247-04'],\n",
       " [5142, 39, '248-01'],\n",
       " [5144, 1, '248-01'],\n",
       " [5255, 6, '248-01'],\n",
       " [5261, 1, '248-02'],\n",
       " [5262, 3, '248-02'],\n",
       " [5275, 1, '248-02'],\n",
       " [5372, 1, '248-02'],\n",
       " [5389, 1, '248-03'],\n",
       " [5399, 1, '248-03'],\n",
       " [5451, 16, '248-04'],\n",
       " [5625, 7, '249-01'],\n",
       " [5627, 3, '249-01'],\n",
       " [5757, 1, '249-04'],\n",
       " [5797, 2, '249-04'],\n",
       " [5828, 1, '250-01'],\n",
       " [5835, 1, '250-01'],\n",
       " [5842, 1, '250-01'],\n",
       " [5852, 5, '250-01'],\n",
       " [5868, 3, '250-01'],\n",
       " [5880, 8, '250-01'],\n",
       " [5910, 3, '250-02'],\n",
       " [5942, 4, '250-03'],\n",
       " [5952, 1, '250-04'],\n",
       " [6132, 5, '251-03'],\n",
       " [6422, 1, '251-04'],\n",
       " [6482, 1, '252-01'],\n",
       " [6486, 8, '252-01'],\n",
       " [6514, 1, '252-01'],\n",
       " [6585, 1, '252-03'],\n",
       " [6622, 1, '252-03'],\n",
       " [6718, 1, '252-05'],\n",
       " [6753, 1, '252-05'],\n",
       " [6803, 4, '253-02'],\n",
       " [6965, 1, '254-02'],\n",
       " [7509, 6, '256-02'],\n",
       " [7513, 5, '256-02'],\n",
       " [7703, 2, '256-04'],\n",
       " [7725, 5, '256-04'],\n",
       " [7733, 32, '256-05'],\n",
       " [7734, 0, '256-05'],\n",
       " [7742, 0, '256-05'],\n",
       " [7758, 0, '256-05'],\n",
       " [7760, 5, '256-05'],\n",
       " [7871, 1, '257-02'],\n",
       " [8010, 10, '257-03'],\n",
       " [8028, 1, '257-04'],\n",
       " [8066, 1, '257-04'],\n",
       " [8284, 27, '258-04'],\n",
       " [8443, 0, '259-03'],\n",
       " [8679, 36, '270-04'],\n",
       " [8680, 1, '270-04'],\n",
       " [8680, 9, '270-04'],\n",
       " [8681, 1, '270-04'],\n",
       " [8684, 1, '270-04'],\n",
       " [8685, 8, '270-04'],\n",
       " [9103, 7, '272-02'],\n",
       " [9424, 0, '273-01'],\n",
       " [9488, 0, '273-02'],\n",
       " [9580, 0, '273-04'],\n",
       " [9581, 0, '273-04'],\n",
       " [9653, 3, '273-05'],\n",
       " [9782, 1, '274-03'],\n",
       " [10015, 1, '275-04'],\n",
       " [10072, 12, '275-04'],\n",
       " [10239, 6, '276-04'],\n",
       " [10241, 14, '276-04'],\n",
       " [10273, 3, '276-04'],\n",
       " [10288, 1, '277-01'],\n",
       " [10293, 1, '277-01'],\n",
       " [10319, 1, '277-01'],\n",
       " [10356, 8, '277-03'],\n",
       " [10443, 5, '277-04'],\n",
       " [10526, 5, '277-05'],\n",
       " [10794, 1, '278-03'],\n",
       " [10798, 14, '278-03'],\n",
       " [10811, 1, '278-03'],\n",
       " [11060, 1, '279-01'],\n",
       " [11587, 1, '280-04'],\n",
       " [11653, 1, '280-04'],\n",
       " [11682, 0, '281-01'],\n",
       " [11775, 31, '281-02'],\n",
       " [12032, 1, '282-01'],\n",
       " [12038, 6, '282-01'],\n",
       " [12061, 3, '282-01'],\n",
       " [12062, 7, '282-01'],\n",
       " [12064, 1, '282-01'],\n",
       " [12086, 25, '282-02'],\n",
       " [12104, 4, '282-02'],\n",
       " [12173, 1, '282-04'],\n",
       " [12266, 3, '283-02'],\n",
       " [12442, 6, '284-01'],\n",
       " [12443, 10, '284-01'],\n",
       " [12444, 0, '284-01'],\n",
       " [12482, 58, '284-02'],\n",
       " [12764, 1, '285-02'],\n",
       " [12887, 1, '285-03'],\n",
       " [12937, 1, '285-04'],\n",
       " [12943, 1, '285-04'],\n",
       " [12944, 5, '285-04'],\n",
       " [12945, 0, '285-04'],\n",
       " [12956, 9, '285-04'],\n",
       " [12959, 1, '285-04'],\n",
       " [12964, 5, '285-04'],\n",
       " [12967, 1, '285-04'],\n",
       " [13143, 5, '286-03'],\n",
       " [13333, 6, '287-02'],\n",
       " [13432, 3, '287-02'],\n",
       " [13447, 6, '287-03'],\n",
       " [13510, 3, '287-03'],\n",
       " [13519, 6, '287-03'],\n",
       " [13565, 1, '288-02'],\n",
       " [13608, 6, '288-02'],\n",
       " [13635, 9, '288-03'],\n",
       " [13664, 6, '288-03'],\n",
       " [13760, 4, '289-01'],\n",
       " [13799, 2, '289-01'],\n",
       " [13819, 10, '289-02'],\n",
       " [14181, 1, '290-01'],\n",
       " [14211, 1, '290-01'],\n",
       " [14221, 1, '290-02'],\n",
       " [14225, 14, '290-02'],\n",
       " [14289, 3, '290-03'],\n",
       " [14997, 3, '291-04'],\n",
       " [15283, 7, '292-01'],\n",
       " [15386, 7, '292-03'],\n",
       " [15426, 0, '292-04'],\n",
       " [15445, 0, '292-04'],\n",
       " [15456, 4, '292-04'],\n",
       " [15468, 6, '292-05'],\n",
       " [15469, 4, '292-05'],\n",
       " [15472, 8, '292-05'],\n",
       " [15477, 0, '292-05'],\n",
       " [15492, 3, '292-05'],\n",
       " [15510, 0, '292-05'],\n",
       " [15520, 14, '292-05'],\n",
       " [15662, 9, '293-04'],\n",
       " [15666, 3, '293-04'],\n",
       " [15681, 4, '293-04'],\n",
       " [15682, 12, '293-04'],\n",
       " [15688, 5, '293-04'],\n",
       " [15691, 1, '293-04'],\n",
       " [15745, 6, '294-01'],\n",
       " [15813, 2, '294-01'],\n",
       " [15894, 1, '294-02'],\n",
       " [16028, 2, '294-03'],\n",
       " [16129, 2, '294-04'],\n",
       " [16355, 1, '295-03'],\n",
       " [16381, 1, '295-03'],\n",
       " [16590, 4, '296-03'],\n",
       " [16591, 8, '296-03'],\n",
       " [16889, 3, '297-03'],\n",
       " [16944, 17, '297-04'],\n",
       " [16975, 7, '297-04'],\n",
       " [17464, 1, '299-04'],\n",
       " [17698, 1, '300-03'],\n",
       " [17699, 1, '300-03'],\n",
       " [17825, 1, '300-03'],\n",
       " [18100, 4, '301-01'],\n",
       " [18153, 4, '301-01'],\n",
       " [18156, 0, '301-01'],\n",
       " [18161, 0, '301-01'],\n",
       " [18333, 1, '301-04'],\n",
       " [18768, 11, '303-02'],\n",
       " [18771, 6, '303-02'],\n",
       " [18798, 6, '303-02'],\n",
       " [18804, 4, '303-02'],\n",
       " [18814, 0, '303-03'],\n",
       " [18814, 2, '303-03'],\n",
       " [19003, 35, '303-04'],\n",
       " [19310, 1, '304-03'],\n",
       " [19312, 1, '304-03'],\n",
       " [19394, 1, '304-03'],\n",
       " [19704, 1, '305-01'],\n",
       " [19735, 12, '305-02'],\n",
       " [19804, 0, '305-04'],\n",
       " [19874, 4, '306-01'],\n",
       " [20224, 4, '307-03'],\n",
       " [20356, 0, '308-01'],\n",
       " [20356, 3, '308-01'],\n",
       " [20363, 8, '308-01'],\n",
       " [20381, 6, '308-01'],\n",
       " [20417, 13, '308-02'],\n",
       " [20430, 1, '308-02'],\n",
       " [20512, 1, '308-04'],\n",
       " [20683, 0, '309-04'],\n",
       " [20720, 2, '309-05'],\n",
       " [20725, 7, '309-05'],\n",
       " [20917, 1, '320-03'],\n",
       " [20968, 1, '320-04'],\n",
       " [21002, 4, '320-04'],\n",
       " [21004, 1, '320-04'],\n",
       " [21577, 4, '322-04'],\n",
       " [21938, 1, '322-05'],\n",
       " [22243, 1, '323-04'],\n",
       " [23217, 3, '325-05'],\n",
       " [23427, 8, '326-05'],\n",
       " [23576, 2, '327-02'],\n",
       " [23626, 2, '327-03'],\n",
       " [23701, 19, '327-04'],\n",
       " [23836, 48, '328-02'],\n",
       " [24110, 1, '328-04'],\n",
       " [24347, 8, '329-02'],\n",
       " [24347, 24, '329-02'],\n",
       " [24523, 6, '329-03'],\n",
       " [24541, 32, '329-04'],\n",
       " [24570, 1, '329-04'],\n",
       " [24641, 4, '329-04'],\n",
       " [24872, 1, '331-01'],\n",
       " [24923, 1, '331-02'],\n",
       " [25118, 1, '331-05'],\n",
       " [25127, 1, '331-05'],\n",
       " [25195, 0, '331-05'],\n",
       " [25355, 4, '332-05'],\n",
       " [25902, 1, '333-03'],\n",
       " [26072, 1, '333-03'],\n",
       " [26078, 2, '333-03'],\n",
       " [26137, 14, '333-04'],\n",
       " [26304, 1, '334-02'],\n",
       " [26346, 1, '334-03'],\n",
       " [26416, 3, '334-04'],\n",
       " [26506, 16, '335-01'],\n",
       " [26510, 1, '335-01'],\n",
       " [26583, 3, '335-01'],\n",
       " [26592, 22, '335-01'],\n",
       " [26765, 3, '335-03'],\n",
       " [26864, 21, '335-04'],\n",
       " [28395, 1, '350-02'],\n",
       " [28401, 1, '350-02'],\n",
       " [28454, 1, '350-02'],\n",
       " [28455, 1, '350-02'],\n",
       " [28533, 1, '350-04'],\n",
       " [28589, 1, '350-04'],\n",
       " [28983, 3, '352-03'],\n",
       " [29024, 1, '352-03'],\n",
       " [29044, 1, '352-03'],\n",
       " [29068, 14, '352-04'],\n",
       " [29092, 4, '352-04'],\n",
       " [29104, 4, '352-04'],\n",
       " [29362, 1, '353-04'],\n",
       " [29382, 3, '353-04'],\n",
       " [29387, 11, '353-04'],\n",
       " [29542, 1, '354-03'],\n",
       " [29549, 5, '354-03'],\n",
       " [29604, 10, '354-04'],\n",
       " [30264, 14, '356-04'],\n",
       " [30270, 8, '356-04'],\n",
       " [30272, 1, '356-04'],\n",
       " [30273, 1, '356-04'],\n",
       " [30274, 1, '356-04'],\n",
       " [30329, 1, '356-04'],\n",
       " [30332, 1, '356-04'],\n",
       " [30336, 1, '356-04'],\n",
       " [30344, 1, '356-04'],\n",
       " [30376, 1, '356-04'],\n",
       " [30377, 1, '356-04'],\n",
       " [30380, 2, '356-04'],\n",
       " [30382, 1, '356-04'],\n",
       " [30385, 3, '356-04'],\n",
       " [30386, 1, '356-04'],\n",
       " [30645, 12, '357-05'],\n",
       " [30732, 4, '358-01'],\n",
       " [30775, 0, '358-02'],\n",
       " [30788, 0, '358-02'],\n",
       " [30789, 11, '358-02'],\n",
       " [30797, 0, '358-02'],\n",
       " [30803, 11, '358-02'],\n",
       " [30823, 10, '358-02'],\n",
       " [30824, 178, '358-02'],\n",
       " [30825, 25, '358-02'],\n",
       " [30827, 18, '358-02'],\n",
       " [30858, 0, '358-03'],\n",
       " [30865, 0, '358-03'],\n",
       " [30868, 11, '358-03'],\n",
       " [30876, 11, '358-03'],\n",
       " [30909, 9, '358-03'],\n",
       " [30911, 1, '358-03'],\n",
       " [30915, 0, '358-03'],\n",
       " [30917, 1, '358-03'],\n",
       " [30918, 3, '358-03'],\n",
       " [30927, 0, '358-03'],\n",
       " [30932, 10, '358-03'],\n",
       " [30940, 7, '358-03'],\n",
       " [30940, 19, '358-03'],\n",
       " [30942, 8, '358-03'],\n",
       " [30946, 10, '358-03'],\n",
       " [30948, 0, '358-03'],\n",
       " [30951, 1, '358-03'],\n",
       " [30965, 10, '358-03'],\n",
       " [30969, 0, '358-03'],\n",
       " [30978, 0, '358-03'],\n",
       " [30980, 0, '358-03'],\n",
       " [30983, 0, '358-03'],\n",
       " [30995, 8, '358-03'],\n",
       " [30997, 2, '358-03'],\n",
       " [31001, 6, '358-04'],\n",
       " [31234, 7, '360-02'],\n",
       " [31245, 1, '360-02'],\n",
       " [31280, 1, '360-03'],\n",
       " [31295, 1, '360-03'],\n",
       " [31608, 1, '361-04'],\n",
       " [31609, 1, '361-04'],\n",
       " [31706, 1, '361-04'],\n",
       " [31975, 1, '362-04'],\n",
       " [32073, 11, '363-02'],\n",
       " [32168, 0, '363-03'],\n",
       " [32621, 9, '364-03'],\n",
       " [32626, 29, '364-04'],\n",
       " [32671, 86, '364-04'],\n",
       " [32757, 1, '365-03'],\n",
       " [32795, 1, '365-03'],\n",
       " [33019, 1, '366-02'],\n",
       " [33033, 19, '366-03'],\n",
       " [33050, 1, '366-03'],\n",
       " [33061, 0, '366-04'],\n",
       " [33694, 8, '369-01'],\n",
       " [33741, 4, '369-02'],\n",
       " [33774, 8, '369-03'],\n",
       " [33813, 1, '369-04'],\n",
       " [33845, 10, '369-04'],\n",
       " [33856, 0, '391-01'],\n",
       " [33857, 3, '391-01'],\n",
       " [33860, 1, '391-01'],\n",
       " [33865, 1, '391-01'],\n",
       " [33867, 0, '391-01'],\n",
       " [33884, 1, '391-01'],\n",
       " [33890, 1, '391-01'],\n",
       " [33894, 1, '391-01'],\n",
       " [33896, 18, '391-01'],\n",
       " [33897, 5, '391-01'],\n",
       " [33898, 4, '391-01'],\n",
       " [33903, 7, '391-02'],\n",
       " [33906, 1, '391-02'],\n",
       " [33912, 8, '391-02'],\n",
       " [33916, 3, '391-02'],\n",
       " [33921, 2, '391-02'],\n",
       " [33924, 1, '391-02'],\n",
       " [33928, 3, '391-02'],\n",
       " [33959, 3, '391-02'],\n",
       " [33975, 1, '391-02'],\n",
       " [33978, 12, '391-02'],\n",
       " [33982, 8, '391-02'],\n",
       " [33983, 26, '391-03'],\n",
       " [34296, 6, '392-04'],\n",
       " [34940, 8, '394-01'],\n",
       " [35097, 0, '394-03'],\n",
       " [35470, 1, '395-04'],\n",
       " [35601, 1, '395-05'],\n",
       " [35643, 1, '395-05'],\n",
       " [35659, 10, '395-05'],\n",
       " [35698, 6, '395-05'],\n",
       " [35703, 1, '395-05'],\n",
       " [36294, 1, '398-01'],\n",
       " [36319, 6, '398-02'],\n",
       " [36320, 1, '398-02'],\n",
       " [36614, 11, '399-02'],\n",
       " [36619, 1, '399-02'],\n",
       " [36739, 1, '399-04'],\n",
       " [36741, 0, '399-04'],\n",
       " [36755, 3, '399-04'],\n",
       " [36776, 7, '399-04'],\n",
       " [36783, 2, '399-04'],\n",
       " [36796, 0, '399-04'],\n",
       " [36797, 12, '399-04'],\n",
       " [36801, 3, '399-04'],\n",
       " [36813, 3, '399-04'],\n",
       " [36816, 4, '399-04'],\n",
       " [37010, 43, '400-05'],\n",
       " [37070, 4, '400-05']]"
      ]
     },
     "execution_count": 636,
     "metadata": {},
     "output_type": "execute_result"
    }
   ],
   "source": [
    "NewNum1List"
   ]
  },
  {
   "cell_type": "code",
   "execution_count": 640,
   "metadata": {},
   "outputs": [
    {
     "data": {
      "text/plain": [
       "'Ted'"
      ]
     },
     "execution_count": 640,
     "metadata": {},
     "output_type": "execute_result"
    }
   ],
   "source": [
    "filedata[518].split('\\n')[25].split()[0]"
   ]
  },
  {
   "cell_type": "code",
   "execution_count": 630,
   "metadata": {},
   "outputs": [
    {
     "ename": "AttributeError",
     "evalue": "'list' object has no attribute 'lower'",
     "output_type": "error",
     "traceback": [
      "\u001b[0;31m---------------------------------------------------------------------------\u001b[0m",
      "\u001b[0;31mAttributeError\u001b[0m                            Traceback (most recent call last)",
      "\u001b[0;32m<ipython-input-630-1b10f7115940>\u001b[0m in \u001b[0;36m<module>\u001b[0;34m()\u001b[0m\n\u001b[0;32m----> 1\u001b[0;31m \u001b[0mgivenlist\u001b[0m\u001b[0;34m[\u001b[0m\u001b[0;34m:\u001b[0m\u001b[0;34m]\u001b[0m\u001b[0;34m.\u001b[0m\u001b[0mlower\u001b[0m\u001b[0;34m(\u001b[0m\u001b[0;34m)\u001b[0m\u001b[0;34m\u001b[0m\u001b[0;34m\u001b[0m\u001b[0m\n\u001b[0m",
      "\u001b[0;31mAttributeError\u001b[0m: 'list' object has no attribute 'lower'"
     ]
    }
   ],
   "source": [
    "givenlist.lower()"
   ]
  },
  {
   "cell_type": "code",
   "execution_count": null,
   "metadata": {},
   "outputs": [],
   "source": []
  },
  {
   "cell_type": "code",
   "execution_count": 613,
   "metadata": {},
   "outputs": [
    {
     "data": {
      "text/plain": [
       "['Record 270-03 3 9 O',\n",
       " 'date 270-03 10 14 O',\n",
       " ': 270-03 14 15 O',\n",
       " '2097 270-03 16 20 B-DATE',\n",
       " '- 270-03 20 21 I-DATE',\n",
       " '08 270-03 21 23 I-DATE',\n",
       " '- 270-03 23 24 I-DATE',\n",
       " '11 270-03 24 26 I-DATE',\n",
       " 'EDVISIT^29964344^WHITAKER 270-03 28 53 B-MEDICALRECORD',\n",
       " ', 270-03 53 54 B-PATIENT',\n",
       " 'VINCENT^08/11/97^TRAN 270-03 55 76 I-PATIENT',\n",
       " ', 270-03 76 77 B-DOCTOR']"
      ]
     },
     "execution_count": 613,
     "metadata": {},
     "output_type": "execute_result"
    }
   ],
   "source": [
    "filedata[8635].split('\\n')"
   ]
  },
  {
   "cell_type": "code",
   "execution_count": 609,
   "metadata": {},
   "outputs": [
    {
     "data": {
      "text/plain": [
       "(['2073 242-03 16 20 B-DATE',\n",
       "  '- 242-03 20 21 I-DATE',\n",
       "  '04 242-03 21 23 I-DATE',\n",
       "  '- 242-03 23 24 I-DATE',\n",
       "  '03 242-03 24 26 I-DATE',\n",
       "  'Patient 242-03 83 90 O',\n",
       "  'Name 242-03 91 95 O',\n",
       "  ': 242-03 95 96 O',\n",
       "  'LOUIS 242-03 97 102 B-PATIENT',\n",
       "  ', 242-03 102 103 I-PATIENT',\n",
       "  'ROBERT 242-03 103 109 I-PATIENT',\n",
       "  '[ 242-03 110 111 O',\n",
       "  'MRN 242-03 112 115 O',\n",
       "  ': 242-03 115 116 O',\n",
       "  '85588852LGH 242-03 117 128 B-MEDICALRECORD',\n",
       "  '] 242-03 129 130 O',\n",
       "  'Date 242-03 189 193 O',\n",
       "  'of 242-03 194 196 O',\n",
       "  'Visit 242-03 197 202 O',\n",
       "  ': 242-03 202 203 O',\n",
       "  '04/03/2073 242-03 204 214 B-DATE',\n",
       "  'ROBERT 242-03 224 230 B-PATIENT',\n",
       "  'LOUIS 242-03 233 238 I-PATIENT',\n",
       "  '65 242-03 240 242 B-STREET',\n",
       "  'FERRY 242-03 243 248 I-STREET',\n",
       "  'STREET 242-03 249 255 I-STREET',\n",
       "  'BARABOO 242-03 257 264 B-CITY',\n",
       "  ', 242-03 264 265 O',\n",
       "  'UT 242-03 266 268 B-STATE',\n",
       "  '11521 242-03 269 274 B-ZIP',\n",
       "  '04/05/2073 242-03 280 290 B-DATE'],\n",
       " ['Record 242-05 3 9 O',\n",
       "  'date 242-05 10 14 O',\n",
       "  ': 242-05 14 15 O',\n",
       "  '2074 242-05 16 20 B-DATE',\n",
       "  '- 242-05 20 21 I-DATE',\n",
       "  '11 242-05 21 23 I-DATE',\n",
       "  '- 242-05 23 24 I-DATE',\n",
       "  '12 242-05 24 26 I-DATE',\n",
       "  'EDVISIT^85588852^Louis 242-05 28 50 B-MEDICALRECORD',\n",
       "  ', 242-05 50 51 B-PATIENT',\n",
       "  'Robert^11/12/74^HANEY 242-05 52 73 I-PATIENT',\n",
       "  ', 242-05 73 74 B-DOCTOR',\n",
       "  'ULYSSES 242-05 75 82 I-DOCTOR'])"
      ]
     },
     "execution_count": 609,
     "metadata": {},
     "output_type": "execute_result"
    }
   ],
   "source": [
    "filedata[3550].split('\\n'),filedata[3731].split('\\n')"
   ]
  },
  {
   "cell_type": "code",
   "execution_count": 468,
   "metadata": {},
   "outputs": [
    {
     "data": {
      "text/plain": [
       "['Ickes',\n",
       " 'Ickes',\n",
       " 'Younger',\n",
       " 'DUVALL',\n",
       " 'DUVALL',\n",
       " 'NIELSON',\n",
       " 'CANTU',\n",
       " 'Jorgenson',\n",
       " 'ICKES',\n",
       " 'ICKES',\n",
       " 'Keating',\n",
       " 'SHEPHERD',\n",
       " 'Vieira',\n",
       " 'Vicente',\n",
       " 'Vicente',\n",
       " 'VICENTE',\n",
       " 'VUONG',\n",
       " 'WOOD',\n",
       " 'Vaughn',\n",
       " 'RUTLEDGE',\n",
       " 'RUTLEDGE',\n",
       " 'RUTLEDGE',\n",
       " 'IVORY',\n",
       " 'IORIO',\n",
       " 'Edgar',\n",
       " 'Ray',\n",
       " 'ASHER',\n",
       " 'ASHER',\n",
       " 'ISHIDA',\n",
       " 'ISHIDA',\n",
       " 'ISHIDA',\n",
       " 'ISHIDA',\n",
       " 'ISHIDA',\n",
       " 'ISHIDA',\n",
       " 'DO',\n",
       " 'DO',\n",
       " 'DO',\n",
       " 'RICO',\n",
       " 'Adler',\n",
       " 'Adler',\n",
       " 'Law',\n",
       " 'LAW',\n",
       " 'LAW',\n",
       " 'LE',\n",
       " 'Benitez',\n",
       " 'Benitez',\n",
       " 'BENITEZ',\n",
       " 'BENITEZ',\n",
       " 'Benitez',\n",
       " 'Benitez',\n",
       " 'Benitez',\n",
       " 'Olivier',\n",
       " 'Olivier',\n",
       " 'Olivier',\n",
       " 'OLIVIER',\n",
       " 'LOUIS',\n",
       " 'LOUIS',\n",
       " 'LOUIS',\n",
       " 'Osborne',\n",
       " 'OSBORNE',\n",
       " 'OSBORNE',\n",
       " 'Francisco',\n",
       " 'French',\n",
       " 'YEO',\n",
       " 'YEO',\n",
       " 'Yeo',\n",
       " 'Yeo',\n",
       " 'Isenberg',\n",
       " 'Isenberg',\n",
       " 'ISENBERG',\n",
       " 'LILLY',\n",
       " 'Yerger',\n",
       " 'Yerger',\n",
       " 'YERGER',\n",
       " 'Yerger',\n",
       " 'Vollmer',\n",
       " 'JOSHI',\n",
       " 'JOSHI',\n",
       " 'JOSHI',\n",
       " 'Conner',\n",
       " 'NOONAN',\n",
       " 'NOONAN',\n",
       " 'NOONAN',\n",
       " 'Klein',\n",
       " 'KLEIN',\n",
       " 'SCHWARTZ',\n",
       " 'SCHWARTZ',\n",
       " 'Yee',\n",
       " 'WHITAKER',\n",
       " 'Whitaker',\n",
       " 'Jorgenson',\n",
       " 'Oliver',\n",
       " 'Oreilly',\n",
       " 'Xuan',\n",
       " 'Xuan',\n",
       " 'Xuan',\n",
       " 'Ickes',\n",
       " 'Kong',\n",
       " 'GIPSON',\n",
       " 'GIPSON',\n",
       " 'Jasso',\n",
       " 'Hendrickson',\n",
       " 'Hendrickson',\n",
       " 'ZASTROW',\n",
       " 'ZASTROW',\n",
       " 'ZASTROW',\n",
       " 'DOTY',\n",
       " 'HOLCOMB',\n",
       " 'HOLCOMB',\n",
       " 'HOLCOMB',\n",
       " 'OGRADY',\n",
       " 'Esposito',\n",
       " 'Esposito',\n",
       " 'ESPOSITO',\n",
       " 'Esposito',\n",
       " 'BIRD',\n",
       " 'Bird',\n",
       " 'Bird',\n",
       " 'BIRD',\n",
       " 'BIRD',\n",
       " 'Bird',\n",
       " 'Bird',\n",
       " 'Quijano',\n",
       " 'EHLERS',\n",
       " 'Ehlers',\n",
       " 'KEATING',\n",
       " 'Keating',\n",
       " 'HALL',\n",
       " 'HALL',\n",
       " 'QUINLEY',\n",
       " 'QUINLEY',\n",
       " 'Vieira',\n",
       " 'Vieira',\n",
       " 'Vieira',\n",
       " 'Xayarath',\n",
       " 'Xayarath',\n",
       " 'Xayarath',\n",
       " 'XAYARATH',\n",
       " 'Vicente',\n",
       " 'Vicente',\n",
       " 'Vicente',\n",
       " 'Vicente',\n",
       " 'Vicente',\n",
       " 'Wood',\n",
       " 'Wood',\n",
       " 'WOOD',\n",
       " 'Albert',\n",
       " 'Albert',\n",
       " 'Rhodes',\n",
       " 'Rhodes',\n",
       " 'Rhodes',\n",
       " 'RHODES',\n",
       " 'LINDSAY',\n",
       " 'Lindsay',\n",
       " 'Goins',\n",
       " 'ROBISON',\n",
       " 'ROBISON',\n",
       " 'Travis',\n",
       " 'TRAVIS',\n",
       " 'KIMBROUGH',\n",
       " 'Carrillo',\n",
       " 'Wilson',\n",
       " 'Wilson',\n",
       " 'Wilson',\n",
       " 'Wilson',\n",
       " 'WILSON',\n",
       " 'JOINER',\n",
       " 'JOINER',\n",
       " 'Joiner',\n",
       " 'Vaughn',\n",
       " 'Xian',\n",
       " 'Xian',\n",
       " 'XIAN',\n",
       " 'IVORY',\n",
       " 'Ivory',\n",
       " 'IORIO',\n",
       " 'HOOPER',\n",
       " 'Carlson',\n",
       " 'Carleson',\n",
       " 'Carlson',\n",
       " 'JACKS',\n",
       " 'JACKS',\n",
       " 'VIGIL',\n",
       " 'VIGIL',\n",
       " 'VIGIL',\n",
       " 'Rojas',\n",
       " 'Edgar',\n",
       " 'Edgar',\n",
       " 'Jain',\n",
       " 'Jain',\n",
       " 'Jain',\n",
       " 'JAIN',\n",
       " 'HAYNES',\n",
       " 'RAY',\n",
       " 'GILLIS',\n",
       " 'Gillis',\n",
       " 'Gillis',\n",
       " 'Holden',\n",
       " 'Golden',\n",
       " 'HOLDEN',\n",
       " 'HOLDEN',\n",
       " 'Asher',\n",
       " 'Doss',\n",
       " 'DOSS',\n",
       " 'GLENN',\n",
       " 'GLENN',\n",
       " 'RILEY',\n",
       " 'Fay',\n",
       " 'FAY',\n",
       " 'DALEY',\n",
       " 'DALEY',\n",
       " 'Dalley',\n",
       " 'ISHIDA',\n",
       " 'Ishida',\n",
       " 'Ishida',\n",
       " 'MASSEY',\n",
       " 'Massey',\n",
       " 'GREENWOOD',\n",
       " 'Geiger',\n",
       " 'Geiger',\n",
       " 'Geiger',\n",
       " 'GEIGER',\n",
       " 'Jay',\n",
       " 'DIETZ',\n",
       " 'DIETZ',\n",
       " 'DIETZ',\n",
       " 'Uribe',\n",
       " '',\n",
       " '',\n",
       " 'Uribe',\n",
       " 'RIVERS',\n",
       " 'Rivers',\n",
       " 'RIVERS',\n",
       " 'Rivers',\n",
       " 'FERRARA',\n",
       " 'FERRARA',\n",
       " 'FERRARA',\n",
       " 'Espinal',\n",
       " 'QIN',\n",
       " 'QIN',\n",
       " 'Ordonez',\n",
       " 'ORDONEZ',\n",
       " 'Adair',\n",
       " 'Adair',\n",
       " 'ADAIR',\n",
       " 'Frantz',\n",
       " 'Do',\n",
       " 'Do',\n",
       " 'Do',\n",
       " 'AARON',\n",
       " 'GOLDBERG',\n",
       " 'Goldberg',\n",
       " 'Bryan',\n",
       " 'Bryan',\n",
       " 'Ostrander']"
      ]
     },
     "execution_count": 468,
     "metadata": {},
     "output_type": "execute_result"
    }
   ],
   "source": [
    "surelist"
   ]
  },
  {
   "cell_type": "code",
   "execution_count": 502,
   "metadata": {},
   "outputs": [
    {
     "data": {
      "text/plain": [
       "[[5544, 5545, 4, '248-04'],\n",
       " [9462, 9463, 24, '273-02'],\n",
       " [9629, 9630, 24, '273-05'],\n",
       " [12155, 12156, 0, '282-04'],\n",
       " [21446, 21447, 2, '322-03'],\n",
       " [23320, 23321, 0, '326-03'],\n",
       " [32348, 32349, 6, '364-01'],\n",
       " [32369, 32370, 10, '364-01'],\n",
       " [34245, 34246, 11, '392-03'],\n",
       " [35926, 35927, 3, '396-04']]"
      ]
     },
     "execution_count": 502,
     "metadata": {},
     "output_type": "execute_result"
    }
   ],
   "source": [
    "NewNumMList"
   ]
  },
  {
   "cell_type": "code",
   "execution_count": 290,
   "metadata": {},
   "outputs": [
    {
     "data": {
      "text/plain": [
       "[[899, 9, '223-01'],\n",
       " [912, 5, '223-01'],\n",
       " [1995, 29, '226-02'],\n",
       " [2000, 77, '226-02'],\n",
       " [2082, 8, '226-03'],\n",
       " [2319, 8, '227-01'],\n",
       " [2690, 29, '228-02'],\n",
       " [2708, 0, '228-02'],\n",
       " [2740, 32, '228-04'],\n",
       " [2759, 2, '228-04'],\n",
       " [2777, 16, '228-05'],\n",
       " [2819, 2, '228-05'],\n",
       " [2847, 0, '228-05'],\n",
       " [3301, 6, '241-01'],\n",
       " [3328, 20, '241-01'],\n",
       " [3372, 0, '241-02'],\n",
       " [3389, 12, '241-03'],\n",
       " [3494, 12, '242-02'],\n",
       " [3550, 8, '242-03'],\n",
       " [3583, 3, '242-04'],\n",
       " [3776, 0, '243-01'],\n",
       " [3832, 14, '243-03'],\n",
       " [3865, 8, '243-04'],\n",
       " [3905, 0, '244-01'],\n",
       " [4048, 7, '244-02'],\n",
       " [4452, 13, '246-01'],\n",
       " [4471, 6, '246-02'],\n",
       " [4536, 7, '246-03'],\n",
       " [4636, 0, '246-04'],\n",
       " [4818, 2, '247-01'],\n",
       " [4979, 10, '247-03'],\n",
       " [5110, 11, '247-04'],\n",
       " [5600, 3, '249-01'],\n",
       " [5844, 0, '250-01'],\n",
       " [5879, 0, '250-01'],\n",
       " [5920, 17, '250-03'],\n",
       " [5952, 16, '250-04'],\n",
       " [6128, 6, '251-03'],\n",
       " [6534, 12, '252-02'],\n",
       " [6582, 16, '252-03'],\n",
       " [6716, 8, '252-05'],\n",
       " [6802, 7, '253-02'],\n",
       " [6896, 9, '254-01'],\n",
       " [6963, 12, '254-02'],\n",
       " [7192, 0, '254-05'],\n",
       " [7475, 0, '256-01'],\n",
       " [7508, 26, '256-02'],\n",
       " [8268, 15, '258-03'],\n",
       " [8327, 15, '258-05'],\n",
       " [8465, 0, '259-04'],\n",
       " [8497, 14, '270-01'],\n",
       " [8557, 0, '270-02'],\n",
       " [8790, 8, '271-01'],\n",
       " [9103, 10, '272-02'],\n",
       " [9217, 0, '272-04'],\n",
       " [9393, 23, '273-01'],\n",
       " [9513, 21, '273-03'],\n",
       " [9546, 24, '273-04'],\n",
       " [9748, 2, '274-02'],\n",
       " [9913, 12, '275-02'],\n",
       " [10149, 8, '276-02'],\n",
       " [10239, 8, '276-04'],\n",
       " [10670, 7, '278-02'],\n",
       " [11058, 10, '279-01'],\n",
       " [11189, 2, '279-03'],\n",
       " [11519, 8, '280-02'],\n",
       " [11554, 8, '280-03'],\n",
       " [11587, 13, '280-04'],\n",
       " [11891, 17, '281-03'],\n",
       " [12189, 12, '283-01'],\n",
       " [12252, 8, '283-02'],\n",
       " [12275, 0, '283-03'],\n",
       " [12765, 2, '285-02'],\n",
       " [13030, 10, '286-01'],\n",
       " [13078, 6, '286-01'],\n",
       " [13085, 13, '286-02'],\n",
       " [13202, 2, '286-04'],\n",
       " [13529, 12, '288-01'],\n",
       " [13567, 16, '288-02'],\n",
       " [13613, 13, '288-02'],\n",
       " [13637, 16, '288-03'],\n",
       " [13672, 8, '288-03'],\n",
       " [13690, 4, '288-04'],\n",
       " [13713, 2, '288-04'],\n",
       " [13822, 21, '289-02'],\n",
       " [14180, 8, '290-01'],\n",
       " [14280, 17, '290-03'],\n",
       " [14999, 11, '291-04'],\n",
       " [15076, 0, '291-05'],\n",
       " [15396, 8, '292-04'],\n",
       " [15469, 0, '292-05'],\n",
       " [15529, 12, '293-01'],\n",
       " [15658, 3, '293-04'],\n",
       " [16300, 3, '295-02'],\n",
       " [16353, 0, '295-03'],\n",
       " [16449, 12, '295-05'],\n",
       " [16541, 15, '296-02'],\n",
       " [16599, 25, '296-04'],\n",
       " [16670, 2, '296-05'],\n",
       " [16675, 8, '296-05'],\n",
       " [16787, 2, '297-01'],\n",
       " [16820, 2, '297-01'],\n",
       " [16839, 2, '297-02'],\n",
       " [16866, 2, '297-02'],\n",
       " [16892, 18, '297-03'],\n",
       " [17698, 1, '300-03'],\n",
       " [17852, 3, '300-04'],\n",
       " [18008, 2, '300-05'],\n",
       " [18222, 0, '301-03'],\n",
       " [18460, 0, '301-05'],\n",
       " [18551, 15, '302-01'],\n",
       " [18610, 15, '302-02'],\n",
       " [18685, 15, '302-03'],\n",
       " [18710, 15, '302-04'],\n",
       " [18771, 27, '303-02'],\n",
       " [19006, 0, '303-04'],\n",
       " [19098, 2, '304-01'],\n",
       " [19705, 8, '305-01'],\n",
       " [19805, 13, '305-04'],\n",
       " [19874, 0, '306-01'],\n",
       " [20082, 2, '306-04'],\n",
       " [20316, 2, '307-05'],\n",
       " [20491, 0, '308-04'],\n",
       " [20560, 10, '309-01'],\n",
       " [20584, 10, '309-02'],\n",
       " [20623, 10, '309-03'],\n",
       " [20683, 0, '309-04'],\n",
       " [20720, 0, '309-05'],\n",
       " [21015, 8, '321-01'],\n",
       " [21090, 8, '321-03'],\n",
       " [21159, 3, '321-04'],\n",
       " [21939, 2, '322-05'],\n",
       " [22034, 13, '323-01'],\n",
       " [22179, 12, '323-03'],\n",
       " [22313, 11, '323-05'],\n",
       " [22805, 8, '325-02'],\n",
       " [23024, 0, '325-04'],\n",
       " [23242, 8, '326-01'],\n",
       " [23513, 3, '327-01'],\n",
       " [23759, 0, '328-01'],\n",
       " [23841, 0, '328-02'],\n",
       " [24111, 0, '328-04'],\n",
       " [24245, 2, '329-01'],\n",
       " [24349, 3, '329-02'],\n",
       " [24671, 8, '330-01'],\n",
       " [24802, 8, '330-03'],\n",
       " [24836, 8, '330-04'],\n",
       " [25357, 0, '332-05'],\n",
       " [25497, 3, '333-01'],\n",
       " [25659, 3, '333-02'],\n",
       " [26260, 13, '334-01'],\n",
       " [26349, 7, '334-03'],\n",
       " [26418, 0, '334-04'],\n",
       " [26476, 9, '334-04'],\n",
       " [26870, 10, '335-04'],\n",
       " [27018, 6, '336-02'],\n",
       " [27342, 8, '337-02'],\n",
       " [27520, 2, '337-04'],\n",
       " [27612, 3, '337-05'],\n",
       " [27689, 3, '338-01'],\n",
       " [27719, 0, '338-02'],\n",
       " [27753, 11, '338-03'],\n",
       " [27891, 11, '338-05'],\n",
       " [28179, 0, '339-04'],\n",
       " [28261, 10, '350-01'],\n",
       " [28334, 9, '350-01'],\n",
       " [28602, 2, '351-01'],\n",
       " [28650, 2, '351-02'],\n",
       " [28857, 12, '352-01'],\n",
       " [29546, 0, '354-03'],\n",
       " [29609, 8, '354-04'],\n",
       " [29660, 8, '355-01'],\n",
       " [29790, 8, '355-02'],\n",
       " [29952, 4, '355-04'],\n",
       " [30027, 2, '356-01'],\n",
       " [30069, 12, '356-02'],\n",
       " [30142, 0, '356-03'],\n",
       " [30413, 12, '357-01'],\n",
       " [30578, 0, '357-04'],\n",
       " [30734, 2, '358-01'],\n",
       " [31239, 16, '360-02'],\n",
       " [31274, 8, '360-02'],\n",
       " [31285, 20, '360-03'],\n",
       " [31317, 10, '360-04'],\n",
       " [31609, 10, '361-04'],\n",
       " [31817, 12, '362-01'],\n",
       " [31877, 12, '362-02'],\n",
       " [31978, 15, '362-04'],\n",
       " [32304, 0, '364-01'],\n",
       " [32349, 0, '364-01'],\n",
       " [32370, 0, '364-01'],\n",
       " [32427, 0, '364-02'],\n",
       " [32693, 12, '365-01'],\n",
       " [32729, 0, '365-02'],\n",
       " [32759, 8, '365-03'],\n",
       " [32871, 0, '365-05'],\n",
       " [32963, 12, '366-01'],\n",
       " [33041, 8, '366-03'],\n",
       " [33066, 5, '366-04'],\n",
       " [33435, 2, '368-01'],\n",
       " [33747, 11, '369-02'],\n",
       " [33818, 15, '369-04'],\n",
       " [33862, 7, '391-01'],\n",
       " [34010, 3, '391-04'],\n",
       " [34217, 1, '392-03'],\n",
       " [34279, 0, '392-04'],\n",
       " [34349, 3, '392-04'],\n",
       " [34397, 0, '393-01'],\n",
       " [35470, 0, '395-04'],\n",
       " [35608, 10, '395-05'],\n",
       " [35714, 1, '395-05'],\n",
       " [35912, 6, '396-04'],\n",
       " [36186, 0, '397-03'],\n",
       " [36216, 0, '397-04'],\n",
       " [36384, 2, '398-03'],\n",
       " [36478, 12, '398-04'],\n",
       " [36849, 3, '400-02']]"
      ]
     },
     "execution_count": 290,
     "metadata": {},
     "output_type": "execute_result"
    }
   ],
   "source": [
    "NewNum3List"
   ]
  },
  {
   "cell_type": "code",
   "execution_count": null,
   "metadata": {},
   "outputs": [],
   "source": []
  },
  {
   "cell_type": "code",
   "execution_count": null,
   "metadata": {},
   "outputs": [],
   "source": []
  },
  {
   "cell_type": "code",
   "execution_count": 261,
   "metadata": {},
   "outputs": [
    {
     "data": {
      "text/plain": [
       "['PINELLAS 274-04 49 57 B-HOSPITAL',\n",
       " 'EMERGENCY 274-04 58 67 O',\n",
       " 'DEPT 274-04 68 72 O',\n",
       " 'VISIT 274-04 73 78 O',\n",
       " 'ICKES 274-04 83 88 B-PATIENT',\n",
       " ', 274-04 88 89 I-PATIENT',\n",
       " 'WILLIAM 274-04 89 96 I-PATIENT',\n",
       " 'JR 274-04 97 99 I-PATIENT',\n",
       " '810 274-04 102 105 B-MEDICALRECORD',\n",
       " '- 274-04 105 106 I-MEDICALRECORD',\n",
       " '71 274-04 106 108 I-MEDICALRECORD',\n",
       " '- 274-04 108 109 I-MEDICALRECORD',\n",
       " '62 274-04 109 111 I-MEDICALRECORD',\n",
       " '- 274-04 111 112 I-MEDICALRECORD',\n",
       " '8 274-04 112 113 I-MEDICALRECORD',\n",
       " 'VISIT 274-04 132 137 O',\n",
       " 'DATE 274-04 138 142 O',\n",
       " ': 274-04 142 143 O']"
      ]
     },
     "execution_count": 261,
     "metadata": {},
     "output_type": "execute_result"
    }
   ],
   "source": [
    "filedata[9830].split('\\n')"
   ]
  },
  {
   "cell_type": "code",
   "execution_count": null,
   "metadata": {},
   "outputs": [],
   "source": []
  },
  {
   "cell_type": "code",
   "execution_count": 219,
   "metadata": {},
   "outputs": [
    {
     "data": {
      "text/plain": [
       "['4/5/67 220-01 297 303 B-DATE',\n",
       " '- 220-01 304 305 O',\n",
       " 'she 220-01 306 309 O',\n",
       " 'was 220-01 310 313 O',\n",
       " 'happy 220-01 314 319 O',\n",
       " 'with 220-01 320 324 O',\n",
       " 'results 220-01 325 332 O',\n",
       " 'of 220-01 333 335 O',\n",
       " 'ETT 220-01 336 339 O',\n",
       " 'at 220-01 340 342 O',\n",
       " 'Clarkfield 220-01 343 353 B-HOSPITAL',\n",
       " '. 220-01 353 354 O']"
      ]
     },
     "execution_count": 219,
     "metadata": {},
     "output_type": "execute_result"
    }
   ],
   "source": [
    "filedata[4].split('\\n')"
   ]
  },
  {
   "cell_type": "code",
   "execution_count": 423,
   "metadata": {},
   "outputs": [
    {
     "name": "stdout",
     "output_type": "stream",
     "text": [
      "0.9939503\n",
      "0.99862516\n",
      "0.9872123\n",
      "0.55398023\n",
      "0.9515939\n",
      "0.9225545\n",
      "0.6344987\n",
      "0.95240384\n",
      "0.908227\n",
      "0.9751684\n",
      "0.9987671\n",
      "0.99666387\n",
      "0.99997985\n",
      "0.9999254\n",
      "0.999096\n",
      "0.99964577\n",
      "0.99968094\n"
     ]
    }
   ],
   "source": [
    "for n in [0,1,2]:\n",
    "    for i in range(len(OxA[n])):\n",
    "        print(np.max(np.exp(OxA[n][i]))/np.sum(np.exp((OxA[n][i]))))"
   ]
  },
  {
   "cell_type": "code",
   "execution_count": 424,
   "metadata": {},
   "outputs": [
    {
     "name": "stdout",
     "output_type": "stream",
     "text": [
      "0.999096\n",
      "0.99964577\n",
      "0.99968094\n",
      "0.994453\n",
      "0.9987233\n",
      "0.9867414\n",
      "0.630063\n",
      "0.9651955\n",
      "0.91769993\n",
      "0.7652773\n",
      "0.93380505\n",
      "0.87624377\n",
      "0.980589\n",
      "0.9999935\n",
      "0.8657243\n",
      "0.9990975\n"
     ]
    }
   ],
   "source": [
    "for n in [6,7]:\n",
    "    for i in range(len(OxA[n])):\n",
    "        print(np.max(np.exp(OxA[n][i]))/np.sum(np.exp((OxA[n][i]))))"
   ]
  },
  {
   "cell_type": "code",
   "execution_count": 425,
   "metadata": {},
   "outputs": [
    {
     "name": "stdout",
     "output_type": "stream",
     "text": [
      "0.9943023\n",
      "0.9986237\n",
      "0.9859633\n",
      "0.6480622\n",
      "0.9663701\n",
      "0.92277044\n",
      "0.7126955\n",
      "0.93715996\n",
      "0.87476844\n",
      "0.9806492\n",
      "0.99999243\n",
      "0.63957\n",
      "0.99859846\n",
      "0.99995995\n",
      "0.999096\n",
      "0.99964577\n",
      "0.99968094\n"
     ]
    }
   ],
   "source": [
    "for n in [3,4]:\n",
    "    for i in range(len(OxA[n])):\n",
    "        print(np.max(np.exp(OxA[n][i]))/np.sum(np.exp((OxA[n][i]))))"
   ]
  },
  {
   "cell_type": "code",
   "execution_count": 426,
   "metadata": {},
   "outputs": [
    {
     "name": "stdout",
     "output_type": "stream",
     "text": [
      "0.9942056\n",
      "0.99860716\n",
      "0.98577535\n",
      "0.6496887\n",
      "0.9679774\n",
      "0.921207\n",
      "0.7182484\n",
      "0.9330196\n",
      "0.82091796\n",
      "0.98334634\n",
      "0.999993\n",
      "0.59602416\n",
      "0.99875486\n",
      "0.99995923\n",
      "0.999096\n",
      "0.99964577\n",
      "0.99968094\n"
     ]
    }
   ],
   "source": [
    "for n in [5,6]:\n",
    "    for i in range(len(OxA[n])):\n",
    "        print(np.max(np.exp(OxA[n][i]))/np.sum(np.exp((OxA[n][i]))))"
   ]
  },
  {
   "cell_type": "code",
   "execution_count": 427,
   "metadata": {},
   "outputs": [
    {
     "name": "stdout",
     "output_type": "stream",
     "text": [
      "0.994453\n",
      "0.9987233\n",
      "0.9867414\n",
      "0.630063\n",
      "0.9651955\n",
      "0.91769993\n",
      "0.7652773\n",
      "0.93380505\n",
      "0.87624377\n",
      "0.980589\n",
      "0.9999935\n",
      "0.8657243\n",
      "0.9990975\n",
      "0.9957708\n",
      "0.9996427\n",
      "0.99969065\n",
      "0.998997\n"
     ]
    }
   ],
   "source": [
    "for n in [7,8]:\n",
    "    for i in range(len(OxA[n])):\n",
    "        print(np.max(np.exp(OxA[n][i]))/np.sum(np.exp((OxA[n][i]))))"
   ]
  },
  {
   "cell_type": "code",
   "execution_count": 429,
   "metadata": {},
   "outputs": [
    {
     "name": "stdout",
     "output_type": "stream",
     "text": [
      "0.99569887\n",
      "0.9989143\n",
      "0.99065596\n",
      "0.65399486\n",
      "0.9781878\n",
      "0.9972613\n",
      "0.9914277\n",
      "0.49023405\n",
      "0.90119165\n",
      "0.9092731\n",
      "0.9994388\n",
      "0.99666387\n",
      "0.99997985\n",
      "0.9999254\n",
      "0.999096\n",
      "0.99964577\n",
      "0.99968094\n"
     ]
    }
   ],
   "source": [
    "for n in [9,10,11,12]:\n",
    "    for i in range(len(OxA[n])):\n",
    "        print(np.max(np.exp(OxA[n][i]))/np.sum(np.exp((OxA[n][i]))))"
   ]
  },
  {
   "cell_type": "code",
   "execution_count": 453,
   "metadata": {},
   "outputs": [
    {
     "data": {
      "text/plain": [
       "0.79348165"
      ]
     },
     "execution_count": 453,
     "metadata": {},
     "output_type": "execute_result"
    }
   ],
   "source": [
    "n=10\n",
    "i=0\n",
    "(np.exp(OxA[n][i][61]) + np.exp(OxA[n][i][15]))/np.sum(np.exp((OxA[n][i])))"
   ]
  },
  {
   "cell_type": "code",
   "execution_count": 445,
   "metadata": {},
   "outputs": [
    {
     "data": {
      "text/plain": [
       "array([83, 86, 35, 31, 80, 74, 70, 37, 45, 92, 91, 33, 89, 28, 34, 66, 78,\n",
       "       36, 67, 27, 71, 20, 22, 55, 51, 26, 81, 79,  0, 30, 24, 44, 10, 68,\n",
       "       18, 53, 90, 21,  1, 47,  5,  9, 64, 41, 73, 75, 82,  7, 39, 43, 49,\n",
       "       25, 32, 46,  8, 54, 88, 60, 12, 40, 65, 77, 58, 13,  3, 57,  4, 59,\n",
       "       42, 23, 29, 62, 84, 87, 11, 17, 56,  2, 14, 85, 19, 72, 38, 63, 48,\n",
       "       50, 76, 16, 52, 69,  6, 15, 61])"
      ]
     },
     "execution_count": 445,
     "metadata": {},
     "output_type": "execute_result"
    }
   ],
   "source": [
    "np.argsort(OxA[n][i])"
   ]
  },
  {
   "cell_type": "code",
   "execution_count": null,
   "metadata": {},
   "outputs": [],
   "source": []
  },
  {
   "cell_type": "code",
   "execution_count": null,
   "metadata": {},
   "outputs": [],
   "source": [
    "n=10\n",
    "i=0\n",
    "np.max(np.exp(OxA[n][i]))/np.sum(np.exp((OxA[n][i])))"
   ]
  },
  {
   "cell_type": "code",
   "execution_count": 439,
   "metadata": {},
   "outputs": [
    {
     "name": "stdout",
     "output_type": "stream",
     "text": [
      "0.99569887\n",
      "0.9989143\n",
      "0.99065596\n",
      "0.65399486\n",
      "0.9781878\n",
      "0.9972613\n",
      "0.9914277\n",
      "0.49023405\n",
      "0.90119165\n",
      "0.9092731\n",
      "0.9994388\n",
      "0.99666387\n",
      "0.99997985\n",
      "0.9999254\n",
      "0.9997065\n",
      "0.9997983\n",
      "0.9998357\n",
      "0.9974259\n",
      "0.99964136\n"
     ]
    }
   ],
   "source": [
    "for n in [61,62,63,64]:\n",
    "    for i in range(len(OxA[n])):\n",
    "        print(np.max(np.exp(OxA[n][i]))/np.sum(np.exp((OxA[n][i]))))"
   ]
  },
  {
   "cell_type": "code",
   "execution_count": 440,
   "metadata": {},
   "outputs": [
    {
     "data": {
      "text/plain": [
       "array([list([69, 69, 69, 69, 69, 69, 15, 61, 61, 38, 80]),\n",
       "       list([69, 74, 69]), list([69, 69, 83]),\n",
       "       list([69, 69, 69, 69, 69, 69, 15, 61, 61, 38, 80, 69, 74, 69]),\n",
       "       list([69, 69, 83]),\n",
       "       list([69, 69, 69, 69, 69, 69, 15, 61, 61, 38, 80, 69, 74, 69]),\n",
       "       list([69, 69, 83]),\n",
       "       list([69, 69, 69, 69, 69, 69, 15, 61, 61, 38, 80, 69, 74]),\n",
       "       list([69, 69, 69, 83]), list([69, 69, 69, 69, 69, 69, 85]),\n",
       "       list([15, 61, 38, 80]), list([69, 74, 69]), list([69, 69, 83]),\n",
       "       list([69, 69, 69, 4, 50, 50, 50, 27]),\n",
       "       list([69, 69, 69, 69, 69, 74]), list([69, 69, 69, 69, 6, 29, 86]),\n",
       "       list([69, 69, 69]), list([15, 61, 38, 69, 69, 69, 83]),\n",
       "       list([69, 69, 69, 69, 69, 69, 69, 69, 69, 69, 69, 70, 69, 69, 69, 69, 69, 69, 69, 69, 69, 69, 69, 69, 69, 69, 69, 69, 69, 69, 69, 69, 69, 69, 69, 69, 69, 69, 69, 69, 69]),\n",
       "       list([69, 69]),\n",
       "       list([69, 70, 69, 69, 69, 69, 69, 69, 69, 69, 69, 69, 69, 69, 69, 69, 69, 69, 69, 69]),\n",
       "       list([69, 69, 69, 69, 69, 69, 69, 69, 69, 69, 69, 69, 69, 69]),\n",
       "       list([69, 69, 69, 69, 69, 69, 69, 69, 69, 69, 69, 69, 69, 69, 69, 69, 69, 69, 69]),\n",
       "       list([69, 69, 69, 69, 69, 69, 69, 69, 69, 69, 69, 69, 69, 69, 69, 69, 69, 69, 69, 69, 69, 69, 69, 69, 69, 69]),\n",
       "       list([69, 69, 69, 69, 69, 69, 69, 69, 69, 69, 69, 69, 69, 69, 69, 69, 69, 69, 69, 69, 69, 69, 69]),\n",
       "       list([69, 69, 69, 69, 69, 69, 69, 69, 69, 69, 69, 69, 69, 69, 69, 69, 69, 69, 69, 69, 69, 69, 69, 69, 69, 69, 69, 69]),\n",
       "       list([69, 69, 69, 69, 69, 69, 69, 69, 69, 69, 69]),\n",
       "       list([69, 69, 69, 69, 69, 69, 69, 69, 69, 69, 69, 69, 69, 69, 69, 69, 69, 69, 69, 69, 69, 69, 69, 69, 69, 69, 69, 69, 69, 69, 69, 69, 69, 69, 69, 69, 69, 69]),\n",
       "       list([69, 69, 69, 69, 69, 69, 69, 69, 69, 69, 69, 69, 69, 69, 69, 69, 69, 69, 69, 69, 69, 69, 69, 69, 69, 69, 69, 69, 69, 69, 69, 69]),\n",
       "       list([69, 69, 69, 69, 69, 69, 69, 69, 69, 69, 69, 69, 69, 69, 69, 69]),\n",
       "       list([69, 69, 69, 69, 69, 69, 69, 69, 69, 69, 69]), list([69, 69]),\n",
       "       list([69, 69, 69, 69, 69, 69, 69, 69, 69, 69, 69, 69, 69, 69]),\n",
       "       list([69, 69, 69, 69]), list([69]),\n",
       "       list([69, 69, 69, 69, 69, 69, 69, 69, 69, 69, 69, 69, 69, 69, 69, 69, 69, 69]),\n",
       "       list([69, 69, 69, 69, 69, 69, 69, 69, 69, 69, 69, 69, 69]),\n",
       "       list([69, 69, 69, 69, 69, 69, 69, 69, 69]),\n",
       "       list([69, 69, 69, 69, 69, 69, 69, 69]), list([69, 69, 69, 69]),\n",
       "       list([69, 69, 69, 69]), list([69, 69, 69, 69, 69, 69, 69]),\n",
       "       list([69, 69, 69]), list([69, 69, 69, 69, 69, 69]), list([69]),\n",
       "       list([69, 69, 69, 69, 69, 69, 69, 69]), list([69, 69, 69]),\n",
       "       list([69, 69, 69, 69, 69, 69, 69, 69, 69, 69, 69, 69, 69, 69, 69, 69]),\n",
       "       list([69, 69, 69, 69]), list([69, 69]), list([69, 69]),\n",
       "       list([69, 69]), list([69, 69, 69, 69, 69, 69]),\n",
       "       list([69, 69, 69, 69, 69, 69, 69, 69, 69, 69, 69, 69, 69, 69, 69, 69, 69, 69, 69, 69, 69, 69, 69, 69]),\n",
       "       list([69, 69, 69, 69, 69, 69, 69, 69, 69, 69, 69, 69]),\n",
       "       list([69, 69, 69, 69, 69, 69, 69, 69, 69, 69, 69, 69, 69, 69]),\n",
       "       list([69, 69, 69, 69, 69, 69, 69, 69, 69, 69, 69, 69, 69, 69, 69, 69, 69, 69, 69, 69, 69, 69, 69, 69]),\n",
       "       list([69, 69, 69, 69]), list([69, 69]),\n",
       "       list([69, 69, 69, 69, 69, 69, 69, 69, 69, 69, 69, 69, 69, 69, 69, 69, 69]),\n",
       "       list([69, 69, 69, 69, 69, 69, 69, 69]),\n",
       "       list([69, 69, 69, 69, 69, 69, 85]), list([15, 61, 38, 80]),\n",
       "       list([69, 74, 69]), list([69, 69, 83, 69, 69]), list([69]),\n",
       "       list([69, 69, 69]), list([69, 69, 69]), list([69, 69, 69]),\n",
       "       list([69, 69, 69, 69, 69, 69, 69, 69, 69, 69, 69, 69, 69, 69, 69, 69, 69, 69, 69, 69, 69, 69, 69, 69, 69, 69, 69, 69, 69, 69, 69, 69, 69, 69, 69, 69, 69, 69, 69, 69, 69, 69, 69, 69]),\n",
       "       list([69, 69, 69, 69, 69]), list([69, 69, 69, 69, 69, 69, 69, 69]),\n",
       "       list([69, 69, 69, 69, 69, 69]), list([69, 69, 69, 69]),\n",
       "       list([69, 69, 69, 69, 69, 69, 69, 69, 69, 69, 69, 69, 69, 69]),\n",
       "       list([69, 69, 69, 69, 69, 69, 69]),\n",
       "       list([69, 69, 69, 69, 69, 69, 69, 69, 69, 69, 69, 69, 69, 69, 69, 69, 69, 69, 69, 69, 69, 69, 69, 69]),\n",
       "       list([69, 69, 69, 69, 69, 69, 69, 69, 69, 69, 69, 69, 69, 69, 69, 69, 69, 69, 69, 69]),\n",
       "       list([69, 69, 69, 69, 69, 69, 69, 69, 69, 69, 69, 69, 69]),\n",
       "       list([69, 69, 69]), list([69, 69, 69, 69, 69]),\n",
       "       list([69, 69, 69, 69, 69]),\n",
       "       list([69, 69, 69, 69, 69, 69, 69, 69, 69, 69, 85]),\n",
       "       list([15, 61, 38, 80]), list([69, 74, 69, 69, 69, 83, 69, 69]),\n",
       "       list([69]), list([69, 69, 69]), list([69, 69, 69]), list([69, 69]),\n",
       "       list([69, 69, 69, 69, 69, 69, 69, 69, 69, 69, 69, 69, 69, 69, 69, 69, 69, 69, 69, 69, 69, 69, 69, 69, 69, 69, 69]),\n",
       "       list([69, 69, 69, 69]), list([69, 69, 69, 69, 69, 69, 69]),\n",
       "       list([69, 69, 69, 69, 69, 69, 69, 69, 69, 69, 69, 69, 69, 69, 69, 69, 69, 69, 69, 69, 69, 69, 69, 69, 69, 69, 69, 69, 69]),\n",
       "       list([69, 69, 69, 69, 69]),\n",
       "       list([69, 69, 69, 69, 69, 69, 69, 69, 69, 69, 69, 69, 69, 69, 69, 69]),\n",
       "       list([69, 69, 69, 69, 69, 69, 69, 69, 69, 69, 69, 69, 69, 69, 69, 69, 69, 69, 69, 69, 69, 69, 69, 69, 69, 69]),\n",
       "       list([69, 69]),\n",
       "       list([69, 69, 69, 69, 69, 69, 69, 69, 69, 69, 69, 69, 69, 69, 69, 69, 69, 69, 69]),\n",
       "       list([69, 69, 69, 69, 69, 69, 69, 69, 69, 69, 69, 69, 69, 69, 69, 69, 69, 69, 69, 69]),\n",
       "       list([69, 69, 69]), list([69, 69, 69, 69, 69]),\n",
       "       list([69, 69, 69, 69]), list([69, 69, 69, 69, 69]),\n",
       "       list([69, 69, 69, 69, 69, 69]),\n",
       "       list([69, 69, 69, 69, 69, 69, 69, 69, 69, 69, 69]), list([69, 69]),\n",
       "       list([69, 69]), list([69, 69]), list([69, 69, 69, 69, 69, 69]),\n",
       "       list([69, 69]), list([69, 69, 69, 69, 69, 69, 69, 69]),\n",
       "       list([69, 69, 69, 69, 69, 69, 69]), list([69, 69, 69, 69, 69, 69]),\n",
       "       list([69, 69]),\n",
       "       list([70, 69, 69, 69, 69, 69, 69, 69, 69, 69, 69, 69, 69, 69, 69, 69, 69, 69, 69, 69, 69, 69, 69, 69, 69]),\n",
       "       list([69, 69, 69, 69]), list([69, 69]),\n",
       "       list([69, 69, 69, 69, 69, 69, 69, 69, 69, 69, 69, 69, 69, 69, 69, 69, 69, 69, 69, 69, 69, 69, 69, 69, 69, 69, 69, 69, 69, 69, 69, 69, 69]),\n",
       "       list([69, 69, 69, 69, 69, 69, 69, 69, 69, 69, 69, 69, 69, 69]),\n",
       "       list([69, 69, 69, 69, 69, 69, 69, 69, 69, 69, 69, 69, 69]),\n",
       "       list([69, 69, 69, 69, 69, 69, 69, 69]), list([69, 69, 69, 69]),\n",
       "       list([69, 69, 69, 69, 69, 69, 69, 69, 69]),\n",
       "       list([69, 69, 69, 69, 69, 69, 69, 69, 69, 69, 69, 69, 69, 69, 69, 69, 69, 69, 69, 69, 69]),\n",
       "       list([69, 69]),\n",
       "       list([69, 69, 69, 69, 69, 69, 69, 69, 69, 69, 69, 69, 69]),\n",
       "       list([69, 69, 69, 69]), list([69, 69, 69, 69, 69]),\n",
       "       list([69, 69, 69, 69, 69]), list([69, 69, 69, 69, 69]),\n",
       "       list([69, 69, 69, 69, 69, 69, 69, 69, 69, 69, 69]),\n",
       "       list([69, 69, 69, 69, 69, 69, 69, 69, 69, 69, 69, 69, 69, 69]),\n",
       "       list([69, 69]),\n",
       "       list([69, 69, 69, 69, 69, 69, 69, 69, 69, 69, 69, 69, 69, 69, 69, 69, 69, 69]),\n",
       "       list([69, 69, 69, 69]), list([69, 69, 69, 69, 69, 69]),\n",
       "       list([69, 6, 52, 29, 69, 69, 86])], dtype=object)"
      ]
     },
     "execution_count": 440,
     "metadata": {},
     "output_type": "execute_result"
    }
   ],
   "source": [
    "OxC"
   ]
  },
  {
   "cell_type": "code",
   "execution_count": 380,
   "metadata": {},
   "outputs": [
    {
     "data": {
      "text/plain": [
       "(11, 93)"
      ]
     },
     "execution_count": 380,
     "metadata": {},
     "output_type": "execute_result"
    }
   ],
   "source": [
    "OxA[0].shape"
   ]
  },
  {
   "cell_type": "code",
   "execution_count": 435,
   "metadata": {},
   "outputs": [
    {
     "name": "stdout",
     "output_type": "stream",
     "text": [
      "9 [69, 69, 69, 69, 69, 69, 85]\n",
      "15 [69, 69, 69, 69, 6, 29, 86]\n",
      "17 [15, 61, 38, 69, 69, 69, 83]\n",
      "41 [69, 69, 69, 69, 69, 69, 69]\n",
      "61 [69, 69, 69, 69, 69, 69, 85]\n",
      "75 [69, 69, 69, 69, 69, 69, 69]\n",
      "91 [69, 69, 69, 69, 69, 69, 69]\n",
      "111 [69, 69, 69, 69, 69, 69, 69]\n",
      "136 [69, 6, 52, 29, 69, 69, 86]\n"
     ]
    }
   ],
   "source": [
    "for i in range(len(OxC)):\n",
    "    if len(OxC[i])==7:\n",
    "        print(i,OxC[i])"
   ]
  },
  {
   "cell_type": "code",
   "execution_count": 438,
   "metadata": {},
   "outputs": [
    {
     "data": {
      "text/plain": [
       "array([list([69, 69, 69, 69, 69, 69, 85]), list([15, 61, 38, 80]),\n",
       "       list([69, 74, 69]), list([69, 69, 83, 69, 69])], dtype=object)"
      ]
     },
     "execution_count": 438,
     "metadata": {},
     "output_type": "execute_result"
    }
   ],
   "source": [
    "OxC[61:65]"
   ]
  },
  {
   "cell_type": "code",
   "execution_count": 361,
   "metadata": {},
   "outputs": [
    {
     "data": {
      "text/plain": [
       "array([-3.2639112e+00,  8.8385195e-03,  2.4953055e+00,  1.8358294e+00,\n",
       "        4.9520230e+00,  1.0856488e+01,  7.8804669e+00,  1.5925839e+01,\n",
       "        1.3926313e+01,  9.7039566e+00,  1.7468491e+00], dtype=float32)"
      ]
     },
     "execution_count": 361,
     "metadata": {},
     "output_type": "execute_result"
    }
   ],
   "source": [
    "OxA[0][:,61]"
   ]
  },
  {
   "cell_type": "code",
   "execution_count": 371,
   "metadata": {},
   "outputs": [
    {
     "data": {
      "text/plain": [
       "1.6996654"
      ]
     },
     "execution_count": 371,
     "metadata": {},
     "output_type": "execute_result"
    }
   ],
   "source": [
    "np.sum(OxA[0][0])"
   ]
  },
  {
   "cell_type": "code",
   "execution_count": 351,
   "metadata": {},
   "outputs": [
    {
     "data": {
      "text/plain": [
       "([69, 69, 69, 69, 69, 69, 15, 61, 61, 38, 80], [69, 74, 69], [69, 69, 83])"
      ]
     },
     "execution_count": 351,
     "metadata": {},
     "output_type": "execute_result"
    }
   ],
   "source": [
    "OxC[0],OxC[1],OxC[2]"
   ]
  },
  {
   "cell_type": "code",
   "execution_count": 352,
   "metadata": {},
   "outputs": [
    {
     "data": {
      "text/plain": [
       "[69, 69, 69, 69, 69, 69, 15, 61, 61, 38, 80, 69, 74, 69, 69, 69, 83]"
      ]
     },
     "execution_count": 352,
     "metadata": {},
     "output_type": "execute_result"
    }
   ],
   "source": [
    "OxC[3]"
   ]
  },
  {
   "cell_type": "code",
   "execution_count": 353,
   "metadata": {},
   "outputs": [
    {
     "data": {
      "text/plain": [
       "([69, 69, 69, 69, 69, 69, 15, 61, 61, 38, 80, 69, 74, 69], [69, 69, 83])"
      ]
     },
     "execution_count": 353,
     "metadata": {},
     "output_type": "execute_result"
    }
   ],
   "source": [
    "OxC[4],OxC[5]"
   ]
  },
  {
   "cell_type": "code",
   "execution_count": 354,
   "metadata": {},
   "outputs": [
    {
     "data": {
      "text/plain": [
       "([69, 69, 69, 69, 69, 69, 15, 61, 61, 38, 80, 69, 74], [69, 69, 69, 83])"
      ]
     },
     "execution_count": 354,
     "metadata": {},
     "output_type": "execute_result"
    }
   ],
   "source": [
    "OxC[6],OxC[7]"
   ]
  },
  {
   "cell_type": "code",
   "execution_count": null,
   "metadata": {},
   "outputs": [],
   "source": []
  },
  {
   "cell_type": "code",
   "execution_count": 688,
   "metadata": {},
   "outputs": [],
   "source": [
    "with open(\"/home/salman/NeuroNER-master/data/i2b2_2014_deid/train/220-01.txt\", 'r') as file :\n",
    "    TestData = file.read()"
   ]
  },
  {
   "cell_type": "code",
   "execution_count": 691,
   "metadata": {},
   "outputs": [
    {
     "data": {
      "text/plain": [
       "'oakley'"
      ]
     },
     "execution_count": 691,
     "metadata": {},
     "output_type": "execute_result"
    }
   ],
   "source": [
    "TestData[1974:1980].lower() == "
   ]
  },
  {
   "cell_type": "code",
   "execution_count": 684,
   "metadata": {},
   "outputs": [
    {
     "data": {
      "text/plain": [
       "str"
      ]
     },
     "execution_count": 684,
     "metadata": {},
     "output_type": "execute_result"
    }
   ],
   "source": [
    "type(TestData)"
   ]
  },
  {
   "cell_type": "code",
   "execution_count": 685,
   "metadata": {},
   "outputs": [],
   "source": [
    "ListTestData = list(TestData)"
   ]
  },
  {
   "cell_type": "code",
   "execution_count": 686,
   "metadata": {},
   "outputs": [
    {
     "data": {
      "text/plain": [
       "['O', 'a', 'k', 'l', 'e', 'y']"
      ]
     },
     "execution_count": 686,
     "metadata": {},
     "output_type": "execute_result"
    }
   ],
   "source": [
    "ListTestData[1974:1980]"
   ]
  },
  {
   "cell_type": "code",
   "execution_count": null,
   "metadata": {},
   "outputs": [],
   "source": []
  },
  {
   "cell_type": "code",
   "execution_count": null,
   "metadata": {},
   "outputs": [],
   "source": []
  },
  {
   "cell_type": "code",
   "execution_count": 678,
   "metadata": {},
   "outputs": [
    {
     "data": {
      "text/plain": [
       "\"\\nRecord date: 2067-05-03Narrative History   55 yo woman who presents for f/u       Seen in Cardiac rehab locally last week and BP 170/80.  They called us and we increased her HCTZ to 25 mg from 12.5 mg.  States her BP's were fine there since - 130-140/70-80.         Saw Dr Oakley 4/5/67 - she was happy with results of ETT at Clarkfield.  To f/u 7/67.  No CP's since last admit.      Back to work and starting to walk.  No wt loss and discouraged by this, but just starting to exercise.      No smoking for 3 months now!      Still with hotflashes, wakes her up at night.Problems      FH breast cancer   37 yo s       FH myocardial infarction   mother died 66 yo       Hypertension      Uterine fibroids   u/s 2062       Smoking      hyperlipidemia   CRF mild chol, cigs, HTN, Fhx and known hx CAD in pt.       borderline diabetes mellitus   4/63 125 , follow hgbaic       VPB   2065 - ETT showed freq PVC       coronary artery disease   s/p ant SEMI + stent LAD 2/67, Dr Oakley       thyroid nodule   2065, hot, follow TSH. Medications      NORVASC (AMLODIPINE)     5MG  1 Tablet(s) PO QD        PLAVIX (CLOPIDOGREL)   75 MG     PO QD        ATENOLOL     50MG  1 Tablet(s) PO QD        ASA (ACETYLSALICYLIC ACID)     325MG  1 Tablet(s) PO QD        ZESTRIL (LISINOPRIL)     40MG  1 Tablet(s) PO QD         LIPITOR (ATORVASTATIN)     10MG  1 Tablet(s) PO QD        HCTZ (HYDROCHLOROTHIAZIDE)     25MG  1 Tablet(s) PO QD         NITROGLYCERIN 1/150 (0.4 MG)   1 TAB     SL x1  PRN prn CP Allergies      CECLOR (CEFACLOR)   Rash   Vital Signs      BLOOD PRESSURE-SITTING   150/70          repeat 145/80   HR 60 reg  WT  202 lbsPhysical Exam   Looks well.  Lungs clear,  CVS  RRRs1s2, Ext - no edema\\tAssessment and Plan   1. H/M - Pe next appt in few months.  Overdue for mammo - will need to stress this.   2.  CAD - cont with cardiac rehab, exercise, Dr Oakley, but doing well.   3.  BP - better on increased HCTZ.  Check labs next visit, good K recently and on ACEI.   4.  Cigs - great!   5. Hot flashes - doesn't want to try any other meds - will try to put up with it.   6. Hot thyroid nodule - recheck TSH next visit.   7. Borderline glc - ok hgba1c 3/67.   8.  Chol - ok, fasting on next visit.      \""
      ]
     },
     "execution_count": 678,
     "metadata": {},
     "output_type": "execute_result"
    }
   ],
   "source": [
    "StringTestData"
   ]
  },
  {
   "cell_type": "code",
   "execution_count": null,
   "metadata": {},
   "outputs": [],
   "source": []
  },
  {
   "cell_type": "markdown",
   "metadata": {},
   "source": [
    "OrderedDict([('B-AGE', 0), ('B-BIOID', 1), ('B-CITY', 2), ('B-COUNTRY', 3), ('B-DATE', 4), ('B-DEVICE', 5), ('B-DOCTOR', 6), ('B-EMAIL', 7), ('B-FAX', 8), ('B-HEALTHPLAN', 9), ('B-HOSPITAL', 10), ('B-IDNUM', 11), ('B-LOCATION_OTHER', 12), ('B-MEDICALRECORD', 13), ('B-ORGANIZATION', 14), ('B-PATIENT', 15), ('B-PHONE', 16), ('B-PROFESSION', 17), ('B-STATE', 18), ('B-STREET', 19), ('B-URL', 20), ('B-USERNAME', 21), ('B-ZIP', 22), ('E-AGE', 23), ('E-BIOID', 24), ('E-CITY', 25), ('E-COUNTRY', 26), ('E-DATE', 27), ('E-DEVICE', 28), ('E-DOCTOR', 29), ('E-EMAIL', 30), ('E-FAX', 31), ('E-HEALTHPLAN', 32), ('E-HOSPITAL', 33), ('E-IDNUM', 34), ('E-LOCATION_OTHER', 35), ('E-MEDICALRECORD', 36), ('E-ORGANIZATION', 37), ('E-PATIENT', 38), ('E-PHONE', 39), ('E-PROFESSION', 40), ('E-STATE', 41), ('E-STREET', 42), ('E-URL', 43), ('E-USERNAME', 44), ('E-ZIP', 45), ('I-AGE', 46), ('I-BIOID', 47), ('I-CITY', 48), ('I-COUNTRY', 49), ('I-DATE', 50), ('I-DEVICE', 51), ('I-DOCTOR', 52), ('I-EMAIL', 53), ('I-FAX', 54), ('I-HEALTHPLAN', 55), ('I-HOSPITAL', 56), ('I-IDNUM', 57), ('I-LOCATION_OTHER', 58), ('I-MEDICALRECORD', 59), ('I-ORGANIZATION', 60), ('I-PATIENT', 61), ('I-PHONE', 62), ('I-PROFESSION', 63), ('I-STATE', 64), ('I-STREET', 65), ('I-URL', 66), ('I-USERNAME', 67), ('I-ZIP', 68), ('O', 69), ('S-AGE', 70), ('S-BIOID', 71), ('S-CITY', 72), ('S-COUNTRY', 73), ('S-DATE', 74), ('S-DEVICE', 75), ('S-DOCTOR', 76), ('S-EMAIL', 77), ('S-FAX', 78), ('S-HEALTHPLAN', 79), ('S-HOSPITAL', 80), ('S-IDNUM', 81), ('S-LOCATION_OTHER', 82), ('S-MEDICALRECORD', 83), ('S-ORGANIZATION', 84), ('S-PATIENT', 85), ('S-PHONE', 86), ('S-PROFESSION', 87), ('S-STATE', 88), ('S-STREET', 89), ('S-URL', 90), ('S-USERNAME', 91), ('S-ZIP', 92)])"
   ]
  },
  {
   "cell_type": "code",
   "execution_count": 456,
   "metadata": {},
   "outputs": [],
   "source": [
    "oldOxA = np.array(OxA)\n",
    "oldOxC = np.array(OxC)"
   ]
  },
  {
   "cell_type": "code",
   "execution_count": 836,
   "metadata": {},
   "outputs": [],
   "source": [
    "with open(\"/home/salman/NeuroNER-master/data/Speedi/femalegivenname.txt\", 'r') as file :\n",
    "    femaleDic = file.read().split('\\n')\n",
    "with open(\"/home/salman/NeuroNER-master/data/Speedi/malegivenname.txt\", 'r') as file :\n",
    "    maleDic = file.read().split('\\n')"
   ]
  },
  {
   "cell_type": "code",
   "execution_count": 837,
   "metadata": {},
   "outputs": [],
   "source": [
    "ambigDic=[]\n",
    "for i in maleDic:\n",
    "    if i in femaleDic:\n",
    "        ambigDic.append(i)"
   ]
  },
  {
   "cell_type": "code",
   "execution_count": 745,
   "metadata": {},
   "outputs": [
    {
     "data": {
      "text/plain": [
       "(2944, 5008, 366)"
      ]
     },
     "execution_count": 745,
     "metadata": {},
     "output_type": "execute_result"
    }
   ],
   "source": [
    "len(maleDic),len(femaleDic),len(ambigDic)"
   ]
  },
  {
   "cell_type": "code",
   "execution_count": 788,
   "metadata": {},
   "outputs": [
    {
     "data": {
      "text/plain": [
       "(410, 469, 469)"
      ]
     },
     "execution_count": 788,
     "metadata": {},
     "output_type": "execute_result"
    }
   ],
   "source": [
    "len(N1SortInFileList),len(SortInFileList),len(givenlist)"
   ]
  },
  {
   "cell_type": "code",
   "execution_count": 838,
   "metadata": {
    "scrolled": true
   },
   "outputs": [],
   "source": [
    "for i,gn in enumerate(givenlist[i] for i in SortInFileList):\n",
    "    if gn.title() in ambigDic:\n",
    "        print(SortInFileList[i],gn)"
   ]
  },
  {
   "cell_type": "code",
   "execution_count": 829,
   "metadata": {},
   "outputs": [
    {
     "data": {
      "text/plain": [
       "[35903, 6, '396-04']"
      ]
     },
     "execution_count": 829,
     "metadata": {},
     "output_type": "execute_result"
    }
   ],
   "source": [
    "NewNumMList[256]"
   ]
  },
  {
   "cell_type": "code",
   "execution_count": null,
   "metadata": {},
   "outputs": [],
   "source": [
    "68..71                  , Austin,246-0 , male\n",
    "6,5,289..293            , Danny ,248-0 , male\n",
    "85                      ,FRANKIE,254-01, male\n",
    "123..129,352,353        , Terri ,288-0 , female\n",
    "130                     , Donny ,289-02, male\n",
    "355,11,133,134          , Frank ,291-0 , male\n",
    "16                      ,FRANCIS,297-05, male\n",
    "374,154,375,155         ,Bobbie ,301-0 , male\n",
    "169,170,385,171,172,173 ,Gabriel,309-0 , female\n",
    "177,**,19,178           , FRANK ,322-0 , male\n",
    "389,388                 , Haley ,322-04, female\n",
    "403                     , Claire,332-05, female\n",
    "216,217                 , Brook ,354-0 , female\n",
    "437                     , Grace ,357-05, female\n",
    "231                     , Corey ,361-04, male\n",
    "241,452,242,243         ,Lauren ,366-0 , female\n",
    "256                     , JEAN  ,396-04, female"
   ]
  },
  {
   "cell_type": "markdown",
   "metadata": {},
   "source": [
    "# I cleaned the dic from ambs!"
   ]
  },
  {
   "cell_type": "code",
   "execution_count": 835,
   "metadata": {
    "scrolled": true
   },
   "outputs": [
    {
     "name": "stdout",
     "output_type": "stream",
     "text": [
      "226-02 ELLENMRN\n",
      "228-01 Wonda\n",
      "228-02 Wonda\n",
      "228-02 Wonda\n",
      "228-02 Wonda\n",
      "228-04 Wonda\n",
      "228-04 Wonda\n",
      "228-05 Wonda\n",
      "228-05 Wonda\n",
      "228-05 Wonda\n",
      "243-01 Mattison\n",
      "243-03 MATTISON\n",
      "243-04 MATTISON\n",
      "244-01 Xue\n",
      "244-02 Xue\n",
      "250-01 Urania\n",
      "250-01 Urania\n",
      "250-01 Urania\n",
      "250-01 Urania\n",
      "250-02 Urania\n",
      "250-02 Urania\n",
      "250-02 Urania\n",
      "250-03 URANIA\n",
      "250-03 Urania\n",
      "250-04 Urania\n",
      "251-03 Ulyses\n",
      "251-04 Ulyses\n",
      "281-02 Haden\n",
      "281-03 Haden\n",
      "296-05 KEEGAN\n",
      "297-01 Kadeem\n",
      "297-01 Kadeem\n",
      "297-01 Kadeem\n",
      "297-02 Kadeem\n",
      "297-02 Kadeem\n",
      "297-02 Kadeem\n",
      "297-03 Kadeem\n",
      "297-04 Kadeem\n",
      "297-04 Kadeem\n",
      "299-01 XOCHILT\n",
      "299-04 Xochilt\n",
      "299-04 Xochilt\n",
      "300-03 Cade\n",
      "300-04 Cade\n",
      "300-04 CADE\n",
      "300-05 CADE\n",
      "300-05 CADE\n",
      "302-01 Yajaira\n",
      "302-02 Yajaira\n",
      "302-03 Yajaira\n",
      "302-04 YAJAIRA\n",
      "303-02 Anastasha\n",
      "303-04 Anastasha\n",
      "323-01 Brooklyn\n",
      "323-03 Brooklyn\n",
      "323-05 BROOKLYN\n",
      "329-01 YASSEEN\n",
      "329-02 Yasseen\n",
      "329-04 Yasseen\n",
      "332-03 ALAINA\n",
      "332-05 Alaina\n",
      "350-02 Ruath\n",
      "350-02 Ruath\n",
      "350-04 Ruath\n",
      "350-04 Ruath\n",
      "360-01 Xander\n",
      "360-02 Xian\n",
      "360-02 Xian\n",
      "360-03 Xander\n",
      "360-04 XANDER\n",
      "391-01 Yamilex\n",
      "391-04 YAMILEX\n",
      "394-03 Franchesca\n",
      "396-04 Brendon\n",
      "396-04 Brendon\n"
     ]
    }
   ],
   "source": [
    "for i,gn in enumerate(givenlist[i] for i in SortInFileList):\n",
    "    if gn.title() not in femaleDic and gn.title() not in [\",\",\"*\"]:\n",
    "        if gn.title() not in maleDic:\n",
    "            print(NewNumMList[SortInFileList[i]][2],gn)"
   ]
  },
  {
   "cell_type": "code",
   "execution_count": null,
   "metadata": {},
   "outputs": [],
   "source": [
    "226-02 ELLENMRN  , female\n",
    "228-0  Wonda     , female\n",
    "243-0  Mattison  , male\n",
    "244-0  Xue       , female\n",
    "250-0  Urania    , female\n",
    "251-0  Ulyses    , male\n",
    "281-0  Haden     , male\n",
    "296-05 KEEGAN    , male\n",
    "297-0  Kadeem    , male\n",
    "299-0  XOCHILT   , female\n",
    "300-0  Cade      , male\n",
    "302-0  Yajaira   , female\n",
    "303-0  Anastasha , female\n",
    "323-0  Brooklyn  , female\n",
    "329-0  YASSEEN   , male\n",
    "332-0  ALAINA    , female\n",
    "350-0  Ruath     , female\n",
    "360-0  Xander    , male\n",
    "360-0  Xian      , male\n",
    "391-0  Yamilex   , female\n",
    "394-03 Franchesca, female\n",
    "396-04 Brendon   , male\n"
   ]
  },
  {
   "cell_type": "markdown",
   "metadata": {},
   "source": [
    "# I added to the dics from above!"
   ]
  },
  {
   "cell_type": "code",
   "execution_count": 868,
   "metadata": {
    "scrolled": true
   },
   "outputs": [
    {
     "name": "stdout",
     "output_type": "stream",
     "text": [
      "221-02 Ted\n",
      "221-03 Ted\n",
      "221-03 Ted\n",
      "221-03 Ted\n",
      "253-02 Andy\n"
     ]
    }
   ],
   "source": [
    "for i in NewNum1List:\n",
    "    if filedata[i[0]].split('\\n')[i[1]].split()[0].lower() not in [x.lower() for x in givenlist]:\n",
    "        if filedata[i[0]].split('\\n')[i[1]].split()[0].lower() not in [x.lower() for x in surelist]:\n",
    "            if filedata[i[0]].split('\\n')[i[1]].split()[0].lower() in [x.lower() for x in ambigDic]:\n",
    "                print(i[2],filedata[i[0]].split('\\n')[i[1]].split()[0])"
   ]
  },
  {
   "cell_type": "code",
   "execution_count": null,
   "metadata": {},
   "outputs": [],
   "source": [
    "221  Ted      gnmale\n",
    "253  Andy     gnmale"
   ]
  },
  {
   "cell_type": "code",
   "execution_count": 871,
   "metadata": {},
   "outputs": [
    {
     "name": "stdout",
     "output_type": "stream",
     "text": [
      "221-02 Ted\n",
      "221-03 Ted\n",
      "221-03 Ted\n",
      "221-03 Ted\n",
      "247-01 Gregory\n",
      "253-02 Andy\n",
      "273-01 Jake\n",
      "273-02 Jack\n",
      "273-04 Jake\n",
      "277-01 Ervin\n",
      "277-01 Ervin\n",
      "277-01 Ervin\n"
     ]
    }
   ],
   "source": [
    "for i in NewNum1List:\n",
    "    if filedata[i[0]].split('\\n')[i[1]].split()[0].lower() not in [x.lower() for x in givenlist]:\n",
    "        if filedata[i[0]].split('\\n')[i[1]].split()[0].lower() not in [x.lower() for x in surelist]:\n",
    "            if filedata[i[0]].split('\\n')[i[1]].split()[0].lower() in [x.lower() for x in maleDic]:\n",
    "                print(i[2],filedata[i[0]].split('\\n')[i[1]].split()[0])"
   ]
  },
  {
   "cell_type": "code",
   "execution_count": null,
   "metadata": {},
   "outputs": [],
   "source": [
    "247 Gregory     gnmale\n",
    "273 Jake        gnmale\n",
    "273 Jack        gnmale\n",
    "273 Jake        gnmale\n",
    "277 Ervin       SN"
   ]
  },
  {
   "cell_type": "code",
   "execution_count": 872,
   "metadata": {},
   "outputs": [
    {
     "name": "stdout",
     "output_type": "stream",
     "text": [
      "221-02 Ted\n",
      "221-03 Ted\n",
      "221-03 Ted\n",
      "221-03 Ted\n",
      "253-02 Andy\n",
      "285-04 Eunice\n",
      "285-04 Eunice\n",
      "294-01 Ernestine\n",
      "294-03 Ernestine\n",
      "294-04 Ernestine\n",
      "392-04 Trudy\n"
     ]
    }
   ],
   "source": [
    "for i in NewNum1List:\n",
    "    if filedata[i[0]].split('\\n')[i[1]].split()[0].lower() not in [x.lower() for x in givenlist]:\n",
    "        if filedata[i[0]].split('\\n')[i[1]].split()[0].lower() not in [x.lower() for x in surelist]:\n",
    "            if filedata[i[0]].split('\\n')[i[1]].split()[0].lower() in [x.lower() for x in femaleDic]:\n",
    "                print(i[2],filedata[i[0]].split('\\n')[i[1]].split()[0])"
   ]
  },
  {
   "cell_type": "code",
   "execution_count": null,
   "metadata": {},
   "outputs": [],
   "source": [
    "285 Eunice     gnfemale\n",
    "294 Ernestine  gnfemale\n",
    "392 Trudy      gnfemale"
   ]
  },
  {
   "cell_type": "code",
   "execution_count": 873,
   "metadata": {
    "scrolled": true
   },
   "outputs": [
    {
     "name": "stdout",
     "output_type": "stream",
     "text": [
      "226-01 Friedman\n",
      "226-02 Friedman\n",
      "226-04 Friedman\n",
      "240-01 Oneill\n",
      "240-03 Innis\n",
      "240-03 Innis\n",
      "240-04 Innis\n",
      "252-03 Joshy\n",
      "259-03 Yin\n",
      "270-04 Nguyen\n",
      "273-04 Wendee\n",
      "277-03 Quindarrius\n",
      "277-04 Quin\n",
      "277-05 Quindarrius\n",
      "278-03 Jacobs\n",
      "278-03 Jacobs\n",
      "278-03 Jacobs\n",
      "281-02 Haas\n",
      "284-01 castro\n",
      "284-01 alaniz\n",
      "284-01 castro\n",
      "284-02 Carpenter\n",
      "285-04 Urbach\n",
      "287-02 Xuereb\n",
      "287-03 Xuereb\n",
      "287-03 Xuereb\n",
      "289-01 Quijanno\n",
      "308-01 Mills\n",
      "308-01 Urquiza\n",
      "308-01 Mills\n",
      "308-01 Mills\n",
      "308-02 Urquiza\n",
      "308-02 Urquiza\n",
      "308-04 Urquiza\n",
      "309-04 Griggs\n",
      "309-05 Gibbs\n",
      "309-05 Gibbs\n",
      "331-01 Sparks\n",
      "331-02 Sparks\n",
      "331-05 Sparks\n",
      "331-05 Sparks\n",
      "331-05 Sparks\n",
      "333-03 Xiang\n",
      "333-03 Xiang\n",
      "335-03 Beltran\n",
      "356-04 Ishida&#8217;s\n",
      "356-04 Ishidas\n",
      "356-04 Ishidas\n",
      "356-04 Ishidas\n",
      "356-04 Ishida&#8217;s\n",
      "369-04 Quevedo\n",
      "394-01 Villatoro\n",
      "399-04 Tejeda\n"
     ]
    }
   ],
   "source": [
    "for i in NewNum1List:\n",
    "    if filedata[i[0]].split('\\n')[i[1]].split()[0].lower() not in [x.lower() for x in givenlist]:\n",
    "        if filedata[i[0]].split('\\n')[i[1]].split()[0].lower() not in [x.lower() for x in surelist]:\n",
    "            if filedata[i[0]].split('\\n')[i[1]].split()[0].lower() not in [x.lower() for x in maleDic]:\n",
    "                if filedata[i[0]].split('\\n')[i[1]].split()[0].lower() not in [x.lower() for x in femaleDic]:\n",
    "                    if filedata[i[0]].split('\\n')[i[1]].split()[0].lower() not in [x.lower() for x in ambigDic]:\n",
    "                        print(i[2],filedata[i[0]].split('\\n')[i[1]].split()[0])"
   ]
  },
  {
   "cell_type": "code",
   "execution_count": null,
   "metadata": {},
   "outputs": [],
   "source": [
    "226 Friedman   SN\n",
    "240 Oneill     gnmale**\n",
    "240 Innis      SN******\n",
    "252 Joshy      SN\n",
    "259 Yin        SN*\n",
    "279 Nguyen     gnfemale\n",
    "273 Wendee     gnfemale\n",
    "277Quindarrius gnmale\n",
    "277 Quin       gnmale\n",
    "278 Jacobs     SN\n",
    "281 Haas       gnmale\n",
    "284-01 castro  SN**\n",
    "284-01 alaniz  SN**\n",
    "284-01 castro  SN**\n",
    "284 Carpenter  SN\n",
    "285 Urbach     gnfemale\n",
    "287 Xuereb     SN\n",
    "289 Quijanno   SN\n",
    "308 Mills      SN\n",
    "308 Urquiza    SN\n",
    "309 Griggs     gnfemale\n",
    "309 Gibbs      gnfemale\n",
    "331 Sparks     SN\n",
    "333 Xiang      gnfemale\n",
    "335 Beltran    SN\n",
    "356 Ishida&#8217;s SN\n",
    "356 Ishidas    SN\n",
    "369 Quevedo    SN\n",
    "394 Villatoro  SN\n",
    "399 Tejeda     SN"
   ]
  },
  {
   "cell_type": "code",
   "execution_count": 1580,
   "metadata": {},
   "outputs": [],
   "source": [
    "APgivenlist=[]\n",
    "APsurelist=[]\n",
    "APmalename=[]\n",
    "APfemalename=[]\n",
    "APmalename.append(\"Ted\")\n",
    "APmalename.append(\"Ted\")\n",
    "APmalename.append(\"Ted\")\n",
    "APmalename.append(\"Ted\")\n",
    "APmalename.append(\"Andy\")\n",
    "APmalename.append(\"Gregory\")\n",
    "APmalename.append(\"Jake\")\n",
    "APmalename.append(\"Jake\")\n",
    "APmalename.append(\"Jack\")\n",
    "\n",
    "APsurelist.append(\"Ervin\")\n",
    "APsurelist.append(\"Ervin\")\n",
    "APsurelist.append(\"Ervin\")\n",
    "\n",
    "APfemalename.append(\"Eunice\")\n",
    "APfemalename.append(\"Eunice\")\n",
    "APfemalename.append(\"Ernestine\")\n",
    "APfemalename.append(\"Ernestine\")\n",
    "APfemalename.append(\"Ernestine\")\n",
    "APfemalename.append(\"Trudy\")\n",
    "\n",
    "APmalename.append(\"Oneill\")\n",
    "APfemalename.append(\"Nguyen\")\n",
    "APfemalename.append(\"Wendee\")\n",
    "APmalename.append(\"Quindarrius\")\n",
    "APmalename.append(\"Quindarrius\")\n",
    "APmalename.append(\"Quin\")\n",
    "APmalename.append(\"Haas\")\n",
    "APfemalename.append(\"Urbach\")\n",
    "APfemalename.append(\"Griggs\")\n",
    "APfemalename.append(\"Gibbs\")\n",
    "APfemalename.append(\"Gibbs\")\n",
    "APfemalename.append(\"Xiang\")\n",
    "APfemalename.append(\"Xiang\")\n",
    "\n",
    "APsurelist.append(\"Friedman\")\n",
    "APsurelist.append(\"Friedman\")\n",
    "APsurelist.append(\"Friedman\")\n",
    "APsurelist.append(\"Innis\")\n",
    "APsurelist.append(\"Innis\")\n",
    "APsurelist.append(\"Innis\")\n",
    "APsurelist.append(\"Joshy\")\n",
    "APsurelist.append(\"Yin\")\n",
    "APsurelist.append(\"Jacobs\")\n",
    "APsurelist.append(\"Jacobs\")\n",
    "APsurelist.append(\"Jacobs\")\n",
    "APsurelist.append(\"Castro\")\n",
    "APsurelist.append(\"Castro\")\n",
    "APsurelist.append(\"Alaniz\")\n",
    "APsurelist.append(\"Carpenter\")\n",
    "APsurelist.append(\"Xuereb\")\n",
    "APsurelist.append(\"Xuereb\")\n",
    "APsurelist.append(\"Xuereb\")\n",
    "APsurelist.append(\"Quijanno\")\n",
    "APsurelist.append(\"Mills\")\n",
    "APsurelist.append(\"Mills\")\n",
    "APsurelist.append(\"Urquiza\")\n",
    "APsurelist.append(\"Urquiza\")\n",
    "APsurelist.append(\"Urquiza\")\n",
    "APsurelist.append(\"Sparks\")\n",
    "APsurelist.append(\"Sparks\")\n",
    "APsurelist.append(\"Sparks\")\n",
    "APsurelist.append(\"Sparks\")\n",
    "APsurelist.append(\"Sparks\")\n",
    "APsurelist.append(\"Beltran\")\n",
    "APsurelist.append(\"Ishida\")\n",
    "APsurelist.append(\"Ishidas\")\n",
    "APsurelist.append(\"Quevedo\")\n",
    "APsurelist.append(\"Villatoro\")\n",
    "APsurelist.append(\"Tejeda\")\n",
    "\n",
    "\n",
    "APmalename.append(\"Charles\")\n",
    "\n",
    "APsurelist.append(\"Bennett\") ## THIS IS ALSO A MALE NAME AS IS THE FAMILY NAME AND IS IN BOTH OF MY LISTS!!!"
   ]
  },
  {
   "cell_type": "code",
   "execution_count": 1581,
   "metadata": {},
   "outputs": [],
   "source": [
    "for i in NewNum1List:\n",
    "    if filedata[i[0]].split('\\n')[i[1]].split()[0].lower() in [x.lower() for x in givenlist]:\n",
    "        if filedata[i[0]].split('\\n')[i[1]].split()[0].lower() in [x.lower() for x in maleDic]:\n",
    "            APmalename.append(filedata[i[0]].split('\\n')[i[1]].split()[0].title())\n",
    "        elif filedata[i[0]].split('\\n')[i[1]].split()[0].lower() in [x.lower() for x in femaleDic]:\n",
    "            APfemalename.append(filedata[i[0]].split('\\n')[i[1]].split()[0].title())\n",
    "        elif filedata[i[0]].split('\\n')[i[1]].split()[0].lower() in [x.lower() for x in surelist]:\n",
    "            APsurelist.append(filedata[i[0]].split('\\n')[i[1]].split()[0].title())"
   ]
  },
  {
   "cell_type": "code",
   "execution_count": 1582,
   "metadata": {},
   "outputs": [
    {
     "data": {
      "text/plain": [
       "(68, 48, 216, 215)"
      ]
     },
     "execution_count": 1582,
     "metadata": {},
     "output_type": "execute_result"
    }
   ],
   "source": [
    "len(APfemalename),len(APmalename),len(MaleList),len(FemaleList)"
   ]
  },
  {
   "cell_type": "code",
   "execution_count": 1583,
   "metadata": {},
   "outputs": [
    {
     "data": {
      "text/plain": [
       "(264, 283)"
      ]
     },
     "execution_count": 1583,
     "metadata": {},
     "output_type": "execute_result"
    }
   ],
   "source": [
    "len(MaleList+APmalename),len(FemaleList+APfemalename)"
   ]
  },
  {
   "cell_type": "code",
   "execution_count": 1584,
   "metadata": {},
   "outputs": [],
   "source": [
    "FAllin=[i22.lower() for i22 in (FemaleList+APfemalename)]\n",
    "MAllin=[i22.lower() for i22 in (MaleList+APmalename)]\n",
    "SAllin=[i22.lower() for i22 in (surelist+APsurelist)]"
   ]
  },
  {
   "cell_type": "markdown",
   "metadata": {},
   "source": [
    "# fixed app above"
   ]
  },
  {
   "cell_type": "code",
   "execution_count": 889,
   "metadata": {},
   "outputs": [
    {
     "name": "stdout",
     "output_type": "stream",
     "text": [
      "272-02 Oliver\n"
     ]
    }
   ],
   "source": [
    "for i in NewNum1List:\n",
    "    if filedata[i[0]].split('\\n')[i[1]].split()[0].lower() in [\"Xian\",\"oliver\",\"aaron\"]:\n",
    "        print(i[2],filedata[i[0]].split('\\n')[i[1]].split()[0])"
   ]
  },
  {
   "cell_type": "code",
   "execution_count": 905,
   "metadata": {},
   "outputs": [
    {
     "data": {
      "text/plain": [
       "[9102, 10, '272-02']"
      ]
     },
     "execution_count": 905,
     "metadata": {},
     "output_type": "execute_result"
    }
   ],
   "source": [
    "NewNumMList[96]"
   ]
  },
  {
   "cell_type": "code",
   "execution_count": 906,
   "metadata": {},
   "outputs": [
    {
     "name": "stdout",
     "output_type": "stream",
     "text": [
      "[9102, 10, '272-02'] Oliver\n",
      "[35903, 6, '396-04'] AARON\n",
      "[9069, 8, '272-01'] Oliver\n",
      "[9170, 8, '272-03'] Oliver\n"
     ]
    }
   ],
   "source": [
    "for i,sn in enumerate(surelist):\n",
    "    if sn.lower() in [\"Xian\",\"oliver\",\"aaron\"]:\n",
    "        print(NewNumMList[i],sn)"
   ]
  },
  {
   "cell_type": "code",
   "execution_count": 908,
   "metadata": {},
   "outputs": [
    {
     "name": "stdout",
     "output_type": "stream",
     "text": [
      "[15981, 3, '294-03'] AARON\n",
      "[26254, 13, '334-01'] Oliver\n",
      "[26343, 7, '334-03'] Oliver\n",
      "[26412, 0, '334-04'] Oliver\n",
      "[26470, 9, '334-04'] OLIVER\n",
      "[26301, 32, '334-02'] Oliver\n",
      "[26303, 11, '334-02'] Oliver\n"
     ]
    }
   ],
   "source": [
    "for i,gn in enumerate(givenlist):\n",
    "    if gn.lower() in [\"Xian\",\"oliver\",\"aaron\"]:\n",
    "        print(NewNumMList[i],gn)"
   ]
  },
  {
   "cell_type": "code",
   "execution_count": 910,
   "metadata": {},
   "outputs": [
    {
     "data": {
      "text/plain": [
       "(469, 410, 879)"
      ]
     },
     "execution_count": 910,
     "metadata": {},
     "output_type": "execute_result"
    }
   ],
   "source": [
    "len(SortInFileList),len(N1SortInFileList),len(NewNumMList)"
   ]
  },
  {
   "cell_type": "code",
   "execution_count": null,
   "metadata": {},
   "outputs": [],
   "source": [
    "for i,files in enumerate()"
   ]
  },
  {
   "cell_type": "code",
   "execution_count": 925,
   "metadata": {},
   "outputs": [],
   "source": [
    "SortMFile=np.hstack((SortInFileList,469+N1SortInFileList))"
   ]
  },
  {
   "cell_type": "code",
   "execution_count": 1531,
   "metadata": {},
   "outputs": [
    {
     "data": {
      "text/plain": [
       "(215, 14)"
      ]
     },
     "execution_count": 1531,
     "metadata": {},
     "output_type": "execute_result"
    }
   ],
   "source": [
    "len(FemaleList),len(APfemalename)"
   ]
  },
  {
   "cell_type": "code",
   "execution_count": 1532,
   "metadata": {},
   "outputs": [
    {
     "data": {
      "text/plain": [
       "283"
      ]
     },
     "execution_count": 1532,
     "metadata": {},
     "output_type": "execute_result"
    }
   ],
   "source": [
    "len(FAllin)"
   ]
  },
  {
   "cell_type": "code",
   "execution_count": 1092,
   "metadata": {},
   "outputs": [],
   "source": [
    "i=\"254-04\""
   ]
  },
  {
   "cell_type": "code",
   "execution_count": 1195,
   "metadata": {},
   "outputs": [],
   "source": [
    "i=\"274-03\""
   ]
  },
  {
   "cell_type": "code",
   "execution_count": 1216,
   "metadata": {},
   "outputs": [
    {
     "data": {
      "text/plain": [
       "'Ickes, Jr., William'"
      ]
     },
     "execution_count": 1216,
     "metadata": {},
     "output_type": "execute_result"
    }
   ],
   "source": [
    "PATIENT = AddData[7].split('\\t')[2]\n",
    "PATIENT"
   ]
  },
  {
   "cell_type": "code",
   "execution_count": 1215,
   "metadata": {},
   "outputs": [
    {
     "data": {
      "text/plain": [
       "'Ickes, Jr., William'"
      ]
     },
     "execution_count": 1215,
     "metadata": {},
     "output_type": "execute_result"
    }
   ],
   "source": [
    "AddData[7].split('\\t')[2]"
   ]
  },
  {
   "cell_type": "code",
   "execution_count": 1139,
   "metadata": {},
   "outputs": [
    {
     "ename": "SyntaxError",
     "evalue": "invalid syntax (<ipython-input-1139-7430bdcd570a>, line 3)",
     "output_type": "error",
     "traceback": [
      "\u001b[0;36m  File \u001b[0;32m\"<ipython-input-1139-7430bdcd570a>\"\u001b[0;36m, line \u001b[0;32m3\u001b[0m\n\u001b[0;31m    if PATIENT == [SortInFileList[-1]]\u001b[0m\n\u001b[0m                                      ^\u001b[0m\n\u001b[0;31mSyntaxError\u001b[0m\u001b[0;31m:\u001b[0m invalid syntax\n"
     ]
    }
   ],
   "source": [
    "#CheckAndAlter()\n",
    "if len(PATIENT.split())==1:\n",
    "    if PATIENT == [SortInFileList[-1]]"
   ]
  },
  {
   "cell_type": "code",
   "execution_count": 1014,
   "metadata": {},
   "outputs": [
    {
     "name": "stdout",
     "output_type": "stream",
     "text": [
      "93 , FRANCE^07/25/85^ELROD [7038, 6, '254-04']\n"
     ]
    }
   ],
   "source": [
    "for ii,tt in enumerate(SortInFileList):\n",
    "    if NewNumMList[tt][2]==i:\n",
    "        print(ii,givenlist[tt],surelist[tt],NewNumMList[tt])"
   ]
  },
  {
   "cell_type": "code",
   "execution_count": 1041,
   "metadata": {},
   "outputs": [
    {
     "name": "stdout",
     "output_type": "stream",
     "text": [
      "90 FRANKIE NOONAN [6895, 9, '254-01']\n",
      "91 FRANCE NOONAN [6962, 12, '254-02']\n",
      "92 , France^10/01/82^ELROD [6993, 9, '254-03']\n",
      "93 , FRANCE^07/25/85^ELROD [7038, 6, '254-04']\n",
      "94 WENDY NOONAN [7191, 0, '254-05']\n"
     ]
    }
   ],
   "source": [
    "TempGivenList = []\n",
    "TempSureList = []\n",
    "TempGenderList = []\n",
    "for ii,tt in enumerate(SortInFileList):\n",
    "    if NewNumMList[tt][2][:-3]==i[:-3]:\n",
    "        print(ii,givenlist[tt],surelist[tt],NewNumMList[tt])\n",
    "        TempGivenList.append(givenlist[tt])\n",
    "        TempSureList.append(surelist[tt])\n",
    "        TempGenderList.append(GenderList[tt])"
   ]
  },
  {
   "cell_type": "code",
   "execution_count": 1585,
   "metadata": {},
   "outputs": [],
   "source": [
    "def GetAndReturn(PATIENT,TFlag):\n",
    "    if len(TFlag) == 2:\n",
    "        rgFlag = TFlag[0]\n",
    "        rsFlag = TFlag[1]\n",
    "    else:\n",
    "        raise ValueError(\"TFlag should be with len 2\")\n",
    "    jr = Givenname = Surename = NewGivenName = NewSureName = \"\"\n",
    "    if ((len(PATIENT.split()) == 1) and (len(PATIENT.split(',')) == 1)):\n",
    "        if PATIENT.lower() in SAllin:\n",
    "            Surename = PATIENT\n",
    "            NewSureName = ReturnSure(PATIENT,rsFlag)\n",
    "        elif ((PATIENT.lower() in FAllin) or (PATIENT.lower() in MAllin)):\n",
    "            Givenname = PATIENT\n",
    "            NewGivenNam = ReturnGiven(PATIENT,rgFlag)\n",
    "        elif PATIENT.lower()[-2:]==\"\\'s\":\n",
    "            if PATIENT.lower()[:-2] in SAllin:\n",
    "                Surename = PATIENT[:-2]\n",
    "                NewSureName = ReturnSure(PATIENT[:-2],rsFlag)\n",
    "            elif ((PATIENT.lower()[:-2] in FAllin) or (PATIENT.lower()[:-2] in MAllin)):\n",
    "                Givenname = PATIENT[:-2]\n",
    "                NewGivenNam = ReturnGiven(PATIENT[:-2],rgFlag)\n",
    "            else:\n",
    "                raise ValueError(\"PATIENT(%s) is len 1 splited but does not match!\"%PATIENT)\n",
    "        else:\n",
    "            raise ValueError(\"!!PATIENT(%s) is len 1 splited but does not match!\"%PATIENT)\n",
    "    elif ((len(PATIENT.split()) == 1) and (len(PATIENT.split(',')) == 2)):\n",
    "        Surename = PATIENT.split(',')[0]\n",
    "        Givenname= PATIENT.split(',')[1]\n",
    "        if ((len(Surename.split()) == 1) and \\\n",
    "            (len(Givenname.split()) == 1) and \\\n",
    "            (Givenname.lower() not in [\"jr\",\"jr.\"])):\n",
    "            if ((Givenname.lower() in FAllin) or (Givenname.lower() in MAllin)):\n",
    "                NewGivenName = ReturnGiven(Givenname,rgFlag)\n",
    "            else:\n",
    "                raise ValueError(\"Givenname(%s) not in the list\"%Givenname)\n",
    "            if (Surename.lower() in SAllin):\n",
    "                NewSureName = ReturnSure(Surename,rsFlag)\n",
    "            else:\n",
    "                raise ValueError(\"Surename(%s) not in the list\"%Surename)\n",
    "        else:\n",
    "             raise ValueError(\"Len Surename(%s) and Givenname(%s) are off\"%(Surename,Givenname))   \n",
    "\n",
    "    elif len(PATIENT.split()) == 1:\n",
    "        raise ValueError(\"Len of split with space and , are not the same in PATIENT=%s\"%PATIENT)\n",
    "    ######\n",
    "    elif len(PATIENT.split())==3:\n",
    "        if (PATIENT.split()[0][-1] == \",\"):\n",
    "            Surename = PATIENT.split()[0][:-1]\n",
    "            if len(PATIENT.split()[1]) == 1:\n",
    "                jr = PATIENT.split()[1]\n",
    "                Givenname = PATIENT.split()[2]\n",
    "            elif PATIENT.split()[1][-1] == \".\":\n",
    "                jr = PATIENT.split()[1][:-1]\n",
    "                Givenname = PATIENT.split()[2]\n",
    "            elif PATIENT.split()[1][-2] == \".\":\n",
    "                jr = PATIENT.split()[1][:-2]\n",
    "                Givenname = PATIENT.split()[2]\n",
    "            elif PATIENT.split()[1].lower() == \"jr\":\n",
    "                jr = PATIENT.split()[1]\n",
    "                Givenname = PATIENT.split()[2]\n",
    "            elif len(PATIENT.split()[2]) == 1:\n",
    "                jr = PATIENT.split()[2]\n",
    "                Givenname = PATIENT.split()[1]\n",
    "            elif PATIENT.split()[2][-1] == \".\":\n",
    "                jr = PATIENT.split()[2][:-1]\n",
    "                Givenname = PATIENT.split()[1]\n",
    "            elif PATIENT.split()[2][-2] == \".\":\n",
    "                jr = PATIENT.split()[2][:-2]\n",
    "                Givenname = PATIENT.split()[1]\n",
    "            elif PATIENT.split()[2].lower() == \"jr\":\n",
    "                jr = PATIENT.split()[2]\n",
    "                Givenname = PATIENT.split()[1]\n",
    "            else:\n",
    "                raise ValueError(\"PATIENT(%s) first part has , but the rest is not well defined\"%PATIENT)\n",
    "        else:\n",
    "            if len(PATIENT.split()[0]) == 1:\n",
    "                jr = PATIENT.split()[0]\n",
    "                Givenname = PATIENT.split()[1]\n",
    "                Surename = PATIENT.split()[2]\n",
    "            elif PATIENT.split()[0][-1] == \".\":\n",
    "                jr = PATIENT.split()[0][:-1]\n",
    "                Givenname = PATIENT.split()[1]\n",
    "                Surename = PATIENT.split()[2]\n",
    "            elif PATIENT.split()[0][-2] == \".\":\n",
    "                jr = PATIENT.split()[0][:-2]\n",
    "                Givenname = PATIENT.split()[1]\n",
    "                Surename = PATIENT.split()[2]\n",
    "            elif PATIENT.split()[0].lower() == \"jr\":\n",
    "                jr = PATIENT.split()[0]\n",
    "                Givenname = PATIENT.split()[1]\n",
    "                Surename = PATIENT.split()[2]\n",
    "            else:\n",
    "                if len(PATIENT.split()[1]) == 1:\n",
    "                    jr = PATIENT.split()[1]\n",
    "                    Givenname = PATIENT.split()[0]\n",
    "                    Surename = PATIENT.split()[2]\n",
    "                elif PATIENT.split()[1][-1] == \".\":\n",
    "                    jr = PATIENT.split()[1][:-1]\n",
    "                    Givenname = PATIENT.split()[0]\n",
    "                    Surename = PATIENT.split()[2]\n",
    "                elif PATIENT.split()[1][-2] == \".\":\n",
    "                    jr = PATIENT.split()[1][:-2]\n",
    "                    Givenname = PATIENT.split()[0]\n",
    "                    Surename = PATIENT.split()[2]\n",
    "                elif PATIENT.split()[1].lower() == \"jr\":\n",
    "                    jr = PATIENT.split()[1]\n",
    "                    Givenname = PATIENT.split()[0]\n",
    "                    Surename = PATIENT.split()[2]\n",
    "                else:\n",
    "                    if len(PATIENT.split()[2]) == 1:\n",
    "                        jr = PATIENT.split()[2]\n",
    "                        Givenname = PATIENT.split()[0]\n",
    "                        Surename = PATIENT.split()[1]\n",
    "                    elif PATIENT.split()[2][-1] == \".\":\n",
    "                        jr = PATIENT.split()[2][:-1]\n",
    "                        Givenname = PATIENT.split()[0]\n",
    "                        Surename = PATIENT.split()[1]\n",
    "                    elif PATIENT.split()[2][-2] == \".\":\n",
    "                        jr = PATIENT.split()[2][:-2]\n",
    "                        Givenname = PATIENT.split()[0]\n",
    "                        Surename = PATIENT.split()[1]\n",
    "                    elif PATIENT.split()[2].lower() == \"jr\":\n",
    "                        jr = PATIENT.split()[2]\n",
    "                        Givenname = PATIENT.split()[0]\n",
    "                        Surename = PATIENT.split()[1]\n",
    "                    else:\n",
    "                        raise ValueError(\"PATIENT(%s) is not well defined\"%PATIENT)\n",
    "        if ((Givenname.lower() in FAllin) or (Givenname.lower() in MAllin)):\n",
    "            NewGivenName = ReturnGiven(Givenname,rgFlag)\n",
    "        else:\n",
    "            raise ValueError(\"Givenname(%s) not in the list\"%Givenname)\n",
    "        if (Surename.lower() in SAllin):\n",
    "            NewSureName = ReturnSure(Surename,rsFlag)\n",
    "        else:\n",
    "            raise ValueError(\"Surename(%s) not in the list\"%Surename)\n",
    "    ######\n",
    "    elif len(PATIENT.split(','))==3:\n",
    "        raise ValueError(\"PATIENT(%s) , gives 3 but space does not.\"%PATIENT)\n",
    "    ######\n",
    "    elif len(PATIENT.split())==2:\n",
    "        if PATIENT.split()[0][-1] == \",\":\n",
    "            Surename = PATIENT.split()[0][:-1]\n",
    "            Givenname= PATIENT.split()[1]\n",
    "            if ((len(Surename.split()) == 1) and \\\n",
    "                (len(Givenname.split()) == 1) and \\\n",
    "                (Givenname.lower() not in [\"jr\",\"jr.\"])):\n",
    "                if PATIENT.split(\",\")[0] == Surename:\n",
    "                    if ((Givenname.lower() in FAllin) or (Givenname.lower() in MAllin)):\n",
    "                        NewGivenName = ReturnGiven(Givenname,rgFlag)\n",
    "                    else:\n",
    "                        raise ValueError(\"From Patinet(%s), Givenname(%s) not in the list\"%(PATIENT,Givenname))\n",
    "                    if (Surename.lower() in SAllin):\n",
    "                        NewSureName = ReturnSure(Surename,rsFlag)\n",
    "                    else:\n",
    "                        raise ValueError(\"!Surename(%s) not in the list\"%Surename)\n",
    "                else:\n",
    "                    raise ValueError(\"Surename = %s but PATIENT.split , 0 gives different(PATIENT=%s)\"%(Surename,PATIENT))\n",
    "            elif Givenname.lower() in [\"jr\",\"jr.\"]:\n",
    "                NewGivenName = Givenname\n",
    "            else:\n",
    "                raise ValueError(\"len of split of Givenname(%s) or Surename(%s) is not 1!\"%(Givenname,Surename))\n",
    "        elif ((len(PATIENT.split()[0].split(\",\")) == 1) and \\\n",
    "              (len(PATIENT.split()[1].split(\",\")) == 1)):\n",
    "            Givenname= PATIENT.split()[0]\n",
    "            Surename = PATIENT.split()[1]\n",
    "            if ((Givenname.lower() in FAllin) or (Givenname.lower() in MAllin)):\n",
    "                NewGivenName = ReturnGiven(Givenname,rgFlag)\n",
    "            elif Givenname.lower() in [\"jr\",\"jr.\"]:\n",
    "                NewGivenNam = Givenname\n",
    "            else:\n",
    "                raise ValueError(\"Givenname(%s) not in the list. The PATIENT is %s\"%(Givenname,PATIENT))\n",
    "            if (Surename.lower() in SAllin):\n",
    "                NewSureName = ReturnSure(Surename,rsFlag)\n",
    "            else:\n",
    "                raise ValueError(\"Surename(%s) not in the list. The PATIENT is %s\"%(Surename,PATIENT))\n",
    "        elif((PATIENT.split(\",\")[1].split()[1].lower() in [\"jr\",\"jr.\"]) or \\\n",
    "             len(PATIENT.split(\",\")[1].split()[1]) == 1 or \\\n",
    "             PATIENT.split(\",\")[1].split()[1] == \"FRANCIS\"):##THIS IS A HACK for file 297-05.txt!\n",
    "            jr=PATIENT.split(\",\")[1].split()[1]\n",
    "            Givenname = PATIENT.split(\",\")[1].split()[0]\n",
    "            Surename = PATIENT.split(\",\")[0]\n",
    "            if ((len(Surename.split()) == 1) and \\\n",
    "                (len(Givenname.split()) == 1) and \\\n",
    "                (Givenname.lower() not in [\"jr\",\"jr.\"])):\n",
    "                if ((Givenname.lower() in FAllin) or (Givenname.lower() in MAllin)):\n",
    "                    NewGivenName = ReturnGiven(Givenname,rgFlag)\n",
    "                else:\n",
    "                    raise ValueError(\"Givenname(%s) not in the list\"%Givenname)\n",
    "                if (Surename.lower() in SAllin):\n",
    "                    NewSureName = ReturnSure(Surename,rsFlag)\n",
    "                else:\n",
    "                    raise ValueError(\"Surename(%s) not in the list\"%Surename)\n",
    "            else:\n",
    "                raise ValueError(\"len of split of Givenname(%s) or Surename(%s) is not 1!\"%(Givenname,Surename))\n",
    "        else:\n",
    "            raise ValueError(\"This is PATIENT with len 2 that does not fit: %s\"%PATIENT)\n",
    "    return(Givenname,Surename,NewGivenName,NewSureName,jr)"
   ]
  },
  {
   "cell_type": "code",
   "execution_count": 1671,
   "metadata": {},
   "outputs": [],
   "source": [
    "FinalDict={}\n",
    "random.seed=4\n",
    "VgnsnFlag = [0,1]\n",
    "for rawFilename in filenames[:]:\n",
    "    if rawFilename[-3:]==\"txt\":\n",
    "        Filename = rawFilename[:-4]\n",
    "        FinalDict[\"%s\"%Filename] = makeNewFiles(Filename,gnsnFlag = VgnsnFlag)\n",
    "np.save(\"/home/salman/NeuroNER-master/src/SalmanTest/MyTrain385SeparateRepFlag%s%s/NAMEFinalDict%s%s.npy\"\\\n",
    "        %(VgnsnFlag[0],VgnsnFlag[1],VgnsnFlag[0],VgnsnFlag[1]),FinalDict)"
   ]
  },
  {
   "cell_type": "code",
   "execution_count": 1668,
   "metadata": {},
   "outputs": [],
   "source": [
    "np.save(\"/home/salman/NeuroNER-master/src/SalmanTest/filenames.npy\",filenames)"
   ]
  },
  {
   "cell_type": "code",
   "execution_count": 1663,
   "metadata": {},
   "outputs": [],
   "source": [
    "##TEST = np.load(\"/home/salman/NeuroNER-master/src/SalmanTest/MyTrain385SeparateRepFlag00/FinalDict.npy\").item()"
   ]
  },
  {
   "cell_type": "code",
   "execution_count": 1669,
   "metadata": {},
   "outputs": [],
   "source": [
    "def makeNewFiles(FileName,gnsnFlag = [0,0]):\n",
    "    #gnsnFlag = [0,0]\n",
    "    NoPatientFlag = False\n",
    "    TempDictlist=[]\n",
    "    with open(\"/home/salman/NeuroNER-master/data/i2b2_2014_deid/train/%s.txt\"%FileName, 'r') as file :\n",
    "        TempData = file.read()\n",
    "    NewData=\"\"\n",
    "    with open(\"/home/salman/NeuroNER-master/data/i2b2_2014_deid/train/%s.ann\"%FileName, 'r') as file :\n",
    "        AddData = file.read().split('\\n')\n",
    "    oldEnd = 0\n",
    "    for AD in AddData:\n",
    "        if len(AD)!=0:\n",
    "            if(AD.split('\\t')[1].split()[0]==\"PATIENT\"):\n",
    "                NoPatientFlag = True\n",
    "                Big = int(AD.split('\\t')[1].split()[1])\n",
    "                End = int(AD.split('\\t')[1].split()[2])\n",
    "                upAD = TempData[Big:End]\n",
    "                Givenname,Surename,NewGivenName,NewSureName,jr = GetAndReturn(AD.split('\\t')[2],gnsnFlag)\n",
    "                Givenname = Givenname.strip(' ')\n",
    "                Surename = Surename.strip(' ')\n",
    "                NewGivenName = NewGivenName.strip(' ')\n",
    "                NewSureName = NewSureName.strip(' ')\n",
    "                if ((len(Givenname) != 0) and (len(NewGivenName) != 0)):\n",
    "                    upAD = upAD.replace(Givenname,NewGivenName)\n",
    "                if ((len(Surename) != 0) and (len(NewSureName) !=0 )):\n",
    "                    upAD = upAD.replace(Surename,NewSureName)\n",
    "                NewData = NewData+TempData[oldEnd:Big]+upAD\n",
    "                oldEnd = int(AD.split('\\t')[1].split()[2])\n",
    "                #TempDictlist.append([AD.split('\\t')[2],Big,upAD])\n",
    "                TempDictlist.append([[Givenname,NewGivenName],[Surename,NewSureName]])\n",
    "    if NoPatientFlag:\n",
    "        NewData = NewData+TempData[End:]\n",
    "        SEPERATOR = \"aa aa aa aa aa aa aa aa aa aa aa aa aa aa aa aa aa aa aa aa aa aa aa aa aa\"\n",
    "        SEPERATOR2 = SEPERATOR+SEPERATOR+SEPERATOR+SEPERATOR\n",
    "        NewData = NewData+\"\\n . \\n\\n\"+SEPERATOR2+SEPERATOR2+SEPERATOR2+SEPERATOR2\n",
    "        with open(\"/home/salman/NeuroNER-master/data/Speedi/test/%s.txt\"%FileName, 'w') as file :\n",
    "            file.write(NewData)\n",
    "        return(TempDictlist)\n",
    "    else:\n",
    "        return()"
   ]
  },
  {
   "cell_type": "code",
   "execution_count": 1596,
   "metadata": {},
   "outputs": [
    {
     "data": {
      "text/plain": [
       "'ROBERT   LOUIS'"
      ]
     },
     "execution_count": 1596,
     "metadata": {},
     "output_type": "execute_result"
    }
   ],
   "source": [
    "TEST1=\"ROBERT   LOUIS\"\n",
    "TESTgn1=\"ROBERT \"\n",
    "TESTsn1=\"LOUIS\"\n",
    "TESTgn2=\"ROBERT\"\n",
    "TESTsn2=\"LOUIS\"\n",
    "TESTgn1 = TESTgn1.strip(\" \")\n",
    "TEST1.replace(TESTgn1,TESTgn2)"
   ]
  },
  {
   "cell_type": "code",
   "execution_count": 1595,
   "metadata": {},
   "outputs": [
    {
     "data": {
      "text/plain": [
       "'ROBERT   LOUIS'"
      ]
     },
     "execution_count": 1595,
     "metadata": {},
     "output_type": "execute_result"
    }
   ],
   "source": [
    "TEST1"
   ]
  },
  {
   "cell_type": "code",
   "execution_count": 1430,
   "metadata": {},
   "outputs": [
    {
     "data": {
      "text/plain": [
       "'274-03'"
      ]
     },
     "execution_count": 1430,
     "metadata": {},
     "output_type": "execute_result"
    }
   ],
   "source": [
    "i"
   ]
  },
  {
   "cell_type": "code",
   "execution_count": 1244,
   "metadata": {},
   "outputs": [
    {
     "data": {
      "text/plain": [
       "'Ickes, Jr., William'"
      ]
     },
     "execution_count": 1244,
     "metadata": {},
     "output_type": "execute_result"
    }
   ],
   "source": [
    "PATIENT"
   ]
  },
  {
   "cell_type": "code",
   "execution_count": 1249,
   "metadata": {},
   "outputs": [
    {
     "data": {
      "text/plain": [
       "('William', 'Berry', 'William', 'Ickes', 'Jr')"
      ]
     },
     "execution_count": 1249,
     "metadata": {},
     "output_type": "execute_result"
    }
   ],
   "source": [
    "NewGivenName,NewSureName,Givenname,Surename,jr"
   ]
  },
  {
   "cell_type": "code",
   "execution_count": 1174,
   "metadata": {},
   "outputs": [
    {
     "data": {
      "text/plain": [
       "['ICKES', 'WILLIAM']"
      ]
     },
     "execution_count": 1174,
     "metadata": {},
     "output_type": "execute_result"
    }
   ],
   "source": [
    "PATIENT.split()[0].split(\",\")"
   ]
  },
  {
   "cell_type": "code",
   "execution_count": 1168,
   "metadata": {},
   "outputs": [
    {
     "data": {
      "text/plain": [
       "['ICKES', 'WILLIAM JR']"
      ]
     },
     "execution_count": 1168,
     "metadata": {},
     "output_type": "execute_result"
    }
   ],
   "source": [
    "PATIENT.split(\",\")"
   ]
  },
  {
   "cell_type": "code",
   "execution_count": 1169,
   "metadata": {},
   "outputs": [
    {
     "data": {
      "text/plain": [
       "['ICKES,WILLIAM', 'JR']"
      ]
     },
     "execution_count": 1169,
     "metadata": {},
     "output_type": "execute_result"
    }
   ],
   "source": [
    "PATIENT.split()"
   ]
  },
  {
   "cell_type": "code",
   "execution_count": null,
   "metadata": {},
   "outputs": [],
   "source": []
  },
  {
   "cell_type": "code",
   "execution_count": 1182,
   "metadata": {},
   "outputs": [
    {
     "data": {
      "text/plain": [
       "2"
      ]
     },
     "execution_count": 1182,
     "metadata": {},
     "output_type": "execute_result"
    }
   ],
   "source": [
    "len(PATIENT.split(\",\")[1].split()[1])"
   ]
  },
  {
   "cell_type": "code",
   "execution_count": 1191,
   "metadata": {},
   "outputs": [
    {
     "data": {
      "text/plain": [
       "0"
      ]
     },
     "execution_count": 1191,
     "metadata": {},
     "output_type": "execute_result"
    }
   ],
   "source": [
    "len((PATIENT+\",\").split()[1].split(',')[1])"
   ]
  },
  {
   "cell_type": "code",
   "execution_count": 1179,
   "metadata": {},
   "outputs": [
    {
     "data": {
      "text/plain": [
       "('FRANCE', 'NOONAN', '')"
      ]
     },
     "execution_count": 1179,
     "metadata": {},
     "output_type": "execute_result"
    }
   ],
   "source": [
    "Givenname,Surename,TEST"
   ]
  },
  {
   "cell_type": "code",
   "execution_count": 1180,
   "metadata": {},
   "outputs": [
    {
     "data": {
      "text/plain": [
       "'FRANCENOONAN'"
      ]
     },
     "execution_count": 1180,
     "metadata": {},
     "output_type": "execute_result"
    }
   ],
   "source": [
    "Givenname+TEST+Surename"
   ]
  },
  {
   "cell_type": "code",
   "execution_count": 1030,
   "metadata": {},
   "outputs": [],
   "source": [
    "if len(PATIENT.split())==2:\n",
    "    if PATIENT.split()[0][-1]==\",\":\n",
    "        Surename = PATIENT.split()[0][:-1]\n",
    "        Givenname= PATIENT.split()[1]\n",
    "        for itgl,tgl in enumerate(TempGivenList):\n",
    "            if Givenname.lower() == tgl.lower():\n",
    "                NewGivenName.append(ReturnGiven(Givenname,TempGenderList[itgl],Flag=0))\n",
    "            if Surename.lower() == TempSureList[itgl].lower():\n",
    "                NewSureName.append(ReturnSure(Surename,Flag=0))\n",
    "                \n",
    "            "
   ]
  },
  {
   "cell_type": "code",
   "execution_count": null,
   "metadata": {},
   "outputs": [],
   "source": []
  },
  {
   "cell_type": "code",
   "execution_count": null,
   "metadata": {},
   "outputs": [],
   "source": []
  },
  {
   "cell_type": "code",
   "execution_count": 1107,
   "metadata": {},
   "outputs": [],
   "source": [
    "def ReturnGiven(GN,Flag=1):\n",
    "    if Flag == 0:\n",
    "        return(GN)\n",
    "    elif Flag == 1:\n",
    "        rc = GN.lower()\n",
    "        if GN.lower() in FAllin:\n",
    "            while rc == GN.lower():\n",
    "                rc = random.choice(FAllin)\n",
    "        if GN.lower() in MAllin:\n",
    "            while rc == GN.lower():\n",
    "                rc = random.choice(MAllin)\n",
    "        if GN.lower()==GN:\n",
    "            return(rc)\n",
    "        if GN.title()==GN:\n",
    "            return(rc.title())\n",
    "        if GN.upper()==GN:\n",
    "            return(rc.upper())\n",
    "        raise ValueError(\"Givenname(%s) is not in the gender list\"%GN)\n",
    "    elif Flag == 2:\n",
    "        rc = GN.lower()\n",
    "        if GN.lower() in FAllin:\n",
    "            while rc.lower() == GN.lower():\n",
    "                rc = random.choice(FemaleOutList)\n",
    "        if GN.lower() in MAllin:\n",
    "            while rc.lower() == GN.lower():\n",
    "                rc = random.choice(MaleOutList)\n",
    "        if GN.lower()==GN:\n",
    "            return(rc.lower())\n",
    "        if GN.title()==GN:\n",
    "            return(rc.title())\n",
    "        if GN.upper()==GN:\n",
    "            return(rc.upper())\n",
    "        raise ValueError(\"Givenname(%s) is not in the gender list\"%GN)\n",
    "    else:\n",
    "        raise ValueError(\"Flag should be eather 0, 1 or 2 but is %s\"%Flag)"
   ]
  },
  {
   "cell_type": "code",
   "execution_count": 1126,
   "metadata": {},
   "outputs": [],
   "source": [
    "def ReturnSure(SN,Flag=1):\n",
    "    if Flag == 0:\n",
    "        return(SN)\n",
    "    elif Flag == 1:\n",
    "        rc = SN.lower()\n",
    "        while rc == SN.lower():\n",
    "            rc = random.choice(SAllin)\n",
    "        if SN.lower()==SN:\n",
    "            return(rc)\n",
    "        if SN.title()==SN:\n",
    "            return(rc.title())\n",
    "        if SN.upper()==SN:\n",
    "            return(rc.upper())\n",
    "    elif Flag == 2:\n",
    "        rc = SN.lower()\n",
    "        while rc.lower() == SN.lower():\n",
    "            rc = random.choice(SureOutList)\n",
    "        if SN.lower()==SN:\n",
    "            return(rc.lower())\n",
    "        if SN.title()==SN:\n",
    "            return(rc.title())\n",
    "        if SN.upper()==SN:\n",
    "            return(rc.upper())\n",
    "    else:\n",
    "        raise ValueError('Flag should be eather 0, 1 or 2 but is %s'%Flag)"
   ]
  },
  {
   "cell_type": "code",
   "execution_count": 1099,
   "metadata": {},
   "outputs": [],
   "source": [
    "MaleOutList = []\n",
    "FemaleOutList = []\n",
    "SureOutList = []\n",
    "for i in femaleDic:\n",
    "    if i.lower() not in FAllin:\n",
    "        FemaleOutList.append(i.title())\n",
    "for i in maleDic:\n",
    "    if i.lower() not in MAllin:\n",
    "        MaleOutList.append(i.title())\n",
    "for i in FullFamiliList:\n",
    "    if i.lower() not in FAllin:\n",
    "        SureOutList.append(i.title())"
   ]
  },
  {
   "cell_type": "code",
   "execution_count": null,
   "metadata": {},
   "outputs": [],
   "source": []
  },
  {
   "cell_type": "code",
   "execution_count": null,
   "metadata": {},
   "outputs": [],
   "source": []
  },
  {
   "cell_type": "code",
   "execution_count": null,
   "metadata": {},
   "outputs": [],
   "source": []
  },
  {
   "cell_type": "code",
   "execution_count": null,
   "metadata": {},
   "outputs": [],
   "source": []
  },
  {
   "cell_type": "code",
   "execution_count": null,
   "metadata": {},
   "outputs": [],
   "source": []
  },
  {
   "cell_type": "code",
   "execution_count": null,
   "metadata": {},
   "outputs": [],
   "source": [
    "Givenname in TempGivenList"
   ]
  },
  {
   "cell_type": "code",
   "execution_count": 1048,
   "metadata": {},
   "outputs": [
    {
     "data": {
      "text/plain": [
       "(216, 9)"
      ]
     },
     "execution_count": 1048,
     "metadata": {},
     "output_type": "execute_result"
    }
   ],
   "source": [
    "len(MaleList),len(APmalename)"
   ]
  },
  {
   "cell_type": "code",
   "execution_count": 1047,
   "metadata": {},
   "outputs": [
    {
     "data": {
      "text/plain": [
       "['William',\n",
       " 'William',\n",
       " 'Eugene',\n",
       " 'Brady',\n",
       " 'Brady',\n",
       " 'Danny',\n",
       " 'Danny',\n",
       " 'Andrew',\n",
       " 'William',\n",
       " 'William',\n",
       " 'Frank',\n",
       " 'Aaron',\n",
       " 'Nathan',\n",
       " 'Kadeem',\n",
       " 'Kadeem',\n",
       " 'Francis',\n",
       " 'Cade',\n",
       " 'Frank',\n",
       " 'Xavier',\n",
       " 'Xavier',\n",
       " 'Xavier',\n",
       " 'Nathan',\n",
       " 'Nathan',\n",
       " 'Nathan',\n",
       " 'Nathan',\n",
       " 'Nathan',\n",
       " 'Nathan',\n",
       " 'Walter',\n",
       " 'Walter',\n",
       " 'Nathan',\n",
       " 'William',\n",
       " 'Robert',\n",
       " 'Robert',\n",
       " 'Robert',\n",
       " 'Mattison',\n",
       " 'Mattison',\n",
       " 'Mattison',\n",
       " 'Austin',\n",
       " 'Austin',\n",
       " 'Austin',\n",
       " 'Austin',\n",
       " 'Michael',\n",
       " 'Michael',\n",
       " 'Michael',\n",
       " 'Larry',\n",
       " 'Ulyses',\n",
       " 'Andrew',\n",
       " 'Frankie',\n",
       " 'Xavier',\n",
       " 'Xavier',\n",
       " 'Michael',\n",
       " 'Vincent',\n",
       " 'Vincent',\n",
       " 'Andrew',\n",
       " 'Uriah',\n",
       " 'Uriah',\n",
       " 'William',\n",
       " 'Alec',\n",
       " 'Alexander',\n",
       " 'Stephen',\n",
       " 'Haden',\n",
       " 'Peter',\n",
       " 'Dennis',\n",
       " 'Dennis',\n",
       " 'Dennis',\n",
       " 'Michael',\n",
       " 'Donny',\n",
       " 'Ulysses',\n",
       " 'Ulysses',\n",
       " 'Frank',\n",
       " 'Frank',\n",
       " 'Nick',\n",
       " 'Nick',\n",
       " 'Nathan',\n",
       " 'Nathan',\n",
       " 'Nathan',\n",
       " 'Keegan',\n",
       " 'Kadeem',\n",
       " 'Kadeem',\n",
       " 'Kadeem',\n",
       " 'Kadeem',\n",
       " 'Kadeem',\n",
       " 'Cade',\n",
       " 'Cade',\n",
       " 'Cade',\n",
       " 'Bobbie',\n",
       " 'Bobbie',\n",
       " 'Jacob',\n",
       " 'Neil',\n",
       " 'Neil',\n",
       " 'Percy',\n",
       " 'Frank',\n",
       " 'Frank',\n",
       " 'Pablo',\n",
       " 'Yasseen',\n",
       " 'Yasseen',\n",
       " 'Anthony',\n",
       " 'Anthony',\n",
       " 'Anthony',\n",
       " 'Oliver',\n",
       " 'Oliver',\n",
       " 'Oliver',\n",
       " 'Oliver',\n",
       " 'Matias',\n",
       " 'Matias',\n",
       " 'Matias',\n",
       " 'Matias',\n",
       " 'Wade',\n",
       " 'Wade',\n",
       " 'Wade',\n",
       " 'Nathan',\n",
       " 'Nathan',\n",
       " 'Nathan',\n",
       " 'Xian',\n",
       " 'Xian',\n",
       " 'Xander',\n",
       " 'Xander',\n",
       " 'Corey',\n",
       " 'Walter',\n",
       " 'Walter',\n",
       " 'Karsten',\n",
       " 'Karsten',\n",
       " 'Karsten',\n",
       " 'Karsten',\n",
       " 'Owen',\n",
       " 'Owen',\n",
       " 'Joel',\n",
       " 'Joel',\n",
       " 'Archie',\n",
       " 'Archie',\n",
       " 'Brady',\n",
       " 'Brady',\n",
       " 'Brady',\n",
       " 'Brady',\n",
       " 'Brady',\n",
       " 'Brady',\n",
       " 'Brady',\n",
       " 'Otto',\n",
       " 'Christopher',\n",
       " 'William',\n",
       " 'William',\n",
       " 'Nicholas',\n",
       " 'Nicholas',\n",
       " 'Robert',\n",
       " 'Michael',\n",
       " 'Michael',\n",
       " 'Danny',\n",
       " 'Danny',\n",
       " 'Danny',\n",
       " 'Danny',\n",
       " 'Danny',\n",
       " 'Ulyses',\n",
       " 'Andrew',\n",
       " 'Nathaniel',\n",
       " 'Nathaniel',\n",
       " 'Michael',\n",
       " 'Uriah',\n",
       " 'Uriah',\n",
       " 'Alec',\n",
       " 'Stephen',\n",
       " 'Haden',\n",
       " 'Peter',\n",
       " 'Peter',\n",
       " 'Peter',\n",
       " 'Peter',\n",
       " 'Peter',\n",
       " 'Peter',\n",
       " 'Peter',\n",
       " 'Peter',\n",
       " 'Peter',\n",
       " 'Patrick',\n",
       " 'Peter',\n",
       " 'Peter',\n",
       " 'Dennis',\n",
       " 'Dennis',\n",
       " 'Michael',\n",
       " 'Michael',\n",
       " 'Michael',\n",
       " 'Michael',\n",
       " 'Steven',\n",
       " 'Ulysses',\n",
       " 'Frank',\n",
       " 'Nick',\n",
       " 'Nick',\n",
       " 'Nick',\n",
       " 'Nathan',\n",
       " 'Nathan',\n",
       " 'Kadeem',\n",
       " 'Kadeem',\n",
       " 'Frederick',\n",
       " 'Frederick',\n",
       " 'Cade',\n",
       " 'Bobbie',\n",
       " 'Bobbie',\n",
       " 'Jacob',\n",
       " 'Neil',\n",
       " 'Percy',\n",
       " 'Xavier',\n",
       " 'Kurtis',\n",
       " 'Kurtis',\n",
       " 'Yasseen',\n",
       " 'Anthony',\n",
       " 'Oliver',\n",
       " 'Oliver',\n",
       " 'Larry',\n",
       " 'Larry',\n",
       " 'Wade',\n",
       " 'Nathan',\n",
       " 'Xander',\n",
       " 'Walter',\n",
       " 'Walter',\n",
       " 'Karsten',\n",
       " 'Brendon',\n",
       " 'Brendon',\n",
       " 'Joel',\n",
       " 'Nathan']"
      ]
     },
     "execution_count": 1047,
     "metadata": {},
     "output_type": "execute_result"
    }
   ],
   "source": [
    "MaleList"
   ]
  },
  {
   "cell_type": "code",
   "execution_count": 1003,
   "metadata": {},
   "outputs": [
    {
     "data": {
      "text/plain": [
       "[[518, 25, '221-02'],\n",
       " [569, 0, '221-03'],\n",
       " [601, 0, '221-03'],\n",
       " [603, 10, '221-03'],\n",
       " [900, 5, '223-01'],\n",
       " [1212, 1, '224-02'],\n",
       " [1298, 1, '224-03'],\n",
       " [1388, 1, '224-04'],\n",
       " [1585, 1, '225-02'],\n",
       " [1862, 19, '226-01'],\n",
       " [1977, 16, '226-02'],\n",
       " [2085, 5, '226-03'],\n",
       " [2140, 0, '226-04'],\n",
       " [2184, 16, '226-04'],\n",
       " [2670, 13, '228-01'],\n",
       " [2741, 12, '228-04'],\n",
       " [2742, 5, '228-04'],\n",
       " [2760, 6, '228-04'],\n",
       " [2779, 8, '228-05'],\n",
       " [2865, 2, '229-01'],\n",
       " [2897, 26, '229-01'],\n",
       " [3048, 18, '240-01'],\n",
       " [3132, 1, '240-03'],\n",
       " [3196, 1, '240-03'],\n",
       " [3217, 1, '240-04'],\n",
       " [3289, 1, '241-01'],\n",
       " [3292, 0, '241-01'],\n",
       " [3323, 3, '241-01'],\n",
       " [3344, 1, '241-02'],\n",
       " [3372, 20, '241-02'],\n",
       " [3416, 1, '241-04'],\n",
       " [3437, 3, '241-04'],\n",
       " [3439, 8, '241-04'],\n",
       " [3551, 2, '242-03'],\n",
       " [3869, 8, '243-04'],\n",
       " [4868, 3, '247-01'],\n",
       " [4958, 7, '247-02'],\n",
       " [4973, 9, '247-02'],\n",
       " [4982, 1, '247-03'],\n",
       " [5001, 8, '247-03'],\n",
       " [5112, 16, '247-04'],\n",
       " [5121, 2, '247-04'],\n",
       " [5142, 39, '248-01'],\n",
       " [5144, 1, '248-01'],\n",
       " [5255, 6, '248-01'],\n",
       " [5261, 1, '248-02'],\n",
       " [5262, 3, '248-02'],\n",
       " [5275, 1, '248-02'],\n",
       " [5372, 1, '248-02'],\n",
       " [5389, 1, '248-03'],\n",
       " [5399, 1, '248-03'],\n",
       " [5451, 16, '248-04'],\n",
       " [5625, 7, '249-01'],\n",
       " [5627, 3, '249-01'],\n",
       " [5757, 1, '249-04'],\n",
       " [5797, 2, '249-04'],\n",
       " [5828, 1, '250-01'],\n",
       " [5835, 1, '250-01'],\n",
       " [5842, 1, '250-01'],\n",
       " [5852, 5, '250-01'],\n",
       " [5868, 3, '250-01'],\n",
       " [5880, 8, '250-01'],\n",
       " [5910, 3, '250-02'],\n",
       " [5942, 4, '250-03'],\n",
       " [5952, 1, '250-04'],\n",
       " [6132, 5, '251-03'],\n",
       " [6422, 1, '251-04'],\n",
       " [6482, 1, '252-01'],\n",
       " [6486, 8, '252-01'],\n",
       " [6514, 1, '252-01'],\n",
       " [6585, 1, '252-03'],\n",
       " [6622, 1, '252-03'],\n",
       " [6718, 1, '252-05'],\n",
       " [6753, 1, '252-05'],\n",
       " [6803, 4, '253-02'],\n",
       " [6965, 1, '254-02'],\n",
       " [7509, 6, '256-02'],\n",
       " [7513, 5, '256-02'],\n",
       " [7703, 2, '256-04'],\n",
       " [7725, 5, '256-04'],\n",
       " [7733, 32, '256-05'],\n",
       " [7734, 0, '256-05'],\n",
       " [7742, 0, '256-05'],\n",
       " [7758, 0, '256-05'],\n",
       " [7760, 5, '256-05'],\n",
       " [7871, 1, '257-02'],\n",
       " [8010, 10, '257-03'],\n",
       " [8028, 1, '257-04'],\n",
       " [8066, 1, '257-04'],\n",
       " [8284, 27, '258-04'],\n",
       " [8443, 0, '259-03'],\n",
       " [8679, 36, '270-04'],\n",
       " [8680, 1, '270-04'],\n",
       " [8680, 9, '270-04'],\n",
       " [8681, 1, '270-04'],\n",
       " [8684, 1, '270-04'],\n",
       " [8685, 8, '270-04'],\n",
       " [9103, 7, '272-02'],\n",
       " [9424, 0, '273-01'],\n",
       " [9488, 0, '273-02'],\n",
       " [9580, 0, '273-04'],\n",
       " [9581, 0, '273-04'],\n",
       " [9653, 3, '273-05'],\n",
       " [9782, 1, '274-03'],\n",
       " [10015, 1, '275-04'],\n",
       " [10072, 12, '275-04'],\n",
       " [10239, 6, '276-04'],\n",
       " [10241, 14, '276-04'],\n",
       " [10273, 3, '276-04'],\n",
       " [10288, 1, '277-01'],\n",
       " [10293, 1, '277-01'],\n",
       " [10319, 1, '277-01'],\n",
       " [10356, 8, '277-03'],\n",
       " [10443, 5, '277-04'],\n",
       " [10526, 5, '277-05'],\n",
       " [10794, 1, '278-03'],\n",
       " [10798, 14, '278-03'],\n",
       " [10811, 1, '278-03'],\n",
       " [11060, 1, '279-01'],\n",
       " [11587, 1, '280-04'],\n",
       " [11653, 1, '280-04'],\n",
       " [11682, 0, '281-01'],\n",
       " [11775, 31, '281-02'],\n",
       " [12032, 1, '282-01'],\n",
       " [12038, 6, '282-01'],\n",
       " [12061, 3, '282-01'],\n",
       " [12062, 7, '282-01'],\n",
       " [12064, 1, '282-01'],\n",
       " [12086, 25, '282-02'],\n",
       " [12104, 4, '282-02'],\n",
       " [12173, 1, '282-04'],\n",
       " [12266, 3, '283-02'],\n",
       " [12442, 6, '284-01'],\n",
       " [12443, 10, '284-01'],\n",
       " [12444, 0, '284-01'],\n",
       " [12482, 58, '284-02'],\n",
       " [12764, 1, '285-02'],\n",
       " [12887, 1, '285-03'],\n",
       " [12937, 1, '285-04'],\n",
       " [12943, 1, '285-04'],\n",
       " [12944, 5, '285-04'],\n",
       " [12945, 0, '285-04'],\n",
       " [12956, 9, '285-04'],\n",
       " [12959, 1, '285-04'],\n",
       " [12964, 5, '285-04'],\n",
       " [12967, 1, '285-04'],\n",
       " [13143, 5, '286-03'],\n",
       " [13333, 6, '287-02'],\n",
       " [13432, 3, '287-02'],\n",
       " [13447, 6, '287-03'],\n",
       " [13510, 3, '287-03'],\n",
       " [13519, 6, '287-03'],\n",
       " [13565, 1, '288-02'],\n",
       " [13608, 6, '288-02'],\n",
       " [13635, 9, '288-03'],\n",
       " [13664, 6, '288-03'],\n",
       " [13760, 4, '289-01'],\n",
       " [13799, 2, '289-01'],\n",
       " [13819, 10, '289-02'],\n",
       " [14181, 1, '290-01'],\n",
       " [14211, 1, '290-01'],\n",
       " [14221, 1, '290-02'],\n",
       " [14225, 14, '290-02'],\n",
       " [14289, 3, '290-03'],\n",
       " [14997, 3, '291-04'],\n",
       " [15283, 7, '292-01'],\n",
       " [15386, 7, '292-03'],\n",
       " [15426, 0, '292-04'],\n",
       " [15445, 0, '292-04'],\n",
       " [15456, 4, '292-04'],\n",
       " [15468, 6, '292-05'],\n",
       " [15469, 4, '292-05'],\n",
       " [15472, 8, '292-05'],\n",
       " [15477, 0, '292-05'],\n",
       " [15492, 3, '292-05'],\n",
       " [15510, 0, '292-05'],\n",
       " [15520, 14, '292-05'],\n",
       " [15662, 9, '293-04'],\n",
       " [15666, 3, '293-04'],\n",
       " [15681, 4, '293-04'],\n",
       " [15682, 12, '293-04'],\n",
       " [15688, 5, '293-04'],\n",
       " [15691, 1, '293-04'],\n",
       " [15745, 6, '294-01'],\n",
       " [15813, 2, '294-01'],\n",
       " [15894, 1, '294-02'],\n",
       " [16028, 2, '294-03'],\n",
       " [16129, 2, '294-04'],\n",
       " [16355, 1, '295-03'],\n",
       " [16381, 1, '295-03'],\n",
       " [16590, 4, '296-03'],\n",
       " [16591, 8, '296-03'],\n",
       " [16889, 3, '297-03'],\n",
       " [16944, 17, '297-04'],\n",
       " [16975, 7, '297-04'],\n",
       " [17464, 1, '299-04'],\n",
       " [17698, 1, '300-03'],\n",
       " [17699, 1, '300-03'],\n",
       " [17825, 1, '300-03'],\n",
       " [18100, 4, '301-01'],\n",
       " [18153, 4, '301-01'],\n",
       " [18156, 0, '301-01'],\n",
       " [18161, 0, '301-01'],\n",
       " [18333, 1, '301-04'],\n",
       " [18768, 11, '303-02'],\n",
       " [18771, 6, '303-02'],\n",
       " [18798, 6, '303-02'],\n",
       " [18804, 4, '303-02'],\n",
       " [18814, 0, '303-03'],\n",
       " [18814, 2, '303-03'],\n",
       " [19003, 35, '303-04'],\n",
       " [19310, 1, '304-03'],\n",
       " [19312, 1, '304-03'],\n",
       " [19394, 1, '304-03'],\n",
       " [19704, 1, '305-01'],\n",
       " [19735, 12, '305-02'],\n",
       " [19804, 0, '305-04'],\n",
       " [19874, 4, '306-01'],\n",
       " [20224, 4, '307-03'],\n",
       " [20356, 0, '308-01'],\n",
       " [20356, 3, '308-01'],\n",
       " [20363, 8, '308-01'],\n",
       " [20381, 6, '308-01'],\n",
       " [20417, 13, '308-02'],\n",
       " [20430, 1, '308-02'],\n",
       " [20512, 1, '308-04'],\n",
       " [20683, 0, '309-04'],\n",
       " [20720, 2, '309-05'],\n",
       " [20725, 7, '309-05'],\n",
       " [20917, 1, '320-03'],\n",
       " [20968, 1, '320-04'],\n",
       " [21002, 4, '320-04'],\n",
       " [21004, 1, '320-04'],\n",
       " [21577, 4, '322-04'],\n",
       " [21938, 1, '322-05'],\n",
       " [22243, 1, '323-04'],\n",
       " [23217, 3, '325-05'],\n",
       " [23427, 8, '326-05'],\n",
       " [23576, 2, '327-02'],\n",
       " [23626, 2, '327-03'],\n",
       " [23701, 19, '327-04'],\n",
       " [23836, 48, '328-02'],\n",
       " [24110, 1, '328-04'],\n",
       " [24347, 8, '329-02'],\n",
       " [24347, 24, '329-02'],\n",
       " [24523, 6, '329-03'],\n",
       " [24541, 32, '329-04'],\n",
       " [24570, 1, '329-04'],\n",
       " [24641, 4, '329-04'],\n",
       " [24872, 1, '331-01'],\n",
       " [24923, 1, '331-02'],\n",
       " [25118, 1, '331-05'],\n",
       " [25127, 1, '331-05'],\n",
       " [25195, 0, '331-05'],\n",
       " [25355, 4, '332-05'],\n",
       " [25902, 1, '333-03'],\n",
       " [26072, 1, '333-03'],\n",
       " [26078, 2, '333-03'],\n",
       " [26137, 14, '333-04'],\n",
       " [26304, 1, '334-02'],\n",
       " [26346, 1, '334-03'],\n",
       " [26416, 3, '334-04'],\n",
       " [26506, 16, '335-01'],\n",
       " [26510, 1, '335-01'],\n",
       " [26583, 3, '335-01'],\n",
       " [26592, 22, '335-01'],\n",
       " [26765, 3, '335-03'],\n",
       " [26864, 21, '335-04'],\n",
       " [28395, 1, '350-02'],\n",
       " [28401, 1, '350-02'],\n",
       " [28454, 1, '350-02'],\n",
       " [28455, 1, '350-02'],\n",
       " [28533, 1, '350-04'],\n",
       " [28589, 1, '350-04'],\n",
       " [28983, 3, '352-03'],\n",
       " [29024, 1, '352-03'],\n",
       " [29044, 1, '352-03'],\n",
       " [29068, 14, '352-04'],\n",
       " [29092, 4, '352-04'],\n",
       " [29104, 4, '352-04'],\n",
       " [29362, 1, '353-04'],\n",
       " [29382, 3, '353-04'],\n",
       " [29387, 11, '353-04'],\n",
       " [29542, 1, '354-03'],\n",
       " [29549, 5, '354-03'],\n",
       " [29604, 10, '354-04'],\n",
       " [30264, 14, '356-04'],\n",
       " [30270, 8, '356-04'],\n",
       " [30272, 1, '356-04'],\n",
       " [30273, 1, '356-04'],\n",
       " [30274, 1, '356-04'],\n",
       " [30329, 1, '356-04'],\n",
       " [30332, 1, '356-04'],\n",
       " [30336, 1, '356-04'],\n",
       " [30344, 1, '356-04'],\n",
       " [30376, 1, '356-04'],\n",
       " [30377, 1, '356-04'],\n",
       " [30380, 2, '356-04'],\n",
       " [30382, 1, '356-04'],\n",
       " [30385, 3, '356-04'],\n",
       " [30386, 1, '356-04'],\n",
       " [30645, 12, '357-05'],\n",
       " [30732, 4, '358-01'],\n",
       " [30775, 0, '358-02'],\n",
       " [30788, 0, '358-02'],\n",
       " [30789, 11, '358-02'],\n",
       " [30797, 0, '358-02'],\n",
       " [30803, 11, '358-02'],\n",
       " [30823, 10, '358-02'],\n",
       " [30824, 178, '358-02'],\n",
       " [30825, 25, '358-02'],\n",
       " [30827, 18, '358-02'],\n",
       " [30858, 0, '358-03'],\n",
       " [30865, 0, '358-03'],\n",
       " [30868, 11, '358-03'],\n",
       " [30876, 11, '358-03'],\n",
       " [30909, 9, '358-03'],\n",
       " [30911, 1, '358-03'],\n",
       " [30915, 0, '358-03'],\n",
       " [30917, 1, '358-03'],\n",
       " [30918, 3, '358-03'],\n",
       " [30927, 0, '358-03'],\n",
       " [30932, 10, '358-03'],\n",
       " [30940, 7, '358-03'],\n",
       " [30940, 19, '358-03'],\n",
       " [30942, 8, '358-03'],\n",
       " [30946, 10, '358-03'],\n",
       " [30948, 0, '358-03'],\n",
       " [30951, 1, '358-03'],\n",
       " [30965, 10, '358-03'],\n",
       " [30969, 0, '358-03'],\n",
       " [30978, 0, '358-03'],\n",
       " [30980, 0, '358-03'],\n",
       " [30983, 0, '358-03'],\n",
       " [30995, 8, '358-03'],\n",
       " [30997, 2, '358-03'],\n",
       " [31001, 6, '358-04'],\n",
       " [31234, 7, '360-02'],\n",
       " [31245, 1, '360-02'],\n",
       " [31280, 1, '360-03'],\n",
       " [31295, 1, '360-03'],\n",
       " [31608, 1, '361-04'],\n",
       " [31609, 1, '361-04'],\n",
       " [31706, 1, '361-04'],\n",
       " [31975, 1, '362-04'],\n",
       " [32073, 11, '363-02'],\n",
       " [32168, 0, '363-03'],\n",
       " [32621, 9, '364-03'],\n",
       " [32626, 29, '364-04'],\n",
       " [32671, 86, '364-04'],\n",
       " [32757, 1, '365-03'],\n",
       " [32795, 1, '365-03'],\n",
       " [33019, 1, '366-02'],\n",
       " [33033, 19, '366-03'],\n",
       " [33050, 1, '366-03'],\n",
       " [33061, 0, '366-04'],\n",
       " [33694, 8, '369-01'],\n",
       " [33741, 4, '369-02'],\n",
       " [33774, 8, '369-03'],\n",
       " [33813, 1, '369-04'],\n",
       " [33845, 10, '369-04'],\n",
       " [33856, 0, '391-01'],\n",
       " [33857, 3, '391-01'],\n",
       " [33860, 1, '391-01'],\n",
       " [33865, 1, '391-01'],\n",
       " [33867, 0, '391-01'],\n",
       " [33884, 1, '391-01'],\n",
       " [33890, 1, '391-01'],\n",
       " [33894, 1, '391-01'],\n",
       " [33896, 18, '391-01'],\n",
       " [33897, 5, '391-01'],\n",
       " [33898, 4, '391-01'],\n",
       " [33903, 7, '391-02'],\n",
       " [33906, 1, '391-02'],\n",
       " [33912, 8, '391-02'],\n",
       " [33916, 3, '391-02'],\n",
       " [33921, 2, '391-02'],\n",
       " [33924, 1, '391-02'],\n",
       " [33928, 3, '391-02'],\n",
       " [33959, 3, '391-02'],\n",
       " [33975, 1, '391-02'],\n",
       " [33978, 12, '391-02'],\n",
       " [33982, 8, '391-02'],\n",
       " [33983, 26, '391-03'],\n",
       " [34296, 6, '392-04'],\n",
       " [34940, 8, '394-01'],\n",
       " [35097, 0, '394-03'],\n",
       " [35470, 1, '395-04'],\n",
       " [35601, 1, '395-05'],\n",
       " [35643, 1, '395-05'],\n",
       " [35659, 10, '395-05'],\n",
       " [35698, 6, '395-05'],\n",
       " [35703, 1, '395-05'],\n",
       " [36294, 1, '398-01'],\n",
       " [36319, 6, '398-02'],\n",
       " [36320, 1, '398-02'],\n",
       " [36614, 11, '399-02'],\n",
       " [36619, 1, '399-02'],\n",
       " [36739, 1, '399-04'],\n",
       " [36741, 0, '399-04'],\n",
       " [36755, 3, '399-04'],\n",
       " [36776, 7, '399-04'],\n",
       " [36783, 2, '399-04'],\n",
       " [36796, 0, '399-04'],\n",
       " [36797, 12, '399-04'],\n",
       " [36801, 3, '399-04'],\n",
       " [36813, 3, '399-04'],\n",
       " [36816, 4, '399-04'],\n",
       " [37010, 43, '400-05'],\n",
       " [37070, 4, '400-05']]"
      ]
     },
     "execution_count": 1003,
     "metadata": {},
     "output_type": "execute_result"
    }
   ],
   "source": [
    "NewNum1List"
   ]
  },
  {
   "cell_type": "code",
   "execution_count": 1036,
   "metadata": {},
   "outputs": [],
   "source": [
    "GenderList = []\n",
    "MaleList = []\n",
    "FemaleList = []\n",
    "for i in givenlist:\n",
    "    if i.title() in maleDic:\n",
    "        GenderList.append(\"M\")\n",
    "        MaleList.append(i.title())\n",
    "    elif i.title() in femaleDic:\n",
    "        GenderList.append(\"F\")\n",
    "        FemaleList.append(i.title())\n",
    "    else:\n",
    "        GenderList.append(i.title())"
   ]
  },
  {
   "cell_type": "code",
   "execution_count": null,
   "metadata": {},
   "outputs": [],
   "source": []
  },
  {
   "cell_type": "code",
   "execution_count": null,
   "metadata": {},
   "outputs": [],
   "source": []
  },
  {
   "cell_type": "code",
   "execution_count": 931,
   "metadata": {},
   "outputs": [
    {
     "name": "stdout",
     "output_type": "stream",
     "text": [
      "221-01\n",
      "222-01\n",
      "222-03\n",
      "222-04\n",
      "222-05\n",
      "223-01\n",
      "224-01\n",
      "225-02\n",
      "226-01\n",
      "226-02\n",
      "226-03\n",
      "226-04\n",
      "227-01\n",
      "227-03\n",
      "228-01\n",
      "228-02\n",
      "228-04\n",
      "228-05\n",
      "229-02\n",
      "229-03\n",
      "241-01\n",
      "241-02\n",
      "241-03\n",
      "241-04\n",
      "242-02\n",
      "242-03\n",
      "242-04\n",
      "242-05\n",
      "243-01\n",
      "243-03\n",
      "243-04\n",
      "244-01\n",
      "244-02\n",
      "246-01\n",
      "246-02\n",
      "246-03\n",
      "246-04\n",
      "247-01\n",
      "247-02\n",
      "247-03\n",
      "247-04\n",
      "248-01\n",
      "248-02\n",
      "248-03\n",
      "248-04\n",
      "249-01\n",
      "250-01\n",
      "250-02\n",
      "250-03\n",
      "250-04\n",
      "251-03\n",
      "251-04\n",
      "252-01\n",
      "252-02\n",
      "252-03\n",
      "252-04\n",
      "252-05\n",
      "253-01\n",
      "253-02\n",
      "254-01\n",
      "254-02\n",
      "254-03\n",
      "254-04\n",
      "254-05\n",
      "256-01\n",
      "256-02\n",
      "256-03\n",
      "256-04\n",
      "256-05\n",
      "257-01\n",
      "257-03\n",
      "257-04\n",
      "258-03\n",
      "258-04\n",
      "258-05\n",
      "259-02\n",
      "259-04\n",
      "270-01\n",
      "270-02\n",
      "270-03\n",
      "271-01\n",
      "271-03\n",
      "272-01\n",
      "272-02\n",
      "272-03\n",
      "272-04\n",
      "273-01\n",
      "273-02\n",
      "273-03\n",
      "273-04\n",
      "273-05\n",
      "274-01\n",
      "274-02\n",
      "274-03\n",
      "274-04\n",
      "275-01\n",
      "275-02\n",
      "276-01\n",
      "276-02\n",
      "276-03\n",
      "276-04\n",
      "277-02\n",
      "278-02\n",
      "278-04\n",
      "279-01\n",
      "279-03\n",
      "280-01\n",
      "280-02\n",
      "280-03\n",
      "280-04\n",
      "281-02\n",
      "281-03\n",
      "282-01\n",
      "282-02\n",
      "282-03\n",
      "282-04\n",
      "283-01\n",
      "283-02\n",
      "283-03\n",
      "283-04\n",
      "285-01\n",
      "285-02\n",
      "285-03\n",
      "285-05\n",
      "286-01\n",
      "286-02\n",
      "286-03\n",
      "286-04\n",
      "288-01\n",
      "288-02\n",
      "288-03\n",
      "288-04\n",
      "288-05\n",
      "289-02\n",
      "290-01\n",
      "290-02\n",
      "290-03\n",
      "291-02\n",
      "291-03\n",
      "291-04\n",
      "291-05\n",
      "292-01\n",
      "292-02\n",
      "292-03\n",
      "292-04\n",
      "292-05\n",
      "293-01\n",
      "293-02\n",
      "293-04\n",
      "294-01\n",
      "294-03\n",
      "294-04\n",
      "295-01\n",
      "295-02\n",
      "295-03\n",
      "295-04\n",
      "295-05\n",
      "296-02\n",
      "296-04\n",
      "296-05\n",
      "297-01\n",
      "297-02\n",
      "297-03\n",
      "297-04\n",
      "297-05\n",
      "298-01\n",
      "298-02\n",
      "299-01\n",
      "299-04\n",
      "300-03\n",
      "300-04\n",
      "300-05\n",
      "301-01\n",
      "301-03\n",
      "301-04\n",
      "301-05\n",
      "302-01\n",
      "302-02\n",
      "302-03\n",
      "302-04\n",
      "303-02\n",
      "303-04\n",
      "304-01\n",
      "304-05\n",
      "305-01\n",
      "305-02\n",
      "305-04\n",
      "306-01\n",
      "306-02\n",
      "306-04\n",
      "307-01\n",
      "307-02\n",
      "307-03\n",
      "307-04\n",
      "307-05\n",
      "308-03\n",
      "308-04\n",
      "309-01\n",
      "309-02\n",
      "309-03\n",
      "309-04\n",
      "309-05\n",
      "320-01\n",
      "321-01\n",
      "321-03\n",
      "321-04\n",
      "322-02\n",
      "322-03\n",
      "322-04\n",
      "322-05\n",
      "323-01\n",
      "323-03\n",
      "323-04\n",
      "323-05\n",
      "324-01\n",
      "324-02\n",
      "324-03\n",
      "324-04\n",
      "324-05\n",
      "325-02\n",
      "325-03\n",
      "325-04\n",
      "326-01\n",
      "326-02\n",
      "326-03\n",
      "327-01\n",
      "328-01\n",
      "328-02\n",
      "328-03\n",
      "328-04\n",
      "329-01\n",
      "329-02\n",
      "329-04\n",
      "330-01\n",
      "330-03\n",
      "330-04\n",
      "331-03\n",
      "332-03\n",
      "332-05\n",
      "333-01\n",
      "333-02\n",
      "333-03\n",
      "333-04\n",
      "334-01\n",
      "334-02\n",
      "334-03\n",
      "334-04\n",
      "335-01\n",
      "335-02\n",
      "335-03\n",
      "335-04\n",
      "336-01\n",
      "336-02\n",
      "336-04\n",
      "337-01\n",
      "337-02\n",
      "337-03\n",
      "337-04\n",
      "337-05\n",
      "338-01\n",
      "338-02\n",
      "338-03\n",
      "338-04\n",
      "338-05\n",
      "339-03\n",
      "339-04\n",
      "350-01\n",
      "350-02\n",
      "350-03\n",
      "350-04\n",
      "351-01\n",
      "351-02\n",
      "351-03\n",
      "351-04\n",
      "352-01\n",
      "352-02\n",
      "353-01\n",
      "353-04\n",
      "354-01\n",
      "354-03\n",
      "354-04\n",
      "355-01\n",
      "355-02\n",
      "355-03\n",
      "355-04\n",
      "356-01\n",
      "356-02\n",
      "356-03\n",
      "356-04\n",
      "357-01\n",
      "357-02\n",
      "357-04\n",
      "357-05\n",
      "358-01\n",
      "358-02\n",
      "358-03\n",
      "360-01\n",
      "360-02\n",
      "360-03\n",
      "360-04\n",
      "361-02\n",
      "361-04\n",
      "362-01\n",
      "362-02\n",
      "362-03\n",
      "362-04\n",
      "363-01\n",
      "363-04\n",
      "364-01\n",
      "364-02\n",
      "364-03\n",
      "364-04\n",
      "365-01\n",
      "365-02\n",
      "365-03\n",
      "365-05\n",
      "366-01\n",
      "366-02\n",
      "366-03\n",
      "366-04\n",
      "367-02\n",
      "368-01\n",
      "368-03\n",
      "369-02\n",
      "369-04\n",
      "391-01\n",
      "391-04\n",
      "392-03\n",
      "392-04\n",
      "393-01\n",
      "393-04\n",
      "393-05\n",
      "394-03\n",
      "394-04\n",
      "395-01\n",
      "395-02\n",
      "395-03\n",
      "395-04\n",
      "395-05\n",
      "396-01\n",
      "396-04\n",
      "397-02\n",
      "397-03\n",
      "397-04\n",
      "398-03\n",
      "398-04\n",
      "399-01\n",
      "399-04\n",
      "400-02\n",
      "400-05\n",
      "221-02\n",
      "221-03\n",
      "223-01\n",
      "224-02\n",
      "224-03\n",
      "224-04\n",
      "225-02\n",
      "226-01\n",
      "226-02\n",
      "226-03\n",
      "226-04\n",
      "228-01\n",
      "228-04\n",
      "228-05\n",
      "229-01\n",
      "240-01\n",
      "240-03\n",
      "240-04\n",
      "241-01\n",
      "241-02\n",
      "241-04\n",
      "242-03\n",
      "243-04\n",
      "247-01\n",
      "247-02\n",
      "247-03\n",
      "247-04\n",
      "248-01\n",
      "248-02\n",
      "248-03\n",
      "248-04\n",
      "249-01\n",
      "249-04\n",
      "250-01\n",
      "250-02\n",
      "250-03\n",
      "250-04\n",
      "251-03\n",
      "251-04\n",
      "252-01\n",
      "252-03\n",
      "252-05\n",
      "253-02\n",
      "254-02\n",
      "256-02\n",
      "256-04\n",
      "256-05\n",
      "257-02\n",
      "257-03\n",
      "257-04\n",
      "258-04\n",
      "259-03\n",
      "270-04\n",
      "272-02\n",
      "273-01\n",
      "273-02\n",
      "273-04\n",
      "273-05\n",
      "274-03\n",
      "275-04\n",
      "276-04\n",
      "277-01\n",
      "277-03\n",
      "277-04\n",
      "277-05\n",
      "278-03\n",
      "279-01\n",
      "280-04\n",
      "281-01\n",
      "281-02\n",
      "282-01\n",
      "282-02\n",
      "282-04\n",
      "283-02\n",
      "284-01\n",
      "284-02\n",
      "285-02\n",
      "285-03\n",
      "285-04\n",
      "286-03\n",
      "287-02\n",
      "287-03\n",
      "288-02\n",
      "288-03\n",
      "289-01\n",
      "289-02\n",
      "290-01\n",
      "290-02\n",
      "290-03\n",
      "291-04\n",
      "292-01\n",
      "292-03\n",
      "292-04\n",
      "292-05\n",
      "293-04\n",
      "294-01\n",
      "294-02\n",
      "294-03\n",
      "294-04\n",
      "295-03\n",
      "296-03\n",
      "297-03\n",
      "297-04\n",
      "299-04\n",
      "300-03\n",
      "301-01\n",
      "301-04\n",
      "303-02\n",
      "303-03\n",
      "303-04\n",
      "304-03\n",
      "305-01\n",
      "305-02\n",
      "305-04\n",
      "306-01\n",
      "307-03\n",
      "308-01\n",
      "308-02\n",
      "308-04\n",
      "309-04\n",
      "309-05\n",
      "320-03\n",
      "320-04\n",
      "322-04\n",
      "322-05\n",
      "323-04\n",
      "325-05\n",
      "326-05\n",
      "327-02\n",
      "327-03\n",
      "327-04\n",
      "328-02\n",
      "328-04\n",
      "329-02\n",
      "329-03\n",
      "329-04\n",
      "331-01\n",
      "331-02\n",
      "331-05\n",
      "332-05\n",
      "333-03\n",
      "333-04\n",
      "334-02\n",
      "334-03\n",
      "334-04\n",
      "335-01\n",
      "335-03\n",
      "335-04\n",
      "350-02\n",
      "350-04\n",
      "352-03\n",
      "352-04\n",
      "353-04\n",
      "354-03\n",
      "354-04\n",
      "356-04\n",
      "357-05\n",
      "358-01\n",
      "358-02\n",
      "358-03\n",
      "358-04\n",
      "360-02\n",
      "360-03\n",
      "361-04\n",
      "362-04\n",
      "363-02\n",
      "363-03\n",
      "364-03\n",
      "364-04\n",
      "365-03\n",
      "366-02\n",
      "366-03\n",
      "366-04\n",
      "369-01\n",
      "369-02\n",
      "369-03\n",
      "369-04\n",
      "391-01\n",
      "391-02\n",
      "391-03\n",
      "392-04\n",
      "394-01\n",
      "394-03\n",
      "395-04\n",
      "395-05\n",
      "398-01\n",
      "398-02\n",
      "399-02\n",
      "399-04\n",
      "400-05\n"
     ]
    }
   ],
   "source": [
    "j=-1\n",
    "for i in ([NewNumMList[i][2] for i in SortMFile]):\n",
    "    if j!=i:\n",
    "        print(i)\n",
    "    j=i"
   ]
  },
  {
   "cell_type": "code",
   "execution_count": null,
   "metadata": {},
   "outputs": [],
   "source": []
  },
  {
   "cell_type": "code",
   "execution_count": null,
   "metadata": {},
   "outputs": [],
   "source": [
    "for i in NewNum1List:\n",
    "    if filedata[i[0]].split('\\n')[i[1]].split()[0].lower() not in [x.lower() for x in givenlist]:\n",
    "        if filedata[i[0]].split('\\n')[i[1]].split()[0].lower() not in [x.lower() for x in surelist]:\n",
    "            print(i,filedata[i[0]].split('\\n')[i[1]].split()[0])"
   ]
  },
  {
   "cell_type": "code",
   "execution_count": 855,
   "metadata": {},
   "outputs": [
    {
     "data": {
      "text/plain": [
       "'Ted'"
      ]
     },
     "execution_count": 855,
     "metadata": {},
     "output_type": "execute_result"
    }
   ],
   "source": [
    "filedata[NewNum1List[3][0]].split('\\n')[NewNum1List[3][1]].split()[0]"
   ]
  },
  {
   "cell_type": "code",
   "execution_count": 847,
   "metadata": {},
   "outputs": [
    {
     "data": {
      "text/plain": [
       "[603, 10, '221-03']"
      ]
     },
     "execution_count": 847,
     "metadata": {},
     "output_type": "execute_result"
    }
   ],
   "source": [
    "NewNum1List[3]"
   ]
  },
  {
   "cell_type": "code",
   "execution_count": 874,
   "metadata": {
    "scrolled": true
   },
   "outputs": [
    {
     "name": "stdout",
     "output_type": "stream",
     "text": [
      "[3731, 9, '242-05'] [286, ',', 'Robert^11/12/74^HANEY']\n",
      "ROBERT LOUIS\n",
      "[6641, 9, '252-04'] [303, ',', 'Kathy^07/20/71^KATZ']\n",
      "Kathy Joshi\n",
      "[6993, 9, '254-03'] [305, ',', 'France^10/01/82^ELROD']\n",
      "Andrew Conner\n",
      "[7038, 6, '254-04'] [306, ',', 'FRANCE^07/25/85^ELROD']\n",
      ", France^10/01/82^ELROD\n",
      "[8284, 9, '258-04'] [313, ',', 'Xavier^04/15/69^NOLAN']\n",
      "Verna Cantu\n",
      "[8635, 9, '270-03'] [315, ',', 'VINCENT^08/11/97^TRAN']\n",
      "Michael Yee\n",
      "[10108, 9, '276-01'] [319, ',', 'ALEC^07/25/60^YERGER']\n",
      "Catherine Kong\n",
      "[10172, 6, '276-03'] [321, ',', 'ALEXANDER^01/31/61^VELASQUEZ']\n",
      "Alec Gipson\n",
      "[10329, 9, '277-02'] [322, ',', 'Quindarrius^01/06/79^MEDINA']\n",
      ", ALEXANDER^01/31/61^VELASQUEZ\n",
      "[11430, 9, '280-01'] [324, ',', 'IRENE^11/01/85^CONNER']\n",
      "Stephen Jasso\n",
      "[12886, 9, '285-03'] [347, ',', 'MICHAEL^12/29/96^AVILA']\n",
      "Michael Ogrady\n",
      "[12970, 9, '285-05'] [348, ',', 'MICHAEL^03/16/98^OCASIO']\n",
      ", MICHAEL^12/29/96^AVILA\n",
      "[15289, 9, '292-02'] [357, ',', 'NICK^01/31/95^PENN']\n",
      "Nick Hall\n",
      "[20121, 9, '307-01'] [380, ',', 'Amelia^01/10/59^KRIEGER']\n",
      "Amelia Travis\n",
      "[20180, 9, '307-02'] [381, ',', 'AMELIA^04/08/59^PHILLIPS']\n",
      ", Amelia^01/10/59^KRIEGER\n",
      "[20219, 9, '307-03'] [382, ',', 'AMELIA^05/29/59^STEELE']\n",
      ", AMELIA^04/08/59^PHILLIPS\n",
      "[20272, 9, '307-04'] [383, ',', 'AMELIA^08/09/59^STEELE']\n",
      ", AMELIA^05/29/59^STEELE\n",
      "[21392, 6, '322-02'] [387, ',', 'FRANK^08/30/76^JABLONSKI']\n",
      "Louise Iles\n",
      "[22239, 9, '323-04'] [390, ',', 'BROOKLYN^12/19/65^QUAGLIA']\n",
      "Haley Vaughn\n",
      "[22494, 9, '324-04'] [391, ',', 'Xavier^10/24/70^OCASIO']\n",
      ", BROOKLYN^12/19/65^QUAGLIA\n",
      "[24964, 6, '331-03'] [401, ',', 'CHARLES^8/13/2079^SORENSEN']\n",
      "Anthony Vigil\n",
      "[26961, 9, '336-01'] [413, ',', 'PATRICIA^02/04/78^DUNN']\n",
      "Inez Haynes\n",
      "[27458, 9, '337-03'] [419, ',', 'BETTY^08/31/85^GUEVARA']\n",
      "Betty Gillis\n",
      "[27837, 9, '338-04'] [420, ',', 'MATIAS^04/24/95^XIE']\n",
      ", BETTY^08/31/85^GUEVARA\n",
      "[28467, 9, '350-03'] [424, ',', 'RUATH^09/25/90^GILMORE']\n",
      "Ruath Doss\n",
      "[28747, 9, '351-03'] [427, ',', 'Olivia^01/14/80^WOODRUFF']\n",
      "Ruath Doss\n",
      "[28819, 9, '351-04'] [428, ',', 'OLIVIA^04/15/80^URIBE']\n",
      ", Olivia^01/14/80^WOODRUFF\n",
      "[28925, 9, '352-02'] [429, ',', 'MARY^10/22/2069^VOLLMER']\n",
      ", OLIVIA^04/15/80^URIBE\n",
      "[29396, 9, '354-01'] [432, ',', 'BROOK^9/18/2094^XAYSANA']\n",
      "Larry Lockwood\n",
      "[30463, 6, '357-02'] [436, ',', 'Ramona^07/03/75^KEELER']\n",
      "Alice Zacharias\n",
      "[31485, 9, '361-02'] [445, ',', 'COREY^01/29/65^TOMLIN']\n",
      "* Geiger\n",
      "[32029, 9, '363-01'] [447, ',', 'Nancy^09/20/92^NOE']\n",
      "Susie DIETZ\n",
      "[32243, 9, '363-04'] [448, ',', 'NANCY^11/02/97^OAKLEY']\n",
      ", Nancy^09/20/92^NOE\n",
      "[35708, 9, '396-01'] [463, ',', 'JEAN^08/04/77^VALENTIN']\n",
      "Theresa Kraft\n"
     ]
    }
   ],
   "source": [
    "for i in NotSpaceSplit:\n",
    "    print(NewNumMList[i[0]],i)\n",
    "    print(givenlist[i[0]-1],surelist[i[0]-1])"
   ]
  },
  {
   "cell_type": "code",
   "execution_count": 875,
   "metadata": {
    "scrolled": true
   },
   "outputs": [
    {
     "data": {
      "text/plain": [
       "[[286, ',', 'Robert^11/12/74^HANEY'],\n",
       " [303, ',', 'Kathy^07/20/71^KATZ'],\n",
       " [305, ',', 'France^10/01/82^ELROD'],\n",
       " [306, ',', 'FRANCE^07/25/85^ELROD'],\n",
       " [313, ',', 'Xavier^04/15/69^NOLAN'],\n",
       " [315, ',', 'VINCENT^08/11/97^TRAN'],\n",
       " [319, ',', 'ALEC^07/25/60^YERGER'],\n",
       " [321, ',', 'ALEXANDER^01/31/61^VELASQUEZ'],\n",
       " [322, ',', 'Quindarrius^01/06/79^MEDINA'],\n",
       " [324, ',', 'IRENE^11/01/85^CONNER'],\n",
       " [347, ',', 'MICHAEL^12/29/96^AVILA'],\n",
       " [348, ',', 'MICHAEL^03/16/98^OCASIO'],\n",
       " [357, ',', 'NICK^01/31/95^PENN'],\n",
       " [380, ',', 'Amelia^01/10/59^KRIEGER'],\n",
       " [381, ',', 'AMELIA^04/08/59^PHILLIPS'],\n",
       " [382, ',', 'AMELIA^05/29/59^STEELE'],\n",
       " [383, ',', 'AMELIA^08/09/59^STEELE'],\n",
       " [387, ',', 'FRANK^08/30/76^JABLONSKI'],\n",
       " [390, ',', 'BROOKLYN^12/19/65^QUAGLIA'],\n",
       " [391, ',', 'Xavier^10/24/70^OCASIO'],\n",
       " [401, ',', 'CHARLES^8/13/2079^SORENSEN'],\n",
       " [413, ',', 'PATRICIA^02/04/78^DUNN'],\n",
       " [419, ',', 'BETTY^08/31/85^GUEVARA'],\n",
       " [420, ',', 'MATIAS^04/24/95^XIE'],\n",
       " [424, ',', 'RUATH^09/25/90^GILMORE'],\n",
       " [427, ',', 'Olivia^01/14/80^WOODRUFF'],\n",
       " [428, ',', 'OLIVIA^04/15/80^URIBE'],\n",
       " [429, ',', 'MARY^10/22/2069^VOLLMER'],\n",
       " [432, ',', 'BROOK^9/18/2094^XAYSANA'],\n",
       " [436, ',', 'Ramona^07/03/75^KEELER'],\n",
       " [445, ',', 'COREY^01/29/65^TOMLIN'],\n",
       " [447, ',', 'Nancy^09/20/92^NOE'],\n",
       " [448, ',', 'NANCY^11/02/97^OAKLEY'],\n",
       " [463, ',', 'JEAN^08/04/77^VALENTIN']]"
      ]
     },
     "execution_count": 875,
     "metadata": {},
     "output_type": "execute_result"
    }
   ],
   "source": [
    "NotSpaceSplit"
   ]
  },
  {
   "cell_type": "code",
   "execution_count": 880,
   "metadata": {},
   "outputs": [
    {
     "data": {
      "text/plain": [
       "['Eugene',\n",
       " 'BRADY',\n",
       " 'BRADY',\n",
       " 'BRADY',\n",
       " 'Brady',\n",
       " 'BRADY',\n",
       " 'Brady',\n",
       " 'Brady',\n",
       " 'Brady',\n",
       " 'Brady',\n",
       " 'Imogene',\n",
       " 'Imogene',\n",
       " 'Imogene',\n",
       " 'Otto',\n",
       " 'Christopher',\n",
       " 'Ellen',\n",
       " 'ELLENMRN',\n",
       " 'Ellen',\n",
       " 'Ellen',\n",
       " 'ELLEN',\n",
       " 'Ellen',\n",
       " 'WILLIAM',\n",
       " 'William',\n",
       " 'William',\n",
       " 'Wonda',\n",
       " 'Wonda',\n",
       " 'Wonda',\n",
       " 'Wonda',\n",
       " 'Wonda',\n",
       " 'Wonda',\n",
       " 'Wonda',\n",
       " 'Wonda',\n",
       " 'Wonda',\n",
       " 'Nicholas',\n",
       " 'Nicholas',\n",
       " 'Christine',\n",
       " 'Christine',\n",
       " 'Christine',\n",
       " 'Christine',\n",
       " 'Christine',\n",
       " 'CHRISTINE',\n",
       " 'Christine',\n",
       " 'Christine',\n",
       " 'ROBERT',\n",
       " 'ROBERT',\n",
       " 'ROBERT',\n",
       " 'ROBERT',\n",
       " ',',\n",
       " 'Mattison',\n",
       " 'MATTISON',\n",
       " 'MATTISON',\n",
       " 'Xue',\n",
       " 'Xue',\n",
       " 'AUSTIN',\n",
       " 'AUSTIN',\n",
       " 'Austin',\n",
       " 'Austin',\n",
       " 'Michael',\n",
       " 'Michael',\n",
       " 'Michael',\n",
       " 'Michael',\n",
       " 'MICHAEL',\n",
       " 'Danny',\n",
       " 'Danny',\n",
       " 'Danny',\n",
       " 'Danny',\n",
       " 'Danny',\n",
       " 'DANNY',\n",
       " 'DANNY',\n",
       " 'LARRY',\n",
       " 'Urania',\n",
       " 'Urania',\n",
       " 'Urania',\n",
       " 'Urania',\n",
       " 'Urania',\n",
       " 'Urania',\n",
       " 'Urania',\n",
       " 'URANIA',\n",
       " 'Urania',\n",
       " 'Urania',\n",
       " 'Ulyses',\n",
       " 'Ulyses',\n",
       " 'Kathy',\n",
       " 'Kathy',\n",
       " 'KATHY',\n",
       " 'KATHY',\n",
       " ',',\n",
       " 'KATHY',\n",
       " 'Andrew',\n",
       " 'Andrew',\n",
       " 'FRANKIE',\n",
       " 'FRANCE',\n",
       " ',',\n",
       " ',',\n",
       " 'WENDY',\n",
       " 'Michelle',\n",
       " 'Michelle',\n",
       " 'Nathaniel',\n",
       " 'Nathaniel',\n",
       " 'Michelle',\n",
       " 'Michelle',\n",
       " 'Verna',\n",
       " 'Verna',\n",
       " 'VERNA',\n",
       " 'XAVIER',\n",
       " ',',\n",
       " 'XAVIER',\n",
       " 'Michael',\n",
       " 'Michael',\n",
       " 'VINCENT',\n",
       " 'Vincent',\n",
       " ',',\n",
       " 'Andrew',\n",
       " 'Andrew',\n",
       " 'Uriah',\n",
       " 'Uriah',\n",
       " 'Uriah',\n",
       " 'Uriah',\n",
       " 'Wendy',\n",
       " 'Wendy',\n",
       " 'Wendy',\n",
       " 'Wendy',\n",
       " 'Wendy',\n",
       " 'WILLIAM',\n",
       " 'William',\n",
       " 'William',\n",
       " 'William',\n",
       " 'WILLIAM',\n",
       " 'Catherine',\n",
       " 'Catherine',\n",
       " ',',\n",
       " 'Alec',\n",
       " 'ALEC',\n",
       " ',',\n",
       " 'ALEXANDER',\n",
       " ',',\n",
       " 'Stephen',\n",
       " 'Stephen',\n",
       " 'Ora',\n",
       " 'Ora',\n",
       " ',',\n",
       " 'IRENE',\n",
       " 'Irene',\n",
       " 'IRENE',\n",
       " 'Irene',\n",
       " 'Irene',\n",
       " 'IRENE',\n",
       " 'Haden',\n",
       " 'Haden',\n",
       " 'Peter',\n",
       " 'Peter',\n",
       " 'Peter',\n",
       " 'Peter',\n",
       " 'Peter',\n",
       " 'Peter',\n",
       " 'Peter',\n",
       " 'Peter',\n",
       " 'Patrick',\n",
       " 'Peter',\n",
       " 'Peter',\n",
       " 'Peter',\n",
       " 'PETER',\n",
       " 'DENNIS',\n",
       " 'DENNIS',\n",
       " 'Dennis',\n",
       " 'DENNIS',\n",
       " 'Dennis',\n",
       " 'Michael',\n",
       " 'Michael',\n",
       " 'Michael',\n",
       " 'Michael',\n",
       " 'MICHAEL',\n",
       " ',',\n",
       " ',',\n",
       " 'Perla',\n",
       " 'Perla',\n",
       " 'PERLA',\n",
       " 'Perla',\n",
       " 'Perla',\n",
       " 'Perla',\n",
       " 'TERRI',\n",
       " 'Terri',\n",
       " 'Terri',\n",
       " 'Steven',\n",
       " 'TERRI',\n",
       " 'TERRI',\n",
       " 'Terri',\n",
       " 'Terri',\n",
       " 'Terri',\n",
       " 'Terri',\n",
       " 'Donny',\n",
       " 'ULYSSES',\n",
       " 'Ulysses',\n",
       " 'Ulysses',\n",
       " 'Frank',\n",
       " 'Frank',\n",
       " 'FRANK',\n",
       " 'Frank',\n",
       " 'Nick',\n",
       " ',',\n",
       " 'Nick',\n",
       " 'Nick',\n",
       " 'NICK',\n",
       " 'NICK',\n",
       " 'CORA',\n",
       " 'Cora',\n",
       " 'Cora',\n",
       " 'CORA',\n",
       " 'Teresa',\n",
       " 'AARON',\n",
       " 'Teresa',\n",
       " 'Teresa',\n",
       " 'Nathan',\n",
       " 'Nathan',\n",
       " 'Nathan',\n",
       " 'Nathan',\n",
       " 'Nathan',\n",
       " 'Nathan',\n",
       " 'Nancy',\n",
       " 'Nancy',\n",
       " 'Nancy',\n",
       " 'KEEGAN',\n",
       " 'Kadeem',\n",
       " 'Kadeem',\n",
       " 'Kadeem',\n",
       " 'Kadeem',\n",
       " 'Kadeem',\n",
       " 'Kadeem',\n",
       " 'Kadeem',\n",
       " 'Kadeem',\n",
       " 'Kadeem',\n",
       " 'FRANCIS',\n",
       " 'FREDERICK',\n",
       " 'FREDERICK',\n",
       " 'XOCHILT',\n",
       " 'Xochilt',\n",
       " 'Xochilt',\n",
       " 'Cade',\n",
       " 'Cade',\n",
       " 'CADE',\n",
       " 'CADE',\n",
       " 'CADE',\n",
       " 'Bobbie',\n",
       " 'Bobbie',\n",
       " 'Bobbie',\n",
       " 'Bobbie',\n",
       " 'Yajaira',\n",
       " 'Yajaira',\n",
       " 'Yajaira',\n",
       " 'YAJAIRA',\n",
       " 'Anastasha',\n",
       " 'Anastasha',\n",
       " 'Jacob',\n",
       " 'Jacob',\n",
       " 'NEIL',\n",
       " 'Neil',\n",
       " 'NEIL',\n",
       " 'Peggy',\n",
       " 'Amelia',\n",
       " 'Amelia',\n",
       " 'PEGGY',\n",
       " ',',\n",
       " ',',\n",
       " ',',\n",
       " ',',\n",
       " 'AMELIA',\n",
       " 'Percy',\n",
       " 'Percy',\n",
       " 'Gabriel',\n",
       " 'Gabriel',\n",
       " 'Gabriel',\n",
       " 'Gabriel',\n",
       " 'Gabriel',\n",
       " 'GABRIEL',\n",
       " 'Louise',\n",
       " 'CAITLIN',\n",
       " 'CAITLIN',\n",
       " 'Caitlin',\n",
       " ',',\n",
       " 'FRANK',\n",
       " 'Haley',\n",
       " 'Haley',\n",
       " 'Frank',\n",
       " 'Frank',\n",
       " 'Brooklyn',\n",
       " 'Brooklyn',\n",
       " ',',\n",
       " 'BROOKLYN',\n",
       " 'XAVIER',\n",
       " 'XAVIER',\n",
       " 'XAVIER',\n",
       " ',',\n",
       " 'Xavier',\n",
       " 'LORI',\n",
       " 'LORI',\n",
       " 'Lori',\n",
       " 'Olivia',\n",
       " 'OLIVIA',\n",
       " 'OLIVIA',\n",
       " 'PABLO',\n",
       " 'Kurtis',\n",
       " 'Rebecca',\n",
       " 'Rebecca',\n",
       " 'Kurtis',\n",
       " 'Rebecca',\n",
       " 'Rebecca',\n",
       " 'YASSEEN',\n",
       " 'Yasseen',\n",
       " 'Yasseen',\n",
       " 'Ursula',\n",
       " 'Ursula',\n",
       " 'Ursula',\n",
       " 'ANTHONY',\n",
       " 'ANTHONY',\n",
       " 'Anthony',\n",
       " 'ANTHONY',\n",
       " ',',\n",
       " 'ALAINA',\n",
       " 'Alaina',\n",
       " 'Claire',\n",
       " 'Veda',\n",
       " 'Veda',\n",
       " 'Veda',\n",
       " 'Veda',\n",
       " 'Veda',\n",
       " 'Oliver',\n",
       " 'Oliver',\n",
       " 'Oliver',\n",
       " 'Oliver',\n",
       " 'Oliver',\n",
       " 'OLIVER',\n",
       " 'Dalila',\n",
       " 'Dalila',\n",
       " 'Dalila',\n",
       " 'Dalila',\n",
       " 'Inez',\n",
       " 'DALILA',\n",
       " ',',\n",
       " 'PATRICIA',\n",
       " 'Patricia',\n",
       " 'Betty',\n",
       " 'Betty',\n",
       " 'Betty',\n",
       " 'Betty',\n",
       " 'Betty',\n",
       " 'BETTY',\n",
       " ',',\n",
       " 'Betty',\n",
       " 'Betty',\n",
       " 'Matias',\n",
       " 'Matias',\n",
       " 'MATIAS',\n",
       " ',',\n",
       " 'MATIAS',\n",
       " 'Vanessa',\n",
       " 'VANESSA',\n",
       " 'VANESSA',\n",
       " 'Vanessa',\n",
       " 'RUTH',\n",
       " 'Ruth',\n",
       " 'Ruath',\n",
       " 'Ruath',\n",
       " ',',\n",
       " 'Ruath',\n",
       " 'Ruath',\n",
       " 'OLIVIA',\n",
       " 'OLIVIA',\n",
       " ',',\n",
       " ',',\n",
       " 'MARY',\n",
       " ',',\n",
       " 'Larry',\n",
       " 'Larry',\n",
       " ',',\n",
       " 'Brook',\n",
       " 'BROOK',\n",
       " 'WADE',\n",
       " 'WADE',\n",
       " 'Wade',\n",
       " 'Wade',\n",
       " 'NATHAN',\n",
       " 'Nathan',\n",
       " 'NATHAN',\n",
       " 'NATHAN',\n",
       " 'NATHAN',\n",
       " 'NATHAN',\n",
       " 'NATHAN',\n",
       " 'Nathan',\n",
       " 'NATHAN',\n",
       " 'Nathan',\n",
       " 'Alice',\n",
       " 'RAMONA',\n",
       " ',',\n",
       " 'Ramona',\n",
       " 'Grace',\n",
       " 'NORA',\n",
       " 'Nora',\n",
       " 'Nora',\n",
       " 'Xander',\n",
       " '*',\n",
       " '*',\n",
       " 'Xian',\n",
       " 'Xian',\n",
       " '*',\n",
       " '*',\n",
       " 'Xander',\n",
       " 'XANDER',\n",
       " ',',\n",
       " 'Corey',\n",
       " 'SUSIE',\n",
       " 'SUSIE',\n",
       " 'Susie',\n",
       " 'SUSIE',\n",
       " ',',\n",
       " ',',\n",
       " 'Walter',\n",
       " 'WALTER',\n",
       " 'WALTER',\n",
       " 'Walter',\n",
       " 'Walter',\n",
       " 'Walter',\n",
       " 'KARSTEN',\n",
       " 'Karsten',\n",
       " 'Karsten',\n",
       " 'KARSTEN',\n",
       " 'Karsten',\n",
       " 'LAUREN',\n",
       " 'Lauren',\n",
       " 'LAUREN',\n",
       " 'LAUREN',\n",
       " 'Louise',\n",
       " 'Sandra',\n",
       " 'Sandra',\n",
       " 'OWEN',\n",
       " 'OWEN',\n",
       " 'Yamilex',\n",
       " 'YAMILEX',\n",
       " 'Helen',\n",
       " 'HELEN',\n",
       " 'Helen',\n",
       " 'HELEN',\n",
       " 'Nicole',\n",
       " 'Nicole',\n",
       " 'Nicole',\n",
       " 'Nicole',\n",
       " 'Franchesca',\n",
       " 'Victoria',\n",
       " 'TANYA',\n",
       " 'TANYA',\n",
       " 'Tanya',\n",
       " 'Tanya',\n",
       " 'Tanya',\n",
       " 'Theresa',\n",
       " 'TANYA',\n",
       " 'Tanya',\n",
       " 'Tanya',\n",
       " ',',\n",
       " 'Brendon',\n",
       " 'JEAN',\n",
       " 'Brendon',\n",
       " 'Joel',\n",
       " 'JOEL',\n",
       " 'Joel',\n",
       " 'Archie',\n",
       " 'Archie',\n",
       " 'Nathan',\n",
       " 'NATHAN',\n",
       " 'Pamela',\n",
       " 'Pamela']"
      ]
     },
     "execution_count": 880,
     "metadata": {},
     "output_type": "execute_result"
    }
   ],
   "source": [
    "[givenlist[i] for i in SortInFileList]"
   ]
  },
  {
   "cell_type": "code",
   "execution_count": null,
   "metadata": {},
   "outputs": [],
   "source": []
  },
  {
   "cell_type": "code",
   "execution_count": null,
   "metadata": {},
   "outputs": [],
   "source": [
    "for i,gn in enumerate(givenlist[i] for i in SortInFileList):\n",
    "    if gn.title() not in femaleDic and gn.title() not in [\",\",\"*\"]:\n",
    "        if gn.title() not in maleDic:\n",
    "            print(NewNumMList[SortInFileList[i]][2],gn)"
   ]
  },
  {
   "cell_type": "code",
   "execution_count": null,
   "metadata": {},
   "outputs": [],
   "source": [
    "Xian Aaron Oliver"
   ]
  },
  {
   "cell_type": "code",
   "execution_count": null,
   "metadata": {},
   "outputs": [],
   "source": []
  },
  {
   "cell_type": "code",
   "execution_count": null,
   "metadata": {},
   "outputs": [],
   "source": [
    "SexDetermination=[]\n",
    "for i in filenames:\n",
    "    k = FileWithWords(\"%s%s\"%(DirectoryPath,i),word=\"she\")\n",
    "    if k!=0:\n",
    "        PATIENT.append([k,i])"
   ]
  }
 ],
 "metadata": {
  "kernelspec": {
   "display_name": "Python 3",
   "language": "python",
   "name": "python3"
  },
  "language_info": {
   "codemirror_mode": {
    "name": "ipython",
    "version": 3
   },
   "file_extension": ".py",
   "mimetype": "text/x-python",
   "name": "python",
   "nbconvert_exporter": "python",
   "pygments_lexer": "ipython3",
   "version": "3.6.8"
  }
 },
 "nbformat": 4,
 "nbformat_minor": 2
}
