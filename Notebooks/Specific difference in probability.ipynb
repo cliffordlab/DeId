{
 "cells": [
  {
   "cell_type": "code",
   "execution_count": 1,
   "metadata": {},
   "outputs": [],
   "source": [
    "%matplotlib inline\n",
    "import numpy as np\n",
    "import matplotlib.pyplot as plt\n",
    "import seaborn as sns\n",
    "from scipy import stats\n",
    "import statsmodels as stm\n",
    "from os import walk"
   ]
  },
  {
   "cell_type": "code",
   "execution_count": 2,
   "metadata": {},
   "outputs": [],
   "source": [
    "sns.set(rc={'figure.figsize':(14.7,8.27)})"
   ]
  },
  {
   "cell_type": "code",
   "execution_count": 5,
   "metadata": {},
   "outputs": [
    {
     "data": {
      "text/plain": [
       "((30742,), (30742,))"
      ]
     },
     "execution_count": 5,
     "metadata": {},
     "output_type": "execute_result"
    }
   ],
   "source": [
    "OxA00=np.load(\"NeuroNER-master/src/SalmanTest/MyTrain385SeparateRepFlag00/Mr1mainSalmanUnary_scorestest.npy\")\n",
    "OxC00=np.load(\"NeuroNER-master/src/SalmanTest/MyTrain385SeparateRepFlag00/Mr1mainSalmanCCCtest.npy\")\n",
    "#Dic00 = np.load(\"/home/salman/NeuroNER-master/src/SalmanTest/MyTrain385SeparateRepFlag00/FinalDict.npy\").item()\n",
    "with open(\"/home/salman/NeuroNER-master/data/Speedi/MyTrain385SeparateRepFlag00/test_spacy.txt\", 'r') as file :\n",
    "    TokFil00 = file.read().split('\\n\\n')\n",
    "OxC00.shape,OxA00.shape"
   ]
  },
  {
   "cell_type": "code",
   "execution_count": 6,
   "metadata": {},
   "outputs": [
    {
     "data": {
      "text/plain": [
       "((30750,), (30750,))"
      ]
     },
     "execution_count": 6,
     "metadata": {},
     "output_type": "execute_result"
    }
   ],
   "source": [
    "OxA02=np.load(\"NeuroNER-master/src/SalmanTest/MyTrain385SeparateRepFlag02/NAMEMr1mainSalmanUnary_scorestest.npy\")\n",
    "OxC02=np.load(\"NeuroNER-master/src/SalmanTest/MyTrain385SeparateRepFlag02/NAMEMr1mainSalmanCCCtest.npy\")\n",
    "Dic02 = np.load(\"/home/salman/NeuroNER-master/src/SalmanTest/MyTrain385SeparateRepFlag02/NAMEFinalDict02.npy\").item()\n",
    "with open(\"/home/salman/NeuroNER-master/data/Speedi/MyTrain385SeparateRepFlag02/NAMEtest_spacy.txt\", 'r') as file :\n",
    "    TokFil02 = file.read().split('\\n\\n')\n",
    "OxC02.shape,OxA02.shape"
   ]
  },
  {
   "cell_type": "code",
   "execution_count": 827,
   "metadata": {},
   "outputs": [
    {
     "data": {
      "text/plain": [
       "((30734,), (30734,))"
      ]
     },
     "execution_count": 827,
     "metadata": {},
     "output_type": "execute_result"
    }
   ],
   "source": [
    "OxA01=np.load(\"NeuroNER-master/src/SalmanTest/MyTrain385SeparateRepFlag01/NAMEMr1mainSalmanUnary_scorestest.npy\")\n",
    "OxC01=np.load(\"NeuroNER-master/src/SalmanTest/MyTrain385SeparateRepFlag01/NAMEMr1mainSalmanCCCtest.npy\")\n",
    "Dic01 = np.load(\"/home/salman/NeuroNER-master/src/SalmanTest/MyTrain385SeparateRepFlag01/NAMEFinalDict01.npy\").item()\n",
    "with open(\"/home/salman/NeuroNER-master/data/Speedi/MyTrain385SeparateRepFlag01/NAMEtest_spacy.txt\", 'r') as file :\n",
    "    TokFil01 = file.read().split('\\n\\n')\n",
    "OxC01.shape,OxA01.shape"
   ]
  },
  {
   "cell_type": "code",
   "execution_count": 7,
   "metadata": {},
   "outputs": [],
   "source": [
    "filenames = np.load(\"/home/salman/NeuroNER-master/src/SalmanTest/filenames.npy\")"
   ]
  },
  {
   "cell_type": "code",
   "execution_count": 8,
   "metadata": {},
   "outputs": [],
   "source": [
    "def CleanDic(Dic):\n",
    "    NDic={}\n",
    "    for i in filenames:\n",
    "        if len(Dic[i[:-4]])>=1:\n",
    "            NDic[\"%s\"%i[:-4]] = Dic[i[:-4]]\n",
    "    return(NDic)"
   ]
  },
  {
   "cell_type": "code",
   "execution_count": 828,
   "metadata": {},
   "outputs": [],
   "source": [
    "#NDic00 = CleanDic(Dic00)\n",
    "NDic01 = CleanDic(Dic01)\n",
    "#NDic02 = CleanDic(Dic02)\n",
    "#NDic11 = CleanDic(Dic11)\n",
    "#NDic22 = CleanDic(Dic22)"
   ]
  },
  {
   "cell_type": "code",
   "execution_count": 36,
   "metadata": {},
   "outputs": [],
   "source": [
    "DirectoryPath=\"/home/salman/NeuroNER-master/data/Speedi/test/MyTrain385SeparateRepFlag01/\"\n",
    "(_, _, RealFilesNames) = next(walk(\"%s\"%DirectoryPath))\n",
    "RealFilesNames=[i[:-4] for i in RealFilesNames]"
   ]
  },
  {
   "cell_type": "code",
   "execution_count": 13,
   "metadata": {},
   "outputs": [],
   "source": [
    "def findBreaks(oxc,limit=300):\n",
    "    breaks=[]\n",
    "    for i,c in enumerate(oxc):\n",
    "        if len(c)>limit:\n",
    "            breaks.append(i)\n",
    "    return(breaks)"
   ]
  },
  {
   "cell_type": "code",
   "execution_count": 829,
   "metadata": {},
   "outputs": [],
   "source": [
    "#C00breaks = findBreaks(OxC00)\n",
    "C01breaks = findBreaks(OxC01)\n",
    "#C02breaks = findBreaks(OxC02)\n",
    "#C11breaks = findBreaks(OxC11)\n",
    "#C22breaks = findBreaks(OxC22)"
   ]
  },
  {
   "cell_type": "code",
   "execution_count": 830,
   "metadata": {},
   "outputs": [
    {
     "data": {
      "text/plain": [
       "(406, 406, 406)"
      ]
     },
     "execution_count": 830,
     "metadata": {},
     "output_type": "execute_result"
    }
   ],
   "source": [
    "len(C00breaks),len(C02breaks),len(C01breaks)"
   ]
  },
  {
   "cell_type": "code",
   "execution_count": 139,
   "metadata": {},
   "outputs": [],
   "source": [
    "msk=np.array([15, 38, 61, 85])"
   ]
  },
  {
   "cell_type": "code",
   "execution_count": 793,
   "metadata": {},
   "outputs": [],
   "source": [
    "oldfile = 0\n",
    "file = 0\n",
    "Prob00max = []\n",
    "Prob00sum = []\n",
    "SN=1\n",
    "for file in range(len(RealFilesNames)):\n",
    "    insideline = 0\n",
    "    if len(NDic02[RealFilesNames[file]][insideline][SN]) != 0:\n",
    "        for i in np.arange(oldfile,C00breaks[file]):\n",
    "            for m,j in enumerate((TokFil00[i].split('\\n'))):\n",
    "                for splittt in (j.split(\" \")[0].split(\"^\")):\n",
    "                    if (len(NDic02[RealFilesNames[file]][insideline][SN]) != 0 and \\\n",
    "                        len(NDic02[RealFilesNames[file]][insideline][SN][1]) != 0 and \\\n",
    "                        (NDic02[RealFilesNames[file]][insideline][SN][0]) in splittt):\n",
    "                        try:\n",
    "                            TEST=TokFil00[i].split('\\n')[m-1].split(\" \")[:2]\n",
    "                        except:\n",
    "                            TEST=TokFil00[i].split('\\n')[m+1].split(\" \")[:2]\n",
    "                        Prob00max.append((((np.exp((np.max(OxA00[i][m][msk])))/(np.sum((np.exp(OxA00[i][m])))))),\\\n",
    "                                   i,file,insideline,j.split(\" \")[:2],m,TEST))\n",
    "                        Prob00sum.append((np.sum((np.exp(OxA00[i][m][msk])))/(np.sum((np.exp(OxA00[i][m]))))))\n",
    "                        if insideline < len(NDic02[RealFilesNames[file]]) - 1:\n",
    "                            insideline = insideline + 1\n",
    "    else:\n",
    "        if insideline < len(NDic02[RealFilesNames[file]]) - 1:\n",
    "            insideline = insideline + 1\n",
    "    oldfile = C00breaks[file] + 1"
   ]
  },
  {
   "cell_type": "code",
   "execution_count": 794,
   "metadata": {},
   "outputs": [],
   "source": [
    "oldfile = 0\n",
    "file = 0\n",
    "Prob02max = []\n",
    "Prob02sum = []\n",
    "SN=1\n",
    "for file in range(len(RealFilesNames)):\n",
    "    insideline = 0\n",
    "    if len(NDic02[RealFilesNames[file]][insideline][SN]) != 0:\n",
    "        for i in np.arange(oldfile,C02breaks[file]):\n",
    "            for m,j in enumerate((TokFil02[i].split('\\n'))):\n",
    "                for splittt in (j.split(\" \")[0].split(\"^\")):\n",
    "                    if (len(NDic02[RealFilesNames[file]][insideline][SN]) != 0 and \\\n",
    "                        len(NDic02[RealFilesNames[file]][insideline][SN][1]) != 0 and \\\n",
    "                        ((NDic02[RealFilesNames[file]][insideline][SN][1]) in splittt)):\n",
    "                        try:\n",
    "                            TEST=TokFil02[i].split('\\n')[m-1].split(\" \")[:2]\n",
    "                        except:\n",
    "                            TEST=TokFil02[i].split('\\n')[m+1].split(\" \")[:2]\n",
    "                        Prob02max.append((((np.exp((np.max(OxA02[i][m][msk])))/(np.sum((np.exp(OxA02[i][m])))))),\\\n",
    "                                   i,file,insideline,j.split(\" \")[:2],m,TEST))\n",
    "                        Prob02sum.append((np.sum((np.exp(OxA02[i][m][msk])))/(np.sum((np.exp(OxA02[i][m]))))))\n",
    "                        if insideline < len(NDic02[RealFilesNames[file]]) - 1:\n",
    "                            insideline = insideline + 1\n",
    "    else:\n",
    "        if insideline < len(NDic02[RealFilesNames[file]]) - 1:\n",
    "            insideline = insideline + 1\n",
    "    oldfile = C02breaks[file] + 1"
   ]
  },
  {
   "cell_type": "code",
   "execution_count": 871,
   "metadata": {},
   "outputs": [],
   "source": [
    "oldfile = 0\n",
    "file = 0\n",
    "Prob01max = []\n",
    "Prob01sum = []\n",
    "SN=1\n",
    "for file in range(len(RealFilesNames)):\n",
    "    insideline = 0\n",
    "    if len(NDic01[RealFilesNames[file]][insideline][SN]) != 0:\n",
    "        for i in np.arange(oldfile,C01breaks[file]):\n",
    "            for m,j in enumerate((TokFil01[i].split('\\n'))):\n",
    "                for splittt in (j.split(\" \")[0].split(\"^\")):\n",
    "                    if (len(NDic01[RealFilesNames[file]][insideline][SN]) != 0 and \\\n",
    "                        len(NDic01[RealFilesNames[file]][insideline][SN][1]) != 0 and \\\n",
    "                        ((NDic01[RealFilesNames[file]][insideline][SN][1] in splittt))):\n",
    "                        Prob01max.append((((np.exp((np.max(OxA01[i][m][msk])))/(np.sum((np.exp(OxA01[i][m])))))),\\\n",
    "                                   i,file,insideline,j.split(\" \")[:2],m,TEST))\n",
    "                        Prob01sum.append((np.sum((np.exp(OxA01[i][m][msk])))/(np.sum((np.exp(OxA01[i][m]))))))\n",
    "                        if insideline < len(NDic01[RealFilesNames[file]]) - 1:\n",
    "                            insideline = insideline + 1\n",
    "    else:\n",
    "        if insideline < len(NDic01[RealFilesNames[file]]) - 1:\n",
    "            insideline = insideline + 1\n",
    "    oldfile = C01breaks[file] + 1"
   ]
  },
  {
   "cell_type": "code",
   "execution_count": null,
   "metadata": {},
   "outputs": [],
   "source": []
  },
  {
   "cell_type": "code",
   "execution_count": 856,
   "metadata": {},
   "outputs": [
    {
     "data": {
      "text/plain": [
       "'XAYARATH'"
      ]
     },
     "execution_count": 856,
     "metadata": {},
     "output_type": "execute_result"
    }
   ],
   "source": [
    "NDic01[\"227-01\"][0][SN][1]"
   ]
  },
  {
   "cell_type": "code",
   "execution_count": 857,
   "metadata": {},
   "outputs": [
    {
     "data": {
      "text/plain": [
       "['08 228-01 107 109 O',\n",
       " 'Pinehaven 228-01 110 119 O',\n",
       " 'Dr. 228-01 120 123 O',\n",
       " 'Schuyler 228-01 124 132 O',\n",
       " ', 228-01 132 133 O',\n",
       " 'FL 228-01 134 136 O',\n",
       " '76969 228-01 138 143 O',\n",
       " 'RE 228-01 148 150 O',\n",
       " ': 228-01 150 151 O',\n",
       " 'Wonda 228-01 153 158 O',\n",
       " 'Ickes 228-01 159 164 O']"
      ]
     },
     "execution_count": 857,
     "metadata": {},
     "output_type": "execute_result"
    }
   ],
   "source": [
    "TokFil01[1481].split('\\n')"
   ]
  },
  {
   "cell_type": "code",
   "execution_count": 872,
   "metadata": {},
   "outputs": [
    {
     "data": {
      "text/plain": [
       "(740, 740, 662)"
      ]
     },
     "execution_count": 872,
     "metadata": {},
     "output_type": "execute_result"
    }
   ],
   "source": [
    "len(Prob00sum),len(Prob02sum),len(Prob01sum)"
   ]
  },
  {
   "cell_type": "code",
   "execution_count": 863,
   "metadata": {},
   "outputs": [
    {
     "data": {
      "text/plain": [
       "[[['William', 'William'], ['Le', 'Amelia^01/10/59^Krieger']],\n",
       " [['William', 'William'], ['Le', 'Rhodes']]]"
      ]
     },
     "execution_count": 863,
     "metadata": {},
     "output_type": "execute_result"
    }
   ],
   "source": [
    "Dic01[\"227-03\"]"
   ]
  },
  {
   "cell_type": "code",
   "execution_count": 858,
   "metadata": {},
   "outputs": [
    {
     "data": {
      "text/plain": [
       "(0.9978329, 1365, 17, 0, ['XAYARATH', '227-01'], 8, [':', '227-01'])"
      ]
     },
     "execution_count": 858,
     "metadata": {},
     "output_type": "execute_result"
    }
   ],
   "source": [
    "Prob01max[29]"
   ]
  },
  {
   "cell_type": "code",
   "execution_count": 862,
   "metadata": {},
   "outputs": [
    {
     "data": {
      "text/plain": [
       "(0.9992436, 1455, 18, 0, ['Le', '227-03'], 6, ['William', '227-03'])"
      ]
     },
     "execution_count": 862,
     "metadata": {},
     "output_type": "execute_result"
    }
   ],
   "source": [
    "Prob00max[30]"
   ]
  },
  {
   "cell_type": "code",
   "execution_count": 768,
   "metadata": {},
   "outputs": [
    {
     "data": {
      "text/plain": [
       "6"
      ]
     },
     "execution_count": 768,
     "metadata": {},
     "output_type": "execute_result"
    }
   ],
   "source": [
    "len(NDic02[RealFilesNames[file]][insideline][SN][1])"
   ]
  },
  {
   "cell_type": "code",
   "execution_count": 766,
   "metadata": {},
   "outputs": [
    {
     "data": {
      "text/plain": [
       "[[['', ''], ['Mills', 'Fatora']],\n",
       " [['', ''], ['Urquiza', 'Raff']],\n",
       " [['', ''], ['Mills', 'Esponda']],\n",
       " [['', ''], ['Mills', 'Dredge']]]"
      ]
     },
     "execution_count": 766,
     "metadata": {},
     "output_type": "execute_result"
    }
   ],
   "source": [
    "Dic02[\"308-01\"]"
   ]
  },
  {
   "cell_type": "code",
   "execution_count": 765,
   "metadata": {},
   "outputs": [
    {
     "data": {
      "text/plain": [
       "[(0.9877351, 3, 0, 0, ['Brockie', '221-01'], 0, [':', '221-01']),\n",
       " (0.9586197, 262, 3, 0, ['BRYANS', '222-01'], 12, ['VISIT', '222-01']),\n",
       " (0.9880858, 311, 4, 0, ['COLATO', '222-03'], 12, ['VISIT', '222-03']),\n",
       " (0.885781, 354, 5, 0, ['ALBER', '222-04'], 9, ['BRADY', '222-04']),\n",
       " (0.8649786, 355, 5, 1, ['Bennetts', '222-04'], 17, ['Brady', '222-04']),\n",
       " (0.009885628, 368, 5, 2, ['LATINO', '222-04'], 8, ['BRADY', '222-04']),\n",
       " (0.8419053, 391, 6, 0, ['Sayegh', '222-05'], 13, ['Brady', '222-05']),\n",
       " (0.7389037, 392, 6, 1, ['Bachmeyer', '222-05'], 3, ['Brady', '222-05']),\n",
       " (0.5803901, 415, 6, 2, ['Tamer', '222-05'], 3, ['Brady', '222-05']),\n",
       " (0.52643555, 423, 6, 3, ['Dulberg', '222-05'], 2, ['Brady', '222-05']),\n",
       " (0.9784088, 438, 7, 0, ['Ehrke', '223-01'], 9, [':', '223-01']),\n",
       " (0.91328657, 438, 7, 1, ['Morishito', '223-01'], 33, ['Imogene', '223-01']),\n",
       " (0.9975124, 439, 7, 2, ['Defosses', '223-01'], 5, ['Ms.', '223-01']),\n",
       " (0.9960036, 451, 7, 3, ['Powis', '223-01'], 5, [':', '223-01']),\n",
       " (0.3925166, 471, 8, 0, ['Stempert', '224-01'], 16, ['Otto', '224-01']),\n",
       " (0.8228889, 561, 9, 0, ['Fusca', '224-02'], 1, ['Mr', '224-02']),\n",
       " (0.5820535, 647, 10, 0, ['Grossen', '224-03'], 1, ['Mr', '224-03']),\n",
       " (0.9296228, 737, 11, 0, ['Krzewinski', '224-04'], 8, ['Mr', '224-04']),\n",
       " (0.84700525, 844, 12, 0, ['Allah', '225-02'], 1, ['Christopher', '225-02']),\n",
       " (0.9594718, 845, 12, 1, ['Hemberger', '225-02'], 1, ['Mr', '225-02']),\n",
       " (0.9017084, 922, 13, 0, ['Glaza', '226-01'], 3, ['Ellen', '226-01']),\n",
       " (0.0034817702, 975, 13, 1, ['Ziernicki', '226-01'], 19, ['to', '226-01']),\n",
       " (0.93527645, 1033, 14, 0, ['Hurney', '226-02'], 3, ['Ellen', '226-02']),\n",
       " (0.34636334, 1090, 14, 1, ['Cisar', '226-02'], 16, ['to', '226-02']),\n",
       " (0.8789547, 1109, 14, 2, ['Clise', '226-02'], 0, ['EO25834097', '226-02']),\n",
       " (0.61849385, 1113, 14, 3, ['MORENCE', '226-02'], 77, [':', '226-02']),\n",
       " (0.81757987, 1197, 15, 0, ['MARSH', '226-03'], 8, ['01', '226-03']),\n",
       " (0.9964638, 1200, 15, 1, ['Archbell', '226-03'], 5, ['Ms.', '226-03']),\n",
       " (0.9186253, 1253, 16, 0, ['Penceal', '226-04'], 3, ['Ellen', '226-04']),\n",
       " (0.9964667, 1367, 17, 0, ['CUCCO', '227-01'], 8, [':', '227-01']),\n",
       " (0.99403304, 1455, 18, 0, ['Leesman', '227-03'], 6, ['William', '227-03']),\n",
       " (0.87516195, 1457, 18, 1, ['Detorres', '227-03'], 6, ['William', '227-03']),\n",
       " (0.88678694, 1482, 19, 0, ['Carcieri', '228-01'], 10, ['Wonda', '228-01']),\n",
       " (0.99802566, 1483, 19, 1, ['Ragans', '228-01'], 13, ['Ms.', '228-01']),\n",
       " (0.9921711, 1503, 20, 0, ['Flower', '228-02'], 29, [':', '228-02']),\n",
       " (0.48202333, 1505, 20, 1, ['Tutino', '228-02'], 14, ['Wonda', '228-02']),\n",
       " (0.9307862, 1521, 20, 2, ['Kofoot', '228-02'], 0, [':', '228-02']),\n",
       " (0.9857132, 1533, 21, 0, ['PARENTEAU', '228-04'], 0, [':', '228-04']),\n",
       " (0.9259, 1535, 21, 1, ['Lave', '228-04'], 12, ['Ms.', '228-04']),\n",
       " (0.99861896, 1536, 21, 2, ['Hugee', '228-04'], 5, ['Ms.', '228-04']),\n",
       " (0.981369, 1553, 21, 3, ['FEDERLE', '228-04'], 2, [':', '228-04']),\n",
       " (0.99506515, 1554, 21, 4, ['Schnipper', '228-04'], 6, ['Ms.', '228-04']),\n",
       " (0.9886594, 1573, 22, 0, ['Beisser', '228-05'], 16, [':', '228-05']),\n",
       " (0.9687567, 1574, 22, 1, ['Stoecklin', '228-05'], 8, ['Ms.', '228-05']),\n",
       " (0.8215401, 1614, 22, 2, ['Adragna', '228-05'], 2, ['second', '228-05']),\n",
       " (0.88127285, 1642, 22, 3, ['Hildebrandt', '228-05'], 0, [':', '228-05']),\n",
       " (0.9911537, 1662, 23, 0, ['Lorson', '229-01'], 1, ['Mr.', '229-01']),\n",
       " (0.99595755, 1695, 23, 1, ['Goblirsch', '229-01'], 1, ['Mr.', '229-01']),\n",
       " (0.8032549, 1708, 24, 0, ['Duclo', '229-02'], 8, ['Nicholas', '229-02']),\n",
       " (0.70054615, 1787, 25, 0, ['Canez', '229-03'], 8, ['Nicholas', '229-03']),\n",
       " (0.99786466, 1883, 27, 0, ['Denley', '240-03'], 1, ['Mr.', '240-03']),\n",
       " (0.97862375, 1947, 27, 1, ['Langbehn', '240-03'], 1, ['Mr.', '240-03']),\n",
       " (0.9486908, 1969, 28, 0, ['Abar', '240-04'], 1, ['Mr', '240-04']),\n",
       " (0.6261741, 2042, 29, 0, ['Steenburg', '241-01'], 1, ['Christine', '241-01']),\n",
       " (0.93693143, 2044, 29, 1, ['Tiberi', '241-01'], 1, ['Mrs.', '241-01']),\n",
       " (0.989116, 2046, 29, 2, ['Grochmal', '241-01'], 1, ['Mrs.', '241-01']),\n",
       " (0.6225953, 2055, 29, 3, ['Dodrill', '241-01'], 6, ['was', '241-01']),\n",
       " (0.99652845, 2078, 29, 4, ['Ydara', '241-01'], 1, ['Mrs.', '241-01']),\n",
       " (0.92505527, 2083, 29, 5, ['Kulick', '241-01'], 20, ['will', '241-01']),\n",
       " (0.86060417,\n",
       "  2097,\n",
       "  30,\n",
       "  0,\n",
       "  ['Corneille', '241-02'],\n",
       "  27,\n",
       "  ['Christine', '241-02']),\n",
       " (0.9934308, 2099, 30, 1, ['Elldrege', '241-02'], 1, ['Mrs.', '241-02']),\n",
       " (0.99049383, 2127, 30, 2, ['Kranawetter', '241-02'], 0, [':', '241-02']),\n",
       " (0.9959017, 2128, 30, 3, ['Waner', '241-02'], 1, ['Mrs.', '241-02']),\n",
       " (0.8306234, 2145, 31, 0, ['MCBRIDE', '241-03'], 12, ['VISIT', '241-03']),\n",
       " (0.7898484, 2172, 32, 0, ['Mrazek', '241-04'], 27, ['Christine', '241-04']),\n",
       " (0.9953903, 2173, 32, 1, ['Wilder', '241-04'], 1, ['Mrs.', '241-04']),\n",
       " (0.9871083, 2192, 32, 2, ['Trevizo', '241-04'], 9, ['Christine', '241-04']),\n",
       " (0.886469, 2194, 32, 3, ['Varady', '241-04'], 3, ['Mrs.', '241-04']),\n",
       " (0.6483004, 2196, 32, 4, ['President', '241-04'], 8, ['Ms.', '241-04']),\n",
       " (0.96834475, 2215, 33, 0, ['EVERROAD', '242-02'], 12, ['VISIT', '242-02']),\n",
       " (0.9941307, 2275, 34, 0, ['STRAWTHER', '242-03'], 0, [':', '242-03']),\n",
       " (0.571996, 2276, 34, 1, ['JUSTAK', '242-03'], 2, ['ROBERT', '242-03']),\n",
       " (0.98886114, 2277, 34, 2, ['Dirago', '242-03'], 2, ['Mr.', '242-03']),\n",
       " (0.9464598, 2311, 35, 0, ['TOURIKIS', '242-04'], 0, ['ROBERT', '242-04']),\n",
       " (0.0069017825,\n",
       "  2460,\n",
       "  36,\n",
       "  0,\n",
       "  ['EDVISIT^85588852^German', '242-05'],\n",
       "  8,\n",
       "  ['12', '242-05']),\n",
       " (0.73660296, 2507, 37, 0, ['Albero', '243-01'], 0, ['08/10/76', '243-01']),\n",
       " (0.93616974, 2547, 38, 0, ['MALMQUIST', '243-03'], 14, ['Street', '243-03']),\n",
       " (0.98152643, 2582, 39, 0, ['CALIGARI', '243-04'], 8, ['01', '243-04']),\n",
       " (0.99578214, 2586, 39, 1, ['Knieriem', '243-04'], 8, ['Mr.', '243-04']),\n",
       " (0.8530956, 2623, 40, 0, ['Gianopoulos', '244-01'], 0, [':', '244-01']),\n",
       " (0.98131317, 2712, 41, 0, ['Comparoni', '244-02'], 0, [':', '244-02']),\n",
       " (0.9815082, 2864, 42, 0, ['ARGIRO', '246-01'], 0, [':', '246-01']),\n",
       " (0.9852202, 2885, 43, 0, ['SHAMEL', '246-02'], 6, [':', '246-02']),\n",
       " (0.966468, 2951, 44, 0, ['Godde', '246-03'], 7, [':', '246-03']),\n",
       " (0.93964446, 3052, 45, 0, ['Axt', '246-04'], 0, ['8652895', '246-04']),\n",
       " (0.9921304, 3235, 46, 0, ['Ertz', '247-01'], 2, [':', '247-01']),\n",
       " (0.3882987, 3282, 46, 1, ['Wedi', '247-01'], 8, ['Michael', '247-01']),\n",
       " (0.8904418, 3371, 47, 0, ['Roemer', '247-02'], 9, ['Michael', '247-02']),\n",
       " (0.98838156, 3374, 47, 1, ['Neall', '247-02'], 7, ['Mr.', '247-02']),\n",
       " (0.99488884, 3389, 47, 2, ['Camilleri', '247-02'], 9, ['Mr.', '247-02']),\n",
       " (0.99181247, 3395, 48, 0, ['Faherty', '247-03'], 13, [':', '247-03']),\n",
       " (0.9979924, 3398, 48, 1, ['Torrain', '247-03'], 1, ['Mr.', '247-03']),\n",
       " (0.8495457, 3417, 48, 2, ['Gummo', '247-03'], 8, ['Mr.', '247-03']),\n",
       " (0.9934995, 3527, 49, 0, ['CARREIRA', '247-04'], 11, [':', '247-04']),\n",
       " (0.9414839, 3528, 49, 1, ['Cambric', '247-04'], 16, ['Mr.', '247-04']),\n",
       " (0.81251144, 3537, 49, 2, ['Gress', '247-04'], 2, ['Mr', '247-04']),\n",
       " (0.76683414, 3560, 50, 0, ['Frecker', '248-01'], 1, ['Danny', '248-01']),\n",
       " (0.37735274, 3562, 50, 1, ['Wisdom', '248-01'], 6, ['Mr.', '248-01']),\n",
       " (0.9953488, 3564, 50, 2, ['Reidherd', '248-01'], 1, ['Mr.', '248-01']),\n",
       " (0.7131177, 3657, 50, 3, ['Mortellaro', '248-01'], 2, ['Danny', '248-01']),\n",
       " (0.8321232, 3675, 50, 4, ['Donatello', '248-01'], 6, ['Mr.', '248-01']),\n",
       " (0.69806796, 3681, 51, 0, ['Settlemyre', '248-02'], 21, ['Danny', '248-02']),\n",
       " (0.9939627, 3683, 51, 1, ['Celadon', '248-02'], 1, ['Mr.', '248-02']),\n",
       " (0.978447, 3684, 51, 2, ['Pauk', '248-02'], 3, ['Mr.', '248-02']),\n",
       " (0.9651325, 3697, 51, 3, ['Flem', '248-02'], 1, ['Mr.', '248-02']),\n",
       " (0.9957942, 3794, 51, 4, ['Mail', '248-02'], 1, ['Mr.', '248-02']),\n",
       " (0.89104444, 3812, 52, 0, ['Haker', '248-03'], 1, ['Danny', '248-03']),\n",
       " (0.9955887, 3813, 52, 1, ['Bouer', '248-03'], 1, ['Mr.', '248-03']),\n",
       " (0.9962997, 3823, 52, 2, ['Coletti', '248-03'], 1, ['Mr.', '248-03']),\n",
       " (0.8290921, 3847, 53, 0, ['Mauger', '248-04'], 8, ['Danny', '248-04']),\n",
       " (0.99058187, 3877, 53, 1, ['Igus', '248-04'], 16, ['Mr.', '248-04']),\n",
       " (0.9894111, 3936, 53, 2, ['SHONTZ', '248-04'], 5, ['for', '248-04']),\n",
       " (0.98250407, 3970, 53, 3, ['HERDT', '248-04'], 4, ['for', '248-04']),\n",
       " (0.9366237, 4026, 54, 0, ['ACEVES', '249-01'], 0, ['2155941', '249-01']),\n",
       " (0.93701047, 4064, 55, 0, ['Farin', '249-04'], 1, ['Mr.', '249-04']),\n",
       " (0.9744704, 4104, 55, 1, ['Voorhies', '249-04'], 1, ['Mr.', '249-04']),\n",
       " (0.8618504, 4133, 56, 0, ['Ney', '250-01'], 0, ['MR', '250-01']),\n",
       " (0.9437053, 4134, 56, 1, ['Sanches', '250-01'], 19, ['Urania', '250-01']),\n",
       " (0.9879558, 4136, 56, 2, ['Hellner', '250-01'], 1, ['Ms.', '250-01']),\n",
       " (0.9884572, 4143, 56, 3, ['Kiphart', '250-01'], 1, ['Ms.', '250-01']),\n",
       " (0.9854125, 4150, 56, 4, ['Nicewonger', '250-01'], 1, ['Ms.', '250-01']),\n",
       " (0.88498014, 4151, 56, 5, ['Diel', '250-01'], 0, ['2078', '250-01']),\n",
       " (0.99748296, 4160, 56, 6, ['Essa', '250-01'], 5, ['Ms.', '250-01']),\n",
       " (0.9569284, 4176, 56, 7, ['Tibbits', '250-01'], 3, ['Ms.', '250-01']),\n",
       " (0.95326924, 4186, 56, 8, ['Camerena', '250-01'], 0, ['MR', '250-01']),\n",
       " (0.9040923, 4188, 56, 9, ['Sandri', '250-01'], 8, ['Ms.', '250-01']),\n",
       " (0.6606453, 4199, 57, 0, ['Belshaw', '250-02'], 7, ['Urania', '250-02']),\n",
       " (0.9617071, 4200, 57, 1, ['Pizzella', '250-02'], 20, ['Urania', '250-02']),\n",
       " (0.9967527, 4219, 57, 2, ['Davolt', '250-02'], 3, ['Ms.', '250-02']),\n",
       " (0.18165287, 4222, 57, 3, ['Sanner', '250-02'], 1, ['Urania', '250-02']),\n",
       " (0.8391465, 4229, 58, 0, ['NOTOMA', '250-03'], 17, ['St', '250-03']),\n",
       " (0.9591161, 4233, 58, 1, ['Recupero', '250-03'], 11, ['Urania', '250-03']),\n",
       " (0.8266774, 4252, 58, 2, ['Jamon', '250-03'], 4, ['Ms.', '250-03']),\n",
       " (0.99349505, 4262, 59, 0, ['Batiz', '250-04'], 16, [':', '250-04']),\n",
       " (0.9956977, 4263, 59, 1, ['Streicher', '250-04'], 1, ['Ms.', '250-04']),\n",
       " (0.98307276, 4329, 60, 0, ['Saintlouis', '251-03'], 6, [':', '251-03']),\n",
       " (0.99694204, 4335, 60, 1, ['Hoofard', '251-03'], 5, ['Mr.', '251-03']),\n",
       " (0.9425914, 4605, 61, 0, ['Kercado', '251-04'], 3, ['Ulyses', '251-04']),\n",
       " (0.9970033, 4627, 61, 1, ['Trometter', '251-04'], 1, ['Mr.', '251-04']),\n",
       " (0.78605634, 4687, 62, 0, ['Gibbson', '252-01'], 11, ['Kathy', '252-01']),\n",
       " (0.9927012, 4688, 62, 1, ['Hawelu', '252-01'], 1, ['Mrs.', '252-01']),\n",
       " (0.965932, 4692, 62, 2, ['Provines', '252-01'], 8, ['Mrs.', '252-01']),\n",
       " (0.745632, 4710, 62, 3, ['Doody', '252-01'], 4, ['Kathy', '252-01']),\n",
       " (0.9943812, 4720, 62, 4, ['Smily', '252-01'], 1, ['Mrs.', '252-01']),\n",
       " (0.98796827, 4740, 63, 0, ['MULANEY', '252-02'], 12, ['VISIT', '252-02']),\n",
       " (0.0051360438, 4792, 64, 0, ['DRAFFIN', '252-03'], 0, ['DRAFFIN', '252-03']),\n",
       " (0.9930131, 4801, 64, 1, ['Bertschy', '252-03'], 1, ['Mrs.', '252-03']),\n",
       " (0.9823374, 4838, 64, 2, ['Husein', '252-03'], 1, ['Mrs.', '252-03']),\n",
       " (0.0034674318,\n",
       "  4859,\n",
       "  65,\n",
       "  0,\n",
       "  ['EDVISIT^15842112^Calger', '252-04'],\n",
       "  8,\n",
       "  ['20', '252-04']),\n",
       " (0.97097963, 4935, 66, 0, ['MARESH', '252-05'], 8, ['06', '252-05']),\n",
       " (0.9790982, 4938, 66, 1, ['Bacigalupo', '252-05'], 1, ['Mrs.', '252-05']),\n",
       " (0.9862004, 4972, 66, 2, ['Jepperson', '252-05'], 3, ['Ms.', '252-05']),\n",
       " (0.8825447, 4991, 67, 0, ['Fago', '253-01'], 1, ['Andrew', '253-01']),\n",
       " (0.9485877, 5023, 68, 0, ['Torner', '253-02'], 7, ['NOTE', '253-02']),\n",
       " (0.993341, 5052, 69, 0, ['MCKOSKY', '254-01'], 12, ['VISIT', '254-01']),\n",
       " (0.26720405, 5121, 70, 0, ['ARGENTIERI', '254-02'], 12, ['Road', '254-02']),\n",
       " (0.99154276, 5124, 70, 1, ['Stecker', '254-02'], 1, ['Mr.', '254-02']),\n",
       " (0.0041615865,\n",
       "  5154,\n",
       "  71,\n",
       "  0,\n",
       "  ['EDVISIT^51639357^Langsdale', '254-03'],\n",
       "  8,\n",
       "  ['01', '254-03']),\n",
       " (0.0007474522,\n",
       "  5200,\n",
       "  72,\n",
       "  0,\n",
       "  ['EDVISIT^51639357^HOAK', '254-04'],\n",
       "  8,\n",
       "  ['25', '254-04']),\n",
       " (0.94272584, 5355, 73, 0, ['SALAMY', '254-05'], 0, ['.', '254-05']),\n",
       " (0.9746634, 5359, 74, 0, ['Calnimptewa', '256-01'], 0, ['.', '256-01']),\n",
       " (0.99198025, 5393, 75, 0, ['TINOCO', '256-02'], 26, [':', '256-02']),\n",
       " (0.86535156, 5395, 75, 1, ['Hammell', '256-02'], 6, ['Ms.', '256-02']),\n",
       " (0.9974455, 5399, 75, 2, ['Chabot', '256-02'], 5, ['Ms.', '256-02']),\n",
       " (0.79555196,\n",
       "  5500,\n",
       "  76,\n",
       "  0,\n",
       "  ['Cooperstein', '256-03'],\n",
       "  2,\n",
       "  ['Nathaniel', '256-03']),\n",
       " (0.39666063, 5566, 76, 1, ['Fannin', '256-03'], 2, ['Nathaniel', '256-03']),\n",
       " (0.59259737, 5589, 77, 0, ['Lentz', '256-04'], 6, ['Michelle', '256-04']),\n",
       " (0.9669113, 5621, 78, 0, ['Luten', '256-05'], 15, ['Michelle', '256-05']),\n",
       " (0.9013049, 5658, 79, 0, ['Radway', '257-01'], 7, ['Verna', '257-01']),\n",
       " (0.99744475, 5761, 80, 0, ['Bubrig', '257-02'], 1, ['Mrs.', '257-02']),\n",
       " (0.75350744, 5900, 81, 0, ['Kimbriel', '257-03'], 7, ['Verna', '257-03']),\n",
       " (0.99372506, 5920, 82, 0, ['DOMPE', '257-04'], 10, ['Visit', '257-04']),\n",
       " (0.99786896, 5921, 82, 1, ['Raffone', '257-04'], 1, ['Ms.', '257-04']),\n",
       " (0.98176444, 5959, 82, 2, ['Arrigo', '257-04'], 1, ['Ms.', '257-04']),\n",
       " (0.8119151, 6033, 83, 0, ['CIESLA', '258-03'], 15, ['Street', '258-03']),\n",
       " (0.0040722545,\n",
       "  6051,\n",
       "  84,\n",
       "  0,\n",
       "  ['EDVISIT^49921666^Warga', '258-04'],\n",
       "  8,\n",
       "  ['15', '258-04']),\n",
       " (0.97087723, 6052, 84, 1, ['Torell', '258-04'], 1, ['Mr.', '258-04']),\n",
       " (0.7624892, 6095, 85, 0, ['TANENBAUM', '258-05'], 15, ['Street', '258-05']),\n",
       " (0.8179633, 6135, 86, 0, ['Vanburen', '259-02'], 4, ['Michael', '259-02']),\n",
       " (0.47276008, 6171, 87, 0, ['Guillette', '259-03'], 0, [':', '259-03']),\n",
       " (0.9827448, 6193, 88, 0, ['Sneller', '259-04'], 0, ['12693819', '259-04']),\n",
       " (0.9978781, 6226, 89, 0, ['STAGMAN', '270-01'], 14, [':', '270-01']),\n",
       " (0.9774675, 6289, 90, 0, ['Joshlin', '270-02'], 0, [':', '270-02']),\n",
       " (0.00021532814,\n",
       "  6369,\n",
       "  91,\n",
       "  0,\n",
       "  ['EDVISIT^29964344^BOURRAINE', '270-03'],\n",
       "  5,\n",
       "  ['11', '270-03']),\n",
       " (0.6312724, 6525, 93, 0, ['Bergsten', '271-01'], 8, [',', '271-01']),\n",
       " (0.88293326, 6681, 94, 0, ['Kendall', '271-03'], 0, [':', '271-03']),\n",
       " (0.12097615, 6752, 95, 0, ['Trimboli', '272-01'], 1, ['Uriah', '272-01']),\n",
       " (0.98246473, 6786, 96, 0, ['Walking', '272-02'], 10, [':', '272-02']),\n",
       " (0.92451054, 6787, 96, 1, ['Skousen', '272-02'], 7, ['Mr.', '272-02']),\n",
       " (0.48292482, 6855, 97, 0, ['Hirano', '272-03'], 9, ['Uriah', '272-03']),\n",
       " (0.849931, 6902, 98, 0, ['Syers', '272-04'], 0, [':', '272-04']),\n",
       " (0.98637515, 7079, 99, 0, ['Wieser', '273-01'], 23, ['hs', '273-01']),\n",
       " (0.97993386, 7149, 100, 0, ['Brumbalow', '273-02'], 21, ['hs', '273-02']),\n",
       " (0.9779967, 7200, 101, 0, ['Roberrtson', '273-03'], 21, ['hs', '273-03']),\n",
       " (0.9914471, 7234, 102, 0, ['Monsour', '273-04'], 24, ['hs', '273-04']),\n",
       " (0.80552244, 7317, 103, 0, ['Grumer', '273-05'], 24, ['hs', '273-05']),\n",
       " (0.4760774, 7344, 103, 1, ['Alipio', '273-05'], 3, [':', '273-05']),\n",
       " (0.99564594, 7377, 104, 0, ['JONGSMA', '274-01'], 8, ['VISIT', '274-01']),\n",
       " (0.8989339, 7439, 105, 0, ['Ciucci', '274-02'], 2, ['81697', '274-02']),\n",
       " (0.98398477, 7476, 106, 0, ['Calamia', '274-03'], 2, ['81697', '274-03']),\n",
       " (0.99535257, 7477, 106, 1, ['Sotak', '274-03'], 1, ['Mr.', '274-03']),\n",
       " (0.71067315, 7507, 106, 2, ['Orihuela', '274-03'], 0, ['02/02/79', '274-03']),\n",
       " (0.9788033, 7523, 107, 0, ['CUBILLO', '274-04'], 4, ['VISIT', '274-04']),\n",
       " (0.9887604, 7592, 108, 0, ['Zigmond', '275-01'], 15, ['Catherine', '275-01']),\n",
       " (0.9441337, 7609, 109, 0, ['Plum', '275-02'], 12, ['Note', '275-02']),\n",
       " (0.64455175, 7650, 110, 0, ['Kaltenhauser', '275-04'], 4, ['Ms.', '275-04']),\n",
       " (0.9982688, 7708, 110, 1, ['Larey', '275-04'], 12, ['Ms.', '275-04']),\n",
       " (0.011881482,\n",
       "  7744,\n",
       "  111,\n",
       "  0,\n",
       "  ['EDVISIT^32707420^WALLMAN', '276-01'],\n",
       "  8,\n",
       "  ['25', '276-01']),\n",
       " (0.9658532, 7784, 112, 0, ['RIEDEL', '276-02'], 8, ['28', '276-02']),\n",
       " (0.7157359, 7787, 112, 1, ['Dosier', '276-02'], 20, ['Alec', '276-02']),\n",
       " (0.00023585345,\n",
       "  7812,\n",
       "  113,\n",
       "  0,\n",
       "  ['EDVISIT^32707420^DOVER', '276-03'],\n",
       "  5,\n",
       "  ['31', '276-03']),\n",
       " (0.9652157, 7878, 114, 0, ['VOJTA', '276-04'], 8, ['17', '276-04']),\n",
       " (0.0038966085, 7881, 114, 1, ['Veltkamp', '276-04'], 6, ['Dr.', '276-04']),\n",
       " (0.0037260107, 7883, 114, 2, ['Willford', '276-04'], 14, ['Dr.', '276-04']),\n",
       " (0.0009019075, 7915, 114, 3, ['Ramdas', '276-04'], 3, ['Dr.', '276-04']),\n",
       " (0.9993918, 7931, 115, 0, ['Axsom', '277-01'], 1, ['Mr.', '277-01']),\n",
       " (0.98251534, 7936, 115, 1, ['Laufer', '277-01'], 1, ['Mr.', '277-01']),\n",
       " (0.98923135, 7962, 115, 2, ['Jackovitz', '277-01'], 1, ['Mr.', '277-01']),\n",
       " (0.0036023722,\n",
       "  7973,\n",
       "  116,\n",
       "  0,\n",
       "  ['EDVISIT^52402461^Elgen', '277-02'],\n",
       "  8,\n",
       "  ['06', '277-02']),\n",
       " (0.98517096, 8271, 120, 0, ['Rische', '278-02'], 7, [':', '278-02']),\n",
       " (0.9944603, 8398, 121, 0, ['Borchardt', '278-03'], 1, ['Mr.', '278-03']),\n",
       " (0.9955312, 8403, 121, 1, ['Brumback', '278-03'], 3, ['Mr.', '278-03']),\n",
       " (0.99841243, 8416, 121, 2, ['Leichty', '278-03'], 1, ['Mr.', '278-03']),\n",
       " (0.93275285, 8505, 122, 0, ['Triche', '278-04'], 4, ['Stephen', '278-04']),\n",
       " (0.9861717, 8586, 123, 0, ['Nesland', '279-01'], 10, [':', '279-01']),\n",
       " (0.9858319, 8592, 123, 1, ['Burruel', '279-01'], 1, ['Ms.', '279-01']),\n",
       " (0.94203556, 8642, 124, 0, ['Rho', '279-03'], 2, [':', '279-03']),\n",
       " (0.004911672,\n",
       "  8815,\n",
       "  125,\n",
       "  0,\n",
       "  ['EDVISIT^42521583^TIAN', '280-01'],\n",
       "  8,\n",
       "  ['01', '280-01']),\n",
       " (0.9913539, 8903, 126, 0, ['LETHCO', '280-02'], 8, ['07', '280-02']),\n",
       " (0.62754285, 8930, 126, 1, ['Mallalieu', '280-02'], 5, ['Irene', '280-02']),\n",
       " (0.9678302, 8939, 127, 0, ['ZEHERQUIST', '280-03'], 8, ['18', '280-03']),\n",
       " (0.8923181, 8942, 127, 1, ['Kropfelder', '280-03'], 4, ['Irene', '280-03']),\n",
       " (0.80823094, 8961, 127, 2, ['Sibayan', '280-03'], 1, ['Irene', '280-03']),\n",
       " (0.34484857, 8973, 128, 0, ['GUTSCHOW', '280-04'], 13, ['Drive', '280-04']),\n",
       " (0.9981822, 8975, 128, 1, ['Dicarlo', '280-04'], 1, ['Ms.', '280-04']),\n",
       " (0.9958533, 9041, 128, 2, ['Nakata', '280-04'], 1, ['Ms.', '280-04']),\n",
       " (0.29206067, 9071, 129, 0, ['Halonen', '281-01'], 0, ['.', '281-01']),\n",
       " (0.8950199, 9135, 130, 0, ['Grosswiler', '281-02'], 13, ['Haden', '281-02']),\n",
       " (0.9292213, 9279, 131, 0, ['DUNN', '281-03'], 17, [':', '281-03']),\n",
       " (0.837746, 9418, 132, 0, ['Ebrahim', '282-01'], 9, ['Peter', '282-01']),\n",
       " (0.9719858, 9420, 132, 1, ['Mulhall', '282-01'], 7, ['Peter', '282-01']),\n",
       " (0.99133605, 9421, 132, 2, ['Floor', '282-01'], 1, ['Mr.', '282-01']),\n",
       " (0.9943707, 9427, 132, 3, ['Koppinger', '282-01'], 6, ['Mr.', '282-01']),\n",
       " (0.91083676, 9431, 132, 4, ['Hannold', '282-01'], 3, ['Peter', '282-01']),\n",
       " (0.9976538, 9450, 132, 5, ['Staniforth', '282-01'], 3, ['Mr.', '282-01']),\n",
       " (0.9959701, 9451, 132, 6, ['Hibbitts', '282-01'], 7, ['Mr.', '282-01']),\n",
       " (0.9985501, 9453, 132, 7, ['Ridder', '282-01'], 1, ['Mr.', '282-01']),\n",
       " (0.9742616, 9458, 132, 8, ['Rouw', '282-01'], 43, ['Peter', '282-01']),\n",
       " (0.9322015, 9473, 133, 0, ['Dunakin', '282-02'], 29, ['Peter', '282-02']),\n",
       " (0.90858674, 9474, 133, 1, ['Pearcy', '282-02'], 7, ['Peter', '282-02']),\n",
       " (0.9662239, 9476, 133, 2, ['Gendler', '282-02'], 25, ['Mr.', '282-02']),\n",
       " (0.9855797, 9491, 133, 3, ['Milbourne', '282-02'], 3, ['Peter', '282-02']),\n",
       " (0.9888651, 9494, 133, 4, ['Merry', '282-02'], 4, ['Mr.', '282-02']),\n",
       " (0.88908345, 9508, 134, 0, ['Rearden', '282-03'], 6, ['Peter', '282-03']),\n",
       " (0.9718308, 9511, 134, 1, ['Pelcher', '282-03'], 7, ['Peter', '282-03']),\n",
       " (0.7675441, 9531, 134, 2, ['Studzinski', '282-03'], 4, ['Patrick', '282-03']),\n",
       " (0.7936142, 9533, 134, 3, ['Kodama', '282-03'], 16, ['Peter', '282-03']),\n",
       " (0.887317, 9544, 135, 0, ['GELMAN', '282-04'], 15, ['Lane', '282-04']),\n",
       " (0.8999025, 9547, 135, 1, ['Cropley', '282-04'], 7, ['Peter', '282-04']),\n",
       " (0.98800045, 9565, 135, 2, ['Denn', '282-04'], 1, ['Mr.', '282-04']),\n",
       " (0.9492641, 9579, 136, 0, ['CAULFIELD', '283-01'], 12, ['VISIT', '283-01']),\n",
       " (0.9982465, 9644, 137, 0, ['BALK', '283-02'], 8, ['28', '283-02']),\n",
       " (0.87445563, 9645, 137, 1, ['Herwig', '283-02'], 1, ['Dennis', '283-02']),\n",
       " (0.9216409, 9668, 138, 0, ['TIGUE', '283-03'], 0, ['02/26/2128', '283-03']),\n",
       " (0.74075085, 9748, 139, 0, ['Satchel', '283-04'], 23, ['Dennis', '283-04']),\n",
       " (0.22344641, 9838, 140, 0, ['belgrave', '284-01'], 6, ['to', '284-01']),\n",
       " (0.99098164, 9838, 140, 1, ['ventura', '284-01'], 32, ['with', '284-01']),\n",
       " (0.0038239518, 9839, 140, 2, ['bewig', '284-01'], 0, ['.', '284-01']),\n",
       " (0.40327916, 9878, 141, 0, ['Pitcairn', '284-02'], 58, ['(', '284-02']),\n",
       " (0.5702945, 9959, 142, 0, ['Leclere', '285-01'], 1, ['Michael', '285-01']),\n",
       " (0.95378083, 9962, 142, 1, ['Plumbar', '285-01'], 9, ['Michael', '285-01']),\n",
       " (0.5909007, 9982, 142, 2, ['Kohel', '285-01'], 9, ['Michael', '285-01']),\n",
       " (0.9014184,\n",
       "  10011,\n",
       "  142,\n",
       "  3,\n",
       "  ['Georgales', '285-01'],\n",
       "  15,\n",
       "  ['Michael', '285-01']),\n",
       " (0.8933846, 10023, 143, 0, ['TRUGLIA', '285-02'], 15, ['Circle', '285-02']),\n",
       " (0.97950524, 10026, 143, 1, ['Mettille', '285-02'], 1, ['Mr.', '285-02']),\n",
       " (0.003962442,\n",
       "  10149,\n",
       "  144,\n",
       "  0,\n",
       "  ['EDVISIT^28297534^GUTTIERREZ', '285-03'],\n",
       "  8,\n",
       "  ['29', '285-03']),\n",
       " (0.9941587, 10150, 144, 1, ['Gering', '285-03'], 1, ['Mr.', '285-03']),\n",
       " (0.9917944, 10201, 145, 0, ['Bocock', '285-04'], 18, ['Mr.', '285-04']),\n",
       " (0.9949993, 10207, 145, 1, ['Evanko', '285-04'], 1, ['Mr.', '285-04']),\n",
       " (0.006847145,\n",
       "  10234,\n",
       "  146,\n",
       "  0,\n",
       "  ['EDVISIT^28297534^LICHLITER', '285-05'],\n",
       "  8,\n",
       "  ['16', '285-05']),\n",
       " (0.8939609, 10292, 147, 0, ['Engelberg', '286-01'], 10, ['NOTE', '286-01']),\n",
       " (0.9239292, 10342, 147, 1, ['Hossack', '286-01'], 0, ['Perla', '286-01']),\n",
       " (0.99038875, 10349, 148, 0, ['CULBERT', '286-02'], 13, ['VISIT', '286-02']),\n",
       " (0.96100944,\n",
       "  10392,\n",
       "  149,\n",
       "  0,\n",
       "  ['Sanseverino', '286-03'],\n",
       "  3,\n",
       "  ['Perla', '286-03']),\n",
       " (0.45842922, 10412, 149, 1, ['Wolski', '286-03'], 5, [',', '286-03']),\n",
       " (0.7069419, 10443, 149, 2, ['Allegood', '286-03'], 1, ['Perla', '286-03']),\n",
       " (0.8731439, 10470, 150, 0, ['Ramos', '286-04'], 0, ['MR', '286-04']),\n",
       " (0.99181986, 10535, 151, 0, ['Gionfriddo', '287-02'], 6, ['Mrs.', '287-02']),\n",
       " (0.63344294, 10634, 151, 1, ['Chaudet', '287-02'], 3, [',', '287-02']),\n",
       " (0.9330712, 10650, 152, 0, ['Grage', '287-03'], 6, ['Mrs.', '287-03']),\n",
       " (0.5355848, 10713, 152, 1, ['Leo', '287-03'], 3, [',', '287-03']),\n",
       " (0.995037, 10722, 152, 2, ['Grigsby', '287-03'], 6, ['Ms.', '287-03']),\n",
       " (0.9655583, 10730, 153, 0, ['SWENSSON', '288-01'], 12, ['VISIT', '288-01']),\n",
       " (0.8409904, 10769, 154, 0, ['Hillebrano', '288-02'], 16, ['St', '288-02']),\n",
       " (0.9979445, 10771, 154, 1, ['Trecarichi', '288-02'], 1, ['Ms.', '288-02']),\n",
       " (0.9927522, 10814, 154, 2, ['Seedorf', '288-02'], 6, ['Ms.', '288-02']),\n",
       " (0.5159306, 10816, 154, 3, ['Lamberth', '288-02'], 2, ['St', '288-02']),\n",
       " (0.873447, 10841, 155, 0, ['SCHOELL', '288-03'], 16, ['St', '288-03']),\n",
       " (0.9280689, 10842, 155, 1, ['Voelz', '288-03'], 9, ['Mrs.', '288-03']),\n",
       " (0.99392354, 10871, 155, 2, ['Breech', '288-03'], 6, ['Ms.', '288-03']),\n",
       " (0.8590816, 10875, 155, 3, ['WISNOSKI', '288-03'], 8, ['St', '288-03']),\n",
       " (0.7264669, 10881, 155, 4, ['Hursh', '288-03'], 8, ['Steven', '288-03']),\n",
       " (0.98960054, 10893, 156, 0, ['Manhardt', '288-04'], 4, [':', '288-04']),\n",
       " (0.88721, 10894, 156, 1, ['Kaumans', '288-04'], 12, ['Terri', '288-04']),\n",
       " (0.9932462, 10916, 156, 2, ['Bega', '288-04'], 2, [':', '288-04']),\n",
       " (0.57244086, 10953, 157, 0, ['Dougharty', '288-05'], 18, ['Terri', '288-05']),\n",
       " (0.98926204, 10970, 158, 0, ['Gatesman', '289-01'], 1, ['Mr.', '289-01']),\n",
       " (0.99523175, 11009, 158, 1, ['Cradic', '289-01'], 2, ['Mr.', '289-01']),\n",
       " (0.9676627, 11029, 159, 0, ['Paugh', '289-02'], 21, [':', '289-02']),\n",
       " (0.9948046, 11030, 159, 1, ['Fredeen', '289-02'], 10, ['Mr.', '289-02']),\n",
       " (0.9689834, 11072, 160, 0, ['BJORKQUIST', '290-01'], 8, ['20', '290-01']),\n",
       " (0.99638265, 11077, 160, 1, ['Podany', '290-01'], 1, ['Mr.', '290-01']),\n",
       " (0.9105293, 11107, 160, 2, ['Risenhoover', '290-01'], 1, ['Mr.', '290-01']),\n",
       " (0.59754574, 11117, 161, 0, ['Billops', '290-02'], 24, ['Ulysses', '290-02']),\n",
       " (0.9976067, 11118, 161, 1, ['Heilman', '290-02'], 1, ['Mr.', '290-02']),\n",
       " (0.99072635, 11122, 161, 2, ['Lantaff', '290-02'], 14, ['Mr.', '290-02']),\n",
       " (0.9946808, 11173, 162, 0, ['Chockley', '290-03'], 17, [':', '290-03']),\n",
       " (0.8643337, 11186, 162, 1, ['Stelmack', '290-03'], 3, ['Mr.', '290-03']),\n",
       " (0.84527045, 11279, 163, 0, ['Clendenon', '291-02'], 1, ['Frank', '291-02']),\n",
       " (0.9925283,\n",
       "  11551,\n",
       "  164,\n",
       "  0,\n",
       "  ['Bellocchio', '291-03'],\n",
       "  6,\n",
       "  ['Surgery', '291-03']),\n",
       " (0.9338838, 11614, 165, 0, ['ROSAZZA', '291-04'], 0, ['FRANK', '291-04']),\n",
       " (0.97869784, 11617, 165, 1, ['Bookhart', '291-04'], 3, ['Mr.', '291-04']),\n",
       " (0.8967511, 11694, 166, 0, ['Yau', '291-05'], 0, ['78', '291-05']),\n",
       " (0.07391766, 11857, 167, 0, ['Dress', '292-01'], 7, ['Nick', '292-01']),\n",
       " (0.9607198, 11906, 167, 1, ['Callen', '292-01'], 7, ['Mr.', '292-01']),\n",
       " (0.0016755309,\n",
       "  11915,\n",
       "  168,\n",
       "  0,\n",
       "  ['EDVISIT^65219816^SMECK', '292-02'],\n",
       "  5,\n",
       "  ['31', '292-02']),\n",
       " (0.9049503, 11963, 169, 0, ['Bielefield', '292-03'], 32, ['Nick', '292-03']),\n",
       " (0.95899785, 12014, 169, 1, ['Penninger', '292-03'], 7, ['Mr.', '292-03']),\n",
       " (0.9900896, 12021, 170, 0, ['STRIBLING', '292-04'], 8, ['10', '292-04']),\n",
       " (0.9366826, 12025, 170, 1, ['Smallman', '292-04'], 7, ['Nick', '292-04']),\n",
       " (0.9524005, 12095, 171, 0, ['DEBEAUMONT', '292-05'], 0, ['M.D.', '292-05']),\n",
       " (0.9869106, 12156, 172, 0, ['COUGH', '293-01'], 12, ['VISIT', '293-01']),\n",
       " (0.99224246, 12213, 173, 0, ['Layland', '293-02'], 11, ['Cora', '293-02']),\n",
       " (0.71804595,\n",
       "  12238,\n",
       "  174,\n",
       "  0,\n",
       "  ['RICKABAUGH', '293-04'],\n",
       "  3,\n",
       "  ['Avenue', '293-04']),\n",
       " (0.91346705, 12243, 174, 1, ['Szwarc', '293-04'], 9, ['Cora', '293-04']),\n",
       " (0.99921876, 12246, 174, 2, ['Mallone', '293-04'], 9, ['Ms.', '293-04']),\n",
       " (0.99428314, 12250, 174, 3, ['Borra', '293-04'], 3, ['Ms.', '293-04']),\n",
       " (0.9947237, 12265, 174, 4, ['Wagenknecht', '293-04'], 4, ['Ms.', '293-04']),\n",
       " (0.9991168, 12266, 174, 5, ['Whelpley', '293-04'], 12, ['Ms.', '293-04']),\n",
       " (0.9805186, 12272, 174, 6, ['Domkowski', '293-04'], 5, ['Ms.', '293-04']),\n",
       " (0.9968888, 12275, 174, 7, ['Cecchini', '293-04'], 1, ['Ms.', '293-04']),\n",
       " (0.9967446, 12309, 175, 0, ['Reuther', '294-01'], 6, ['Mr.', '294-01']),\n",
       " (0.9960886, 12459, 176, 0, ['Rotch', '294-02'], 1, ['Mr.', '294-02']),\n",
       " (0.9970791, 12547, 177, 0, ['HIGHSHAW', '294-03'], 3, [':', '294-03']),\n",
       " (0.89027876, 12782, 179, 0, ['Syvertsen', '295-01'], 4, ['Nathan', '295-01']),\n",
       " (0.984381, 12866, 180, 0, ['Blesh', '295-02'], 0, [':', '295-02']),\n",
       " (0.9823903, 12921, 181, 0, ['Pavish', '295-03'], 0, [':', '295-03']),\n",
       " (0.64254814, 12924, 181, 1, ['Luvert', '295-03'], 18, ['Nathan', '295-03']),\n",
       " (0.9169075, 12926, 181, 2, ['Surowka', '295-03'], 1, ['Mr.', '295-03']),\n",
       " (0.94235665, 12952, 181, 3, ['Rouzzo', '295-03'], 1, ['Mr.', '295-03']),\n",
       " (0.99039835, 12964, 182, 0, ['Skyberg', '295-04'], 0, [':', '295-04']),\n",
       " (0.9938597, 13019, 183, 0, ['Femia', '295-05'], 12, [':', '295-05']),\n",
       " (0.9887386, 13077, 184, 0, ['Dutcher', '296-02'], 15, ['hs', '296-02']),\n",
       " (0.99804854, 13126, 185, 0, ['Wage', '296-03'], 4, ['Ms.', '296-03']),\n",
       " (0.9995617, 13127, 185, 1, ['Weary', '296-03'], 8, ['Ms.', '296-03']),\n",
       " (0.7889373, 13132, 186, 0, ['Tim', '296-04'], 25, ['hs', '296-04']),\n",
       " (0.9951019, 13207, 187, 0, ['Snoddy', '296-05'], 2, [':', '296-05']),\n",
       " (0.9492116, 13212, 187, 1, ['OSMUN', '296-05'], 8, ['-', '296-05']),\n",
       " (0.6406552, 13324, 188, 0, ['Demaranville', '297-01'], 2, ['St', '297-01']),\n",
       " (0.76833576, 13328, 188, 1, ['Lasalle', '297-01'], 2, ['Kadeem', '297-01']),\n",
       " (0.6775995, 13357, 188, 2, ['Lagerman', '297-01'], 2, ['St', '297-01']),\n",
       " (0.9630604, 13376, 189, 0, ['Beare', '297-02'], 2, ['St', '297-02']),\n",
       " (0.6509366, 13378, 189, 1, ['Buza', '297-02'], 11, ['Kadeem', '297-02']),\n",
       " (0.74780566, 13403, 189, 2, ['Fabry', '297-02'], 2, ['St', '297-02']),\n",
       " (0.8161039, 13430, 190, 0, ['Wilridge', '297-03'], 18, ['St', '297-03']),\n",
       " (0.9904661, 13431, 190, 1, ['Janicki', '297-03'], 3, ['Mr.', '297-03']),\n",
       " (0.99383205, 13486, 191, 0, ['Kaltenhauser', '297-04'], 9, [':', '297-04']),\n",
       " (0.9164327, 13487, 191, 1, ['Sae', '297-04'], 17, ['Mr.', '297-04']),\n",
       " (0.922035, 13506, 191, 2, ['Normandeau', '297-04'], 9, ['a', '297-04']),\n",
       " (0.9969095, 13518, 191, 3, ['Hemker', '297-04'], 7, ['Mr.', '297-04']),\n",
       " (0.9930062, 13541, 192, 0, ['STEUART', '297-05'], 12, ['VISIT', '297-05']),\n",
       " (0.6979738, 13586, 193, 0, ['DICE', '298-01'], 1, ['FREDERICK', '298-01']),\n",
       " (0.51132584, 13631, 194, 0, ['NEUZIL', '298-02'], 6, ['FREDERICK', '298-02']),\n",
       " (0.9931865, 13676, 195, 0, ['HODDE', '299-01'], 13, ['VISIT', '299-01']),\n",
       " (0.94644094, 13746, 196, 0, ['Trio', '299-04'], 3, ['Xochilt', '299-04']),\n",
       " (0.28445685, 13747, 196, 1, ['Basel', '299-04'], 1, ['Xochilt', '299-04']),\n",
       " (0.9973223, 13749, 196, 2, ['Growell', '299-04'], 1, ['Ms.', '299-04']),\n",
       " (0.94023323, 13826, 197, 0, ['Youngdahl', '300-03'], 7, ['Note', '300-03']),\n",
       " (0.9959195, 13830, 197, 1, ['Bosack', '300-03'], 1, ['Mr.', '300-03']),\n",
       " (0.998799, 13831, 197, 2, ['Yamamoto', '300-03'], 1, ['Mr.', '300-03']),\n",
       " (0.99891716, 13957, 197, 3, ['Ridgway', '300-03'], 1, ['Mr.', '300-03']),\n",
       " (0.9975554, 13981, 198, 0, ['Kirley', '300-04'], 3, [':', '300-04']),\n",
       " (0.97660035, 14086, 198, 1, ['INDECK', '300-04'], 11, [':', '300-04']),\n",
       " (0.9725375, 14134, 199, 0, ['DANGERFIELD', '300-05'], 34, ['CADE', '300-05']),\n",
       " (0.9913909, 14138, 199, 1, ['LINCK', '300-05'], 2, [':', '300-05']),\n",
       " (0.5861102, 14234, 200, 0, ['Piselli', '301-01'], 1, ['Bobbie', '301-01']),\n",
       " (0.9894242, 14236, 200, 1, ['Perrelli', '301-01'], 1, ['Mr.', '301-01']),\n",
       " (0.96861947, 14290, 200, 2, ['Mago', '301-01'], 1, ['Mr', '301-01']),\n",
       " (0.981631, 14307, 201, 0, ['Ionescu', '301-03'], 0, [':', '301-03']),\n",
       " (0.91494334, 14419, 202, 0, ['Durney', '301-04'], 1, ['Bobbie', '301-04']),\n",
       " (0.97160137, 14424, 202, 1, ['Vandewalle', '301-04'], 1, ['Mr.', '301-04']),\n",
       " (0.9767638, 14548, 203, 0, ['Remily', '301-05'], 0, [':', '301-05']),\n",
       " (0.5488986, 14640, 204, 0, ['Tomerlin', '302-01'], 15, ['Avenue', '302-01']),\n",
       " (0.51631373,\n",
       "  14700,\n",
       "  205,\n",
       "  0,\n",
       "  ['Westerfield', '302-02'],\n",
       "  15,\n",
       "  ['Avenue', '302-02']),\n",
       " (0.56258225,\n",
       "  14777,\n",
       "  206,\n",
       "  0,\n",
       "  ['Carrousal', '302-03'],\n",
       "  15,\n",
       "  ['Avenue', '302-03']),\n",
       " (0.7202787, 14803, 207, 0, ['DURPEE', '302-04'], 15, ['Avenue', '302-04']),\n",
       " (0.9966977, 14851, 208, 0, ['MILORD', '303-02'], 27, [':', '303-02']),\n",
       " (0.981605, 14852, 208, 1, ['Wehunt', '303-02'], 11, ['Mrs.', '303-02']),\n",
       " (0.99725825,\n",
       "  14855,\n",
       "  208,\n",
       "  2,\n",
       "  ['Whitelightnin', '303-02'],\n",
       "  6,\n",
       "  ['Mrs.', '303-02']),\n",
       " (0.99764067, 14882, 208, 3, ['Palmiotto', '303-02'], 6, ['Mrs.', '303-02']),\n",
       " (0.8952252, 14888, 208, 4, ['Bagni', '303-02'], 4, ['Mrs.', '303-02']),\n",
       " (0.88684005, 14897, 209, 0, ['Athay', '303-03'], 2, [':', '303-03']),\n",
       " (0.98330706, 15085, 210, 0, ['Tarbert', '303-04'], 3, [':', '303-04']),\n",
       " (0.9757287, 15086, 210, 1, ['Follett', '303-04'], 35, ['Ms.', '303-04']),\n",
       " (0.9616731, 15179, 211, 0, ['Ono', '304-01'], 0, ['#', '304-01']),\n",
       " (0.9223014, 15341, 212, 0, ['Malkowski', '304-03'], 3, ['Mr.', '304-03']),\n",
       " (0.9970958, 15343, 212, 1, ['Branon', '304-03'], 1, ['Mr.', '304-03']),\n",
       " (0.9990803, 15425, 212, 2, ['Galas', '304-03'], 1, ['Mr.', '304-03']),\n",
       " (0.86651635, 15447, 213, 0, ['Castellari', '304-05'], 1, ['Jacob', '304-05']),\n",
       " (0.9837461, 15673, 214, 0, ['GOLDSTONE', '305-01'], 8, [':', '305-01']),\n",
       " (0.99670726, 15675, 214, 1, ['Adens', '305-01'], 1, ['Mr.', '305-01']),\n",
       " (0.0030592724, 15706, 215, 0, ['Huron', '305-02'], 8, ['Neil', '305-02']),\n",
       " (0.9691312, 15707, 215, 1, ['Tuley', '305-02'], 12, ['Mr.', '305-02']),\n",
       " (0.5594841, 15734, 216, 0, ['GRANTIER', '305-04'], 13, ['Circle', '305-04']),\n",
       " (0.99671894, 15803, 217, 0, ['Gals', '306-01'], 7, [':', '306-01']),\n",
       " (0.9674986, 15884, 218, 0, ['Grammont', '306-02'], 21, ['Amelia', '306-02']),\n",
       " (0.2257758, 15901, 218, 1, ['Trovillion', '306-02'], 6, ['Amelia', '306-02']),\n",
       " (0.97620773, 15949, 219, 0, ['HILDRED', '306-04'], 5, [':', '306-04']),\n",
       " (0.028946327,\n",
       "  15993,\n",
       "  220,\n",
       "  0,\n",
       "  ['EDVISIT^43471375^Balezentis', '307-01'],\n",
       "  8,\n",
       "  ['10', '307-01']),\n",
       " (0.03829402,\n",
       "  16053,\n",
       "  221,\n",
       "  0,\n",
       "  ['EDVISIT^43471375^CORLETT', '307-02'],\n",
       "  8,\n",
       "  ['08', '307-02']),\n",
       " (0.0005629397,\n",
       "  16093,\n",
       "  222,\n",
       "  0,\n",
       "  ['EDVISIT^43471375^ZIMMERLI', '307-03'],\n",
       "  8,\n",
       "  ['28', '307-03']),\n",
       " (0.99211425, 16097, 222, 1, ['Boehlar', '307-03'], 4, ['Ms.', '307-03']),\n",
       " (0.00850981,\n",
       "  16146,\n",
       "  223,\n",
       "  0,\n",
       "  ['EDVISIT^43471375^KLEEMAN', '307-04'],\n",
       "  8,\n",
       "  ['09', '307-04']),\n",
       " (0.5815831, 16187, 224, 0, ['DININGER', '307-05'], 2, ['Drive', '307-05']),\n",
       " (0.09206468, 16232, 225, 0, ['Fatora', '308-01'], 0, ['.', '308-01']),\n",
       " (0.11953791, 16232, 225, 1, ['Raff', '308-01'], 3, ['with', '308-01']),\n",
       " (0.70269835, 16239, 225, 2, ['Esponda', '308-01'], 8, ['as', '308-01']),\n",
       " (0.022980554, 16257, 225, 3, ['Dredge', '308-01'], 6, ['teach', '308-01']),\n",
       " (0.9724366, 16294, 226, 0, ['Bagdonas', '308-02'], 13, ['sister', '308-02']),\n",
       " (0.5648084, 16307, 226, 1, ['Simonsen', '308-02'], 1, ['Sister', '308-02']),\n",
       " (0.99611384, 16313, 227, 0, ['Pohl', '308-03'], 4, ['Percy', '308-03']),\n",
       " (0.992, 16365, 228, 0, ['Decoux', '308-04'], 0, [':', '308-04']),\n",
       " (0.96939677, 16390, 228, 1, ['Garr', '308-04'], 1, ['sister', '308-04']),\n",
       " (0.9503076, 16434, 229, 0, ['Diesel', '309-01'], 10, [':', '309-01']),\n",
       " (0.9896396, 16459, 230, 0, ['Poortinga', '309-02'], 10, [':', '309-02']),\n",
       " (0.9764664, 16499, 231, 0, ['Angeletti', '309-03'], 10, [':', '309-03']),\n",
       " (0.7784847, 16499, 231, 1, ['Saadat', '309-03'], 22, ['Gabriel', '309-03']),\n",
       " (0.9878864, 16561, 232, 0, ['Rindler', '309-04'], 0, ['8514931', '309-04']),\n",
       " (0.99679714, 16599, 233, 0, ['DOTSON', '309-05'], 3, [':', '309-05']),\n",
       " (0.90103686, 16662, 234, 0, ['Metrick', '320-01'], 7, ['Louise', '320-01']),\n",
       " (0.9990886, 16748, 235, 0, ['Schuner', '320-03'], 21, ['Ms.', '320-03']),\n",
       " (0.9860617, 16801, 236, 0, ['Escalero', '320-04'], 1, ['Mrs.', '320-04']),\n",
       " (0.92393357, 16835, 236, 1, ['Fullwood', '320-04'], 4, ['Mrs', '320-04']),\n",
       " (0.98899734, 16836, 236, 2, ['Barthell', '320-04'], 4, ['Ms.', '320-04']),\n",
       " (0.9953991, 16845, 237, 0, ['SILKENSON', '321-01'], 8, [':', '321-01']),\n",
       " (0.99534076, 16900, 238, 0, ['MARDINI', '321-03'], 8, [':', '321-03']),\n",
       " (0.9001026, 16970, 239, 0, ['Kalar', '321-04'], 0, ['38', '321-04']),\n",
       " (0.006179661,\n",
       "  17146,\n",
       "  240,\n",
       "  0,\n",
       "  ['EDVISIT^24490460^FINNEL', '322-02'],\n",
       "  8,\n",
       "  ['30', '322-02']),\n",
       " (0.9659477, 17199, 241, 0, ['OCALLAHAN', '322-03'], 0, [':', '322-03']),\n",
       " (0.99302983, 17320, 242, 0, ['Gilbeau', '322-04'], 2, [':', '322-04']),\n",
       " (0.98724455, 17325, 242, 1, ['Goldhorn', '322-04'], 3, ['Haley', '322-04']),\n",
       " (0.9981008, 17335, 242, 2, ['Senske', '322-04'], 4, ['Mr.', '322-04']),\n",
       " (0.68408877,\n",
       "  17403,\n",
       "  242,\n",
       "  3,\n",
       "  ['Fillingham', '322-04'],\n",
       "  17,\n",
       "  ['Haley', '322-04']),\n",
       " (0.99136186, 17693, 243, 0, ['Willims', '322-05'], 2, [':', '322-05']),\n",
       " (0.97956073, 17696, 243, 1, ['Caley', '322-05'], 1, ['Mr.', '322-05']),\n",
       " (0.2959202, 17788, 244, 0, ['Kicker', '323-01'], 13, ['Ct', '323-01']),\n",
       " (0.7657654, 17888, 245, 0, ['Hano', '323-03'], 12, ['2065', '323-03']),\n",
       " (0.010557011,\n",
       "  17954,\n",
       "  246,\n",
       "  0,\n",
       "  ['EDVISIT^60244986^LONGBOTHAM', '323-04'],\n",
       "  8,\n",
       "  ['19', '323-04']),\n",
       " (0.9998175, 17958, 246, 1, ['Segui', '323-04'], 1, ['Ms.', '323-04']),\n",
       " (0.8220602, 18025, 247, 0, ['DRYBREAD', '323-05'], 11, ['5638', '323-05']),\n",
       " (0.99242365,\n",
       "  18105,\n",
       "  248,\n",
       "  0,\n",
       "  ['RONDINELLI', '324-01'],\n",
       "  12,\n",
       "  ['VISIT', '324-01']),\n",
       " (0.989863, 18136, 249, 0, ['CLINKSCALES', '324-02'], 12, ['VISIT', '324-02']),\n",
       " (0.9689141, 18167, 250, 0, ['KLINE', '324-03'], 12, ['VISIT', '324-03']),\n",
       " (0.0007642115,\n",
       "  18215,\n",
       "  251,\n",
       "  0,\n",
       "  ['EDVISIT^53954143^Affleck', '324-04'],\n",
       "  8,\n",
       "  ['24', '324-04']),\n",
       " (0.981598, 18273, 252, 0, ['Merrow', '324-05'], 4, ['Xavier', '324-05']),\n",
       " (0.98654544, 18460, 253, 0, ['MIYAZAKI', '325-02'], 8, ['23', '325-02']),\n",
       " (0.9982911, 18564, 254, 0, ['DOVEY', '325-03'], 4, [':', '325-03']),\n",
       " (0.93087775, 18680, 255, 0, ['Cuccaro', '325-04'], 0, [':', '325-04']),\n",
       " (0.9872901, 18901, 257, 0, ['DUMENY', '326-01'], 8, ['14', '326-01']),\n",
       " (0.9655502, 18963, 258, 0, ['BEAUBRUN', '326-02'], 13, ['for', '326-02']),\n",
       " (0.9851997, 18981, 259, 0, ['BLEGGI', '326-03'], 0, ['08/29/2086', '326-03']),\n",
       " (0.9439214, 19025, 260, 0, ['Robbins', '326-05'], 8, ['20', '326-05']),\n",
       " (0.59891987, 19110, 261, 0, ['MELER', '327-01'], 3, ['Street', '327-01']),\n",
       " (0.9883225, 19180, 262, 0, ['Vogenthaler', '327-02'], 2, ['Mr.', '327-02']),\n",
       " (0.99832976, 19231, 263, 0, ['Arlotta', '327-03'], 1, ['Mr.', '327-03']),\n",
       " (0.8101449, 19307, 264, 0, ['Lagana', '327-04'], 19, ['Mr', '327-04']),\n",
       " (0.9747947, 19360, 265, 0, ['Pear', '328-01'], 0, ['AM', '328-01']),\n",
       " (0.8639723, 19362, 265, 1, ['Barrois', '328-01'], 10, ['Kurtis', '328-01']),\n",
       " (0.9950794, 19441, 266, 0, ['Kuske', '328-02'], 8, [':', '328-02']),\n",
       " (0.5235184, 19442, 266, 1, ['Stutsman', '328-02'], 23, ['Kurtis', '328-02']),\n",
       " (0.99941933, 19443, 266, 2, ['Padmanabhan', '328-02'], 19, ['Ms.', '328-02']),\n",
       " (0.98993987, 19585, 267, 0, ['Erich', '328-03'], 4, ['Rebecca', '328-03']),\n",
       " (0.9837889, 19711, 268, 0, ['Peluse', '328-04'], 0, [':', '328-04']),\n",
       " (0.5509367, 19716, 268, 1, ['Delamarter', '328-04'], 1, ['Ms', '328-04']),\n",
       " (0.9950123, 19845, 269, 0, ['UIMARI', '329-01'], 2, [':', '329-01']),\n",
       " (0.9944648, 19950, 270, 0, ['BRENDLINGER', '329-02'], 3, [':', '329-02']),\n",
       " (0.7105316, 20151, 272, 0, ['Vitkus', '329-04'], 1, ['Yasseen', '329-04']),\n",
       " (0.88446236, 20152, 272, 1, ['Lion', '329-04'], 24, ['Ursula', '329-04']),\n",
       " (0.9682942, 20152, 272, 2, ['Bettencourt', '329-04'], 32, ['Mr.', '329-04']),\n",
       " (0.6986173, 20153, 272, 3, ['Bellfleur', '329-04'], 15, ['Ursula', '329-04']),\n",
       " (0.99200976, 20277, 273, 0, ['CHYNOWETH', '330-01'], 8, ['06', '330-01']),\n",
       " (0.9764365, 20366, 274, 0, ['FEDE', '330-03'], 5, ['12', '330-03']),\n",
       " (0.9885651, 20402, 275, 0, ['NAYMAN', '330-04'], 5, ['09', '330-04']),\n",
       " (0.9668702, 20405, 275, 1, ['Brenden', '330-04'], 3, ['Anthony', '330-04']),\n",
       " (0.9555302, 20445, 276, 0, ['Amescua', '331-01'], 6, ['Mr.', '331-01']),\n",
       " (0.9548369, 20497, 277, 0, ['Ahlstrom', '331-02'], 1, ['Mr.', '331-02']),\n",
       " (0.023664337,\n",
       "  20538,\n",
       "  278,\n",
       "  0,\n",
       "  ['EDVISIT^42272668^LOSTETTER', '331-03'],\n",
       "  8,\n",
       "  ['13', '331-03']),\n",
       " (0.9935478, 20581, 279, 0, ['Moncus', '331-05'], 26, ['Mr.', '331-05']),\n",
       " (0.9980543, 20590, 279, 1, ['Manzanarez', '331-05'], 1, ['Mr.', '331-05']),\n",
       " (0.96392804, 20658, 279, 2, ['Aguiler', '331-05'], 0, ['o', '331-05']),\n",
       " (0.8508707, 20682, 280, 0, ['JARDINE', '332-03'], 38, ['ALAINA', '332-03']),\n",
       " (0.99005646, 20734, 281, 0, ['Brydon', '332-05'], 6, [':', '332-05']),\n",
       " (0.9680527, 20735, 281, 1, ['Dumars', '332-05'], 16, ['Claire', '332-05']),\n",
       " (0.9848373, 20739, 281, 2, ['Dauterive', '332-05'], 4, ['Ms.', '332-05']),\n",
       " (0.9822725, 20878, 282, 0, ['Holtzlander', '333-01'], 0, [':', '333-01']),\n",
       " (0.9599056, 21043, 283, 0, ['Mathewson', '333-02'], 0, [':', '333-02']),\n",
       " (0.9638635, 21285, 284, 0, ['Mcmahill', '333-03'], 53, ['Veda', '333-03']),\n",
       " (0.9992431, 21293, 284, 1, ['Morvant', '333-03'], 1, ['Ms.', '333-03']),\n",
       " (0.98415434, 21527, 285, 0, ['Mchalffey', '333-04'], 8, ['Veda', '333-04']),\n",
       " (0.9990178, 21531, 285, 1, ['Whispell', '333-04'], 1, ['Ms.', '333-04']),\n",
       " (0.9895649, 21649, 286, 0, ['Spiroff', '334-01'], 13, ['18', '334-01']),\n",
       " (0.99169993, 21698, 287, 0, ['Aslanian', '334-02'], 33, ['Oliver', '334-02']),\n",
       " (0.8398754, 21700, 287, 1, ['Dikkers', '334-02'], 12, ['Oliver', '334-02']),\n",
       " (0.9967561, 21701, 287, 2, ['Aderman', '334-02'], 1, ['Mr.', '334-02']),\n",
       " (0.99107784, 21742, 288, 0, ['Massiah', '334-03'], 7, [':', '334-03']),\n",
       " (0.99590594, 21746, 288, 1, ['Tak', '334-03'], 1, ['Mr.', '334-03']),\n",
       " (0.9946687, 21812, 289, 0, ['Lehnen', '334-04'], 4, [':', '334-04']),\n",
       " (0.9944403, 21815, 289, 1, ['Donlyuk', '334-04'], 3, ['Mr.', '334-04']),\n",
       " (0.9450387, 21869, 289, 2, ['BRIBIESCA', '334-04'], 9, [':', '334-04']),\n",
       " (0.93767685, 21903, 290, 0, ['Micheau', '335-01'], 14, ['Dalila', '335-01']),\n",
       " (0.99161506, 21906, 290, 1, ['Lozito', '335-01'], 1, ['Mrs', '335-01']),\n",
       " (0.99750644, 21909, 290, 2, ['Whary', '335-01'], 1, ['Mrs.', '335-01']),\n",
       " (0.9910165, 21982, 290, 3, ['Zall', '335-01'], 1, ['Mrs.', '335-01']),\n",
       " (0.94271666, 21991, 290, 4, ['Sherretts', '335-01'], 22, ['Mrs.', '335-01']),\n",
       " (0.9574947, 22001, 291, 0, ['Engroff', '335-02'], 7, ['Dalila', '335-02']),\n",
       " (0.90636826, 22002, 291, 1, ['Devone', '335-02'], 3, ['Dalila', '335-02']),\n",
       " (0.97882646, 22105, 292, 0, ['Condon', '335-03'], 1, ['Dalila', '335-03']),\n",
       " (0.60297245, 22111, 292, 1, ['Lefevre', '335-03'], 13, ['Inez', '335-03']),\n",
       " (0.9673728, 22165, 292, 2, ['Boje', '335-03'], 3, ['daughter', '335-03']),\n",
       " (0.97993356, 22265, 293, 0, ['PELLICONE', '335-04'], 10, ['4642', '335-04']),\n",
       " (0.97455513, 22265, 293, 1, ['Partch', '335-04'], 21, ['Ms.', '335-04']),\n",
       " (0.0010258504,\n",
       "  22362,\n",
       "  294,\n",
       "  0,\n",
       "  ['EDVISIT^90495403^SEANEY', '336-01'],\n",
       "  8,\n",
       "  ['04', '336-01']),\n",
       " (0.92634416, 22414, 295, 0, ['BUCKMASTER', '336-02'], 6, ['5381', '336-02']),\n",
       " (0.957109, 22508, 296, 0, ['Halton', '336-04'], 0, ['L', '336-04']),\n",
       " (0.99061376, 22613, 297, 0, ['Taintor', '337-01'], 6, ['Betty', '337-01']),\n",
       " (0.98288476, 22657, 298, 0, ['EDGMON', '337-02'], 8, ['22', '337-02']),\n",
       " (0.9740153, 22664, 298, 1, ['Burrowes', '337-02'], 7, ['Betty', '337-02']),\n",
       " (0.9204347, 22665, 298, 2, ['Olecki', '337-02'], 1, ['Betty', '337-02']),\n",
       " (0.5618192, 22725, 298, 3, ['Hultberg', '337-02'], 4, ['Betty', '337-02']),\n",
       " (0.5509715, 22754, 298, 4, ['Burly', '337-02'], 1, ['Betty', '337-02']),\n",
       " (0.004712686,\n",
       "  22782,\n",
       "  299,\n",
       "  0,\n",
       "  ['EDVISIT^78865189^TUESBURG', '337-03'],\n",
       "  8,\n",
       "  ['31', '337-03']),\n",
       " (0.97426105, 22841, 300, 0, ['Vasiliou', '337-04'], 0, [':', '337-04']),\n",
       " (0.99078137, 22934, 301, 0, ['Brous', '337-05'], 0, [':', '337-05']),\n",
       " (0.52805674, 23013, 302, 0, ['Swezey', '338-01'], 3, ['Lane', '338-01']),\n",
       " (0.7517668, 23041, 303, 0, ['Montell', '338-02'], 0, ['73819', '338-02']),\n",
       " (0.6002244, 23077, 304, 0, ['GIARDINI', '338-03'], 0, ['MATIAS', '338-03']),\n",
       " (0.0073226294,\n",
       "  23168,\n",
       "  305,\n",
       "  0,\n",
       "  ['EDVISIT^97198841^HECKENDORF', '338-04'],\n",
       "  8,\n",
       "  ['24', '338-04']),\n",
       " (0.5125529, 23218, 306, 0, ['DUCKING', '338-05'], 0, ['MATIAS', '338-05']),\n",
       " (0.9932576,\n",
       "  23319,\n",
       "  307,\n",
       "  0,\n",
       "  ['Saglimben', '339-03'],\n",
       "  15,\n",
       "  ['Vanessa', '339-03']),\n",
       " (0.95953166, 23425, 308, 0, ['Goncalves', '339-04'], 2, [':', '339-04']),\n",
       " (0.9819074, 23454, 308, 1, ['DOMIANO', '339-04'], 12, ['for', '339-04']),\n",
       " (0.97325486, 23475, 308, 2, ['REINMANN', '339-04'], 6, ['for', '339-04']),\n",
       " (0.95395654, 23507, 309, 0, ['Ribera', '350-01'], 10, [':', '350-01']),\n",
       " (0.99090046, 23581, 309, 1, ['PETIT', '350-01'], 9, ['for', '350-01']),\n",
       " (0.98019874, 23642, 310, 0, ['Collier', '350-02'], 7, ['Ruath', '350-02']),\n",
       " (0.59912264, 23644, 310, 1, ['Phelps', '350-02'], 1, ['Ruath', '350-02']),\n",
       " (0.9737418, 23649, 310, 2, ['Gysin', '350-02'], 1, ['Mrs.', '350-02']),\n",
       " (0.9913023, 23655, 310, 3, ['Trucchio', '350-02'], 1, ['Mrs.', '350-02']),\n",
       " (0.9918514, 23708, 310, 4, ['Lococo', '350-02'], 1, ['Mrs.', '350-02']),\n",
       " (0.99325675, 23709, 310, 5, ['Scullark', '350-02'], 1, ['Mrs.', '350-02']),\n",
       " (0.0043044807,\n",
       "  23722,\n",
       "  311,\n",
       "  0,\n",
       "  ['EDVISIT^49535763^DELANEY', '350-03'],\n",
       "  8,\n",
       "  ['25', '350-03']),\n",
       " (0.9697889, 23782, 312, 0, ['Bulger', '350-04'], 7, ['Ruath', '350-04']),\n",
       " (0.6908492, 23784, 312, 1, ['Jaenicke', '350-04'], 1, ['Ruath', '350-04']),\n",
       " (0.99572796, 23790, 312, 2, ['Aills', '350-04'], 1, ['Mrs.', '350-04']),\n",
       " (0.9930478, 23846, 312, 3, ['Schrupp', '350-04'], 1, ['Mrs.', '350-04']),\n",
       " (0.87638867,\n",
       "  23855,\n",
       "  313,\n",
       "  0,\n",
       "  ['CARDINAL', '351-01'],\n",
       "  0,\n",
       "  ['05/25/79', '351-01']),\n",
       " (0.93160105, 23905, 314, 0, ['SCHNITZ', '351-02'], 0, ['11/09/79', '351-02']),\n",
       " (0.008635502,\n",
       "  24010,\n",
       "  315,\n",
       "  0,\n",
       "  ['EDVISIT^10776605^Kronemeyer', '351-03'],\n",
       "  8,\n",
       "  ['13', '351-03']),\n",
       " (0.00028017763,\n",
       "  24083,\n",
       "  316,\n",
       "  0,\n",
       "  ['EDVISIT^10776605^INGHAM', '351-04'],\n",
       "  8,\n",
       "  ['15', '351-04']),\n",
       " (0.9616296, 24116, 317, 0, ['BEDENFIELD', '352-01'], 12, ['VISIT', '352-01']),\n",
       " (0.00038555206,\n",
       "  24191,\n",
       "  318,\n",
       "  0,\n",
       "  ['EDVISIT^63107921^PAYWA', '352-02'],\n",
       "  8,\n",
       "  ['22', '352-02']),\n",
       " (0.9834842, 24250, 319, 0, ['Duldulao', '352-03'], 3, ['Ms.', '352-03']),\n",
       " (0.9971987, 24291, 319, 1, ['Fiorito', '352-03'], 1, ['Ms.', '352-03']),\n",
       " (0.99579966, 24311, 319, 2, ['Alers', '352-03'], 1, ['Ms.', '352-03']),\n",
       " (0.8028663, 24336, 320, 0, ['Clavin', '352-04'], 14, ['Ms.', '352-04']),\n",
       " (0.9861376, 24360, 320, 1, ['Zeller', '352-04'], 4, ['Ms.', '352-04']),\n",
       " (0.9878167, 24372, 320, 2, ['Bendle', '352-04'], 4, ['Ms.', '352-04']),\n",
       " (0.9592097, 24391, 321, 0, ['Meurin', '353-01'], 17, ['Larry', '353-01']),\n",
       " (0.84492254, 24470, 322, 0, ['Upmeyer', '353-04'], 16, ['Larry', '353-04']),\n",
       " (0.9961431, 24471, 322, 1, ['Kobylski', '353-04'], 1, ['Mr.', '353-04']),\n",
       " (0.9844299, 24491, 322, 2, ['Prence', '353-04'], 3, ['Mr.', '353-04']),\n",
       " (0.9884137, 24497, 322, 3, ['Broomes', '353-04'], 11, ['Mr.', '353-04']),\n",
       " (0.0038486863,\n",
       "  24507,\n",
       "  323,\n",
       "  0,\n",
       "  ['EDVISIT^11289501^COKEL', '354-01'],\n",
       "  8,\n",
       "  ['18', '354-01']),\n",
       " (0.99153084, 24579, 324, 0, ['Asleson', '354-03'], 3, [':', '354-03']),\n",
       " (0.99811566, 24581, 324, 1, ['Ronde', '354-03'], 1, ['Ms.', '354-03']),\n",
       " (0.9932458, 24588, 324, 2, ['Relaford', '354-03'], 5, ['Ms.', '354-03']),\n",
       " (0.9918878, 24642, 325, 0, ['RANIERI', '354-04'], 11, [':', '354-04']),\n",
       " (0.9957322, 24644, 325, 1, ['Middaugh', '354-04'], 1, ['Mrs.', '354-04']),\n",
       " (0.9948106, 24693, 326, 0, ['PENUNURI', '355-01'], 8, ['13', '355-01']),\n",
       " (0.9741706, 24824, 327, 0, ['ZACHARY', '355-02'], 11, [':', '355-02']),\n",
       " (0.98234653, 24886, 328, 0, ['Hallberg', '355-03'], 5, ['Wade', '355-03']),\n",
       " (0.9935365, 24982, 329, 0, ['Kreamalmeyer', '355-04'], 4, [':', '355-04']),\n",
       " (0.993058, 25055, 330, 0, ['CLOTHEY', '356-01'], 16, [':', '356-01']),\n",
       " (0.931888, 25097, 331, 0, ['Loredo', '356-02'], 12, ['2151', '356-02']),\n",
       " (0.95801604, 25171, 332, 0, ['Berget', '356-03'], 0, ['Date', '356-03']),\n",
       " (0.98136634, 25232, 332, 1, ['VEBEL', '356-03'], 20, [':', '356-03']),\n",
       " (0.9721034, 25237, 332, 2, ['BIERLY', '356-03'], 4, [':', '356-03']),\n",
       " (0.9682135, 25240, 332, 3, ['SELLAR', '356-03'], 8, [':', '356-03']),\n",
       " (0.93753976, 25243, 332, 4, ['TARDIFF', '356-03'], 14, [':', '356-03']),\n",
       " (0.9877228, 25248, 332, 5, ['YERKA', '356-03'], 4, [':', '356-03']),\n",
       " (0.96913517, 25259, 332, 6, ['CAHALAN', '356-03'], 5, [':', '356-03']),\n",
       " (0.9734581, 25295, 333, 0, ['Sollberger', '356-04'], 1, ['Nathan', '356-04']),\n",
       " (0.7922047, 25296, 333, 1, ['Balli', '356-04'], 16, ['Alice', '356-04']),\n",
       " (0.99596477, 25298, 333, 2, ['Polasek', '356-04'], 14, ['Mr.', '356-04']),\n",
       " (0.99567175, 25304, 333, 3, ['Dellum', '356-04'], 8, ['Mr.', '356-04']),\n",
       " (0.9943052, 25306, 333, 4, ['Fuerstenberge', '356-04'], 1, ['Mr.', '356-04']),\n",
       " (0.9959402, 25307, 333, 5, ['Hiter', '356-04'], 1, ['Mr.', '356-04']),\n",
       " (0.9905104, 25308, 333, 6, ['Pendergrass', '356-04'], 1, ['Mr.', '356-04']),\n",
       " (0.9608049,\n",
       "  25362,\n",
       "  333,\n",
       "  7,\n",
       "  ['Lundgren&#8217;s', '356-04'],\n",
       "  8,\n",
       "  ['Mr.', '356-04']),\n",
       " (0.9904865, 25365, 333, 8, ['Manvilles', '356-04'], 1, ['Mr.', '356-04']),\n",
       " (0.9414432, 25368, 333, 9, ['Millbergs', '356-04'], 2, ['Mr.', '356-04']),\n",
       " (0.9928877, 25376, 333, 10, ['Gettmans', '356-04'], 1, ['Mr.', '356-04']),\n",
       " (0.99968857, 25408, 333, 11, ['Greer', '356-04'], 1, ['Mr.', '356-04']),\n",
       " (0.9763083, 25409, 333, 12, ['Spiegel', '356-04'], 1, ['Mr.', '356-04']),\n",
       " (0.9786998, 25412, 333, 13, ['Mancos', '356-04'], 2, ['Mr.', '356-04']),\n",
       " (0.9968915, 25414, 333, 14, ['Dubicki', '356-04'], 1, ['Mr.', '356-04']),\n",
       " (0.9916706, 25417, 333, 15, ['Froyd', '356-04'], 3, ['Mr.', '356-04']),\n",
       " (0.9931519,\n",
       "  25418,\n",
       "  333,\n",
       "  16,\n",
       "  ['Boddorf&#8217;s', '356-04'],\n",
       "  1,\n",
       "  ['Mr.', '356-04']),\n",
       " (0.9856552, 25439, 334, 0, ['GERALDO', '357-01'], 12, ['VISIT', '357-01']),\n",
       " (0.010190132,\n",
       "  25495,\n",
       "  335,\n",
       "  0,\n",
       "  ['EDVISIT^44690336^Eisnaugle', '357-02'],\n",
       "  8,\n",
       "  ['03', '357-02']),\n",
       " (0.9977098, 25533, 336, 0, ['Condon', '357-04'], 17, [':', '357-04']),\n",
       " (0.9860454, 25691, 338, 0, ['CIESLUK', '358-01'], 2, ['9', '358-01']),\n",
       " (0.9953183, 25696, 338, 1, ['Derosset', '358-01'], 1, ['Ms.', '358-01']),\n",
       " (0.9913159, 25735, 339, 0, ['Perilloux', '358-02'], 14, ['Nora', '358-02']),\n",
       " (0.98640835, 25811, 340, 0, ['Lisee', '358-03'], 14, ['Nora', '358-03']),\n",
       " (0.97179544, 25968, 341, 0, ['Bramsen', '358-04'], 6, ['Ms.', '358-04']),\n",
       " (0.7968187, 26031, 342, 0, ['Whooley', '360-01'], 1, ['Xander', '360-01']),\n",
       " (0.56610334,\n",
       "  26055,\n",
       "  343,\n",
       "  0,\n",
       "  ['Rechtzigel', '360-02'],\n",
       "  16,\n",
       "  ['Street', '360-02']),\n",
       " (0.98318607, 26056, 343, 1, ['Hansing', '360-02'], 7, ['Mr.', '360-02']),\n",
       " (0.7551743, 26057, 343, 2, ['Biermann', '360-02'], 5, ['Mr.', '360-02']),\n",
       " (0.014337332, 26063, 343, 3, ['Turnbough', '360-02'], 0, ['.', '360-02']),\n",
       " (0.95351726, 26065, 343, 4, ['Pressly', '360-02'], 1, ['Mr.', '360-02']),\n",
       " (0.98954034, 26068, 343, 5, ['Bloemker', '360-02'], 1, ['Mr.', '360-02']),\n",
       " (0.6710529, 26083, 343, 6, ['Brevard', '360-02'], 1, ['Mr.', '360-02']),\n",
       " (0.3844727, 26091, 343, 7, ['Tuchy', '360-02'], 8, ['Street', '360-02']),\n",
       " (0.90806866, 26103, 344, 0, ['Guiggey', '360-03'], 20, ['82978', '360-03']),\n",
       " (0.92193395, 26103, 344, 1, ['Campau', '360-03'], 26, ['Mr.', '360-03']),\n",
       " (0.9989418, 26119, 344, 2, ['Ziko', '360-03'], 1, ['Mr.', '360-03']),\n",
       " (0.9516099, 26136, 345, 0, ['HEINECK', '360-04'], 10, ['null', '360-04']),\n",
       " (0.0065243402,\n",
       "  26217,\n",
       "  346,\n",
       "  0,\n",
       "  ['EDVISIT^47646361^COLINS', '361-02'],\n",
       "  8,\n",
       "  ['29', '361-02']),\n",
       " (0.987989, 26282, 347, 0, ['Macconnell', '361-04'], 10, [':', '361-04']),\n",
       " (0.6572235, 26285, 347, 1, ['Taliulu', '361-04'], 11, ['Mr.', '361-04']),\n",
       " (0.97840387, 26288, 347, 2, ['Gries', '361-04'], 1, ['Mr.', '361-04']),\n",
       " (0.9339916, 26384, 347, 3, ['Dugi', '361-04'], 5, ['Mr.', '361-04']),\n",
       " (0.9860313, 26395, 348, 0, ['BENKO', '362-01'], 12, ['VISIT', '362-01']),\n",
       " (0.9962997, 26456, 349, 0, ['PAYAMPS', '362-02'], 12, ['VISIT', '362-02']),\n",
       " (0.9752991, 26521, 350, 0, ['KENNY', '362-03'], 2, ['Susie', '362-03']),\n",
       " (0.9280411, 26559, 351, 0, ['KORY', '362-04'], 15, ['Circle', '362-04']),\n",
       " (0.9974691, 26562, 351, 1, ['Metting', '362-04'], 1, ['Ms.', '362-04']),\n",
       " (0.005020993,\n",
       "  26616,\n",
       "  352,\n",
       "  0,\n",
       "  ['EDVISIT^14477347^Farquer', '363-01'],\n",
       "  8,\n",
       "  ['18', '363-01']),\n",
       " (0.004250196,\n",
       "  26833,\n",
       "  355,\n",
       "  0,\n",
       "  ['EDOBS^14477347^GALECKI', '363-04'],\n",
       "  8,\n",
       "  ['02', '363-04']),\n",
       " (0.10023362,\n",
       "  26890,\n",
       "  356,\n",
       "  0,\n",
       "  ['Bellefontaine', '364-01'],\n",
       "  0,\n",
       "  ['4067033', '364-01']),\n",
       " (0.9836685, 26934, 356, 1, ['GLADEN', '364-01'], 6, ['for', '364-01']),\n",
       " (0.0016412215, 26954, 356, 2, ['HAWORTH', '364-01'], 6, ['for', '364-01']),\n",
       " (0.98804545,\n",
       "  27013,\n",
       "  357,\n",
       "  0,\n",
       "  ['Liceaga', '364-02'],\n",
       "  0,\n",
       "  ['8/09/2121', '364-02']),\n",
       " (0.8828123, 27162, 358, 0, ['Conover', '364-03'], 10, ['Walter', '364-03']),\n",
       " (0.99515253, 27218, 358, 1, ['Degroat', '364-03'], 9, ['Mr.', '364-03']),\n",
       " (0.98747003,\n",
       "  27223,\n",
       "  359,\n",
       "  0,\n",
       "  ['Strombeck', '364-04'],\n",
       "  12,\n",
       "  ['Walter', '364-04']),\n",
       " (0.9890532, 27225, 359, 1, ['Harnois', '364-04'], 1, ['Mr.', '364-04']),\n",
       " (0.9899963, 27271, 359, 2, ['Gede', '364-04'], 1, ['Mr.', '364-04']),\n",
       " (0.9859067, 27286, 360, 0, ['HENINGBURG', '365-01'], 12, ['VISIT', '365-01']),\n",
       " (0.9812815, 27323, 361, 0, ['Michocki', '365-02'], 53, [':', '365-02']),\n",
       " (0.9677745, 27354, 362, 0, ['DOWDY', '365-03'], 8, ['26', '365-03']),\n",
       " (0.98223853,\n",
       "  27357,\n",
       "  362,\n",
       "  1,\n",
       "  ['Stanojevic', '365-03'],\n",
       "  14,\n",
       "  ['Karsten', '365-03']),\n",
       " (0.9471059, 27361, 362, 2, ['Vuckovich', '365-03'], 1, ['Mr.', '365-03']),\n",
       " (0.9957097, 27399, 362, 3, ['Hynum', '365-03'], 1, ['Mr.', '365-03']),\n",
       " (0.9864463, 27438, 363, 0, ['Jagers', '365-05'], 0, [':', '365-05']),\n",
       " (0.98543626,\n",
       "  27531,\n",
       "  364,\n",
       "  0,\n",
       "  ['ANGIOLELLI', '366-01'],\n",
       "  12,\n",
       "  ['VISIT', '366-01']),\n",
       " (0.82105607, 27575, 365, 0, ['Daruszka', '366-02'], 3, ['Lauren', '366-02']),\n",
       " (0.9224595, 27597, 365, 1, ['Hiner', '366-02'], 1, ['Ms.', '366-02']),\n",
       " (0.9937774, 27613, 366, 0, ['SHEROAN', '366-03'], 8, ['19', '366-03']),\n",
       " (0.9949533, 27614, 366, 1, ['Grosse', '366-03'], 1, ['Ms.', '366-03']),\n",
       " (0.99526304, 27631, 366, 2, ['Granger', '366-03'], 1, ['Ms.', '366-03']),\n",
       " (0.9896173, 27640, 367, 0, ['SAULO', '366-04'], 5, ['0358', '366-04']),\n",
       " (0.9722441, 27733, 368, 0, ['Arzola', '367-02'], 1, ['Louise', '367-02']),\n",
       " (0.9888249, 27840, 369, 0, ['Archie', '368-01'], 2, [':', '368-01']),\n",
       " (0.98163545, 27889, 370, 0, ['Hyppolite', '368-03'], 3, ['Sandra', '368-03']),\n",
       " (0.9986819, 27995, 372, 0, ['HELPHENSTINE', '369-02'], 11, [':', '369-02']),\n",
       " (0.8284098, 28069, 374, 0, ['RINDERER', '369-04'], 15, ['Terrace', '369-04']),\n",
       " (0.99612266, 28070, 374, 1, ['Heydel', '369-04'], 1, ['Mr.', '369-04']),\n",
       " (0.86319506, 28102, 374, 2, ['Stonefield', '369-04'], 10, ['Mr.', '369-04']),\n",
       " (0.7751466, 28111, 375, 0, ['Bouman', '391-01'], 7, [':', '391-01']),\n",
       " (0.96819717, 28161, 376, 0, ['Puff', '391-02'], 7, ['Ms.', '391-02']),\n",
       " (0.98269004, 28163, 376, 1, ['Axford', '391-02'], 4, ['Ms.', '391-02']),\n",
       " (0.97844076, 28169, 376, 2, ['Homrighaus', '391-02'], 8, ['Ms.', '391-02']),\n",
       " (0.9814353, 28173, 376, 3, ['Kondel', '391-02'], 3, ['Ms.', '391-02']),\n",
       " (0.98729396, 28178, 376, 4, ['Matton', '391-02'], 2, ['Ms.', '391-02']),\n",
       " (0.99689794, 28181, 376, 5, ['Willrich', '391-02'], 1, ['Ms.', '391-02']),\n",
       " (0.9931269, 28186, 376, 6, ['Harts', '391-02'], 1, ['Ms.', '391-02']),\n",
       " (0.973909, 28217, 376, 7, ['Zierke', '391-02'], 3, ['Ms.', '391-02']),\n",
       " (0.9846067, 28233, 376, 8, ['Nitz', '391-02'], 1, ['Ms.', '391-02']),\n",
       " (0.9983523, 28236, 376, 9, ['Cotto', '391-02'], 12, ['Ms.', '391-02']),\n",
       " (0.9879959, 28240, 376, 10, ['Bonifay', '391-02'], 8, ['Ms.', '391-02']),\n",
       " (0.6721712, 28243, 377, 0, ['Dolley', '391-03'], 0, [':', '391-03']),\n",
       " (0.78778374, 28263, 378, 0, ['HARTRUM', '391-04'], 0, [',', '391-04']),\n",
       " (0.9422416, 28352, 379, 0, ['Kallbrier', '392-03'], 0, ['#', '392-03']),\n",
       " (0.9886603, 28380, 379, 1, ['GIORDANO', '392-03'], 11, ['for', '392-03']),\n",
       " (0.9899975, 28414, 380, 0, ['Copen', '392-04'], 16, [':', '392-04']),\n",
       " (0.9673341, 28531, 381, 0, ['Badeau', '393-01'], 2, [':', '393-01']),\n",
       " (0.9953522,\n",
       "  28603,\n",
       "  382,\n",
       "  0,\n",
       "  ['Cherrington', '393-04'],\n",
       "  14,\n",
       "  ['Nicole', '393-04']),\n",
       " (0.9744594, 28789, 383, 0, ['Cesare', '393-05'], 4, ['Nicole', '393-05']),\n",
       " (0.79456204, 28805, 383, 1, ['Ockerman', '393-05'], 1, ['Nicole', '393-05']),\n",
       " (0.8157739, 29004, 384, 0, ['Kubler', '394-01'], 8, [',', '394-01']),\n",
       " (0.9639683,\n",
       "  29007,\n",
       "  385,\n",
       "  0,\n",
       "  ['Carvin', '394-03'],\n",
       "  29,\n",
       "  ['Franchesca', '394-03']),\n",
       " (0.25800905,\n",
       "  29147,\n",
       "  386,\n",
       "  0,\n",
       "  ['Matamoros', '394-04'],\n",
       "  1,\n",
       "  ['Victoria', '394-04']),\n",
       " (0.99487436, 29301, 387, 0, ['NORISE', '395-01'], 12, ['VISIT', '395-01']),\n",
       " (0.9927545, 29359, 388, 0, ['KNOEPKE', '395-02'], 12, ['VISIT', '395-02']),\n",
       " (0.9686899, 29404, 389, 0, ['Marbach', '395-03'], 1, ['Tanya', '395-03']),\n",
       " (0.9770629, 29447, 389, 1, ['Bisanz', '395-03'], 1, ['Tanya', '395-03']),\n",
       " (0.95821154, 29474, 390, 0, ['Roehrs', '395-04'], 0, [':', '395-04']),\n",
       " (0.9965742, 29483, 390, 1, ['Daily', '395-04'], 1, ['Ms.', '395-04']),\n",
       " (0.9871027, 29607, 390, 2, ['Glandon', '395-04'], 4, ['Theresa', '395-04']),\n",
       " (0.99715275, 29612, 391, 0, ['SINE', '395-05'], 3, [':', '395-05']),\n",
       " (0.80466354, 29613, 391, 1, ['Bronn', '395-05'], 12, ['V.', '395-05']),\n",
       " (0.99781394, 29615, 391, 2, ['Pruneda', '395-05'], 1, ['Ms.', '395-05']),\n",
       " (0.99687284, 29656, 391, 3, ['Sheldrup', '395-05'], 1, ['Ms.', '395-05']),\n",
       " (0.979954, 29672, 391, 4, ['Higaneda', '395-05'], 10, ['Ms.', '395-05']),\n",
       " (0.9479905, 29711, 391, 5, ['Tyrus', '395-05'], 6, ['Ms.', '395-05']),\n",
       " (0.99420583, 29716, 391, 6, ['Lopresto', '395-05'], 1, ['Ms.', '395-05']),\n",
       " (0.991893, 29718, 391, 7, ['Langsam', '395-05'], 3, ['V.', '395-05']),\n",
       " (0.00082413765,\n",
       "  29722,\n",
       "  392,\n",
       "  0,\n",
       "  ['EDVISIT^42817774^KNOWLING', '396-01'],\n",
       "  5,\n",
       "  ['04', '396-01']),\n",
       " (0.8314773, 29784, 393, 0, ['HERNE', '396-04'], 6, ['9046', '396-04']),\n",
       " (0.98877764, 29798, 393, 1, ['Alessio', '396-04'], 4, ['Brendon', '396-04']),\n",
       " (0.8662351, 29894, 393, 2, ['Whinery', '396-04'], 3, ['Brendon', '396-04']),\n",
       " (0.83904374, 29903, 394, 0, ['Momin', '397-02'], 12, ['Joel', '397-02']),\n",
       " (0.9968803, 29968, 395, 0, ['LANNO', '397-03'], 3, [':', '397-03']),\n",
       " (0.8028421, 29998, 396, 0, ['Kiang', '397-04'], 0, ['#', '397-04']),\n",
       " (0.9945419, 30088, 397, 0, ['Moreida', '398-01'], 1, ['Mr.', '398-01']),\n",
       " (0.9278337, 30114, 398, 0, ['Granneman', '398-02'], 6, ['Mr.', '398-02']),\n",
       " (0.99811363, 30115, 398, 1, ['Malueg', '398-02'], 1, ['Mr.', '398-02']),\n",
       " (0.9623104, 30170, 399, 0, ['Sargetakis', '398-03'], 0, ['#', '398-03']),\n",
       " (0.99248755, 30265, 400, 0, ['Avie', '398-04'], 12, [':', '398-04']),\n",
       " (0.94872683, 30313, 401, 0, ['Pinchback', '399-01'], 4, ['Nathan', '399-01']),\n",
       " (0.99452174, 30413, 402, 0, ['Berenson', '399-02'], 11, ['Mr.', '399-02']),\n",
       " (0.99169654, 30418, 402, 1, ['Swanke', '399-02'], 1, ['Mr.', '399-02']),\n",
       " (0.9932926, 30474, 403, 0, ['LANGILL', '399-04'], 3, [':', '399-04']),\n",
       " (0.97190154, 30559, 404, 0, ['Glacken', '400-02'], 3, [':', '400-02']),\n",
       " (0.9732592, 30654, 405, 0, ['Desalvo', '400-05'], 13, ['Pamela', '400-05']),\n",
       " (0.9992682, 30654, 405, 1, ['Cannuli', '400-05'], 43, ['Ms.', '400-05']),\n",
       " (0.9977162, 30715, 405, 2, ['Hetzel', '400-05'], 1, ['Ms.', '400-05'])]"
      ]
     },
     "execution_count": 765,
     "metadata": {},
     "output_type": "execute_result"
    }
   ],
   "source": [
    "Prob02max"
   ]
  },
  {
   "cell_type": "code",
   "execution_count": 835,
   "metadata": {},
   "outputs": [],
   "source": [
    "TEST=0\n",
    "for i in RealFilesNames:\n",
    "    for j in NDic02[i]:\n",
    "        if len(j[SN])!=0:\n",
    "            TEST=TEST+1"
   ]
  },
  {
   "cell_type": "code",
   "execution_count": 836,
   "metadata": {},
   "outputs": [
    {
     "data": {
      "text/plain": [
       "879"
      ]
     },
     "execution_count": 836,
     "metadata": {},
     "output_type": "execute_result"
    }
   ],
   "source": [
    "TEST"
   ]
  },
  {
   "cell_type": "code",
   "execution_count": 366,
   "metadata": {},
   "outputs": [
    {
     "data": {
      "text/plain": [
       "[[['Ted', ''], ['', '']], [['Ted', ''], ['', '']], [['Ted', ''], ['', '']]]"
      ]
     },
     "execution_count": 366,
     "metadata": {},
     "output_type": "execute_result"
    }
   ],
   "source": [
    "NDic02[\"221-03\"]:\n",
    "    "
   ]
  },
  {
   "cell_type": "code",
   "execution_count": null,
   "metadata": {},
   "outputs": [],
   "source": []
  },
  {
   "cell_type": "code",
   "execution_count": 796,
   "metadata": {},
   "outputs": [
    {
     "data": {
      "text/plain": [
       "(747, 740)"
      ]
     },
     "execution_count": 796,
     "metadata": {},
     "output_type": "execute_result"
    }
   ],
   "source": [
    "len(Prob00sum),len(Prob02sum)"
   ]
  },
  {
   "cell_type": "code",
   "execution_count": 838,
   "metadata": {},
   "outputs": [],
   "source": [
    "for i in np.arange(730):\n",
    "    if Prob00max[i][4][1]!=Prob02max[i][4][1]:\n",
    "        print(i)\n",
    "        break"
   ]
  },
  {
   "cell_type": "code",
   "execution_count": 798,
   "metadata": {},
   "outputs": [],
   "source": [
    "# This was done because of Dr. name(first entry) and Patient name where the same and made the confussion.\n",
    "del Prob00max[313]\n",
    "del Prob00sum[313]"
   ]
  },
  {
   "cell_type": "code",
   "execution_count": 799,
   "metadata": {},
   "outputs": [
    {
     "data": {
      "text/plain": [
       "(746, 740)"
      ]
     },
     "execution_count": 799,
     "metadata": {},
     "output_type": "execute_result"
    }
   ],
   "source": [
    "len(Prob00sum),len(Prob02sum)"
   ]
  },
  {
   "cell_type": "code",
   "execution_count": 800,
   "metadata": {},
   "outputs": [
    {
     "name": "stdout",
     "output_type": "stream",
     "text": [
      "355\n"
     ]
    }
   ],
   "source": [
    "for i in np.arange(730):\n",
    "    if Prob00max[i][4][1]!=Prob02max[i][4][1]:\n",
    "        print(i)\n",
    "        break"
   ]
  },
  {
   "cell_type": "code",
   "execution_count": 801,
   "metadata": {},
   "outputs": [],
   "source": [
    "# This is because of the wrong labeling of data!\n",
    "del Prob00max[355]\n",
    "del Prob00sum[355]\n",
    "del Prob00max[354]\n",
    "del Prob00sum[354]\n",
    "del Prob00max[353]\n",
    "del Prob00sum[353]"
   ]
  },
  {
   "cell_type": "code",
   "execution_count": 802,
   "metadata": {},
   "outputs": [
    {
     "data": {
      "text/plain": [
       "(743, 740)"
      ]
     },
     "execution_count": 802,
     "metadata": {},
     "output_type": "execute_result"
    }
   ],
   "source": [
    "len(Prob00sum),len(Prob02sum)"
   ]
  },
  {
   "cell_type": "code",
   "execution_count": 803,
   "metadata": {},
   "outputs": [
    {
     "name": "stdout",
     "output_type": "stream",
     "text": [
      "389\n"
     ]
    }
   ],
   "source": [
    "for i in np.arange(730):\n",
    "    if Prob00max[i][4][1]!=Prob02max[i][4][1]:\n",
    "        print(i)\n",
    "        break"
   ]
  },
  {
   "cell_type": "code",
   "execution_count": 804,
   "metadata": {},
   "outputs": [],
   "source": [
    "# This was done because of Dr. name and Patient name where the same and made the confussion.\n",
    "del Prob00max[389]\n",
    "del Prob00sum[389]"
   ]
  },
  {
   "cell_type": "code",
   "execution_count": 805,
   "metadata": {},
   "outputs": [
    {
     "data": {
      "text/plain": [
       "(742, 740)"
      ]
     },
     "execution_count": 805,
     "metadata": {},
     "output_type": "execute_result"
    }
   ],
   "source": [
    "len(Prob00sum),len(Prob02sum)"
   ]
  },
  {
   "cell_type": "code",
   "execution_count": 806,
   "metadata": {},
   "outputs": [
    {
     "name": "stdout",
     "output_type": "stream",
     "text": [
      "465\n"
     ]
    }
   ],
   "source": [
    "for i in np.arange(730):\n",
    "    if Prob00max[i][4][1]!=Prob02max[i][4][1]:\n",
    "        print(i)\n",
    "        break"
   ]
  },
  {
   "cell_type": "code",
   "execution_count": 807,
   "metadata": {},
   "outputs": [],
   "source": [
    "# This was done because of Dr. name and Patient name where the same and made the confussion.\n",
    "del Prob00max[466]\n",
    "del Prob00sum[466]\n",
    "del Prob00max[465]\n",
    "del Prob00sum[465]"
   ]
  },
  {
   "cell_type": "code",
   "execution_count": 808,
   "metadata": {},
   "outputs": [
    {
     "data": {
      "text/plain": [
       "(740, 740)"
      ]
     },
     "execution_count": 808,
     "metadata": {},
     "output_type": "execute_result"
    }
   ],
   "source": [
    "len(Prob00sum),len(Prob02sum)"
   ]
  },
  {
   "cell_type": "code",
   "execution_count": 809,
   "metadata": {},
   "outputs": [],
   "source": [
    "for i in np.arange(730):\n",
    "    if Prob00max[i][4][1]!=Prob02max[i][4][1]:\n",
    "        print(i)\n",
    "        break"
   ]
  },
  {
   "cell_type": "code",
   "execution_count": null,
   "metadata": {},
   "outputs": [],
   "source": []
  },
  {
   "cell_type": "code",
   "execution_count": 874,
   "metadata": {},
   "outputs": [],
   "source": [
    "TotProbMax00 = [i[0] for i in Prob00max]\n",
    "TotProbMax01 = [i[0] for i in Prob01max]\n",
    "TotProbMax02 = [i[0] for i in Prob02max]\n"
   ]
  },
  {
   "cell_type": "code",
   "execution_count": 883,
   "metadata": {},
   "outputs": [
    {
     "data": {
      "text/plain": [
       "<matplotlib.legend.Legend at 0x7fba20952630>"
      ]
     },
     "execution_count": 883,
     "metadata": {},
     "output_type": "execute_result"
    },
    {
     "data": {
      "image/png": "[encoded data removed]",
      "text/plain": [
       "<Figure size 1058.4x595.44 with 1 Axes>"
      ]
     },
     "metadata": {},
     "output_type": "display_data"
    }
   ],
   "source": [
    "sns.set_style('darkgrid')\n",
    "sns.distplot(TotProbMax00,label=\"SN unchanged MAX\",norm_hist=True)#,bins=100)\n",
    "sns.distplot(TotProbMax01,label=\"SN random from inside MAX\",norm_hist=True)#,bins=100)\n",
    "sns.distplot(TotProbMax02,label=\"SN random from outside MAX\",norm_hist=True)#,bins=100)\n",
    "#sns.distplot(Prob00sum,label=\"GN & SN unchanged sum\",norm_hist=True)\n",
    "#sns.distplot(Prob01sum,label=\"SN random from inside sum\",norm_hist=True)\n",
    "#sns.distplot(Prob02sum,label=\"SN random from outside sum\",norm_hist=True)\n",
    "plt.legend()"
   ]
  },
  {
   "cell_type": "code",
   "execution_count": 884,
   "metadata": {},
   "outputs": [
    {
     "data": {
      "text/plain": [
       "<matplotlib.legend.Legend at 0x7fba2028c4e0>"
      ]
     },
     "execution_count": 884,
     "metadata": {},
     "output_type": "execute_result"
    },
    {
     "data": {
      "image/png": "[encoded data removed]",
      "text/plain": [
       "<Figure size 1058.4x595.44 with 1 Axes>"
      ]
     },
     "metadata": {},
     "output_type": "display_data"
    }
   ],
   "source": [
    "sns.set_style('darkgrid')\n",
    "sns.distplot(np.array(TotProbMax00),label=\"SN unchanged MAX\",\\\n",
    "             hist_kws=dict(cumulative=True),kde_kws=dict(cumulative=True))\n",
    "sns.distplot(TotProbMax01,label=\"SN random from inside MAX\",\\\n",
    "             hist_kws=dict(cumulative=True),kde_kws=dict(cumulative=True))\n",
    "sns.distplot(TotProbMax02,label=\"SN random from outside MAX\",\\\n",
    "             hist_kws=dict(cumulative=True),kde_kws=dict(cumulative=True))\n",
    "sns.distplot(Prob00sum,label=\"SN unchanged sum\",\\\n",
    "             hist_kws=dict(cumulative=True),kde_kws=dict(cumulative=True))\n",
    "sns.distplot(Prob01sum,label=\"SN random from inside sum\",\\\n",
    "             hist_kws=dict(cumulative=True),kde_kws=dict(cumulative=True))\n",
    "sns.distplot(Prob02sum,label=\"SN random from outside sum\",\\\n",
    "             hist_kws=dict(cumulative=True),kde_kws=dict(cumulative=True))\n",
    "plt.legend()"
   ]
  },
  {
   "cell_type": "code",
   "execution_count": 885,
   "metadata": {},
   "outputs": [
    {
     "data": {
      "text/plain": [
       "<matplotlib.legend.Legend at 0x7fba21c1ccc0>"
      ]
     },
     "execution_count": 885,
     "metadata": {},
     "output_type": "execute_result"
    },
    {
     "data": {
      "image/png": "[encoded data removed]",
      "text/plain": [
       "<Figure size 1058.4x595.44 with 1 Axes>"
      ]
     },
     "metadata": {},
     "output_type": "display_data"
    }
   ],
   "source": [
    "sns.set_style('darkgrid')\n",
    "sns.distplot(1 - np.array(TotProbMax00),label=\"SN unchanged MAX\",\\\n",
    "             hist_kws=dict(cumulative=True),kde_kws=dict(cumulative=True))\n",
    "sns.distplot(1 - np.array(TotProbMax01),label=\"SN random from inside MAX\",\\\n",
    "             hist_kws=dict(cumulative=True),kde_kws=dict(cumulative=True))\n",
    "sns.distplot(1 - np.array(TotProbMax02),label=\"SN random from outside MAX\",\\\n",
    "             hist_kws=dict(cumulative=True),kde_kws=dict(cumulative=True))\n",
    "sns.distplot(1 - np.array(Prob00sum),label=\"SN unchanged sum\",\\\n",
    "             hist_kws=dict(cumulative=True),kde_kws=dict(cumulative=True))\n",
    "sns.distplot(1 - np.array(Prob01sum),label=\"SN random from inside sum\",\\\n",
    "             hist_kws=dict(cumulative=True),kde_kws=dict(cumulative=True))\n",
    "sns.distplot(1 - np.array(Prob02sum),label=\"SN random from outside sum\",\\\n",
    "             hist_kws=dict(cumulative=True),kde_kws=dict(cumulative=True))\n",
    "plt.legend()"
   ]
  },
  {
   "cell_type": "code",
   "execution_count": null,
   "metadata": {},
   "outputs": [],
   "source": []
  },
  {
   "cell_type": "code",
   "execution_count": null,
   "metadata": {},
   "outputs": [],
   "source": []
  },
  {
   "cell_type": "code",
   "execution_count": null,
   "metadata": {},
   "outputs": [],
   "source": []
  },
  {
   "cell_type": "code",
   "execution_count": null,
   "metadata": {},
   "outputs": [],
   "source": []
  },
  {
   "cell_type": "code",
   "execution_count": null,
   "metadata": {},
   "outputs": [],
   "source": []
  },
  {
   "cell_type": "code",
   "execution_count": null,
   "metadata": {},
   "outputs": [],
   "source": []
  },
  {
   "cell_type": "code",
   "execution_count": null,
   "metadata": {},
   "outputs": [],
   "source": []
  },
  {
   "cell_type": "code",
   "execution_count": 212,
   "metadata": {},
   "outputs": [
    {
     "data": {
      "text/plain": [
       "[69, 69, 69, 85]"
      ]
     },
     "execution_count": 212,
     "metadata": {},
     "output_type": "execute_result"
    }
   ],
   "source": [
    "OxC00[3]"
   ]
  },
  {
   "cell_type": "code",
   "execution_count": 199,
   "metadata": {},
   "outputs": [
    {
     "data": {
      "text/plain": [
       "[[['Ted', ''], ['', '']], [['Ted', ''], ['', '']], [['Ted', ''], ['', '']]]"
      ]
     },
     "execution_count": 199,
     "metadata": {},
     "output_type": "execute_result"
    }
   ],
   "source": [
    "file=2\n",
    "insideline=0\n",
    "GN=0\n",
    "SN=1\n",
    "NDic02[RealFilesNames[file]]#[insideline][SN]"
   ]
  },
  {
   "cell_type": "code",
   "execution_count": 197,
   "metadata": {},
   "outputs": [
    {
     "name": "stdout",
     "output_type": "stream",
     "text": [
      "0.965844\n",
      "0.99738544\n"
     ]
    }
   ],
   "source": [
    "for i in np.arange(C00breaks[file-1]+1,C00breaks[file]):\n",
    "    for m,j in enumerate((TokFil00[i].split('\\n'))):\n",
    "        if (j.split(\" \")[0] == NDic02[RealFilesNames[file]][insideline][SN][0]):\n",
    "            print((np.sum((np.exp(OxA00[i][m][msk]))/(np.sum((np.exp(OxA00[i][m])))))))\n",
    "            if insideline < len(NDic02[RealFilesNames[file]]) - 1:\n",
    "                insideline = insideline + 1"
   ]
  },
  {
   "cell_type": "code",
   "execution_count": 196,
   "metadata": {},
   "outputs": [
    {
     "name": "stdout",
     "output_type": "stream",
     "text": [
      "0.94309056\n",
      "0.9879421\n"
     ]
    }
   ],
   "source": [
    "for n,i in enumerate(np.arange(C00breaks[file-1]+1,C00breaks[file])):\n",
    "    for m,j in enumerate((TokFil00[i].split('\\n'))):\n",
    "        if (j.split(\" \")[0] == NDic02[RealFilesNames[file]][insideline][SN][0]):\n",
    "            print((np.exp(np.max(OxA00[i][m][msk])))/(np.sum((np.exp(OxA00[i][m])))))\n",
    "            if insideline < len(NDic02[RealFilesNames[file]]) - 1:\n",
    "                insideline = insideline + 1"
   ]
  },
  {
   "cell_type": "code",
   "execution_count": 191,
   "metadata": {},
   "outputs": [
    {
     "name": "stdout",
     "output_type": "stream",
     "text": [
      "0.94309056\n",
      "0.9879421\n"
     ]
    }
   ],
   "source": [
    "for n,i in enumerate(np.arange(C00breaks[file-1]+1,C00breaks[file])):\n",
    "    for m,j in enumerate((TokFil00[i].split('\\n'))):\n",
    "        if (j.split(\" \")[0] == NDic02[RealFilesNames[file]][insideline][SN][0]):\n",
    "            print((np.exp(np.max(OxA00[i][m][msk])))/(np.sum((np.exp(OxA00[i][m])))))"
   ]
  },
  {
   "cell_type": "code",
   "execution_count": null,
   "metadata": {},
   "outputs": [],
   "source": []
  },
  {
   "cell_type": "code",
   "execution_count": null,
   "metadata": {},
   "outputs": [],
   "source": []
  },
  {
   "cell_type": "code",
   "execution_count": null,
   "metadata": {},
   "outputs": [],
   "source": []
  },
  {
   "cell_type": "code",
   "execution_count": null,
   "metadata": {},
   "outputs": [],
   "source": []
  },
  {
   "cell_type": "code",
   "execution_count": null,
   "metadata": {},
   "outputs": [],
   "source": []
  },
  {
   "cell_type": "code",
   "execution_count": null,
   "metadata": {},
   "outputs": [],
   "source": []
  },
  {
   "cell_type": "code",
   "execution_count": null,
   "metadata": {},
   "outputs": [],
   "source": []
  },
  {
   "cell_type": "code",
   "execution_count": null,
   "metadata": {},
   "outputs": [],
   "source": []
  },
  {
   "cell_type": "code",
   "execution_count": null,
   "metadata": {},
   "outputs": [],
   "source": []
  },
  {
   "cell_type": "code",
   "execution_count": null,
   "metadata": {},
   "outputs": [],
   "source": []
  }
 ],
 "metadata": {
  "kernelspec": {
   "display_name": "Python 3",
   "language": "python",
   "name": "python3"
  },
  "language_info": {
   "codemirror_mode": {
    "name": "ipython",
    "version": 3
   },
   "file_extension": ".py",
   "mimetype": "text/x-python",
   "name": "python",
   "nbconvert_exporter": "python",
   "pygments_lexer": "ipython3",
   "version": "3.6.8"
  }
 },
 "nbformat": 4,
 "nbformat_minor": 2
}
