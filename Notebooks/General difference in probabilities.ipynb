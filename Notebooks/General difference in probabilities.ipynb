{
 "cells": [
  {
   "cell_type": "code",
   "execution_count": 1,
   "metadata": {},
   "outputs": [],
   "source": [
    "import numpy as np\n",
    "import matplotlib.pyplot as plt\n",
    "import seaborn as sns\n",
    "from scipy import stats\n",
    "import statsmodels as stm\n",
    "from os import walk\n",
    "%matplotlib inline"
   ]
  },
  {
   "cell_type": "code",
   "execution_count": 2,
   "metadata": {},
   "outputs": [],
   "source": [
    "#sns.set(rc={'figure.figsize':(11.7,8.27)})\n",
    "sns.set(rc={'figure.figsize':(14.7,8.27)})"
   ]
  },
  {
   "cell_type": "code",
   "execution_count": 3,
   "metadata": {},
   "outputs": [
    {
     "data": {
      "text/plain": [
       "((30742,), (30742,))"
      ]
     },
     "execution_count": 3,
     "metadata": {},
     "output_type": "execute_result"
    }
   ],
   "source": [
    "OxA00=np.load(\"NeuroNER-master/src/SalmanTest/MyTrain385SeparateRepFlag00/Mr1mainSalmanUnary_scorestest.npy\")\n",
    "OxC00=np.load(\"NeuroNER-master/src/SalmanTest/MyTrain385SeparateRepFlag00/Mr1mainSalmanCCCtest.npy\")\n",
    "Dic00 = np.load(\"/home/salman/NeuroNER-master/src/SalmanTest/MyTrain385SeparateRepFlag00/FinalDict.npy\").item()\n",
    "with open(\"/home/salman/NeuroNER-master/data/Speedi/MyTrain385SeparateRepFlag00/test_spacy.txt\", 'r') as file :\n",
    "    TokFil00 = file.read().split('\\n\\n')\n",
    "OxC00.shape,OxA00.shape"
   ]
  },
  {
   "cell_type": "code",
   "execution_count": 4,
   "metadata": {},
   "outputs": [
    {
     "data": {
      "text/plain": [
       "((30731,), (30731,))"
      ]
     },
     "execution_count": 4,
     "metadata": {},
     "output_type": "execute_result"
    }
   ],
   "source": [
    "OxA01=np.load(\"NeuroNER-master/src/SalmanTest/MyTrain385SeparateRepFlag01/Mr1mainSalmanUnary_scorestest.npy\")\n",
    "OxC01=np.load(\"NeuroNER-master/src/SalmanTest/MyTrain385SeparateRepFlag01/Mr1mainSalmanCCCtest.npy\")\n",
    "Dic01 = np.load(\"/home/salman/NeuroNER-master/src/SalmanTest/MyTrain385SeparateRepFlag01/FinalDict01.npy\").item()\n",
    "OxC01.shape,OxA01.shape"
   ]
  },
  {
   "cell_type": "code",
   "execution_count": 5,
   "metadata": {},
   "outputs": [
    {
     "data": {
      "text/plain": [
       "((30755,), (30755,))"
      ]
     },
     "execution_count": 5,
     "metadata": {},
     "output_type": "execute_result"
    }
   ],
   "source": [
    "OxA02=np.load(\"NeuroNER-master/src/SalmanTest/MyTrain385SeparateRepFlag02/Mr1mainSalmanUnary_scorestest.npy\")\n",
    "OxC02=np.load(\"NeuroNER-master/src/SalmanTest/MyTrain385SeparateRepFlag02/Mr1mainSalmanCCCtest.npy\")\n",
    "Dic02 = np.load(\"/home/salman/NeuroNER-master/src/SalmanTest/MyTrain385SeparateRepFlag02/FinalDict02.npy\").item()\n",
    "OxC02.shape,OxA02.shape"
   ]
  },
  {
   "cell_type": "code",
   "execution_count": 6,
   "metadata": {},
   "outputs": [
    {
     "data": {
      "text/plain": [
       "((30719,), (30719,))"
      ]
     },
     "execution_count": 6,
     "metadata": {},
     "output_type": "execute_result"
    }
   ],
   "source": [
    "OxA11=np.load(\"NeuroNER-master/src/SalmanTest/MyTrain385SeparateRepFlag11/Mr1mainSalmanUnary_scorestest.npy\")\n",
    "OxC11=np.load(\"NeuroNER-master/src/SalmanTest/MyTrain385SeparateRepFlag11/Mr1mainSalmanCCCtest.npy\")\n",
    "Dic11 = np.load(\"/home/salman/NeuroNER-master/src/SalmanTest/MyTrain385SeparateRepFlag11/FinalDict11.npy\").item()\n",
    "OxC11.shape,OxA11.shape"
   ]
  },
  {
   "cell_type": "code",
   "execution_count": 7,
   "metadata": {},
   "outputs": [
    {
     "data": {
      "text/plain": [
       "((30753,), (30753,))"
      ]
     },
     "execution_count": 7,
     "metadata": {},
     "output_type": "execute_result"
    }
   ],
   "source": [
    "OxA22=np.load(\"NeuroNER-master/src/SalmanTest/MyTrain385SeparateRepFlag22/Mr1mainSalmanUnary_scorestest.npy\")\n",
    "OxC22=np.load(\"NeuroNER-master/src/SalmanTest/MyTrain385SeparateRepFlag22/Mr1mainSalmanCCCtest.npy\")\n",
    "Dic22 = np.load(\"/home/salman/NeuroNER-master/src/SalmanTest/MyTrain385SeparateRepFlag22/FinalDict22.npy\").item()\n",
    "with open(\"/home/salman/NeuroNER-master/data/Speedi/MyTrain385SeparateRepFlag22/test_spacy.txt\", 'r') as file :\n",
    "    TokFil22 = file.read().split('\\n\\n')\n",
    "OxC22.shape,OxA22.shape"
   ]
  },
  {
   "cell_type": "code",
   "execution_count": 8,
   "metadata": {},
   "outputs": [],
   "source": [
    "filenames = np.load(\"/home/salman/NeuroNER-master/src/SalmanTest/filenames.npy\")"
   ]
  },
  {
   "cell_type": "code",
   "execution_count": 9,
   "metadata": {},
   "outputs": [],
   "source": [
    "DirectoryPath=\"/home/salman/NeuroNER-master/data/Speedi/test/MyTrain385SeparateRepFlag01/\"\n",
    "(_, _, RealFilesNames) = next(walk(\"%s\"%DirectoryPath))"
   ]
  },
  {
   "cell_type": "code",
   "execution_count": 10,
   "metadata": {},
   "outputs": [],
   "source": [
    "def CleanDic(Dic):\n",
    "    NDic={}\n",
    "    for i in filenames:\n",
    "        if len(Dic[i[:-4]])>=1:\n",
    "            NDic[\"%s\"%i[:-4]] = Dic[i[:-4]]\n",
    "    return(NDic)"
   ]
  },
  {
   "cell_type": "code",
   "execution_count": 11,
   "metadata": {},
   "outputs": [],
   "source": [
    "NDic00 = CleanDic(Dic00)\n",
    "NDic01 = CleanDic(Dic01)\n",
    "NDic02 = CleanDic(Dic02)\n",
    "NDic11 = CleanDic(Dic11)\n",
    "NDic22 = CleanDic(Dic22)"
   ]
  },
  {
   "cell_type": "code",
   "execution_count": 11,
   "metadata": {},
   "outputs": [
    {
     "data": {
      "text/plain": [
       "(521, 521, 521, 521, 521)"
      ]
     },
     "execution_count": 11,
     "metadata": {},
     "output_type": "execute_result"
    }
   ],
   "source": [
    "len(Dic00),len(Dic01),len(Dic02),len(Dic11),len(Dic22)"
   ]
  },
  {
   "cell_type": "code",
   "execution_count": 12,
   "metadata": {},
   "outputs": [
    {
     "data": {
      "text/plain": [
       "(406, 406, 406, 406, 406)"
      ]
     },
     "execution_count": 12,
     "metadata": {},
     "output_type": "execute_result"
    }
   ],
   "source": [
    "len(NDic00),len(NDic01),len(NDic02),len(NDic11),len(NDic22)"
   ]
  },
  {
   "cell_type": "code",
   "execution_count": 80,
   "metadata": {},
   "outputs": [],
   "source": [
    "def findBreaks(oxc,limit=300):\n",
    "    breaks=[]\n",
    "    for i,c in enumerate(oxc):\n",
    "        if len(c)>limit:\n",
    "            breaks.append(i)\n",
    "    return(breaks)"
   ]
  },
  {
   "cell_type": "code",
   "execution_count": 71,
   "metadata": {},
   "outputs": [],
   "source": [
    "C00breaks = findBreaks(OxC00)\n",
    "C01breaks = findBreaks(OxC01)\n",
    "C02breaks = findBreaks(OxC02)\n",
    "C11breaks = findBreaks(OxC11)\n",
    "C22breaks = findBreaks(OxC22)"
   ]
  },
  {
   "cell_type": "code",
   "execution_count": 15,
   "metadata": {},
   "outputs": [
    {
     "data": {
      "text/plain": [
       "(406, 406, 406, 406, 406)"
      ]
     },
     "execution_count": 15,
     "metadata": {},
     "output_type": "execute_result"
    }
   ],
   "source": [
    "len(C00breaks),len(C01breaks),len(C02breaks),len(C11breaks),len(C22breaks)"
   ]
  },
  {
   "cell_type": "code",
   "execution_count": 16,
   "metadata": {},
   "outputs": [
    {
     "data": {
      "text/plain": [
       "(30741, 30730, 30754, 30718, 30752)"
      ]
     },
     "execution_count": 16,
     "metadata": {},
     "output_type": "execute_result"
    }
   ],
   "source": [
    "C00breaks[-1],C01breaks[-1],C02breaks[-1],C11breaks[-1],C22breaks[-1]"
   ]
  },
  {
   "cell_type": "code",
   "execution_count": 96,
   "metadata": {},
   "outputs": [
    {
     "data": {
      "text/plain": [
       "169"
      ]
     },
     "execution_count": 96,
     "metadata": {},
     "output_type": "execute_result"
    }
   ],
   "source": [
    "C00breaks[0]"
   ]
  },
  {
   "cell_type": "code",
   "execution_count": 112,
   "metadata": {},
   "outputs": [],
   "source": [
    "import difflib"
   ]
  },
  {
   "cell_type": "code",
   "execution_count": 126,
   "metadata": {},
   "outputs": [
    {
     "data": {
      "text/plain": [
       "<generator object Differ.compare at 0x7ff0f434c0f8>"
      ]
     },
     "execution_count": 126,
     "metadata": {},
     "output_type": "execute_result"
    }
   ],
   "source": [
    "difflib.ndiff(NDic00[RealFilesNames[0][:-4]][0],NDic22[RealFilesNames[0][:-4]][0])"
   ]
  },
  {
   "cell_type": "code",
   "execution_count": 119,
   "metadata": {},
   "outputs": [
    {
     "data": {
      "text/plain": [
       "([['Younger, T Eugene', 66, 'Younger, T Eugene']],\n",
       " [['Younger, T Eugene', 66, 'Corrett, T Emory']])"
      ]
     },
     "execution_count": 119,
     "metadata": {},
     "output_type": "execute_result"
    }
   ],
   "source": [
    "NDic00[RealFilesNames[0][:-4]],NDic22[RealFilesNames[0][:-4]]"
   ]
  },
  {
   "cell_type": "code",
   "execution_count": 123,
   "metadata": {},
   "outputs": [
    {
     "data": {
      "text/plain": [
       "['Younger, T Eugene', 66, 'Younger, T Eugene']"
      ]
     },
     "execution_count": 123,
     "metadata": {},
     "output_type": "execute_result"
    }
   ],
   "source": [
    "NDic00[RealFilesNames[0][:-4]][0][]"
   ]
  },
  {
   "cell_type": "code",
   "execution_count": 127,
   "metadata": {},
   "outputs": [],
   "source": [
    "difflib.ndiff?"
   ]
  },
  {
   "cell_type": "code",
   "execution_count": 140,
   "metadata": {},
   "outputs": [],
   "source": [
    "TEST=difflib.ndiff(NDic22[RealFilesNames[0][:-4]][0][0],NDic22[RealFilesNames[0][:-4]][0][2])"
   ]
  },
  {
   "cell_type": "code",
   "execution_count": 141,
   "metadata": {},
   "outputs": [
    {
     "data": {
      "text/plain": [
       "'- Y+ C  o+ r+ r- u- n- g  e- r+ t+ t  ,     T     E+ m+ o+ r+ y- u- g- e- n- e'"
      ]
     },
     "execution_count": 141,
     "metadata": {},
     "output_type": "execute_result"
    }
   ],
   "source": [
    "\"\".join(TEST)"
   ]
  },
  {
   "cell_type": "code",
   "execution_count": 150,
   "metadata": {},
   "outputs": [
    {
     "data": {
      "text/plain": [
       "{'221-01': [['Younger, T Eugene', 66, 'Lablue, T Eugene']],\n",
       " '221-02': [['Ted', 320, 'Ted']],\n",
       " '221-03': [['Ted', 156, 'Ted'], ['Ted', 1365, 'Ted'], ['Ted', 1599, 'Ted']],\n",
       " '222-01': [['DUVALL,BRADY C', 76, 'POGORELC,BRADY C']],\n",
       " '222-03': [['DUVALL,BRADY C', 76, 'UHYREK,BRADY C']],\n",
       " '222-04': [['BRADY DUVALL', 206, 'BRADY BEAS'],\n",
       "  ['Brady Duvall', 291, 'Brady Friebel'],\n",
       "  ['BRADY DUVALL', 1335, 'BRADY GROAT']],\n",
       " '222-05': [['Brady Duvall', 170, 'Brady Krumsiek'],\n",
       "  ['Brady Duvall', 234, 'Brady Botz'],\n",
       "  ['Brady Duvall', 1675, 'Brady Donathan'],\n",
       "  ['Brady Duvall', 2090, 'Brady Wallgren']],\n",
       " '223-01': [['Adler, Imogene', 181, 'Acimovic, Imogene'],\n",
       "  ['Imogene Adler', 291, 'Imogene Jennrich'],\n",
       "  ['Adler', 368, 'Tirri'],\n",
       "  ['Adler, Imogene', 2013, 'Weeks, Imogene']],\n",
       " '224-01': [['Otto Qazi', 103, 'Otto Hueftle']],\n",
       " '224-02': [['Qazi', 97, 'Maciag']],\n",
       " '224-03': [['Qazi', 97, 'Kilarjian']],\n",
       " '224-04': [['Qazi', 97, 'Vandesande']],\n",
       " '225-02': [['Christopher Powell', 1376, 'Christopher Quince'],\n",
       "  ['Powell', 1432, 'Kirkland']],\n",
       " '226-01': [['Ellen Law', 55, 'Ellen Shoffner'],\n",
       "  ['Friedman', 2843, 'Sturdivant']],\n",
       " '226-02': [['Ellen Law', 55, 'Ellen Debiase'],\n",
       "  ['Friedman', 3890, 'Standeven'],\n",
       "  ['Law,Ellen', 4976, 'Tesmer,Ellen'],\n",
       "  ['LAW, ELLEN', 5459, 'NUNIZ, ELLEN']],\n",
       " '226-03': [['LAW, ELLEN', 35, 'COLLINS, ELLEN'], ['Law', 357, 'Starritt']],\n",
       " '226-04': [['Ellen Law', 55, 'Ellen Thackxton'],\n",
       "  ['Ellen', 144, 'Ellen'],\n",
       "  ['Friedman', 2637, 'Isaacs']],\n",
       " '227-01': [['LE, WILLIAM', 42, 'HALBROOKS, WILLIAM']],\n",
       " '227-03': [['William Le', 140, 'William Gate'],\n",
       "  ['William Le', 232, 'William Yau']],\n",
       " '228-01': [['Wonda Benitez', 153, 'Wonda Lipham'],\n",
       "  ['Benitez', 265, 'Salcedo']],\n",
       " '228-02': [['Benitez, Wonda', 173, 'Doepner, Wonda'],\n",
       "  ['Wonda Benitez', 278, 'Wonda Okafor'],\n",
       "  ['Benitez, Wonda', 1931, 'Catala, Wonda']],\n",
       " '228-04': [['BENITEZ, Wonda', 212, 'AMANCIO, Wonda'],\n",
       "  ['Benitez', 319, 'Hartwick'],\n",
       "  ['Benitez', 440, 'Baskins'],\n",
       "  ['BENITEZ, Wonda', 1718, 'FAYARD, Wonda'],\n",
       "  ['Benitez', 1848, 'Pellin']],\n",
       " '228-05': [['Benitez, Wonda', 190, 'Duchane, Wonda'],\n",
       "  ['Benitez', 282, 'Hawse'],\n",
       "  ['Benitez, Wonda', 2018, 'Berrien, Wonda'],\n",
       "  ['Benitez, Wonda', 4320, 'Tays, Wonda']],\n",
       " '229-01': [['Cortez', 92, 'Brownsword'], ['Cortez', 1957, 'Carskadon']],\n",
       " '229-02': [['Nicholas Cortez', 194, 'Nicholas Tewksbury']],\n",
       " '229-03': [['Nicholas Cortez', 204, 'Nicholas Schaunaman']],\n",
       " '240-01': [['Oneill', 127, 'Oneill']],\n",
       " '240-03': [['Innis', 167, 'Helmers'], ['Innis', 3335, 'Tobe']],\n",
       " '240-04': [['Innis', 154, 'Dibrell']],\n",
       " '241-01': [['Christine Olivier', 154, 'Christine Lowy'],\n",
       "  ['Olivier', 220, 'Mccord'],\n",
       "  ['Olivier', 406, 'Diekmann'],\n",
       "  ['Olivier, Christine', 2276, 'Humphrey, Christine'],\n",
       "  ['Olivier', 4340, 'Horton'],\n",
       "  ['Olivier, Christine', 5098, 'Boulais, Christine']],\n",
       " '241-02': [['Christine Olivier', 134, 'Christine Caras'],\n",
       "  ['Olivier', 200, 'Thruman'],\n",
       "  ['Olivier, Christine', 1934, 'Tews, Christine'],\n",
       "  ['Olivier', 2036, 'Farstvedt']],\n",
       " '241-03': [['OLIVIER,CHRISTINE', 76, 'TIOTUICO,CHRISTINE']],\n",
       " '241-04': [['Christine Olivier', 127, 'Christine Niss'],\n",
       "  ['Olivier', 193, 'Conca'],\n",
       "  ['Christine Olivier', 2170, 'Christine Annette'],\n",
       "  ['Olivier', 2394, 'Jaurigui'],\n",
       "  ['Olivier', 2678, 'Kirkey']],\n",
       " '242-02': [['LOUIS,ROBERT', 83, 'SCHOFFSTALL,ROBERT']],\n",
       " '242-03': [['LOUIS,ROBERT', 97, 'YAGECIC,ROBERT'],\n",
       "  ['ROBERT LOUIS', 224, 'ROBERT   HILSGEN'],\n",
       "  ['Louis', 305, 'Akin']],\n",
       " '242-04': [['LOUIS,ROBERT', 97, 'LUCORE,ROBERT']],\n",
       " '242-05': [['Louis, Robert', 45, 'Goehringer, Robert']],\n",
       " '243-01': [['Osborne, Mattison', 127, 'Hollingworth, Mattison']],\n",
       " '243-03': [['OSBORNE, MATTISON', 92, 'KUSKO, MATTISON']],\n",
       " '243-04': [['OSBORNE, MATTISON', 34, 'GATTIS, MATTISON'],\n",
       "  ['Osborne', 226, 'Grosch']],\n",
       " '244-01': [['Francisco, Xue', 307, 'Berrien, Xue']],\n",
       " '244-02': [['French, Xue', 66, 'Ryal, Xue']],\n",
       " '246-01': [['YEO, AUSTIN', 89, 'ALPHIN, AUSTIN']],\n",
       " '246-02': [['YEO, AUSTIN', 89, 'CANTRES, AUSTIN']],\n",
       " '246-03': [['Yeo, Austin', 252, 'Mockbee, Austin']],\n",
       " '246-04': [['Yeo, Austin', 336, 'Maya, Austin']],\n",
       " '247-01': [['Isenberg, Michael', 72, 'Jehl, Michael'],\n",
       "  ['Michael Isenberg', 3020, 'Michael Nassie'],\n",
       "  ['Gregory', 3128, 'Gregory']],\n",
       " '247-02': [['Michael Isenberg', 210, 'Michael Dul'],\n",
       "  ['Isenberg', 296, 'Govostes'],\n",
       "  ['Isenberg', 1339, 'Cubie']],\n",
       " '247-03': [['Isenberg, Michael', 53, 'Ervine, Michael'],\n",
       "  ['Isenberg', 200, 'Ulberg'],\n",
       "  ['Isenberg', 1760, 'Keledjian']],\n",
       " '247-04': [['ISENBERG,MICHAEL', 97, 'BUTZKE,MICHAEL'],\n",
       "  ['Isenberg', 280, 'Momaya'],\n",
       "  ['Isenberg', 845, 'Agena']],\n",
       " '248-01': [['Danny Nielson', 127, 'Danny Wiers'],\n",
       "  ['Nielson', 207, 'Babat'],\n",
       "  ['Nielson', 305, 'Gromer'],\n",
       "  ['Danny Nielson', 7016, 'Danny Davin'],\n",
       "  ['Nielson', 8717, 'Junke']],\n",
       " '248-02': [['Danny Nielson', 87, 'Danny Burglin'],\n",
       "  ['Nielson', 321, 'Lutman'],\n",
       "  ['Nielson', 482, 'Romaro'],\n",
       "  ['Nielson', 2356, 'Grannis'],\n",
       "  ['Nielson', 10343, 'Spyrakos']],\n",
       " '248-03': [['Danny Nielson', 60, 'Danny Aoay'],\n",
       "  ['Nielson', 158, 'Lagatella'],\n",
       "  ['Nielson', 1312, 'Scronce']],\n",
       " '248-04': [['Danny Nielson', 69, 'Danny Piersaul'],\n",
       "  ['Nielson', 1794, 'Davern'],\n",
       "  ['NIELSON, DANNY W', 5391, 'LOVFALD, DANNY W'],\n",
       "  ['NIELSON, DANNY W', 7491, 'SPAR, DANNY W']],\n",
       " '249-01': [['LILLY, LARRY', 42, 'GRADOWSKI, LARRY'],\n",
       "  ['Larry', 1956, 'Larry'],\n",
       "  ['Larry', 2285, 'Larry']],\n",
       " '249-04': [['Lilly', 110, 'Roettger'], ['Lilly', 1821, 'Hilson']],\n",
       " '250-01': [['Urania Yerger', 151, 'Urania Fuhrer'],\n",
       "  ['Urania Yerger', 241, 'Urania Cochrum'],\n",
       "  ['Yerger', 506, 'Rini'],\n",
       "  ['Yerger', 1338, 'Murrieta'],\n",
       "  ['Yerger', 1969, 'Kinlecheeny'],\n",
       "  ['Yerger, Urania', 2130, 'Daddario, Urania'],\n",
       "  ['Yerger', 2995, 'Cauthron'],\n",
       "  ['Yerger', 3936, 'Nowosadko'],\n",
       "  ['Yerger, Urania', 4912, 'Leyvas, Urania'],\n",
       "  ['Yerger', 5034, 'Potteiger']],\n",
       " '250-02': [['Urania Yerger', 124, 'Urania Bullo'],\n",
       "  ['Urania Yerger', 207, 'Urania Lavery'],\n",
       "  ['Yerger', 1613, 'Emperor'],\n",
       "  ['Urania Yerger', 1961, 'Urania Stutheit']],\n",
       " '250-03': [['YERGER, URANIA', 124, 'MORTEL, URANIA'],\n",
       "  ['Urania Yerger', 400, 'Urania Spieth'],\n",
       "  ['Yerger', 1710, 'Arslanian']],\n",
       " '250-04': [['Yerger, Urania', 92, 'Forde, Urania'], ['Yerger', 198, 'Danns']],\n",
       " '251-03': [['Vollmer, Ulyses', 88, 'Kwit, Ulyses'],\n",
       "  ['Vollmer', 482, 'Diddle']],\n",
       " '251-04': [['Ulyses Vollmer', 70, 'Ulyses Manalili'],\n",
       "  ['Vollmer', 1431, 'Cerce']],\n",
       " '252-01': [['Kathy Joshi', 145, 'Kathy Niang'],\n",
       "  ['Joshi', 205, 'Tangerman'],\n",
       "  ['Joshi', 669, 'Dezern'],\n",
       "  ['Kathy Joshi', 1790, 'Kathy Cantave'],\n",
       "  ['Joshi', 2409, 'Kalfayan']],\n",
       " '252-02': [['JOSHI,KATHY', 86, 'LATHE,KATHY']],\n",
       " '252-03': [['JOSHI, KATHY', 123, 'HURST, KATHY'],\n",
       "  ['Joshi', 414, 'Beshear'],\n",
       "  ['Joshy', 2306, 'Zeto']],\n",
       " '252-04': [['Joshi, Kathy', 45, 'Quilindrino, Kathy']],\n",
       " '252-05': [['JOSHI, KATHY', 34, 'PITMON, KATHY'],\n",
       "  ['Joshi', 199, 'Tschirhart'],\n",
       "  ['Joshi', 3182, 'Lopes']],\n",
       " '253-01': [['Andrew Conner', 73, 'Andrew Villanveua']],\n",
       " '253-02': [['Conner, Andrew', 67, 'Pineau, Andrew'], ['Andy', 108, 'Andy']],\n",
       " '254-01': [['NOONAN,FRANKIE', 82, 'IACOPINO,FRANKIE']],\n",
       " '254-02': [['NOONAN, FRANCE', 94, 'BRIGHTER, FRANCE'],\n",
       "  ['Noonan', 267, 'Willcutt']],\n",
       " '254-03': [['Noonan, France', 45, 'Karcher, France']],\n",
       " '254-04': [['NOONAN, FRANCE', 45, 'GAMMAGE, FRANCE']],\n",
       " '254-05': [['NOONAN, WENDY', 5482, 'LAPARI, WENDY']],\n",
       " '256-01': [['Klein, Michelle', 69, 'Creacy, Michelle']],\n",
       " '256-02': [['KLEIN, Michelle', 107, 'KETTENRING, Michelle'],\n",
       "  ['Klein', 179, 'Conner'],\n",
       "  ['Klein', 577, 'Perault']],\n",
       " '256-03': [['Nathaniel Klein', 101, 'Nathaniel Barillas'],\n",
       "  ['Nathaniel Klein', 1874, 'Nathaniel Hildago']],\n",
       " '256-04': [['Michelle Klein', 170, 'Michelle Gosewisch'],\n",
       "  ['Michelle', 256, 'Michelle'],\n",
       "  ['Michelle', 1766, 'Michelle']],\n",
       " '256-05': [['Michelle Klein', 159, 'Michelle Butrick'],\n",
       "  ['Nathaniel', 238, 'Nathaniel'],\n",
       "  ['Michelle', 283, 'Michelle'],\n",
       "  ['Michelle', 842, 'Michelle'],\n",
       "  ['Michelle', 1513, 'Michelle'],\n",
       "  ['Michelle', 1825, 'Michelle']],\n",
       " '257-01': [['Verna Cantu', 111, 'Verna Waeyaert']],\n",
       " '257-02': [['Cantu', 279, 'Mickle']],\n",
       " '257-03': [['Verna Cantu', 113, 'Verna Clarida'], ['Verna', 172, 'Verna']],\n",
       " '257-04': [['CANTU, VERNA L', 49, 'SAMS, VERNA L'],\n",
       "  ['Cantu', 150, 'Pavoni'],\n",
       "  ['Cantu', 2783, 'Blailock']],\n",
       " '258-03': [['SCHWARTZ, XAVIER', 118, 'OLIVO, XAVIER']],\n",
       " '258-04': [['Schwartz, Xavier', 45, 'Elena, Xavier'],\n",
       "  ['Schwartz', 163, 'Barnick']],\n",
       " '258-05': [['SCHWARTZ, XAVIER', 120, 'HOGGE, XAVIER']],\n",
       " '259-02': [['Michael Yee', 273, 'Michael Marier']],\n",
       " '259-03': [['Yin', 68, 'Issler']],\n",
       " '259-04': [['Yee, Michael', 67, 'Terman, Michael']],\n",
       " '270-01': [['WHITAKER, VINCENT', 77, 'GENDLER, VINCENT']],\n",
       " '270-02': [['Whitaker, Vincent', 42, 'Herget, Vincent']],\n",
       " '270-03': [['WHITAKER, VINCENT', 45, 'JAMAICA, VINCENT']],\n",
       " '270-04': [['Nguyen', 174, 'Nguyen'],\n",
       "  ['Whitaker', 258, 'Morgas'],\n",
       "  ['Whitaker', 295, 'Roese'],\n",
       "  ['Whitaker', 353, 'Oaks'],\n",
       "  ['Whitaker', 577, 'Garand'],\n",
       "  ['Whitaker', 644, 'Davi']],\n",
       " '271-01': [['Jorgenson, Andrew', 88, 'Cedano, Andrew']],\n",
       " '271-03': [['Jorgenson, Andrew C.', 237, 'Skold, Andrew C.']],\n",
       " '272-01': [['Uriah Oliver', 28, 'Uriah Gill']],\n",
       " '272-02': [['Oliver, Uriah', 41, 'Kendra, Uriah'],\n",
       "  ['Oliver', 119, 'Seagrave']],\n",
       " '272-03': [['Uriah Oliver', 28, 'Uriah Prizzi']],\n",
       " '272-04': [['Oreilly, Uriah', 105, 'Guynn, Uriah']],\n",
       " '273-01': [['Xuan, Wendy', 83, 'Pentek, Wendy'], ['Jake', 1944, 'Jake']],\n",
       " '273-02': [['Xuan, Wendy', 81, 'Lavigna, Wendy'], ['Jack', 1649, 'Jack']],\n",
       " '273-03': [['Xuan, Wendy', 81, 'Dry, Wendy']],\n",
       " '273-04': [['Xuan, Wendy', 80, 'Grondin, Wendy'],\n",
       "  ['Wendee', 1392, 'Wendee'],\n",
       "  ['Jake', 1495, 'Jake']],\n",
       " '273-05': [['Xuan, Wendy', 82, 'Brozena, Wendy'],\n",
       "  ['Ivory', 1879, 'Attleson']],\n",
       " '274-01': [['ICKES,WILLIAM JR', 83, 'STUDDARD,WILLIAM JR']],\n",
       " '274-02': [['Ickes, William', 132, 'Coxum, William']],\n",
       " '274-03': [['Ickes, Jr., William', 138, 'Warmbrod, Jr., William'],\n",
       "  ['Ickes', 214, 'Trish'],\n",
       "  ['Ickes, Jr., William', 2043, 'Ahumada, Jr., William']],\n",
       " '274-04': [['ICKES,WILLIAM JR', 83, 'BERRELL,WILLIAM JR']],\n",
       " '275-01': [['Catherine Kong', 62, 'Catherine Kottwitz']],\n",
       " '275-02': [['Kong, Catherine', 48, 'Bethany, Catherine']],\n",
       " '275-04': [['Kong', 104, 'Stedronsky'], ['Kong', 3974, 'Zebel']],\n",
       " '276-01': [['GIPSON, ALEC', 45, 'HUNNICUTT, ALEC']],\n",
       " '276-02': [['GIPSON, ALEC', 31, 'AUSTIN, ALEC'],\n",
       "  ['Alec Gipson', 252, 'Alec Stamatopoulos']],\n",
       " '276-03': [['GIPSON, ALEXANDER', 45, 'AID, ALEXANDER']],\n",
       " '276-04': [['GIPSON, ALEXANDER', 34, 'MEIERHOFER, ALEXANDER'],\n",
       "  ['Gipson', 180, 'Armeli'],\n",
       "  ['Gipson', 422, 'Josephsen'],\n",
       "  ['Gipson', 2882, 'Corbley']],\n",
       " '277-01': [['Ervin', 108, 'Goodland'],\n",
       "  ['Ervin', 603, 'Borwig'],\n",
       "  ['Ervin', 2265, 'Mccarron']],\n",
       " '277-02': [['Ervin, Quindarrius', 45, 'Proenza, Quindarrius']],\n",
       " '277-03': [['Quindarrius', 28, 'Quindarrius']],\n",
       " '277-04': [['Quin', 28, 'Quin']],\n",
       " '277-05': [['Quindarrius', 29, 'Quindarrius']],\n",
       " '278-02': [['Jasso, Stephen', 78, 'Grosskopf, Stephen']],\n",
       " '278-03': [['Jacobs', 121, 'Dencklau'],\n",
       "  ['Jacobs', 597, 'Grham'],\n",
       "  ['Jacobs', 1341, 'Stoetzel']],\n",
       " '278-04': [['Stephen Jasso', 76, 'Stephen Zogg']],\n",
       " '279-01': [['Hendrickson, Ora', 42, 'Ny, Ora'],\n",
       "  ['Hendrickson', 440, 'Bosques']],\n",
       " '279-03': [['Hendrickson, Ora', 66, 'Leap, Ora']],\n",
       " '280-01': [['ZASTROW, IRENE', 45, 'ARENOS, IRENE']],\n",
       " '280-02': [['ZASTROW, IRENE', 31, 'LINDERT, IRENE'],\n",
       "  ['Irene Zastrow', 1954, 'Irene Sarkis']],\n",
       " '280-03': [['ZASTROW, IRENE', 34, 'FESS, IRENE'],\n",
       "  ['Irene Zastrow', 188, 'Irene Strini'],\n",
       "  ['Irene Zastrow', 1698, 'Irene Croce']],\n",
       " '280-04': [['ZASTROW, IRENE', 81, 'TREMBLE, IRENE'],\n",
       "  ['Zastrow', 223, 'Becherer'],\n",
       "  ['Zastrow', 4127, 'Younger']],\n",
       " '281-01': [['Doty', 104, 'Zoroiwchak']],\n",
       " '281-02': [['Haden Doty', 238, 'Haden Gutekunst'], ['Haas', 3912, 'Haas']],\n",
       " '281-03': [['DOTY, Haden', 480, 'WALLETT, Haden']],\n",
       " '282-01': [['Peter Joshi', 151, 'Peter Ulrey'],\n",
       "  ['Peter Joshi', 239, 'Peter Mcelhinney'],\n",
       "  ['Joshi', 299, 'Roiger'],\n",
       "  ['Joshi', 1116, 'Meusel'],\n",
       "  ['Peter Joshi', 1720, 'Peter Verville'],\n",
       "  ['Joshi', 3011, 'Kurrie'],\n",
       "  ['Joshi', 3163, 'Babb'],\n",
       "  ['Joshi', 3440, 'Naddeo'],\n",
       "  ['Peter Joshi', 4237, 'Peter Dermer']],\n",
       " '282-02': [['Peter Joshi', 157, 'Peter Steelmon'],\n",
       "  ['Peter Joshi', 240, 'Peter Zevallos'],\n",
       "  ['Joshi', 495, 'Flanegan'],\n",
       "  ['Peter Joshi', 1686, 'Peter Clippard'],\n",
       "  ['Joshi', 1954, 'Hedglin']],\n",
       " '282-03': [['Peter Joshi', 151, 'Peter Massed'],\n",
       "  ['Peter Joshi', 231, 'Peter Spara'],\n",
       "  ['Patrick Joshi', 1769, 'Patrick Boys'],\n",
       "  ['Peter Joshi', 2001, 'Peter Birr']],\n",
       " '282-04': [['JOSHI, PETER', 133, 'BASHA, PETER'],\n",
       "  ['Peter Joshi', 400, 'Peter Corney'],\n",
       "  ['Joshi', 1786, 'Kittelson']],\n",
       " '283-01': [['HOLCOMB,DENNIS', 78, 'STEUBE,DENNIS']],\n",
       " '283-02': [['HOLCOMB, DENNIS', 34, 'DOWNARD, DENNIS'],\n",
       "  ['Dennis Holcomb', 106, 'Dennis Gregorio'],\n",
       "  ['Dennis', 1321, 'Dennis']],\n",
       " '283-03': [['HOLCOMB, DENNIS', 131, 'DAHN, DENNIS']],\n",
       " '283-04': [['Dennis Holcomb', 119, 'Dennis Romar']],\n",
       " '284-01': [['castro', 2026, 'hollie'],\n",
       "  ['alaniz', 2155, 'grundy'],\n",
       "  ['castro', 2224, 'alderete']],\n",
       " '284-02': [['Carpenter', 3184, 'Betesh']],\n",
       " '285-01': [['Michael Ogrady', 208, 'Michael Heir'],\n",
       "  ['Michael Ogrady', 314, 'Michael Hilde'],\n",
       "  ['Michael Ogrady', 2358, 'Michael Coughlan'],\n",
       "  ['Michael Ogrady', 4092, 'Michael \\n\\nKopczyk']],\n",
       " '285-02': [['OGRADY, MICHAEL', 113, 'NOLFE, MICHAEL'],\n",
       "  ['Ogrady', 301, 'Methven']],\n",
       " '285-03': [['OGRADY, MICHAEL', 45, 'SECREASE, MICHAEL'],\n",
       "  ['Ogrady', 128, 'Lasota']],\n",
       " '285-04': [['Ogrady', 74, 'Hafner'],\n",
       "  ['Ogrady', 517, 'Desposito'],\n",
       "  ['Eunice', 581, 'Eunice'],\n",
       "  ['Eunice', 629, 'Eunice'],\n",
       "  ['Urbach', 1306, 'Urbach'],\n",
       "  ['Ogrady', 1412, 'Buchite'],\n",
       "  ['Ogrady', 1845, 'Cobos'],\n",
       "  ['Ogrady', 2018, 'Altomari']],\n",
       " '285-05': [['OGRADY, MICHAEL', 45, 'MANISTA, MICHAEL']],\n",
       " '286-01': [['Esposito, Perla', 102, 'Keens, Perla'],\n",
       "  ['Esposito, Perla', 1842, 'Cutten, Perla']],\n",
       " '286-02': [['ESPOSITO,PERLA', 86, 'MEDIA,PERLA']],\n",
       " '286-03': [['Perla Esposito', 50, 'Perla Schirpke'],\n",
       "  ['Rhodes', 853, 'Vorpahl'],\n",
       "  ['Perla Esposito', 1888, 'Perla Krill']],\n",
       " '286-04': [['Esposito, Perla', 48, 'Stubbert, Perla']],\n",
       " '287-02': [['Xuereb', 225, 'Portland'], ['Xian', 4589, 'Wirt']],\n",
       " '287-03': [['Xuereb', 199, 'Ross'],\n",
       "  ['Xian', 3387, 'Nastasi'],\n",
       "  ['Xuereb', 4913, 'Weisenhorn']],\n",
       " '288-01': [['BIRD,TERRI', 80, 'GIP,TERRI']],\n",
       " '288-02': [['Bird, Terri', 112, 'Boning, Terri'],\n",
       "  ['Bird', 243, 'Butrick'],\n",
       "  ['Bird', 2311, 'Casis'],\n",
       "  ['Bird, Terri', 2485, 'Taylor, Terri']],\n",
       " '288-03': [['BIRD, TERRI', 112, 'DELLER, TERRI'],\n",
       "  ['Bird', 248, 'Beaureguard'],\n",
       "  ['Bird', 2631, 'Jacobsen'],\n",
       "  ['BIRD, TERRI', 2991, 'CHEVEZ, TERRI'],\n",
       "  ['Steven Bird', 3566, 'Steven Casady']],\n",
       " '288-04': [['Bird, Terri', 267, 'Zill, Terri'],\n",
       "  ['Terri Bird', 456, 'Terri Coreil'],\n",
       "  ['Bird, Terri', 2494, 'Boxell, Terri']],\n",
       " '288-05': [['Terri Bird', 122, 'Terri Blaser']],\n",
       " '289-01': [['Quijano', 157, 'Hensel'], ['Quijanno', 2250, 'Toolson']],\n",
       " '289-02': [['Quijano, Donny', 105, 'Urrey, Donny'], ['Quijano', 214, 'Croy']],\n",
       " '290-01': [['EHLERS, ULYSSES', 31, 'MORALAS, ULYSSES'],\n",
       "  ['Ehlers', 367, 'Evasco'],\n",
       "  ['Ehlers', 3016, 'Fenniwald']],\n",
       " '290-02': [['Ulysses Ehlers', 120, 'Ulysses Muncher'],\n",
       "  ['Ehlers', 206, 'Marcrum'],\n",
       "  ['Ehlers', 478, 'Erger']],\n",
       " '290-03': [['Ehlers, Ulysses', 100, 'Hilpert, Ulysses'],\n",
       "  ['Ehlers', 1324, 'Magnone']],\n",
       " '291-02': [['Frank Keatering', 64, 'Frank Tridle']],\n",
       " '291-03': [['Keating,Frank D', 94, 'Aumend,Frank D']],\n",
       " '291-04': [['KEATING,FRANK', 97, 'JIMEREZ,FRANK'],\n",
       "  ['Keating', 255, 'Heffner']],\n",
       " '291-05': [['Keating, Frank', 86, 'Blonigan, Frank']],\n",
       " '292-01': [['Nick Hall', 144, 'Nick Blend'], ['Hall', 6312, 'Mckines']],\n",
       " '292-02': [['HALL, NICK', 45, 'GASSEL, NICK']],\n",
       " '292-03': [['Nick Hall', 158, 'Nick Swett'], ['Hall', 6256, 'Protasewich']],\n",
       " '292-04': [['HALL, NICK', 34, 'MCNEILLY, NICK'],\n",
       "  ['Nick Hall', 183, 'Nick Giron'],\n",
       "  ['Nick', 3085, 'Nick'],\n",
       "  ['Nick', 4278, 'Nick'],\n",
       "  ['Nick', 6143, 'Nick']],\n",
       " '292-05': [['HALL, NICK', 10, 'ZEMJANIS, NICK'],\n",
       "  ['Nick', 192, 'Nick'],\n",
       "  ['Nick', 357, 'Nick'],\n",
       "  ['Nick', 970, 'Nick'],\n",
       "  ['Nick', 1804, 'Nick'],\n",
       "  ['Nick', 3043, 'Nick'],\n",
       "  ['Nick', 4376, 'Nick'],\n",
       "  ['Nick', 5238, 'Nick']],\n",
       " '293-01': [['QUINLEY,CORA', 85, 'BENTELE,CORA']],\n",
       " '293-02': [['Cora Quinley', 76, 'Cora Dandy']],\n",
       " '293-04': [['QUINLEY, CORA', 118, 'KASTL, CORA'],\n",
       "  ['Cora Quinley', 446, 'Cora Esquea'],\n",
       "  ['Quinley', 947, 'Stidam'],\n",
       "  ['Quinley', 1270, 'Heggood'],\n",
       "  ['Quinley', 2479, 'Hilyar'],\n",
       "  ['Quinley', 2578, 'Maresca'],\n",
       "  ['Quinley', 3078, 'Marcelino'],\n",
       "  ['Quinley', 3296, 'Brocklebank']],\n",
       " '294-01': [['Shepherd', 3043, 'Stonis'],\n",
       "  ['Ernestine', 6924, 'Ernestine'],\n",
       "  ['Teresa Berry', 6977, 'Teresa Dolhon']],\n",
       " '294-02': [['Shepherd', 199, 'Kantrowitz']],\n",
       " '294-03': [['SHEPHERD,AARON W', 43, 'URMOS,AARON W'],\n",
       "  ['Ernestine', 2373, 'Ernestine'],\n",
       "  ['Teresa Berry', 2426, 'Teresa Raschke']],\n",
       " '294-04': [['Ernestine', 3888, 'Ernestine'],\n",
       "  ['Teresa Berry', 3941, 'Teresa Counselman']],\n",
       " '295-01': [['Nathan Vieira', 65, 'Nathan Etherington']],\n",
       " '295-02': [['Vieira, Nathan', 81, 'Lemonier, Nathan']],\n",
       " '295-03': [['Vieira, Nathan', 81, 'Cornelious, Nathan'],\n",
       "  ['Nathan Vieira', 298, 'Nathan Herrarte'],\n",
       "  ['Vieira', 873, 'Ullery'],\n",
       "  ['Vieira', 3072, 'Romjue']],\n",
       " '295-04': [['Vieira, Nathan B.', 272, 'Ruffer, Nathan B.']],\n",
       " '295-05': [['Vieira, Nathan', 213, 'Meinerding, Nathan']],\n",
       " '296-02': [['Xayarath, Nancy', 119, 'Belongie, Nancy']],\n",
       " '296-03': [['Xayarath', 2857, 'Yantz'], ['Xayarath', 2990, 'Brandal']],\n",
       " '296-04': [['Xayarath, Nancy', 77, 'Tatsch, Nancy']],\n",
       " '296-05': [['Xayarath, Nancy', 278, 'Levay, Nancy'],\n",
       "  ['XAYARATH, KEEGAN', 500, 'BENTY, KEEGAN']],\n",
       " '297-01': [['Vicente, Kadeem', 121, 'Caleb, Kadeem'],\n",
       "  ['Kadeem Vicente', 258, 'Kadeem Welcome'],\n",
       "  ['Vicente, Kadeem', 3283, 'Perret, Kadeem']],\n",
       " '297-02': [['Vicente, Kadeem', 121, 'Hoelscher, Kadeem'],\n",
       "  ['Kadeem Vicente', 259, 'Kadeem Provenzo'],\n",
       "  ['Vicente, Kadeem', 3072, 'Sardina, Kadeem']],\n",
       " '297-03': [['Vicente, Kadeem', 130, 'Haydal, Kadeem'],\n",
       "  ['Vicente', 278, 'Mensi']],\n",
       " '297-04': [['Vicente, Kadeem F.', 173, 'Szynkowicz, Kadeem F.'],\n",
       "  ['Vicente', 263, 'Madhavan'],\n",
       "  ['Vicente, Kadeem F.', 2450, 'Barkdull, Kadeem F.'],\n",
       "  ['Vicente', 3407, 'Floriano']],\n",
       " '297-05': [['VICENTE,KADEEM FRANCIS', 82, 'GIVIDEN,KADEEM FRANCIS']],\n",
       " '298-01': [['FREDERICK JEFFERSON', 28, 'FREDERICK BOYETT']],\n",
       " '298-02': [['FREDERICK JEFFERSON', 28, 'FREDERICK RUCINSKI']],\n",
       " '299-01': [['VUONG,XOCHILT R', 81, 'BOHLING,XOCHILT R']],\n",
       " '299-04': [['Xochilt Vuong', 41, 'Xochilt Wig'],\n",
       "  ['Xochilt Vuong', 94, 'Xochilt Keizer'],\n",
       "  ['Vuong', 239, 'Guffanti']],\n",
       " '300-03': [['Wood,Cade', 62, 'Somrak,Cade'],\n",
       "  ['Wood', 185, 'Zeck'],\n",
       "  ['Wood', 288, 'Berlanga'],\n",
       "  ['Wood', 8610, 'Donelly']],\n",
       " '300-04': [['Wood, Cade', 87, 'Jacquez, Cade'],\n",
       "  ['WOOD, CADE H', 5926, 'OCKMOND, CADE H']],\n",
       " '300-05': [['CADE WOOD', 157, 'CADE  UNDERWOOD'],\n",
       "  ['WOOD, CADE', 250, 'MCCAA, CADE']],\n",
       " '301-01': [['Bobbie Albert', 41, 'Bobbie Barrett'],\n",
       "  ['Albert', 123, 'Midget'],\n",
       "  ['Albert', 2612, 'Melber'],\n",
       "  ['Bobbie', 2906, 'Bobbie'],\n",
       "  ['Bobbie', 3234, 'Bobbie']],\n",
       " '301-03': [['Albert, Bobbie', 64, 'Sumida, Bobbie']],\n",
       " '301-04': [['Bobbie Albert', 270, 'Bobbie Hauffe'],\n",
       "  ['Albert', 532, 'Mozgala']],\n",
       " '301-05': [['Albert, Bobbie', 67, 'Kitzmiller, Bobbie']],\n",
       " '302-01': [['Rhodes, Yajaira', 117, 'Dubiel, Yajaira']],\n",
       " '302-02': [['Rhodes, Yajaira', 117, 'Mullenaux, Yajaira']],\n",
       " '302-03': [['Rhodes, Yajaira', 117, 'Bolk, Yajaira']],\n",
       " '302-04': [['RHODES, YAJAIRA', 116, 'GRUNDMANN, YAJAIRA']],\n",
       " '303-02': [['LINDSAY, Anastasha', 132, 'VORHEES, Anastasha'],\n",
       "  ['Lindsay', 220, 'Tutwiler'],\n",
       "  ['Lindsay', 482, 'Yarger'],\n",
       "  ['Lindsay', 2320, 'Miss'],\n",
       "  ['Lindsay', 3116, 'Gladysz']],\n",
       " '303-03': [['Lindsay', 75, 'Bringantino'], ['Anastasha', 84, 'Anastasha']],\n",
       " '303-04': [['Lindsay, Anastasha', 102, 'Swander, Anastasha'],\n",
       "  ['Lindsay', 397, 'Salamon']],\n",
       " '304-01': [['Goins, Jacob', 84, 'Hunson, Jacob']],\n",
       " '304-03': [['Goins', 167, 'Isaacs'],\n",
       "  ['Goins', 270, 'Nyseth'],\n",
       "  ['Goins', 6150, 'Stockel']],\n",
       " '304-05': [['Jacob Goins', 64, 'Jacob Pruse']],\n",
       " '305-01': [['ROBISON,NEIL', 97, 'GLEICHWEIT,NEIL'],\n",
       "  ['Robison', 223, 'Gilruth']],\n",
       " '305-02': [['Neil Robison', 169, 'Neil Kaffka'], ['Robison', 228, 'Pugel']],\n",
       " '305-04': [['ROBISON, NEIL', 83, 'RAIOLA, NEIL'], ['Neil', 223, 'Neil']],\n",
       " '306-01': [['Travis, Peggy', 111, 'Keys, Peggy'], ['Peggy', 437, 'Peggy']],\n",
       " '306-02': [['Amelia Travis', 89, 'Amelia Kilmister'],\n",
       "  ['Amelia Travis', 1471, 'Amelia Grageda']],\n",
       " '306-04': [['TRAVIS, PEGGY', 93, 'TOFT, PEGGY']],\n",
       " '307-01': [['Kimbrough, Amelia', 45, 'Freeze, Amelia']],\n",
       " '307-02': [['KIMBROUGH, AMELIA', 45, 'JENKINS, AMELIA']],\n",
       " '307-03': [['KIMBROUGH, AMELIA', 45, 'GEISS, AMELIA'],\n",
       "  ['Kimbrough', 296, 'Shelhamer']],\n",
       " '307-04': [['KIMBROUGH, AMELIA', 45, 'BENSBERG, AMELIA']],\n",
       " '307-05': [['KIMBROUGH, AMELIA', 91, 'MACPARTLAND, AMELIA']],\n",
       " '308-01': [['Mills', 28, 'Pickman'],\n",
       "  ['Urquiza', 47, 'Mingo'],\n",
       "  ['Mills', 345, 'Bio'],\n",
       "  ['Mills', 1314, 'Ried']],\n",
       " '308-02': [['Urquiza', 1236, 'Blair'], ['Urquiza', 2090, 'Mautone']],\n",
       " '308-03': [['Percy Carrillo', 96, 'Percy Nibbs']],\n",
       " '308-04': [['Carrillo, Percy', 98, 'Hollifield, Percy'],\n",
       "  ['Urquiza', 2507, 'Lafrancois']],\n",
       " '309-01': [['Wilson, Gabriel', 38, 'Schaar, Gabriel']],\n",
       " '309-02': [['Wilson, Gabriel', 37, 'Soren, Gabriel']],\n",
       " '309-03': [['Wilson, Gabriel', 38, 'Gerkin, Gabriel'],\n",
       "  ['Gabriel Wilson', 104, 'Gabriel Wahr']],\n",
       " '309-04': [['Wilson, Gabriel', 43, 'Marazas, Gabriel'],\n",
       "  ['Griggs', 411, 'Griggs']],\n",
       " '309-05': [['WILSON, GABRIEL', 58, 'DEELY, GABRIEL'],\n",
       "  ['Gibbs', 297, 'Gibbs'],\n",
       "  ['Gibbs', 781, 'Gibbs']],\n",
       " '320-01': [['Louise Iles', 32, 'Louise Ala']],\n",
       " '320-03': [['Iles', 149, 'Hokett']],\n",
       " '320-04': [['Iles', 846, 'Blassingame'],\n",
       "  ['Iles', 3105, 'Marrs'],\n",
       "  ['Iles', 3295, 'Lantzy']],\n",
       " '321-01': [['JOINER,CAITLIN', 97, 'CRAINE,CAITLIN']],\n",
       " '321-03': [['JOINER,CAITLIN', 97, 'BLACHE,CAITLIN']],\n",
       " '321-04': [['Joiner, Caitlin', 96, 'Rhody, Caitlin']],\n",
       " '322-02': [['VAUGHN, FRANK', 45, 'MACBEAN, FRANK']],\n",
       " '322-03': [['VAUGHN, FRANK', 79, 'GALVIS, FRANK']],\n",
       " '322-04': [['Vaughn, Frank R', 75, 'Simao, Frank R'],\n",
       "  ['Haley Vaughn', 204, 'Haley Liccione'],\n",
       "  ['Vaughn', 948, 'Acimovic'],\n",
       "  ['Haley Vaughn', 4593, 'Haley Cerminaro']],\n",
       " '322-05': [['Vaughn, Frank', 87, 'Raczkowski, Frank'],\n",
       "  ['Vaughn', 179, 'Clause']],\n",
       " '323-01': [['Xian, Brooklyn', 113, 'Kuczenski, Brooklyn']],\n",
       " '323-03': [['Xian, Brooklyn', 45, 'Candelario, Brooklyn']],\n",
       " '323-04': [['XIAN, BROOKLYN', 44, 'KUNIS, BROOKLYN'], ['Xian', 257, 'Kuhns']],\n",
       " '323-05': [['XIAN, BROOKLYN', 120, 'PLANTY, BROOKLYN']],\n",
       " '324-01': [['RUTLEDGE,XAVIER W', 81, 'ESWORTHY,XAVIER W']],\n",
       " '324-02': [['RUTLEDGE,XAVIER W', 81, 'MARGOLIES,XAVIER W']],\n",
       " '324-03': [['RUTLEDGE,XAVIER W', 83, 'LAFERNEY,XAVIER W']],\n",
       " '324-04': [['Rutledge, Xavier', 45, 'Cecala, Xavier']],\n",
       " '324-05': [['Xavier Rutledge', 83, 'Xavier Mclagan']],\n",
       " '325-02': [['IVORY, LORI', 28, 'WINNING, LORI']],\n",
       " '325-03': [['IVORY, LORI O', 91, 'GAMMAGE, LORI O']],\n",
       " '325-04': [['Ivory, Lori', 75, 'Kresal, Lori']],\n",
       " '325-05': [['Lori', 2585, 'Lori']],\n",
       " '326-01': [['IORIO, Olivia', 28, 'MITCHUSSON, Olivia']],\n",
       " '326-02': [['IORIO, OLIVIA L', 2054, 'MERRIFIELD, OLIVIA L']],\n",
       " '326-03': [['IORIO, OLIVIA L', 61, 'LOCKHART, OLIVIA L']],\n",
       " '326-05': [['Iorio', 29, 'Leef']],\n",
       " '327-01': [['HOOPER, PABLO', 120, 'THERO, PABLO']],\n",
       " '327-02': [['Hooper', 69, 'Pereyra']],\n",
       " '327-03': [['Hooper', 56, 'Marsolek']],\n",
       " '327-04': [['Hooper', 2031, 'Loan']],\n",
       " '328-01': [['Carlson, Rebecca', 75, 'Ruggle, Rebecca'],\n",
       "  ['Kurtis Carlson', 249, 'Kurtis Correiro']],\n",
       " '328-02': [['Carleson, Rebecca', 72, 'Wheatley, Rebecca'],\n",
       "  ['Kurtis Carlson', 215, 'Kurtis Fialho'],\n",
       "  ['Carleson', 343, 'Taran']],\n",
       " '328-03': [['Rebecca Carlson', 74, 'Rebecca Gustison']],\n",
       " '328-04': [['Carlson, Rebecca', 61, 'Hasbrouck, Rebecca'],\n",
       "  ['Carlson', 227, 'Ronayne']],\n",
       " '329-01': [['JACKS, YASSEEN', 257, 'CANTRES, YASSEEN']],\n",
       " '329-02': [['JACKS, Yasseen', 78, 'STOEBNER, Yasseen'],\n",
       "  ['Ursula', 296, 'Ursula'],\n",
       "  ['Jacks', 369, 'Lillich']],\n",
       " '329-03': [['ursula', 1900, 'ursula']],\n",
       " '329-04': [['Yasseen Jacks', 115, 'Yasseen Poynton'],\n",
       "  ['Ursula Jacks', 254, 'Ursula Aguino'],\n",
       "  ['Jacks', 308, 'Gallucci'],\n",
       "  ['Ursula Jacks', 536, 'Ursula Happer'],\n",
       "  ['Ursula', 3041, 'Ursula'],\n",
       "  ['Jacks', 6614, 'Kleindienst'],\n",
       "  ['Ursula Jacks', 8359, 'Ursula Lorimer']],\n",
       " '330-01': [['VIGIL, ANTHONY', 31, 'MILLIER, ANTHONY']],\n",
       " '330-03': [['VIGIL, ANTHONY', 31, 'BERGENE, ANTHONY']],\n",
       " '330-04': [['VIGIL, ANTHONY', 34, 'CANTELL, ANTHONY'],\n",
       "  ['Anthony Vigil', 189, 'Anthony Minch']],\n",
       " '331-01': [['Sparks', 32, 'Kyte']],\n",
       " '331-02': [['Sparks', 32, 'Whitlow']],\n",
       " '331-03': [['SPARKS, CHARLES', 45, 'BOSWELL, CHARLES']],\n",
       " '331-05': [['Sparks', 235, 'Gembe'],\n",
       "  ['Sparks', 663, 'Desko'],\n",
       "  ['Sparks', 5022, 'Nagindas']],\n",
       " '332-03': [['ALAINA ROJAS', 164, 'ALAINA  FROEHLE']],\n",
       " '332-05': [['Rojas, Alaina', 305, 'Carmean, Alaina'],\n",
       "  ['Claire Ortega', 409, 'Claire Cabada'],\n",
       "  ['Rojas', 633, 'Knack']],\n",
       " '333-01': [['Edgar, Veda', 329, 'Sopher, Veda']],\n",
       " '333-02': [['Edgar, Veda', 328, 'Pegram, Veda']],\n",
       " '333-03': [['Veda Edgar', 166, 'Veda Jurgens'],\n",
       "  ['Edgar', 409, 'Eichele'],\n",
       "  ['Xiang', 12372, 'Xiang'],\n",
       "  ['Xiang', 12736, 'Xiang'],\n",
       "  ['Edgar, Veda F', 12911, 'Ballentine, Veda F']],\n",
       " '333-04': [['Veda Edgar', 78, 'Veda Peiffer'], ['Edgar', 287, 'Medlen']],\n",
       " '334-01': [['Jain, Oliver', 246, 'Schmeeckle, Oliver']],\n",
       " '334-02': [['Oliver Jain', 161, 'Oliver Bellrichard'],\n",
       "  ['Oliver Jain', 277, 'Oliver Khaleck'],\n",
       "  ['Jain', 307, 'Teoh']],\n",
       " '334-03': [['Jain, Oliver', 78, 'Ambrose, Oliver'], ['Jain', 255, 'Krolick']],\n",
       " '334-04': [['Jain, Oliver', 101, 'Phou, Oliver'],\n",
       "  ['Jain', 325, 'Norat'],\n",
       "  ['JAIN, OLIVER', 3450, 'YEAH, OLIVER']],\n",
       " '335-01': [['Dalila Haynes', 66, 'Dalila Dubord'],\n",
       "  ['Haynes', 225, 'Keehner'],\n",
       "  ['Haynes', 662, 'Em'],\n",
       "  ['Haynes', 4431, 'Prophit'],\n",
       "  ['Haynes', 5364, 'Aderholt']],\n",
       " '335-02': [['Dalila Haynes', 150, 'Dalila Vondra'],\n",
       "  ['Dalila Haynes', 208, 'Dalila Zapalac']],\n",
       " '335-03': [['Dalila Haynes', 81, 'Dalila Goel'],\n",
       "  ['Inez Haynes', 554, 'Inez Kingdom'],\n",
       "  ['Beltran', 3919, 'Schuneman']],\n",
       " '335-04': [['HAYNES, DALILA', 132, 'BATZLI, DALILA'],\n",
       "  ['Haynes', 205, 'Mooers']],\n",
       " '336-01': [['RAY, PATRICIA', 45, 'LIDGE, PATRICIA']],\n",
       " '336-02': [['RAY, PATRICIA', 112, 'BERNADETTE, PATRICIA']],\n",
       " '336-04': [['Ray, Patricia L', 81, 'Kualii, Patricia L']],\n",
       " '337-01': [['Betty Gillis', 60, 'Betty Kimmey']],\n",
       " '337-02': [['GILLIS, BETTY', 32, 'DECIUS, BETTY'],\n",
       "  ['Betty Gillis', 147, 'Betty Haist'],\n",
       "  ['Betty Gillis', 223, 'Betty Capaldi'],\n",
       "  ['Betty Gillis', 3333, 'Betty Vandesteeg'],\n",
       "  ['Betty Gillis', 5066, 'Betty Dubord']],\n",
       " '337-03': [['GILLIS, BETTY', 45, 'CRAFTS, BETTY']],\n",
       " '337-04': [['Gillis, Betty', 125, 'Motz, Betty']],\n",
       " '337-05': [['Gillis, Betty', 92, 'Leavengood, Betty']],\n",
       " '338-01': [['Holden, Matias', 111, 'Banker, Matias']],\n",
       " '338-02': [['Golden, Matias', 117, 'Plainy, Matias']],\n",
       " '338-03': [['HOLDEN,MATIAS', 97, 'PERRIOTT,MATIAS']],\n",
       " '338-04': [['HOLDEN, MATIAS', 45, 'TWINAM, MATIAS']],\n",
       " '338-05': [['HOLDEN,MATIAS', 97, 'PRATTS,MATIAS']],\n",
       " '339-03': [['Vanessa Asher', 113, 'Vanessa Betances']],\n",
       " '339-04': [['Asher,Vanessa', 73, 'Partman,Vanessa'],\n",
       "  ['ASHER, VANESSA J', 2190, 'HOLZNECHT, VANESSA J'],\n",
       "  ['ASHER, VANESSA J', 3894, 'STEIER, VANESSA J']],\n",
       " '350-01': [['Doss, Ruth', 63, 'Harm, Ruth'],\n",
       "  ['DOSS, RUTH', 2441, 'CRITZ, RUTH']],\n",
       " '350-02': [['Ruath Doss', 297, 'Ruath Rhodehamel'],\n",
       "  ['Ruath Doss', 453, 'Ruath Guirand'],\n",
       "  ['Doss', 1119, 'Paparo'],\n",
       "  ['Doss', 1832, 'Gapinski'],\n",
       "  ['Doss', 5528, 'Ratchford'],\n",
       "  ['Doss', 5650, 'Peele']],\n",
       " '350-03': [['DOSS, RUATH', 45, 'HUCKINS, RUATH']],\n",
       " '350-04': [['Ruath Doss', 305, 'Ruath Hoon'],\n",
       "  ['Ruath Doss', 459, 'Ruath Jandron'],\n",
       "  ['Doss', 1346, 'Chatters'],\n",
       "  ['Doss', 5110, 'Balcorta']],\n",
       " '351-01': [['GLENN, OLIVIA', 116, 'POAGUE, OLIVIA']],\n",
       " '351-02': [['GLENN, OLIVIA', 116, 'MELANCON, OLIVIA']],\n",
       " '351-03': [['Glenn, Olivia', 45, 'Mocher, Olivia']],\n",
       " '351-04': [['GLENN, OLIVIA', 45, 'ARCURI, OLIVIA']],\n",
       " '352-01': [['RILEY,MARY', 80, 'LENARD,MARY']],\n",
       " '352-02': [['RILEY, MARY', 45, 'GALLESE, MARY']],\n",
       " '352-03': [['Riley', 77, 'Captain'],\n",
       "  ['Riley', 1807, 'Eilbeck'],\n",
       "  ['Riley', 2256, 'Dage']],\n",
       " '352-04': [['Riley', 62, 'Jarnigan'],\n",
       "  ['Riley', 1667, 'Wakeling'],\n",
       "  ['Riley', 2299, 'Creamer']],\n",
       " '353-01': [['Larry Lockwood', 79, 'Larry Pretzel']],\n",
       " '353-04': [['Larry Lockwood', 188, 'Larry Adebisi'],\n",
       "  ['Lockwood', 227, 'Gustison'],\n",
       "  ['Lockwood', 1531, 'Vining'],\n",
       "  ['Lockwood', 2363, 'Grasmuck']],\n",
       " '354-01': [['FAY, BROOK', 45, 'BANEK, BROOK']],\n",
       " '354-03': [['Fay, Brook', 70, 'Humber, Brook'],\n",
       "  ['Fay', 192, 'Faulks'],\n",
       "  ['Fay', 1165, 'Capone']],\n",
       " '354-04': [['FAY,BROOK', 97, 'BESSIRE,BROOK'], ['Fay', 240, 'Emert']],\n",
       " '355-01': [['DALEY,WADE', 87, 'CHIV,WADE']],\n",
       " '355-02': [['DALEY,WADE', 97, 'GISCOMBE,WADE']],\n",
       " '355-03': [['Wade Daley', 96, 'Wade Kimbriel']],\n",
       " '355-04': [['Dalley, Wade', 80, 'Hillanbrand, Wade']],\n",
       " '356-01': [['ISHIDA, NATHAN', 93, 'SCRAPE, NATHAN']],\n",
       " '356-02': [['Ishida, Nathan', 48, 'Setliff, Nathan']],\n",
       " '356-03': [['Ishida, Nathan', 259, 'Deandrade, Nathan'],\n",
       "  ['ISHIDA, NATHAN F', 2717, 'BLOSCHICHAK, NATHAN F'],\n",
       "  ['ISHIDA, NATHAN F', 3429, 'GOMPF, NATHAN F'],\n",
       "  ['ISHIDA, NATHAN F', 4241, 'SELIBA, NATHAN F'],\n",
       "  ['ISHIDA, NATHAN F', 4687, 'CAHELA, NATHAN F'],\n",
       "  ['ISHIDA, NATHAN F', 4930, 'ROBINSONS, NATHAN F'],\n",
       "  ['ISHIDA, NATHAN F', 6714, 'DOLINSKY, NATHAN F']],\n",
       " '356-04': [['Nathan Ishida', 65, 'Nathan Rosella'],\n",
       "  ['Alice Zacharias', 178, 'Alice Axthelm'],\n",
       "  ['Ishida', 323, 'Krasley'],\n",
       "  ['Ishida', 948, 'Landreville'],\n",
       "  ['Ishida', 1226, 'Spinosa'],\n",
       "  ['Ishida', 1491, 'Vansickle'],\n",
       "  ['Ishida', 1621, 'Fleurent'],\n",
       "  ['Ishida', 3989, 'Heit'],\n",
       "  ['Ishida', 4192, 'Dilda'],\n",
       "  ['Ishida', 4423, 'Sielaff'],\n",
       "  ['Ishida', 4926, 'Toppen'],\n",
       "  ['Ishida', 7719, 'Stremcha'],\n",
       "  ['Ishida', 7824, 'Rusteberg'],\n",
       "  ['Ishida', 8273, 'Bowlen'],\n",
       "  ['Ishida', 8634, 'Ormsbee'],\n",
       "  ['Ishida', 9105, 'Mcbrayer'],\n",
       "  ['Ishida', 9313, 'Benwell']],\n",
       " '357-01': [['MASSEY,RAMONA', 80, 'MADLUNG,RAMONA']],\n",
       " '357-02': [['Massey, Ramona', 45, 'Topper, Ramona']],\n",
       " '357-04': [['Massey, Ramona', 93, 'Jaekel, Ramona']],\n",
       " '357-05': [['Grace', 2454, 'Grace'], ['Grace Qiu', 6072, 'Grace Schelling']],\n",
       " '358-01': [['GREENWOOD, NORA', 86, 'VANDELLEN, NORA'],\n",
       "  ['Greenwood', 256, 'Pitta']],\n",
       " '358-02': [['Nora Greenwood', 52, 'Nora Reynaud'],\n",
       "  ['Nora', 472, 'Nora'],\n",
       "  ['Nora', 1432, 'Nora'],\n",
       "  ['nora', 1557, 'nora'],\n",
       "  ['Nora', 2151, 'Nora'],\n",
       "  ['nora', 2657, 'nora'],\n",
       "  ['Nora', 4698, 'Nora'],\n",
       "  ['Nora', 5773, 'Nora'],\n",
       "  ['Nora', 6332, 'Nora'],\n",
       "  ['Nora', 6568, 'Nora']],\n",
       " '358-03': [['Nora Greenwood', 50, 'Nora Smugala'],\n",
       "  ['Nora', 899, 'Nora'],\n",
       "  ['Nora', 1372, 'Nora'],\n",
       "  ['Nora', 1659, 'Nora'],\n",
       "  ['Nora', 2119, 'Nora'],\n",
       "  ['Nora', 4787, 'Nora'],\n",
       "  ['Nora', 4921, 'Nora'],\n",
       "  ['Nora', 5350, 'Nora'],\n",
       "  ['nora', 5495, 'nora'],\n",
       "  ['Nora', 5650, 'Nora'],\n",
       "  ['Nora', 6047, 'Nora'],\n",
       "  ['Nora', 6345, 'Nora'],\n",
       "  ['Nora', 6876, 'Nora'],\n",
       "  ['Nora', 6960, 'Nora'],\n",
       "  ['Nora', 7145, 'Nora'],\n",
       "  ['Nora', 7474, 'Nora'],\n",
       "  ['Nora', 7631, 'Nora'],\n",
       "  ['Nora', 7844, 'Nora'],\n",
       "  ['Nora', 8969, 'Nora'],\n",
       "  ['Nora', 9093, 'Nora'],\n",
       "  ['Nora', 9625, 'Nora'],\n",
       "  ['Nora', 9795, 'Nora'],\n",
       "  ['Nora', 10002, 'Nora'],\n",
       "  ['Nora', 10547, 'Nora'],\n",
       "  ['Nora', 10763, 'Nora']],\n",
       " '358-04': [['Greenwood', 33, 'Maciejko']],\n",
       " '360-01': [['Xander Geiger', 142, 'Xander Stasny']],\n",
       " '360-02': [['Geiger, Xian', 118, 'Sobenes, Xian'],\n",
       "  ['Geiger', 248, 'Ficklen'],\n",
       "  [\"Geiger's\", 407, \"Gracia's\"],\n",
       "  [\"Geiger's\", 888, \"Lauby's\"],\n",
       "  [\"Geiger's\", 1027, \"Lefaver's\"],\n",
       "  ['Geiger', 1249, 'Cuffee'],\n",
       "  [\"Geiger's\", 1994, \"Cervantes's\"],\n",
       "  ['Geiger, Xian', 2713, 'Kunst, Xian']],\n",
       " '360-03': [['Geiger, Xander', 117, 'Sood, Xander'],\n",
       "  ['Geiger', 172, 'Vandorien'],\n",
       "  ['Geiger', 1032, 'Beacom']],\n",
       " '360-04': [['GEIGER, XANDER', 75, 'NAZARIO, XANDER']],\n",
       " '361-02': [['JAY, COREY', 45, 'SNOWDEN, COREY']],\n",
       " '361-04': [['Jay, Corey', 40, 'Peppas, Corey'],\n",
       "  ['Jay', 139, 'Geesaman'],\n",
       "  ['Jay', 270, 'Mihara'],\n",
       "  ['Jay', 7093, 'Sandlan']],\n",
       " '362-01': [['DIETZ,SUSIE', 79, 'MERKEY,SUSIE']],\n",
       " '362-02': [['DIETZ,SUSIE', 81, 'SHARK,SUSIE']],\n",
       " '362-03': [['Susie DIETZ', 57, 'Susie HOLTZCLAW']],\n",
       " '362-04': [['DIETZ, SUSIE', 92, 'WELNER, SUSIE'], ['Dietz', 241, 'Monsanto']],\n",
       " '363-01': [['Bennett, Nancy', 45, 'Merila, Nancy']],\n",
       " '363-02': [['Nancy', 48, 'Nancy']],\n",
       " '363-03': [['Nancy', 28, 'Nancy']],\n",
       " '363-04': [['BENNETT, NANCY', 43, 'CAVIN, NANCY']],\n",
       " '364-01': [['Uribe, Walter', 116, 'Struble, Walter'],\n",
       "  ['URIBE, WALTER F', 2642, 'PENNY, WALTER F'],\n",
       "  ['URIBE, WALTER F', 4112, 'CHAPPIE, WALTER F']],\n",
       " '364-02': [['Uribe, Walter', 82, 'Woodert, Walter']],\n",
       " '364-03': [['Walter Uribe', 197, 'Walter Prum'], ['Uribe', 5922, 'Shipp']],\n",
       " '364-04': [['Walter Uribe', 91, 'Walter Bhandari'],\n",
       "  ['Uribe', 291, 'Messick'],\n",
       "  ['Uribe', 5551, 'Brunfield']],\n",
       " '365-01': [['RIVERS,KARSTEN', 78, 'TORAN,KARSTEN']],\n",
       " '365-02': [['Rivers, Karsten', 152, 'Drumgole, Karsten']],\n",
       " '365-03': [['RIVERS, KARSTEN', 31, 'STEISKAL, KARSTEN'],\n",
       "  ['Karsten Rivers', 127, 'Karsten Kuhlmann'],\n",
       "  ['Rivers', 858, 'Serfoss'],\n",
       "  ['Rivers', 3756, 'Zdanowicz']],\n",
       " '365-05': [['Rivers, Karsten', 78, 'Busenbark, Karsten']],\n",
       " '366-01': [['FERRARA,LAUREN', 78, 'YARRELL,LAUREN']],\n",
       " '366-02': [['Lauren Ferrara', 150, 'Lauren Secrest'],\n",
       "  ['Ferrara', 2078, 'Netherton']],\n",
       " '366-03': [['FERRARA, LAUREN', 34, 'VANEPPS, LAUREN'],\n",
       "  ['Ferrara', 110, 'Wideman'],\n",
       "  ['Ferrara', 1595, 'Prawl']],\n",
       " '366-04': [['FERRARA, LAUREN', 111, 'BEISSEL, LAUREN'],\n",
       "  ['Lauren', 213, 'Lauren']],\n",
       " '367-02': [['Louise Urquhart', 76, 'Louise Bennerson']],\n",
       " '368-01': [['Espinal, Sandra', 44, 'Berth, Sandra']],\n",
       " '368-03': [['Sandra Espinal', 65, 'Sandra Jurez']],\n",
       " '369-01': [['Owen', 47, 'Owen']],\n",
       " '369-02': [['QIN,OWEN', 97, 'DESBIENS,OWEN'], ['Owen', 237, 'Owen']],\n",
       " '369-03': [['Owen', 48, 'Owen']],\n",
       " '369-04': [['QIN, OWEN', 120, 'PORTAL, OWEN'],\n",
       "  ['Qin', 294, 'Pipe'],\n",
       "  ['Quevedo', 2366, 'Kanish']],\n",
       " '391-01': [['Ordonez, Yamilex', 193, 'Witt, Yamilex'],\n",
       "  ['Yamilex', 317, 'Yamilex'],\n",
       "  ['Ordonez', 416, 'Cajas'],\n",
       "  ['Ordonez', 663, 'Canner'],\n",
       "  ['Ordonez', 1047, 'Schaich'],\n",
       "  ['Yamilex', 1194, 'Yamilex'],\n",
       "  ['Ordonez', 2240, 'Baillio'],\n",
       "  ['Ordonez', 2473, 'Griffey'],\n",
       "  ['Ordonez', 2644, 'Pieratt'],\n",
       "  ['Ordonez', 2892, 'Mcconnel'],\n",
       "  ['Ordonez', 2977, 'Kottlowski'],\n",
       "  ['Ordonez', 3113, 'Pangrazio']],\n",
       " '391-02': [['Ordonez', 60, 'Poppo'],\n",
       "  ['Ordonez', 201, 'Awkard'],\n",
       "  ['Ordonez', 672, 'Kapichok'],\n",
       "  ['Ordonez', 894, 'Cristobal'],\n",
       "  ['Ordonez', 1361, 'Hosman'],\n",
       "  ['Ordonez', 1497, 'Tom'],\n",
       "  ['Ordonez', 1745, 'Borza'],\n",
       "  ['Ordonez', 4793, 'Doseck'],\n",
       "  ['Ordonez', 5496, 'Pomares'],\n",
       "  ['Ordonez', 5731, 'Saleh'],\n",
       "  ['Ordonez', 5991, 'Pinkleton']],\n",
       " '391-03': [['Ordonez', 122, 'Waddick']],\n",
       " '391-04': [['ORDONEZ,YAMILEX', 97, 'RARANG,YAMILEX']],\n",
       " '392-03': [['Adair, Helen', 339, 'Scotton, Helen'],\n",
       "  ['ADAIR, HELEN V', 1533, 'SALEE, HELEN V']],\n",
       " '392-04': [['Adair, Helen', 87, 'Shaddox, Helen'],\n",
       "  ['Trudy', 2328, 'Trudy'],\n",
       "  ['ADAIR, HELEN', 5746, 'AKHTAR, HELEN']],\n",
       " '393-01': [['Frantz, Nicole', 59, 'Toves, Nicole']],\n",
       " '393-04': [['Nicole Frantz', 95, 'Nicole Hookfin']],\n",
       " '393-05': [['Nicole Frantz', 5873, 'Nicole Velo'],\n",
       "  ['Nicole Frantz', 6490, 'Nicole Rameriz']],\n",
       " '394-01': [['Villatoro', 4499, 'Juda']],\n",
       " '394-03': [['Franchesca Justice', 124, 'Franchesca Kalan'],\n",
       "  ['Franchesca', 5938, 'Franchesca']],\n",
       " '394-04': [['Victoria Justice', 66, 'Victoria Trippett']],\n",
       " '395-01': [['DO,TANYA V', 79, 'SCHWEDER,TANYA V']],\n",
       " '395-02': [['DO,TANYA V', 79, 'BOWMAN,TANYA V']],\n",
       " '395-03': [['Tanya Do', 123, 'Tanya Muphy'],\n",
       "  ['Tanya Do', 2070, 'Tanya Cronkhite']],\n",
       " '395-04': [['Do, Tanya', 68, 'Borgos, Tanya'],\n",
       "  ['Do', 740, 'Spigutz'],\n",
       "  ['Theresa Kraft', 9299, 'Theresa  Cannada']],\n",
       " '395-05': [['DO, TANYA V.', 42, 'BESSE, TANYA V.'],\n",
       "  ['Tanya V. Do', 124, 'Tanya V. Wilsey'],\n",
       "  ['Do', 972, 'Channer'],\n",
       "  ['Do', 4246, 'Strayham'],\n",
       "  ['Do', 5875, 'Huynh'],\n",
       "  ['Do', 7265, 'Reidler'],\n",
       "  ['Do', 7704, 'Bassage'],\n",
       "  ['Tanya V. Do', 8022, 'Tanya V. Chausse']],\n",
       " '396-01': [['AARON, JEAN', 45, 'PARFITT, JEAN']],\n",
       " '396-04': [['AARON, JEAN', 131, 'JULIUSSON, JEAN'],\n",
       "  ['Brendon Ambrose', 1699, 'Brendon Coldwell'],\n",
       "  ['Brendon Ambrose', 6624, 'Brendon Marolt']],\n",
       " '397-02': [['Joel Goldberg', 50, 'Joel Andreatta']],\n",
       " '397-03': [['GOLDBERG,JOEL', 97, 'LEDAY,JOEL']],\n",
       " '397-04': [['Goldberg, Joel', 88, 'Teator, Joel']],\n",
       " '398-01': [['Bryan', 32, 'Spruce']],\n",
       " '398-02': [['Bryan', 32, 'Hildman'], ['Bryan', 109, 'Angwin']],\n",
       " '398-03': [['Bryan, Archie', 73, 'Nobregas, Archie']],\n",
       " '398-04': [['Bryan, Archie', 57, 'Lujan, Archie']],\n",
       " '399-01': [['Nathan Rico', 71, 'Nathan Heibult']],\n",
       " '399-02': [['Rico', 1726, 'Fellinger'], ['Rico', 2036, 'Mcfaul']],\n",
       " '399-04': [['RICO, NATHAN C', 58, 'EKIS, NATHAN C'],\n",
       "  ['Nathan', 211, 'Nathan'],\n",
       "  ['Nathan', 388, 'Nathan'],\n",
       "  ['Nathan', 1513, 'Nathan'],\n",
       "  ['Tejeda', 3367, 'Vanriper'],\n",
       "  ['Nathan', 3939, 'Nathan'],\n",
       "  ['Nathan', 4671, 'Nathan'],\n",
       "  ['Nathan', 4817, 'Nathan'],\n",
       "  ['Nathan', 5116, 'Nathan'],\n",
       "  ['Nathan', 6303, 'Nathan'],\n",
       "  ['Nathan', 6520, 'Nathan']],\n",
       " '400-02': [['Ostrander, Pamela', 78, 'Radwanski, Pamela']],\n",
       " '400-05': [['Pamela Ostrander', 98, 'Pamela Cramm'],\n",
       "  ['Ostrander', 288, 'Clougher'],\n",
       "  ['Ostrander', 5436, 'Zeidan']]}"
      ]
     },
     "execution_count": 150,
     "metadata": {},
     "output_type": "execute_result"
    }
   ],
   "source": [
    "NDic02"
   ]
  },
  {
   "cell_type": "code",
   "execution_count": 148,
   "metadata": {},
   "outputs": [
    {
     "data": {
      "text/plain": [
       "[[['Ted', 'Ted'], ['Ted', 'Ted']], [['Ted', 'Ted'], ['Ted', 'Ted']]]"
      ]
     },
     "execution_count": 148,
     "metadata": {},
     "output_type": "execute_result"
    }
   ],
   "source": []
  },
  {
   "cell_type": "code",
   "execution_count": null,
   "metadata": {},
   "outputs": [],
   "source": []
  },
  {
   "cell_type": "code",
   "execution_count": null,
   "metadata": {},
   "outputs": [],
   "source": []
  },
  {
   "cell_type": "code",
   "execution_count": null,
   "metadata": {},
   "outputs": [],
   "source": []
  },
  {
   "cell_type": "code",
   "execution_count": null,
   "metadata": {},
   "outputs": [],
   "source": []
  },
  {
   "cell_type": "code",
   "execution_count": null,
   "metadata": {},
   "outputs": [],
   "source": []
  },
  {
   "cell_type": "code",
   "execution_count": 104,
   "metadata": {},
   "outputs": [
    {
     "name": "stdout",
     "output_type": "stream",
     "text": [
      "0\n",
      "0\n",
      "0\n",
      "1\n",
      "0\n",
      "0\n",
      "0\n",
      "0\n",
      "0\n",
      "0\n",
      "0\n",
      "0\n",
      "0\n",
      "0\n",
      "0\n",
      "0\n",
      "0\n",
      "0\n",
      "0\n",
      "0\n",
      "0\n",
      "0\n",
      "0\n",
      "0\n",
      "0\n",
      "0\n",
      "0\n",
      "0\n",
      "0\n",
      "0\n",
      "0\n",
      "0\n",
      "0\n",
      "0\n",
      "0\n",
      "0\n",
      "0\n",
      "0\n",
      "0\n",
      "0\n",
      "0\n",
      "0\n",
      "0\n",
      "0\n",
      "0\n",
      "0\n",
      "0\n",
      "0\n",
      "0\n",
      "0\n",
      "0\n",
      "0\n",
      "0\n",
      "0\n",
      "0\n",
      "0\n",
      "0\n",
      "0\n",
      "0\n",
      "0\n",
      "0\n",
      "0\n",
      "0\n",
      "0\n",
      "0\n",
      "0\n",
      "0\n",
      "0\n",
      "0\n",
      "0\n",
      "0\n",
      "0\n",
      "0\n",
      "0\n",
      "0\n",
      "0\n",
      "0\n",
      "0\n",
      "0\n",
      "0\n",
      "0\n",
      "0\n",
      "0\n",
      "0\n",
      "0\n",
      "0\n",
      "0\n",
      "0\n",
      "0\n",
      "0\n",
      "0\n",
      "0\n",
      "0\n",
      "0\n",
      "0\n",
      "0\n",
      "0\n",
      "0\n",
      "0\n",
      "0\n",
      "0\n",
      "0\n",
      "0\n",
      "0\n",
      "0\n",
      "0\n",
      "0\n",
      "0\n",
      "0\n",
      "0\n",
      "0\n",
      "0\n",
      "0\n",
      "0\n",
      "0\n",
      "0\n",
      "0\n",
      "0\n",
      "0\n",
      "0\n",
      "0\n",
      "0\n",
      "0\n",
      "0\n",
      "0\n",
      "0\n",
      "0\n",
      "0\n",
      "0\n",
      "0\n",
      "0\n",
      "0\n",
      "0\n",
      "0\n",
      "0\n",
      "0\n",
      "0\n",
      "0\n",
      "0\n",
      "0\n",
      "0\n",
      "0\n",
      "0\n",
      "0\n",
      "0\n",
      "0\n",
      "0\n",
      "0\n",
      "0\n",
      "0\n",
      "0\n",
      "0\n",
      "0\n",
      "0\n",
      "0\n",
      "0\n",
      "0\n",
      "0\n",
      "0\n",
      "0\n",
      "0\n",
      "0\n",
      "0\n",
      "0\n",
      "0\n",
      "0\n",
      "0\n",
      "0\n",
      "0\n"
     ]
    }
   ],
   "source": [
    "for i,Labels in enumerate(OxC00[:C00breaks[0]]):\n",
    "    msk = [(el==15) or (el==38) or (el==61) or (el==85) for el in Labels]\n",
    "    print(OxA00[i][msk].shape[0])"
   ]
  },
  {
   "cell_type": "code",
   "execution_count": 110,
   "metadata": {},
   "outputs": [],
   "source": [
    "x=[]\n",
    "for i in [0]:#,dic in enumerate(NDic00):\n",
    "    for i2,Labels in enumerate(OxC00[:C00breaks[i]]):\n",
    "        msk = [(el==15) or (el==38) or (el==61) or (el==85) for el in Labels]\n",
    "        x.append(OxA00[i2][msk].shape[0])"
   ]
  },
  {
   "cell_type": "code",
   "execution_count": 127,
   "metadata": {},
   "outputs": [
    {
     "name": "stdout",
     "output_type": "stream",
     "text": [
      "[['Younger, T Eugene', 66, 'Corrett, T Emory']]\n",
      "[['Ted', 320, 'Ted']]\n",
      "[['Ted', 156, 'Ted'], ['Ted', 1365, 'Ted'], ['Ted', 1599, 'Ted']]\n",
      "[['DUVALL,BRADY C', 76, 'TROJACEK,FRAN C']]\n",
      "[['DUVALL,BRADY C', 76, 'LOVINGS,REILLY C']]\n",
      "[['BRADY DUVALL', 206, 'PATTY INGEBRETSEN'], ['Brady Duvall', 291, 'Arvind Lagrotta'], ['BRADY DUVALL', 1335, 'KIMMO BURTELL']]\n",
      "[['Brady Duvall', 170, 'Lemmie Cubillo'], ['Brady Duvall', 234, 'Lockwood Griswell'], ['Brady Duvall', 1675, 'Agamemnon Commins'], ['Brady Duvall', 2090, 'Dunstan Montesa']]\n",
      "[['Adler, Imogene', 181, 'Ramil, Codie'], ['Imogene Adler', 291, 'Gloria Menchavez'], ['Adler', 368, 'Leich'], ['Adler, Imogene', 2013, 'Baculpo, Fannie']]\n",
      "[['Otto Qazi', 103, 'Tyler Majano']]\n",
      "[['Qazi', 97, 'Perey']]\n",
      "[['Qazi', 97, 'Munion']]\n",
      "[['Qazi', 97, 'Waker']]\n",
      "[['Christopher Powell', 1376, 'Roger Rockenbaugh'], ['Powell', 1432, 'Brazill']]\n",
      "[['Ellen Law', 55, 'Karly Gallentine'], ['Friedman', 2843, 'Berstein']]\n"
     ]
    }
   ],
   "source": [
    "for i in range(14):\n",
    "    print(Dic22[RealFilesNames[i][:-4]])"
   ]
  },
  {
   "cell_type": "code",
   "execution_count": 128,
   "metadata": {},
   "outputs": [
    {
     "data": {
      "text/plain": [
       "[['Brady Duvall', 170, 'Lemmie Cubillo'],\n",
       " ['Brady Duvall', 234, 'Lockwood Griswell'],\n",
       " ['Brady Duvall', 1675, 'Agamemnon Commins'],\n",
       " ['Brady Duvall', 2090, 'Dunstan Montesa']]"
      ]
     },
     "execution_count": 128,
     "metadata": {},
     "output_type": "execute_result"
    }
   ],
   "source": [
    "Dic22[RealFilesNames[6][:-4]]"
   ]
  },
  {
   "cell_type": "code",
   "execution_count": 79,
   "metadata": {},
   "outputs": [
    {
     "data": {
      "text/plain": [
       "9269"
      ]
     },
     "execution_count": 79,
     "metadata": {},
     "output_type": "execute_result"
    }
   ],
   "source": [
    "len(TokFil00[169])#.split(\"\\n\")"
   ]
  },
  {
   "cell_type": "code",
   "execution_count": 89,
   "metadata": {},
   "outputs": [],
   "source": [
    "TB00=findBreaks(TokFil00,7000)"
   ]
  },
  {
   "cell_type": "code",
   "execution_count": 90,
   "metadata": {},
   "outputs": [
    {
     "data": {
      "text/plain": [
       "(406, 406)"
      ]
     },
     "execution_count": 90,
     "metadata": {},
     "output_type": "execute_result"
    }
   ],
   "source": [
    "len(TB00),len(C00breaks)"
   ]
  },
  {
   "cell_type": "code",
   "execution_count": 93,
   "metadata": {},
   "outputs": [
    {
     "data": {
      "text/plain": [
       "True"
      ]
     },
     "execution_count": 93,
     "metadata": {},
     "output_type": "execute_result"
    }
   ],
   "source": [
    "TB00==C00breaks"
   ]
  },
  {
   "cell_type": "code",
   "execution_count": 111,
   "metadata": {},
   "outputs": [
    {
     "name": "stdout",
     "output_type": "stream",
     "text": [
      "406\n"
     ]
    }
   ],
   "source": [
    "TEST=0\n",
    "try:\n",
    "    for i,_ in enumerate(TokFil00):\n",
    "        if TokFil00[i].split()[1]!=TokFil00[i+1].split()[1]:\n",
    "            TEST=TEST+1\n",
    "except:\n",
    "    print(TEST+1)"
   ]
  },
  {
   "cell_type": "code",
   "execution_count": 168,
   "metadata": {},
   "outputs": [],
   "source": [
    "x=[]\n",
    "for i in [6]:#,dic in enumerate(NDic00):\n",
    "    for i2,Labels in enumerate(OxC00[C00breaks[i-1]+1:C00breaks[i]]):\n",
    "        msk = [(el==15) or (el==38) or (el==61) or (el==85) for el in Labels]\n",
    "        x.append(OxA00[C00breaks[i-1]+1+i2][msk].shape[0])"
   ]
  },
  {
   "cell_type": "code",
   "execution_count": 206,
   "metadata": {},
   "outputs": [],
   "source": [
    "\n",
    "#x*OxA00[C00breaks[i-1]+1:C00breaks[i]]"
   ]
  },
  {
   "cell_type": "code",
   "execution_count": 178,
   "metadata": {},
   "outputs": [
    {
     "data": {
      "text/plain": [
       "46"
      ]
     },
     "execution_count": 178,
     "metadata": {},
     "output_type": "execute_result"
    }
   ],
   "source": [
    "len(x)"
   ]
  },
  {
   "cell_type": "code",
   "execution_count": 248,
   "metadata": {},
   "outputs": [
    {
     "name": "stdout",
     "output_type": "stream",
     "text": [
      "19 [ 0  0  0  0  0  0  0  0  0  0  0  0 15 38  0  0  0  0  0  0  0  0  0  0\n",
      "  0  0]\n",
      "20 [ 0  0  0  0  0  0  0  0  0  0  0  0 15 38  0  0  0  0  0  0  0  0  0  0\n",
      "  0  0]\n",
      "21 [ 0  0 15 38  0  0  0]\n",
      "22 [ 0  0 15 38  0  0  0]\n",
      "23 [ 0  0 15 38]\n",
      "24 [ 0  0 15 38]\n",
      "25 [ 0 15 38  0  0  0  0  0  0  0]\n",
      "26 [ 0 15 38  0  0  0  0  0  0  0]\n"
     ]
    }
   ],
   "source": [
    "for i,tp00 in enumerate(TotProb00[:,1]):\n",
    "    if tp00>C00breaks[5] and tp00<C00breaks[6]:\n",
    "        print(i,np.array(OxC00[tp00])*np.array(TotProb00[i,2]))"
   ]
  },
  {
   "cell_type": "code",
   "execution_count": 282,
   "metadata": {},
   "outputs": [
    {
     "data": {
      "text/plain": [
       "[['Younger, T Eugene', 66, 'Corrett, T Emory']]"
      ]
     },
     "execution_count": 282,
     "metadata": {},
     "output_type": "execute_result"
    }
   ],
   "source": [
    "Dic22[RealFilesNames[0][:-4]]"
   ]
  },
  {
   "cell_type": "code",
   "execution_count": 270,
   "metadata": {},
   "outputs": [
    {
     "data": {
      "text/plain": [
       "array([3, 172, 224, 256, 258, 263, 263, 263, 263, 312, 312, 312, 312, 356,\n",
       "       356, 356, 356, 369, 369, 392, 392, 393, 393, 416, 416, 424, 424,\n",
       "       439, 439, 439], dtype=object)"
      ]
     },
     "execution_count": 270,
     "metadata": {},
     "output_type": "execute_result"
    }
   ],
   "source": [
    "TotProb00[:30,1]"
   ]
  },
  {
   "cell_type": "code",
   "execution_count": 273,
   "metadata": {},
   "outputs": [
    {
     "data": {
      "text/plain": [
       "array([3, 3, 3, 3, 172, 224, 256, 258, 263, 263, 263, 263, 312, 312, 312,\n",
       "       312, 355, 355, 356, 356, 392, 392, 394, 394, 417, 417, 425, 425,\n",
       "       440, 440], dtype=object)"
      ]
     },
     "execution_count": 273,
     "metadata": {},
     "output_type": "execute_result"
    }
   ],
   "source": [
    "TotProb22[:30,1]"
   ]
  },
  {
   "cell_type": "code",
   "execution_count": 272,
   "metadata": {},
   "outputs": [
    {
     "data": {
      "text/plain": [
       "(389, 436)"
      ]
     },
     "execution_count": 272,
     "metadata": {},
     "output_type": "execute_result"
    }
   ],
   "source": [
    "C00breaks[5],C00breaks[6]"
   ]
  },
  {
   "cell_type": "code",
   "execution_count": 276,
   "metadata": {},
   "outputs": [
    {
     "data": {
      "text/plain": [
       "['Corrett 221-01 66 73 O',\n",
       " ', 221-01 73 74 O',\n",
       " 'T 221-01 75 76 O',\n",
       " 'Emory 221-01 77 82 O',\n",
       " 'MR 221-01 84 86 O',\n",
       " '# 221-01 86 87 O']"
      ]
     },
     "execution_count": 276,
     "metadata": {},
     "output_type": "execute_result"
    }
   ],
   "source": [
    "TokFil22[3].split('\\n')"
   ]
  },
  {
   "cell_type": "code",
   "execution_count": 280,
   "metadata": {},
   "outputs": [
    {
     "data": {
      "text/plain": [
       "([15, 61, 61, 38, 69, 69], [69, 69, 69, 85])"
      ]
     },
     "execution_count": 280,
     "metadata": {},
     "output_type": "execute_result"
    }
   ],
   "source": [
    "OxC22[3],OxC00[3]"
   ]
  },
  {
   "cell_type": "code",
   "execution_count": 278,
   "metadata": {},
   "outputs": [
    {
     "data": {
      "text/plain": [
       "['Younger 221-01 66 73 O',\n",
       " ', 221-01 73 74 O',\n",
       " 'T 221-01 75 76 O',\n",
       " 'Eugene 221-01 77 83 O']"
      ]
     },
     "execution_count": 278,
     "metadata": {},
     "output_type": "execute_result"
    }
   ],
   "source": [
    "TokFil00[3].split('\\n')"
   ]
  },
  {
   "cell_type": "code",
   "execution_count": null,
   "metadata": {},
   "outputs": [],
   "source": [
    "TotProb00 = []\n",
    "for i,Labels in enumerate(OxC00):\n",
    "    msk = [(el==15) or (el==38) or (el==61) or (el==85) for el in Labels]\n",
    "    if((OxA00[i][msk]).shape[0]!=0):\n",
    "        for i2 in OxA00[i][msk]:\n",
    "            TotProb00.append([np.max(np.exp(i2))/np.sum(np.exp(i2)),i])"
   ]
  },
  {
   "cell_type": "code",
   "execution_count": 156,
   "metadata": {},
   "outputs": [
    {
     "data": {
      "text/plain": [
       "((12, 93), (1, 93))"
      ]
     },
     "execution_count": 156,
     "metadata": {},
     "output_type": "execute_result"
    }
   ],
   "source": [
    "OxA00[i2].shape,OxA00[1].shape,OxA00[1].shape"
   ]
  },
  {
   "cell_type": "markdown",
   "metadata": {},
   "source": [
    "# The following can use Pmsk as well but for the moment I have not used it to see how others like doctor changes things"
   ]
  },
  {
   "cell_type": "code",
   "execution_count": 175,
   "metadata": {},
   "outputs": [],
   "source": [
    "TotProb00 = []\n",
    "for i,Labels in enumerate(OxC00):\n",
    "    msk = [(el==15) or (el==38) or (el==61) or (el==85) for el in Labels]\n",
    "    if((OxA00[i][msk]).shape[0]!=0):\n",
    "        for i2 in OxA00[i][msk]:\n",
    "            TotProb00.append([np.max(np.exp(i2))/np.sum(np.exp(i2)),i])#,msk])"
   ]
  },
  {
   "cell_type": "code",
   "execution_count": 176,
   "metadata": {},
   "outputs": [],
   "source": [
    "TotProb01 = []\n",
    "for i,Labels in enumerate(OxC01):\n",
    "    msk = [(el==15) or (el==38) or (el==61) or (el==85) for el in Labels]\n",
    "    if((OxA01[i][msk]).shape[0]!=0):\n",
    "        for i2 in OxA01[i][msk]:\n",
    "            TotProb01.append([np.max(np.exp(i2))/np.sum(np.exp(i2)),i])"
   ]
  },
  {
   "cell_type": "code",
   "execution_count": 177,
   "metadata": {},
   "outputs": [],
   "source": [
    "TotProb02 = []\n",
    "for i,Labels in enumerate(OxC02):\n",
    "    msk = [(el==15) or (el==38) or (el==61) or (el==85) for el in Labels]\n",
    "    if((OxA02[i][msk]).shape[0]!=0):\n",
    "        for i2 in OxA02[i][msk]:\n",
    "            TotProb02.append([np.max(np.exp(i2))/np.sum(np.exp(i2)),i])"
   ]
  },
  {
   "cell_type": "code",
   "execution_count": 178,
   "metadata": {},
   "outputs": [],
   "source": [
    "TotProb11 = []\n",
    "for i,Labels in enumerate(OxC11):\n",
    "    msk = [(el==15) or (el==38) or (el==61) or (el==85) for el in Labels]\n",
    "    if((OxA11[i][msk]).shape[0]!=0):\n",
    "        for i2 in OxA11[i][msk]:\n",
    "            TotProb11.append([np.max(np.exp(i2))/np.sum(np.exp(i2)),i])"
   ]
  },
  {
   "cell_type": "code",
   "execution_count": 179,
   "metadata": {},
   "outputs": [],
   "source": [
    "TotProb22 = []\n",
    "for i,Labels in enumerate(OxC22):\n",
    "    msk = [(el==15) or (el==38) or (el==61) or (el==85) for el in Labels]\n",
    "    if((OxA22[i][msk]).shape[0]!=0):\n",
    "        for i2 in OxA22[i][msk]:\n",
    "            TotProb22.append([np.max(np.exp(i2))/np.sum(np.exp(i2)),i])"
   ]
  },
  {
   "cell_type": "code",
   "execution_count": 180,
   "metadata": {},
   "outputs": [],
   "source": [
    "TotProb00 = np.array(TotProb00)\n",
    "TotProb01 = np.array(TotProb01)\n",
    "TotProb02 = np.array(TotProb02)\n",
    "TotProb11 = np.array(TotProb11)\n",
    "TotProb22 = np.array(TotProb22)"
   ]
  },
  {
   "cell_type": "code",
   "execution_count": 27,
   "metadata": {},
   "outputs": [
    {
     "data": {
      "text/plain": [
       "(1652, 1610, 1606, 1592, 1534)"
      ]
     },
     "execution_count": 27,
     "metadata": {},
     "output_type": "execute_result"
    }
   ],
   "source": [
    "len(TotProb00),len(TotProb01),len(TotProb02),len(TotProb11),len(TotProb22)"
   ]
  },
  {
   "cell_type": "code",
   "execution_count": 152,
   "metadata": {},
   "outputs": [],
   "source": [
    "Pmsk=np.array([15, 38, 61, 85])"
   ]
  },
  {
   "cell_type": "code",
   "execution_count": 169,
   "metadata": {},
   "outputs": [],
   "source": [
    "PTotProb00 = []\n",
    "for i,Labels in enumerate(OxC00):\n",
    "    msk = [(el==15) or (el==38) or (el==61) or (el==85) for el in Labels]\n",
    "    if((OxA00[i][msk]).shape[0]!=0):\n",
    "        for i2 in OxA00[i][msk]:\n",
    "            PTotProb00.append([np.sum(np.exp(i2[Pmsk]))/np.sum(np.exp(i2)),i])#,msk])"
   ]
  },
  {
   "cell_type": "code",
   "execution_count": 170,
   "metadata": {},
   "outputs": [],
   "source": [
    "PTotProb01 = []\n",
    "for i,Labels in enumerate(OxC01):\n",
    "    msk = [(el==15) or (el==38) or (el==61) or (el==85) for el in Labels]\n",
    "    if((OxA01[i][msk]).shape[0]!=0):\n",
    "        for i2 in OxA01[i][msk]:\n",
    "            PTotProb01.append([np.sum(np.exp(i2[Pmsk]))/np.sum(np.exp(i2)),i])"
   ]
  },
  {
   "cell_type": "code",
   "execution_count": 171,
   "metadata": {},
   "outputs": [],
   "source": [
    "PTotProb02 = []\n",
    "for i,Labels in enumerate(OxC02):\n",
    "    msk = [(el==15) or (el==38) or (el==61) or (el==85) for el in Labels]\n",
    "    if((OxA02[i][msk]).shape[0]!=0):\n",
    "        for i2 in OxA02[i][msk]:\n",
    "            PTotProb02.append([np.sum(np.exp(i2[Pmsk]))/np.sum(np.exp(i2)),i])"
   ]
  },
  {
   "cell_type": "code",
   "execution_count": 172,
   "metadata": {},
   "outputs": [],
   "source": [
    "PTotProb11 = []\n",
    "for i,Labels in enumerate(OxC11):\n",
    "    msk = [(el==15) or (el==38) or (el==61) or (el==85) for el in Labels]\n",
    "    if((OxA11[i][msk]).shape[0]!=0):\n",
    "        for i2 in OxA11[i][msk]:\n",
    "            PTotProb11.append([np.sum(np.exp(i2[Pmsk]))/np.sum(np.exp(i2)),i])"
   ]
  },
  {
   "cell_type": "code",
   "execution_count": 173,
   "metadata": {},
   "outputs": [],
   "source": [
    "PTotProb22 = []\n",
    "for i,Labels in enumerate(OxC22):\n",
    "    msk = [(el==15) or (el==38) or (el==61) or (el==85) for el in Labels]\n",
    "    if((OxA22[i][msk]).shape[0]!=0):\n",
    "        for i2 in OxA22[i][msk]:\n",
    "            PTotProb22.append([np.sum(np.exp(i2[Pmsk]))/np.sum(np.exp(i2)),i])"
   ]
  },
  {
   "cell_type": "code",
   "execution_count": 174,
   "metadata": {},
   "outputs": [],
   "source": [
    "PTotProb00 = np.array(PTotProb00)\n",
    "PTotProb01 = np.array(PTotProb01)\n",
    "PTotProb02 = np.array(PTotProb02)\n",
    "PTotProb11 = np.array(PTotProb11)\n",
    "PTotProb22 = np.array(PTotProb22)"
   ]
  },
  {
   "cell_type": "code",
   "execution_count": 185,
   "metadata": {},
   "outputs": [
    {
     "data": {
      "text/plain": [
       "<matplotlib.legend.Legend at 0x7ff0fb5ffe48>"
      ]
     },
     "execution_count": 185,
     "metadata": {},
     "output_type": "execute_result"
    },
    {
     "data": {
      "image/png": "[encoded data removed]",
      "text/plain": [
       "<Figure size 1058.4x595.44 with 1 Axes>"
      ]
     },
     "metadata": {},
     "output_type": "display_data"
    }
   ],
   "source": [
    "sns.set_style('darkgrid')\n",
    "sns.distplot(TotProb00[:,0],label=\"GN & SN unchanged (Just Max)\",norm_hist=True)#,fit=stats.halfgennorm,kde=False)\n",
    "#sns.distplot(TotProb00[:-60,0],label=\"No Change1\")\n",
    "sns.distplot(PTotProb00[:,0],label=\"GN & SN unchanged Patient sum\",norm_hist=True)#,fit=stats.halfgennorm,kde=False)\n",
    "#sns.distplot(TotProb22[:,0],label=\"GN & SN random from outside\",norm_hist=True)\n",
    "plt.legend()"
   ]
  },
  {
   "cell_type": "code",
   "execution_count": 187,
   "metadata": {},
   "outputs": [
    {
     "data": {
      "text/plain": [
       "<matplotlib.legend.Legend at 0x7ff0fb2569e8>"
      ]
     },
     "execution_count": 187,
     "metadata": {},
     "output_type": "execute_result"
    },
    {
     "data": {
      "image/png": "[encoded data removed]",
      "text/plain": [
       "<Figure size 1058.4x595.44 with 1 Axes>"
      ]
     },
     "metadata": {},
     "output_type": "display_data"
    }
   ],
   "source": [
    "sns.set_style('darkgrid')\n",
    "sns.distplot(TotProb00[:,0],label=\"GN & SN unchanged\",norm_hist=True)#,fit=stats.halfgennorm,kde=False)\n",
    "#sns.distplot(TotProb00[:-60,0],label=\"No Change1\")\n",
    "sns.distplot(TotProb01[:,0],label=\"SN random from inside\",norm_hist=True)#,fit=stats.halfgennorm,kde=False)\n",
    "sns.distplot(TotProb02[:,0],label=\"SN random from outside\",norm_hist=True)\n",
    "plt.legend()"
   ]
  },
  {
   "cell_type": "code",
   "execution_count": 186,
   "metadata": {},
   "outputs": [
    {
     "data": {
      "text/plain": [
       "<matplotlib.legend.Legend at 0x7ff0fb503668>"
      ]
     },
     "execution_count": 186,
     "metadata": {},
     "output_type": "execute_result"
    },
    {
     "data": {
      "image/png": "[encoded data removed]",
      "text/plain": [
       "<Figure size 1058.4x595.44 with 1 Axes>"
      ]
     },
     "metadata": {},
     "output_type": "display_data"
    }
   ],
   "source": [
    "sns.set_style('darkgrid')\n",
    "sns.distplot(TotProb00[:,0],label=\"GN & SN unchanged\",norm_hist=True)#,fit=stats.halfgennorm,kde=False)\n",
    "#sns.distplot(TotProb00[:-60,0],label=\"No Change1\")\n",
    "sns.distplot(TotProb11[:,0],label=\"GN & SN random from inside\",norm_hist=True)#,fit=stats.halfgennorm,kde=False)\n",
    "sns.distplot(TotProb22[:,0],label=\"GN & SN random from outside\",norm_hist=True)\n",
    "plt.legend()"
   ]
  },
  {
   "cell_type": "code",
   "execution_count": 183,
   "metadata": {},
   "outputs": [
    {
     "data": {
      "text/plain": [
       "<matplotlib.legend.Legend at 0x7ff0fbce0208>"
      ]
     },
     "execution_count": 183,
     "metadata": {},
     "output_type": "execute_result"
    },
    {
     "data": {
      "image/png": "[encoded data removed]",
      "text/plain": [
       "<Figure size 1058.4x595.44 with 1 Axes>"
      ]
     },
     "metadata": {},
     "output_type": "display_data"
    }
   ],
   "source": [
    "sns.set_style('darkgrid')\n",
    "sns.distplot(TotProb00[:,0],label=\"GN & SN unchanged\"\\\n",
    "             ,hist_kws=dict(cumulative=True),kde_kws=dict(cumulative=True))\n",
    "#sns.distplot(TotProb00[:-60,0],label=\"No Change1\"\\\n",
    "#             ,hist_kws=dict(cumulative=True),kde_kws=dict(cumulative=True))\n",
    "sns.distplot(TotProb11[:,0],label=\"GN & SN random from inside\"\\\n",
    "            ,hist_kws=dict(cumulative=True),kde_kws=dict(cumulative=True))\n",
    "sns.distplot(TotProb22[:,0],label=\"GN & SN random from outside\"\\\n",
    "            ,hist_kws=dict(cumulative=True),kde_kws=dict(cumulative=True))\n",
    "sns.distplot(TotProb01[:,0],label=\"SN random from inside\"\\\n",
    "            ,hist_kws=dict(cumulative=True),kde_kws=dict(cumulative=True))\n",
    "sns.distplot(TotProb02[:,0],label=\"SN random from outside\"\\\n",
    "            ,hist_kws=dict(cumulative=True),kde_kws=dict(cumulative=True))\n",
    "plt.legend()"
   ]
  },
  {
   "cell_type": "code",
   "execution_count": 184,
   "metadata": {
    "scrolled": false
   },
   "outputs": [
    {
     "data": {
      "text/plain": [
       "<matplotlib.legend.Legend at 0x7ff0fb9a1978>"
      ]
     },
     "execution_count": 184,
     "metadata": {},
     "output_type": "execute_result"
    },
    {
     "data": {
      "image/png": "[encoded data removed]",
      "text/plain": [
       "<Figure size 1058.4x595.44 with 1 Axes>"
      ]
     },
     "metadata": {},
     "output_type": "display_data"
    }
   ],
   "source": [
    "sns.set_style('darkgrid')\n",
    "sns.distplot(1-TotProb00[:,0],label=\"GN & SN unchanged\"\\\n",
    "             ,hist_kws=dict(cumulative=True),kde_kws=dict(cumulative=True))\n",
    "#sns.distplot(TotProb00[:-60,0],label=\"No Change1\"\\\n",
    "#             ,hist_kws=dict(cumulative=True),kde_kws=dict(cumulative=True))\n",
    "sns.distplot(1-TotProb11[:,0],label=\"GN & SN random from inside\"\\\n",
    "            ,hist_kws=dict(cumulative=True),kde_kws=dict(cumulative=True))\n",
    "sns.distplot(1-TotProb22[:,0],label=\"GN & SN random from outside\"\\\n",
    "            ,hist_kws=dict(cumulative=True),kde_kws=dict(cumulative=True))\n",
    "sns.distplot(1-TotProb01[:,0],label=\"SN random from inside\"\\\n",
    "            ,hist_kws=dict(cumulative=True),kde_kws=dict(cumulative=True))\n",
    "sns.distplot(1-TotProb02[:,0],label=\"SN random from outside\"\\\n",
    "            ,hist_kws=dict(cumulative=True),kde_kws=dict(cumulative=True))\n",
    "plt.legend()"
   ]
  },
  {
   "cell_type": "code",
   "execution_count": null,
   "metadata": {},
   "outputs": [],
   "source": []
  },
  {
   "cell_type": "code",
   "execution_count": 229,
   "metadata": {},
   "outputs": [],
   "source": [
    "TotProb00 = np.array(TotProb00,dtype=object)\n",
    "TotProb00[:,1] = TotProb00[:,1].astype(int)\n",
    "TotProb01 = np.array(TotProb01,dtype=object)\n",
    "TotProb01[:,1] = TotProb01[:,1].astype(int)\n",
    "TotProb02 = np.array(TotProb02,dtype=object)\n",
    "TotProb02[:,1] = TotProb02[:,1].astype(int)\n",
    "TotProb11 = np.array(TotProb11,dtype=object)\n",
    "TotProb11[:,1] = TotProb11[:,1].astype(int)\n",
    "TotProb22 = np.array(TotProb22,dtype=object)\n",
    "TotProb22[:,1] = TotProb22[:,1].astype(int)"
   ]
  },
  {
   "cell_type": "markdown",
   "metadata": {},
   "source": [
    "# The following was done on No separation and 385 to make sure things are consistant, where 01 was actually the No separation data."
   ]
  },
  {
   "cell_type": "code",
   "execution_count": 36,
   "metadata": {},
   "outputs": [],
   "source": [
    "TEST = []\n",
    "for i,Labels in enumerate(OxC00):\n",
    "    msk = [(el==15) or (el==38) or (el==61) or (el==85) for el in Labels]\n",
    "    if((OxA00[i][msk]).shape[0]!=0):\n",
    "        for i2 in OxA00[i][msk]:\n",
    "            TEST.append([np.max(np.exp(i2))/np.sum(np.exp(i2)),i])\n",
    "        #print(\"HIGH\")"
   ]
  },
  {
   "cell_type": "code",
   "execution_count": 37,
   "metadata": {},
   "outputs": [],
   "source": [
    "TEST1=[]\n",
    "for i,Labels in enumerate(OxC01):\n",
    "    msk = [(el==15) or (el==38) or (el==61) or (el==85) for el in Labels]\n",
    "    if((OxA01[i][msk]).shape[0]!=0):\n",
    "        for i2 in OxA01[i][msk]:\n",
    "            TEST1.append([np.max(np.exp(i2))/np.sum(np.exp(i2)),i])\n",
    "        #print(\"HIGH\")"
   ]
  },
  {
   "cell_type": "code",
   "execution_count": 38,
   "metadata": {},
   "outputs": [
    {
     "data": {
      "text/plain": [
       "(1652, 1652)"
      ]
     },
     "execution_count": 38,
     "metadata": {},
     "output_type": "execute_result"
    }
   ],
   "source": [
    "len(TEST),len(TEST1)"
   ]
  },
  {
   "cell_type": "code",
   "execution_count": 39,
   "metadata": {},
   "outputs": [
    {
     "name": "stdout",
     "output_type": "stream",
     "text": [
      "315 [0.9268477, 5339] [0.9599964, 5312]\n",
      "316 [0.6943307, 5339] [0.48772612, 5312]\n",
      "317 [0.982308, 5339] [0.98238784, 5312]\n",
      "1344 [0.75545454, 25680] [0.8730638, 25383]\n",
      "1345 [0.71635205, 25680] [0.6127569, 25383]\n",
      "1534 [0.9990644, 28228] [0.9989996, 27885]\n"
     ]
    }
   ],
   "source": [
    "for i,_ in enumerate(TEST):\n",
    "    if TEST[i][0]!=TEST1[i][0]:\n",
    "        print(i,TEST[i],TEST1[i])"
   ]
  },
  {
   "cell_type": "code",
   "execution_count": 42,
   "metadata": {},
   "outputs": [
    {
     "data": {
      "text/plain": [
       "[15, 61, 38, 69, 69, 69, 16, 62, 62, 62, 39, 69]"
      ]
     },
     "execution_count": 42,
     "metadata": {},
     "output_type": "execute_result"
    }
   ],
   "source": [
    "OxC00[5339]"
   ]
  },
  {
   "cell_type": "code",
   "execution_count": 41,
   "metadata": {},
   "outputs": [
    {
     "data": {
      "text/plain": [
       "[15, 61, 38, 69, 69, 69, 16, 62, 62, 62, 39]"
      ]
     },
     "execution_count": 41,
     "metadata": {},
     "output_type": "execute_result"
    }
   ],
   "source": [
    "OxC01[5312]"
   ]
  },
  {
   "cell_type": "code",
   "execution_count": 45,
   "metadata": {},
   "outputs": [
    {
     "data": {
      "text/plain": [
       "[169,\n",
       " 221,\n",
       " 262,\n",
       " 311,\n",
       " 352,\n",
       " 389,\n",
       " 436,\n",
       " 469,\n",
       " 557,\n",
       " 642,\n",
       " 734,\n",
       " 830,\n",
       " 919,\n",
       " 1031,\n",
       " 1196,\n",
       " 1251,\n",
       " 1365,\n",
       " 1453,\n",
       " 1479,\n",
       " 1504,\n",
       " 1533,\n",
       " 1571,\n",
       " 1660,\n",
       " 1705,\n",
       " 1785,\n",
       " 1848,\n",
       " 1879,\n",
       " 1964,\n",
       " 2038,\n",
       " 2095,\n",
       " 2142,\n",
       " 2169,\n",
       " 2212,\n",
       " 2269,\n",
       " 2303,\n",
       " 2452,\n",
       " 2498,\n",
       " 2539,\n",
       " 2574,\n",
       " 2613,\n",
       " 2702,\n",
       " 2853,\n",
       " 2873,\n",
       " 2934,\n",
       " 3033,\n",
       " 3222,\n",
       " 3358,\n",
       " 3386,\n",
       " 3519,\n",
       " 3552,\n",
       " 3671,\n",
       " 3799,\n",
       " 3834,\n",
       " 4013,\n",
       " 4050,\n",
       " 4119,\n",
       " 4185,\n",
       " 4218,\n",
       " 4251,\n",
       " 4317,\n",
       " 4591,\n",
       " 4674,\n",
       " 4728,\n",
       " 4778,\n",
       " 4840,\n",
       " 4916,\n",
       " 4971,\n",
       " 5003,\n",
       " 5033,\n",
       " 5103,\n",
       " 5136,\n",
       " 5182,\n",
       " 5228,\n",
       " 5340,\n",
       " 5376,\n",
       " 5481,\n",
       " 5568,\n",
       " 5601,\n",
       " 5639,\n",
       " 5738,\n",
       " 5881,\n",
       " 5903,\n",
       " 6016,\n",
       " 6035,\n",
       " 6078,\n",
       " 6112,\n",
       " 6153,\n",
       " 6174,\n",
       " 6209,\n",
       " 6268,\n",
       " 6349,\n",
       " 6393,\n",
       " 6505,\n",
       " 6660,\n",
       " 6732,\n",
       " 6766,\n",
       " 6835,\n",
       " 6880,\n",
       " 7059,\n",
       " 7128,\n",
       " 7179,\n",
       " 7214,\n",
       " 7298,\n",
       " 7357,\n",
       " 7419,\n",
       " 7455,\n",
       " 7503,\n",
       " 7573,\n",
       " 7590,\n",
       " 7630,\n",
       " 7725,\n",
       " 7765,\n",
       " 7791,\n",
       " 7858,\n",
       " 7909,\n",
       " 7953,\n",
       " 7981,\n",
       " 8068,\n",
       " 8152,\n",
       " 8250,\n",
       " 8377,\n",
       " 8483,\n",
       " 8565,\n",
       " 8618,\n",
       " 8792,\n",
       " 8880,\n",
       " 8916,\n",
       " 8950,\n",
       " 9046,\n",
       " 9110,\n",
       " 9254,\n",
       " 9397,\n",
       " 9455,\n",
       " 9489,\n",
       " 9526,\n",
       " 9564,\n",
       " 9629,\n",
       " 9651,\n",
       " 9732,\n",
       " 9791,\n",
       " 9830,\n",
       " 9944,\n",
       " 10009,\n",
       " 10136,\n",
       " 10188,\n",
       " 10223,\n",
       " 10281,\n",
       " 10336,\n",
       " 10378,\n",
       " 10455,\n",
       " 10518,\n",
       " 10634,\n",
       " 10715,\n",
       " 10754,\n",
       " 10825,\n",
       " 10876,\n",
       " 10938,\n",
       " 10952,\n",
       " 11014,\n",
       " 11057,\n",
       " 11102,\n",
       " 11158,\n",
       " 11261,\n",
       " 11537,\n",
       " 11601,\n",
       " 11677,\n",
       " 11840,\n",
       " 11899,\n",
       " 11947,\n",
       " 12005,\n",
       " 12079,\n",
       " 12140,\n",
       " 12197,\n",
       " 12221,\n",
       " 12264,\n",
       " 12440,\n",
       " 12530,\n",
       " 12591,\n",
       " 12765,\n",
       " 12847,\n",
       " 12900,\n",
       " 12944,\n",
       " 12997,\n",
       " 13057,\n",
       " 13083,\n",
       " 13117,\n",
       " 13182,\n",
       " 13305,\n",
       " 13357,\n",
       " 13413,\n",
       " 13466,\n",
       " 13524,\n",
       " 13568,\n",
       " 13612,\n",
       " 13657,\n",
       " 13727,\n",
       " 13807,\n",
       " 13962,\n",
       " 14115,\n",
       " 14214,\n",
       " 14283,\n",
       " 14392,\n",
       " 14524,\n",
       " 14619,\n",
       " 14679,\n",
       " 14755,\n",
       " 14781,\n",
       " 14830,\n",
       " 14872,\n",
       " 15063,\n",
       " 15158,\n",
       " 15319,\n",
       " 15425,\n",
       " 15653,\n",
       " 15686,\n",
       " 15716,\n",
       " 15784,\n",
       " 15868,\n",
       " 15932,\n",
       " 15977,\n",
       " 16037,\n",
       " 16077,\n",
       " 16131,\n",
       " 16170,\n",
       " 16216,\n",
       " 16261,\n",
       " 16295,\n",
       " 16347,\n",
       " 16420,\n",
       " 16445,\n",
       " 16485,\n",
       " 16545,\n",
       " 16583,\n",
       " 16648,\n",
       " 16734,\n",
       " 16782,\n",
       " 16832,\n",
       " 16887,\n",
       " 16957,\n",
       " 17134,\n",
       " 17185,\n",
       " 17308,\n",
       " 17680,\n",
       " 17777,\n",
       " 17878,\n",
       " 17944,\n",
       " 18013,\n",
       " 18095,\n",
       " 18126,\n",
       " 18158,\n",
       " 18206,\n",
       " 18262,\n",
       " 18453,\n",
       " 18556,\n",
       " 18670,\n",
       " 18827,\n",
       " 18893,\n",
       " 18931,\n",
       " 18970,\n",
       " 19019,\n",
       " 19100,\n",
       " 19170,\n",
       " 19221,\n",
       " 19273,\n",
       " 19348,\n",
       " 19432,\n",
       " 19577,\n",
       " 19702,\n",
       " 19830,\n",
       " 19942,\n",
       " 20095,\n",
       " 20141,\n",
       " 20269,\n",
       " 20355,\n",
       " 20390,\n",
       " 20432,\n",
       " 20484,\n",
       " 20526,\n",
       " 20568,\n",
       " 20671,\n",
       " 20717,\n",
       " 20860,\n",
       " 21023,\n",
       " 21265,\n",
       " 21509,\n",
       " 21631,\n",
       " 21679,\n",
       " 21722,\n",
       " 21791,\n",
       " 21885,\n",
       " 21981,\n",
       " 22085,\n",
       " 22245,\n",
       " 22344,\n",
       " 22396,\n",
       " 22489,\n",
       " 22595,\n",
       " 22640,\n",
       " 22763,\n",
       " 22820,\n",
       " 22911,\n",
       " 22992,\n",
       " 23019,\n",
       " 23056,\n",
       " 23146,\n",
       " 23195,\n",
       " 23294,\n",
       " 23399,\n",
       " 23485,\n",
       " 23618,\n",
       " 23700,\n",
       " 23759,\n",
       " 23831,\n",
       " 23880,\n",
       " 23985,\n",
       " 24058,\n",
       " 24091,\n",
       " 24166,\n",
       " 24223,\n",
       " 24311,\n",
       " 24366,\n",
       " 24443,\n",
       " 24482,\n",
       " 24552,\n",
       " 24618,\n",
       " 24670,\n",
       " 24800,\n",
       " 24863,\n",
       " 24963,\n",
       " 25037,\n",
       " 25081,\n",
       " 25146,\n",
       " 25279,\n",
       " 25427,\n",
       " 25483,\n",
       " 25522,\n",
       " 25557,\n",
       " 25681,\n",
       " 25725,\n",
       " 25801,\n",
       " 25957,\n",
       " 26018,\n",
       " 26045,\n",
       " 26092,\n",
       " 26125,\n",
       " 26206,\n",
       " 26271,\n",
       " 26385,\n",
       " 26446,\n",
       " 26511,\n",
       " 26550,\n",
       " 26607,\n",
       " 26652,\n",
       " 26747,\n",
       " 26824,\n",
       " 26877,\n",
       " 27002,\n",
       " 27152,\n",
       " 27212,\n",
       " 27274,\n",
       " 27307,\n",
       " 27343,\n",
       " 27423,\n",
       " 27519,\n",
       " 27560,\n",
       " 27601,\n",
       " 27626,\n",
       " 27718,\n",
       " 27825,\n",
       " 27873,\n",
       " 27934,\n",
       " 27981,\n",
       " 28016,\n",
       " 28054,\n",
       " 28097,\n",
       " 28147,\n",
       " 28229,\n",
       " 28247,\n",
       " 28328,\n",
       " 28398,\n",
       " 28516,\n",
       " 28589,\n",
       " 28695,\n",
       " 28896,\n",
       " 28994,\n",
       " 29131,\n",
       " 29288,\n",
       " 29346,\n",
       " 29391,\n",
       " 29462,\n",
       " 29600,\n",
       " 29712,\n",
       " 29772,\n",
       " 29894,\n",
       " 29958,\n",
       " 29988,\n",
       " 30080,\n",
       " 30106,\n",
       " 30161,\n",
       " 30257,\n",
       " 30304,\n",
       " 30386,\n",
       " 30464,\n",
       " 30550,\n",
       " 30645,\n",
       " 30741]"
      ]
     },
     "execution_count": 45,
     "metadata": {},
     "output_type": "execute_result"
    }
   ],
   "source": [
    "C00breaks"
   ]
  },
  {
   "cell_type": "code",
   "execution_count": null,
   "metadata": {},
   "outputs": [],
   "source": []
  },
  {
   "cell_type": "code",
   "execution_count": 81,
   "metadata": {},
   "outputs": [
    {
     "data": {
      "text/plain": [
       "406"
      ]
     },
     "execution_count": 81,
     "metadata": {},
     "output_type": "execute_result"
    }
   ],
   "source": [
    "len(C00breaks)"
   ]
  },
  {
   "cell_type": "code",
   "execution_count": 83,
   "metadata": {},
   "outputs": [
    {
     "data": {
      "text/plain": [
       "521"
      ]
     },
     "execution_count": 83,
     "metadata": {},
     "output_type": "execute_result"
    }
   ],
   "source": [
    "len(Dic00)"
   ]
  },
  {
   "cell_type": "code",
   "execution_count": 72,
   "metadata": {},
   "outputs": [
    {
     "ename": "IndexError",
     "evalue": "boolean index did not match indexed array along dimension 0; dimension is 5 but corresponding boolean dimension is 14",
     "output_type": "error",
     "traceback": [
      "\u001b[0;31m---------------------------------------------------------------------------\u001b[0m",
      "\u001b[0;31mIndexError\u001b[0m                                Traceback (most recent call last)",
      "\u001b[0;32m<ipython-input-72-4be7a5fc096e>\u001b[0m in \u001b[0;36m<module>\u001b[0;34m()\u001b[0m\n\u001b[0;32m----> 1\u001b[0;31m \u001b[0mLabels\u001b[0m\u001b[0;34m,\u001b[0m\u001b[0mOxA\u001b[0m\u001b[0;34m[\u001b[0m\u001b[0mi\u001b[0m\u001b[0;34m]\u001b[0m\u001b[0;34m[\u001b[0m\u001b[0mmsk\u001b[0m\u001b[0;34m]\u001b[0m\u001b[0;34m\u001b[0m\u001b[0;34m\u001b[0m\u001b[0m\n\u001b[0m",
      "\u001b[0;31mIndexError\u001b[0m: boolean index did not match indexed array along dimension 0; dimension is 5 but corresponding boolean dimension is 14"
     ]
    }
   ],
   "source": [
    "for n in [0,1,2]:\n",
    "    for i in range(len(OxA[n])):\n",
    "        print(np.max(np.exp(OxA[n][i]))/np.sum(np.exp((OxA[n][i]))))"
   ]
  },
  {
   "cell_type": "code",
   "execution_count": 44,
   "metadata": {},
   "outputs": [
    {
     "name": "stdout",
     "output_type": "stream",
     "text": [
      "1251\n",
      "1479\n",
      "5481\n",
      "5568\n",
      "6349\n",
      "7630\n",
      "8377\n",
      "9732\n",
      "9791\n",
      "15653\n",
      "16420\n",
      "16648\n",
      "18670\n",
      "19702\n",
      "21509\n",
      "23019\n",
      "23399\n",
      "24963\n",
      "25725\n",
      "26607\n",
      "28147\n",
      "29462\n",
      "30386\n",
      "30550\n"
     ]
    }
   ],
   "source": [
    "for n,i in enumerate(OxC00):\n",
    "    if len(i)>300 and len(i)!=385:\n",
    "        print(n)"
   ]
  },
  {
   "cell_type": "code",
   "execution_count": null,
   "metadata": {},
   "outputs": [],
   "source": []
  },
  {
   "cell_type": "code",
   "execution_count": null,
   "metadata": {},
   "outputs": [],
   "source": []
  },
  {
   "cell_type": "code",
   "execution_count": 123,
   "metadata": {},
   "outputs": [
    {
     "data": {
      "text/plain": [
       "521357"
      ]
     },
     "execution_count": 123,
     "metadata": {},
     "output_type": "execute_result"
    }
   ],
   "source": [
    "TEST=0\n",
    "for i,c in enumerate(OxC00):\n",
    "    TEST = TEST + (len(c))\n",
    "TEST"
   ]
  },
  {
   "cell_type": "code",
   "execution_count": null,
   "metadata": {},
   "outputs": [],
   "source": []
  },
  {
   "cell_type": "code",
   "execution_count": null,
   "metadata": {},
   "outputs": [],
   "source": []
  },
  {
   "cell_type": "code",
   "execution_count": null,
   "metadata": {},
   "outputs": [],
   "source": []
  },
  {
   "cell_type": "code",
   "execution_count": 50,
   "metadata": {},
   "outputs": [],
   "source": [
    "TESTA=np.load(\"NeuroNER-master/src/SalmanTest/Mr1mainSalmanUnary_scorestest.npy\")\n",
    "TESTB=np.load(\"NeuroNER-master/src/SalmanTest/Mr1mainSalmanCCCtest.npy\")"
   ]
  },
  {
   "cell_type": "code",
   "execution_count": 64,
   "metadata": {},
   "outputs": [
    {
     "data": {
      "text/plain": [
       "[6, 52, 52, 29]"
      ]
     },
     "execution_count": 64,
     "metadata": {},
     "output_type": "execute_result"
    }
   ],
   "source": [
    "TESTB[3]"
   ]
  },
  {
   "cell_type": "code",
   "execution_count": 62,
   "metadata": {},
   "outputs": [
    {
     "data": {
      "text/plain": [
       "[69, 69, 69, 85]"
      ]
     },
     "execution_count": 62,
     "metadata": {},
     "output_type": "execute_result"
    }
   ],
   "source": [
    "OxC00[3]"
   ]
  },
  {
   "cell_type": "code",
   "execution_count": 69,
   "metadata": {},
   "outputs": [
    {
     "data": {
      "text/plain": [
       "['Younger 221-01 66 73 O',\n",
       " ', 221-01 73 74 O',\n",
       " 'T 221-01 75 76 O',\n",
       " 'Eugene 221-01 77 83 O']"
      ]
     },
     "execution_count": 69,
     "metadata": {},
     "output_type": "execute_result"
    }
   ],
   "source": [
    "TokFil00[3].split('\\n')"
   ]
  },
  {
   "cell_type": "code",
   "execution_count": null,
   "metadata": {},
   "outputs": [],
   "source": []
  },
  {
   "cell_type": "code",
   "execution_count": 74,
   "metadata": {},
   "outputs": [
    {
     "data": {
      "text/plain": [
       "['aa 221-01 10518 10520 O',\n",
       " 'aa 221-01 10521 10523 O',\n",
       " 'aa 221-01 10524 10526 O',\n",
       " 'aa 221-01 10527 10529 O',\n",
       " 'aa 221-01 10530 10532 O',\n",
       " 'aa 221-01 10533 10535 O',\n",
       " 'aa 221-01 10536 10538 O',\n",
       " 'aa 221-01 10539 10541 O',\n",
       " 'aa 221-01 10542 10544 O',\n",
       " 'aa 221-01 10545 10547 O',\n",
       " 'aa 221-01 10548 10550 O',\n",
       " 'aa 221-01 10551 10553 O',\n",
       " 'aa 221-01 10554 10556 O',\n",
       " 'aa 221-01 10557 10559 O',\n",
       " 'aa 221-01 10560 10562 O',\n",
       " 'aa 221-01 10563 10565 O',\n",
       " 'aa 221-01 10566 10568 O',\n",
       " 'aa 221-01 10569 10571 O',\n",
       " 'aa 221-01 10572 10574 O',\n",
       " 'aa 221-01 10575 10577 O',\n",
       " 'aa 221-01 10578 10580 O',\n",
       " 'aa 221-01 10581 10583 O',\n",
       " 'aa 221-01 10584 10586 O',\n",
       " 'aa 221-01 10587 10589 O',\n",
       " 'aaaa 221-01 10590 10594 O',\n",
       " 'aa 221-01 10595 10597 O',\n",
       " 'aa 221-01 10598 10600 O',\n",
       " 'aa 221-01 10601 10603 O',\n",
       " 'aa 221-01 10604 10606 O',\n",
       " 'aa 221-01 10607 10609 O',\n",
       " 'aa 221-01 10610 10612 O',\n",
       " 'aa 221-01 10613 10615 O',\n",
       " 'aa 221-01 10616 10618 O',\n",
       " 'aa 221-01 10619 10621 O',\n",
       " 'aa 221-01 10622 10624 O',\n",
       " 'aa 221-01 10625 10627 O',\n",
       " 'aa 221-01 10628 10630 O',\n",
       " 'aa 221-01 10631 10633 O',\n",
       " 'aa 221-01 10634 10636 O',\n",
       " 'aa 221-01 10637 10639 O',\n",
       " 'aa 221-01 10640 10642 O',\n",
       " 'aa 221-01 10643 10645 O',\n",
       " 'aa 221-01 10646 10648 O',\n",
       " 'aa 221-01 10649 10651 O',\n",
       " 'aa 221-01 10652 10654 O',\n",
       " 'aa 221-01 10655 10657 O',\n",
       " 'aa 221-01 10658 10660 O',\n",
       " 'aa 221-01 10661 10663 O',\n",
       " 'aaaa 221-01 10664 10668 O',\n",
       " 'aa 221-01 10669 10671 O',\n",
       " 'aa 221-01 10672 10674 O',\n",
       " 'aa 221-01 10675 10677 O',\n",
       " 'aa 221-01 10678 10680 O',\n",
       " 'aa 221-01 10681 10683 O',\n",
       " 'aa 221-01 10684 10686 O',\n",
       " 'aa 221-01 10687 10689 O',\n",
       " 'aa 221-01 10690 10692 O',\n",
       " 'aa 221-01 10693 10695 O',\n",
       " 'aa 221-01 10696 10698 O',\n",
       " 'aa 221-01 10699 10701 O',\n",
       " 'aa 221-01 10702 10704 O',\n",
       " 'aa 221-01 10705 10707 O',\n",
       " 'aa 221-01 10708 10710 O',\n",
       " 'aa 221-01 10711 10713 O',\n",
       " 'aa 221-01 10714 10716 O',\n",
       " 'aa 221-01 10717 10719 O',\n",
       " 'aa 221-01 10720 10722 O',\n",
       " 'aa 221-01 10723 10725 O',\n",
       " 'aa 221-01 10726 10728 O',\n",
       " 'aa 221-01 10729 10731 O',\n",
       " 'aa 221-01 10732 10734 O',\n",
       " 'aa 221-01 10735 10737 O',\n",
       " 'aaaa 221-01 10738 10742 O',\n",
       " 'aa 221-01 10743 10745 O',\n",
       " 'aa 221-01 10746 10748 O',\n",
       " 'aa 221-01 10749 10751 O',\n",
       " 'aa 221-01 10752 10754 O',\n",
       " 'aa 221-01 10755 10757 O',\n",
       " 'aa 221-01 10758 10760 O',\n",
       " 'aa 221-01 10761 10763 O',\n",
       " 'aa 221-01 10764 10766 O',\n",
       " 'aa 221-01 10767 10769 O',\n",
       " 'aa 221-01 10770 10772 O',\n",
       " 'aa 221-01 10773 10775 O',\n",
       " 'aa 221-01 10776 10778 O',\n",
       " 'aa 221-01 10779 10781 O',\n",
       " 'aa 221-01 10782 10784 O',\n",
       " 'aa 221-01 10785 10787 O',\n",
       " 'aa 221-01 10788 10790 O',\n",
       " 'aa 221-01 10791 10793 O',\n",
       " 'aa 221-01 10794 10796 O',\n",
       " 'aa 221-01 10797 10799 O',\n",
       " 'aa 221-01 10800 10802 O',\n",
       " 'aa 221-01 10803 10805 O',\n",
       " 'aa 221-01 10806 10808 O',\n",
       " 'aa 221-01 10809 10811 O',\n",
       " 'aaaa 221-01 10812 10816 O',\n",
       " 'aa 221-01 10817 10819 O',\n",
       " 'aa 221-01 10820 10822 O',\n",
       " 'aa 221-01 10823 10825 O',\n",
       " 'aa 221-01 10826 10828 O',\n",
       " 'aa 221-01 10829 10831 O',\n",
       " 'aa 221-01 10832 10834 O',\n",
       " 'aa 221-01 10835 10837 O',\n",
       " 'aa 221-01 10838 10840 O',\n",
       " 'aa 221-01 10841 10843 O',\n",
       " 'aa 221-01 10844 10846 O',\n",
       " 'aa 221-01 10847 10849 O',\n",
       " 'aa 221-01 10850 10852 O',\n",
       " 'aa 221-01 10853 10855 O',\n",
       " 'aa 221-01 10856 10858 O',\n",
       " 'aa 221-01 10859 10861 O',\n",
       " 'aa 221-01 10862 10864 O',\n",
       " 'aa 221-01 10865 10867 O',\n",
       " 'aa 221-01 10868 10870 O',\n",
       " 'aa 221-01 10871 10873 O',\n",
       " 'aa 221-01 10874 10876 O',\n",
       " 'aa 221-01 10877 10879 O',\n",
       " 'aa 221-01 10880 10882 O',\n",
       " 'aa 221-01 10883 10885 O',\n",
       " 'aaaa 221-01 10886 10890 O',\n",
       " 'aa 221-01 10891 10893 O',\n",
       " 'aa 221-01 10894 10896 O',\n",
       " 'aa 221-01 10897 10899 O',\n",
       " 'aa 221-01 10900 10902 O',\n",
       " 'aa 221-01 10903 10905 O',\n",
       " 'aa 221-01 10906 10908 O',\n",
       " 'aa 221-01 10909 10911 O',\n",
       " 'aa 221-01 10912 10914 O',\n",
       " 'aa 221-01 10915 10917 O',\n",
       " 'aa 221-01 10918 10920 O',\n",
       " 'aa 221-01 10921 10923 O',\n",
       " 'aa 221-01 10924 10926 O',\n",
       " 'aa 221-01 10927 10929 O',\n",
       " 'aa 221-01 10930 10932 O',\n",
       " 'aa 221-01 10933 10935 O',\n",
       " 'aa 221-01 10936 10938 O',\n",
       " 'aa 221-01 10939 10941 O',\n",
       " 'aa 221-01 10942 10944 O',\n",
       " 'aa 221-01 10945 10947 O',\n",
       " 'aa 221-01 10948 10950 O',\n",
       " 'aa 221-01 10951 10953 O',\n",
       " 'aa 221-01 10954 10956 O',\n",
       " 'aa 221-01 10957 10959 O',\n",
       " 'aaaa 221-01 10960 10964 O',\n",
       " 'aa 221-01 10965 10967 O',\n",
       " 'aa 221-01 10968 10970 O',\n",
       " 'aa 221-01 10971 10973 O',\n",
       " 'aa 221-01 10974 10976 O',\n",
       " 'aa 221-01 10977 10979 O',\n",
       " 'aa 221-01 10980 10982 O',\n",
       " 'aa 221-01 10983 10985 O',\n",
       " 'aa 221-01 10986 10988 O',\n",
       " 'aa 221-01 10989 10991 O',\n",
       " 'aa 221-01 10992 10994 O',\n",
       " 'aa 221-01 10995 10997 O',\n",
       " 'aa 221-01 10998 11000 O',\n",
       " 'aa 221-01 11001 11003 O',\n",
       " 'aa 221-01 11004 11006 O',\n",
       " 'aa 221-01 11007 11009 O',\n",
       " 'aa 221-01 11010 11012 O',\n",
       " 'aa 221-01 11013 11015 O',\n",
       " 'aa 221-01 11016 11018 O',\n",
       " 'aa 221-01 11019 11021 O',\n",
       " 'aa 221-01 11022 11024 O',\n",
       " 'aa 221-01 11025 11027 O',\n",
       " 'aa 221-01 11028 11030 O',\n",
       " 'aa 221-01 11031 11033 O',\n",
       " 'aaaa 221-01 11034 11038 O',\n",
       " 'aa 221-01 11039 11041 O',\n",
       " 'aa 221-01 11042 11044 O',\n",
       " 'aa 221-01 11045 11047 O',\n",
       " 'aa 221-01 11048 11050 O',\n",
       " 'aa 221-01 11051 11053 O',\n",
       " 'aa 221-01 11054 11056 O',\n",
       " 'aa 221-01 11057 11059 O',\n",
       " 'aa 221-01 11060 11062 O',\n",
       " 'aa 221-01 11063 11065 O',\n",
       " 'aa 221-01 11066 11068 O',\n",
       " 'aa 221-01 11069 11071 O',\n",
       " 'aa 221-01 11072 11074 O',\n",
       " 'aa 221-01 11075 11077 O',\n",
       " 'aa 221-01 11078 11080 O',\n",
       " 'aa 221-01 11081 11083 O',\n",
       " 'aa 221-01 11084 11086 O',\n",
       " 'aa 221-01 11087 11089 O',\n",
       " 'aa 221-01 11090 11092 O',\n",
       " 'aa 221-01 11093 11095 O',\n",
       " 'aa 221-01 11096 11098 O',\n",
       " 'aa 221-01 11099 11101 O',\n",
       " 'aa 221-01 11102 11104 O',\n",
       " 'aa 221-01 11105 11107 O',\n",
       " 'aaaa 221-01 11108 11112 O',\n",
       " 'aa 221-01 11113 11115 O',\n",
       " 'aa 221-01 11116 11118 O',\n",
       " 'aa 221-01 11119 11121 O',\n",
       " 'aa 221-01 11122 11124 O',\n",
       " 'aa 221-01 11125 11127 O',\n",
       " 'aa 221-01 11128 11130 O',\n",
       " 'aa 221-01 11131 11133 O',\n",
       " 'aa 221-01 11134 11136 O',\n",
       " 'aa 221-01 11137 11139 O',\n",
       " 'aa 221-01 11140 11142 O',\n",
       " 'aa 221-01 11143 11145 O',\n",
       " 'aa 221-01 11146 11148 O',\n",
       " 'aa 221-01 11149 11151 O',\n",
       " 'aa 221-01 11152 11154 O',\n",
       " 'aa 221-01 11155 11157 O',\n",
       " 'aa 221-01 11158 11160 O',\n",
       " 'aa 221-01 11161 11163 O',\n",
       " 'aa 221-01 11164 11166 O',\n",
       " 'aa 221-01 11167 11169 O',\n",
       " 'aa 221-01 11170 11172 O',\n",
       " 'aa 221-01 11173 11175 O',\n",
       " 'aa 221-01 11176 11178 O',\n",
       " 'aa 221-01 11179 11181 O',\n",
       " 'aaaa 221-01 11182 11186 O',\n",
       " 'aa 221-01 11187 11189 O',\n",
       " 'aa 221-01 11190 11192 O',\n",
       " 'aa 221-01 11193 11195 O',\n",
       " 'aa 221-01 11196 11198 O',\n",
       " 'aa 221-01 11199 11201 O',\n",
       " 'aa 221-01 11202 11204 O',\n",
       " 'aa 221-01 11205 11207 O',\n",
       " 'aa 221-01 11208 11210 O',\n",
       " 'aa 221-01 11211 11213 O',\n",
       " 'aa 221-01 11214 11216 O',\n",
       " 'aa 221-01 11217 11219 O',\n",
       " 'aa 221-01 11220 11222 O',\n",
       " 'aa 221-01 11223 11225 O',\n",
       " 'aa 221-01 11226 11228 O',\n",
       " 'aa 221-01 11229 11231 O',\n",
       " 'aa 221-01 11232 11234 O',\n",
       " 'aa 221-01 11235 11237 O',\n",
       " 'aa 221-01 11238 11240 O',\n",
       " 'aa 221-01 11241 11243 O',\n",
       " 'aa 221-01 11244 11246 O',\n",
       " 'aa 221-01 11247 11249 O',\n",
       " 'aa 221-01 11250 11252 O',\n",
       " 'aa 221-01 11253 11255 O',\n",
       " 'aaaa 221-01 11256 11260 O',\n",
       " 'aa 221-01 11261 11263 O',\n",
       " 'aa 221-01 11264 11266 O',\n",
       " 'aa 221-01 11267 11269 O',\n",
       " 'aa 221-01 11270 11272 O',\n",
       " 'aa 221-01 11273 11275 O',\n",
       " 'aa 221-01 11276 11278 O',\n",
       " 'aa 221-01 11279 11281 O',\n",
       " 'aa 221-01 11282 11284 O',\n",
       " 'aa 221-01 11285 11287 O',\n",
       " 'aa 221-01 11288 11290 O',\n",
       " 'aa 221-01 11291 11293 O',\n",
       " 'aa 221-01 11294 11296 O',\n",
       " 'aa 221-01 11297 11299 O',\n",
       " 'aa 221-01 11300 11302 O',\n",
       " 'aa 221-01 11303 11305 O',\n",
       " 'aa 221-01 11306 11308 O',\n",
       " 'aa 221-01 11309 11311 O',\n",
       " 'aa 221-01 11312 11314 O',\n",
       " 'aa 221-01 11315 11317 O',\n",
       " 'aa 221-01 11318 11320 O',\n",
       " 'aa 221-01 11321 11323 O',\n",
       " 'aa 221-01 11324 11326 O',\n",
       " 'aa 221-01 11327 11329 O',\n",
       " 'aaaa 221-01 11330 11334 O',\n",
       " 'aa 221-01 11335 11337 O',\n",
       " 'aa 221-01 11338 11340 O',\n",
       " 'aa 221-01 11341 11343 O',\n",
       " 'aa 221-01 11344 11346 O',\n",
       " 'aa 221-01 11347 11349 O',\n",
       " 'aa 221-01 11350 11352 O',\n",
       " 'aa 221-01 11353 11355 O',\n",
       " 'aa 221-01 11356 11358 O',\n",
       " 'aa 221-01 11359 11361 O',\n",
       " 'aa 221-01 11362 11364 O',\n",
       " 'aa 221-01 11365 11367 O',\n",
       " 'aa 221-01 11368 11370 O',\n",
       " 'aa 221-01 11371 11373 O',\n",
       " 'aa 221-01 11374 11376 O',\n",
       " 'aa 221-01 11377 11379 O',\n",
       " 'aa 221-01 11380 11382 O',\n",
       " 'aa 221-01 11383 11385 O',\n",
       " 'aa 221-01 11386 11388 O',\n",
       " 'aa 221-01 11389 11391 O',\n",
       " 'aa 221-01 11392 11394 O',\n",
       " 'aa 221-01 11395 11397 O',\n",
       " 'aa 221-01 11398 11400 O',\n",
       " 'aa 221-01 11401 11403 O',\n",
       " 'aaaa 221-01 11404 11408 O',\n",
       " 'aa 221-01 11409 11411 O',\n",
       " 'aa 221-01 11412 11414 O',\n",
       " 'aa 221-01 11415 11417 O',\n",
       " 'aa 221-01 11418 11420 O',\n",
       " 'aa 221-01 11421 11423 O',\n",
       " 'aa 221-01 11424 11426 O',\n",
       " 'aa 221-01 11427 11429 O',\n",
       " 'aa 221-01 11430 11432 O',\n",
       " 'aa 221-01 11433 11435 O',\n",
       " 'aa 221-01 11436 11438 O',\n",
       " 'aa 221-01 11439 11441 O',\n",
       " 'aa 221-01 11442 11444 O',\n",
       " 'aa 221-01 11445 11447 O',\n",
       " 'aa 221-01 11448 11450 O',\n",
       " 'aa 221-01 11451 11453 O',\n",
       " 'aa 221-01 11454 11456 O',\n",
       " 'aa 221-01 11457 11459 O',\n",
       " 'aa 221-01 11460 11462 O',\n",
       " 'aa 221-01 11463 11465 O',\n",
       " 'aa 221-01 11466 11468 O',\n",
       " 'aa 221-01 11469 11471 O',\n",
       " 'aa 221-01 11472 11474 O',\n",
       " 'aa 221-01 11475 11477 O',\n",
       " 'aaaa 221-01 11478 11482 O',\n",
       " 'aa 221-01 11483 11485 O',\n",
       " 'aa 221-01 11486 11488 O',\n",
       " 'aa 221-01 11489 11491 O',\n",
       " 'aa 221-01 11492 11494 O',\n",
       " 'aa 221-01 11495 11497 O',\n",
       " 'aa 221-01 11498 11500 O',\n",
       " 'aa 221-01 11501 11503 O',\n",
       " 'aa 221-01 11504 11506 O',\n",
       " 'aa 221-01 11507 11509 O',\n",
       " 'aa 221-01 11510 11512 O',\n",
       " 'aa 221-01 11513 11515 O',\n",
       " 'aa 221-01 11516 11518 O',\n",
       " 'aa 221-01 11519 11521 O',\n",
       " 'aa 221-01 11522 11524 O',\n",
       " 'aa 221-01 11525 11527 O',\n",
       " 'aa 221-01 11528 11530 O',\n",
       " 'aa 221-01 11531 11533 O',\n",
       " 'aa 221-01 11534 11536 O',\n",
       " 'aa 221-01 11537 11539 O',\n",
       " 'aa 221-01 11540 11542 O',\n",
       " 'aa 221-01 11543 11545 O',\n",
       " 'aa 221-01 11546 11548 O',\n",
       " 'aa 221-01 11549 11551 O',\n",
       " 'aaaa 221-01 11552 11556 O',\n",
       " 'aa 221-01 11557 11559 O',\n",
       " 'aa 221-01 11560 11562 O',\n",
       " 'aa 221-01 11563 11565 O',\n",
       " 'aa 221-01 11566 11568 O',\n",
       " 'aa 221-01 11569 11571 O',\n",
       " 'aa 221-01 11572 11574 O',\n",
       " 'aa 221-01 11575 11577 O',\n",
       " 'aa 221-01 11578 11580 O',\n",
       " 'aa 221-01 11581 11583 O',\n",
       " 'aa 221-01 11584 11586 O',\n",
       " 'aa 221-01 11587 11589 O',\n",
       " 'aa 221-01 11590 11592 O',\n",
       " 'aa 221-01 11593 11595 O',\n",
       " 'aa 221-01 11596 11598 O',\n",
       " 'aa 221-01 11599 11601 O',\n",
       " 'aa 221-01 11602 11604 O',\n",
       " 'aa 221-01 11605 11607 O',\n",
       " 'aa 221-01 11608 11610 O',\n",
       " 'aa 221-01 11611 11613 O',\n",
       " 'aa 221-01 11614 11616 O',\n",
       " 'aa 221-01 11617 11619 O',\n",
       " 'aa 221-01 11620 11622 O',\n",
       " 'aa 221-01 11623 11625 O',\n",
       " 'aaaa 221-01 11626 11630 O',\n",
       " 'aa 221-01 11631 11633 O',\n",
       " 'aa 221-01 11634 11636 O',\n",
       " 'aa 221-01 11637 11639 O',\n",
       " 'aa 221-01 11640 11642 O',\n",
       " 'aa 221-01 11643 11645 O',\n",
       " 'aa 221-01 11646 11648 O',\n",
       " 'aa 221-01 11649 11651 O',\n",
       " 'aa 221-01 11652 11654 O',\n",
       " 'aa 221-01 11655 11657 O',\n",
       " 'aa 221-01 11658 11660 O',\n",
       " 'aa 221-01 11661 11663 O',\n",
       " 'aa 221-01 11664 11666 O',\n",
       " 'aa 221-01 11667 11669 O',\n",
       " 'aa 221-01 11670 11672 O',\n",
       " 'aa 221-01 11673 11675 O',\n",
       " 'aa 221-01 11676 11678 O',\n",
       " 'aa 221-01 11679 11681 O',\n",
       " 'aa 221-01 11682 11684 O',\n",
       " 'aa 221-01 11685 11687 O',\n",
       " 'aa 221-01 11688 11690 O',\n",
       " 'aa 221-01 11691 11693 O',\n",
       " 'aa 221-01 11694 11696 O',\n",
       " 'aa 221-01 11697 11699 O',\n",
       " 'aa 221-01 11700 11702 O']"
      ]
     },
     "execution_count": 74,
     "metadata": {},
     "output_type": "execute_result"
    }
   ],
   "source": [
    "TokFil00[169].split(\"\\n\")"
   ]
  },
  {
   "cell_type": "code",
   "execution_count": 72,
   "metadata": {},
   "outputs": [
    {
     "data": {
      "text/plain": [
       "[169,\n",
       " 221,\n",
       " 262,\n",
       " 311,\n",
       " 352,\n",
       " 389,\n",
       " 436,\n",
       " 469,\n",
       " 557,\n",
       " 642,\n",
       " 734,\n",
       " 830,\n",
       " 919,\n",
       " 1031,\n",
       " 1196,\n",
       " 1251,\n",
       " 1365,\n",
       " 1453,\n",
       " 1479,\n",
       " 1504,\n",
       " 1533,\n",
       " 1571,\n",
       " 1660,\n",
       " 1705,\n",
       " 1785,\n",
       " 1848,\n",
       " 1879,\n",
       " 1964,\n",
       " 2038,\n",
       " 2095,\n",
       " 2142,\n",
       " 2169,\n",
       " 2212,\n",
       " 2269,\n",
       " 2303,\n",
       " 2452,\n",
       " 2498,\n",
       " 2539,\n",
       " 2574,\n",
       " 2613,\n",
       " 2702,\n",
       " 2853,\n",
       " 2873,\n",
       " 2934,\n",
       " 3033,\n",
       " 3222,\n",
       " 3358,\n",
       " 3386,\n",
       " 3519,\n",
       " 3552,\n",
       " 3671,\n",
       " 3799,\n",
       " 3834,\n",
       " 4013,\n",
       " 4050,\n",
       " 4119,\n",
       " 4185,\n",
       " 4218,\n",
       " 4251,\n",
       " 4317,\n",
       " 4591,\n",
       " 4674,\n",
       " 4728,\n",
       " 4778,\n",
       " 4840,\n",
       " 4916,\n",
       " 4971,\n",
       " 5003,\n",
       " 5033,\n",
       " 5103,\n",
       " 5136,\n",
       " 5182,\n",
       " 5228,\n",
       " 5340,\n",
       " 5376,\n",
       " 5481,\n",
       " 5568,\n",
       " 5601,\n",
       " 5639,\n",
       " 5738,\n",
       " 5881,\n",
       " 5903,\n",
       " 6016,\n",
       " 6035,\n",
       " 6078,\n",
       " 6112,\n",
       " 6153,\n",
       " 6174,\n",
       " 6209,\n",
       " 6268,\n",
       " 6349,\n",
       " 6393,\n",
       " 6505,\n",
       " 6660,\n",
       " 6732,\n",
       " 6766,\n",
       " 6835,\n",
       " 6880,\n",
       " 7059,\n",
       " 7128,\n",
       " 7179,\n",
       " 7214,\n",
       " 7298,\n",
       " 7357,\n",
       " 7419,\n",
       " 7455,\n",
       " 7503,\n",
       " 7573,\n",
       " 7590,\n",
       " 7630,\n",
       " 7725,\n",
       " 7765,\n",
       " 7791,\n",
       " 7858,\n",
       " 7909,\n",
       " 7953,\n",
       " 7981,\n",
       " 8068,\n",
       " 8152,\n",
       " 8250,\n",
       " 8377,\n",
       " 8483,\n",
       " 8565,\n",
       " 8618,\n",
       " 8792,\n",
       " 8880,\n",
       " 8916,\n",
       " 8950,\n",
       " 9046,\n",
       " 9110,\n",
       " 9254,\n",
       " 9397,\n",
       " 9455,\n",
       " 9489,\n",
       " 9526,\n",
       " 9564,\n",
       " 9629,\n",
       " 9651,\n",
       " 9732,\n",
       " 9791,\n",
       " 9830,\n",
       " 9944,\n",
       " 10009,\n",
       " 10136,\n",
       " 10188,\n",
       " 10223,\n",
       " 10281,\n",
       " 10336,\n",
       " 10378,\n",
       " 10455,\n",
       " 10518,\n",
       " 10634,\n",
       " 10715,\n",
       " 10754,\n",
       " 10825,\n",
       " 10876,\n",
       " 10938,\n",
       " 10952,\n",
       " 11014,\n",
       " 11057,\n",
       " 11102,\n",
       " 11158,\n",
       " 11261,\n",
       " 11537,\n",
       " 11601,\n",
       " 11677,\n",
       " 11840,\n",
       " 11899,\n",
       " 11947,\n",
       " 12005,\n",
       " 12079,\n",
       " 12140,\n",
       " 12197,\n",
       " 12221,\n",
       " 12264,\n",
       " 12440,\n",
       " 12530,\n",
       " 12591,\n",
       " 12765,\n",
       " 12847,\n",
       " 12900,\n",
       " 12944,\n",
       " 12997,\n",
       " 13057,\n",
       " 13083,\n",
       " 13117,\n",
       " 13182,\n",
       " 13305,\n",
       " 13357,\n",
       " 13413,\n",
       " 13466,\n",
       " 13524,\n",
       " 13568,\n",
       " 13612,\n",
       " 13657,\n",
       " 13727,\n",
       " 13807,\n",
       " 13962,\n",
       " 14115,\n",
       " 14214,\n",
       " 14283,\n",
       " 14392,\n",
       " 14524,\n",
       " 14619,\n",
       " 14679,\n",
       " 14755,\n",
       " 14781,\n",
       " 14830,\n",
       " 14872,\n",
       " 15063,\n",
       " 15158,\n",
       " 15319,\n",
       " 15425,\n",
       " 15653,\n",
       " 15686,\n",
       " 15716,\n",
       " 15784,\n",
       " 15868,\n",
       " 15932,\n",
       " 15977,\n",
       " 16037,\n",
       " 16077,\n",
       " 16131,\n",
       " 16170,\n",
       " 16216,\n",
       " 16261,\n",
       " 16295,\n",
       " 16347,\n",
       " 16420,\n",
       " 16445,\n",
       " 16485,\n",
       " 16545,\n",
       " 16583,\n",
       " 16648,\n",
       " 16734,\n",
       " 16782,\n",
       " 16832,\n",
       " 16887,\n",
       " 16957,\n",
       " 17134,\n",
       " 17185,\n",
       " 17308,\n",
       " 17680,\n",
       " 17777,\n",
       " 17878,\n",
       " 17944,\n",
       " 18013,\n",
       " 18095,\n",
       " 18126,\n",
       " 18158,\n",
       " 18206,\n",
       " 18262,\n",
       " 18453,\n",
       " 18556,\n",
       " 18670,\n",
       " 18827,\n",
       " 18893,\n",
       " 18931,\n",
       " 18970,\n",
       " 19019,\n",
       " 19100,\n",
       " 19170,\n",
       " 19221,\n",
       " 19273,\n",
       " 19348,\n",
       " 19432,\n",
       " 19577,\n",
       " 19702,\n",
       " 19830,\n",
       " 19942,\n",
       " 20095,\n",
       " 20141,\n",
       " 20269,\n",
       " 20355,\n",
       " 20390,\n",
       " 20432,\n",
       " 20484,\n",
       " 20526,\n",
       " 20568,\n",
       " 20671,\n",
       " 20717,\n",
       " 20860,\n",
       " 21023,\n",
       " 21265,\n",
       " 21509,\n",
       " 21631,\n",
       " 21679,\n",
       " 21722,\n",
       " 21791,\n",
       " 21885,\n",
       " 21981,\n",
       " 22085,\n",
       " 22245,\n",
       " 22344,\n",
       " 22396,\n",
       " 22489,\n",
       " 22595,\n",
       " 22640,\n",
       " 22763,\n",
       " 22820,\n",
       " 22911,\n",
       " 22992,\n",
       " 23019,\n",
       " 23056,\n",
       " 23146,\n",
       " 23195,\n",
       " 23294,\n",
       " 23399,\n",
       " 23485,\n",
       " 23618,\n",
       " 23700,\n",
       " 23759,\n",
       " 23831,\n",
       " 23880,\n",
       " 23985,\n",
       " 24058,\n",
       " 24091,\n",
       " 24166,\n",
       " 24223,\n",
       " 24311,\n",
       " 24366,\n",
       " 24443,\n",
       " 24482,\n",
       " 24552,\n",
       " 24618,\n",
       " 24670,\n",
       " 24800,\n",
       " 24863,\n",
       " 24963,\n",
       " 25037,\n",
       " 25081,\n",
       " 25146,\n",
       " 25279,\n",
       " 25427,\n",
       " 25483,\n",
       " 25522,\n",
       " 25557,\n",
       " 25681,\n",
       " 25725,\n",
       " 25801,\n",
       " 25957,\n",
       " 26018,\n",
       " 26045,\n",
       " 26092,\n",
       " 26125,\n",
       " 26206,\n",
       " 26271,\n",
       " 26385,\n",
       " 26446,\n",
       " 26511,\n",
       " 26550,\n",
       " 26607,\n",
       " 26652,\n",
       " 26747,\n",
       " 26824,\n",
       " 26877,\n",
       " 27002,\n",
       " 27152,\n",
       " 27212,\n",
       " 27274,\n",
       " 27307,\n",
       " 27343,\n",
       " 27423,\n",
       " 27519,\n",
       " 27560,\n",
       " 27601,\n",
       " 27626,\n",
       " 27718,\n",
       " 27825,\n",
       " 27873,\n",
       " 27934,\n",
       " 27981,\n",
       " 28016,\n",
       " 28054,\n",
       " 28097,\n",
       " 28147,\n",
       " 28229,\n",
       " 28247,\n",
       " 28328,\n",
       " 28398,\n",
       " 28516,\n",
       " 28589,\n",
       " 28695,\n",
       " 28896,\n",
       " 28994,\n",
       " 29131,\n",
       " 29288,\n",
       " 29346,\n",
       " 29391,\n",
       " 29462,\n",
       " 29600,\n",
       " 29712,\n",
       " 29772,\n",
       " 29894,\n",
       " 29958,\n",
       " 29988,\n",
       " 30080,\n",
       " 30106,\n",
       " 30161,\n",
       " 30257,\n",
       " 30304,\n",
       " 30386,\n",
       " 30464,\n",
       " 30550,\n",
       " 30645,\n",
       " 30741]"
      ]
     },
     "execution_count": 72,
     "metadata": {},
     "output_type": "execute_result"
    }
   ],
   "source": [
    "C00breaks"
   ]
  },
  {
   "cell_type": "code",
   "execution_count": null,
   "metadata": {},
   "outputs": [],
   "source": []
  }
 ],
 "metadata": {
  "kernelspec": {
   "display_name": "Python 3",
   "language": "python",
   "name": "python3"
  },
  "language_info": {
   "codemirror_mode": {
    "name": "ipython",
    "version": 3
   },
   "file_extension": ".py",
   "mimetype": "text/x-python",
   "name": "python",
   "nbconvert_exporter": "python",
   "pygments_lexer": "ipython3",
   "version": "3.6.8"
  }
 },
 "nbformat": 4,
 "nbformat_minor": 2
}
