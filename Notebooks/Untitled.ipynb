{
 "cells": [
  {
   "cell_type": "code",
   "execution_count": null,
   "metadata": {},
   "outputs": [],
   "source": [
    "/home/sseyedi/Work/vmCheckNeuroner/test1/runcode.txt\n",
    "\n",
    "/home/sseyedi/Work/vm2CheckNeuroner/TEST/trained_shadows\n",
    "\n",
    "\n",
    "SEPERATOR = \"aa aa aa aa aa aa aa aa aa aa aa aa aa aa aa aa aa aa aa aa aa aa aa aa aa\"\n",
    "SEPERATOR2=$SEPERATOR\" \"$SEPERATOR\" \"$SEPERATOR\" \"$SEPERATOR\" \"\n",
    "for f in *.txt;do echo -ne \"\\n . \\n\\n\"$SEPERATOR2$SEPERATOR2$SEPERATOR2$SEPERATOR2 >> $f; done\n",
    "\n",
    "egrep -lr \"PATIENT\" * >> trainlistwithpatient.txt\n",
    "sed -e s/xml//g -i trainlistwithpatient.txt \n",
    "for f in *;grep -q -F ${f%.*} trainlistwithpatient.txt ||  rm \"$file\" ;done\n",
    "\n",
    "a fully connected neural network with one hidden layer of size 64\n",
    "with ReLU (rectifier linear units) activation functions and a SoftMax layer"
   ]
  },
  {
   "cell_type": "code",
   "execution_count": 2,
   "metadata": {},
   "outputs": [],
   "source": [
    "import numpy as np"
   ]
  },
  {
   "cell_type": "code",
   "execution_count": 3,
   "metadata": {},
   "outputs": [],
   "source": [
    "C = np.load(\"/home/salman/NeuroNER-master/data/changed_i2b2_2014_deid/TEST/Mr1mainSalmanCCCtest.npy\")\n",
    "A = np.load(\"/home/salman/NeuroNER-master/data/changed_i2b2_2014_deid/TEST/Mr1mainSalmanUnary_scorestest.npy\")\n",
    "Tr= np.load(\"/home/salman/NeuroNER-master/data/changed_i2b2_2014_deid/TEST/Mr1True_Labels.npy\")\n",
    "OutA = np.load(\"/home/salman/NeuroNER-master/data/changed_i2b2_2014_deid/TEST/OutMr1mainSalmanUnary_scorestest.npy\")\n",
    "OutC = np.load(\"/home/salman/NeuroNER-master/data/changed_i2b2_2014_deid/TEST/OutMr1mainSalmanCCCtest.npy\")\n",
    "OutTrue = np.load(\"/home/salman/NeuroNER-master/data/changed_i2b2_2014_deid/TEST/OutMr1True_Labels.npy\")"
   ]
  },
  {
   "cell_type": "code",
   "execution_count": 4,
   "metadata": {},
   "outputs": [
    {
     "data": {
      "text/plain": [
       "((444178,), (49313,), (49313,), (444178,), (49314,), (49314,))"
      ]
     },
     "execution_count": 4,
     "metadata": {},
     "output_type": "execute_result"
    }
   ],
   "source": [
    "Tr.shape,A.shape,C.shape,OutTrue.shape,OutA.shape,OutC.shape"
   ]
  },
  {
   "cell_type": "code",
   "execution_count": 6,
   "metadata": {},
   "outputs": [
    {
     "data": {
      "text/plain": [
       "((444178,), (30, 93), (49313,))"
      ]
     },
     "execution_count": 6,
     "metadata": {},
     "output_type": "execute_result"
    }
   ],
   "source": [
    "Tr.shape,A[0].shape,C.shape"
   ]
  },
  {
   "cell_type": "code",
   "execution_count": 7,
   "metadata": {},
   "outputs": [
    {
     "ename": "KeyboardInterrupt",
     "evalue": "",
     "output_type": "error",
     "traceback": [
      "\u001b[0;31m---------------------------------------------------------------------------\u001b[0m",
      "\u001b[0;31mKeyboardInterrupt\u001b[0m                         Traceback (most recent call last)",
      "\u001b[0;32m<ipython-input-7-35e5020a8398>\u001b[0m in \u001b[0;36m<module>\u001b[0;34m()\u001b[0m\n\u001b[1;32m      2\u001b[0m \u001b[0mAA\u001b[0m\u001b[0;34m.\u001b[0m\u001b[0mshape\u001b[0m\u001b[0;34m\u001b[0m\u001b[0;34m\u001b[0m\u001b[0m\n\u001b[1;32m      3\u001b[0m \u001b[0;32mfor\u001b[0m \u001b[0mt\u001b[0m \u001b[0;32min\u001b[0m \u001b[0mA\u001b[0m\u001b[0;34m:\u001b[0m\u001b[0;34m\u001b[0m\u001b[0;34m\u001b[0m\u001b[0m\n\u001b[0;32m----> 4\u001b[0;31m     \u001b[0mAA\u001b[0m \u001b[0;34m=\u001b[0m \u001b[0mnp\u001b[0m\u001b[0;34m.\u001b[0m\u001b[0mvstack\u001b[0m\u001b[0;34m(\u001b[0m\u001b[0;34m(\u001b[0m\u001b[0mAA\u001b[0m\u001b[0;34m,\u001b[0m\u001b[0mt\u001b[0m\u001b[0;34m)\u001b[0m\u001b[0;34m)\u001b[0m\u001b[0;34m\u001b[0m\u001b[0;34m\u001b[0m\u001b[0m\n\u001b[0m",
      "\u001b[0;32m/usr/local/lib64/python3.6/site-packages/numpy/core/shape_base.py\u001b[0m in \u001b[0;36mvstack\u001b[0;34m(tup)\u001b[0m\n\u001b[1;32m    281\u001b[0m     \"\"\"\n\u001b[1;32m    282\u001b[0m     \u001b[0m_warn_for_nonsequence\u001b[0m\u001b[0;34m(\u001b[0m\u001b[0mtup\u001b[0m\u001b[0;34m)\u001b[0m\u001b[0;34m\u001b[0m\u001b[0;34m\u001b[0m\u001b[0m\n\u001b[0;32m--> 283\u001b[0;31m     \u001b[0;32mreturn\u001b[0m \u001b[0m_nx\u001b[0m\u001b[0;34m.\u001b[0m\u001b[0mconcatenate\u001b[0m\u001b[0;34m(\u001b[0m\u001b[0;34m[\u001b[0m\u001b[0matleast_2d\u001b[0m\u001b[0;34m(\u001b[0m\u001b[0m_m\u001b[0m\u001b[0;34m)\u001b[0m \u001b[0;32mfor\u001b[0m \u001b[0m_m\u001b[0m \u001b[0;32min\u001b[0m \u001b[0mtup\u001b[0m\u001b[0;34m]\u001b[0m\u001b[0;34m,\u001b[0m \u001b[0;36m0\u001b[0m\u001b[0;34m)\u001b[0m\u001b[0;34m\u001b[0m\u001b[0;34m\u001b[0m\u001b[0m\n\u001b[0m\u001b[1;32m    284\u001b[0m \u001b[0;34m\u001b[0m\u001b[0m\n\u001b[1;32m    285\u001b[0m \u001b[0;34m\u001b[0m\u001b[0m\n",
      "\u001b[0;31mKeyboardInterrupt\u001b[0m: "
     ]
    }
   ],
   "source": [
    "AA = np.zeros(93).reshape((1,93))\n",
    "AA.shape\n",
    "for t in A:\n",
    "    AA = np.vstack((AA,t))"
   ]
  },
  {
   "cell_type": "code",
   "execution_count": null,
   "metadata": {},
   "outputs": [],
   "source": [
    "AAA = np.delete(AA,0,axis=0)"
   ]
  },
  {
   "cell_type": "code",
   "execution_count": 21,
   "metadata": {},
   "outputs": [],
   "source": [
    "p=0\n",
    "for i in OutA:\n",
    "    p+=i.shape[0]"
   ]
  },
  {
   "cell_type": "code",
   "execution_count": 22,
   "metadata": {},
   "outputs": [
    {
     "data": {
      "text/plain": [
       "(10, 93)"
      ]
     },
     "execution_count": 22,
     "metadata": {},
     "output_type": "execute_result"
    }
   ],
   "source": [
    "i.shape"
   ]
  },
  {
   "cell_type": "code",
   "execution_count": 23,
   "metadata": {},
   "outputs": [
    {
     "data": {
      "text/plain": [
       "(6162,)"
      ]
     },
     "execution_count": 23,
     "metadata": {},
     "output_type": "execute_result"
    }
   ],
   "source": [
    "Tr.shape"
   ]
  },
  {
   "cell_type": "code",
   "execution_count": 24,
   "metadata": {},
   "outputs": [
    {
     "data": {
      "text/plain": [
       "444178"
      ]
     },
     "execution_count": 24,
     "metadata": {},
     "output_type": "execute_result"
    }
   ],
   "source": [
    "p"
   ]
  },
  {
   "cell_type": "code",
   "execution_count": 10,
   "metadata": {},
   "outputs": [],
   "source": [
    "AA = np.concatenate(A,axis=0)"
   ]
  },
  {
   "cell_type": "code",
   "execution_count": 11,
   "metadata": {},
   "outputs": [
    {
     "data": {
      "text/plain": [
       "(444178, 93)"
      ]
     },
     "execution_count": 11,
     "metadata": {},
     "output_type": "execute_result"
    }
   ],
   "source": [
    "AA.shape"
   ]
  },
  {
   "cell_type": "code",
   "execution_count": 12,
   "metadata": {},
   "outputs": [
    {
     "data": {
      "text/plain": [
       "(444178,)"
      ]
     },
     "execution_count": 12,
     "metadata": {},
     "output_type": "execute_result"
    }
   ],
   "source": [
    "np.concatenate(C,axis=0).shape"
   ]
  },
  {
   "cell_type": "code",
   "execution_count": null,
   "metadata": {},
   "outputs": [],
   "source": [
    "import numpy as np\n",
    "train15=np.ones((1,94))\n",
    "for i in (1,2):#,3,4,5,6,7,8,9,10):\n",
    "    OutTrue = np.load(\"outsides/OutMr%sTrue_Labels.npy\"%i)\n",
    "    OutA = np.load(\"outsides/OutMr%smainSalmanUnary_scorestest.npy\"%i,allow_pickle=True)\n",
    "    OutC = np.load(\"outsides/OutMr%smainSalmanCCCtest.npy\"%i,allow_pickle=True)\n",
    "    Trues = np.load(\"originals/Mr%sTrue_Labels.npy\"%i)\n",
    "    A = np.load(\"originals/Mr%smainSalmanUnary_scorestest.npy\"%i,allow_pickle=True)\n",
    "    C = np.load(\"originals/Mr%smainSalmanCCCtest.npy\"%i,allow_pickle=True)\n",
    "    #\n",
    "    C=np.concatenate(C,axis=0)\n",
    "    OutC = np.concatenate(OutC,axis=0)\n",
    "    A = np.concatenate(A,axis=0)\n",
    "    OutA = np.concatenate(OutA,axis=0)\n",
    "    assert((Trues!=OutTrue).any())\n",
    "    mask15 = Trues==15\n",
    "    mask38 = Trues==38\n",
    "    mask61 = Trues==61\n",
    "    mask85 = Trues==85\n",
    "    #\n",
    "    n15A = np.append(A[mask15],OutA[mask15],axis=0)\n",
    "    n15C = np.append(C[mask15],OutC[mask15],axis=0)\n",
    "    n15labels = np.append(np.ones(C[mask15].shape[0]),np.zeros(OutC[mask15].shape[0]))\n",
    "    n15C = n15C.reshape((n15C.shape[0],1))\n",
    "    train15=np.append(train15,np.hstack((n15A,n15C)),axis=0)\n",
    "train15 = np.delete(train15,0,axis=0)\n",
    "#\n",
    "OutTrue = np.load(\"outsides/OutMr%sTrue_Labels.npy\"%i)\n",
    "OutA = np.load(\"outsides/OutMr%smainSalmanUnary_scorestest.npy\"%i,allow_pickle=True)\n",
    "OutC = np.load(\"outsides/OutMr%smainSalmanCCCtest.npy\"%i,allow_pickle=True)\n",
    "Trues = np.load(\"originals/Mr%sTrue_Labels.npy\"%i)\n",
    "A = np.load(\"originals/Mr%smainSalmanUnary_scorestest.npy\"%i,allow_pickle=True)\n",
    "C = np.load(\"originals/Mr%smainSalmanCCCtest.npy\"%i,allow_pickle=True)\n",
    "#\n",
    "C=np.concatenate(C,axis=0)\n",
    "OutC = np.concatenate(OutC,axis=0)\n",
    "A = np.concatenate(A,axis=0)\n",
    "OutA = np.concatenate(OutA,axis=0)\n",
    "assert((Trues!=OutTrue).any())\n",
    "mask15 = Trues==15\n",
    "mask38 = Trues==38\n",
    "mask61 = Trues==61\n",
    "mask85 = Trues==85\n",
    "#\n",
    "n15A = np.append(A[mask15],OutA[mask15],axis=0)\n",
    "n15C = np.append(C[mask15],OutC[mask15],axis=0)\n",
    "testn15labels = np.append(np.ones(C[mask15].shape[0]),np.zeros(OutC[mask15].shape[0]))\n",
    "n15C = n15C.reshape((n15C.shape[0],1))\n",
    "test15=np.hstack((n15A,n15C))\n",
    "#\n",
    "import tensorflow as tf\n",
    "from tensorflow.keras import Model\n",
    "from tensorflow.keras.layers import Dense\n",
    "#Wprint(tf.__version__)\n",
    "#\n",
    "#train_dataset = tf.data.Dataset.from_tensor_slices((train15,n15labels))\n",
    "train_ds = tf.data.Dataset.from_tensor_slices(\n",
    " (train15, n15labels)).shuffle(10000).batch(32)\n",
    "test_ds = tf.data.Dataset.from_tensor_slices((test15, testn15labels)).batch(32)\n",
    "#\n",
    "#\n",
    "class MyModel(Model):\n",
    "    def __init__(self):\n",
    "        super(MyModel, self).__init__()\n",
    "        self.d1 = Dense(64, activation='relu')\n",
    "        self.d2 = Dense(2, activation='softmax')\n",
    "    def call(self, x):\n",
    "        x = self.d1(x)\n",
    "        return self.d2(x)\n",
    "#\n",
    "# Create an instance of the model\n",
    "model = MyModel()\n",
    "loss_object = tf.keras.losses.BinaryCrossentropy()\n",
    "optimizer = tf.keras.optimizers.SGD()\n",
    "#\n",
    "train_loss = tf.keras.metrics.Mean(name='train_loss')\n",
    "train_accuracy = tf.keras.metrics.Accuracy(name='train_accuracy')\n",
    "#\n",
    "test_loss = tf.keras.metrics.Mean(name='test_loss')\n",
    "test_accuracy = tf.keras.metrics.Accuracy(name='test_accuracy')\n",
    "#\n",
    "@tf.function\n",
    "def train_step(vectors, labels):\n",
    "    with tf.GradientTape() as tape:\n",
    "        predictions = model(vectors)\n",
    "        loss = loss_object(labels, predictions)\n",
    "    gradients = tape.gradient(loss, model.trainable_variables)\n",
    "    optimizer.apply_gradients(zip(gradients, model.trainable_variables))\n",
    "    #\n",
    "    train_loss(loss)\n",
    "    train_accuracy(labels, predictions)\n",
    "#\n",
    "#\n",
    "@tf.function\n",
    "def test_step(vectors, labels):\n",
    "    predictions = model(vectors)\n",
    "    t_loss = loss_object(labels, predictions)\n",
    "    #\n",
    "    test_loss(t_loss)\n",
    "    test_accuracy(labels, predictions)\n",
    "#\n",
    "#\n",
    "EPOCHS = 2\n",
    "#\n",
    "for epoch in range(EPOCHS):\n",
    "    for vectors, labels in train_ds:\n",
    "        train_step(vectors, labels)\n",
    "    #\n",
    "    for test_vectors, test_labels in test_ds:\n",
    "        test_step(test_vectors, test_labels)\n",
    "    #\n",
    "    template = 'Epoch {}, Loss: {}, Accuracy: {}, Test Loss: {}, Test Accuracy: {}'\n",
    "    print(template.format(epoch+1,\\\n",
    "                        train_loss.result(),\\\n",
    "                        train_accuracy.result()*100,\\\n",
    "                        test_loss.result(),\\\n",
    "                        test_accuracy.result()*100))\n",
    "    #\n",
    "    # Reset the metrics for the next epoch\n",
    "    train_loss.reset_states()\n",
    "    train_accuracy.reset_states()\n",
    "    test_loss.reset_states()\n",
    "    test_accuracy.reset_states()"
   ]
  },
  {
   "cell_type": "code",
   "execution_count": null,
   "metadata": {},
   "outputs": [],
   "source": [
    "train_loss = tf.keras.metrics.Mean(name='train_loss')\n",
    "2019-11-06 14:32:05.051805: I tensorflow/core/platform/cpu_feature_guard.cc:142] Your CPU supports instructions that this TensorFlow binary was not compiled to use: FMA\n",
    "2019-11-06 14:32:05.379652: I tensorflow/core/platform/profile_utils/cpu_utils.cc:94] CPU Frequency: 2599960000 Hz\n",
    "2019-11-06 14:32:05.383203: I tensorflow/compiler/xla/service/service.cc:168] XLA service 0x65627a0 executing computations on platform Host. Devices:\n",
    "2019-11-06 14:32:05.383308: I tensorflow/compiler/xla/service/service.cc:175]   StreamExecutor device (0): Host, Default Version\n"
   ]
  },
  {
   "cell_type": "code",
   "execution_count": null,
   "metadata": {},
   "outputs": [],
   "source": []
  },
  {
   "cell_type": "code",
   "execution_count": 10,
   "metadata": {},
   "outputs": [
    {
     "ename": "OSError",
     "evalue": "RE.+ not found.",
     "output_type": "error",
     "traceback": [
      "\u001b[0;31m---------------------------------------------------------------------------\u001b[0m",
      "\u001b[0;31mOSError\u001b[0m                                   Traceback (most recent call last)",
      "\u001b[0;32m<ipython-input-10-7125c06ecfe3>\u001b[0m in \u001b[0;36m<module>\u001b[0;34m()\u001b[0m\n\u001b[0;32m----> 1\u001b[0;31m \u001b[0mnp\u001b[0m\u001b[0;34m.\u001b[0m\u001b[0mloadtxt\u001b[0m\u001b[0;34m(\u001b[0m\u001b[0;34m\"RE.+\"\u001b[0m\u001b[0;34m)\u001b[0m\u001b[0;34m\u001b[0m\u001b[0;34m\u001b[0m\u001b[0m\n\u001b[0m",
      "\u001b[0;32m/usr/local/lib64/python3.6/site-packages/numpy/lib/npyio.py\u001b[0m in \u001b[0;36mloadtxt\u001b[0;34m(fname, dtype, comments, delimiter, converters, skiprows, usecols, unpack, ndmin, encoding, max_rows)\u001b[0m\n\u001b[1;32m    953\u001b[0m             \u001b[0mfname\u001b[0m \u001b[0;34m=\u001b[0m \u001b[0mos_fspath\u001b[0m\u001b[0;34m(\u001b[0m\u001b[0mfname\u001b[0m\u001b[0;34m)\u001b[0m\u001b[0;34m\u001b[0m\u001b[0;34m\u001b[0m\u001b[0m\n\u001b[1;32m    954\u001b[0m         \u001b[0;32mif\u001b[0m \u001b[0m_is_string_like\u001b[0m\u001b[0;34m(\u001b[0m\u001b[0mfname\u001b[0m\u001b[0;34m)\u001b[0m\u001b[0;34m:\u001b[0m\u001b[0;34m\u001b[0m\u001b[0;34m\u001b[0m\u001b[0m\n\u001b[0;32m--> 955\u001b[0;31m             \u001b[0mfh\u001b[0m \u001b[0;34m=\u001b[0m \u001b[0mnp\u001b[0m\u001b[0;34m.\u001b[0m\u001b[0mlib\u001b[0m\u001b[0;34m.\u001b[0m\u001b[0m_datasource\u001b[0m\u001b[0;34m.\u001b[0m\u001b[0mopen\u001b[0m\u001b[0;34m(\u001b[0m\u001b[0mfname\u001b[0m\u001b[0;34m,\u001b[0m \u001b[0;34m'rt'\u001b[0m\u001b[0;34m,\u001b[0m \u001b[0mencoding\u001b[0m\u001b[0;34m=\u001b[0m\u001b[0mencoding\u001b[0m\u001b[0;34m)\u001b[0m\u001b[0;34m\u001b[0m\u001b[0;34m\u001b[0m\u001b[0m\n\u001b[0m\u001b[1;32m    956\u001b[0m             \u001b[0mfencoding\u001b[0m \u001b[0;34m=\u001b[0m \u001b[0mgetattr\u001b[0m\u001b[0;34m(\u001b[0m\u001b[0mfh\u001b[0m\u001b[0;34m,\u001b[0m \u001b[0;34m'encoding'\u001b[0m\u001b[0;34m,\u001b[0m \u001b[0;34m'latin1'\u001b[0m\u001b[0;34m)\u001b[0m\u001b[0;34m\u001b[0m\u001b[0;34m\u001b[0m\u001b[0m\n\u001b[1;32m    957\u001b[0m             \u001b[0mfh\u001b[0m \u001b[0;34m=\u001b[0m \u001b[0miter\u001b[0m\u001b[0;34m(\u001b[0m\u001b[0mfh\u001b[0m\u001b[0;34m)\u001b[0m\u001b[0;34m\u001b[0m\u001b[0;34m\u001b[0m\u001b[0m\n",
      "\u001b[0;32m/usr/local/lib64/python3.6/site-packages/numpy/lib/_datasource.py\u001b[0m in \u001b[0;36mopen\u001b[0;34m(path, mode, destpath, encoding, newline)\u001b[0m\n\u001b[1;32m    264\u001b[0m \u001b[0;34m\u001b[0m\u001b[0m\n\u001b[1;32m    265\u001b[0m     \u001b[0mds\u001b[0m \u001b[0;34m=\u001b[0m \u001b[0mDataSource\u001b[0m\u001b[0;34m(\u001b[0m\u001b[0mdestpath\u001b[0m\u001b[0;34m)\u001b[0m\u001b[0;34m\u001b[0m\u001b[0;34m\u001b[0m\u001b[0m\n\u001b[0;32m--> 266\u001b[0;31m     \u001b[0;32mreturn\u001b[0m \u001b[0mds\u001b[0m\u001b[0;34m.\u001b[0m\u001b[0mopen\u001b[0m\u001b[0;34m(\u001b[0m\u001b[0mpath\u001b[0m\u001b[0;34m,\u001b[0m \u001b[0mmode\u001b[0m\u001b[0;34m,\u001b[0m \u001b[0mencoding\u001b[0m\u001b[0;34m=\u001b[0m\u001b[0mencoding\u001b[0m\u001b[0;34m,\u001b[0m \u001b[0mnewline\u001b[0m\u001b[0;34m=\u001b[0m\u001b[0mnewline\u001b[0m\u001b[0;34m)\u001b[0m\u001b[0;34m\u001b[0m\u001b[0;34m\u001b[0m\u001b[0m\n\u001b[0m\u001b[1;32m    267\u001b[0m \u001b[0;34m\u001b[0m\u001b[0m\n\u001b[1;32m    268\u001b[0m \u001b[0;34m\u001b[0m\u001b[0m\n",
      "\u001b[0;32m/usr/local/lib64/python3.6/site-packages/numpy/lib/_datasource.py\u001b[0m in \u001b[0;36mopen\u001b[0;34m(self, path, mode, encoding, newline)\u001b[0m\n\u001b[1;32m    622\u001b[0m                                       encoding=encoding, newline=newline)\n\u001b[1;32m    623\u001b[0m         \u001b[0;32melse\u001b[0m\u001b[0;34m:\u001b[0m\u001b[0;34m\u001b[0m\u001b[0;34m\u001b[0m\u001b[0m\n\u001b[0;32m--> 624\u001b[0;31m             \u001b[0;32mraise\u001b[0m \u001b[0mIOError\u001b[0m\u001b[0;34m(\u001b[0m\u001b[0;34m\"%s not found.\"\u001b[0m \u001b[0;34m%\u001b[0m \u001b[0mpath\u001b[0m\u001b[0;34m)\u001b[0m\u001b[0;34m\u001b[0m\u001b[0;34m\u001b[0m\u001b[0m\n\u001b[0m\u001b[1;32m    625\u001b[0m \u001b[0;34m\u001b[0m\u001b[0m\n\u001b[1;32m    626\u001b[0m \u001b[0;34m\u001b[0m\u001b[0m\n",
      "\u001b[0;31mOSError\u001b[0m: RE.+ not found."
     ]
    }
   ],
   "source": [
    "np.loadtxt(\"RE.+\")"
   ]
  },
  {
   "cell_type": "code",
   "execution_count": 5,
   "metadata": {},
   "outputs": [
    {
     "name": "stdout",
     "output_type": "stream",
     "text": [
      "\u001b[0m\u001b[38;5;33mDeId\u001b[0m/                                     \u001b[38;5;33mset2\u001b[0m/  \u001b[38;5;33mtesting-PHI-Gold-fixed\u001b[0m/\r\n",
      "neuronerShadow_dataset_preparation.ipynb  \u001b[38;5;33mset3\u001b[0m/  \u001b[38;5;9mtesting-PHI-Gold-fixed.tar.gz\u001b[0m\r\n",
      "\u001b[38;5;33m__pycache__\u001b[0m/                              \u001b[38;5;33mset4\u001b[0m/  \u001b[38;5;33mtraining-PHI-Gold-Set1\u001b[0m/\r\n",
      "readme.md                                 \u001b[38;5;33mset5\u001b[0m/  \u001b[38;5;9mtraining-PHI-Gold-Set1.tar.gz\u001b[0m\r\n",
      "README.txt                                \u001b[38;5;33mset6\u001b[0m/  \u001b[38;5;33mtraining-PHI-Gold-Set2\u001b[0m/\r\n",
      "\u001b[38;5;33mset1\u001b[0m/                                     \u001b[38;5;33mset7\u001b[0m/  \u001b[38;5;9mtraining-PHI-Gold-Set2.tar.gz\u001b[0m\r\n",
      "\u001b[38;5;33mset10\u001b[0m/                                    \u001b[38;5;33mset8\u001b[0m/  Untitled.ipynb\r\n",
      "\u001b[38;5;33mset11\u001b[0m/                                    \u001b[38;5;33mset9\u001b[0m/  xml_to_brat.py\r\n",
      "\u001b[38;5;33mset12\u001b[0m/                                    \u001b[38;5;33mTEST\u001b[0m/\r\n"
     ]
    }
   ],
   "source": [
    "ls"
   ]
  },
  {
   "cell_type": "code",
   "execution_count": null,
   "metadata": {},
   "outputs": [],
   "source": []
  }
 ],
 "metadata": {
  "kernelspec": {
   "display_name": "Python 3",
   "language": "python",
   "name": "python3"
  },
  "language_info": {
   "codemirror_mode": {
    "name": "ipython",
    "version": 3
   },
   "file_extension": ".py",
   "mimetype": "text/x-python",
   "name": "python",
   "nbconvert_exporter": "python",
   "pygments_lexer": "ipython3",
   "version": "3.6.8"
  }
 },
 "nbformat": 4,
 "nbformat_minor": 2
}
